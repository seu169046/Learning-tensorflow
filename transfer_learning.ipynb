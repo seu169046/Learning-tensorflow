{
 "cells": [
  {
   "cell_type": "code",
   "execution_count": 1,
   "metadata": {},
   "outputs": [],
   "source": [
    "import tensorflow as tf\n",
    "from tensorflow import keras\n",
    "import matplotlib.pyplot as plt\n",
    "%matplotlib inline\n",
    "import numpy as np\n",
    "import glob\n",
    "import os"
   ]
  },
  {
   "cell_type": "code",
   "execution_count": 2,
   "metadata": {},
   "outputs": [
    {
     "name": "stdout",
     "output_type": "stream",
     "text": [
      "Tensorflow version: 2.2.0\n"
     ]
    }
   ],
   "source": [
    "print(\"Tensorflow version: {}\".format(tf.__version__))"
   ]
  },
  {
   "cell_type": "code",
   "execution_count": 3,
   "metadata": {},
   "outputs": [
    {
     "name": "stdout",
     "output_type": "stream",
     "text": [
      "WARNING:tensorflow:From <ipython-input-3-17bb7203622b>:1: is_gpu_available (from tensorflow.python.framework.test_util) is deprecated and will be removed in a future version.\n",
      "Instructions for updating:\n",
      "Use `tf.config.list_physical_devices('GPU')` instead.\n"
     ]
    },
    {
     "data": {
      "text/plain": [
       "True"
      ]
     },
     "execution_count": 3,
     "metadata": {},
     "output_type": "execute_result"
    }
   ],
   "source": [
    "tf.test.is_gpu_available()"
   ]
  },
  {
   "cell_type": "code",
   "execution_count": 4,
   "metadata": {},
   "outputs": [],
   "source": [
    "keras = tf.keras\n",
    "layers = tf.keras.layers"
   ]
  },
  {
   "cell_type": "code",
   "execution_count": 5,
   "metadata": {},
   "outputs": [],
   "source": [
    "train_image_path=glob.glob('./data/dc/training_set/*/*.jpg')\n",
    "test_image_path=glob.glob('./data/dc/test_set/*/*.jpg')"
   ]
  },
  {
   "cell_type": "code",
   "execution_count": 6,
   "metadata": {},
   "outputs": [],
   "source": [
    "train_image_label=[int(os.path.basename(p).split('.')[0]=='cat') for p in train_image_path]\n",
    "test_image_label=[int(os.path.basename(p).split('.')[0]=='cat') for p in test_image_path]"
   ]
  },
  {
   "cell_type": "code",
   "execution_count": 7,
   "metadata": {},
   "outputs": [],
   "source": [
    "def load_preprocess_image(path,label):\n",
    "    image = tf.io.read_file(path)\n",
    "    image = tf.image.decode_jpeg(image,channels=3)\n",
    "    image = tf.image.resize(image,[256,256])\n",
    "    image = tf.cast(image, tf.float32)\n",
    "    image = image/255\n",
    "    label = tf.reshape(label,[1])\n",
    "    return image,label"
   ]
  },
  {
   "cell_type": "code",
   "execution_count": 8,
   "metadata": {},
   "outputs": [],
   "source": [
    "train_image_ds=tf.data.Dataset.from_tensor_slices((train_image_path, train_image_label))\n",
    "test_image_ds=tf.data.Dataset.from_tensor_slices((test_image_path, test_image_label))"
   ]
  },
  {
   "cell_type": "code",
   "execution_count": 9,
   "metadata": {},
   "outputs": [],
   "source": [
    "AUTOTUNE=tf.data.experimental.AUTOTUNE\n",
    "train_image_ds=train_image_ds.map(load_preprocess_image,num_parallel_calls=AUTOTUNE)\n",
    "test_image_ds=test_image_ds.map(load_preprocess_image,num_parallel_calls=AUTOTUNE)"
   ]
  },
  {
   "cell_type": "code",
   "execution_count": 10,
   "metadata": {},
   "outputs": [
    {
     "data": {
      "text/plain": [
       "<ParallelMapDataset shapes: ((256, 256, 3), (1,)), types: (tf.float32, tf.int32)>"
      ]
     },
     "execution_count": 10,
     "metadata": {},
     "output_type": "execute_result"
    }
   ],
   "source": [
    "train_image_ds"
   ]
  },
  {
   "cell_type": "code",
   "execution_count": 11,
   "metadata": {},
   "outputs": [],
   "source": [
    "BATCH_SIZE=32\n",
    "train_count = len(train_image_path)\n",
    "test_count = len(test_image_path)\n",
    "\n",
    "train_image_ds=train_image_ds.shuffle(train_count).batch(BATCH_SIZE)\n",
    "train_image_ds=train_image_ds.prefetch(AUTOTUNE).repeat()\n",
    "\n",
    "test_image_ds=test_image_ds.batch(BATCH_SIZE)\n",
    "test_image_ds=test_image_ds.prefetch(AUTOTUNE).repeat()"
   ]
  },
  {
   "cell_type": "code",
   "execution_count": 12,
   "metadata": {},
   "outputs": [],
   "source": [
    "covn_base = keras.applications.VGG16(weights='imagenet',include_top=False)"
   ]
  },
  {
   "cell_type": "code",
   "execution_count": 13,
   "metadata": {},
   "outputs": [
    {
     "name": "stdout",
     "output_type": "stream",
     "text": [
      "Model: \"vgg16\"\n",
      "_________________________________________________________________\n",
      "Layer (type)                 Output Shape              Param #   \n",
      "=================================================================\n",
      "input_1 (InputLayer)         [(None, None, None, 3)]   0         \n",
      "_________________________________________________________________\n",
      "block1_conv1 (Conv2D)        (None, None, None, 64)    1792      \n",
      "_________________________________________________________________\n",
      "block1_conv2 (Conv2D)        (None, None, None, 64)    36928     \n",
      "_________________________________________________________________\n",
      "block1_pool (MaxPooling2D)   (None, None, None, 64)    0         \n",
      "_________________________________________________________________\n",
      "block2_conv1 (Conv2D)        (None, None, None, 128)   73856     \n",
      "_________________________________________________________________\n",
      "block2_conv2 (Conv2D)        (None, None, None, 128)   147584    \n",
      "_________________________________________________________________\n",
      "block2_pool (MaxPooling2D)   (None, None, None, 128)   0         \n",
      "_________________________________________________________________\n",
      "block3_conv1 (Conv2D)        (None, None, None, 256)   295168    \n",
      "_________________________________________________________________\n",
      "block3_conv2 (Conv2D)        (None, None, None, 256)   590080    \n",
      "_________________________________________________________________\n",
      "block3_conv3 (Conv2D)        (None, None, None, 256)   590080    \n",
      "_________________________________________________________________\n",
      "block3_pool (MaxPooling2D)   (None, None, None, 256)   0         \n",
      "_________________________________________________________________\n",
      "block4_conv1 (Conv2D)        (None, None, None, 512)   1180160   \n",
      "_________________________________________________________________\n",
      "block4_conv2 (Conv2D)        (None, None, None, 512)   2359808   \n",
      "_________________________________________________________________\n",
      "block4_conv3 (Conv2D)        (None, None, None, 512)   2359808   \n",
      "_________________________________________________________________\n",
      "block4_pool (MaxPooling2D)   (None, None, None, 512)   0         \n",
      "_________________________________________________________________\n",
      "block5_conv1 (Conv2D)        (None, None, None, 512)   2359808   \n",
      "_________________________________________________________________\n",
      "block5_conv2 (Conv2D)        (None, None, None, 512)   2359808   \n",
      "_________________________________________________________________\n",
      "block5_conv3 (Conv2D)        (None, None, None, 512)   2359808   \n",
      "_________________________________________________________________\n",
      "block5_pool (MaxPooling2D)   (None, None, None, 512)   0         \n",
      "=================================================================\n",
      "Total params: 14,714,688\n",
      "Trainable params: 14,714,688\n",
      "Non-trainable params: 0\n",
      "_________________________________________________________________\n"
     ]
    }
   ],
   "source": [
    "covn_base.summary()"
   ]
  },
  {
   "cell_type": "code",
   "execution_count": 14,
   "metadata": {},
   "outputs": [],
   "source": [
    "model=keras.Sequential()\n",
    "model.add(covn_base)\n",
    "model.add(layers.GlobalAveragePooling2D())\n",
    "model.add(layers.Dense(512,activation='relu'))\n",
    "model.add(layers.Dense(1,activation='sigmoid'))"
   ]
  },
  {
   "cell_type": "code",
   "execution_count": 15,
   "metadata": {},
   "outputs": [
    {
     "name": "stdout",
     "output_type": "stream",
     "text": [
      "Model: \"sequential\"\n",
      "_________________________________________________________________\n",
      "Layer (type)                 Output Shape              Param #   \n",
      "=================================================================\n",
      "vgg16 (Model)                (None, None, None, 512)   14714688  \n",
      "_________________________________________________________________\n",
      "global_average_pooling2d (Gl (None, 512)               0         \n",
      "_________________________________________________________________\n",
      "dense (Dense)                (None, 512)               262656    \n",
      "_________________________________________________________________\n",
      "dense_1 (Dense)              (None, 1)                 513       \n",
      "=================================================================\n",
      "Total params: 14,977,857\n",
      "Trainable params: 14,977,857\n",
      "Non-trainable params: 0\n",
      "_________________________________________________________________\n"
     ]
    }
   ],
   "source": [
    "model.summary()"
   ]
  },
  {
   "cell_type": "code",
   "execution_count": 16,
   "metadata": {},
   "outputs": [],
   "source": [
    "covn_base.trainable=False"
   ]
  },
  {
   "cell_type": "code",
   "execution_count": 17,
   "metadata": {},
   "outputs": [
    {
     "name": "stdout",
     "output_type": "stream",
     "text": [
      "Model: \"sequential\"\n",
      "_________________________________________________________________\n",
      "Layer (type)                 Output Shape              Param #   \n",
      "=================================================================\n",
      "vgg16 (Model)                (None, None, None, 512)   14714688  \n",
      "_________________________________________________________________\n",
      "global_average_pooling2d (Gl (None, 512)               0         \n",
      "_________________________________________________________________\n",
      "dense (Dense)                (None, 512)               262656    \n",
      "_________________________________________________________________\n",
      "dense_1 (Dense)              (None, 1)                 513       \n",
      "=================================================================\n",
      "Total params: 14,977,857\n",
      "Trainable params: 263,169\n",
      "Non-trainable params: 14,714,688\n",
      "_________________________________________________________________\n"
     ]
    }
   ],
   "source": [
    "model.summary()"
   ]
  },
  {
   "cell_type": "code",
   "execution_count": 18,
   "metadata": {},
   "outputs": [],
   "source": [
    "model.compile(optimizer=keras.optimizers.Adam(lr=0.001),\n",
    "             loss='binary_crossentropy',\n",
    "             metrics=['acc'])"
   ]
  },
  {
   "cell_type": "code",
   "execution_count": 19,
   "metadata": {},
   "outputs": [
    {
     "name": "stdout",
     "output_type": "stream",
     "text": [
      "Epoch 1/15\n",
      "250/250 [==============================] - 690s 3s/step - loss: 0.3363 - acc: 0.8541 - val_loss: 0.2249 - val_acc: 0.9062\n",
      "Epoch 2/15\n",
      "250/250 [==============================] - 647s 3s/step - loss: 0.2090 - acc: 0.9143 - val_loss: 0.2133 - val_acc: 0.9082\n",
      "Epoch 3/15\n",
      "250/250 [==============================] - 627s 3s/step - loss: 0.1852 - acc: 0.9197 - val_loss: 0.1893 - val_acc: 0.9157\n",
      "Epoch 4/15\n",
      "250/250 [==============================] - 626s 3s/step - loss: 0.1794 - acc: 0.9261 - val_loss: 0.2102 - val_acc: 0.8983\n",
      "Epoch 5/15\n",
      "250/250 [==============================] - 626s 3s/step - loss: 0.1735 - acc: 0.9269 - val_loss: 0.1827 - val_acc: 0.9187\n",
      "Epoch 6/15\n",
      "250/250 [==============================] - 626s 3s/step - loss: 0.1655 - acc: 0.9328 - val_loss: 0.1691 - val_acc: 0.9266\n",
      "Epoch 7/15\n",
      "250/250 [==============================] - 626s 3s/step - loss: 0.1519 - acc: 0.9385 - val_loss: 0.1774 - val_acc: 0.9241\n",
      "Epoch 8/15\n",
      "250/250 [==============================] - 626s 3s/step - loss: 0.1527 - acc: 0.9355 - val_loss: 0.1855 - val_acc: 0.9201\n",
      "Epoch 9/15\n",
      "250/250 [==============================] - 626s 3s/step - loss: 0.1463 - acc: 0.9395 - val_loss: 0.2102 - val_acc: 0.9067\n",
      "Epoch 10/15\n",
      "250/250 [==============================] - 626s 3s/step - loss: 0.1504 - acc: 0.9372 - val_loss: 0.1684 - val_acc: 0.9286\n",
      "Epoch 11/15\n",
      "250/250 [==============================] - 627s 3s/step - loss: 0.1390 - acc: 0.9412 - val_loss: 0.1661 - val_acc: 0.9311\n",
      "Epoch 12/15\n",
      "250/250 [==============================] - 626s 3s/step - loss: 0.1335 - acc: 0.9463 - val_loss: 0.1905 - val_acc: 0.9191\n",
      "Epoch 13/15\n",
      "250/250 [==============================] - 626s 3s/step - loss: 0.1392 - acc: 0.9428 - val_loss: 0.1749 - val_acc: 0.9236\n",
      "Epoch 14/15\n",
      "250/250 [==============================] - 626s 3s/step - loss: 0.1371 - acc: 0.9443 - val_loss: 0.1719 - val_acc: 0.9246\n",
      "Epoch 15/15\n",
      "250/250 [==============================] - 626s 3s/step - loss: 0.1311 - acc: 0.9481 - val_loss: 0.1718 - val_acc: 0.9296\n"
     ]
    }
   ],
   "source": [
    "with tf.device('/cpu:0'):\n",
    "    history=model.fit(\n",
    "        train_image_ds,\n",
    "        steps_per_epoch=train_count//BATCH_SIZE,\n",
    "        epochs=15,\n",
    "        validation_data=test_image_ds,\n",
    "        validation_steps=test_count//BATCH_SIZE)"
   ]
  },
  {
   "cell_type": "code",
   "execution_count": null,
   "metadata": {},
   "outputs": [],
   "source": []
  }
 ],
 "metadata": {
  "kernelspec": {
   "display_name": "Python 3",
   "language": "python",
   "name": "python3"
  },
  "language_info": {
   "codemirror_mode": {
    "name": "ipython",
    "version": 3
   },
   "file_extension": ".py",
   "mimetype": "text/x-python",
   "name": "python",
   "nbconvert_exporter": "python",
   "pygments_lexer": "ipython3",
   "version": "3.6.10"
  }
 },
 "nbformat": 4,
 "nbformat_minor": 4
}
