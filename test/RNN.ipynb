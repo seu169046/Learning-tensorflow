{
 "cells": [
  {
   "cell_type": "code",
   "execution_count": 4,
   "metadata": {
    "collapsed": true
   },
   "outputs": [],
   "source": [
    "import tensorflow as tf\n",
    "from tensorflow import keras\n",
    "from tensorflow.keras import layers\n",
    "import numpy as np\n",
    "import pandas as pd"
   ]
  },
  {
   "cell_type": "code",
   "execution_count": 5,
   "outputs": [
    {
     "data": {
      "text/plain": "             tweet_id airline_sentiment  airline_sentiment_confidence  \\\n0  570306133677760513           neutral                        1.0000   \n1  570301130888122368          positive                        0.3486   \n2  570301083672813571           neutral                        0.6837   \n3  570301031407624196          negative                        1.0000   \n4  570300817074462722          negative                        1.0000   \n\n  negativereason  negativereason_confidence         airline  \\\n0            NaN                        NaN  Virgin America   \n1            NaN                     0.0000  Virgin America   \n2            NaN                        NaN  Virgin America   \n3     Bad Flight                     0.7033  Virgin America   \n4     Can't Tell                     1.0000  Virgin America   \n\n  airline_sentiment_gold        name negativereason_gold  retweet_count  \\\n0                    NaN     cairdin                 NaN              0   \n1                    NaN    jnardino                 NaN              0   \n2                    NaN  yvonnalynn                 NaN              0   \n3                    NaN    jnardino                 NaN              0   \n4                    NaN    jnardino                 NaN              0   \n\n                                                text tweet_coord  \\\n0                @VirginAmerica What @dhepburn said.         NaN   \n1  @VirginAmerica plus you've added commercials t...         NaN   \n2  @VirginAmerica I didn't today... Must mean I n...         NaN   \n3  @VirginAmerica it's really aggressive to blast...         NaN   \n4  @VirginAmerica and it's a really big bad thing...         NaN   \n\n               tweet_created tweet_location               user_timezone  \n0  2015-02-24 11:35:52 -0800            NaN  Eastern Time (US & Canada)  \n1  2015-02-24 11:15:59 -0800            NaN  Pacific Time (US & Canada)  \n2  2015-02-24 11:15:48 -0800      Lets Play  Central Time (US & Canada)  \n3  2015-02-24 11:15:36 -0800            NaN  Pacific Time (US & Canada)  \n4  2015-02-24 11:14:45 -0800            NaN  Pacific Time (US & Canada)  ",
      "text/html": "<div>\n<style scoped>\n    .dataframe tbody tr th:only-of-type {\n        vertical-align: middle;\n    }\n\n    .dataframe tbody tr th {\n        vertical-align: top;\n    }\n\n    .dataframe thead th {\n        text-align: right;\n    }\n</style>\n<table border=\"1\" class=\"dataframe\">\n  <thead>\n    <tr style=\"text-align: right;\">\n      <th></th>\n      <th>tweet_id</th>\n      <th>airline_sentiment</th>\n      <th>airline_sentiment_confidence</th>\n      <th>negativereason</th>\n      <th>negativereason_confidence</th>\n      <th>airline</th>\n      <th>airline_sentiment_gold</th>\n      <th>name</th>\n      <th>negativereason_gold</th>\n      <th>retweet_count</th>\n      <th>text</th>\n      <th>tweet_coord</th>\n      <th>tweet_created</th>\n      <th>tweet_location</th>\n      <th>user_timezone</th>\n    </tr>\n  </thead>\n  <tbody>\n    <tr>\n      <th>0</th>\n      <td>570306133677760513</td>\n      <td>neutral</td>\n      <td>1.0000</td>\n      <td>NaN</td>\n      <td>NaN</td>\n      <td>Virgin America</td>\n      <td>NaN</td>\n      <td>cairdin</td>\n      <td>NaN</td>\n      <td>0</td>\n      <td>@VirginAmerica What @dhepburn said.</td>\n      <td>NaN</td>\n      <td>2015-02-24 11:35:52 -0800</td>\n      <td>NaN</td>\n      <td>Eastern Time (US &amp; Canada)</td>\n    </tr>\n    <tr>\n      <th>1</th>\n      <td>570301130888122368</td>\n      <td>positive</td>\n      <td>0.3486</td>\n      <td>NaN</td>\n      <td>0.0000</td>\n      <td>Virgin America</td>\n      <td>NaN</td>\n      <td>jnardino</td>\n      <td>NaN</td>\n      <td>0</td>\n      <td>@VirginAmerica plus you've added commercials t...</td>\n      <td>NaN</td>\n      <td>2015-02-24 11:15:59 -0800</td>\n      <td>NaN</td>\n      <td>Pacific Time (US &amp; Canada)</td>\n    </tr>\n    <tr>\n      <th>2</th>\n      <td>570301083672813571</td>\n      <td>neutral</td>\n      <td>0.6837</td>\n      <td>NaN</td>\n      <td>NaN</td>\n      <td>Virgin America</td>\n      <td>NaN</td>\n      <td>yvonnalynn</td>\n      <td>NaN</td>\n      <td>0</td>\n      <td>@VirginAmerica I didn't today... Must mean I n...</td>\n      <td>NaN</td>\n      <td>2015-02-24 11:15:48 -0800</td>\n      <td>Lets Play</td>\n      <td>Central Time (US &amp; Canada)</td>\n    </tr>\n    <tr>\n      <th>3</th>\n      <td>570301031407624196</td>\n      <td>negative</td>\n      <td>1.0000</td>\n      <td>Bad Flight</td>\n      <td>0.7033</td>\n      <td>Virgin America</td>\n      <td>NaN</td>\n      <td>jnardino</td>\n      <td>NaN</td>\n      <td>0</td>\n      <td>@VirginAmerica it's really aggressive to blast...</td>\n      <td>NaN</td>\n      <td>2015-02-24 11:15:36 -0800</td>\n      <td>NaN</td>\n      <td>Pacific Time (US &amp; Canada)</td>\n    </tr>\n    <tr>\n      <th>4</th>\n      <td>570300817074462722</td>\n      <td>negative</td>\n      <td>1.0000</td>\n      <td>Can't Tell</td>\n      <td>1.0000</td>\n      <td>Virgin America</td>\n      <td>NaN</td>\n      <td>jnardino</td>\n      <td>NaN</td>\n      <td>0</td>\n      <td>@VirginAmerica and it's a really big bad thing...</td>\n      <td>NaN</td>\n      <td>2015-02-24 11:14:45 -0800</td>\n      <td>NaN</td>\n      <td>Pacific Time (US &amp; Canada)</td>\n    </tr>\n  </tbody>\n</table>\n</div>"
     },
     "execution_count": 5,
     "metadata": {},
     "output_type": "execute_result"
    }
   ],
   "source": [
    "data = pd.read_csv('data/Tweets.csv')\n",
    "data.head()"
   ],
   "metadata": {
    "collapsed": false,
    "pycharm": {
     "name": "#%%\n"
    }
   }
  },
  {
   "cell_type": "code",
   "execution_count": 6,
   "outputs": [
    {
     "data": {
      "text/plain": "  airline_sentiment                                               text\n0           neutral                @VirginAmerica What @dhepburn said.\n1          positive  @VirginAmerica plus you've added commercials t...\n2           neutral  @VirginAmerica I didn't today... Must mean I n...\n3          negative  @VirginAmerica it's really aggressive to blast...\n4          negative  @VirginAmerica and it's a really big bad thing...",
      "text/html": "<div>\n<style scoped>\n    .dataframe tbody tr th:only-of-type {\n        vertical-align: middle;\n    }\n\n    .dataframe tbody tr th {\n        vertical-align: top;\n    }\n\n    .dataframe thead th {\n        text-align: right;\n    }\n</style>\n<table border=\"1\" class=\"dataframe\">\n  <thead>\n    <tr style=\"text-align: right;\">\n      <th></th>\n      <th>airline_sentiment</th>\n      <th>text</th>\n    </tr>\n  </thead>\n  <tbody>\n    <tr>\n      <th>0</th>\n      <td>neutral</td>\n      <td>@VirginAmerica What @dhepburn said.</td>\n    </tr>\n    <tr>\n      <th>1</th>\n      <td>positive</td>\n      <td>@VirginAmerica plus you've added commercials t...</td>\n    </tr>\n    <tr>\n      <th>2</th>\n      <td>neutral</td>\n      <td>@VirginAmerica I didn't today... Must mean I n...</td>\n    </tr>\n    <tr>\n      <th>3</th>\n      <td>negative</td>\n      <td>@VirginAmerica it's really aggressive to blast...</td>\n    </tr>\n    <tr>\n      <th>4</th>\n      <td>negative</td>\n      <td>@VirginAmerica and it's a really big bad thing...</td>\n    </tr>\n  </tbody>\n</table>\n</div>"
     },
     "execution_count": 6,
     "metadata": {},
     "output_type": "execute_result"
    }
   ],
   "source": [
    "data = data[['airline_sentiment','text']]\n",
    "data.head()"
   ],
   "metadata": {
    "collapsed": false,
    "pycharm": {
     "name": "#%%\n"
    }
   }
  },
  {
   "cell_type": "code",
   "execution_count": 7,
   "outputs": [
    {
     "data": {
      "text/plain": "array(['neutral', 'positive', 'negative'], dtype=object)"
     },
     "execution_count": 7,
     "metadata": {},
     "output_type": "execute_result"
    }
   ],
   "source": [
    "data.airline_sentiment.unique()"
   ],
   "metadata": {
    "collapsed": false,
    "pycharm": {
     "name": "#%%\n"
    }
   }
  },
  {
   "cell_type": "code",
   "execution_count": 8,
   "outputs": [
    {
     "data": {
      "text/plain": "negative    9178\nneutral     3099\npositive    2363\nName: airline_sentiment, dtype: int64"
     },
     "execution_count": 8,
     "metadata": {},
     "output_type": "execute_result"
    }
   ],
   "source": [
    "data.airline_sentiment.value_counts()"
   ],
   "metadata": {
    "collapsed": false,
    "pycharm": {
     "name": "#%%\n"
    }
   }
  },
  {
   "cell_type": "code",
   "execution_count": 9,
   "outputs": [],
   "source": [
    "data_p = data[data.airline_sentiment == 'positive']\n",
    "data_n = data[data.airline_sentiment == 'negative']\n",
    "data_n = data_n.iloc[:len(data_p)]\n"
   ],
   "metadata": {
    "collapsed": false,
    "pycharm": {
     "name": "#%%\n"
    }
   }
  },
  {
   "cell_type": "code",
   "execution_count": 10,
   "outputs": [
    {
     "data": {
      "text/plain": "      airline_sentiment                                               text\n2036           negative  @united hey, it's 4am, guess what I'm doing? N...\n14360          positive  @AmericanAir I would like to thank the custome...\n111            positive  @VirginAmerica has getaway deals through May, ...\n863            negative  @united I send an email about my bad experienc...\n1605           negative  @united flight 3870 to Newark, stuck in the ru...\n...                 ...                                                ...\n5829           positive  @SouthwestAir Sorry to spam, it would just be ...\n12833          positive  @AmericanAir no kidding! Gonna take some beati...\n16             positive  @VirginAmerica So excited for my first cross c...\n349            negative  @VirginAmerica It's fine. Already done with my...\n8076           positive                @JetBlue I definitely will. Thanks!\n\n[4726 rows x 2 columns]",
      "text/html": "<div>\n<style scoped>\n    .dataframe tbody tr th:only-of-type {\n        vertical-align: middle;\n    }\n\n    .dataframe tbody tr th {\n        vertical-align: top;\n    }\n\n    .dataframe thead th {\n        text-align: right;\n    }\n</style>\n<table border=\"1\" class=\"dataframe\">\n  <thead>\n    <tr style=\"text-align: right;\">\n      <th></th>\n      <th>airline_sentiment</th>\n      <th>text</th>\n    </tr>\n  </thead>\n  <tbody>\n    <tr>\n      <th>2036</th>\n      <td>negative</td>\n      <td>@united hey, it's 4am, guess what I'm doing? N...</td>\n    </tr>\n    <tr>\n      <th>14360</th>\n      <td>positive</td>\n      <td>@AmericanAir I would like to thank the custome...</td>\n    </tr>\n    <tr>\n      <th>111</th>\n      <td>positive</td>\n      <td>@VirginAmerica has getaway deals through May, ...</td>\n    </tr>\n    <tr>\n      <th>863</th>\n      <td>negative</td>\n      <td>@united I send an email about my bad experienc...</td>\n    </tr>\n    <tr>\n      <th>1605</th>\n      <td>negative</td>\n      <td>@united flight 3870 to Newark, stuck in the ru...</td>\n    </tr>\n    <tr>\n      <th>...</th>\n      <td>...</td>\n      <td>...</td>\n    </tr>\n    <tr>\n      <th>5829</th>\n      <td>positive</td>\n      <td>@SouthwestAir Sorry to spam, it would just be ...</td>\n    </tr>\n    <tr>\n      <th>12833</th>\n      <td>positive</td>\n      <td>@AmericanAir no kidding! Gonna take some beati...</td>\n    </tr>\n    <tr>\n      <th>16</th>\n      <td>positive</td>\n      <td>@VirginAmerica So excited for my first cross c...</td>\n    </tr>\n    <tr>\n      <th>349</th>\n      <td>negative</td>\n      <td>@VirginAmerica It's fine. Already done with my...</td>\n    </tr>\n    <tr>\n      <th>8076</th>\n      <td>positive</td>\n      <td>@JetBlue I definitely will. Thanks!</td>\n    </tr>\n  </tbody>\n</table>\n<p>4726 rows × 2 columns</p>\n</div>"
     },
     "execution_count": 10,
     "metadata": {},
     "output_type": "execute_result"
    }
   ],
   "source": [
    "data = pd.concat([data_n,data_p])\n",
    "data = data.sample(len(data))\n",
    "data"
   ],
   "metadata": {
    "collapsed": false,
    "pycharm": {
     "name": "#%%\n"
    }
   }
  },
  {
   "cell_type": "code",
   "execution_count": 11,
   "outputs": [
    {
     "data": {
      "text/plain": "                                                    text  review\n2036   @united hey, it's 4am, guess what I'm doing? N...       0\n14360  @AmericanAir I would like to thank the custome...       1\n111    @VirginAmerica has getaway deals through May, ...       1\n863    @united I send an email about my bad experienc...       0\n1605   @united flight 3870 to Newark, stuck in the ru...       0\n...                                                  ...     ...\n5829   @SouthwestAir Sorry to spam, it would just be ...       1\n12833  @AmericanAir no kidding! Gonna take some beati...       1\n16     @VirginAmerica So excited for my first cross c...       1\n349    @VirginAmerica It's fine. Already done with my...       0\n8076                 @JetBlue I definitely will. Thanks!       1\n\n[4726 rows x 2 columns]",
      "text/html": "<div>\n<style scoped>\n    .dataframe tbody tr th:only-of-type {\n        vertical-align: middle;\n    }\n\n    .dataframe tbody tr th {\n        vertical-align: top;\n    }\n\n    .dataframe thead th {\n        text-align: right;\n    }\n</style>\n<table border=\"1\" class=\"dataframe\">\n  <thead>\n    <tr style=\"text-align: right;\">\n      <th></th>\n      <th>text</th>\n      <th>review</th>\n    </tr>\n  </thead>\n  <tbody>\n    <tr>\n      <th>2036</th>\n      <td>@united hey, it's 4am, guess what I'm doing? N...</td>\n      <td>0</td>\n    </tr>\n    <tr>\n      <th>14360</th>\n      <td>@AmericanAir I would like to thank the custome...</td>\n      <td>1</td>\n    </tr>\n    <tr>\n      <th>111</th>\n      <td>@VirginAmerica has getaway deals through May, ...</td>\n      <td>1</td>\n    </tr>\n    <tr>\n      <th>863</th>\n      <td>@united I send an email about my bad experienc...</td>\n      <td>0</td>\n    </tr>\n    <tr>\n      <th>1605</th>\n      <td>@united flight 3870 to Newark, stuck in the ru...</td>\n      <td>0</td>\n    </tr>\n    <tr>\n      <th>...</th>\n      <td>...</td>\n      <td>...</td>\n    </tr>\n    <tr>\n      <th>5829</th>\n      <td>@SouthwestAir Sorry to spam, it would just be ...</td>\n      <td>1</td>\n    </tr>\n    <tr>\n      <th>12833</th>\n      <td>@AmericanAir no kidding! Gonna take some beati...</td>\n      <td>1</td>\n    </tr>\n    <tr>\n      <th>16</th>\n      <td>@VirginAmerica So excited for my first cross c...</td>\n      <td>1</td>\n    </tr>\n    <tr>\n      <th>349</th>\n      <td>@VirginAmerica It's fine. Already done with my...</td>\n      <td>0</td>\n    </tr>\n    <tr>\n      <th>8076</th>\n      <td>@JetBlue I definitely will. Thanks!</td>\n      <td>1</td>\n    </tr>\n  </tbody>\n</table>\n<p>4726 rows × 2 columns</p>\n</div>"
     },
     "execution_count": 11,
     "metadata": {},
     "output_type": "execute_result"
    }
   ],
   "source": [
    "data['review']=(data.airline_sentiment == \"positive\").astype('int')\n",
    "del data['airline_sentiment']\n",
    "data\n"
   ],
   "metadata": {
    "collapsed": false,
    "pycharm": {
     "name": "#%%\n"
    }
   }
  },
  {
   "cell_type": "markdown",
   "source": [
    "tf.keras.layers.Embedding 把文本向量化"
   ],
   "metadata": {
    "collapsed": false,
    "pycharm": {
     "name": "#%% md\n"
    }
   }
  },
  {
   "cell_type": "code",
   "execution_count": 12,
   "outputs": [],
   "source": [
    "import re\n",
    "\n",
    "token = re.compile('[A-Za-z]+|[!?,.()]')\n"
   ],
   "metadata": {
    "collapsed": false,
    "pycharm": {
     "name": "#%%\n"
    }
   }
  },
  {
   "cell_type": "code",
   "execution_count": 13,
   "outputs": [],
   "source": [
    "def reg_text(text):\n",
    "    new_text = token.findall(text)\n",
    "    new_text = [word.lower() for word in new_text]\n",
    "    return new_text"
   ],
   "metadata": {
    "collapsed": false,
    "pycharm": {
     "name": "#%%\n"
    }
   }
  },
  {
   "cell_type": "code",
   "execution_count": 14,
   "outputs": [
    {
     "data": {
      "text/plain": "                                                    text  review\n2036   [united, hey, ,, it, s, am, ,, guess, what, i,...       0\n14360  [americanair, i, would, like, to, thank, the, ...       1\n111    [virginamerica, has, getaway, deals, through, ...       1\n863    [united, i, send, an, email, about, my, bad, e...       0\n1605   [united, flight, to, newark, ,, stuck, in, the...       0\n...                                                  ...     ...\n5829   [southwestair, sorry, to, spam, ,, it, would, ...       1\n12833  [americanair, no, kidding, !, gonna, take, som...       1\n16     [virginamerica, so, excited, for, my, first, c...       1\n349    [virginamerica, it, s, fine, ., already, done,...       0\n8076        [jetblue, i, definitely, will, ., thanks, !]       1\n\n[4726 rows x 2 columns]",
      "text/html": "<div>\n<style scoped>\n    .dataframe tbody tr th:only-of-type {\n        vertical-align: middle;\n    }\n\n    .dataframe tbody tr th {\n        vertical-align: top;\n    }\n\n    .dataframe thead th {\n        text-align: right;\n    }\n</style>\n<table border=\"1\" class=\"dataframe\">\n  <thead>\n    <tr style=\"text-align: right;\">\n      <th></th>\n      <th>text</th>\n      <th>review</th>\n    </tr>\n  </thead>\n  <tbody>\n    <tr>\n      <th>2036</th>\n      <td>[united, hey, ,, it, s, am, ,, guess, what, i,...</td>\n      <td>0</td>\n    </tr>\n    <tr>\n      <th>14360</th>\n      <td>[americanair, i, would, like, to, thank, the, ...</td>\n      <td>1</td>\n    </tr>\n    <tr>\n      <th>111</th>\n      <td>[virginamerica, has, getaway, deals, through, ...</td>\n      <td>1</td>\n    </tr>\n    <tr>\n      <th>863</th>\n      <td>[united, i, send, an, email, about, my, bad, e...</td>\n      <td>0</td>\n    </tr>\n    <tr>\n      <th>1605</th>\n      <td>[united, flight, to, newark, ,, stuck, in, the...</td>\n      <td>0</td>\n    </tr>\n    <tr>\n      <th>...</th>\n      <td>...</td>\n      <td>...</td>\n    </tr>\n    <tr>\n      <th>5829</th>\n      <td>[southwestair, sorry, to, spam, ,, it, would, ...</td>\n      <td>1</td>\n    </tr>\n    <tr>\n      <th>12833</th>\n      <td>[americanair, no, kidding, !, gonna, take, som...</td>\n      <td>1</td>\n    </tr>\n    <tr>\n      <th>16</th>\n      <td>[virginamerica, so, excited, for, my, first, c...</td>\n      <td>1</td>\n    </tr>\n    <tr>\n      <th>349</th>\n      <td>[virginamerica, it, s, fine, ., already, done,...</td>\n      <td>0</td>\n    </tr>\n    <tr>\n      <th>8076</th>\n      <td>[jetblue, i, definitely, will, ., thanks, !]</td>\n      <td>1</td>\n    </tr>\n  </tbody>\n</table>\n<p>4726 rows × 2 columns</p>\n</div>"
     },
     "execution_count": 14,
     "metadata": {},
     "output_type": "execute_result"
    }
   ],
   "source": [
    "data['text']=data.text.apply(reg_text)\n",
    "data"
   ],
   "metadata": {
    "collapsed": false,
    "pycharm": {
     "name": "#%%\n"
    }
   }
  },
  {
   "cell_type": "code",
   "execution_count": 15,
   "outputs": [],
   "source": [
    "word_set = set()\n",
    "for text in data.text:\n",
    "    for word in text:\n",
    "        word_set.add(word)"
   ],
   "metadata": {
    "collapsed": false,
    "pycharm": {
     "name": "#%%\n"
    }
   }
  },
  {
   "cell_type": "code",
   "execution_count": 16,
   "outputs": [],
   "source": [
    "max_word = len(word_set) + 1"
   ],
   "metadata": {
    "collapsed": false,
    "pycharm": {
     "name": "#%%\n"
    }
   }
  },
  {
   "cell_type": "code",
   "execution_count": 17,
   "outputs": [
    {
     "data": {
      "text/plain": "['autoresponse',\n 'turning',\n 'dfpietra',\n 'yeniettelswood',\n 'vahdekvoke',\n 'careers',\n 'robert',\n 'apron',\n 'hey',\n 'screaming',\n 'eco',\n 'flightattendant',\n 'refundprocedurenottoopainful',\n 'literally',\n 'dunno',\n 'requesting',\n 'swapped',\n 'newlifetimecustomer',\n 'customersfirst',\n 'silver',\n 'worn',\n 'osjz',\n 'notification',\n 'scl',\n 'alynewton',\n 'order',\n 'earned',\n 'sitting',\n 'clockwork',\n 'reading',\n 'refusing',\n 'logged',\n 'serve',\n 'sorted',\n 'recommend',\n '?',\n 'dismissed',\n 'volkswagen',\n 'replace',\n 'europe',\n 'delta',\n 'dandy',\n 'limits',\n 'pattern',\n 'pressurecooker',\n 'apologies',\n 'swa',\n 'push',\n 'aquadilla',\n 'rapidly',\n 'define',\n 'aired',\n 'ksgcq',\n 'september',\n 'umosaicmecrazy',\n 'notcool',\n 'affect',\n 'miaa',\n 'mails',\n 'peer',\n 'selection',\n 'comfortably',\n 'nocharge',\n 'alwaysdelayedonunited',\n 'communication',\n 'dnstitrzwy',\n 'releasing',\n 'accommodating',\n 'definitive',\n 'cave',\n 'gma',\n 'xcvqxykg',\n 'downgrade',\n 'supervisors',\n 'assistance',\n 'sacintlairport',\n 'minute',\n 'premiere',\n 'sigh',\n 'intl',\n 'african',\n 'hotelstonight',\n 'lai',\n 'equal',\n 'gbostu',\n 'julian',\n 'couldn',\n 'vgn',\n 'next',\n 'moms',\n 'smf',\n 'worry',\n 'motel',\n 'getting',\n 'advertise',\n 'extent',\n 'ut',\n 'centric',\n 'sleeping',\n 'telephone',\n 'cousins',\n 'tho',\n 'chrome',\n 'bounce',\n 'ibqr',\n 'tbd',\n 'eight',\n 'boyfriend',\n 'involuntarily',\n 'cgjase',\n 'atl',\n 'skycaps',\n 'moveaboutthecountry',\n 'chicago',\n 'slowing',\n 'appear',\n 'batting',\n 'less',\n 'arose',\n 'rather',\n 'divadapouch',\n 'build',\n 'tmm',\n 'otfz',\n 'randomactsofcorporategreed',\n 'twin',\n 'nippon',\n 'correct',\n 'catering',\n 'blast',\n 'ride',\n 'orf',\n 'continuous',\n 'adams',\n 'soreback',\n 'sprinting',\n 'lax',\n 'happyfriday',\n 'troy',\n 'forth',\n 'reputation',\n 'kf',\n 'sna',\n 'plz',\n 'denairport',\n 'bulkhead',\n 'czamkoff',\n 'cookies',\n 'hire',\n 'option',\n 'branding',\n 'iah',\n 'disappointed',\n 'california',\n 'herman',\n 'loft',\n 'advising',\n 'afford',\n 'guaranteed',\n 'robthecameraman',\n 'ewr',\n 'thrown',\n 'ua',\n 'damage',\n 'peace',\n 'breakfast',\n 'pounds',\n 'belief',\n 'everglades',\n 'slide',\n 'howisthatpossible',\n 'dca',\n 'reflight',\n 'john',\n 'term',\n 'farelock',\n 'touch',\n 'dry',\n 'hotels',\n 'operators',\n 'docmvotwti',\n 'wht',\n 'handle',\n 'xoxo',\n 'gives',\n 'running',\n 'gang',\n 'disappears',\n 'access',\n 'replies',\n 'denverairport',\n 'among',\n 'dfwairport',\n 'enjoyable',\n 'dreaming',\n 'receipt',\n 'tells',\n 'seg',\n 'refresh',\n 'hub',\n 'sti',\n 'films',\n 'ots',\n 'cab',\n 'fattuesday',\n 'warmer',\n 'rez',\n 'sooooooo',\n 'part',\n 'timeliness',\n 'fun',\n 'dude',\n 'damionflight',\n 'would',\n 'humored',\n 'traffic',\n 'huge',\n 'find',\n 'pairings',\n 'ts',\n 'membership',\n 'steamboat',\n 'refund',\n 'repeated',\n 'permission',\n 'dz',\n 'despite',\n 'benefits',\n 'premium',\n 'desert',\n 'abc',\n 'unitedairlinessuck',\n 'stand',\n 'bathroom',\n 'especially',\n 'hear',\n 'rps',\n 'flightations',\n 'nicest',\n 'extravaganza',\n 'crucial',\n 'punta',\n 'boarding',\n 'fe',\n 'airfares',\n 'destinations',\n 'airplane',\n 'gnk',\n 'remembered',\n 'created',\n 'hurry',\n 'jena',\n 'cheapoairchat',\n 'thisiscoach',\n 'disappointments',\n 'enforce',\n 'competitor',\n 'astounding',\n 'center',\n 'extend',\n 'red',\n 'peggy',\n 'position',\n 'card',\n 'impress',\n 'americanone',\n 'hilarious',\n 'floors',\n 'kbkx',\n 'jetblue',\n 'guessing',\n 'lol',\n 'itineraries',\n 'vbfieo',\n 'installed',\n 'cudtomers',\n 'unbelievably',\n 'guinea',\n 'cancun',\n 'az',\n 'send',\n 'zfroinpszi',\n 'msg',\n 'starting',\n 'piggy',\n 'online',\n 'tags',\n 'maryella',\n 'bold',\n 'partners',\n 'tf',\n 'jetred',\n 'insane',\n 'restrm',\n 'recouping',\n 'paid',\n 'hometown',\n 'hn',\n 'offering',\n 'phl',\n 'stewardesses',\n 'happier',\n 'awards',\n 'argentina',\n 'ase',\n 'seconds',\n 'iad',\n 'express',\n 'medal',\n 'challenges',\n 'smells',\n 'events',\n 'delaying',\n 'illogical',\n 'hmm',\n 'wu',\n 'squared',\n 'steal',\n 'trashy',\n 'rectified',\n 'mtff',\n 'crosswinds',\n 'taking',\n 'connecting',\n 'alone',\n 'nothing',\n 'truebluelove',\n 'president',\n 'picking',\n 'installation',\n 'munich',\n 'wantmymoneyback',\n 'cutting',\n 'basic',\n 'frigid',\n 'kci',\n 'ahlxhhkiyn',\n 'abysmal',\n 'bitch',\n 'superben',\n 'addressed',\n 'del',\n 'lowered',\n 'rsw',\n 'def',\n 'avg',\n 'inspected',\n 'func',\n 'logistics',\n 'travelers',\n 'international',\n 'feelbetter',\n 'e',\n 'supervisor',\n 'xw',\n 'horrific',\n 'bookofnegroes',\n 'monthsold',\n 'thread',\n 'won',\n 'emails',\n 'ranked',\n 'design',\n 'texas',\n 'diff',\n 'technical',\n 'oversold',\n 'flown',\n 'gary',\n 'choosechicago',\n 'legit',\n 'rented',\n 'upcoming',\n 'possibly',\n 'allyoucanjetpass',\n 'sits',\n 'cart',\n 'craft',\n 'married',\n 'field',\n 'induce',\n 'scheme',\n 'sonyasloanmd',\n 'stranded',\n 'spread',\n 'blasting',\n 'misconnected',\n 'nicole',\n 'sadly',\n 'mismanagement',\n 'qqlzk',\n 'confirming',\n 'admit',\n 'favor',\n 'plain',\n 'accountable',\n 'waited',\n 'emerg',\n 'purpose',\n 'sat',\n 't',\n 'fantastic',\n 'incredibly',\n 'houston',\n 'lhr',\n 'north',\n 'whoa',\n 'spots',\n 'prob',\n 'registered',\n 'whitterbug',\n 'disgusted',\n 'ou',\n 'inexcusable',\n 'confrontational',\n 'pays',\n 'marisol',\n 'homeward',\n 'tv',\n 'solo',\n 'apply',\n 'hero',\n 'temps',\n 'jb',\n 'wings',\n 'executives',\n 'truck',\n 'problem',\n 'season',\n 'abprg',\n 'albanyairport',\n 'suppose',\n 'karen',\n 'jop',\n 'okie',\n 'decision',\n 'peanuts',\n 'continues',\n 'learning',\n 'is',\n 'completely',\n 'passing',\n 'hayden',\n 'frame',\n 'youre',\n 'sooner',\n 'instructed',\n 'dissapointment',\n 'resolving',\n 'letter',\n 'nruovts',\n 'meanwhile',\n 'stopping',\n 'transcontinental',\n 'freaking',\n 'unrelate',\n 'operate',\n 'notice',\n 'cable',\n 'znmwxdi',\n 'stbernard',\n 'streamline',\n 'just',\n 'quit',\n 'rude',\n 'carriers',\n 'killing',\n 'xqaqb',\n 'has',\n 'splitting',\n 'rotten',\n 'charged',\n 'browser',\n 'lifetime',\n 'finish',\n 'grouping',\n 'fuckinf',\n 'valued',\n 'deal',\n 'saved',\n 'sucks',\n 'slobodin',\n 'ish',\n 'hourdelay',\n 'layout',\n 'pwm',\n 'problemsolvers',\n 'sp',\n 'alternate',\n 'valentinesday',\n 'freakin',\n 'iceg',\n 'absolutely',\n 'spin',\n 'versus',\n 'slog',\n 'faint',\n 'consider',\n 'positive',\n 'text',\n 'tool',\n 'remarks',\n 'defines',\n 'flythefriendlyskies',\n 'espn',\n 'warm',\n 'shift',\n 'volleyball',\n 'jcediky',\n 'dented',\n 'snowstorms',\n 'jfps',\n 'inflight',\n 'otherwise',\n 'accepted',\n 'depart',\n 'beans',\n 'father',\n 'kerry',\n 'anna',\n 'gjt',\n 'session',\n 'traveler',\n 'me',\n 'guest',\n 'screw',\n 'reasons',\n 'larkc',\n 'jua',\n 'cfyhkvb',\n 'happen',\n 'hsmpbsf',\n 'curious',\n 'seated',\n 'wheelchairs',\n 'numbers',\n 'reserv',\n 'beatsmusic',\n 'keepingtraditionsalive',\n 'blue',\n 'quiet',\n 'ohk',\n 'double',\n 'bngpli',\n 'idaho',\n 'earn',\n 'qdxft',\n 'festival',\n 'caused',\n 'so',\n 'lauderdale',\n 'type',\n 'action',\n 'beverage',\n 'cared',\n 'diligent',\n 'silverairways',\n 'enoughisenough',\n 'lift',\n 'maro',\n 'cleveland',\n 'clowns',\n 'bobbi',\n 'milestone',\n 'ppl',\n 'airborne',\n 'nothappy',\n 'sign',\n 'left',\n 'cyd',\n 'song',\n 'k',\n 'trips',\n 'navimumbai',\n 'fyvrfn',\n 'expowest',\n 'carseat',\n 'youknowyouwantto',\n 'breaking',\n 'apologize',\n 'tagged',\n 'keulg',\n 'those',\n 'conveniently',\n 'veggies',\n 'mco',\n 'approach',\n 'waives',\n 'whoot',\n 'responsibility',\n 'quickie',\n 'prioritize',\n 'mind',\n 'bullshit',\n 'unknown',\n 'fong',\n 'usairwaysfail',\n 'srsly',\n 'mn',\n 'yr',\n 'connectin',\n 'toothpaste',\n 'innp',\n 'false',\n 'passenegers',\n 'tactic',\n 'ak',\n 'cuz',\n 'royal',\n 'impolite',\n 'xbo',\n 'lobstermac',\n 'lunch',\n 'covering',\n 'cc',\n 'utah',\n 'freezing',\n 'valuable',\n 'sprinkled',\n 'ammisery',\n 'ads',\n 'jetbluemember',\n 'pointy',\n 'informed',\n 'far',\n 'revive',\n 'free',\n 'inefficiency',\n 'each',\n 'certificates',\n 'ndmgz',\n 'outlets',\n 'agree',\n 'shortly',\n 'sleep',\n 'people',\n 'robcnyc',\n 'trading',\n 'nonstop',\n 'adjacent',\n 'exceptionalservice',\n 'directed',\n 'elevator',\n 'zaoay',\n 'coupled',\n 'guidelines',\n 'cun',\n 'boston',\n 'do',\n 'vaca',\n 'duw',\n 'dn',\n 'manage',\n 'gladys',\n 'some',\n 'trapped',\n 'items',\n 'lacking',\n 'fernheinig',\n 'cannot',\n 'ty',\n 'thelodge',\n 'machine',\n 'transportation',\n 'masters',\n 'sleet',\n 'wervirgin',\n 'school',\n 'accelerate',\n 'courteous',\n 'twtr',\n 'jac',\n 'opportunities',\n 'who',\n 'reclaim',\n 'affiliate',\n 'staralliance',\n 'preference',\n 'waltdisneyworld',\n 'bottom',\n 'airports',\n 'pos',\n 'bearable',\n 'bumping',\n 'qan',\n 'appease',\n 'honest',\n 'personally',\n 'cannedtweet',\n 'devices',\n 'wit',\n 'savethediagonals',\n 'lbs',\n 'fail',\n 'mvp',\n 'truebluemember',\n 'dm',\n 'permissions',\n 'dfps',\n 'third',\n 'acc',\n 'sends',\n 'flysfo',\n 'mechanic',\n 'egregious',\n 'smoooothest',\n 'drunk',\n 'jump',\n 'beats',\n 'beloved',\n 'somebody',\n 'kristy',\n 'plastic',\n 'funited',\n 'portland',\n 'deserved',\n 'news',\n 'aspen',\n 'allowed',\n 'ways',\n 'spirits',\n 'sundayfunday',\n 'usair',\n 'continentalairlines',\n 'harsh',\n 'intercontinental',\n 'smelled',\n 'grumpykim',\n 'tuesday',\n 'continuing',\n 'spotify',\n 'boys',\n 'photos',\n 'rights',\n 'ms',\n 'remains',\n 'geep',\n 'families',\n 'elevateuser',\n 'minimal',\n 'advantage',\n 'dwell',\n 'code',\n 'hooked',\n 'chiberia',\n 'ogg',\n 'desperately',\n 'suggestion',\n 'luvagent',\n 'jetbae',\n 'supply',\n 'deplaning',\n 'challenge',\n 'lounges',\n 'helpfulness',\n 'understood',\n 'neurosurgery',\n 'ninadavuluri',\n 'connex',\n 'right',\n 'xvnnmltiw',\n 'ywg',\n 'umpteen',\n 'waivers',\n 'swindle',\n 'hadn',\n 'easier',\n 'thomas',\n 'quite',\n 'nyjets',\n 'london',\n 'heinekenusacorp',\n 'traveled',\n 'oui',\n 'macm',\n 'jax',\n 'crashes',\n 'neglect',\n 'giant',\n 'mr',\n 'have',\n 'mess',\n 'marcus',\n 'fridge',\n 'exhausted',\n 'cbarrows',\n 'cap',\n 'pvd',\n 'upgrades',\n 'bae',\n 'meetings',\n 'friendlyteam',\n 'country',\n 'narita',\n 'unitedairlinessucks',\n 'queue',\n 'rain',\n 'alwaysdelayed',\n 'youretheworst',\n 'bass',\n 'looking',\n 'sir',\n 'kfuyyokufv',\n 'gsa',\n 'bread',\n 'car',\n 'odugfqk',\n 'disappeared',\n 'women',\n 'stuij',\n 'record',\n 'sydney',\n 'cot',\n 'availability',\n 'nonworking',\n 'plan',\n 'tory',\n 'substantial',\n 'gone',\n 'engine',\n 'overwhelmed',\n 'message',\n 'gok',\n 'div',\n 'atrocious',\n 'baltimore',\n 'closed',\n 'paper',\n 'nc',\n 'concept',\n 'eqyahfvz',\n 'holders',\n 'airplanes',\n 'box',\n 'processing',\n 'caf',\n 'sunshine',\n 'battierccipuppy',\n 'exhausting',\n 'terrific',\n 'logging',\n 'awdbw',\n 'rarely',\n 'dislike',\n 'shits',\n 'newyork',\n 'least',\n 'should',\n 'iced',\n 'blizzue',\n 'detroit',\n 'carpet',\n 'gills',\n 'interested',\n 'spite',\n 'walks',\n 'kl',\n 'talk',\n 'stt',\n 'tweets',\n 'quotations',\n 'network',\n 'uygew',\n 'demonstration',\n 'fix',\n 'friendlysky',\n 'diverted',\n 'flat',\n 'disappointing',\n 'hoo',\n 'omg',\n 'zfqmpgxvs',\n 'isn',\n 'counts',\n 'reaching',\n 'shocked',\n 'thanked',\n 'reported',\n 'recline',\n 'ta',\n 'bestdressed',\n 'zhxok',\n 'ual',\n 'horrid',\n 'tabs',\n 'intentional',\n 'hipunis',\n 'sucking',\n 'map',\n 'received',\n 'orig',\n 'county',\n 'hundreds',\n 'suggested',\n 'dre',\n 'truebluepoints',\n 'coach',\n 'forget',\n 'broke',\n 'til',\n 'recovery',\n 'childish',\n 'note',\n 'router',\n 'exit',\n 'style',\n 'tus',\n 'overkill',\n 'handled',\n 'custexp',\n 'aerojobmarket',\n 'money',\n 'jmercadomma',\n 'tgsljjn',\n 'tnx',\n 've',\n 'if',\n 'efficient',\n 'bringing',\n 'reduced',\n 'cocktail',\n 'everythingsgonnabealright',\n 'maintain',\n 'dresparkles',\n 'condo',\n 'meant',\n 'wallet',\n 'boise',\n 'above',\n 'fueled',\n 'ragncw',\n 'exec',\n 'flyeia',\n 'laurieameacham',\n 'thing',\n 'sharp',\n 'extra',\n 'forever',\n 'building',\n 'designated',\n 'intuit',\n 'bonuses',\n 'greeting',\n 'melinda',\n 'stressed',\n 'tarmac',\n 'qdebyahqfm',\n 'worstairline',\n 'prime',\n 'flierfriendly',\n 'regret',\n 'degrees',\n 'rental',\n 'rocks',\n 'sons',\n 'cosmetic',\n 'tsa',\n 'throwback',\n 'moneynotspentonunited',\n 'tbsjquw',\n 'acct',\n 'professional',\n 'convo',\n 'unanticipated',\n 'turbulence',\n 'amazed',\n 'promotion',\n 'starbucks',\n 'aha',\n 'runs',\n 'saharasams',\n 'fred',\n 'self',\n 'picked',\n 'hoping',\n 'startingbloc',\n 'xdaj',\n 'keepitclassy',\n 'chair',\n 'roads',\n 'annricord',\n 'jdvk',\n 'paso',\n 'compensate',\n 'bothered',\n 'den',\n 'someone',\n 'characters',\n 'transfers',\n 'shots',\n 'projects',\n 'stick',\n 'comm',\n 'crewe',\n 'passion',\n 'jwl',\n 'moneyelsewhere',\n 'shortcomings',\n 'threatens',\n 'tryn',\n ...]"
     },
     "execution_count": 17,
     "metadata": {},
     "output_type": "execute_result"
    }
   ],
   "source": [
    "word_list = list(word_set)\n",
    "word_list"
   ],
   "metadata": {
    "collapsed": false,
    "pycharm": {
     "name": "#%%\n"
    }
   }
  },
  {
   "cell_type": "code",
   "execution_count": 18,
   "outputs": [
    {
     "data": {
      "text/plain": "{'autoresponse': 1,\n 'turning': 2,\n 'dfpietra': 3,\n 'yeniettelswood': 4,\n 'vahdekvoke': 5,\n 'careers': 6,\n 'robert': 7,\n 'apron': 8,\n 'hey': 9,\n 'screaming': 10,\n 'eco': 11,\n 'flightattendant': 12,\n 'refundprocedurenottoopainful': 13,\n 'literally': 14,\n 'dunno': 15,\n 'requesting': 16,\n 'swapped': 17,\n 'newlifetimecustomer': 18,\n 'customersfirst': 19,\n 'silver': 20,\n 'worn': 21,\n 'osjz': 22,\n 'notification': 23,\n 'scl': 24,\n 'alynewton': 25,\n 'order': 26,\n 'earned': 27,\n 'sitting': 28,\n 'clockwork': 29,\n 'reading': 30,\n 'refusing': 31,\n 'logged': 32,\n 'serve': 33,\n 'sorted': 34,\n 'recommend': 35,\n '?': 36,\n 'dismissed': 37,\n 'volkswagen': 38,\n 'replace': 39,\n 'europe': 40,\n 'delta': 41,\n 'dandy': 42,\n 'limits': 43,\n 'pattern': 44,\n 'pressurecooker': 45,\n 'apologies': 46,\n 'swa': 47,\n 'push': 48,\n 'aquadilla': 49,\n 'rapidly': 50,\n 'define': 51,\n 'aired': 52,\n 'ksgcq': 53,\n 'september': 54,\n 'umosaicmecrazy': 55,\n 'notcool': 56,\n 'affect': 57,\n 'miaa': 58,\n 'mails': 59,\n 'peer': 60,\n 'selection': 61,\n 'comfortably': 62,\n 'nocharge': 63,\n 'alwaysdelayedonunited': 64,\n 'communication': 65,\n 'dnstitrzwy': 66,\n 'releasing': 67,\n 'accommodating': 68,\n 'definitive': 69,\n 'cave': 70,\n 'gma': 71,\n 'xcvqxykg': 72,\n 'downgrade': 73,\n 'supervisors': 74,\n 'assistance': 75,\n 'sacintlairport': 76,\n 'minute': 77,\n 'premiere': 78,\n 'sigh': 79,\n 'intl': 80,\n 'african': 81,\n 'hotelstonight': 82,\n 'lai': 83,\n 'equal': 84,\n 'gbostu': 85,\n 'julian': 86,\n 'couldn': 87,\n 'vgn': 88,\n 'next': 89,\n 'moms': 90,\n 'smf': 91,\n 'worry': 92,\n 'motel': 93,\n 'getting': 94,\n 'advertise': 95,\n 'extent': 96,\n 'ut': 97,\n 'centric': 98,\n 'sleeping': 99,\n 'telephone': 100,\n 'cousins': 101,\n 'tho': 102,\n 'chrome': 103,\n 'bounce': 104,\n 'ibqr': 105,\n 'tbd': 106,\n 'eight': 107,\n 'boyfriend': 108,\n 'involuntarily': 109,\n 'cgjase': 110,\n 'atl': 111,\n 'skycaps': 112,\n 'moveaboutthecountry': 113,\n 'chicago': 114,\n 'slowing': 115,\n 'appear': 116,\n 'batting': 117,\n 'less': 118,\n 'arose': 119,\n 'rather': 120,\n 'divadapouch': 121,\n 'build': 122,\n 'tmm': 123,\n 'otfz': 124,\n 'randomactsofcorporategreed': 125,\n 'twin': 126,\n 'nippon': 127,\n 'correct': 128,\n 'catering': 129,\n 'blast': 130,\n 'ride': 131,\n 'orf': 132,\n 'continuous': 133,\n 'adams': 134,\n 'soreback': 135,\n 'sprinting': 136,\n 'lax': 137,\n 'happyfriday': 138,\n 'troy': 139,\n 'forth': 140,\n 'reputation': 141,\n 'kf': 142,\n 'sna': 143,\n 'plz': 144,\n 'denairport': 145,\n 'bulkhead': 146,\n 'czamkoff': 147,\n 'cookies': 148,\n 'hire': 149,\n 'option': 150,\n 'branding': 151,\n 'iah': 152,\n 'disappointed': 153,\n 'california': 154,\n 'herman': 155,\n 'loft': 156,\n 'advising': 157,\n 'afford': 158,\n 'guaranteed': 159,\n 'robthecameraman': 160,\n 'ewr': 161,\n 'thrown': 162,\n 'ua': 163,\n 'damage': 164,\n 'peace': 165,\n 'breakfast': 166,\n 'pounds': 167,\n 'belief': 168,\n 'everglades': 169,\n 'slide': 170,\n 'howisthatpossible': 171,\n 'dca': 172,\n 'reflight': 173,\n 'john': 174,\n 'term': 175,\n 'farelock': 176,\n 'touch': 177,\n 'dry': 178,\n 'hotels': 179,\n 'operators': 180,\n 'docmvotwti': 181,\n 'wht': 182,\n 'handle': 183,\n 'xoxo': 184,\n 'gives': 185,\n 'running': 186,\n 'gang': 187,\n 'disappears': 188,\n 'access': 189,\n 'replies': 190,\n 'denverairport': 191,\n 'among': 192,\n 'dfwairport': 193,\n 'enjoyable': 194,\n 'dreaming': 195,\n 'receipt': 196,\n 'tells': 197,\n 'seg': 198,\n 'refresh': 199,\n 'hub': 200,\n 'sti': 201,\n 'films': 202,\n 'ots': 203,\n 'cab': 204,\n 'fattuesday': 205,\n 'warmer': 206,\n 'rez': 207,\n 'sooooooo': 208,\n 'part': 209,\n 'timeliness': 210,\n 'fun': 211,\n 'dude': 212,\n 'damionflight': 213,\n 'would': 214,\n 'humored': 215,\n 'traffic': 216,\n 'huge': 217,\n 'find': 218,\n 'pairings': 219,\n 'ts': 220,\n 'membership': 221,\n 'steamboat': 222,\n 'refund': 223,\n 'repeated': 224,\n 'permission': 225,\n 'dz': 226,\n 'despite': 227,\n 'benefits': 228,\n 'premium': 229,\n 'desert': 230,\n 'abc': 231,\n 'unitedairlinessuck': 232,\n 'stand': 233,\n 'bathroom': 234,\n 'especially': 235,\n 'hear': 236,\n 'rps': 237,\n 'flightations': 238,\n 'nicest': 239,\n 'extravaganza': 240,\n 'crucial': 241,\n 'punta': 242,\n 'boarding': 243,\n 'fe': 244,\n 'airfares': 245,\n 'destinations': 246,\n 'airplane': 247,\n 'gnk': 248,\n 'remembered': 249,\n 'created': 250,\n 'hurry': 251,\n 'jena': 252,\n 'cheapoairchat': 253,\n 'thisiscoach': 254,\n 'disappointments': 255,\n 'enforce': 256,\n 'competitor': 257,\n 'astounding': 258,\n 'center': 259,\n 'extend': 260,\n 'red': 261,\n 'peggy': 262,\n 'position': 263,\n 'card': 264,\n 'impress': 265,\n 'americanone': 266,\n 'hilarious': 267,\n 'floors': 268,\n 'kbkx': 269,\n 'jetblue': 270,\n 'guessing': 271,\n 'lol': 272,\n 'itineraries': 273,\n 'vbfieo': 274,\n 'installed': 275,\n 'cudtomers': 276,\n 'unbelievably': 277,\n 'guinea': 278,\n 'cancun': 279,\n 'az': 280,\n 'send': 281,\n 'zfroinpszi': 282,\n 'msg': 283,\n 'starting': 284,\n 'piggy': 285,\n 'online': 286,\n 'tags': 287,\n 'maryella': 288,\n 'bold': 289,\n 'partners': 290,\n 'tf': 291,\n 'jetred': 292,\n 'insane': 293,\n 'restrm': 294,\n 'recouping': 295,\n 'paid': 296,\n 'hometown': 297,\n 'hn': 298,\n 'offering': 299,\n 'phl': 300,\n 'stewardesses': 301,\n 'happier': 302,\n 'awards': 303,\n 'argentina': 304,\n 'ase': 305,\n 'seconds': 306,\n 'iad': 307,\n 'express': 308,\n 'medal': 309,\n 'challenges': 310,\n 'smells': 311,\n 'events': 312,\n 'delaying': 313,\n 'illogical': 314,\n 'hmm': 315,\n 'wu': 316,\n 'squared': 317,\n 'steal': 318,\n 'trashy': 319,\n 'rectified': 320,\n 'mtff': 321,\n 'crosswinds': 322,\n 'taking': 323,\n 'connecting': 324,\n 'alone': 325,\n 'nothing': 326,\n 'truebluelove': 327,\n 'president': 328,\n 'picking': 329,\n 'installation': 330,\n 'munich': 331,\n 'wantmymoneyback': 332,\n 'cutting': 333,\n 'basic': 334,\n 'frigid': 335,\n 'kci': 336,\n 'ahlxhhkiyn': 337,\n 'abysmal': 338,\n 'bitch': 339,\n 'superben': 340,\n 'addressed': 341,\n 'del': 342,\n 'lowered': 343,\n 'rsw': 344,\n 'def': 345,\n 'avg': 346,\n 'inspected': 347,\n 'func': 348,\n 'logistics': 349,\n 'travelers': 350,\n 'international': 351,\n 'feelbetter': 352,\n 'e': 353,\n 'supervisor': 354,\n 'xw': 355,\n 'horrific': 356,\n 'bookofnegroes': 357,\n 'monthsold': 358,\n 'thread': 359,\n 'won': 360,\n 'emails': 361,\n 'ranked': 362,\n 'design': 363,\n 'texas': 364,\n 'diff': 365,\n 'technical': 366,\n 'oversold': 367,\n 'flown': 368,\n 'gary': 369,\n 'choosechicago': 370,\n 'legit': 371,\n 'rented': 372,\n 'upcoming': 373,\n 'possibly': 374,\n 'allyoucanjetpass': 375,\n 'sits': 376,\n 'cart': 377,\n 'craft': 378,\n 'married': 379,\n 'field': 380,\n 'induce': 381,\n 'scheme': 382,\n 'sonyasloanmd': 383,\n 'stranded': 384,\n 'spread': 385,\n 'blasting': 386,\n 'misconnected': 387,\n 'nicole': 388,\n 'sadly': 389,\n 'mismanagement': 390,\n 'qqlzk': 391,\n 'confirming': 392,\n 'admit': 393,\n 'favor': 394,\n 'plain': 395,\n 'accountable': 396,\n 'waited': 397,\n 'emerg': 398,\n 'purpose': 399,\n 'sat': 400,\n 't': 401,\n 'fantastic': 402,\n 'incredibly': 403,\n 'houston': 404,\n 'lhr': 405,\n 'north': 406,\n 'whoa': 407,\n 'spots': 408,\n 'prob': 409,\n 'registered': 410,\n 'whitterbug': 411,\n 'disgusted': 412,\n 'ou': 413,\n 'inexcusable': 414,\n 'confrontational': 415,\n 'pays': 416,\n 'marisol': 417,\n 'homeward': 418,\n 'tv': 419,\n 'solo': 420,\n 'apply': 421,\n 'hero': 422,\n 'temps': 423,\n 'jb': 424,\n 'wings': 425,\n 'executives': 426,\n 'truck': 427,\n 'problem': 428,\n 'season': 429,\n 'abprg': 430,\n 'albanyairport': 431,\n 'suppose': 432,\n 'karen': 433,\n 'jop': 434,\n 'okie': 435,\n 'decision': 436,\n 'peanuts': 437,\n 'continues': 438,\n 'learning': 439,\n 'is': 440,\n 'completely': 441,\n 'passing': 442,\n 'hayden': 443,\n 'frame': 444,\n 'youre': 445,\n 'sooner': 446,\n 'instructed': 447,\n 'dissapointment': 448,\n 'resolving': 449,\n 'letter': 450,\n 'nruovts': 451,\n 'meanwhile': 452,\n 'stopping': 453,\n 'transcontinental': 454,\n 'freaking': 455,\n 'unrelate': 456,\n 'operate': 457,\n 'notice': 458,\n 'cable': 459,\n 'znmwxdi': 460,\n 'stbernard': 461,\n 'streamline': 462,\n 'just': 463,\n 'quit': 464,\n 'rude': 465,\n 'carriers': 466,\n 'killing': 467,\n 'xqaqb': 468,\n 'has': 469,\n 'splitting': 470,\n 'rotten': 471,\n 'charged': 472,\n 'browser': 473,\n 'lifetime': 474,\n 'finish': 475,\n 'grouping': 476,\n 'fuckinf': 477,\n 'valued': 478,\n 'deal': 479,\n 'saved': 480,\n 'sucks': 481,\n 'slobodin': 482,\n 'ish': 483,\n 'hourdelay': 484,\n 'layout': 485,\n 'pwm': 486,\n 'problemsolvers': 487,\n 'sp': 488,\n 'alternate': 489,\n 'valentinesday': 490,\n 'freakin': 491,\n 'iceg': 492,\n 'absolutely': 493,\n 'spin': 494,\n 'versus': 495,\n 'slog': 496,\n 'faint': 497,\n 'consider': 498,\n 'positive': 499,\n 'text': 500,\n 'tool': 501,\n 'remarks': 502,\n 'defines': 503,\n 'flythefriendlyskies': 504,\n 'espn': 505,\n 'warm': 506,\n 'shift': 507,\n 'volleyball': 508,\n 'jcediky': 509,\n 'dented': 510,\n 'snowstorms': 511,\n 'jfps': 512,\n 'inflight': 513,\n 'otherwise': 514,\n 'accepted': 515,\n 'depart': 516,\n 'beans': 517,\n 'father': 518,\n 'kerry': 519,\n 'anna': 520,\n 'gjt': 521,\n 'session': 522,\n 'traveler': 523,\n 'me': 524,\n 'guest': 525,\n 'screw': 526,\n 'reasons': 527,\n 'larkc': 528,\n 'jua': 529,\n 'cfyhkvb': 530,\n 'happen': 531,\n 'hsmpbsf': 532,\n 'curious': 533,\n 'seated': 534,\n 'wheelchairs': 535,\n 'numbers': 536,\n 'reserv': 537,\n 'beatsmusic': 538,\n 'keepingtraditionsalive': 539,\n 'blue': 540,\n 'quiet': 541,\n 'ohk': 542,\n 'double': 543,\n 'bngpli': 544,\n 'idaho': 545,\n 'earn': 546,\n 'qdxft': 547,\n 'festival': 548,\n 'caused': 549,\n 'so': 550,\n 'lauderdale': 551,\n 'type': 552,\n 'action': 553,\n 'beverage': 554,\n 'cared': 555,\n 'diligent': 556,\n 'silverairways': 557,\n 'enoughisenough': 558,\n 'lift': 559,\n 'maro': 560,\n 'cleveland': 561,\n 'clowns': 562,\n 'bobbi': 563,\n 'milestone': 564,\n 'ppl': 565,\n 'airborne': 566,\n 'nothappy': 567,\n 'sign': 568,\n 'left': 569,\n 'cyd': 570,\n 'song': 571,\n 'k': 572,\n 'trips': 573,\n 'navimumbai': 574,\n 'fyvrfn': 575,\n 'expowest': 576,\n 'carseat': 577,\n 'youknowyouwantto': 578,\n 'breaking': 579,\n 'apologize': 580,\n 'tagged': 581,\n 'keulg': 582,\n 'those': 583,\n 'conveniently': 584,\n 'veggies': 585,\n 'mco': 586,\n 'approach': 587,\n 'waives': 588,\n 'whoot': 589,\n 'responsibility': 590,\n 'quickie': 591,\n 'prioritize': 592,\n 'mind': 593,\n 'bullshit': 594,\n 'unknown': 595,\n 'fong': 596,\n 'usairwaysfail': 597,\n 'srsly': 598,\n 'mn': 599,\n 'yr': 600,\n 'connectin': 601,\n 'toothpaste': 602,\n 'innp': 603,\n 'false': 604,\n 'passenegers': 605,\n 'tactic': 606,\n 'ak': 607,\n 'cuz': 608,\n 'royal': 609,\n 'impolite': 610,\n 'xbo': 611,\n 'lobstermac': 612,\n 'lunch': 613,\n 'covering': 614,\n 'cc': 615,\n 'utah': 616,\n 'freezing': 617,\n 'valuable': 618,\n 'sprinkled': 619,\n 'ammisery': 620,\n 'ads': 621,\n 'jetbluemember': 622,\n 'pointy': 623,\n 'informed': 624,\n 'far': 625,\n 'revive': 626,\n 'free': 627,\n 'inefficiency': 628,\n 'each': 629,\n 'certificates': 630,\n 'ndmgz': 631,\n 'outlets': 632,\n 'agree': 633,\n 'shortly': 634,\n 'sleep': 635,\n 'people': 636,\n 'robcnyc': 637,\n 'trading': 638,\n 'nonstop': 639,\n 'adjacent': 640,\n 'exceptionalservice': 641,\n 'directed': 642,\n 'elevator': 643,\n 'zaoay': 644,\n 'coupled': 645,\n 'guidelines': 646,\n 'cun': 647,\n 'boston': 648,\n 'do': 649,\n 'vaca': 650,\n 'duw': 651,\n 'dn': 652,\n 'manage': 653,\n 'gladys': 654,\n 'some': 655,\n 'trapped': 656,\n 'items': 657,\n 'lacking': 658,\n 'fernheinig': 659,\n 'cannot': 660,\n 'ty': 661,\n 'thelodge': 662,\n 'machine': 663,\n 'transportation': 664,\n 'masters': 665,\n 'sleet': 666,\n 'wervirgin': 667,\n 'school': 668,\n 'accelerate': 669,\n 'courteous': 670,\n 'twtr': 671,\n 'jac': 672,\n 'opportunities': 673,\n 'who': 674,\n 'reclaim': 675,\n 'affiliate': 676,\n 'staralliance': 677,\n 'preference': 678,\n 'waltdisneyworld': 679,\n 'bottom': 680,\n 'airports': 681,\n 'pos': 682,\n 'bearable': 683,\n 'bumping': 684,\n 'qan': 685,\n 'appease': 686,\n 'honest': 687,\n 'personally': 688,\n 'cannedtweet': 689,\n 'devices': 690,\n 'wit': 691,\n 'savethediagonals': 692,\n 'lbs': 693,\n 'fail': 694,\n 'mvp': 695,\n 'truebluemember': 696,\n 'dm': 697,\n 'permissions': 698,\n 'dfps': 699,\n 'third': 700,\n 'acc': 701,\n 'sends': 702,\n 'flysfo': 703,\n 'mechanic': 704,\n 'egregious': 705,\n 'smoooothest': 706,\n 'drunk': 707,\n 'jump': 708,\n 'beats': 709,\n 'beloved': 710,\n 'somebody': 711,\n 'kristy': 712,\n 'plastic': 713,\n 'funited': 714,\n 'portland': 715,\n 'deserved': 716,\n 'news': 717,\n 'aspen': 718,\n 'allowed': 719,\n 'ways': 720,\n 'spirits': 721,\n 'sundayfunday': 722,\n 'usair': 723,\n 'continentalairlines': 724,\n 'harsh': 725,\n 'intercontinental': 726,\n 'smelled': 727,\n 'grumpykim': 728,\n 'tuesday': 729,\n 'continuing': 730,\n 'spotify': 731,\n 'boys': 732,\n 'photos': 733,\n 'rights': 734,\n 'ms': 735,\n 'remains': 736,\n 'geep': 737,\n 'families': 738,\n 'elevateuser': 739,\n 'minimal': 740,\n 'advantage': 741,\n 'dwell': 742,\n 'code': 743,\n 'hooked': 744,\n 'chiberia': 745,\n 'ogg': 746,\n 'desperately': 747,\n 'suggestion': 748,\n 'luvagent': 749,\n 'jetbae': 750,\n 'supply': 751,\n 'deplaning': 752,\n 'challenge': 753,\n 'lounges': 754,\n 'helpfulness': 755,\n 'understood': 756,\n 'neurosurgery': 757,\n 'ninadavuluri': 758,\n 'connex': 759,\n 'right': 760,\n 'xvnnmltiw': 761,\n 'ywg': 762,\n 'umpteen': 763,\n 'waivers': 764,\n 'swindle': 765,\n 'hadn': 766,\n 'easier': 767,\n 'thomas': 768,\n 'quite': 769,\n 'nyjets': 770,\n 'london': 771,\n 'heinekenusacorp': 772,\n 'traveled': 773,\n 'oui': 774,\n 'macm': 775,\n 'jax': 776,\n 'crashes': 777,\n 'neglect': 778,\n 'giant': 779,\n 'mr': 780,\n 'have': 781,\n 'mess': 782,\n 'marcus': 783,\n 'fridge': 784,\n 'exhausted': 785,\n 'cbarrows': 786,\n 'cap': 787,\n 'pvd': 788,\n 'upgrades': 789,\n 'bae': 790,\n 'meetings': 791,\n 'friendlyteam': 792,\n 'country': 793,\n 'narita': 794,\n 'unitedairlinessucks': 795,\n 'queue': 796,\n 'rain': 797,\n 'alwaysdelayed': 798,\n 'youretheworst': 799,\n 'bass': 800,\n 'looking': 801,\n 'sir': 802,\n 'kfuyyokufv': 803,\n 'gsa': 804,\n 'bread': 805,\n 'car': 806,\n 'odugfqk': 807,\n 'disappeared': 808,\n 'women': 809,\n 'stuij': 810,\n 'record': 811,\n 'sydney': 812,\n 'cot': 813,\n 'availability': 814,\n 'nonworking': 815,\n 'plan': 816,\n 'tory': 817,\n 'substantial': 818,\n 'gone': 819,\n 'engine': 820,\n 'overwhelmed': 821,\n 'message': 822,\n 'gok': 823,\n 'div': 824,\n 'atrocious': 825,\n 'baltimore': 826,\n 'closed': 827,\n 'paper': 828,\n 'nc': 829,\n 'concept': 830,\n 'eqyahfvz': 831,\n 'holders': 832,\n 'airplanes': 833,\n 'box': 834,\n 'processing': 835,\n 'caf': 836,\n 'sunshine': 837,\n 'battierccipuppy': 838,\n 'exhausting': 839,\n 'terrific': 840,\n 'logging': 841,\n 'awdbw': 842,\n 'rarely': 843,\n 'dislike': 844,\n 'shits': 845,\n 'newyork': 846,\n 'least': 847,\n 'should': 848,\n 'iced': 849,\n 'blizzue': 850,\n 'detroit': 851,\n 'carpet': 852,\n 'gills': 853,\n 'interested': 854,\n 'spite': 855,\n 'walks': 856,\n 'kl': 857,\n 'talk': 858,\n 'stt': 859,\n 'tweets': 860,\n 'quotations': 861,\n 'network': 862,\n 'uygew': 863,\n 'demonstration': 864,\n 'fix': 865,\n 'friendlysky': 866,\n 'diverted': 867,\n 'flat': 868,\n 'disappointing': 869,\n 'hoo': 870,\n 'omg': 871,\n 'zfqmpgxvs': 872,\n 'isn': 873,\n 'counts': 874,\n 'reaching': 875,\n 'shocked': 876,\n 'thanked': 877,\n 'reported': 878,\n 'recline': 879,\n 'ta': 880,\n 'bestdressed': 881,\n 'zhxok': 882,\n 'ual': 883,\n 'horrid': 884,\n 'tabs': 885,\n 'intentional': 886,\n 'hipunis': 887,\n 'sucking': 888,\n 'map': 889,\n 'received': 890,\n 'orig': 891,\n 'county': 892,\n 'hundreds': 893,\n 'suggested': 894,\n 'dre': 895,\n 'truebluepoints': 896,\n 'coach': 897,\n 'forget': 898,\n 'broke': 899,\n 'til': 900,\n 'recovery': 901,\n 'childish': 902,\n 'note': 903,\n 'router': 904,\n 'exit': 905,\n 'style': 906,\n 'tus': 907,\n 'overkill': 908,\n 'handled': 909,\n 'custexp': 910,\n 'aerojobmarket': 911,\n 'money': 912,\n 'jmercadomma': 913,\n 'tgsljjn': 914,\n 'tnx': 915,\n 've': 916,\n 'if': 917,\n 'efficient': 918,\n 'bringing': 919,\n 'reduced': 920,\n 'cocktail': 921,\n 'everythingsgonnabealright': 922,\n 'maintain': 923,\n 'dresparkles': 924,\n 'condo': 925,\n 'meant': 926,\n 'wallet': 927,\n 'boise': 928,\n 'above': 929,\n 'fueled': 930,\n 'ragncw': 931,\n 'exec': 932,\n 'flyeia': 933,\n 'laurieameacham': 934,\n 'thing': 935,\n 'sharp': 936,\n 'extra': 937,\n 'forever': 938,\n 'building': 939,\n 'designated': 940,\n 'intuit': 941,\n 'bonuses': 942,\n 'greeting': 943,\n 'melinda': 944,\n 'stressed': 945,\n 'tarmac': 946,\n 'qdebyahqfm': 947,\n 'worstairline': 948,\n 'prime': 949,\n 'flierfriendly': 950,\n 'regret': 951,\n 'degrees': 952,\n 'rental': 953,\n 'rocks': 954,\n 'sons': 955,\n 'cosmetic': 956,\n 'tsa': 957,\n 'throwback': 958,\n 'moneynotspentonunited': 959,\n 'tbsjquw': 960,\n 'acct': 961,\n 'professional': 962,\n 'convo': 963,\n 'unanticipated': 964,\n 'turbulence': 965,\n 'amazed': 966,\n 'promotion': 967,\n 'starbucks': 968,\n 'aha': 969,\n 'runs': 970,\n 'saharasams': 971,\n 'fred': 972,\n 'self': 973,\n 'picked': 974,\n 'hoping': 975,\n 'startingbloc': 976,\n 'xdaj': 977,\n 'keepitclassy': 978,\n 'chair': 979,\n 'roads': 980,\n 'annricord': 981,\n 'jdvk': 982,\n 'paso': 983,\n 'compensate': 984,\n 'bothered': 985,\n 'den': 986,\n 'someone': 987,\n 'characters': 988,\n 'transfers': 989,\n 'shots': 990,\n 'projects': 991,\n 'stick': 992,\n 'comm': 993,\n 'crewe': 994,\n 'passion': 995,\n 'jwl': 996,\n 'moneyelsewhere': 997,\n 'shortcomings': 998,\n 'threatens': 999,\n 'tryn': 1000,\n ...}"
     },
     "execution_count": 18,
     "metadata": {},
     "output_type": "execute_result"
    }
   ],
   "source": [
    "word_index = dict((word,word_list.index(word)+1) for word in word_list)\n",
    "word_index"
   ],
   "metadata": {
    "collapsed": false,
    "pycharm": {
     "name": "#%%\n"
    }
   }
  },
  {
   "cell_type": "code",
   "execution_count": 19,
   "outputs": [],
   "source": [
    "data_ok = data.text.apply(lambda x: [word_index.get(word, 0) for word in x])"
   ],
   "metadata": {
    "collapsed": false,
    "pycharm": {
     "name": "#%%\n"
    }
   }
  },
  {
   "cell_type": "code",
   "execution_count": 20,
   "outputs": [],
   "source": [
    "maxlen = max(len(x) for x in data_ok)"
   ],
   "metadata": {
    "collapsed": false,
    "pycharm": {
     "name": "#%%\n"
    }
   }
  },
  {
   "cell_type": "code",
   "execution_count": 21,
   "outputs": [
    {
     "data": {
      "text/plain": "(4726, 40)"
     },
     "execution_count": 21,
     "metadata": {},
     "output_type": "execute_result"
    }
   ],
   "source": [
    "data_ok = keras.preprocessing.sequence.pad_sequences(data_ok.values,maxlen)\n",
    "data_ok.shape"
   ],
   "metadata": {
    "collapsed": false,
    "pycharm": {
     "name": "#%%\n"
    }
   }
  },
  {
   "cell_type": "code",
   "execution_count": 22,
   "outputs": [],
   "source": [
    "model = keras.Sequential()"
   ],
   "metadata": {
    "collapsed": false,
    "pycharm": {
     "name": "#%%\n"
    }
   }
  },
  {
   "cell_type": "markdown",
   "source": [
    "Embeding: 把文本映射为一个密集向量\n"
   ],
   "metadata": {
    "collapsed": false,
    "pycharm": {
     "name": "#%% md\n"
    }
   }
  },
  {
   "cell_type": "code",
   "execution_count": 23,
   "outputs": [
    {
     "name": "stdout",
     "output_type": "stream",
     "text": [
      "Model: \"sequential_1\"\n",
      "_________________________________________________________________\n",
      "Layer (type)                 Output Shape              Param #   \n",
      "=================================================================\n",
      "embedding (Embedding)        (None, 40, 50)            355050    \n",
      "_________________________________________________________________\n",
      "lstm (LSTM)                  (None, 64)                29440     \n",
      "_________________________________________________________________\n",
      "dense (Dense)                (None, 1)                 65        \n",
      "=================================================================\n",
      "Total params: 384,555\n",
      "Trainable params: 384,555\n",
      "Non-trainable params: 0\n",
      "_________________________________________________________________\n"
     ]
    }
   ],
   "source": [
    "model.add(layers.Embedding(max_word,50,input_length=maxlen))\n",
    "model.add(layers.LSTM(64))\n",
    "model.add(layers.Dense(1,activation='sigmoid'))\n",
    "model.summary()"
   ],
   "metadata": {
    "collapsed": false,
    "pycharm": {
     "name": "#%%\n"
    }
   }
  },
  {
   "cell_type": "code",
   "execution_count": 24,
   "outputs": [],
   "source": [
    "model.compile(\n",
    "    optimizer='adam',\n",
    "    loss='binary_crossentropy',\n",
    "    metrics=['acc']\n",
    ")"
   ],
   "metadata": {
    "collapsed": false,
    "pycharm": {
     "name": "#%%\n"
    }
   }
  },
  {
   "cell_type": "code",
   "execution_count": 25,
   "outputs": [
    {
     "name": "stdout",
     "output_type": "stream",
     "text": [
      "Epoch 1/10\n",
      "30/30 [==============================] - 4s 14ms/step - loss: 0.6430 - acc: 0.6013 - val_loss: 0.5443 - val_acc: 0.7347\b\b\b\b\b\b\b\b\b\b\b\b\b\b\b\b\b\b\b\b\b\b\b\b\b\b\b\b\b\b\b\b\b\b\b\b\b\b\b\b\b\b\b\b\b\b\b\b\b\b\b\b\b\b\b\b\b\b\b\b\b\b\b\b\b\b\b\b\b\b\b\b\b\b\b\b\b\b\b\b\b\b\b\b\b\b\b\b\b\b\b\b\b\b\b\b\b\b\b\b\b\b\b\b\b\b\b\b\b\b\b\b\b\b\b\b\b\b\b\b\b\b\b\b\b\b\b\b\b\b\b\b\b\b\b\b\b\b\b\b\b\b\b\b\b\b\b\b\b\b\b\b\b\b\b\b\b\b\b\b\b\b\b\b\b\b\b\b\b\b\b\b\b\b\b\b\b\b\b\b\b\b\b\b\b\b\b\b\b\b\b\b\b\b\b\b\b\b\b\b\b\b\b\b\b\b\b\b\b\b\b\b\b\b\b\b\b\b\b\b\b\b\b\b\b\b\b\b\b\b\b\b\b\b\b\b\b\b\b\b\b\b\b\b\b\b\b\b\b\b\b\b\b\b\b\b\b\b\b\b\b\b\b\b\b\b\b\b\b\b\n",
      "Epoch 2/10\n",
      "30/30 [==============================] - 0s 7ms/step - loss: 0.3940 - acc: 0.8198 - val_loss: 0.2341 - val_acc: 0.9197\b\b\b\b\b\b\b\b\b\b\b\b\b\b\b\b\b\b\b\b\b\b\b\b\b\b\b\b\b\b\b\b\b\b\b\b\b\b\b\b\b\b\b\b\b\b\b\b\b\b\b\b\b\b\b\b\b\b\b\b\b\b\b\b\b\b\b\b\b\b\b\b\b\b\b\b\b\b\b\b\b\b\b\b\b\b\b\b\b\b\b\b\b\b\b\b\b\b\b\b\b\b\b\b\b\b\b\b\b\b\b\b\b\b\b\b\b\b\b\b\b\b\b\b\b\b\b\b\b\b\b\b\b\b\b\b\b\b\b\b\b\b\b\b\b\b\b\b\b\b\b\b\b\b\b\b\b\b\b\b\b\b\b\b\b\b\b\b\b\b\b\b\b\b\b\b\b\b\b\b\b\b\b\b\b\b\b\b\b\b\b\b\b\b\b\b\b\b\b\b\b\b\b\b\b\b\b\b\b\b\b\b\b\b\b\b\b\b\b\b\b\b\b\b\b\b\b\b\b\b\b\b\b\b\b\b\b\b\b\b\b\b\b\b\b\b\b\b\b\b\b\b\b\b\b\b\b\b\b\b\b\b\b\b\b\b\b\n",
      "Epoch 3/10\n",
      "30/30 [==============================] - 0s 8ms/step - loss: 0.1514 - acc: 0.9492 - val_loss: 0.1943 - val_acc: 0.9271\b\b\b\b\b\b\b\b\b\b\b\b\b\b\b\b\b\b\b\b\b\b\b\b\b\b\b\b\b\b\b\b\b\b\b\b\b\b\b\b\b\b\b\b\b\b\b\b\b\b\b\b\b\b\b\b\b\b\b\b\b\b\b\b\b\b\b\b\b\b\b\b\b\b\b\b\b\b\b\b\b\b\b\b\b\b\b\b\b\b\b\b\b\b\b\b\b\b\b\b\b\b\b\b\b\b\b\b\b\b\b\b\b\b\b\b\b\b\b\b\b\b\b\b\b\b\b\b\b\b\b\b\b\b\b\b\b\b\b\b\b\b\b\b\b\b\b\b\b\b\b\b\b\b\b\b\b\b\b\b\b\b\b\b\b\b\b\b\b\b\b\b\b\b\b\b\b\b\b\b\b\b\b\b\b\b\b\b\b\b\b\b\b\b\b\b\b\b\b\b\b\b\b\b\b\b\b\b\b\b\b\b\b\b\b\b\b\b\b\b\b\b\b\b\b\b\b\b\b\b\b\b\b\b\b\b\b\b\b\b\b\b\b\b\b\b\b\b\b\b\b\b\b\b\b\b\b\b\b\b\b\b\b\b\b\b\b\n",
      "Epoch 4/10\n",
      "30/30 [==============================] - 0s 7ms/step - loss: 0.0899 - acc: 0.9722 - val_loss: 0.1987 - val_acc: 0.9376\b\b\b\b\b\b\b\b\b\b\b\b\b\b\b\b\b\b\b\b\b\b\b\b\b\b\b\b\b\b\b\b\b\b\b\b\b\b\b\b\b\b\b\b\b\b\b\b\b\b\b\b\b\b\b\b\b\b\b\b\b\b\b\b\b\b\b\b\b\b\b\b\b\b\b\b\b\b\b\b\b\b\b\b\b\b\b\b\b\b\b\b\b\b\b\b\b\b\b\b\b\b\b\b\b\b\b\b\b\b\b\b\b\b\b\b\b\b\b\b\b\b\b\b\b\b\b\b\b\b\b\b\b\b\b\b\b\b\b\b\b\b\b\b\b\b\b\b\b\b\b\b\b\b\b\b\b\b\b\b\b\b\b\b\b\b\b\b\b\b\b\b\b\b\b\b\b\b\b\b\b\b\b\b\b\b\b\b\b\b\b\b\b\b\b\b\b\b\b\b\b\b\b\b\b\b\b\b\b\b\b\b\b\b\b\b\b\b\b\b\b\b\b\b\b\b\b\b\b\b\b\b\b\b\b\b\b\b\b\b\b\b\b\b\b\b\b\b\b\b\b\b\b\b\b\b\b\b\b\b\b\b\b\b\b\b\b\n",
      "Epoch 5/10\n",
      "30/30 [==============================] - 0s 7ms/step - loss: 0.0547 - acc: 0.9844 - val_loss: 0.2487 - val_acc: 0.9218\b\b\b\b\b\b\b\b\b\b\b\b\b\b\b\b\b\b\b\b\b\b\b\b\b\b\b\b\b\b\b\b\b\b\b\b\b\b\b\b\b\b\b\b\b\b\b\b\b\b\b\b\b\b\b\b\b\b\b\b\b\b\b\b\b\b\b\b\b\b\b\b\b\b\b\b\b\b\b\b\b\b\b\b\b\b\b\b\b\b\b\b\b\b\b\b\b\b\b\b\b\b\b\b\b\b\b\b\b\b\b\b\b\b\b\b\b\b\b\b\b\b\b\b\b\b\b\b\b\b\b\b\b\b\b\b\b\b\b\b\b\b\b\b\b\b\b\b\b\b\b\b\b\b\b\b\b\b\b\b\b\b\b\b\b\b\b\b\b\b\b\b\b\b\b\b\b\b\b\b\b\b\b\b\b\b\b\b\b\b\b\b\b\b\b\b\b\b\b\b\b\b\b\b\b\b\b\b\b\b\b\b\b\b\b\b\b\b\b\b\b\b\b\b\b\b\b\b\b\b\b\b\b\b\b\b\b\b\b\b\b\b\b\b\b\b\b\b\b\b\b\b\b\b\b\b\b\b\b\b\b\b\b\b\b\b\b\n",
      "Epoch 6/10\n",
      "30/30 [==============================] - 0s 7ms/step - loss: 0.0329 - acc: 0.9921 - val_loss: 0.2743 - val_acc: 0.9397\b\b\b\b\b\b\b\b\b\b\b\b\b\b\b\b\b\b\b\b\b\b\b\b\b\b\b\b\b\b\b\b\b\b\b\b\b\b\b\b\b\b\b\b\b\b\b\b\b\b\b\b\b\b\b\b\b\b\b\b\b\b\b\b\b\b\b\b\b\b\b\b\b\b\b\b\b\b\b\b\b\b\b\b\b\b\b\b\b\b\b\b\b\b\b\b\b\b\b\b\b\b\b\b\b\b\b\b\b\b\b\b\b\b\b\b\b\b\b\b\b\b\b\b\b\b\b\b\b\b\b\b\b\b\b\b\b\b\b\b\b\b\b\b\b\b\b\b\b\b\b\b\b\b\b\b\b\b\b\b\b\b\b\b\b\b\b\b\b\b\b\b\b\b\b\b\b\b\b\b\b\b\b\b\b\b\b\b\b\b\b\b\b\b\b\b\b\b\b\b\b\b\b\b\b\b\b\b\b\b\b\b\b\b\b\b\b\b\b\b\b\b\b\b\b\b\b\b\b\b\b\b\b\b\b\b\b\b\b\b\b\b\b\b\b\b\b\b\b\b\b\b\b\b\b\b\b\b\b\b\b\b\b\b\b\b\b\n",
      "Epoch 7/10\n",
      "30/30 [==============================] - 0s 7ms/step - loss: 0.0185 - acc: 0.9952 - val_loss: 0.3899 - val_acc: 0.9165\b\b\b\b\b\b\b\b\b\b\b\b\b\b\b\b\b\b\b\b\b\b\b\b\b\b\b\b\b\b\b\b\b\b\b\b\b\b\b\b\b\b\b\b\b\b\b\b\b\b\b\b\b\b\b\b\b\b\b\b\b\b\b\b\b\b\b\b\b\b\b\b\b\b\b\b\b\b\b\b\b\b\b\b\b\b\b\b\b\b\b\b\b\b\b\b\b\b\b\b\b\b\b\b\b\b\b\b\b\b\b\b\b\b\b\b\b\b\b\b\b\b\b\b\b\b\b\b\b\b\b\b\b\b\b\b\b\b\b\b\b\b\b\b\b\b\b\b\b\b\b\b\b\b\b\b\b\b\b\b\b\b\b\b\b\b\b\b\b\b\b\b\b\b\b\b\b\b\b\b\b\b\b\b\b\b\b\b\b\b\b\b\b\b\b\b\b\b\b\b\b\b\b\b\b\b\b\b\b\b\b\b\b\b\b\b\b\b\b\b\b\b\b\b\b\b\b\b\b\b\b\b\b\b\b\b\b\b\b\b\b\b\b\b\b\b\b\b\b\b\b\b\b\b\b\b\b\b\b\b\b\b\b\b\b\b\b\n",
      "Epoch 8/10\n",
      "30/30 [==============================] - 0s 7ms/step - loss: 0.0242 - acc: 0.9939 - val_loss: 0.2961 - val_acc: 0.9323\b\b\b\b\b\b\b\b\b\b\b\b\b\b\b\b\b\b\b\b\b\b\b\b\b\b\b\b\b\b\b\b\b\b\b\b\b\b\b\b\b\b\b\b\b\b\b\b\b\b\b\b\b\b\b\b\b\b\b\b\b\b\b\b\b\b\b\b\b\b\b\b\b\b\b\b\b\b\b\b\b\b\b\b\b\b\b\b\b\b\b\b\b\b\b\b\b\b\b\b\b\b\b\b\b\b\b\b\b\b\b\b\b\b\b\b\b\b\b\b\b\b\b\b\b\b\b\b\b\b\b\b\b\b\b\b\b\b\b\b\b\b\b\b\b\b\b\b\b\b\b\b\b\b\b\b\b\b\b\b\b\b\b\b\b\b\b\b\b\b\b\b\b\b\b\b\b\b\b\b\b\b\b\b\b\b\b\b\b\b\b\b\b\b\b\b\b\b\b\b\b\b\b\b\b\b\b\b\b\b\b\b\b\b\b\b\b\b\b\b\b\b\b\b\b\b\b\b\b\b\b\b\b\b\b\b\b\b\b\b\b\b\b\b\b\b\b\b\b\b\b\b\b\b\b\b\b\b\b\b\b\b\b\b\b\b\b\n",
      "Epoch 9/10\n",
      "30/30 [==============================] - 0s 8ms/step - loss: 0.0138 - acc: 0.9981 - val_loss: 0.3228 - val_acc: 0.9260\b\b\b\b\b\b\b\b\b\b\b\b\b\b\b\b\b\b\b\b\b\b\b\b\b\b\b\b\b\b\b\b\b\b\b\b\b\b\b\b\b\b\b\b\b\b\b\b\b\b\b\b\b\b\b\b\b\b\b\b\b\b\b\b\b\b\b\b\b\b\b\b\b\b\b\b\b\b\b\b\b\b\b\b\b\b\b\b\b\b\b\b\b\b\b\b\b\b\b\b\b\b\b\b\b\b\b\b\b\b\b\b\b\b\b\b\b\b\b\b\b\b\b\b\b\b\b\b\b\b\b\b\b\b\b\b\b\b\b\b\b\b\b\b\b\b\b\b\b\b\b\b\b\b\b\b\b\b\b\b\b\b\b\b\b\b\b\b\b\b\b\b\b\b\b\b\b\b\b\b\b\b\b\b\b\b\b\b\b\b\b\b\b\b\b\b\b\b\b\b\b\b\b\b\b\b\b\b\b\b\b\b\b\b\b\b\b\b\b\b\b\b\b\b\b\b\b\b\b\b\b\b\b\b\b\b\b\b\b\b\b\b\b\b\b\b\b\b\b\b\b\b\b\b\b\b\b\b\b\b\b\b\b\b\b\b\b\n",
      "Epoch 10/10\n",
      "30/30 [==============================] - 0s 7ms/step - loss: 0.0084 - acc: 0.9989 - val_loss: 0.4004 - val_acc: 0.9260\b\b\b\b\b\b\b\b\b\b\b\b\b\b\b\b\b\b\b\b\b\b\b\b\b\b\b\b\b\b\b\b\b\b\b\b\b\b\b\b\b\b\b\b\b\b\b\b\b\b\b\b\b\b\b\b\b\b\b\b\b\b\b\b\b\b\b\b\b\b\b\b\b\b\b\b\b\b\b\b\b\b\b\b\b\b\b\b\b\b\b\b\b\b\b\b\b\b\b\b\b\b\b\b\b\b\b\b\b\b\b\b\b\b\b\b\b\b\b\b\b\b\b\b\b\b\b\b\b\b\b\b\b\b\b\b\b\b\b\b\b\b\b\b\b\b\b\b\b\b\b\b\b\b\b\b\b\b\b\b\b\b\b\b\b\b\b\b\b\b\b\b\b\b\b\b\b\b\b\b\b\b\b\b\b\b\b\b\b\b\b\b\b\b\b\b\b\b\b\b\b\b\b\b\b\b\b\b\b\b\b\b\b\b\b\b\b\b\b\b\b\b\b\b\b\b\b\b\b\b\b\b\b\b\b\b\b\b\b\b\b\b\b\b\b\b\b\b\b\b\b\b\b\b\b\b\b\b\b\b\b\b\b\b\b\b\b\n"
     ]
    },
    {
     "data": {
      "text/plain": "<tensorflow.python.keras.callbacks.History at 0x1494123da90>"
     },
     "execution_count": 25,
     "metadata": {},
     "output_type": "execute_result"
    }
   ],
   "source": [
    "model.fit(data_ok, data.review.values, epochs=10, batch_size=128, validation_split=0.2)\n"
   ],
   "metadata": {
    "collapsed": false,
    "pycharm": {
     "name": "#%%\n"
    }
   }
  }
 ],
 "metadata": {
  "kernelspec": {
   "name": "pycharm-c89a2a75",
   "language": "python",
   "display_name": "PyCharm (tensorflow2.0)"
  },
  "language_info": {
   "codemirror_mode": {
    "name": "ipython",
    "version": 2
   },
   "file_extension": ".py",
   "mimetype": "text/x-python",
   "name": "python",
   "nbconvert_exporter": "python",
   "pygments_lexer": "ipython2",
   "version": "2.7.6"
  }
 },
 "nbformat": 4,
 "nbformat_minor": 0
}