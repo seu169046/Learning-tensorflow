{
 "cells": [
  {
   "cell_type": "code",
   "execution_count": 1,
   "metadata": {},
   "outputs": [
    {
     "name": "stderr",
     "output_type": "stream",
     "text": [
      "D:\\Anaconda3\\lib\\site-packages\\h5py\\__init__.py:34: FutureWarning: Conversion of the second argument of issubdtype from `float` to `np.floating` is deprecated. In future, it will be treated as `np.float64 == np.dtype(float).type`.\n",
      "  from ._conv import register_converters as _register_converters\n"
     ]
    }
   ],
   "source": [
    "import tensorflow as tf\n",
    "import pandas as pd\n",
    "import numpy as np\n",
    "import matplotlib.pyplot as plt\n",
    "%matplotlib inline"
   ]
  },
  {
   "cell_type": "code",
   "execution_count": 2,
   "metadata": {},
   "outputs": [
    {
     "data": {
      "text/html": [
       "<div>\n",
       "<style>\n",
       "    .dataframe thead tr:only-child th {\n",
       "        text-align: right;\n",
       "    }\n",
       "\n",
       "    .dataframe thead th {\n",
       "        text-align: left;\n",
       "    }\n",
       "\n",
       "    .dataframe tbody tr th {\n",
       "        vertical-align: top;\n",
       "    }\n",
       "</style>\n",
       "<table border=\"1\" class=\"dataframe\">\n",
       "  <thead>\n",
       "    <tr style=\"text-align: right;\">\n",
       "      <th></th>\n",
       "      <th>0</th>\n",
       "      <th>1</th>\n",
       "      <th>2</th>\n",
       "      <th>3</th>\n",
       "      <th>4</th>\n",
       "      <th>5</th>\n",
       "      <th>6</th>\n",
       "      <th>7</th>\n",
       "      <th>8</th>\n",
       "      <th>9</th>\n",
       "      <th>10</th>\n",
       "      <th>11</th>\n",
       "      <th>12</th>\n",
       "      <th>13</th>\n",
       "      <th>14</th>\n",
       "      <th>15</th>\n",
       "    </tr>\n",
       "  </thead>\n",
       "  <tbody>\n",
       "    <tr>\n",
       "      <th>0</th>\n",
       "      <td>0</td>\n",
       "      <td>30.83</td>\n",
       "      <td>0.000</td>\n",
       "      <td>0</td>\n",
       "      <td>0</td>\n",
       "      <td>9</td>\n",
       "      <td>0</td>\n",
       "      <td>1.25</td>\n",
       "      <td>0</td>\n",
       "      <td>0</td>\n",
       "      <td>1</td>\n",
       "      <td>1</td>\n",
       "      <td>0</td>\n",
       "      <td>202</td>\n",
       "      <td>0.0</td>\n",
       "      <td>-1</td>\n",
       "    </tr>\n",
       "    <tr>\n",
       "      <th>1</th>\n",
       "      <td>1</td>\n",
       "      <td>58.67</td>\n",
       "      <td>4.460</td>\n",
       "      <td>0</td>\n",
       "      <td>0</td>\n",
       "      <td>8</td>\n",
       "      <td>1</td>\n",
       "      <td>3.04</td>\n",
       "      <td>0</td>\n",
       "      <td>0</td>\n",
       "      <td>6</td>\n",
       "      <td>1</td>\n",
       "      <td>0</td>\n",
       "      <td>43</td>\n",
       "      <td>560.0</td>\n",
       "      <td>-1</td>\n",
       "    </tr>\n",
       "    <tr>\n",
       "      <th>2</th>\n",
       "      <td>1</td>\n",
       "      <td>24.50</td>\n",
       "      <td>0.500</td>\n",
       "      <td>0</td>\n",
       "      <td>0</td>\n",
       "      <td>8</td>\n",
       "      <td>1</td>\n",
       "      <td>1.50</td>\n",
       "      <td>0</td>\n",
       "      <td>1</td>\n",
       "      <td>0</td>\n",
       "      <td>1</td>\n",
       "      <td>0</td>\n",
       "      <td>280</td>\n",
       "      <td>824.0</td>\n",
       "      <td>-1</td>\n",
       "    </tr>\n",
       "    <tr>\n",
       "      <th>3</th>\n",
       "      <td>0</td>\n",
       "      <td>27.83</td>\n",
       "      <td>1.540</td>\n",
       "      <td>0</td>\n",
       "      <td>0</td>\n",
       "      <td>9</td>\n",
       "      <td>0</td>\n",
       "      <td>3.75</td>\n",
       "      <td>0</td>\n",
       "      <td>0</td>\n",
       "      <td>5</td>\n",
       "      <td>0</td>\n",
       "      <td>0</td>\n",
       "      <td>100</td>\n",
       "      <td>3.0</td>\n",
       "      <td>-1</td>\n",
       "    </tr>\n",
       "    <tr>\n",
       "      <th>4</th>\n",
       "      <td>0</td>\n",
       "      <td>20.17</td>\n",
       "      <td>5.625</td>\n",
       "      <td>0</td>\n",
       "      <td>0</td>\n",
       "      <td>9</td>\n",
       "      <td>0</td>\n",
       "      <td>1.71</td>\n",
       "      <td>0</td>\n",
       "      <td>1</td>\n",
       "      <td>0</td>\n",
       "      <td>1</td>\n",
       "      <td>2</td>\n",
       "      <td>120</td>\n",
       "      <td>0.0</td>\n",
       "      <td>-1</td>\n",
       "    </tr>\n",
       "  </tbody>\n",
       "</table>\n",
       "</div>"
      ],
      "text/plain": [
       "   0      1      2   3   4   5   6     7   8   9   10  11  12   13     14  15\n",
       "0   0  30.83  0.000   0   0   9   0  1.25   0   0   1   1   0  202    0.0  -1\n",
       "1   1  58.67  4.460   0   0   8   1  3.04   0   0   6   1   0   43  560.0  -1\n",
       "2   1  24.50  0.500   0   0   8   1  1.50   0   1   0   1   0  280  824.0  -1\n",
       "3   0  27.83  1.540   0   0   9   0  3.75   0   0   5   0   0  100    3.0  -1\n",
       "4   0  20.17  5.625   0   0   9   0  1.71   0   1   0   1   2  120    0.0  -1"
      ]
     },
     "execution_count": 2,
     "metadata": {},
     "output_type": "execute_result"
    }
   ],
   "source": [
    "data = pd.read_csv('data/credit-a.csv', header=None)\n",
    "data.head()"
   ]
  },
  {
   "cell_type": "code",
   "execution_count": 3,
   "metadata": {},
   "outputs": [
    {
     "data": {
      "text/plain": [
       " 1    357\n",
       "-1    296\n",
       "Name: 15, dtype: int64"
      ]
     },
     "execution_count": 3,
     "metadata": {},
     "output_type": "execute_result"
    }
   ],
   "source": [
    "data.iloc[:,-1].value_counts()"
   ]
  },
  {
   "cell_type": "code",
   "execution_count": 4,
   "metadata": {
    "collapsed": true
   },
   "outputs": [],
   "source": [
    "x = data.iloc[:, :-1]\n",
    "y = data.iloc[:, -1].replace(-1, 0)  # 将-1替换成0"
   ]
  },
  {
   "cell_type": "code",
   "execution_count": 6,
   "metadata": {},
   "outputs": [
    {
     "name": "stdout",
     "output_type": "stream",
     "text": [
      "Model: \"sequential_1\"\n",
      "_________________________________________________________________\n",
      "Layer (type)                 Output Shape              Param #   \n",
      "=================================================================\n",
      "dense_3 (Dense)              (None, 16)                256       \n",
      "_________________________________________________________________\n",
      "dense_4 (Dense)              (None, 8)                 136       \n",
      "_________________________________________________________________\n",
      "dense_5 (Dense)              (None, 1)                 9         \n",
      "=================================================================\n",
      "Total params: 401\n",
      "Trainable params: 401\n",
      "Non-trainable params: 0\n",
      "_________________________________________________________________\n"
     ]
    }
   ],
   "source": [
    "model = tf.keras.Sequential()\n",
    "model.add(tf.keras.layers.Dense(16, input_shape=(15,), activation='relu'))\n",
    "model.add(tf.keras.layers.Dense(8, activation='relu'))\n",
    "model.add(tf.keras.layers.Dense(1, activation='sigmoid'))\n",
    "model.summary()"
   ]
  },
  {
   "cell_type": "code",
   "execution_count": 7,
   "metadata": {},
   "outputs": [
    {
     "name": "stdout",
     "output_type": "stream",
     "text": [
      "WARNING:tensorflow:Falling back from v2 loop because of error: Failed to find data adapter that can handle input: <class 'pandas.core.frame.DataFrame'>, <class 'NoneType'>\n",
      "Train on 653 samples\n",
      "Epoch 1/100\n",
      "653/653 [==============================] - 1s 1ms/sample - loss: 4.3926 - acc: 0.5130\n",
      "Epoch 2/100\n",
      "653/653 [==============================] - 0s 58us/sample - loss: 2.9399 - acc: 0.6248\n",
      "Epoch 3/100\n",
      "653/653 [==============================] - 0s 57us/sample - loss: 2.3662 - acc: 0.5896\n",
      "Epoch 4/100\n",
      "653/653 [==============================] - 0s 61us/sample - loss: 2.1470 - acc: 0.5881\n",
      "Epoch 5/100\n",
      "653/653 [==============================] - 0s 60us/sample - loss: 1.9813 - acc: 0.6034\n",
      "Epoch 6/100\n",
      "653/653 [==============================] - 0s 57us/sample - loss: 1.7196 - acc: 0.5926\n",
      "Epoch 7/100\n",
      "653/653 [==============================] - 0s 60us/sample - loss: 1.4333 - acc: 0.6049\n",
      "Epoch 8/100\n",
      "653/653 [==============================] - 0s 61us/sample - loss: 1.4396 - acc: 0.6279\n",
      "Epoch 9/100\n",
      "653/653 [==============================] - 0s 58us/sample - loss: 1.1866 - acc: 0.6248\n",
      "Epoch 10/100\n",
      "653/653 [==============================] - 0s 60us/sample - loss: 0.9983 - acc: 0.6126\n",
      "Epoch 11/100\n",
      "653/653 [==============================] - 0s 61us/sample - loss: 0.8044 - acc: 0.6616\n",
      "Epoch 12/100\n",
      "653/653 [==============================] - 0s 58us/sample - loss: 0.7523 - acc: 0.6432\n",
      "Epoch 13/100\n",
      "653/653 [==============================] - 0s 55us/sample - loss: 0.7468 - acc: 0.6769\n",
      "Epoch 14/100\n",
      "653/653 [==============================] - 0s 57us/sample - loss: 1.2433 - acc: 0.6585\n",
      "Epoch 15/100\n",
      "653/653 [==============================] - 0s 60us/sample - loss: 1.5577 - acc: 0.7014\n",
      "Epoch 16/100\n",
      "653/653 [==============================] - 0s 60us/sample - loss: 1.2658 - acc: 0.7121\n",
      "Epoch 17/100\n",
      "653/653 [==============================] - 0s 61us/sample - loss: 1.0643 - acc: 0.6570\n",
      "Epoch 18/100\n",
      "653/653 [==============================] - 0s 60us/sample - loss: 0.8957 - acc: 0.7305\n",
      "Epoch 19/100\n",
      "653/653 [==============================] - 0s 60us/sample - loss: 0.7569 - acc: 0.7121\n",
      "Epoch 20/100\n",
      "653/653 [==============================] - 0s 60us/sample - loss: 0.6927 - acc: 0.6830\n",
      "Epoch 21/100\n",
      "653/653 [==============================] - 0s 55us/sample - loss: 0.6331 - acc: 0.7136\n",
      "Epoch 22/100\n",
      "653/653 [==============================] - 0s 57us/sample - loss: 0.6570 - acc: 0.7259\n",
      "Epoch 23/100\n",
      "653/653 [==============================] - 0s 58us/sample - loss: 0.5925 - acc: 0.7289\n",
      "Epoch 24/100\n",
      "653/653 [==============================] - 0s 58us/sample - loss: 0.5684 - acc: 0.7458\n",
      "Epoch 25/100\n",
      "653/653 [==============================] - 0s 57us/sample - loss: 0.5701 - acc: 0.7427\n",
      "Epoch 26/100\n",
      "653/653 [==============================] - 0s 60us/sample - loss: 0.5791 - acc: 0.7458\n",
      "Epoch 27/100\n",
      "653/653 [==============================] - 0s 61us/sample - loss: 0.6012 - acc: 0.7489\n",
      "Epoch 28/100\n",
      "653/653 [==============================] - ETA: 0s - loss: 0.5742 - acc: 0.718 - 0s 58us/sample - loss: 0.5929 - acc: 0.7427\n",
      "Epoch 29/100\n",
      "653/653 [==============================] - 0s 58us/sample - loss: 0.5747 - acc: 0.7703\n",
      "Epoch 30/100\n",
      "653/653 [==============================] - 0s 58us/sample - loss: 0.5258 - acc: 0.7933\n",
      "Epoch 31/100\n",
      "653/653 [==============================] - 0s 60us/sample - loss: 0.5331 - acc: 0.7734\n",
      "Epoch 32/100\n",
      "653/653 [==============================] - ETA: 0s - loss: 0.2919 - acc: 0.906 - 0s 60us/sample - loss: 0.5290 - acc: 0.7871\n",
      "Epoch 33/100\n",
      "653/653 [==============================] - 0s 58us/sample - loss: 0.5113 - acc: 0.7948\n",
      "Epoch 34/100\n",
      "653/653 [==============================] - 0s 60us/sample - loss: 0.5121 - acc: 0.7779\n",
      "Epoch 35/100\n",
      "653/653 [==============================] - 0s 63us/sample - loss: 0.5274 - acc: 0.7902\n",
      "Epoch 36/100\n",
      "653/653 [==============================] - 0s 60us/sample - loss: 0.5948 - acc: 0.7779\n",
      "Epoch 37/100\n",
      "653/653 [==============================] - 0s 61us/sample - loss: 0.5987 - acc: 0.7642\n",
      "Epoch 38/100\n",
      "653/653 [==============================] - 0s 58us/sample - loss: 0.4951 - acc: 0.8055\n",
      "Epoch 39/100\n",
      "653/653 [==============================] - 0s 60us/sample - loss: 0.4970 - acc: 0.8009\n",
      "Epoch 40/100\n",
      "653/653 [==============================] - 0s 58us/sample - loss: 0.5252 - acc: 0.7979\n",
      "Epoch 41/100\n",
      "653/653 [==============================] - 0s 58us/sample - loss: 0.5528 - acc: 0.7856\n",
      "Epoch 42/100\n",
      "653/653 [==============================] - 0s 60us/sample - loss: 0.5353 - acc: 0.7825\n",
      "Epoch 43/100\n",
      "653/653 [==============================] - 0s 60us/sample - loss: 0.5994 - acc: 0.7688\n",
      "Epoch 44/100\n",
      "653/653 [==============================] - 0s 60us/sample - loss: 0.5148 - acc: 0.8070\n",
      "Epoch 45/100\n",
      "653/653 [==============================] - 0s 58us/sample - loss: 0.5127 - acc: 0.8040\n",
      "Epoch 46/100\n",
      "653/653 [==============================] - 0s 57us/sample - loss: 0.4876 - acc: 0.8009\n",
      "Epoch 47/100\n",
      "653/653 [==============================] - 0s 61us/sample - loss: 0.5447 - acc: 0.7856\n",
      "Epoch 48/100\n",
      "653/653 [==============================] - 0s 60us/sample - loss: 0.5792 - acc: 0.7734\n",
      "Epoch 49/100\n",
      "653/653 [==============================] - 0s 57us/sample - loss: 0.4864 - acc: 0.8285\n",
      "Epoch 50/100\n",
      "653/653 [==============================] - 0s 58us/sample - loss: 0.4873 - acc: 0.8224\n",
      "Epoch 51/100\n",
      "653/653 [==============================] - 0s 61us/sample - loss: 0.4925 - acc: 0.8040\n",
      "Epoch 52/100\n",
      "653/653 [==============================] - 0s 60us/sample - loss: 0.4877 - acc: 0.8162\n",
      "Epoch 53/100\n",
      "653/653 [==============================] - 0s 57us/sample - loss: 0.4828 - acc: 0.8193\n",
      "Epoch 54/100\n",
      "653/653 [==============================] - 0s 60us/sample - loss: 0.5031 - acc: 0.8178\n",
      "Epoch 55/100\n",
      "653/653 [==============================] - 0s 60us/sample - loss: 0.5302 - acc: 0.8009\n",
      "Epoch 56/100\n",
      "653/653 [==============================] - 0s 60us/sample - loss: 0.4600 - acc: 0.8254\n",
      "Epoch 57/100\n",
      "653/653 [==============================] - 0s 61us/sample - loss: 0.4675 - acc: 0.8331\n",
      "Epoch 58/100\n",
      "653/653 [==============================] - 0s 58us/sample - loss: 0.4566 - acc: 0.8346\n",
      "Epoch 59/100\n",
      "653/653 [==============================] - 0s 57us/sample - loss: 0.5193 - acc: 0.7979\n",
      "Epoch 60/100\n",
      "653/653 [==============================] - 0s 58us/sample - loss: 0.5734 - acc: 0.8009\n",
      "Epoch 61/100\n",
      "653/653 [==============================] - 0s 60us/sample - loss: 0.4719 - acc: 0.8162\n",
      "Epoch 62/100\n",
      "653/653 [==============================] - 0s 58us/sample - loss: 0.4682 - acc: 0.8254\n",
      "Epoch 63/100\n",
      "653/653 [==============================] - 0s 60us/sample - loss: 0.4750 - acc: 0.8224\n",
      "Epoch 64/100\n",
      "653/653 [==============================] - 0s 60us/sample - loss: 0.4561 - acc: 0.8361\n",
      "Epoch 65/100\n",
      "653/653 [==============================] - 0s 58us/sample - loss: 0.4810 - acc: 0.8254\n",
      "Epoch 66/100\n",
      "653/653 [==============================] - 0s 60us/sample - loss: 0.4578 - acc: 0.8361\n",
      "Epoch 67/100\n",
      "653/653 [==============================] - 0s 60us/sample - loss: 0.5231 - acc: 0.8086\n",
      "Epoch 68/100\n",
      "653/653 [==============================] - 0s 58us/sample - loss: 0.4779 - acc: 0.8178\n",
      "Epoch 69/100\n",
      "653/653 [==============================] - 0s 55us/sample - loss: 0.5633 - acc: 0.8101\n",
      "Epoch 70/100\n",
      "653/653 [==============================] - 0s 58us/sample - loss: 0.4459 - acc: 0.8315\n",
      "Epoch 71/100\n",
      "653/653 [==============================] - 0s 58us/sample - loss: 0.4685 - acc: 0.8208\n",
      "Epoch 72/100\n",
      "653/653 [==============================] - 0s 60us/sample - loss: 0.4516 - acc: 0.8300\n",
      "Epoch 73/100\n",
      "653/653 [==============================] - 0s 60us/sample - loss: 0.4313 - acc: 0.8346\n",
      "Epoch 74/100\n",
      "653/653 [==============================] - 0s 60us/sample - loss: 0.4467 - acc: 0.8132\n",
      "Epoch 75/100\n",
      "653/653 [==============================] - 0s 61us/sample - loss: 0.4877 - acc: 0.8116\n",
      "Epoch 76/100\n",
      "653/653 [==============================] - 0s 60us/sample - loss: 0.4845 - acc: 0.8239\n",
      "Epoch 77/100\n",
      "653/653 [==============================] - 0s 58us/sample - loss: 0.4492 - acc: 0.8315\n",
      "Epoch 78/100\n",
      "653/653 [==============================] - ETA: 0s - loss: 0.4803 - acc: 0.687 - 0s 60us/sample - loss: 0.4320 - acc: 0.8315\n",
      "Epoch 79/100\n",
      "653/653 [==============================] - 0s 60us/sample - loss: 0.4666 - acc: 0.8315\n"
     ]
    },
    {
     "name": "stdout",
     "output_type": "stream",
     "text": [
      "Epoch 80/100\n",
      "653/653 [==============================] - 0s 60us/sample - loss: 0.5535 - acc: 0.7963\n",
      "Epoch 81/100\n",
      "653/653 [==============================] - 0s 61us/sample - loss: 0.5042 - acc: 0.8208\n",
      "Epoch 82/100\n",
      "653/653 [==============================] - 0s 58us/sample - loss: 0.4617 - acc: 0.8361\n",
      "Epoch 83/100\n",
      "653/653 [==============================] - 0s 60us/sample - loss: 0.4288 - acc: 0.8377\n",
      "Epoch 84/100\n",
      "653/653 [==============================] - 0s 60us/sample - loss: 0.5300 - acc: 0.8009\n",
      "Epoch 85/100\n",
      "653/653 [==============================] - 0s 58us/sample - loss: 0.4682 - acc: 0.8178\n",
      "Epoch 86/100\n",
      "653/653 [==============================] - 0s 57us/sample - loss: 0.6624 - acc: 0.7917\n",
      "Epoch 87/100\n",
      "653/653 [==============================] - 0s 60us/sample - loss: 0.5536 - acc: 0.8132\n",
      "Epoch 88/100\n",
      "653/653 [==============================] - 0s 58us/sample - loss: 0.4414 - acc: 0.8346\n",
      "Epoch 89/100\n",
      "653/653 [==============================] - 0s 61us/sample - loss: 0.5402 - acc: 0.8147\n",
      "Epoch 90/100\n",
      "653/653 [==============================] - 0s 60us/sample - loss: 1.5944 - acc: 0.7642\n",
      "Epoch 91/100\n",
      "653/653 [==============================] - 0s 60us/sample - loss: 1.5358 - acc: 0.7810\n",
      "Epoch 92/100\n",
      "653/653 [==============================] - 0s 58us/sample - loss: 1.2481 - acc: 0.7795\n",
      "Epoch 93/100\n",
      "653/653 [==============================] - 0s 58us/sample - loss: 0.8847 - acc: 0.7657\n",
      "Epoch 94/100\n",
      "653/653 [==============================] - 0s 61us/sample - loss: 0.8013 - acc: 0.7841\n",
      "Epoch 95/100\n",
      "653/653 [==============================] - 0s 57us/sample - loss: 0.7070 - acc: 0.7795\n",
      "Epoch 96/100\n",
      "653/653 [==============================] - 0s 57us/sample - loss: 0.6941 - acc: 0.7979\n",
      "Epoch 97/100\n",
      "653/653 [==============================] - 0s 58us/sample - loss: 0.5207 - acc: 0.8270\n",
      "Epoch 98/100\n",
      "653/653 [==============================] - 0s 60us/sample - loss: 0.4927 - acc: 0.8377\n",
      "Epoch 99/100\n",
      "653/653 [==============================] - 0s 57us/sample - loss: 0.4295 - acc: 0.8346\n",
      "Epoch 100/100\n",
      "653/653 [==============================] - 0s 58us/sample - loss: 0.5135 - acc: 0.8239\n"
     ]
    }
   ],
   "source": [
    "model.compile(optimizer='adam',\n",
    "             loss='binary_crossentropy',\n",
    "             metrics=['acc'])\n",
    "history = model.fit(x, y, epochs=100)"
   ]
  },
  {
   "cell_type": "code",
   "execution_count": 8,
   "metadata": {},
   "outputs": [
    {
     "data": {
      "text/plain": [
       "dict_keys(['loss', 'acc'])"
      ]
     },
     "execution_count": 8,
     "metadata": {},
     "output_type": "execute_result"
    }
   ],
   "source": [
    "history.history.keys()"
   ]
  },
  {
   "cell_type": "code",
   "execution_count": 9,
   "metadata": {},
   "outputs": [
    {
     "data": {
      "text/plain": [
       "[<matplotlib.lines.Line2D at 0x25be8cf7e10>]"
      ]
     },
     "execution_count": 9,
     "metadata": {},
     "output_type": "execute_result"
    },
    {
     "data": {
      "image/png": "[encoded data removed]",
      "text/plain": [
       "<matplotlib.figure.Figure at 0x25be4b47518>"
      ]
     },
     "metadata": {},
     "output_type": "display_data"
    }
   ],
   "source": [
    "plt.plot(history.epoch, history.history.get('loss'))"
   ]
  },
  {
   "cell_type": "code",
   "execution_count": 10,
   "metadata": {},
   "outputs": [
    {
     "data": {
      "text/plain": [
       "[<matplotlib.lines.Line2D at 0x25bee69d320>]"
      ]
     },
     "execution_count": 10,
     "metadata": {},
     "output_type": "execute_result"
    },
    {
     "data": {
      "image/png": "[encoded data removed]",
      "text/plain": [
       "<matplotlib.figure.Figure at 0x25bee63d048>"
      ]
     },
     "metadata": {},
     "output_type": "display_data"
    }
   ],
   "source": [
    "plt.plot(history.epoch, history.history.get('acc'))"
   ]
  },
  {
   "cell_type": "code",
   "execution_count": null,
   "metadata": {
    "collapsed": true
   },
   "outputs": [],
   "source": []
  }
 ],
 "metadata": {
  "kernelspec": {
   "display_name": "Python 3",
   "language": "python",
   "name": "python3"
  },
  "language_info": {
   "codemirror_mode": {
    "name": "ipython",
    "version": 3
   },
   "file_extension": ".py",
   "mimetype": "text/x-python",
   "name": "python",
   "nbconvert_exporter": "python",
   "pygments_lexer": "ipython3",
   "version": "3.6.3"
  }
 },
 "nbformat": 4,
 "nbformat_minor": 2
}
