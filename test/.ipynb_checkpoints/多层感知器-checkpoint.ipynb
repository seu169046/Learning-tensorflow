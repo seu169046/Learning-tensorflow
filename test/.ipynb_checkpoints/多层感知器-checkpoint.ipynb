{
 "cells": [
  {
   "cell_type": "code",
   "execution_count": 1,
   "metadata": {},
   "outputs": [
    {
     "name": "stderr",
     "output_type": "stream",
     "text": [
      "D:\\Anaconda3\\lib\\site-packages\\h5py\\__init__.py:34: FutureWarning: Conversion of the second argument of issubdtype from `float` to `np.floating` is deprecated. In future, it will be treated as `np.float64 == np.dtype(float).type`.\n",
      "  from ._conv import register_converters as _register_converters\n"
     ]
    }
   ],
   "source": [
    "import tensorflow as tf\n",
    "import pandas as pd\n",
    "import numpy as np\n",
    "import matplotlib.pyplot as plt\n",
    "%matplotlib inline"
   ]
  },
  {
   "cell_type": "code",
   "execution_count": 2,
   "metadata": {},
   "outputs": [
    {
     "data": {
      "text/html": [
       "<div>\n",
       "<style>\n",
       "    .dataframe thead tr:only-child th {\n",
       "        text-align: right;\n",
       "    }\n",
       "\n",
       "    .dataframe thead th {\n",
       "        text-align: left;\n",
       "    }\n",
       "\n",
       "    .dataframe tbody tr th {\n",
       "        vertical-align: top;\n",
       "    }\n",
       "</style>\n",
       "<table border=\"1\" class=\"dataframe\">\n",
       "  <thead>\n",
       "    <tr style=\"text-align: right;\">\n",
       "      <th></th>\n",
       "      <th>Unnamed: 0</th>\n",
       "      <th>TV</th>\n",
       "      <th>radio</th>\n",
       "      <th>newspaper</th>\n",
       "      <th>sales</th>\n",
       "    </tr>\n",
       "  </thead>\n",
       "  <tbody>\n",
       "    <tr>\n",
       "      <th>0</th>\n",
       "      <td>1</td>\n",
       "      <td>230.1</td>\n",
       "      <td>37.8</td>\n",
       "      <td>69.2</td>\n",
       "      <td>22.1</td>\n",
       "    </tr>\n",
       "    <tr>\n",
       "      <th>1</th>\n",
       "      <td>2</td>\n",
       "      <td>44.5</td>\n",
       "      <td>39.3</td>\n",
       "      <td>45.1</td>\n",
       "      <td>10.4</td>\n",
       "    </tr>\n",
       "    <tr>\n",
       "      <th>2</th>\n",
       "      <td>3</td>\n",
       "      <td>17.2</td>\n",
       "      <td>45.9</td>\n",
       "      <td>69.3</td>\n",
       "      <td>9.3</td>\n",
       "    </tr>\n",
       "    <tr>\n",
       "      <th>3</th>\n",
       "      <td>4</td>\n",
       "      <td>151.5</td>\n",
       "      <td>41.3</td>\n",
       "      <td>58.5</td>\n",
       "      <td>18.5</td>\n",
       "    </tr>\n",
       "    <tr>\n",
       "      <th>4</th>\n",
       "      <td>5</td>\n",
       "      <td>180.8</td>\n",
       "      <td>10.8</td>\n",
       "      <td>58.4</td>\n",
       "      <td>12.9</td>\n",
       "    </tr>\n",
       "  </tbody>\n",
       "</table>\n",
       "</div>"
      ],
      "text/plain": [
       "   Unnamed: 0     TV  radio  newspaper  sales\n",
       "0           1  230.1   37.8       69.2   22.1\n",
       "1           2   44.5   39.3       45.1   10.4\n",
       "2           3   17.2   45.9       69.3    9.3\n",
       "3           4  151.5   41.3       58.5   18.5\n",
       "4           5  180.8   10.8       58.4   12.9"
      ]
     },
     "execution_count": 2,
     "metadata": {},
     "output_type": "execute_result"
    }
   ],
   "source": [
    "data = pd.read_csv('data/Advertising.csv')\n",
    "data.head()"
   ]
  },
  {
   "cell_type": "code",
   "execution_count": 3,
   "metadata": {},
   "outputs": [
    {
     "data": {
      "text/plain": [
       "<matplotlib.collections.PathCollection at 0x2b0b37b93c8>"
      ]
     },
     "execution_count": 3,
     "metadata": {},
     "output_type": "execute_result"
    },
    {
     "data": {
      "image/png": "[encoded data removed]",
      "text/plain": [
       "<matplotlib.figure.Figure at 0x2b0b16ee400>"
      ]
     },
     "metadata": {},
     "output_type": "display_data"
    }
   ],
   "source": [
    "plt.scatter(data.TV, data.sales)"
   ]
  },
  {
   "cell_type": "code",
   "execution_count": 4,
   "metadata": {
    "collapsed": true
   },
   "outputs": [],
   "source": [
    "x = data.iloc[:,1:-1]\n",
    "y = data.iloc[:, -1]"
   ]
  },
  {
   "cell_type": "code",
   "execution_count": 5,
   "metadata": {},
   "outputs": [
    {
     "name": "stdout",
     "output_type": "stream",
     "text": [
      "Model: \"sequential\"\n",
      "_________________________________________________________________\n",
      "Layer (type)                 Output Shape              Param #   \n",
      "=================================================================\n",
      "dense (Dense)                (None, 10)                40        \n",
      "_________________________________________________________________\n",
      "dense_1 (Dense)              (None, 1)                 11        \n",
      "=================================================================\n",
      "Total params: 51\n",
      "Trainable params: 51\n",
      "Non-trainable params: 0\n",
      "_________________________________________________________________\n"
     ]
    }
   ],
   "source": [
    "model = tf.keras.Sequential([tf.keras.layers.Dense(10, input_shape=(3,), activation='relu'),\n",
    "                            tf.keras.layers.Dense(1)]\n",
    ")\n",
    "model.summary()"
   ]
  },
  {
   "cell_type": "code",
   "execution_count": 6,
   "metadata": {},
   "outputs": [
    {
     "name": "stdout",
     "output_type": "stream",
     "text": [
      "WARNING:tensorflow:Falling back from v2 loop because of error: Failed to find data adapter that can handle input: <class 'pandas.core.frame.DataFrame'>, <class 'NoneType'>\n",
      "Train on 200 samples\n",
      "Epoch 1/100\n",
      "200/200 [==============================] - 0s 2ms/sample - loss: 2379.9092\n",
      "Epoch 2/100\n",
      "200/200 [==============================] - 0s 55us/sample - loss: 2125.2917\n",
      "Epoch 3/100\n",
      "200/200 [==============================] - 0s 55us/sample - loss: 1888.9324\n",
      "Epoch 4/100\n",
      "200/200 [==============================] - 0s 55us/sample - loss: 1676.6747\n",
      "Epoch 5/100\n",
      "200/200 [==============================] - 0s 55us/sample - loss: 1483.2240\n",
      "Epoch 6/100\n",
      "200/200 [==============================] - 0s 50us/sample - loss: 1310.2244\n",
      "Epoch 7/100\n",
      "200/200 [==============================] - 0s 55us/sample - loss: 1143.2323\n",
      "Epoch 8/100\n",
      "200/200 [==============================] - 0s 55us/sample - loss: 992.6254\n",
      "Epoch 9/100\n",
      "200/200 [==============================] - 0s 50us/sample - loss: 856.5880\n",
      "Epoch 10/100\n",
      "200/200 [==============================] - 0s 55us/sample - loss: 720.5470\n",
      "Epoch 11/100\n",
      "200/200 [==============================] - 0s 50us/sample - loss: 602.2884\n",
      "Epoch 12/100\n",
      "200/200 [==============================] - 0s 50us/sample - loss: 496.7905\n",
      "Epoch 13/100\n",
      "200/200 [==============================] - 0s 55us/sample - loss: 405.1246\n",
      "Epoch 14/100\n",
      "200/200 [==============================] - 0s 55us/sample - loss: 325.2365\n",
      "Epoch 15/100\n",
      "200/200 [==============================] - 0s 50us/sample - loss: 255.9300\n",
      "Epoch 16/100\n",
      "200/200 [==============================] - 0s 50us/sample - loss: 197.2845\n",
      "Epoch 17/100\n",
      "200/200 [==============================] - 0s 55us/sample - loss: 152.5003\n",
      "Epoch 18/100\n",
      "200/200 [==============================] - 0s 50us/sample - loss: 116.9838\n",
      "Epoch 19/100\n",
      "200/200 [==============================] - 0s 55us/sample - loss: 87.7636\n",
      "Epoch 20/100\n",
      "200/200 [==============================] - 0s 55us/sample - loss: 65.7363\n",
      "Epoch 21/100\n",
      "200/200 [==============================] - 0s 55us/sample - loss: 50.5023\n",
      "Epoch 22/100\n",
      "200/200 [==============================] - 0s 60us/sample - loss: 38.9609\n",
      "Epoch 23/100\n",
      "200/200 [==============================] - 0s 55us/sample - loss: 31.2791\n",
      "Epoch 24/100\n",
      "200/200 [==============================] - 0s 55us/sample - loss: 26.1316\n",
      "Epoch 25/100\n",
      "200/200 [==============================] - 0s 55us/sample - loss: 22.4819\n",
      "Epoch 26/100\n",
      "200/200 [==============================] - 0s 55us/sample - loss: 20.3398\n",
      "Epoch 27/100\n",
      "200/200 [==============================] - 0s 60us/sample - loss: 18.8315\n",
      "Epoch 28/100\n",
      "200/200 [==============================] - 0s 60us/sample - loss: 17.6580\n",
      "Epoch 29/100\n",
      "200/200 [==============================] - 0s 55us/sample - loss: 16.7852\n",
      "Epoch 30/100\n",
      "200/200 [==============================] - 0s 55us/sample - loss: 16.0618\n",
      "Epoch 31/100\n",
      "200/200 [==============================] - 0s 60us/sample - loss: 15.3894\n",
      "Epoch 32/100\n",
      "200/200 [==============================] - 0s 55us/sample - loss: 14.8475\n",
      "Epoch 33/100\n",
      "200/200 [==============================] - 0s 50us/sample - loss: 14.3258\n",
      "Epoch 34/100\n",
      "200/200 [==============================] - 0s 55us/sample - loss: 13.8081\n",
      "Epoch 35/100\n",
      "200/200 [==============================] - 0s 55us/sample - loss: 13.3197\n",
      "Epoch 36/100\n",
      "200/200 [==============================] - 0s 55us/sample - loss: 12.8196\n",
      "Epoch 37/100\n",
      "200/200 [==============================] - 0s 50us/sample - loss: 12.3698\n",
      "Epoch 38/100\n",
      "200/200 [==============================] - 0s 60us/sample - loss: 11.9595\n",
      "Epoch 39/100\n",
      "200/200 [==============================] - 0s 55us/sample - loss: 11.6111\n",
      "Epoch 40/100\n",
      "200/200 [==============================] - 0s 50us/sample - loss: 11.2594\n",
      "Epoch 41/100\n",
      "200/200 [==============================] - 0s 55us/sample - loss: 10.9492\n",
      "Epoch 42/100\n",
      "200/200 [==============================] - 0s 55us/sample - loss: 10.6853\n",
      "Epoch 43/100\n",
      "200/200 [==============================] - 0s 50us/sample - loss: 10.4273\n",
      "Epoch 44/100\n",
      "200/200 [==============================] - 0s 50us/sample - loss: 10.1691\n",
      "Epoch 45/100\n",
      "200/200 [==============================] - 0s 55us/sample - loss: 9.9435\n",
      "Epoch 46/100\n",
      "200/200 [==============================] - 0s 55us/sample - loss: 9.7235\n",
      "Epoch 47/100\n",
      "200/200 [==============================] - 0s 50us/sample - loss: 9.5218\n",
      "Epoch 48/100\n",
      "200/200 [==============================] - 0s 60us/sample - loss: 9.3055\n",
      "Epoch 49/100\n",
      "200/200 [==============================] - 0s 60us/sample - loss: 9.1165\n",
      "Epoch 50/100\n",
      "200/200 [==============================] - 0s 60us/sample - loss: 8.9166\n",
      "Epoch 51/100\n",
      "200/200 [==============================] - 0s 50us/sample - loss: 8.7435\n",
      "Epoch 52/100\n",
      "200/200 [==============================] - 0s 60us/sample - loss: 8.5761\n",
      "Epoch 53/100\n",
      "200/200 [==============================] - 0s 55us/sample - loss: 8.4188\n",
      "Epoch 54/100\n",
      "200/200 [==============================] - 0s 60us/sample - loss: 8.2690\n",
      "Epoch 55/100\n",
      "200/200 [==============================] - 0s 50us/sample - loss: 8.1245\n",
      "Epoch 56/100\n",
      "200/200 [==============================] - 0s 60us/sample - loss: 7.9753\n",
      "Epoch 57/100\n",
      "200/200 [==============================] - 0s 60us/sample - loss: 7.8409\n",
      "Epoch 58/100\n",
      "200/200 [==============================] - 0s 55us/sample - loss: 7.6975\n",
      "Epoch 59/100\n",
      "200/200 [==============================] - 0s 50us/sample - loss: 7.5571\n",
      "Epoch 60/100\n",
      "200/200 [==============================] - 0s 55us/sample - loss: 7.4240\n",
      "Epoch 61/100\n",
      "200/200 [==============================] - 0s 55us/sample - loss: 7.2983\n",
      "Epoch 62/100\n",
      "200/200 [==============================] - 0s 55us/sample - loss: 7.1687\n",
      "Epoch 63/100\n",
      "200/200 [==============================] - 0s 55us/sample - loss: 7.0507\n",
      "Epoch 64/100\n",
      "200/200 [==============================] - 0s 55us/sample - loss: 6.9258\n",
      "Epoch 65/100\n",
      "200/200 [==============================] - 0s 55us/sample - loss: 6.8126\n",
      "Epoch 66/100\n",
      "200/200 [==============================] - 0s 55us/sample - loss: 6.7025\n",
      "Epoch 67/100\n",
      "200/200 [==============================] - 0s 55us/sample - loss: 6.5820\n",
      "Epoch 68/100\n",
      "200/200 [==============================] - 0s 55us/sample - loss: 6.4878\n",
      "Epoch 69/100\n",
      "200/200 [==============================] - 0s 55us/sample - loss: 6.3817\n",
      "Epoch 70/100\n",
      "200/200 [==============================] - 0s 55us/sample - loss: 6.2630\n",
      "Epoch 71/100\n",
      "200/200 [==============================] - 0s 60us/sample - loss: 6.1632\n",
      "Epoch 72/100\n",
      "200/200 [==============================] - 0s 50us/sample - loss: 6.0683\n",
      "Epoch 73/100\n",
      "200/200 [==============================] - 0s 60us/sample - loss: 5.9721\n",
      "Epoch 74/100\n",
      "200/200 [==============================] - 0s 55us/sample - loss: 5.8733\n",
      "Epoch 75/100\n",
      "200/200 [==============================] - 0s 60us/sample - loss: 5.7900\n",
      "Epoch 76/100\n",
      "200/200 [==============================] - 0s 55us/sample - loss: 5.6996\n",
      "Epoch 77/100\n",
      "200/200 [==============================] - 0s 55us/sample - loss: 5.6174\n",
      "Epoch 78/100\n",
      "200/200 [==============================] - 0s 55us/sample - loss: 5.5286\n",
      "Epoch 79/100\n",
      "200/200 [==============================] - 0s 55us/sample - loss: 5.4494\n",
      "Epoch 80/100\n",
      "200/200 [==============================] - 0s 55us/sample - loss: 5.3745\n",
      "Epoch 81/100\n",
      "200/200 [==============================] - 0s 55us/sample - loss: 5.3016\n",
      "Epoch 82/100\n",
      "200/200 [==============================] - 0s 50us/sample - loss: 5.2310\n",
      "Epoch 83/100\n",
      "200/200 [==============================] - 0s 55us/sample - loss: 5.1603\n",
      "Epoch 84/100\n",
      "200/200 [==============================] - 0s 55us/sample - loss: 5.1037\n",
      "Epoch 85/100\n",
      "200/200 [==============================] - 0s 60us/sample - loss: 5.0409\n",
      "Epoch 86/100\n",
      "200/200 [==============================] - 0s 55us/sample - loss: 4.9771\n",
      "Epoch 87/100\n",
      "200/200 [==============================] - 0s 60us/sample - loss: 4.9022\n",
      "Epoch 88/100\n",
      "200/200 [==============================] - 0s 55us/sample - loss: 4.8488\n",
      "Epoch 89/100\n",
      "200/200 [==============================] - 0s 55us/sample - loss: 4.7849\n",
      "Epoch 90/100\n",
      "200/200 [==============================] - 0s 55us/sample - loss: 4.7322\n",
      "Epoch 91/100\n",
      "200/200 [==============================] - 0s 55us/sample - loss: 4.6742\n",
      "Epoch 92/100\n",
      "200/200 [==============================] - 0s 60us/sample - loss: 4.6137\n",
      "Epoch 93/100\n"
     ]
    },
    {
     "name": "stdout",
     "output_type": "stream",
     "text": [
      "200/200 [==============================] - 0s 55us/sample - loss: 4.5580\n",
      "Epoch 94/100\n",
      "200/200 [==============================] - 0s 50us/sample - loss: 4.5083\n",
      "Epoch 95/100\n",
      "200/200 [==============================] - 0s 50us/sample - loss: 4.4525\n",
      "Epoch 96/100\n",
      "200/200 [==============================] - 0s 60us/sample - loss: 4.4100\n",
      "Epoch 97/100\n",
      "200/200 [==============================] - 0s 55us/sample - loss: 4.3615\n",
      "Epoch 98/100\n",
      "200/200 [==============================] - 0s 50us/sample - loss: 4.3133\n",
      "Epoch 99/100\n",
      "200/200 [==============================] - 0s 55us/sample - loss: 4.2642\n",
      "Epoch 100/100\n",
      "200/200 [==============================] - 0s 55us/sample - loss: 4.2222\n"
     ]
    },
    {
     "data": {
      "text/plain": [
       "<tensorflow.python.keras.callbacks.History at 0x2b2679b5f98>"
      ]
     },
     "execution_count": 6,
     "metadata": {},
     "output_type": "execute_result"
    }
   ],
   "source": [
    "model.compile(optimizer='adam',\n",
    "             loss='mse')\n",
    "model.fit(x, y, epochs=100)"
   ]
  },
  {
   "cell_type": "code",
   "execution_count": 7,
   "metadata": {},
   "outputs": [
    {
     "name": "stdout",
     "output_type": "stream",
     "text": [
      "WARNING:tensorflow:Falling back from v2 loop because of error: Failed to find data adapter that can handle input: <class 'pandas.core.frame.DataFrame'>, <class 'NoneType'>\n"
     ]
    },
    {
     "data": {
      "text/plain": [
       "array([[22.222704 ],\n",
       "       [14.401351 ],\n",
       "       [ 9.556096 ],\n",
       "       [19.814737 ],\n",
       "       [11.567987 ],\n",
       "       [ 7.716903 ],\n",
       "       [13.121913 ],\n",
       "       [11.931757 ],\n",
       "       [ 1.4143308],\n",
       "       [10.060536 ]], dtype=float32)"
      ]
     },
     "execution_count": 7,
     "metadata": {},
     "output_type": "execute_result"
    }
   ],
   "source": [
    "model.predict(data.iloc[:10, 1:-1])"
   ]
  },
  {
   "cell_type": "code",
   "execution_count": 8,
   "metadata": {},
   "outputs": [
    {
     "data": {
      "text/plain": [
       "0    22.1\n",
       "1    10.4\n",
       "2     9.3\n",
       "3    18.5\n",
       "4    12.9\n",
       "5     7.2\n",
       "6    11.8\n",
       "7    13.2\n",
       "8     4.8\n",
       "9    10.6\n",
       "Name: sales, dtype: float64"
      ]
     },
     "execution_count": 8,
     "metadata": {},
     "output_type": "execute_result"
    }
   ],
   "source": [
    "data.iloc[:10, -1]"
   ]
  },
  {
   "cell_type": "code",
   "execution_count": null,
   "metadata": {
    "collapsed": true
   },
   "outputs": [],
   "source": []
  }
 ],
 "metadata": {
  "kernelspec": {
   "display_name": "Python 3",
   "language": "python",
   "name": "python3"
  },
  "language_info": {
   "codemirror_mode": {
    "name": "ipython",
    "version": 3
   },
   "file_extension": ".py",
   "mimetype": "text/x-python",
   "name": "python",
   "nbconvert_exporter": "python",
   "pygments_lexer": "ipython3",
   "version": "3.6.3"
  }
 },
 "nbformat": 4,
 "nbformat_minor": 2
}
