{
 "cells": [
  {
   "cell_type": "code",
   "execution_count": 1,
   "metadata": {},
   "outputs": [],
   "source": [
    "import tensorflow as tf\n",
    "from tensorflow import keras"
   ]
  },
  {
   "cell_type": "code",
   "execution_count": 2,
   "metadata": {},
   "outputs": [
    {
     "name": "stdout",
     "output_type": "stream",
     "text": [
      "2.2.0\n"
     ]
    }
   ],
   "source": [
    "print(tf.__version__)"
   ]
  },
  {
   "cell_type": "code",
   "execution_count": 3,
   "metadata": {},
   "outputs": [],
   "source": [
    "class Linear(keras.layers.Layer):\n",
    "    def __init__(self,units=32,input_dim=32):\n",
    "        super(Linear, self).__init__()\n",
    "        w_init = tf.random_normal_initializer()\n",
    "        self.w = tf.Variable(\n",
    "            w_init(shape=(input_dim,units),dtype='float32'),\n",
    "            trainable = True\n",
    "        )\n",
    "        b_init = tf.zeros_initializer()\n",
    "        self.b = tf.Variable(\n",
    "            b_init(shape=(units,),dtype='float32'),\n",
    "            trainable=True\n",
    "        )\n",
    "        \n",
    "    def call(self, inputs):\n",
    "        return tf.matmul(inputs,self.w)+self.b"
   ]
  },
  {
   "cell_type": "code",
   "execution_count": 4,
   "metadata": {},
   "outputs": [],
   "source": [
    "x = tf.ones((2,2))"
   ]
  },
  {
   "cell_type": "code",
   "execution_count": 5,
   "metadata": {},
   "outputs": [],
   "source": [
    "my_linear = Linear(4, 2)"
   ]
  },
  {
   "cell_type": "code",
   "execution_count": 6,
   "metadata": {},
   "outputs": [],
   "source": [
    "y = my_linear(x)"
   ]
  },
  {
   "cell_type": "code",
   "execution_count": 7,
   "metadata": {},
   "outputs": [
    {
     "name": "stdout",
     "output_type": "stream",
     "text": [
      "tf.Tensor(\n",
      "[[-0.01594551  0.06607145  0.03315714  0.06755836]\n",
      " [-0.01594551  0.06607145  0.03315714  0.06755836]], shape=(2, 4), dtype=float32)\n"
     ]
    }
   ],
   "source": [
    "print(y)"
   ]
  },
  {
   "cell_type": "code",
   "execution_count": 8,
   "metadata": {},
   "outputs": [
    {
     "data": {
      "text/plain": [
       "[<tf.Variable 'Variable:0' shape=(2, 4) dtype=float32, numpy=\n",
       " array([[-0.0280911 ,  0.0352839 ,  0.04287689,  0.04171585],\n",
       "        [ 0.01214559,  0.03078755, -0.00971975,  0.02584251]],\n",
       "       dtype=float32)>,\n",
       " <tf.Variable 'Variable:0' shape=(4,) dtype=float32, numpy=array([0., 0., 0., 0.], dtype=float32)>]"
      ]
     },
     "execution_count": 8,
     "metadata": {},
     "output_type": "execute_result"
    }
   ],
   "source": [
    "my_linear.weights"
   ]
  },
  {
   "cell_type": "markdown",
   "metadata": {},
   "source": [
    "# 还可以使用一种更快捷的方式为层添加权重：add_weight()方法"
   ]
  },
  {
   "cell_type": "code",
   "execution_count": null,
   "metadata": {},
   "outputs": [],
   "source": [
    "class Linear(keras.layers.Layer):\n",
    "    def __init__(self,units=32,input_dim=32):\n",
    "        super(Linear, self).__init__()\n",
    "        self.w = self.add_weight(\n",
    "            shape = (input_dim, units),\n",
    "            initializer='random_normal',\n",
    "            trainable = True\n",
    "        )\n",
    "        self.b = self.add_weight(\n",
    "            shape = (units,),\n",
    "            initializer='zeros',\n",
    "            trainable = True\n",
    "        )\n",
    "        \n",
    "    def call(self, inputs):\n",
    "        return tf.matmul(inputs,self.w)+self.b"
   ]
  },
  {
   "cell_type": "markdown",
   "metadata": {},
   "source": [
    "   <font size=5> 注意trainable参数 </font>\n",
    "   \n",
    "   \n",
    "   <font size=5> 将权重创建推迟到得知输入的形状之后 </font>\n",
    "\n",
    "    \n",
    "   <font size=5> 在层的build(self, input_shape)方法中创建层的权重 </font>"
   ]
  },
  {
   "cell_type": "code",
   "execution_count": 8,
   "metadata": {},
   "outputs": [],
   "source": [
    "class Linear(keras.layers.Layer):\n",
    "    def __init__(self,units=32):\n",
    "        super(Linear, self).__init__()\n",
    "        self.units = units\n",
    "    \n",
    "    def build(self, input_shape):\n",
    "        self.w = self.add_weight(\n",
    "            shape = (input_shape[-1], self.units),\n",
    "            initializer='random_normal',\n",
    "            trainable = True\n",
    "        )\n",
    "        self.b = self.add_weight(\n",
    "            shape = (self.units,),\n",
    "            initializer='zeros',\n",
    "            trainable = True\n",
    "        )\n",
    "        \n",
    "    def call(self, inputs):\n",
    "        return tf.matmul(inputs,self.w)+self.b"
   ]
  },
  {
   "cell_type": "code",
   "execution_count": 9,
   "metadata": {},
   "outputs": [],
   "source": [
    "my_linear = Linear(4)"
   ]
  },
  {
   "cell_type": "code",
   "execution_count": 10,
   "metadata": {},
   "outputs": [
    {
     "data": {
      "text/plain": [
       "[]"
      ]
     },
     "execution_count": 10,
     "metadata": {},
     "output_type": "execute_result"
    }
   ],
   "source": [
    "my_linear.weights"
   ]
  },
  {
   "cell_type": "code",
   "execution_count": 11,
   "metadata": {},
   "outputs": [],
   "source": [
    "x= tf.ones((2,2))"
   ]
  },
  {
   "cell_type": "code",
   "execution_count": 12,
   "metadata": {},
   "outputs": [
    {
     "data": {
      "text/plain": [
       "<tf.Tensor: shape=(2, 4), dtype=float32, numpy=\n",
       "array([[-0.01932704, -0.14236471, -0.03288966,  0.00870322],\n",
       "       [-0.01932704, -0.14236471, -0.03288966,  0.00870322]],\n",
       "      dtype=float32)>"
      ]
     },
     "execution_count": 12,
     "metadata": {},
     "output_type": "execute_result"
    }
   ],
   "source": [
    "my_linear(x)"
   ]
  },
  {
   "cell_type": "code",
   "execution_count": 13,
   "metadata": {},
   "outputs": [
    {
     "data": {
      "text/plain": [
       "[<tf.Variable 'linear_1/Variable:0' shape=(2, 4) dtype=float32, numpy=\n",
       " array([[ 0.0193696 , -0.08279815, -0.00830636,  0.05509334],\n",
       "        [-0.03869664, -0.05956656, -0.0245833 , -0.04639013]],\n",
       "       dtype=float32)>,\n",
       " <tf.Variable 'linear_1/Variable:0' shape=(4,) dtype=float32, numpy=array([0., 0., 0., 0.], dtype=float32)>]"
      ]
     },
     "execution_count": 13,
     "metadata": {},
     "output_type": "execute_result"
    }
   ],
   "source": [
    "my_linear.weights"
   ]
  },
  {
   "cell_type": "markdown",
   "metadata": {},
   "source": [
    "# 层可递归组合\n",
    "   <font size=5> 如果将一个层实例分配为另一个层的特性，则外部层将开始跟踪内部层的权重 </font>\n",
    "   \n",
    "   <font size=5>我们建议在__init__()方法中创建此类子层（由于子层通常具有构建方法，它们将与外部层同时构建） </font>\n"
   ]
  },
  {
   "cell_type": "code",
   "execution_count": 14,
   "metadata": {},
   "outputs": [],
   "source": [
    "class MLPBlock(keras.layers.Layer):\n",
    "    def __init__(self):\n",
    "        super(MLPBlock, self).__init__()\n",
    "        self.lin_1 = Linear(32)\n",
    "        self.lin_2 = Linear(64)\n",
    "        self.lin_3 = Linear(1)\n",
    "        \n",
    "    def call(self, inputs):\n",
    "        x = self.lin_1(inputs)\n",
    "        x = tf.nn.relu(x)\n",
    "        x = self.lin_2(x)\n",
    "        x = tf.nn.relu(x)\n",
    "        x = self.lin_3(x)\n",
    "        return x"
   ]
  },
  {
   "cell_type": "code",
   "execution_count": 15,
   "metadata": {},
   "outputs": [],
   "source": [
    "class MLPBlock_1(keras.layers.Layer):\n",
    "    def __init__(self):\n",
    "        super(MLPBlock, self).__init__()\n",
    "        self.lin_1 = tf.keras.layers.Dense(32)\n",
    "        self.lin_2 = tf.keras.layers.Dense(64)\n",
    "        self.lin_3 = tf.keras.layers.Dense(32)\n",
    "        \n",
    "    def call(self, inputs):\n",
    "        x1 = self.lin_1(inputs)\n",
    "        x1 = tf.nn.relu(x1)\n",
    "        x2 = self.lin_2(x1)\n",
    "        x2 = tf.nn.relu(x2)\n",
    "        x3 = self.lin_3(x2)\n",
    "        return tf.concat([x1,x3])"
   ]
  },
  {
   "cell_type": "markdown",
   "metadata": {},
   "source": [
    "<font size=5>通常使用Layer类来定义内部计算块，使用Modlel类来定义外部模型，即训练的对象</font>\n"
   ]
  },
  {
   "cell_type": "markdown",
   "metadata": {},
   "source": [
    "<font size=5>Model类具有与Layer相同的API，但有如下区别：</font>\n",
    "\n",
    "+ <font size=4>它会公开内置训练、评估和预测循环（model.fit(), model.evaluate(), model.predict()）</font>\n",
    "+ <font size=4>它会通过model.layers属性公开其内部层的列表</font>\n",
    "+ <font size=4>它会公开保存和序列化API(save(),save_weights()...)</font>"
   ]
  },
  {
   "cell_type": "code",
   "execution_count": 17,
   "metadata": {},
   "outputs": [],
   "source": [
    "class MLPBlock_model(keras.Model):\n",
    "    def __init__(self):\n",
    "        super(MLPBlock_model, self).__init__()\n",
    "        self.lin_1 = tf.keras.layers.Dense(32)\n",
    "        self.lin_2 = tf.keras.layers.Dense(64)\n",
    "        self.lin_3 = tf.keras.layers.Dense(32)\n",
    "        \n",
    "    def call(self, inputs):\n",
    "        x1 = self.lin_1(inputs)\n",
    "        x1 = tf.nn.relu(x1)\n",
    "        x2 = self.lin_2(x1)\n",
    "        x2 = tf.nn.relu(x2)\n",
    "        x3 = self.lin_3(x2)\n",
    "        return tf.concat([x1,x3])"
   ]
  },
  {
   "cell_type": "code",
   "execution_count": 19,
   "metadata": {},
   "outputs": [],
   "source": [
    "model = MLPBlock_model()"
   ]
  },
  {
   "cell_type": "code",
   "execution_count": 20,
   "metadata": {},
   "outputs": [
    {
     "data": {
      "text/plain": [
       "<bound method Network.save of <__main__.MLPBlock_model object at 0x7ff169af5978>>"
      ]
     },
     "execution_count": 20,
     "metadata": {},
     "output_type": "execute_result"
    }
   ],
   "source": [
    "model.save"
   ]
  },
  {
   "cell_type": "markdown",
   "metadata": {},
   "source": [
    "<font size=5>因此，如果您想知道“我应该用Layer类还是Model类？”</font>\n",
    "\n",
    "<font size=5>请问自己：我是否需要在它上面调用fit()?</font>\n",
    "\n",
    "<font size=5>我是否需要在它上面调用save()?</font>\n",
    "\n",
    "<font size=5>如果是，则使用Model。如果不是（要么因为您的类只是更大系统中的一个块，要么因为您正在自己编写训练和保存代码），则使用Layer.</font>"
   ]
  },
  {
   "cell_type": "code",
   "execution_count": null,
   "metadata": {},
   "outputs": [],
   "source": []
  }
 ],
 "metadata": {
  "kernelspec": {
   "display_name": "Python 3",
   "language": "python",
   "name": "python3"
  },
  "language_info": {
   "codemirror_mode": {
    "name": "ipython",
    "version": 3
   },
   "file_extension": ".py",
   "mimetype": "text/x-python",
   "name": "python",
   "nbconvert_exporter": "python",
   "pygments_lexer": "ipython3",
   "version": "3.6.10"
  }
 },
 "nbformat": 4,
 "nbformat_minor": 4
}
