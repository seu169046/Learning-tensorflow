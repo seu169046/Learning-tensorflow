{
 "cells": [
  {
   "cell_type": "code",
   "execution_count": 2,
   "metadata": {
    "collapsed": true
   },
   "outputs": [
    {
     "name": "stderr",
     "output_type": "stream",
     "text": [
      "D:\\Anaconda3\\lib\\site-packages\\h5py\\__init__.py:34: FutureWarning: Conversion of the second argument of issubdtype from `float` to `np.floating` is deprecated. In future, it will be treated as `np.float64 == np.dtype(float).type`.\n  from ._conv import register_converters as _register_converters\n"
     ]
    }
   ],
   "source": [
    "import tensorflow as tf"
   ]
  },
  {
   "cell_type": "code",
   "execution_count": 3,
   "metadata": {},
   "outputs": [
    {
     "name": "stdout",
     "output_type": "stream",
     "text": [
      "Tensorflow Version: 2.0.0\n"
     ]
    }
   ],
   "source": [
    "print('Tensorflow Version: {}'.format(tf.__version__))"
   ]
  },
  {
   "cell_type": "code",
   "execution_count": 4,
   "metadata": {
    "collapsed": true
   },
   "outputs": [],
   "source": [
    "import pandas as pd\n",
    "data = pd.read_csv(r'./test/data/Income1.csv')"
   ]
  },
  {
   "cell_type": "code",
   "execution_count": 5,
   "metadata": {
    "collapsed": true
   },
   "outputs": [
    {
     "name": "stdout",
     "output_type": "stream",
     "text": [
      "    Unnamed: 0  Education     Income\n0            1  10.000000  26.658839\n1            2  10.401338  27.306435\n2            3  10.842809  22.132410\n3            4  11.244147  21.169841\n4            5  11.645485  15.192634\n5            6  12.086957  26.398951\n6            7  12.488294  17.435307\n7            8  12.889632  25.507885\n8            9  13.290970  36.884595\n9           10  13.732441  39.666109\n10          11  14.133779  34.396281\n11          12  14.535117  41.497994\n12          13  14.976589  44.981575\n13          14  15.377926  47.039595\n14          15  15.779264  48.252578\n15          16  16.220736  57.034251\n16          17  16.622074  51.490919\n17          18  17.023411  61.336621\n18          19  17.464883  57.581988\n19          20  17.866221  68.553714\n20          21  18.267559  64.310925\n21          22  18.709030  68.959009\n22          23  19.110368  74.614639\n23          24  19.511706  71.867195\n24          25  19.913043  76.098135\n25          26  20.354515  75.775218\n26          27  20.755853  72.486055\n27          28  21.157191  77.355021\n28          29  21.598662  72.118790\n29          30  22.000000  80.260571\n"
     ]
    }
   ],
   "source": [
    "print(data)"
   ]
  },
  {
   "cell_type": "code",
   "execution_count": 6,
   "metadata": {
    "collapsed": true
   },
   "outputs": [
    {
     "data": {
      "image/png": "[encoded data removed]",
      "text/plain": [
       "<matplotlib.figure.Figure at 0x230b72d47f0>"
      ]
     },
     "metadata": {},
     "output_type": "display_data"
    }
   ],
   "source": [
    "import matplotlib.pyplot as plt\n",
    "plt.scatter(data.Education, data.Income)\n",
    "plt.show()"
   ]
  },
  {
   "cell_type": "code",
   "execution_count": 7,
   "metadata": {},
   "outputs": [],
   "source": [
    "x = data.Education\n",
    "y = data.Income"
   ]
  },
  {
   "cell_type": "code",
   "execution_count": 8,
   "metadata": {},
   "outputs": [],
   "source": [
    "model = tf.keras.Sequential()"
   ]
  },
  {
   "cell_type": "code",
   "execution_count": 9,
   "metadata": {},
   "outputs": [],
   "source": [
    "model.add(tf.keras.layers.Dense(1,input_shape=(1,)))"
   ]
  },
  {
   "cell_type": "code",
   "execution_count": 10,
   "metadata": {
    "collapsed": true
   },
   "outputs": [
    {
     "name": "stdout",
     "output_type": "stream",
     "text": [
      "Model: \"sequential\"\n_________________________________________________________________\nLayer (type)                 Output Shape              Param #   \n=================================================================\ndense (Dense)                (None, 1)                 2         \n=================================================================\nTotal params: 2\nTrainable params: 2\nNon-trainable params: 0\n_________________________________________________________________\nNone\n"
     ]
    }
   ],
   "source": [
    "print(model.summary())"
   ]
  },
  {
   "cell_type": "code",
   "execution_count": 11,
   "metadata": {},
   "outputs": [],
   "source": [
    "model.compile(optimizer='adam',\n",
    "              loss='mse')"
   ]
  },
  {
   "cell_type": "code",
   "execution_count": 12,
   "metadata": {
    "collapsed": true
   },
   "outputs": [
    {
     "name": "stdout",
     "output_type": "stream",
     "text": [
      "WARNING:tensorflow:Falling back from v2 loop because of error: Failed to find data adapter that can handle input: <class 'pandas.core.series.Series'>, <class 'NoneType'>\n"
     ]
    },
    {
     "name": "stdout",
     "output_type": "stream",
     "text": [
      "Train on 30 samples\nEpoch 1/5000\n"
     ]
    },
    {
     "name": "stdout",
     "output_type": "stream",
     "text": [
      "\r30/30 [==============================] - 0s 8ms/sample - loss: 763.7869\n"
     ]
    },
    {
     "name": "stdout",
     "output_type": "stream",
     "text": [
      "Epoch 2/5000\n\r30/30 [==============================] - 0s 0s/sample - loss: 762.8985\n"
     ]
    },
    {
     "name": "stdout",
     "output_type": "stream",
     "text": [
      "Epoch 3/5000\n\r30/30 [==============================] - 0s 334us/sample - loss: 762.0107\n"
     ]
    },
    {
     "name": "stdout",
     "output_type": "stream",
     "text": [
      "Epoch 4/5000\n\r30/30 [==============================] - 0s 0s/sample - loss: 761.1237\n"
     ]
    },
    {
     "name": "stdout",
     "output_type": "stream",
     "text": [
      "Epoch 5/5000\n\r30/30 [==============================] - 0s 0s/sample - loss: 760.2372\n"
     ]
    },
    {
     "name": "stdout",
     "output_type": "stream",
     "text": [
      "Epoch 6/5000\n\r30/30 [==============================] - 0s 332us/sample - loss: 759.3516\n"
     ]
    },
    {
     "name": "stdout",
     "output_type": "stream",
     "text": [
      "Epoch 7/5000\n\r30/30 [==============================] - 0s 0s/sample - loss: 758.4664\n"
     ]
    },
    {
     "name": "stdout",
     "output_type": "stream",
     "text": [
      "Epoch 8/5000\n\r30/30 [==============================] - 0s 0s/sample - loss: 757.5820\n"
     ]
    },
    {
     "name": "stdout",
     "output_type": "stream",
     "text": [
      "Epoch 9/5000\n\r30/30 [==============================] - 0s 0s/sample - loss: 756.6982\n"
     ]
    },
    {
     "name": "stdout",
     "output_type": "stream",
     "text": [
      "Epoch 10/5000\n\r30/30 [==============================] - 0s 0s/sample - loss: 755.8151\n"
     ]
    },
    {
     "name": "stdout",
     "output_type": "stream",
     "text": [
      "Epoch 11/5000\n\r30/30 [==============================] - 0s 0s/sample - loss: 754.9326\n"
     ]
    },
    {
     "name": "stdout",
     "output_type": "stream",
     "text": [
      "Epoch 12/5000\n\r30/30 [==============================] - 0s 0s/sample - loss: 754.0509\n"
     ]
    },
    {
     "name": "stdout",
     "output_type": "stream",
     "text": [
      "Epoch 13/5000\n\r30/30 [==============================] - 0s 0s/sample - loss: 753.1700\n"
     ]
    },
    {
     "name": "stdout",
     "output_type": "stream",
     "text": [
      "Epoch 14/5000\n\r30/30 [==============================] - 0s 0s/sample - loss: 752.2897\n"
     ]
    },
    {
     "name": "stdout",
     "output_type": "stream",
     "text": [
      "Epoch 15/5000\n\r30/30 [==============================] - 0s 0s/sample - loss: 751.4103\n"
     ]
    },
    {
     "name": "stdout",
     "output_type": "stream",
     "text": [
      "Epoch 16/5000\n\r30/30 [==============================] - 0s 0s/sample - loss: 750.5316\n"
     ]
    },
    {
     "name": "stdout",
     "output_type": "stream",
     "text": [
      "Epoch 17/5000\n\r30/30 [==============================] - 0s 0s/sample - loss: 749.6536\n"
     ]
    },
    {
     "name": "stdout",
     "output_type": "stream",
     "text": [
      "Epoch 18/5000\n\r30/30 [==============================] - 0s 0s/sample - loss: 748.7763\n"
     ]
    },
    {
     "name": "stdout",
     "output_type": "stream",
     "text": [
      "Epoch 19/5000\n\r30/30 [==============================] - 0s 333us/sample - loss: 747.9000\n"
     ]
    },
    {
     "name": "stdout",
     "output_type": "stream",
     "text": [
      "Epoch 20/5000\n\r30/30 [==============================] - 0s 0s/sample - loss: 747.0242\n"
     ]
    },
    {
     "name": "stdout",
     "output_type": "stream",
     "text": [
      "Epoch 21/5000\n\r30/30 [==============================] - 0s 0s/sample - loss: 746.1494\n"
     ]
    },
    {
     "name": "stdout",
     "output_type": "stream",
     "text": [
      "Epoch 22/5000\n\r30/30 [==============================] - 0s 333us/sample - loss: 745.2752\n"
     ]
    },
    {
     "name": "stdout",
     "output_type": "stream",
     "text": [
      "Epoch 23/5000\n\r30/30 [==============================] - 0s 0s/sample - loss: 744.4020\n"
     ]
    },
    {
     "name": "stdout",
     "output_type": "stream",
     "text": [
      "Epoch 24/5000\n\r30/30 [==============================] - 0s 0s/sample - loss: 743.5294\n"
     ]
    },
    {
     "name": "stdout",
     "output_type": "stream",
     "text": [
      "Epoch 25/5000\n\r30/30 [==============================] - 0s 333us/sample - loss: 742.6575\n"
     ]
    },
    {
     "name": "stdout",
     "output_type": "stream",
     "text": [
      "Epoch 26/5000\n\r30/30 [==============================] - 0s 0s/sample - loss: 741.7867\n"
     ]
    },
    {
     "name": "stdout",
     "output_type": "stream",
     "text": [
      "Epoch 27/5000\n\r30/30 [==============================] - 0s 0s/sample - loss: 740.9166\n"
     ]
    },
    {
     "name": "stdout",
     "output_type": "stream",
     "text": [
      "Epoch 28/5000\n\r30/30 [==============================] - 0s 0s/sample - loss: 740.0472\n"
     ]
    },
    {
     "name": "stdout",
     "output_type": "stream",
     "text": [
      "Epoch 29/5000\n\r30/30 [==============================] - 0s 0s/sample - loss: 739.1788\n"
     ]
    },
    {
     "name": "stdout",
     "output_type": "stream",
     "text": [
      "Epoch 30/5000\n\r30/30 [==============================] - 0s 0s/sample - loss: 738.3112\n"
     ]
    },
    {
     "name": "stdout",
     "output_type": "stream",
     "text": [
      "Epoch 31/5000\n\r30/30 [==============================] - 0s 0s/sample - loss: 737.4445\n"
     ]
    },
    {
     "name": "stdout",
     "output_type": "stream",
     "text": [
      "Epoch 32/5000\n\r30/30 [==============================] - 0s 0s/sample - loss: 736.5785\n"
     ]
    },
    {
     "name": "stdout",
     "output_type": "stream",
     "text": [
      "Epoch 33/5000\n\r30/30 [==============================] - 0s 0s/sample - loss: 735.7133\n"
     ]
    },
    {
     "name": "stdout",
     "output_type": "stream",
     "text": [
      "Epoch 34/5000\n\r30/30 [==============================] - 0s 0s/sample - loss: 734.8490\n"
     ]
    },
    {
     "name": "stdout",
     "output_type": "stream",
     "text": [
      "Epoch 35/5000\n\r30/30 [==============================] - 0s 0s/sample - loss: 733.9857\n"
     ]
    },
    {
     "name": "stdout",
     "output_type": "stream",
     "text": [
      "Epoch 36/5000\n\r30/30 [==============================] - 0s 0s/sample - loss: 733.1231\n"
     ]
    },
    {
     "name": "stdout",
     "output_type": "stream",
     "text": [
      "Epoch 37/5000\n\r30/30 [==============================] - 0s 333us/sample - loss: 732.2614\n"
     ]
    },
    {
     "name": "stdout",
     "output_type": "stream",
     "text": [
      "Epoch 38/5000\n\r30/30 [==============================] - 0s 0s/sample - loss: 731.4005\n"
     ]
    },
    {
     "name": "stdout",
     "output_type": "stream",
     "text": [
      "Epoch 39/5000\n\r30/30 [==============================] - 0s 0s/sample - loss: 730.5403\n"
     ]
    },
    {
     "name": "stdout",
     "output_type": "stream",
     "text": [
      "Epoch 40/5000\n\r30/30 [==============================] - 0s 0s/sample - loss: 729.6813\n"
     ]
    },
    {
     "name": "stdout",
     "output_type": "stream",
     "text": [
      "Epoch 41/5000\n\r30/30 [==============================] - 0s 0s/sample - loss: 728.8230\n"
     ]
    },
    {
     "name": "stdout",
     "output_type": "stream",
     "text": [
      "Epoch 42/5000\n\r30/30 [==============================] - 0s 0s/sample - loss: 727.9655\n"
     ]
    },
    {
     "name": "stdout",
     "output_type": "stream",
     "text": [
      "Epoch 43/5000\n\r30/30 [==============================] - 0s 0s/sample - loss: 727.1091\n"
     ]
    },
    {
     "name": "stdout",
     "output_type": "stream",
     "text": [
      "Epoch 44/5000\n\r30/30 [==============================] - 0s 0s/sample - loss: 726.2533\n"
     ]
    },
    {
     "name": "stdout",
     "output_type": "stream",
     "text": [
      "Epoch 45/5000\n\r30/30 [==============================] - 0s 0s/sample - loss: 725.3984\n"
     ]
    },
    {
     "name": "stdout",
     "output_type": "stream",
     "text": [
      "Epoch 46/5000\n\r30/30 [==============================] - 0s 333us/sample - loss: 724.5446\n"
     ]
    },
    {
     "name": "stdout",
     "output_type": "stream",
     "text": [
      "Epoch 47/5000\n\r30/30 [==============================] - 0s 0s/sample - loss: 723.6913\n"
     ]
    },
    {
     "name": "stdout",
     "output_type": "stream",
     "text": [
      "Epoch 48/5000\n\r30/30 [==============================] - 0s 0s/sample - loss: 722.8392\n"
     ]
    },
    {
     "name": "stdout",
     "output_type": "stream",
     "text": [
      "Epoch 49/5000\n\r30/30 [==============================] - 0s 333us/sample - loss: 721.9879\n"
     ]
    },
    {
     "name": "stdout",
     "output_type": "stream",
     "text": [
      "Epoch 50/5000\n\r30/30 [==============================] - 0s 0s/sample - loss: 721.1371\n"
     ]
    },
    {
     "name": "stdout",
     "output_type": "stream",
     "text": [
      "Epoch 51/5000\n\r30/30 [==============================] - 0s 0s/sample - loss: 720.2875\n"
     ]
    },
    {
     "name": "stdout",
     "output_type": "stream",
     "text": [
      "Epoch 52/5000\n\r30/30 [==============================] - 0s 333us/sample - loss: 719.4388\n"
     ]
    },
    {
     "name": "stdout",
     "output_type": "stream",
     "text": [
      "Epoch 53/5000\n\r30/30 [==============================] - 0s 0s/sample - loss: 718.5910\n"
     ]
    },
    {
     "name": "stdout",
     "output_type": "stream",
     "text": [
      "Epoch 54/5000\n\r30/30 [==============================] - 0s 0s/sample - loss: 717.7440\n"
     ]
    },
    {
     "name": "stdout",
     "output_type": "stream",
     "text": [
      "Epoch 55/5000\n\r30/30 [==============================] - 0s 0s/sample - loss: 716.8978\n"
     ]
    },
    {
     "name": "stdout",
     "output_type": "stream",
     "text": [
      "Epoch 56/5000\n\r30/30 [==============================] - 0s 0s/sample - loss: 716.0526\n"
     ]
    },
    {
     "name": "stdout",
     "output_type": "stream",
     "text": [
      "Epoch 57/5000\n\r30/30 [==============================] - 0s 0s/sample - loss: 715.2082\n"
     ]
    },
    {
     "name": "stdout",
     "output_type": "stream",
     "text": [
      "Epoch 58/5000\n\r30/30 [==============================] - 0s 0s/sample - loss: 714.3646\n"
     ]
    },
    {
     "name": "stdout",
     "output_type": "stream",
     "text": [
      "Epoch 59/5000\n\r30/30 [==============================] - 0s 333us/sample - loss: 713.5220\n"
     ]
    },
    {
     "name": "stdout",
     "output_type": "stream",
     "text": [
      "Epoch 60/5000\n\r30/30 [==============================] - 0s 0s/sample - loss: 712.6802\n"
     ]
    },
    {
     "name": "stdout",
     "output_type": "stream",
     "text": [
      "Epoch 61/5000\n\r30/30 [==============================] - 0s 0s/sample - loss: 711.8392\n"
     ]
    },
    {
     "name": "stdout",
     "output_type": "stream",
     "text": [
      "Epoch 62/5000\n\r30/30 [==============================] - 0s 0s/sample - loss: 710.9993\n"
     ]
    },
    {
     "name": "stdout",
     "output_type": "stream",
     "text": [
      "Epoch 63/5000\n\r30/30 [==============================] - 0s 0s/sample - loss: 710.1601\n"
     ]
    },
    {
     "name": "stdout",
     "output_type": "stream",
     "text": [
      "Epoch 64/5000\n\r30/30 [==============================] - 0s 0s/sample - loss: 709.3218\n"
     ]
    },
    {
     "name": "stdout",
     "output_type": "stream",
     "text": [
      "Epoch 65/5000\n\r30/30 [==============================] - 0s 0s/sample - loss: 708.4844\n"
     ]
    },
    {
     "name": "stdout",
     "output_type": "stream",
     "text": [
      "Epoch 66/5000\n\r30/30 [==============================] - 0s 333us/sample - loss: 707.6478\n"
     ]
    },
    {
     "name": "stdout",
     "output_type": "stream",
     "text": [
      "Epoch 67/5000\n\r30/30 [==============================] - 0s 0s/sample - loss: 706.8122\n"
     ]
    },
    {
     "name": "stdout",
     "output_type": "stream",
     "text": [
      "Epoch 68/5000\n\r30/30 [==============================] - 0s 0s/sample - loss: 705.9775\n"
     ]
    },
    {
     "name": "stdout",
     "output_type": "stream",
     "text": [
      "Epoch 69/5000\n\r30/30 [==============================] - 0s 0s/sample - loss: 705.1436\n"
     ]
    },
    {
     "name": "stdout",
     "output_type": "stream",
     "text": [
      "Epoch 70/5000\n\r30/30 [==============================] - 0s 0s/sample - loss: 704.3104\n"
     ]
    },
    {
     "name": "stdout",
     "output_type": "stream",
     "text": [
      "Epoch 71/5000\n\r30/30 [==============================] - 0s 0s/sample - loss: 703.4783\n"
     ]
    },
    {
     "name": "stdout",
     "output_type": "stream",
     "text": [
      "Epoch 72/5000\n\r30/30 [==============================] - 0s 0s/sample - loss: 702.6469\n"
     ]
    },
    {
     "name": "stdout",
     "output_type": "stream",
     "text": [
      "Epoch 73/5000\n"
     ]
    },
    {
     "name": "stdout",
     "output_type": "stream",
     "text": [
      "\r30/30 [==============================] - 0s 333us/sample - loss: 701.8165\n"
     ]
    },
    {
     "name": "stdout",
     "output_type": "stream",
     "text": [
      "Epoch 74/5000\n\r30/30 [==============================] - 0s 0s/sample - loss: 700.9870\n"
     ]
    },
    {
     "name": "stdout",
     "output_type": "stream",
     "text": [
      "Epoch 75/5000\n\r30/30 [==============================] - 0s 0s/sample - loss: 700.1583\n"
     ]
    },
    {
     "name": "stdout",
     "output_type": "stream",
     "text": [
      "Epoch 76/5000\n\r30/30 [==============================] - 0s 0s/sample - loss: 699.3304\n"
     ]
    },
    {
     "name": "stdout",
     "output_type": "stream",
     "text": [
      "Epoch 77/5000\n"
     ]
    },
    {
     "name": "stdout",
     "output_type": "stream",
     "text": [
      "\r30/30 [==============================] - 0s 333us/sample - loss: 698.5034\n"
     ]
    },
    {
     "name": "stdout",
     "output_type": "stream",
     "text": [
      "Epoch 78/5000\n\r30/30 [==============================] - 0s 0s/sample - loss: 697.6774\n"
     ]
    },
    {
     "name": "stdout",
     "output_type": "stream",
     "text": [
      "Epoch 79/5000\n\r30/30 [==============================] - 0s 0s/sample - loss: 696.8522\n"
     ]
    },
    {
     "name": "stdout",
     "output_type": "stream",
     "text": [
      "Epoch 80/5000\n"
     ]
    },
    {
     "name": "stdout",
     "output_type": "stream",
     "text": [
      "\r30/30 [==============================] - 0s 360us/sample - loss: 696.0279\n"
     ]
    },
    {
     "name": "stdout",
     "output_type": "stream",
     "text": [
      "Epoch 81/5000\n\r30/30 [==============================] - 0s 33us/sample - loss: 695.2042\n"
     ]
    },
    {
     "name": "stdout",
     "output_type": "stream",
     "text": [
      "Epoch 82/5000\n\r30/30 [==============================] - 0s 67us/sample - loss: 694.3815\n"
     ]
    },
    {
     "name": "stdout",
     "output_type": "stream",
     "text": [
      "Epoch 83/5000\n\r30/30 [==============================] - 0s 66us/sample - loss: 693.5598\n"
     ]
    },
    {
     "name": "stdout",
     "output_type": "stream",
     "text": [
      "Epoch 84/5000"
     ]
    },
    {
     "name": "stdout",
     "output_type": "stream",
     "text": [
      "\n\r30/30 [==============================] - 0s 66us/sample - loss: 692.7390\n"
     ]
    },
    {
     "name": "stdout",
     "output_type": "stream",
     "text": [
      "Epoch 85/5000\n\r30/30 [==============================] - 0s 66us/sample - loss: 691.9188\n"
     ]
    },
    {
     "name": "stdout",
     "output_type": "stream",
     "text": [
      "Epoch 86/5000\n\r30/30 [==============================] - 0s 100us/sample - loss: 691.0997\n"
     ]
    },
    {
     "name": "stdout",
     "output_type": "stream",
     "text": [
      "Epoch 87/5000\n"
     ]
    },
    {
     "name": "stdout",
     "output_type": "stream",
     "text": [
      "\r30/30 [==============================] - 0s 100us/sample - loss: 690.2814\n"
     ]
    },
    {
     "name": "stdout",
     "output_type": "stream",
     "text": [
      "Epoch 88/5000\n\r30/30 [==============================] - 0s 66us/sample - loss: 689.4639\n"
     ]
    },
    {
     "name": "stdout",
     "output_type": "stream",
     "text": [
      "Epoch 89/5000\n\r30/30 [==============================] - 0s 66us/sample - loss: 688.6473\n"
     ]
    },
    {
     "name": "stdout",
     "output_type": "stream",
     "text": [
      "Epoch 90/5000\n"
     ]
    },
    {
     "name": "stdout",
     "output_type": "stream",
     "text": [
      "\r30/30 [==============================] - 0s 100us/sample - loss: 687.8316\n"
     ]
    },
    {
     "name": "stdout",
     "output_type": "stream",
     "text": [
      "Epoch 91/5000\n\r30/30 [==============================] - 0s 100us/sample - loss: 687.0167\n"
     ]
    },
    {
     "name": "stdout",
     "output_type": "stream",
     "text": [
      "Epoch 92/5000\n\r30/30 [==============================] - 0s 66us/sample - loss: 686.2027\n"
     ]
    },
    {
     "name": "stdout",
     "output_type": "stream",
     "text": [
      "Epoch 93/5000\n"
     ]
    },
    {
     "name": "stdout",
     "output_type": "stream",
     "text": [
      "\r30/30 [==============================] - 0s 100us/sample - loss: 685.3896\n"
     ]
    },
    {
     "name": "stdout",
     "output_type": "stream",
     "text": [
      "Epoch 94/5000\n\r30/30 [==============================] - 0s 67us/sample - loss: 684.5773\n"
     ]
    },
    {
     "name": "stdout",
     "output_type": "stream",
     "text": [
      "Epoch 95/5000\n\r30/30 [==============================] - 0s 66us/sample - loss: 683.7658\n"
     ]
    },
    {
     "name": "stdout",
     "output_type": "stream",
     "text": [
      "Epoch 96/5000\n"
     ]
    },
    {
     "name": "stdout",
     "output_type": "stream",
     "text": [
      "\r30/30 [==============================] - 0s 66us/sample - loss: 682.9553\n"
     ]
    },
    {
     "name": "stdout",
     "output_type": "stream",
     "text": [
      "Epoch 97/5000\n\r30/30 [==============================] - 0s 100us/sample - loss: 682.1455\n"
     ]
    },
    {
     "name": "stdout",
     "output_type": "stream",
     "text": [
      "Epoch 98/5000\n\r30/30 [==============================] - 0s 66us/sample - loss: 681.3367\n"
     ]
    },
    {
     "name": "stdout",
     "output_type": "stream",
     "text": [
      "Epoch 99/5000"
     ]
    },
    {
     "name": "stdout",
     "output_type": "stream",
     "text": [
      "\n\r30/30 [==============================] - 0s 66us/sample - loss: 680.5286\n"
     ]
    },
    {
     "name": "stdout",
     "output_type": "stream",
     "text": [
      "Epoch 100/5000\n\r30/30 [==============================] - 0s 67us/sample - loss: 679.7216\n"
     ]
    },
    {
     "name": "stdout",
     "output_type": "stream",
     "text": [
      "Epoch 101/5000\n\r30/30 [==============================] - 0s 66us/sample - loss: 678.9152\n"
     ]
    },
    {
     "name": "stdout",
     "output_type": "stream",
     "text": [
      "Epoch 102/5000\n"
     ]
    },
    {
     "name": "stdout",
     "output_type": "stream",
     "text": [
      "\r30/30 [==============================] - 0s 100us/sample - loss: 678.1097\n"
     ]
    },
    {
     "name": "stdout",
     "output_type": "stream",
     "text": [
      "Epoch 103/5000\n\r30/30 [==============================] - 0s 66us/sample - loss: 677.3052\n"
     ]
    },
    {
     "name": "stdout",
     "output_type": "stream",
     "text": [
      "Epoch 104/5000\n\r30/30 [==============================] - 0s 66us/sample - loss: 676.5014\n"
     ]
    },
    {
     "name": "stdout",
     "output_type": "stream",
     "text": [
      "Epoch 105/5000\n"
     ]
    },
    {
     "name": "stdout",
     "output_type": "stream",
     "text": [
      "\r30/30 [==============================] - 0s 100us/sample - loss: 675.6985\n"
     ]
    },
    {
     "name": "stdout",
     "output_type": "stream",
     "text": [
      "Epoch 106/5000\n\r30/30 [==============================] - 0s 66us/sample - loss: 674.8965\n"
     ]
    },
    {
     "name": "stdout",
     "output_type": "stream",
     "text": [
      "Epoch 107/5000\n\r30/30 [==============================] - 0s 100us/sample - loss: 674.0954\n"
     ]
    },
    {
     "name": "stdout",
     "output_type": "stream",
     "text": [
      "Epoch 108/5000\n\r30/30 [==============================] - 0s 166us/sample - loss: 673.2950\n"
     ]
    },
    {
     "name": "stdout",
     "output_type": "stream",
     "text": [
      "Epoch 109/5000\n\r30/30 [==============================] - 0s 66us/sample - loss: 672.4955\n"
     ]
    },
    {
     "name": "stdout",
     "output_type": "stream",
     "text": [
      "Epoch 110/5000\n"
     ]
    },
    {
     "name": "stdout",
     "output_type": "stream",
     "text": [
      "\r30/30 [==============================] - 0s 100us/sample - loss: 671.6969\n"
     ]
    },
    {
     "name": "stdout",
     "output_type": "stream",
     "text": [
      "Epoch 111/5000\n\r30/30 [==============================] - 0s 100us/sample - loss: 670.8992\n"
     ]
    },
    {
     "name": "stdout",
     "output_type": "stream",
     "text": [
      "Epoch 112/5000\n\r30/30 [==============================] - 0s 100us/sample - loss: 670.1022\n"
     ]
    },
    {
     "name": "stdout",
     "output_type": "stream",
     "text": [
      "Epoch 113/5000\n\r30/30 [==============================] - 0s 66us/sample - loss: 669.3061\n"
     ]
    },
    {
     "name": "stdout",
     "output_type": "stream",
     "text": [
      "Epoch 114/5000\n\r30/30 [==============================] - 0s 100us/sample - loss: 668.5109\n"
     ]
    },
    {
     "name": "stdout",
     "output_type": "stream",
     "text": [
      "Epoch 115/5000\n\r30/30 [==============================]"
     ]
    },
    {
     "name": "stdout",
     "output_type": "stream",
     "text": [
      " - 0s 66us/sample - loss: 667.7166\n"
     ]
    },
    {
     "name": "stdout",
     "output_type": "stream",
     "text": [
      "Epoch 116/5000\n\r30/30 [==============================] - 0s 66us/sample - loss: 666.9230\n"
     ]
    },
    {
     "name": "stdout",
     "output_type": "stream",
     "text": [
      "Epoch 117/5000\n\r30/30 [==============================] - 0s 66us/sample - loss: 666.1302\n"
     ]
    },
    {
     "name": "stdout",
     "output_type": "stream",
     "text": [
      "Epoch 118/5000\n"
     ]
    },
    {
     "name": "stdout",
     "output_type": "stream",
     "text": [
      "\r30/30 [==============================] - 0s 66us/sample - loss: 665.3383\n"
     ]
    },
    {
     "name": "stdout",
     "output_type": "stream",
     "text": [
      "Epoch 119/5000\n\r30/30 [==============================] - 0s 100us/sample - loss: 664.5474\n"
     ]
    },
    {
     "name": "stdout",
     "output_type": "stream",
     "text": [
      "Epoch 120/5000\n\r30/30 [==============================] - 0s 66us/sample - loss: 663.7572\n"
     ]
    },
    {
     "name": "stdout",
     "output_type": "stream",
     "text": [
      "Epoch 121/5000\n"
     ]
    },
    {
     "name": "stdout",
     "output_type": "stream",
     "text": [
      "\r30/30 [==============================] - 0s 100us/sample - loss: 662.9679\n"
     ]
    },
    {
     "name": "stdout",
     "output_type": "stream",
     "text": [
      "Epoch 122/5000\n\r30/30 [==============================] - 0s 67us/sample - loss: 662.1795\n"
     ]
    },
    {
     "name": "stdout",
     "output_type": "stream",
     "text": [
      "Epoch 123/5000\n\r30/30 [==============================] - 0s 66us/sample - loss: 661.3918\n"
     ]
    },
    {
     "name": "stdout",
     "output_type": "stream",
     "text": [
      "Epoch 124/5000\n"
     ]
    },
    {
     "name": "stdout",
     "output_type": "stream",
     "text": [
      "\r30/30 [==============================] - 0s 66us/sample - loss: 660.6050\n"
     ]
    },
    {
     "name": "stdout",
     "output_type": "stream",
     "text": [
      "Epoch 125/5000\n\r30/30 [==============================] - 0s 100us/sample - loss: 659.8190\n"
     ]
    },
    {
     "name": "stdout",
     "output_type": "stream",
     "text": [
      "Epoch 126/5000\n\r30/30 [==============================] - 0s 100us/sample - loss: 659.0339\n"
     ]
    },
    {
     "name": "stdout",
     "output_type": "stream",
     "text": [
      "Epoch 127/5000"
     ]
    },
    {
     "name": "stdout",
     "output_type": "stream",
     "text": [
      "\n\r30/30 [==============================] - 0s 66us/sample - loss: 658.2496\n"
     ]
    },
    {
     "name": "stdout",
     "output_type": "stream",
     "text": [
      "Epoch 128/5000\n\r30/30 [==============================] - 0s 100us/sample - loss: 657.4661\n"
     ]
    },
    {
     "name": "stdout",
     "output_type": "stream",
     "text": [
      "Epoch 129/5000\n\r30/30 [==============================] - 0s 66us/sample - loss: 656.6837\n"
     ]
    },
    {
     "name": "stdout",
     "output_type": "stream",
     "text": [
      "Epoch 130/5000\n\r30/30 [==============================] - 0s 100us/sample - loss: 655.9017\n"
     ]
    },
    {
     "name": "stdout",
     "output_type": "stream",
     "text": [
      "Epoch 131/5000\n\r30/30 [==============================] - 0s 66us/sample - loss: 655.1208\n"
     ]
    },
    {
     "name": "stdout",
     "output_type": "stream",
     "text": [
      "Epoch 132/5000\n\r30/30 [==============================] - 0s 66us/sample - loss: 654.3408\n"
     ]
    },
    {
     "name": "stdout",
     "output_type": "stream",
     "text": [
      "Epoch 133/5000"
     ]
    },
    {
     "name": "stdout",
     "output_type": "stream",
     "text": [
      "\n\r30/30 [==============================] - 0s 67us/sample - loss: 653.5615\n"
     ]
    },
    {
     "name": "stdout",
     "output_type": "stream",
     "text": [
      "Epoch 134/5000\n\r30/30 [==============================] - 0s 66us/sample - loss: 652.7831\n"
     ]
    },
    {
     "name": "stdout",
     "output_type": "stream",
     "text": [
      "Epoch 135/5000\n\r30/30 [==============================] - 0s 100us/sample - loss: 652.0056\n"
     ]
    },
    {
     "name": "stdout",
     "output_type": "stream",
     "text": [
      "Epoch 136/5000\n\r30/30 [==============================] - 0s 67us/sample - loss: 651.2289\n"
     ]
    },
    {
     "name": "stdout",
     "output_type": "stream",
     "text": [
      "Epoch 137/5000\n\r30/30 [==============================] - 0s 66us/sample - loss: 650.4529\n"
     ]
    },
    {
     "name": "stdout",
     "output_type": "stream",
     "text": [
      "Epoch 138/5000\n\r30/30 [==============================] - 0s 66us/sample - loss: 649.6777\n"
     ]
    },
    {
     "name": "stdout",
     "output_type": "stream",
     "text": [
      "Epoch 139/5000\n"
     ]
    },
    {
     "name": "stdout",
     "output_type": "stream",
     "text": [
      "\r30/30 [==============================] - 0s 100us/sample - loss: 648.9034\n"
     ]
    },
    {
     "name": "stdout",
     "output_type": "stream",
     "text": [
      "Epoch 140/5000\n"
     ]
    },
    {
     "name": "stdout",
     "output_type": "stream",
     "text": [
      "\r30/30 [==============================] - 0s 100us/sample - loss: 648.1301\n"
     ]
    },
    {
     "name": "stdout",
     "output_type": "stream",
     "text": [
      "Epoch 141/5000\n\r30/30 [==============================] - 0s 100us/sample - loss: 647.3574\n"
     ]
    },
    {
     "name": "stdout",
     "output_type": "stream",
     "text": [
      "Epoch 142/5000"
     ]
    },
    {
     "name": "stdout",
     "output_type": "stream",
     "text": [
      "\n\r30/30 [==============================] - 0s 100us/sample - loss: 646.5858\n"
     ]
    },
    {
     "name": "stdout",
     "output_type": "stream",
     "text": [
      "Epoch 143/5000\n\r30/30 [==============================] - 0s 100us/sample - loss: 645.8148\n"
     ]
    },
    {
     "name": "stdout",
     "output_type": "stream",
     "text": [
      "Epoch 144/5000\n"
     ]
    },
    {
     "name": "stdout",
     "output_type": "stream",
     "text": [
      "\r30/30 [==============================] - 0s 100us/sample - loss: 645.0447\n"
     ]
    },
    {
     "name": "stdout",
     "output_type": "stream",
     "text": [
      "Epoch 145/5000"
     ]
    },
    {
     "name": "stdout",
     "output_type": "stream",
     "text": [
      "\n"
     ]
    },
    {
     "name": "stdout",
     "output_type": "stream",
     "text": [
      "\r30/30 [==============================] - 0s 133us/sample - loss: 644.2755\n"
     ]
    },
    {
     "name": "stdout",
     "output_type": "stream",
     "text": [
      "Epoch 146/5000\n"
     ]
    },
    {
     "name": "stdout",
     "output_type": "stream",
     "text": [
      "\r30/30 [==============================]"
     ]
    },
    {
     "name": "stdout",
     "output_type": "stream",
     "text": [
      " - 0s 100us/sample - loss: 643.5070\n"
     ]
    },
    {
     "name": "stdout",
     "output_type": "stream",
     "text": [
      "Epoch 147/5000\n"
     ]
    },
    {
     "name": "stdout",
     "output_type": "stream",
     "text": [
      "\r30/30 [==============================] - 0s 100us/sample - loss: 642.7394\n"
     ]
    },
    {
     "name": "stdout",
     "output_type": "stream",
     "text": [
      "Epoch 148/5000\n"
     ]
    },
    {
     "name": "stdout",
     "output_type": "stream",
     "text": [
      "\r30/30 [==============================] - 0s 100us/sample - loss: 641.9726\n"
     ]
    },
    {
     "name": "stdout",
     "output_type": "stream",
     "text": [
      "Epoch 149/5000\n"
     ]
    },
    {
     "name": "stdout",
     "output_type": "stream",
     "text": [
      "\r30/30 [==============================] - 0s 100us/sample - loss: 641.2067\n"
     ]
    },
    {
     "name": "stdout",
     "output_type": "stream",
     "text": [
      "Epoch 150/5000\n"
     ]
    },
    {
     "name": "stdout",
     "output_type": "stream",
     "text": [
      "\r30/30 [==============================] - 0s 100us/sample - loss: 640.4415\n"
     ]
    },
    {
     "name": "stdout",
     "output_type": "stream",
     "text": [
      "Epoch 151/5000\n"
     ]
    },
    {
     "name": "stdout",
     "output_type": "stream",
     "text": [
      "\r30/30 [==============================] - 0s 100us/sample - loss: 639.6772\n"
     ]
    },
    {
     "name": "stdout",
     "output_type": "stream",
     "text": [
      "Epoch 152/5000\n"
     ]
    },
    {
     "name": "stdout",
     "output_type": "stream",
     "text": [
      "\r30/30 [==============================] - 0s 66us/sample - loss: 638.9137\n"
     ]
    },
    {
     "name": "stdout",
     "output_type": "stream",
     "text": [
      "Epoch 153/5000\n\r30/30 [==============================] - 0s 66us/sample - loss: 638.1511\n"
     ]
    },
    {
     "name": "stdout",
     "output_type": "stream",
     "text": [
      "Epoch 154/5000"
     ]
    },
    {
     "name": "stdout",
     "output_type": "stream",
     "text": [
      "\n"
     ]
    },
    {
     "name": "stdout",
     "output_type": "stream",
     "text": [
      "\r30/30 [==============================] - 0s 67us/sample - loss: 637.3892\n"
     ]
    },
    {
     "name": "stdout",
     "output_type": "stream",
     "text": [
      "Epoch 155/5000\n"
     ]
    },
    {
     "name": "stdout",
     "output_type": "stream",
     "text": [
      "\r30/30 [==============================] - 0s 66us/sample - loss: 636.6282\n"
     ]
    },
    {
     "name": "stdout",
     "output_type": "stream",
     "text": [
      "Epoch 156/5000"
     ]
    },
    {
     "name": "stdout",
     "output_type": "stream",
     "text": [
      "\n"
     ]
    },
    {
     "name": "stdout",
     "output_type": "stream",
     "text": [
      "\r30/30 [==============================] - 0s 100us/sample - loss: 635.8680\n"
     ]
    },
    {
     "name": "stdout",
     "output_type": "stream",
     "text": [
      "Epoch 157/5000\n\r30/30 [==============================] - 0s 66us/sample - loss: 635.1086\n"
     ]
    },
    {
     "name": "stdout",
     "output_type": "stream",
     "text": [
      "Epoch 158/5000\n\r30/30 [==============================] - 0s 67us/sample - loss: 634.3502\n"
     ]
    },
    {
     "name": "stdout",
     "output_type": "stream",
     "text": [
      "Epoch 159/5000\n"
     ]
    },
    {
     "name": "stdout",
     "output_type": "stream",
     "text": [
      "\r30/30 [==============================] - 0s 100us/sample - loss: 633.5925\n"
     ]
    },
    {
     "name": "stdout",
     "output_type": "stream",
     "text": [
      "Epoch 160/5000\n\r30/30 [==============================] - 0s 67us/sample - loss: 632.8354\n"
     ]
    },
    {
     "name": "stdout",
     "output_type": "stream",
     "text": [
      "Epoch 161/5000\n\r30/30 [==============================] - 0s 66us/sample - loss: 632.0794\n"
     ]
    },
    {
     "name": "stdout",
     "output_type": "stream",
     "text": [
      "Epoch 162/5000\n\r30/30 [==============================] - 0s 100us/sample - loss: 631.3242\n"
     ]
    },
    {
     "name": "stdout",
     "output_type": "stream",
     "text": [
      "Epoch 163/5000\n"
     ]
    },
    {
     "name": "stdout",
     "output_type": "stream",
     "text": [
      "\r30/30 [==============================] - 0s 33us/sample - loss: 630.5696\n"
     ]
    },
    {
     "name": "stdout",
     "output_type": "stream",
     "text": [
      "Epoch 164/5000\n\r30/30 [==============================] - 0s 66us/sample - loss: 629.8160\n"
     ]
    },
    {
     "name": "stdout",
     "output_type": "stream",
     "text": [
      "Epoch 165/5000\n"
     ]
    },
    {
     "name": "stdout",
     "output_type": "stream",
     "text": [
      "\r30/30 [==============================] - 0s 67us/sample - loss: 629.0633\n"
     ]
    },
    {
     "name": "stdout",
     "output_type": "stream",
     "text": [
      "Epoch 166/5000\n"
     ]
    },
    {
     "name": "stdout",
     "output_type": "stream",
     "text": [
      "\r30/30 [==============================] - 0s 100us/sample - loss: 628.3113\n"
     ]
    },
    {
     "name": "stdout",
     "output_type": "stream",
     "text": [
      "Epoch 167/5000\n"
     ]
    },
    {
     "name": "stdout",
     "output_type": "stream",
     "text": [
      "\r30/30 [==============================] - 0s 100us/sample - loss: 627.5600\n"
     ]
    },
    {
     "name": "stdout",
     "output_type": "stream",
     "text": [
      "Epoch 168/5000\n"
     ]
    },
    {
     "name": "stdout",
     "output_type": "stream",
     "text": [
      "\r30/30 [==============================] - 0s 100us/sample - loss: 626.8098\n"
     ]
    },
    {
     "name": "stdout",
     "output_type": "stream",
     "text": [
      "Epoch 169/5000\n"
     ]
    },
    {
     "name": "stdout",
     "output_type": "stream",
     "text": [
      "\r30/30 [==============================] - 0s 66us/sample - loss: 626.0602\n"
     ]
    },
    {
     "name": "stdout",
     "output_type": "stream",
     "text": [
      "Epoch 170/5000\n"
     ]
    },
    {
     "name": "stdout",
     "output_type": "stream",
     "text": [
      "\r30/30 [==============================] - 0s 100us/sample - loss: 625.3115\n"
     ]
    },
    {
     "name": "stdout",
     "output_type": "stream",
     "text": [
      "Epoch 171/5000\n\r30/30 [==============================] - 0s 100us/sample - loss: 624.5635\n"
     ]
    },
    {
     "name": "stdout",
     "output_type": "stream",
     "text": [
      "Epoch 172/5000"
     ]
    },
    {
     "name": "stdout",
     "output_type": "stream",
     "text": [
      "\n\r30/30 [==============================] - 0s 67us/sample - loss: 623.8165\n"
     ]
    },
    {
     "name": "stdout",
     "output_type": "stream",
     "text": [
      "Epoch 173/5000\n\r30/30 [==============================] - 0s 100us/sample - loss: 623.0703\n"
     ]
    },
    {
     "name": "stdout",
     "output_type": "stream",
     "text": [
      "Epoch 174/5000"
     ]
    },
    {
     "name": "stdout",
     "output_type": "stream",
     "text": [
      "\n\r30/30 [==============================] - 0s 66us/sample - loss: 622.3246\n"
     ]
    },
    {
     "name": "stdout",
     "output_type": "stream",
     "text": [
      "Epoch 175/5000"
     ]
    },
    {
     "name": "stdout",
     "output_type": "stream",
     "text": [
      "\n\r30/30 [==============================] - 0s 67us/sample - loss: 621.5800\n"
     ]
    },
    {
     "name": "stdout",
     "output_type": "stream",
     "text": [
      "Epoch 176/5000\n"
     ]
    },
    {
     "name": "stdout",
     "output_type": "stream",
     "text": [
      "\r30/30 [==============================] - 0s 133us/sample - loss: 620.8361\n"
     ]
    },
    {
     "name": "stdout",
     "output_type": "stream",
     "text": [
      "Epoch 177/5000\n\r30/30 [==============================] - 0s 100us/sample - loss: 620.0931\n"
     ]
    },
    {
     "name": "stdout",
     "output_type": "stream",
     "text": [
      "Epoch 178/5000\n\r30/30 [==============================] - 0s 66us/sample - loss: 619.3508\n"
     ]
    },
    {
     "name": "stdout",
     "output_type": "stream",
     "text": [
      "Epoch 179/5000\n"
     ]
    },
    {
     "name": "stdout",
     "output_type": "stream",
     "text": [
      "\r30/30 [==============================] - 0s 100us/sample - loss: 618.6094\n"
     ]
    },
    {
     "name": "stdout",
     "output_type": "stream",
     "text": [
      "Epoch 180/5000\n\r30/30 [==============================] - 0s 100us/sample - loss: 617.8689\n"
     ]
    },
    {
     "name": "stdout",
     "output_type": "stream",
     "text": [
      "Epoch 181/5000\n\r30/30 [==============================] - 0s 67us/sample - loss: 617.1290\n"
     ]
    },
    {
     "name": "stdout",
     "output_type": "stream",
     "text": [
      "Epoch 182/5000\n"
     ]
    },
    {
     "name": "stdout",
     "output_type": "stream",
     "text": [
      "\r30/30 [==============================] - 0s 100us/sample - loss: 616.3900\n"
     ]
    },
    {
     "name": "stdout",
     "output_type": "stream",
     "text": [
      "Epoch 183/5000"
     ]
    },
    {
     "name": "stdout",
     "output_type": "stream",
     "text": [
      "\n\r30/30 [==============================] - 0s 66us/sample - loss: 615.6517\n"
     ]
    },
    {
     "name": "stdout",
     "output_type": "stream",
     "text": [
      "Epoch 184/5000\n"
     ]
    },
    {
     "name": "stdout",
     "output_type": "stream",
     "text": [
      "\r30/30 [==============================] - 0s 66us/sample - loss: 614.9143\n"
     ]
    },
    {
     "name": "stdout",
     "output_type": "stream",
     "text": [
      "Epoch 185/5000\n\r30/30 [==============================] - 0s 66us/sample - loss: 614.1777\n"
     ]
    },
    {
     "name": "stdout",
     "output_type": "stream",
     "text": [
      "Epoch 186/5000\n"
     ]
    },
    {
     "name": "stdout",
     "output_type": "stream",
     "text": [
      "\r30/30 [==============================] - 0s 66us/sample - loss: 613.4420\n"
     ]
    },
    {
     "name": "stdout",
     "output_type": "stream",
     "text": [
      "Epoch 187/5000\n"
     ]
    },
    {
     "name": "stdout",
     "output_type": "stream",
     "text": [
      "\r30/30 [==============================] - 0s 66us/sample - loss: 612.7071\n"
     ]
    },
    {
     "name": "stdout",
     "output_type": "stream",
     "text": [
      "Epoch 188/5000\n\r30/30 [==============================] - 0s 33us/sample - loss: 611.9728\n"
     ]
    },
    {
     "name": "stdout",
     "output_type": "stream",
     "text": [
      "Epoch 189/5000\n\r30/30 [==============================] - 0s 0s/sample - loss: 611.2394\n"
     ]
    },
    {
     "name": "stdout",
     "output_type": "stream",
     "text": [
      "Epoch 190/5000\n\r30/30 [==============================] - 0s 0s/sample - loss: 610.5070\n"
     ]
    },
    {
     "name": "stdout",
     "output_type": "stream",
     "text": [
      "Epoch 191/5000\n\r30/30 [==============================] - 0s 0s/sample - loss: 609.7751\n"
     ]
    },
    {
     "name": "stdout",
     "output_type": "stream",
     "text": [
      "Epoch 192/5000\n\r30/30 [==============================] - 0s 333us/sample - loss: 609.0442\n"
     ]
    },
    {
     "name": "stdout",
     "output_type": "stream",
     "text": [
      "Epoch 193/5000\n\r30/30 [==============================] - 0s 0s/sample - loss: 608.3139\n"
     ]
    },
    {
     "name": "stdout",
     "output_type": "stream",
     "text": [
      "Epoch 194/5000\n\r30/30 [==============================] - 0s 0s/sample - loss: 607.5846\n"
     ]
    },
    {
     "name": "stdout",
     "output_type": "stream",
     "text": [
      "Epoch 195/5000\n\r30/30 [==============================] - 0s 0s/sample - loss: 606.8561\n"
     ]
    },
    {
     "name": "stdout",
     "output_type": "stream",
     "text": [
      "Epoch 196/5000\n\r30/30 [==============================] - 0s 0s/sample - loss: 606.1282\n"
     ]
    },
    {
     "name": "stdout",
     "output_type": "stream",
     "text": [
      "Epoch 197/5000\n"
     ]
    },
    {
     "name": "stdout",
     "output_type": "stream",
     "text": [
      "\r30/30 [==============================] - 0s 0s/sample - loss: 605.4013\n"
     ]
    },
    {
     "name": "stdout",
     "output_type": "stream",
     "text": [
      "Epoch 198/5000\n\r30/30 [==============================] - 0s 0s/sample - loss: 604.6752\n"
     ]
    },
    {
     "name": "stdout",
     "output_type": "stream",
     "text": [
      "Epoch 199/5000\n\r30/30 [==============================] - 0s 0s/sample - loss: 603.9498\n"
     ]
    },
    {
     "name": "stdout",
     "output_type": "stream",
     "text": [
      "Epoch 200/5000\n"
     ]
    },
    {
     "name": "stdout",
     "output_type": "stream",
     "text": [
      "\r30/30 [==============================] - 0s 333us/sample - loss: 603.2252\n"
     ]
    },
    {
     "name": "stdout",
     "output_type": "stream",
     "text": [
      "Epoch 201/5000\n\r30/30 [==============================] - 0s 0s/sample - loss: 602.5015\n"
     ]
    },
    {
     "name": "stdout",
     "output_type": "stream",
     "text": [
      "Epoch 202/5000\n\r30/30 [==============================] - 0s 0s/sample - loss: 601.7784\n"
     ]
    },
    {
     "name": "stdout",
     "output_type": "stream",
     "text": [
      "Epoch 203/5000\n\r30/30 [==============================] - 0s 333us/sample - loss: 601.0564\n"
     ]
    },
    {
     "name": "stdout",
     "output_type": "stream",
     "text": [
      "Epoch 204/5000\n\r30/30 [==============================] - 0s 0s/sample - loss: 600.3350\n"
     ]
    },
    {
     "name": "stdout",
     "output_type": "stream",
     "text": [
      "Epoch 205/5000\n\r30/30 [==============================] - 0s 0s/sample - loss: 599.6143\n"
     ]
    },
    {
     "name": "stdout",
     "output_type": "stream",
     "text": [
      "Epoch 206/5000\n\r30/30 [==============================] - 0s 333us/sample - loss: 598.8945\n"
     ]
    },
    {
     "name": "stdout",
     "output_type": "stream",
     "text": [
      "Epoch 207/5000\n\r30/30 [==============================] - 0s 0s/sample - loss: 598.1755\n"
     ]
    },
    {
     "name": "stdout",
     "output_type": "stream",
     "text": [
      "Epoch 208/5000\n\r30/30 [==============================] - 0s 0s/sample - loss: 597.4573\n"
     ]
    },
    {
     "name": "stdout",
     "output_type": "stream",
     "text": [
      "Epoch 209/5000"
     ]
    },
    {
     "name": "stdout",
     "output_type": "stream",
     "text": [
      "\n\r30/30 [==============================] - 0s 333us/sample - loss: 596.7399\n"
     ]
    },
    {
     "name": "stdout",
     "output_type": "stream",
     "text": [
      "Epoch 210/5000\n\r30/30 [==============================] - 0s 0s/sample - loss: 596.0233\n"
     ]
    },
    {
     "name": "stdout",
     "output_type": "stream",
     "text": [
      "Epoch 211/5000\n\r30/30 [==============================] - 0s 0s/sample - loss: 595.3074\n"
     ]
    },
    {
     "name": "stdout",
     "output_type": "stream",
     "text": [
      "Epoch 212/5000\n\r30/30 [==============================] - 0s 333us/sample - loss: 594.5925\n"
     ]
    },
    {
     "name": "stdout",
     "output_type": "stream",
     "text": [
      "Epoch 213/5000\n\r30/30 [==============================] - 0s 0s/sample - loss: 593.8782\n"
     ]
    },
    {
     "name": "stdout",
     "output_type": "stream",
     "text": [
      "Epoch 214/5000\n\r30/30 [==============================] - 0s 0s/sample - loss: 593.1646\n"
     ]
    },
    {
     "name": "stdout",
     "output_type": "stream",
     "text": [
      "Epoch 215/5000\n"
     ]
    },
    {
     "name": "stdout",
     "output_type": "stream",
     "text": [
      "\r30/30 [==============================] - 0s 333us/sample - loss: 592.4520\n"
     ]
    },
    {
     "name": "stdout",
     "output_type": "stream",
     "text": [
      "Epoch 216/5000\n\r30/30 [==============================] - 0s 0s/sample - loss: 591.7401\n"
     ]
    },
    {
     "name": "stdout",
     "output_type": "stream",
     "text": [
      "Epoch 217/5000\n\r30/30 [==============================] - 0s 0s/sample - loss: 591.0289\n"
     ]
    },
    {
     "name": "stdout",
     "output_type": "stream",
     "text": [
      "Epoch 218/5000\n"
     ]
    },
    {
     "name": "stdout",
     "output_type": "stream",
     "text": [
      "\r30/30 [==============================] - 0s 333us/sample - loss: 590.3187\n"
     ]
    },
    {
     "name": "stdout",
     "output_type": "stream",
     "text": [
      "Epoch 219/5000\n\r30/30 [==============================] - 0s 0s/sample - loss: 589.6092\n"
     ]
    },
    {
     "name": "stdout",
     "output_type": "stream",
     "text": [
      "Epoch 220/5000\n\r30/30 [==============================] - 0s 0s/sample - loss: 588.9003\n"
     ]
    },
    {
     "name": "stdout",
     "output_type": "stream",
     "text": [
      "Epoch 221/5000\n\r30/30 [==============================] - 0s 0s/sample - loss: 588.1924\n"
     ]
    },
    {
     "name": "stdout",
     "output_type": "stream",
     "text": [
      "Epoch 222/5000\n\r30/30 [==============================] - 0s 0s/sample - loss: 587.4852\n"
     ]
    },
    {
     "name": "stdout",
     "output_type": "stream",
     "text": [
      "Epoch 223/5000\n\r30/30 [==============================] - 0s 0s/sample - loss: 586.7789\n"
     ]
    },
    {
     "name": "stdout",
     "output_type": "stream",
     "text": [
      "Epoch 224/5000\n\r30/30 [==============================] - 0s 0s/sample - loss: 586.0733\n"
     ]
    },
    {
     "name": "stdout",
     "output_type": "stream",
     "text": [
      "Epoch 225/5000"
     ]
    },
    {
     "name": "stdout",
     "output_type": "stream",
     "text": [
      "\n\r30/30 [==============================] - 0s 333us/sample - loss: 585.3684\n"
     ]
    },
    {
     "name": "stdout",
     "output_type": "stream",
     "text": [
      "Epoch 226/5000\n\r30/30 [==============================] - 0s 0s/sample - loss: 584.6644\n"
     ]
    },
    {
     "name": "stdout",
     "output_type": "stream",
     "text": [
      "Epoch 227/5000\n\r30/30 [==============================] - 0s 0s/sample - loss: 583.9612\n"
     ]
    },
    {
     "name": "stdout",
     "output_type": "stream",
     "text": [
      "Epoch 228/5000"
     ]
    },
    {
     "name": "stdout",
     "output_type": "stream",
     "text": [
      "\n\r30/30 [==============================] - 0s 333us/sample - loss: 583.2587\n"
     ]
    },
    {
     "name": "stdout",
     "output_type": "stream",
     "text": [
      "Epoch 229/5000\n\r30/30 [==============================] - 0s 0s/sample - loss: 582.5568\n"
     ]
    },
    {
     "name": "stdout",
     "output_type": "stream",
     "text": [
      "Epoch 230/5000\n\r30/30 [==============================] - 0s 0s/sample - loss: 581.8560\n"
     ]
    },
    {
     "name": "stdout",
     "output_type": "stream",
     "text": [
      "Epoch 231/5000\n"
     ]
    },
    {
     "name": "stdout",
     "output_type": "stream",
     "text": [
      "\r30/30 [==============================] - 0s 333us/sample - loss: 581.1559\n"
     ]
    },
    {
     "name": "stdout",
     "output_type": "stream",
     "text": [
      "Epoch 232/5000\n\r30/30 [==============================] - 0s 0s/sample - loss: 580.4565\n"
     ]
    },
    {
     "name": "stdout",
     "output_type": "stream",
     "text": [
      "Epoch 233/5000\n\r30/30 [==============================] - 0s 0s/sample - loss: 579.7579\n"
     ]
    },
    {
     "name": "stdout",
     "output_type": "stream",
     "text": [
      "Epoch 234/5000\n"
     ]
    },
    {
     "name": "stdout",
     "output_type": "stream",
     "text": [
      "\r30/30 [==============================] - 0s 333us/sample - loss: 579.0602\n"
     ]
    },
    {
     "name": "stdout",
     "output_type": "stream",
     "text": [
      "Epoch 235/5000\n\r30/30 [==============================] - 0s 0s/sample - loss: 578.3631\n"
     ]
    },
    {
     "name": "stdout",
     "output_type": "stream",
     "text": [
      "Epoch 236/5000\n\r30/30 [==============================] - 0s 0s/sample - loss: 577.6669\n"
     ]
    },
    {
     "name": "stdout",
     "output_type": "stream",
     "text": [
      "Epoch 237/5000\n\r30/30 [==============================] - 0s 0s/sample - loss: 576.9714\n"
     ]
    },
    {
     "name": "stdout",
     "output_type": "stream",
     "text": [
      "Epoch 238/5000\n\r30/30 [==============================] - 0s 0s/sample - loss: 576.2766\n"
     ]
    },
    {
     "name": "stdout",
     "output_type": "stream",
     "text": [
      "Epoch 239/5000\n\r30/30 [==============================] - 0s 0s/sample - loss: 575.5828\n"
     ]
    },
    {
     "name": "stdout",
     "output_type": "stream",
     "text": [
      "Epoch 240/5000\n\r30/30 [==============================] - 0s 0s/sample - loss: 574.8896\n"
     ]
    },
    {
     "name": "stdout",
     "output_type": "stream",
     "text": [
      "Epoch 241/5000\n"
     ]
    },
    {
     "name": "stdout",
     "output_type": "stream",
     "text": [
      "\r30/30 [==============================] - 0s 0s/sample - loss: 574.1972\n"
     ]
    },
    {
     "name": "stdout",
     "output_type": "stream",
     "text": [
      "Epoch 242/5000\n\r30/30 [==============================] - 0s 0s/sample - loss: 573.5057\n"
     ]
    },
    {
     "name": "stdout",
     "output_type": "stream",
     "text": [
      "Epoch 243/5000\n\r30/30 [==============================] - 0s 0s/sample - loss: 572.8149\n"
     ]
    },
    {
     "name": "stdout",
     "output_type": "stream",
     "text": [
      "Epoch 244/5000\n\r30/30 [==============================] - 0s 0s/sample - loss: 572.1248\n"
     ]
    },
    {
     "name": "stdout",
     "output_type": "stream",
     "text": [
      "Epoch 245/5000\n\r30/30 [==============================] - 0s 333us/sample - loss: 571.4354\n"
     ]
    },
    {
     "name": "stdout",
     "output_type": "stream",
     "text": [
      "Epoch 246/5000\n\r30/30 [==============================] - 0s 0s/sample - loss: 570.7469\n"
     ]
    },
    {
     "name": "stdout",
     "output_type": "stream",
     "text": [
      "Epoch 247/5000\n\r30/30 [==============================] - 0s 0s/sample - loss: 570.0592\n"
     ]
    },
    {
     "name": "stdout",
     "output_type": "stream",
     "text": [
      "Epoch 248/5000\n\r30/30 [==============================] - 0s 333us/sample - loss: 569.3722\n"
     ]
    },
    {
     "name": "stdout",
     "output_type": "stream",
     "text": [
      "Epoch 249/5000\n\r30/30 [==============================] - 0s 0s/sample - loss: 568.6861\n"
     ]
    },
    {
     "name": "stdout",
     "output_type": "stream",
     "text": [
      "Epoch 250/5000\n\r30/30 [==============================] - 0s 0s/sample - loss: 568.0006\n"
     ]
    },
    {
     "name": "stdout",
     "output_type": "stream",
     "text": [
      "Epoch 251/5000\n"
     ]
    },
    {
     "name": "stdout",
     "output_type": "stream",
     "text": [
      "\r30/30 [==============================] - 0s 333us/sample - loss: 567.3158\n"
     ]
    },
    {
     "name": "stdout",
     "output_type": "stream",
     "text": [
      "Epoch 252/5000\n\r30/30 [==============================] - 0s 0s/sample - loss: 566.6320\n"
     ]
    },
    {
     "name": "stdout",
     "output_type": "stream",
     "text": [
      "Epoch 253/5000\n\r30/30 [==============================] - 0s 0s/sample - loss: 565.9489\n"
     ]
    },
    {
     "name": "stdout",
     "output_type": "stream",
     "text": [
      "Epoch 254/5000\n\r30/30 [==============================] - 0s 0s/sample - loss: 565.2664\n"
     ]
    },
    {
     "name": "stdout",
     "output_type": "stream",
     "text": [
      "Epoch 255/5000\n\r30/30 [==============================] - 0s 0s/sample - loss: 564.5848\n"
     ]
    },
    {
     "name": "stdout",
     "output_type": "stream",
     "text": [
      "Epoch 256/5000\n\r30/30 [==============================] - 0s 0s/sample - loss: 563.9041\n"
     ]
    },
    {
     "name": "stdout",
     "output_type": "stream",
     "text": [
      "Epoch 257/5000"
     ]
    },
    {
     "name": "stdout",
     "output_type": "stream",
     "text": [
      "\n\r30/30 [==============================] - 0s 333us/sample - loss: 563.2239\n"
     ]
    },
    {
     "name": "stdout",
     "output_type": "stream",
     "text": [
      "Epoch 258/5000\n\r30/30 [==============================] - 0s 0s/sample - loss: 562.5447\n"
     ]
    },
    {
     "name": "stdout",
     "output_type": "stream",
     "text": [
      "Epoch 259/5000\n\r30/30 [==============================] - 0s 0s/sample - loss: 561.8661\n"
     ]
    },
    {
     "name": "stdout",
     "output_type": "stream",
     "text": [
      "Epoch 260/5000\n"
     ]
    },
    {
     "name": "stdout",
     "output_type": "stream",
     "text": [
      "\r30/30 [==============================] - 0s 333us/sample - loss: 561.1883\n"
     ]
    },
    {
     "name": "stdout",
     "output_type": "stream",
     "text": [
      "Epoch 261/5000\n\r30/30 [==============================] - 0s 0s/sample - loss: 560.5114\n"
     ]
    },
    {
     "name": "stdout",
     "output_type": "stream",
     "text": [
      "Epoch 262/5000\n\r30/30 [==============================] - 0s 0s/sample - loss: 559.8350\n"
     ]
    },
    {
     "name": "stdout",
     "output_type": "stream",
     "text": [
      "Epoch 263/5000\n"
     ]
    },
    {
     "name": "stdout",
     "output_type": "stream",
     "text": [
      "\r30/30 [==============================] - 0s 0s/sample - loss: 559.1595\n"
     ]
    },
    {
     "name": "stdout",
     "output_type": "stream",
     "text": [
      "Epoch 264/5000\n\r30/30 [==============================] - 0s 0s/sample - loss: 558.4847\n"
     ]
    },
    {
     "name": "stdout",
     "output_type": "stream",
     "text": [
      "Epoch 265/5000\n\r30/30 [==============================] - 0s 0s/sample - loss: 557.8108\n"
     ]
    },
    {
     "name": "stdout",
     "output_type": "stream",
     "text": [
      "Epoch 266/5000\n\r30/30 [==============================] - 0s 0s/sample - loss: 557.1376\n"
     ]
    },
    {
     "name": "stdout",
     "output_type": "stream",
     "text": [
      "Epoch 267/5000\n\r30/30 [==============================] - 0s 0s/sample - loss: 556.4650\n"
     ]
    },
    {
     "name": "stdout",
     "output_type": "stream",
     "text": [
      "Epoch 268/5000\n\r30/30 [==============================] - 0s 0s/sample - loss: 555.7933\n"
     ]
    },
    {
     "name": "stdout",
     "output_type": "stream",
     "text": [
      "Epoch 269/5000\n\r30/30 [==============================] - 0s 0s/sample - loss: 555.1224\n"
     ]
    },
    {
     "name": "stdout",
     "output_type": "stream",
     "text": [
      "Epoch 270/5000\n"
     ]
    },
    {
     "name": "stdout",
     "output_type": "stream",
     "text": [
      "\r30/30 [==============================] - 0s 333us/sample - loss: 554.4523\n"
     ]
    },
    {
     "name": "stdout",
     "output_type": "stream",
     "text": [
      "Epoch 271/5000\n\r30/30 [==============================] - 0s 0s/sample - loss: 553.7828\n"
     ]
    },
    {
     "name": "stdout",
     "output_type": "stream",
     "text": [
      "Epoch 272/5000\n\r30/30 [==============================] - 0s 0s/sample - loss: 553.1142\n"
     ]
    },
    {
     "name": "stdout",
     "output_type": "stream",
     "text": [
      "Epoch 273/5000\n\r30/30 [==============================] - 0s 0s/sample - loss: 552.4463\n"
     ]
    },
    {
     "name": "stdout",
     "output_type": "stream",
     "text": [
      "Epoch 274/5000\n\r30/30 [==============================] - 0s 0s/sample - loss: 551.7792\n"
     ]
    },
    {
     "name": "stdout",
     "output_type": "stream",
     "text": [
      "Epoch 275/5000\n\r30/30 [==============================] - 0s 0s/sample - loss: 551.1127\n"
     ]
    },
    {
     "name": "stdout",
     "output_type": "stream",
     "text": [
      "Epoch 276/5000\n\r30/30 [==============================]"
     ]
    },
    {
     "name": "stdout",
     "output_type": "stream",
     "text": [
      " - 0s 0s/sample - loss: 550.4470\n"
     ]
    },
    {
     "name": "stdout",
     "output_type": "stream",
     "text": [
      "Epoch 277/5000\n\r30/30 [==============================] - 0s 0s/sample - loss: 549.7822\n"
     ]
    },
    {
     "name": "stdout",
     "output_type": "stream",
     "text": [
      "Epoch 278/5000\n\r30/30 [==============================] - 0s 0s/sample - loss: 549.1180\n"
     ]
    },
    {
     "name": "stdout",
     "output_type": "stream",
     "text": [
      "Epoch 279/5000\n\r30/30 [==============================] - 0s 0s/sample - loss: 548.4547\n"
     ]
    },
    {
     "name": "stdout",
     "output_type": "stream",
     "text": [
      "Epoch 280/5000\n"
     ]
    },
    {
     "name": "stdout",
     "output_type": "stream",
     "text": [
      "\r30/30 [==============================] - 0s 333us/sample - loss: 547.7920\n"
     ]
    },
    {
     "name": "stdout",
     "output_type": "stream",
     "text": [
      "Epoch 281/5000\n\r30/30 [==============================] - 0s 0s/sample - loss: 547.1301\n"
     ]
    },
    {
     "name": "stdout",
     "output_type": "stream",
     "text": [
      "Epoch 282/5000\n\r30/30 [==============================] - 0s 0s/sample - loss: 546.4691\n"
     ]
    },
    {
     "name": "stdout",
     "output_type": "stream",
     "text": [
      "Epoch 283/5000\n\r30/30 [==============================] - 0s 0s/sample - loss: 545.8087\n"
     ]
    },
    {
     "name": "stdout",
     "output_type": "stream",
     "text": [
      "Epoch 284/5000\n\r30/30 [==============================] - 0s 0s/sample - loss: 545.1490\n"
     ]
    },
    {
     "name": "stdout",
     "output_type": "stream",
     "text": [
      "Epoch 285/5000\n\r30/30 [==============================] - 0s 0s/sample - loss: 544.4901\n"
     ]
    },
    {
     "name": "stdout",
     "output_type": "stream",
     "text": [
      "Epoch 286/5000\n\r30/30 [==============================] - 0s 0s/sample - loss: 543.8319\n"
     ]
    },
    {
     "name": "stdout",
     "output_type": "stream",
     "text": [
      "Epoch 287/5000\n\r30/30 [==============================] - 0s 333us/sample - loss: 543.1746\n"
     ]
    },
    {
     "name": "stdout",
     "output_type": "stream",
     "text": [
      "Epoch 288/5000\n\r30/30 [==============================] - 0s 0s/sample - loss: 542.5179\n"
     ]
    },
    {
     "name": "stdout",
     "output_type": "stream",
     "text": [
      "Epoch 289/5000\n\r30/30 [==============================] - 0s 0s/sample - loss: 541.8622\n"
     ]
    },
    {
     "name": "stdout",
     "output_type": "stream",
     "text": [
      "Epoch 290/5000\n\r30/30 [==============================] - 0s 0s/sample - loss: 541.2070\n"
     ]
    },
    {
     "name": "stdout",
     "output_type": "stream",
     "text": [
      "Epoch 291/5000\n"
     ]
    },
    {
     "name": "stdout",
     "output_type": "stream",
     "text": [
      "\r30/30 [==============================] - 0s 333us/sample - loss: 540.5526\n"
     ]
    },
    {
     "name": "stdout",
     "output_type": "stream",
     "text": [
      "Epoch 292/5000\n\r30/30 [==============================] - 0s 0s/sample - loss: 539.8989\n"
     ]
    },
    {
     "name": "stdout",
     "output_type": "stream",
     "text": [
      "Epoch 293/5000\n\r30/30 [==============================] - 0s 0s/sample - loss: 539.2459\n"
     ]
    },
    {
     "name": "stdout",
     "output_type": "stream",
     "text": [
      "Epoch 294/5000\n\r30/30 [==============================] - 0s 0s/sample - loss: 538.5938\n"
     ]
    },
    {
     "name": "stdout",
     "output_type": "stream",
     "text": [
      "Epoch 295/5000"
     ]
    },
    {
     "name": "stdout",
     "output_type": "stream",
     "text": [
      "\n\r30/30 [==============================] - 0s 333us/sample - loss: 537.9424\n"
     ]
    },
    {
     "name": "stdout",
     "output_type": "stream",
     "text": [
      "Epoch 296/5000\n\r30/30 [==============================] - 0s 0s/sample - loss: 537.2917\n"
     ]
    },
    {
     "name": "stdout",
     "output_type": "stream",
     "text": [
      "Epoch 297/5000\n\r30/30 [==============================] - 0s 0s/sample - loss: 536.6418\n"
     ]
    },
    {
     "name": "stdout",
     "output_type": "stream",
     "text": [
      "Epoch 298/5000\n"
     ]
    },
    {
     "name": "stdout",
     "output_type": "stream",
     "text": [
      "\r30/30 [==============================] - 0s 333us/sample - loss: 535.9926\n"
     ]
    },
    {
     "name": "stdout",
     "output_type": "stream",
     "text": [
      "Epoch 299/5000\n\r30/30 [==============================] - 0s 0s/sample - loss: 535.3441\n"
     ]
    },
    {
     "name": "stdout",
     "output_type": "stream",
     "text": [
      "Epoch 300/5000\n\r30/30 [==============================] - 0s 0s/sample - loss: 534.6964\n"
     ]
    },
    {
     "name": "stdout",
     "output_type": "stream",
     "text": [
      "Epoch 301/5000\n\r30/30 [==============================] - 0s 0s/sample - loss: 534.0494\n"
     ]
    },
    {
     "name": "stdout",
     "output_type": "stream",
     "text": [
      "Epoch 302/5000\n\r30/30 [==============================] - 0s 0s/sample - loss: 533.4031\n"
     ]
    },
    {
     "name": "stdout",
     "output_type": "stream",
     "text": [
      "Epoch 303/5000\n\r30/30 [==============================] - 0s 0s/sample - loss: 532.7576\n"
     ]
    },
    {
     "name": "stdout",
     "output_type": "stream",
     "text": [
      "Epoch 304/5000\n\r30/30 [==============================] - 0s 0s/sample - loss: 532.1129\n"
     ]
    },
    {
     "name": "stdout",
     "output_type": "stream",
     "text": [
      "Epoch 305/5000\n\r30/30 [==============================] - 0s 333us/sample - loss: 531.4689\n"
     ]
    },
    {
     "name": "stdout",
     "output_type": "stream",
     "text": [
      "Epoch 306/5000\n\r30/30 [==============================] - 0s 0s/sample - loss: 530.8257\n"
     ]
    },
    {
     "name": "stdout",
     "output_type": "stream",
     "text": [
      "Epoch 307/5000\n\r30/30 [==============================] - 0s 0s/sample - loss: 530.1832\n"
     ]
    },
    {
     "name": "stdout",
     "output_type": "stream",
     "text": [
      "Epoch 308/5000\n"
     ]
    },
    {
     "name": "stdout",
     "output_type": "stream",
     "text": [
      "\r30/30 [==============================] - 0s 333us/sample - loss: 529.5413\n"
     ]
    },
    {
     "name": "stdout",
     "output_type": "stream",
     "text": [
      "Epoch 309/5000\n\r30/30 [==============================] - 0s 0s/sample - loss: 528.9001\n"
     ]
    },
    {
     "name": "stdout",
     "output_type": "stream",
     "text": [
      "Epoch 310/5000\n\r30/30 [==============================] - 0s 0s/sample - loss: 528.2599\n"
     ]
    },
    {
     "name": "stdout",
     "output_type": "stream",
     "text": [
      "Epoch 311/5000\n\r30/30 [==============================] - 0s 0s/sample - loss: 527.6202\n"
     ]
    },
    {
     "name": "stdout",
     "output_type": "stream",
     "text": [
      "Epoch 312/5000\n\r30/30 [==============================] - 0s 0s/sample - loss: 526.9814\n"
     ]
    },
    {
     "name": "stdout",
     "output_type": "stream",
     "text": [
      "Epoch 313/5000\n\r30/30 [==============================] - 0s 0s/sample - loss: 526.3433\n"
     ]
    },
    {
     "name": "stdout",
     "output_type": "stream",
     "text": [
      "Epoch 314/5000\n\r30/30 [==============================] - 0s 0s/sample - loss: 525.7059\n"
     ]
    },
    {
     "name": "stdout",
     "output_type": "stream",
     "text": [
      "Epoch 315/5000"
     ]
    },
    {
     "name": "stdout",
     "output_type": "stream",
     "text": [
      "\n\r30/30 [==============================] - 0s 333us/sample - loss: 525.0693\n"
     ]
    },
    {
     "name": "stdout",
     "output_type": "stream",
     "text": [
      "Epoch 316/5000\n\r30/30 [==============================] - 0s 0s/sample - loss: 524.4334\n"
     ]
    },
    {
     "name": "stdout",
     "output_type": "stream",
     "text": [
      "Epoch 317/5000\n\r30/30 [==============================] - 0s 0s/sample - loss: 523.7982\n"
     ]
    },
    {
     "name": "stdout",
     "output_type": "stream",
     "text": [
      "Epoch 318/5000\n\r30/30 [==============================] - 0s 333us/sample - loss: 523.1636\n"
     ]
    },
    {
     "name": "stdout",
     "output_type": "stream",
     "text": [
      "Epoch 319/5000\n\r30/30 [==============================] - 0s 0s/sample - loss: 522.5298\n"
     ]
    },
    {
     "name": "stdout",
     "output_type": "stream",
     "text": [
      "Epoch 320/5000\n\r30/30 [==============================] - 0s 0s/sample - loss: 521.8968\n"
     ]
    },
    {
     "name": "stdout",
     "output_type": "stream",
     "text": [
      "Epoch 321/5000\n"
     ]
    },
    {
     "name": "stdout",
     "output_type": "stream",
     "text": [
      "\r30/30 [==============================] - 0s 0s/sample - loss: 521.2646\n"
     ]
    },
    {
     "name": "stdout",
     "output_type": "stream",
     "text": [
      "Epoch 322/5000\n\r30/30 [==============================] - 0s 0s/sample - loss: 520.6330\n"
     ]
    },
    {
     "name": "stdout",
     "output_type": "stream",
     "text": [
      "Epoch 323/5000\n\r30/30 [==============================] - 0s 0s/sample - loss: 520.0023\n"
     ]
    },
    {
     "name": "stdout",
     "output_type": "stream",
     "text": [
      "Epoch 324/5000\n\r30/30 [==============================] - 0s 0s/sample - loss: 519.3722\n"
     ]
    },
    {
     "name": "stdout",
     "output_type": "stream",
     "text": [
      "Epoch 325/5000\n"
     ]
    },
    {
     "name": "stdout",
     "output_type": "stream",
     "text": [
      "\r30/30 [==============================] - 0s 333us/sample - loss: 518.7429\n"
     ]
    },
    {
     "name": "stdout",
     "output_type": "stream",
     "text": [
      "Epoch 326/5000\n\r30/30 [==============================] - 0s 0s/sample - loss: 518.1141\n"
     ]
    },
    {
     "name": "stdout",
     "output_type": "stream",
     "text": [
      "Epoch 327/5000\n\r30/30 [==============================] - 0s 0s/sample - loss: 517.4863\n"
     ]
    },
    {
     "name": "stdout",
     "output_type": "stream",
     "text": [
      "Epoch 328/5000\n\r30/30 [==============================] - 0s 0s/sample - loss: 516.8590\n"
     ]
    },
    {
     "name": "stdout",
     "output_type": "stream",
     "text": [
      "Epoch 329/5000\n"
     ]
    },
    {
     "name": "stdout",
     "output_type": "stream",
     "text": [
      "\r30/30 [==============================] - 0s 333us/sample - loss: 516.2325\n"
     ]
    },
    {
     "name": "stdout",
     "output_type": "stream",
     "text": [
      "Epoch 330/5000\n\r30/30 [==============================] - 0s 0s/sample - loss: 515.6068\n"
     ]
    },
    {
     "name": "stdout",
     "output_type": "stream",
     "text": [
      "Epoch 331/5000\n\r30/30 [==============================] - 0s 0s/sample - loss: 514.9819\n"
     ]
    },
    {
     "name": "stdout",
     "output_type": "stream",
     "text": [
      "Epoch 332/5000\n\r30/30 [==============================] - 0s 0s/sample - loss: 514.3575\n"
     ]
    },
    {
     "name": "stdout",
     "output_type": "stream",
     "text": [
      "Epoch 333/5000"
     ]
    },
    {
     "name": "stdout",
     "output_type": "stream",
     "text": [
      "\n\r30/30 [==============================] - 0s 333us/sample - loss: 513.7339\n"
     ]
    },
    {
     "name": "stdout",
     "output_type": "stream",
     "text": [
      "Epoch 334/5000\n\r30/30 [==============================] - 0s 0s/sample - loss: 513.1111\n"
     ]
    },
    {
     "name": "stdout",
     "output_type": "stream",
     "text": [
      "Epoch 335/5000\n\r30/30 [==============================] - 0s 0s/sample - loss: 512.4890\n"
     ]
    },
    {
     "name": "stdout",
     "output_type": "stream",
     "text": [
      "Epoch 336/5000\n\r30/30 [==============================] - 0s 0s/sample - loss: 511.8676\n"
     ]
    },
    {
     "name": "stdout",
     "output_type": "stream",
     "text": [
      "Epoch 337/5000"
     ]
    },
    {
     "name": "stdout",
     "output_type": "stream",
     "text": [
      "\n\r30/30 [==============================] - 0s 333us/sample - loss: 511.2469\n"
     ]
    },
    {
     "name": "stdout",
     "output_type": "stream",
     "text": [
      "Epoch 338/5000\n\r30/30 [==============================] - 0s 0s/sample - loss: 510.6270\n"
     ]
    },
    {
     "name": "stdout",
     "output_type": "stream",
     "text": [
      "Epoch 339/5000\n\r30/30 [==============================] - 0s 0s/sample - loss: 510.0077\n"
     ]
    },
    {
     "name": "stdout",
     "output_type": "stream",
     "text": [
      "Epoch 340/5000\n\r30/30 [==============================] - 0s 0s/sample - loss: 509.3891\n"
     ]
    },
    {
     "name": "stdout",
     "output_type": "stream",
     "text": [
      "Epoch 341/5000\n\r30/30 [==============================] - 0s 333us/sample - loss: 508.7714\n"
     ]
    },
    {
     "name": "stdout",
     "output_type": "stream",
     "text": [
      "Epoch 342/5000\n\r30/30 [==============================] - 0s 0s/sample - loss: 508.1542\n"
     ]
    },
    {
     "name": "stdout",
     "output_type": "stream",
     "text": [
      "Epoch 343/5000\n\r30/30 [==============================] - 0s 0s/sample - loss: 507.5379\n"
     ]
    },
    {
     "name": "stdout",
     "output_type": "stream",
     "text": [
      "Epoch 344/5000\n"
     ]
    },
    {
     "name": "stdout",
     "output_type": "stream",
     "text": [
      "\r30/30 [==============================] - 0s 333us/sample - loss: 506.9222\n"
     ]
    },
    {
     "name": "stdout",
     "output_type": "stream",
     "text": [
      "Epoch 345/5000\n\r30/30 [==============================] - 0s 0s/sample - loss: 506.3073\n"
     ]
    },
    {
     "name": "stdout",
     "output_type": "stream",
     "text": [
      "Epoch 346/5000\n\r30/30 [==============================] - 0s 0s/sample - loss: 505.6930\n"
     ]
    },
    {
     "name": "stdout",
     "output_type": "stream",
     "text": [
      "Epoch 347/5000\n\r30/30 [==============================] - 0s 0s/sample - loss: 505.0795\n"
     ]
    },
    {
     "name": "stdout",
     "output_type": "stream",
     "text": [
      "Epoch 348/5000\n\r30/30 [==============================] - 0s 333us/sample - loss: 504.4667\n"
     ]
    },
    {
     "name": "stdout",
     "output_type": "stream",
     "text": [
      "Epoch 349/5000\n\r30/30 [==============================] - 0s 0s/sample - loss: 503.8546\n"
     ]
    },
    {
     "name": "stdout",
     "output_type": "stream",
     "text": [
      "Epoch 350/5000\n\r30/30 [==============================] - 0s 0s/sample - loss: 503.2432\n"
     ]
    },
    {
     "name": "stdout",
     "output_type": "stream",
     "text": [
      "Epoch 351/5000\n\r30/30 [==============================] - 0s 0s/sample - loss: 502.6326\n"
     ]
    },
    {
     "name": "stdout",
     "output_type": "stream",
     "text": [
      "Epoch 352/5000\n\r30/30 [==============================] - 0s 0s/sample - loss: 502.0226\n"
     ]
    },
    {
     "name": "stdout",
     "output_type": "stream",
     "text": [
      "Epoch 353/5000\n\r30/30 [==============================] - 0s 0s/sample - loss: 501.4135\n"
     ]
    },
    {
     "name": "stdout",
     "output_type": "stream",
     "text": [
      "Epoch 354/5000\n\r30/30 [==============================] - 0s 0s/sample - loss: 500.8049\n"
     ]
    },
    {
     "name": "stdout",
     "output_type": "stream",
     "text": [
      "Epoch 355/5000\n\r30/30 [==============================] - 0s 0s/sample - loss: 500.1971\n"
     ]
    },
    {
     "name": "stdout",
     "output_type": "stream",
     "text": [
      "Epoch 356/5000\n\r30/30 [==============================] - 0s 0s/sample - loss: 499.5900\n"
     ]
    },
    {
     "name": "stdout",
     "output_type": "stream",
     "text": [
      "Epoch 357/5000\n\r30/30 [==============================] - 0s 0s/sample - loss: 498.9836\n"
     ]
    },
    {
     "name": "stdout",
     "output_type": "stream",
     "text": [
      "Epoch 358/5000"
     ]
    },
    {
     "name": "stdout",
     "output_type": "stream",
     "text": [
      "\n\r30/30 [==============================] - 0s 333us/sample - loss: 498.3778\n"
     ]
    },
    {
     "name": "stdout",
     "output_type": "stream",
     "text": [
      "Epoch 359/5000\n\r30/30 [==============================] - 0s 0s/sample - loss: 497.7729\n"
     ]
    },
    {
     "name": "stdout",
     "output_type": "stream",
     "text": [
      "Epoch 360/5000\n\r30/30 [==============================] - 0s 0s/sample - loss: 497.1687\n"
     ]
    },
    {
     "name": "stdout",
     "output_type": "stream",
     "text": [
      "Epoch 361/5000\n\r30/30 [==============================] - 0s 0s/sample - loss: 496.5652\n"
     ]
    },
    {
     "name": "stdout",
     "output_type": "stream",
     "text": [
      "Epoch 362/5000\n\r30/30 [==============================] - 0s 0s/sample - loss: 495.9623\n"
     ]
    },
    {
     "name": "stdout",
     "output_type": "stream",
     "text": [
      "Epoch 363/5000\n\r30/30 [==============================] - 0s 0s/sample - loss: 495.3602\n"
     ]
    },
    {
     "name": "stdout",
     "output_type": "stream",
     "text": [
      "Epoch 364/5000\n\r30/30 [==============================] - 0s 0s/sample - loss: 494.7587\n"
     ]
    },
    {
     "name": "stdout",
     "output_type": "stream",
     "text": [
      "Epoch 365/5000\n\r30/30 [==============================] - 0s 0s/sample - loss: 494.1579\n"
     ]
    },
    {
     "name": "stdout",
     "output_type": "stream",
     "text": [
      "Epoch 366/5000\n\r30/30 [==============================] - 0s 333us/sample - loss: 493.5580\n"
     ]
    },
    {
     "name": "stdout",
     "output_type": "stream",
     "text": [
      "Epoch 367/5000\n\r30/30 [==============================] - 0s 0s/sample - loss: 492.9585\n"
     ]
    },
    {
     "name": "stdout",
     "output_type": "stream",
     "text": [
      "Epoch 368/5000\n\r30/30 [==============================] - 0s 0s/sample - loss: 492.3600\n"
     ]
    },
    {
     "name": "stdout",
     "output_type": "stream",
     "text": [
      "Epoch 369/5000\n\r30/30 [==============================] - 0s 0s/sample - loss: 491.7621\n"
     ]
    },
    {
     "name": "stdout",
     "output_type": "stream",
     "text": [
      "Epoch 370/5000\n\r30/30 [==============================] - 0s 0s/sample - loss: 491.1649\n"
     ]
    },
    {
     "name": "stdout",
     "output_type": "stream",
     "text": [
      "Epoch 371/5000\n\r30/30 [==============================] - 0s 0s/sample - loss: 490.5684\n"
     ]
    },
    {
     "name": "stdout",
     "output_type": "stream",
     "text": [
      "Epoch 372/5000\n\r30/30 [==============================] - 0s 0s/sample - loss: 489.9726\n"
     ]
    },
    {
     "name": "stdout",
     "output_type": "stream",
     "text": [
      "Epoch 373/5000\n"
     ]
    },
    {
     "name": "stdout",
     "output_type": "stream",
     "text": [
      "\r30/30 [==============================] - 0s 333us/sample - loss: 489.3776\n"
     ]
    },
    {
     "name": "stdout",
     "output_type": "stream",
     "text": [
      "Epoch 374/5000\n\r30/30 [==============================] - 0s 0s/sample - loss: 488.7832\n"
     ]
    },
    {
     "name": "stdout",
     "output_type": "stream",
     "text": [
      "Epoch 375/5000\n\r30/30 [==============================] - 0s 0s/sample - loss: 488.1895\n"
     ]
    },
    {
     "name": "stdout",
     "output_type": "stream",
     "text": [
      "Epoch 376/5000\n\r30/30 [==============================] - 0s 0s/sample - loss: 487.5964\n"
     ]
    },
    {
     "name": "stdout",
     "output_type": "stream",
     "text": [
      "Epoch 377/5000\n\r30/30 [==============================] - 0s 333us/sample - loss: 487.0042\n"
     ]
    },
    {
     "name": "stdout",
     "output_type": "stream",
     "text": [
      "Epoch 378/5000\n\r30/30 [==============================] - 0s 0s/sample - loss: 486.4126\n"
     ]
    },
    {
     "name": "stdout",
     "output_type": "stream",
     "text": [
      "Epoch 379/5000\n\r30/30 [==============================] - 0s 0s/sample - loss: 485.8217\n"
     ]
    },
    {
     "name": "stdout",
     "output_type": "stream",
     "text": [
      "Epoch 380/5000\n\r30/30 [==============================] - 0s 0s/sample - loss: 485.2314\n"
     ]
    },
    {
     "name": "stdout",
     "output_type": "stream",
     "text": [
      "Epoch 381/5000\n\r30/30 [==============================] - 0s 0s/sample - loss: 484.6420\n"
     ]
    },
    {
     "name": "stdout",
     "output_type": "stream",
     "text": [
      "Epoch 382/5000\n\r30/30 [==============================] - 0s 0s/sample - loss: 484.0531\n"
     ]
    },
    {
     "name": "stdout",
     "output_type": "stream",
     "text": [
      "Epoch 383/5000\n\r30/30 [==============================] - 0s 0s/sample - loss: 483.4651\n"
     ]
    },
    {
     "name": "stdout",
     "output_type": "stream",
     "text": [
      "Epoch 384/5000\n"
     ]
    },
    {
     "name": "stdout",
     "output_type": "stream",
     "text": [
      "\r30/30 [==============================] - 0s 333us/sample - loss: 482.8777\n"
     ]
    },
    {
     "name": "stdout",
     "output_type": "stream",
     "text": [
      "Epoch 385/5000\n\r30/30 [==============================] - 0s 0s/sample - loss: 482.2909\n"
     ]
    },
    {
     "name": "stdout",
     "output_type": "stream",
     "text": [
      "Epoch 386/5000\n\r30/30 [==============================] - 0s 0s/sample - loss: 481.7049\n"
     ]
    },
    {
     "name": "stdout",
     "output_type": "stream",
     "text": [
      "Epoch 387/5000\n\r30/30 [==============================] - 0s 0s/sample - loss: 481.1195\n"
     ]
    },
    {
     "name": "stdout",
     "output_type": "stream",
     "text": [
      "Epoch 388/5000\n"
     ]
    },
    {
     "name": "stdout",
     "output_type": "stream",
     "text": [
      "\r30/30 [==============================] - 0s 333us/sample - loss: 480.5349\n"
     ]
    },
    {
     "name": "stdout",
     "output_type": "stream",
     "text": [
      "Epoch 389/5000\n\r30/30 [==============================] - 0s 0s/sample - loss: 479.9509\n"
     ]
    },
    {
     "name": "stdout",
     "output_type": "stream",
     "text": [
      "Epoch 390/5000\n\r30/30 [==============================] - 0s 0s/sample - loss: 479.3677\n"
     ]
    },
    {
     "name": "stdout",
     "output_type": "stream",
     "text": [
      "Epoch 391/5000\n\r30/30 [==============================] - 0s 0s/sample - loss: 478.7851\n"
     ]
    },
    {
     "name": "stdout",
     "output_type": "stream",
     "text": [
      "Epoch 392/5000\n\r30/30 [==============================] - 0s 333us/sample - loss: 478.2033\n"
     ]
    },
    {
     "name": "stdout",
     "output_type": "stream",
     "text": [
      "Epoch 393/5000\n\r30/30 [==============================] - 0s 0s/sample - loss: 477.6221\n"
     ]
    },
    {
     "name": "stdout",
     "output_type": "stream",
     "text": [
      "Epoch 394/5000\n\r30/30 [==============================] - 0s 0s/sample - loss: 477.0415\n"
     ]
    },
    {
     "name": "stdout",
     "output_type": "stream",
     "text": [
      "Epoch 395/5000\n\r30/30 [==============================] - 0s 0s/sample - loss: 476.4617\n"
     ]
    },
    {
     "name": "stdout",
     "output_type": "stream",
     "text": [
      "Epoch 396/5000\n"
     ]
    },
    {
     "name": "stdout",
     "output_type": "stream",
     "text": [
      "\r30/30 [==============================] - 0s 396us/sample - loss: 475.8825\n"
     ]
    },
    {
     "name": "stdout",
     "output_type": "stream",
     "text": [
      "Epoch 397/5000\n\r30/30 [==============================] - 0s 36us/sample - loss: 475.3042\n"
     ]
    },
    {
     "name": "stdout",
     "output_type": "stream",
     "text": [
      "Epoch 398/5000\n\r30/30 [==============================] - 0s 0s/sample - loss: 474.7264\n"
     ]
    },
    {
     "name": "stdout",
     "output_type": "stream",
     "text": [
      "Epoch 399/5000\n\r30/30 [==============================] - 0s 0s/sample - loss: 474.1494\n"
     ]
    },
    {
     "name": "stdout",
     "output_type": "stream",
     "text": [
      "Epoch 400/5000\n\r30/30 [==============================] - 0s 0s/sample - loss: 473.5730\n"
     ]
    },
    {
     "name": "stdout",
     "output_type": "stream",
     "text": [
      "Epoch 401/5000"
     ]
    },
    {
     "name": "stdout",
     "output_type": "stream",
     "text": [
      "\n\r30/30 [==============================] - 0s 333us/sample - loss: 472.9973\n"
     ]
    },
    {
     "name": "stdout",
     "output_type": "stream",
     "text": [
      "Epoch 402/5000\n\r30/30 [==============================] - 0s 0s/sample - loss: 472.4223\n"
     ]
    },
    {
     "name": "stdout",
     "output_type": "stream",
     "text": [
      "Epoch 403/5000\n\r30/30 [==============================] - 0s 0s/sample - loss: 471.8482\n"
     ]
    },
    {
     "name": "stdout",
     "output_type": "stream",
     "text": [
      "Epoch 404/5000\n\r30/30 [==============================] - 0s 0s/sample - loss: 471.2745\n"
     ]
    },
    {
     "name": "stdout",
     "output_type": "stream",
     "text": [
      "Epoch 405/5000\n\r30/30 [==============================] - 0s 333us/sample - loss: 470.7015\n"
     ]
    },
    {
     "name": "stdout",
     "output_type": "stream",
     "text": [
      "Epoch 406/5000\n\r30/30 [==============================] - 0s 0s/sample - loss: 470.1294\n"
     ]
    },
    {
     "name": "stdout",
     "output_type": "stream",
     "text": [
      "Epoch 407/5000\n\r30/30 [==============================] - 0s 0s/sample - loss: 469.5577\n"
     ]
    },
    {
     "name": "stdout",
     "output_type": "stream",
     "text": [
      "Epoch 408/5000\n"
     ]
    },
    {
     "name": "stdout",
     "output_type": "stream",
     "text": [
      "\r30/30 [==============================] - 0s 333us/sample - loss: 468.9868\n"
     ]
    },
    {
     "name": "stdout",
     "output_type": "stream",
     "text": [
      "Epoch 409/5000\n\r30/30 [==============================] - 0s 0s/sample - loss: 468.4166\n"
     ]
    },
    {
     "name": "stdout",
     "output_type": "stream",
     "text": [
      "Epoch 410/5000\n\r30/30 [==============================]"
     ]
    },
    {
     "name": "stdout",
     "output_type": "stream",
     "text": [
      " - 0s 0s/sample - loss: 467.8471\n"
     ]
    },
    {
     "name": "stdout",
     "output_type": "stream",
     "text": [
      "Epoch 411/5000\n\r30/30 [==============================] - 0s 0s/sample - loss: 467.2782\n"
     ]
    },
    {
     "name": "stdout",
     "output_type": "stream",
     "text": [
      "Epoch 412/5000\n\r30/30 [==============================] - 0s 0s/sample - loss: 466.7101\n"
     ]
    },
    {
     "name": "stdout",
     "output_type": "stream",
     "text": [
      "Epoch 413/5000\n"
     ]
    },
    {
     "name": "stdout",
     "output_type": "stream",
     "text": [
      "\r30/30 [==============================] - 0s 333us/sample - loss: 466.1426\n"
     ]
    },
    {
     "name": "stdout",
     "output_type": "stream",
     "text": [
      "Epoch 414/5000\n\r30/30 [==============================] - 0s 0s/sample - loss: 465.5757\n"
     ]
    },
    {
     "name": "stdout",
     "output_type": "stream",
     "text": [
      "Epoch 415/5000\n\r30/30 [==============================] - 0s 0s/sample - loss: 465.0096\n"
     ]
    },
    {
     "name": "stdout",
     "output_type": "stream",
     "text": [
      "Epoch 416/5000\n"
     ]
    },
    {
     "name": "stdout",
     "output_type": "stream",
     "text": [
      "\r30/30 [==============================] - 0s 0s/sample - loss: 464.4441\n"
     ]
    },
    {
     "name": "stdout",
     "output_type": "stream",
     "text": [
      "Epoch 417/5000\n\r30/30 [==============================] - 0s 0s/sample - loss: 463.8794\n"
     ]
    },
    {
     "name": "stdout",
     "output_type": "stream",
     "text": [
      "Epoch 418/5000\n\r30/30 [==============================] - 0s 0s/sample - loss: 463.3152\n"
     ]
    },
    {
     "name": "stdout",
     "output_type": "stream",
     "text": [
      "Epoch 419/5000\n\r30/30 [==============================] - 0s 2ms/sample - loss: 462.7519\n"
     ]
    },
    {
     "name": "stdout",
     "output_type": "stream",
     "text": [
      "Epoch 420/5000\n"
     ]
    },
    {
     "name": "stdout",
     "output_type": "stream",
     "text": [
      "\r30/30 [==============================] - 0s 333us/sample - loss: 462.1891\n"
     ]
    },
    {
     "name": "stdout",
     "output_type": "stream",
     "text": [
      "Epoch 421/5000\n\r30/30 [==============================] - 0s 0s/sample - loss: 461.6271\n"
     ]
    },
    {
     "name": "stdout",
     "output_type": "stream",
     "text": [
      "Epoch 422/5000\n\r30/30 [==============================] - 0s 0s/sample - loss: 461.0657\n"
     ]
    },
    {
     "name": "stdout",
     "output_type": "stream",
     "text": [
      "Epoch 423/5000\n\r30/30 [==============================] - 0s 0s/sample - loss: 460.5051\n"
     ]
    },
    {
     "name": "stdout",
     "output_type": "stream",
     "text": [
      "Epoch 424/5000"
     ]
    },
    {
     "name": "stdout",
     "output_type": "stream",
     "text": [
      "\n\r30/30 [==============================] - 0s 333us/sample - loss: 459.9450\n"
     ]
    },
    {
     "name": "stdout",
     "output_type": "stream",
     "text": [
      "Epoch 425/5000\n\r30/30 [==============================] - 0s 0s/sample - loss: 459.3856\n"
     ]
    },
    {
     "name": "stdout",
     "output_type": "stream",
     "text": [
      "Epoch 426/5000\n\r30/30 [==============================] - 0s 0s/sample - loss: 458.8270\n"
     ]
    },
    {
     "name": "stdout",
     "output_type": "stream",
     "text": [
      "Epoch 427/5000\n"
     ]
    },
    {
     "name": "stdout",
     "output_type": "stream",
     "text": [
      "\r30/30 [==============================] - 0s 333us/sample - loss: 458.2689\n"
     ]
    },
    {
     "name": "stdout",
     "output_type": "stream",
     "text": [
      "Epoch 428/5000\n\r30/30 [==============================] - 0s 0s/sample - loss: 457.7115\n"
     ]
    },
    {
     "name": "stdout",
     "output_type": "stream",
     "text": [
      "Epoch 429/5000\n\r30/30 [==============================] - 0s 0s/sample - loss: 457.1548\n"
     ]
    },
    {
     "name": "stdout",
     "output_type": "stream",
     "text": [
      "Epoch 430/5000\n\r30/30 [==============================] - 0s 0s/sample - loss: 456.5988\n"
     ]
    },
    {
     "name": "stdout",
     "output_type": "stream",
     "text": [
      "Epoch 431/5000"
     ]
    },
    {
     "name": "stdout",
     "output_type": "stream",
     "text": [
      "\n\r30/30 [==============================] - 0s 333us/sample - loss: 456.0435\n"
     ]
    },
    {
     "name": "stdout",
     "output_type": "stream",
     "text": [
      "Epoch 432/5000\n\r30/30 [==============================] - 0s 0s/sample - loss: 455.4888\n"
     ]
    },
    {
     "name": "stdout",
     "output_type": "stream",
     "text": [
      "Epoch 433/5000\n\r30/30 [==============================] - 0s 0s/sample - loss: 454.9349\n"
     ]
    },
    {
     "name": "stdout",
     "output_type": "stream",
     "text": [
      "Epoch 434/5000\n"
     ]
    },
    {
     "name": "stdout",
     "output_type": "stream",
     "text": [
      "\r30/30 [==============================] - 0s 333us/sample - loss: 454.3814\n"
     ]
    },
    {
     "name": "stdout",
     "output_type": "stream",
     "text": [
      "Epoch 435/5000\n\r30/30 [==============================] - 0s 0s/sample - loss: 453.8288\n"
     ]
    },
    {
     "name": "stdout",
     "output_type": "stream",
     "text": [
      "Epoch 436/5000\n\r30/30 [==============================] - 0s 0s/sample - loss: 453.2768\n"
     ]
    },
    {
     "name": "stdout",
     "output_type": "stream",
     "text": [
      "Epoch 437/5000\n\r30/30 [==============================] - 0s 0s/sample - loss: 452.7255\n"
     ]
    },
    {
     "name": "stdout",
     "output_type": "stream",
     "text": [
      "Epoch 438/5000\n\r30/30 [==============================] - 0s 0s/sample - loss: 452.1747\n"
     ]
    },
    {
     "name": "stdout",
     "output_type": "stream",
     "text": [
      "Epoch 439/5000\n\r30/30 [==============================] - 0s 0s/sample - loss: 451.6248\n"
     ]
    },
    {
     "name": "stdout",
     "output_type": "stream",
     "text": [
      "Epoch 440/5000\n\r30/30 [==============================] - 0s 0s/sample - loss: 451.0755\n"
     ]
    },
    {
     "name": "stdout",
     "output_type": "stream",
     "text": [
      "Epoch 441/5000"
     ]
    },
    {
     "name": "stdout",
     "output_type": "stream",
     "text": [
      "\n\r30/30 [==============================] - 0s 333us/sample - loss: 450.5269\n"
     ]
    },
    {
     "name": "stdout",
     "output_type": "stream",
     "text": [
      "Epoch 442/5000\n\r30/30 [==============================] - 0s 0s/sample - loss: 449.9788\n"
     ]
    },
    {
     "name": "stdout",
     "output_type": "stream",
     "text": [
      "Epoch 443/5000\n\r30/30 [==============================] - 0s 0s/sample - loss: 449.4315\n"
     ]
    },
    {
     "name": "stdout",
     "output_type": "stream",
     "text": [
      "Epoch 444/5000\n"
     ]
    },
    {
     "name": "stdout",
     "output_type": "stream",
     "text": [
      "\r30/30 [==============================] - 0s 333us/sample - loss: 448.8849\n"
     ]
    },
    {
     "name": "stdout",
     "output_type": "stream",
     "text": [
      "Epoch 445/5000\n\r30/30 [==============================] - 0s 0s/sample - loss: 448.3388\n"
     ]
    },
    {
     "name": "stdout",
     "output_type": "stream",
     "text": [
      "Epoch 446/5000\n\r30/30 [==============================] - 0s 0s/sample - loss: 447.7935\n"
     ]
    },
    {
     "name": "stdout",
     "output_type": "stream",
     "text": [
      "Epoch 447/5000\n"
     ]
    },
    {
     "name": "stdout",
     "output_type": "stream",
     "text": [
      "\r30/30 [==============================] - 0s 333us/sample - loss: 447.2487\n"
     ]
    },
    {
     "name": "stdout",
     "output_type": "stream",
     "text": [
      "Epoch 448/5000\n\r30/30 [==============================] - 0s 0s/sample - loss: 446.7048\n"
     ]
    },
    {
     "name": "stdout",
     "output_type": "stream",
     "text": [
      "Epoch 449/5000\n\r30/30 [==============================] - 0s 0s/sample - loss: 446.1613\n"
     ]
    },
    {
     "name": "stdout",
     "output_type": "stream",
     "text": [
      "Epoch 450/5000\n\r30/30 [==============================] - 0s 0s/sample - loss: 445.6187\n"
     ]
    },
    {
     "name": "stdout",
     "output_type": "stream",
     "text": [
      "Epoch 451/5000\n\r30/30 [==============================] - 0s 0s/sample - loss: 445.0766\n"
     ]
    },
    {
     "name": "stdout",
     "output_type": "stream",
     "text": [
      "Epoch 452/5000\n\r30/30 [==============================] - 0s 0s/sample - loss: 444.5353\n"
     ]
    },
    {
     "name": "stdout",
     "output_type": "stream",
     "text": [
      "Epoch 453/5000\n\r30/30 [==============================] - 0s 0s/sample - loss: 443.9945\n"
     ]
    },
    {
     "name": "stdout",
     "output_type": "stream",
     "text": [
      "Epoch 454/5000\n"
     ]
    },
    {
     "name": "stdout",
     "output_type": "stream",
     "text": [
      "\r30/30 [==============================] - 0s 333us/sample - loss: 443.4545\n"
     ]
    },
    {
     "name": "stdout",
     "output_type": "stream",
     "text": [
      "Epoch 455/5000\n\r30/30 [==============================] - 0s 0s/sample - loss: 442.9151\n"
     ]
    },
    {
     "name": "stdout",
     "output_type": "stream",
     "text": [
      "Epoch 456/5000\n\r30/30 [==============================] - 0s 0s/sample - loss: 442.3763\n"
     ]
    },
    {
     "name": "stdout",
     "output_type": "stream",
     "text": [
      "Epoch 457/5000\n\r30/30 [==============================] - 0s 0s/sample - loss: 441.8383\n"
     ]
    },
    {
     "name": "stdout",
     "output_type": "stream",
     "text": [
      "Epoch 458/5000\n\r30/30 [==============================] - 0s 333us/sample - loss: 441.3008\n"
     ]
    },
    {
     "name": "stdout",
     "output_type": "stream",
     "text": [
      "Epoch 459/5000\n\r30/30 [==============================] - 0s 0s/sample - loss: 440.7640\n"
     ]
    },
    {
     "name": "stdout",
     "output_type": "stream",
     "text": [
      "Epoch 460/5000\n\r30/30 [==============================] - 0s 0s/sample - loss: 440.2279\n"
     ]
    },
    {
     "name": "stdout",
     "output_type": "stream",
     "text": [
      "Epoch 461/5000\n"
     ]
    },
    {
     "name": "stdout",
     "output_type": "stream",
     "text": [
      "\r30/30 [==============================] - 0s 333us/sample - loss: 439.6925\n"
     ]
    },
    {
     "name": "stdout",
     "output_type": "stream",
     "text": [
      "Epoch 462/5000\n\r30/30 [==============================] - 0s 0s/sample - loss: 439.1576\n"
     ]
    },
    {
     "name": "stdout",
     "output_type": "stream",
     "text": [
      "Epoch 463/5000\n\r30/30 [==============================] - 0s 0s/sample - loss: 438.6234\n"
     ]
    },
    {
     "name": "stdout",
     "output_type": "stream",
     "text": [
      "Epoch 464/5000\n\r30/30 [==============================] - 0s 0s/sample - loss: 438.0899\n"
     ]
    },
    {
     "name": "stdout",
     "output_type": "stream",
     "text": [
      "Epoch 465/5000\n\r30/30 [==============================] - 0s 0s/sample - loss: 437.5571\n"
     ]
    },
    {
     "name": "stdout",
     "output_type": "stream",
     "text": [
      "Epoch 466/5000\n\r30/30 [==============================] - 0s 0s/sample - loss: 437.0249\n"
     ]
    },
    {
     "name": "stdout",
     "output_type": "stream",
     "text": [
      "Epoch 467/5000\n\r30/30 [==============================] - 0s 0s/sample - loss: 436.4933\n"
     ]
    },
    {
     "name": "stdout",
     "output_type": "stream",
     "text": [
      "Epoch 468/5000\n"
     ]
    },
    {
     "name": "stdout",
     "output_type": "stream",
     "text": [
      "\r30/30 [==============================] - 0s 333us/sample - loss: 435.9625\n"
     ]
    },
    {
     "name": "stdout",
     "output_type": "stream",
     "text": [
      "Epoch 469/5000\n\r30/30 [==============================] - 0s 0s/sample - loss: 435.4322\n"
     ]
    },
    {
     "name": "stdout",
     "output_type": "stream",
     "text": [
      "Epoch 470/5000\n\r30/30 [==============================] - 0s 0s/sample - loss: 434.9026\n"
     ]
    },
    {
     "name": "stdout",
     "output_type": "stream",
     "text": [
      "Epoch 471/5000\n\r30/30 [==============================] - 0s 0s/sample - loss: 434.3736\n"
     ]
    },
    {
     "name": "stdout",
     "output_type": "stream",
     "text": [
      "Epoch 472/5000\n\r30/30 [==============================] - 0s 0s/sample - loss: 433.8453\n"
     ]
    },
    {
     "name": "stdout",
     "output_type": "stream",
     "text": [
      "Epoch 473/5000\n\r30/30 [==============================] - 0s 0s/sample - loss: 433.3177\n"
     ]
    },
    {
     "name": "stdout",
     "output_type": "stream",
     "text": [
      "Epoch 474/5000\n\r30/30 [==============================] - 0s 0s/sample - loss: 432.7907\n"
     ]
    },
    {
     "name": "stdout",
     "output_type": "stream",
     "text": [
      "Epoch 475/5000\n\r30/30 [==============================] - 0s 333us/sample - loss: 432.2643\n"
     ]
    },
    {
     "name": "stdout",
     "output_type": "stream",
     "text": [
      "Epoch 476/5000\n\r30/30 [==============================] - 0s 0s/sample - loss: 431.7387\n"
     ]
    },
    {
     "name": "stdout",
     "output_type": "stream",
     "text": [
      "Epoch 477/5000\n\r30/30 [==============================] - 0s 0s/sample - loss: 431.2135\n"
     ]
    },
    {
     "name": "stdout",
     "output_type": "stream",
     "text": [
      "Epoch 478/5000\n\r30/30 [==============================] - 0s 0s/sample - loss: 430.6893\n"
     ]
    },
    {
     "name": "stdout",
     "output_type": "stream",
     "text": [
      "Epoch 479/5000\n\r30/30 [==============================] - 0s 333us/sample - loss: 430.1654\n"
     ]
    },
    {
     "name": "stdout",
     "output_type": "stream",
     "text": [
      "Epoch 480/5000\n\r30/30 [==============================] - 0s 0s/sample - loss: 429.6423\n"
     ]
    },
    {
     "name": "stdout",
     "output_type": "stream",
     "text": [
      "Epoch 481/5000\n\r30/30 [==============================] - 0s 0s/sample - loss: 429.1198\n"
     ]
    },
    {
     "name": "stdout",
     "output_type": "stream",
     "text": [
      "Epoch 482/5000\n\r30/30 [==============================] - 0s 0s/sample - loss: 428.5979\n"
     ]
    },
    {
     "name": "stdout",
     "output_type": "stream",
     "text": [
      "Epoch 483/5000\n\r30/30 [==============================] - 0s 333us/sample - loss: 428.0768\n"
     ]
    },
    {
     "name": "stdout",
     "output_type": "stream",
     "text": [
      "Epoch 484/5000\n\r30/30 [==============================] - 0s 0s/sample - loss: 427.5562\n"
     ]
    },
    {
     "name": "stdout",
     "output_type": "stream",
     "text": [
      "Epoch 485/5000\n\r30/30 [==============================] - 0s 0s/sample - loss: 427.0363\n"
     ]
    },
    {
     "name": "stdout",
     "output_type": "stream",
     "text": [
      "Epoch 486/5000\n\r30/30 [==============================] - 0s 333us/sample - loss: 426.5170\n"
     ]
    },
    {
     "name": "stdout",
     "output_type": "stream",
     "text": [
      "Epoch 487/5000\n\r30/30 [==============================] - 0s 0s/sample - loss: 425.9984\n"
     ]
    },
    {
     "name": "stdout",
     "output_type": "stream",
     "text": [
      "Epoch 488/5000\n\r30/30 [==============================] - 0s 0s/sample - loss: 425.4805\n"
     ]
    },
    {
     "name": "stdout",
     "output_type": "stream",
     "text": [
      "Epoch 489/5000\n\r30/30 [==============================] - 0s 0s/sample - loss: 424.9632\n"
     ]
    },
    {
     "name": "stdout",
     "output_type": "stream",
     "text": [
      "Epoch 490/5000\n\r30/30 [==============================] - 0s 0s/sample - loss: 424.4465\n"
     ]
    },
    {
     "name": "stdout",
     "output_type": "stream",
     "text": [
      "Epoch 491/5000\n\r30/30 [==============================] - 0s 0s/sample - loss: 423.9304\n"
     ]
    },
    {
     "name": "stdout",
     "output_type": "stream",
     "text": [
      "Epoch 492/5000\n\r30/30 [==============================] - 0s 0s/sample - loss: 423.4149\n"
     ]
    },
    {
     "name": "stdout",
     "output_type": "stream",
     "text": [
      "Epoch 493/5000\n"
     ]
    },
    {
     "name": "stdout",
     "output_type": "stream",
     "text": [
      "\r30/30 [==============================] - 0s 333us/sample - loss: 422.9000\n"
     ]
    },
    {
     "name": "stdout",
     "output_type": "stream",
     "text": [
      "Epoch 494/5000\n\r30/30 [==============================] - 0s 0s/sample - loss: 422.3859\n"
     ]
    },
    {
     "name": "stdout",
     "output_type": "stream",
     "text": [
      "Epoch 495/5000\n\r30/30 [==============================] - 0s 0s/sample - loss: 421.8724\n"
     ]
    },
    {
     "name": "stdout",
     "output_type": "stream",
     "text": [
      "Epoch 496/5000\n\r30/30 [==============================] - 0s 0s/sample - loss: 421.3596\n"
     ]
    },
    {
     "name": "stdout",
     "output_type": "stream",
     "text": [
      "Epoch 497/5000\n\r30/30 [==============================] - 0s 333us/sample - loss: 420.8473\n"
     ]
    },
    {
     "name": "stdout",
     "output_type": "stream",
     "text": [
      "Epoch 498/5000\n\r30/30 [==============================] - 0s 0s/sample - loss: 420.3357\n"
     ]
    },
    {
     "name": "stdout",
     "output_type": "stream",
     "text": [
      "Epoch 499/5000\n\r30/30 [==============================] - 0s 0s/sample - loss: 419.8248\n"
     ]
    },
    {
     "name": "stdout",
     "output_type": "stream",
     "text": [
      "Epoch 500/5000"
     ]
    },
    {
     "name": "stdout",
     "output_type": "stream",
     "text": [
      "\n\r30/30 [==============================] - 0s 333us/sample - loss: 419.3144\n"
     ]
    },
    {
     "name": "stdout",
     "output_type": "stream",
     "text": [
      "Epoch 501/5000\n\r30/30 [==============================] - 0s 0s/sample - loss: 418.8048\n"
     ]
    },
    {
     "name": "stdout",
     "output_type": "stream",
     "text": [
      "Epoch 502/5000\n\r30/30 [==============================] - 0s 0s/sample - loss: 418.2958\n"
     ]
    },
    {
     "name": "stdout",
     "output_type": "stream",
     "text": [
      "Epoch 503/5000\n\r30/30 [==============================] - 0s 0s/sample - loss: 417.7873\n"
     ]
    },
    {
     "name": "stdout",
     "output_type": "stream",
     "text": [
      "Epoch 504/5000\n\r30/30 [==============================] - 0s 0s/sample - loss: 417.2795\n"
     ]
    },
    {
     "name": "stdout",
     "output_type": "stream",
     "text": [
      "Epoch 505/5000\n\r30/30 [==============================] - 0s 0s/sample - loss: 416.7723\n"
     ]
    },
    {
     "name": "stdout",
     "output_type": "stream",
     "text": [
      "Epoch 506/5000\n\r30/30 [==============================] - 0s 0s/sample - loss: 416.2657\n"
     ]
    },
    {
     "name": "stdout",
     "output_type": "stream",
     "text": [
      "Epoch 507/5000\n"
     ]
    },
    {
     "name": "stdout",
     "output_type": "stream",
     "text": [
      "\r30/30 [==============================] - 0s 333us/sample - loss: 415.7599\n"
     ]
    },
    {
     "name": "stdout",
     "output_type": "stream",
     "text": [
      "Epoch 508/5000\n\r30/30 [==============================] - 0s 0s/sample - loss: 415.2545\n"
     ]
    },
    {
     "name": "stdout",
     "output_type": "stream",
     "text": [
      "Epoch 509/5000\n\r30/30 [==============================] - 0s 0s/sample - loss: 414.7500\n"
     ]
    },
    {
     "name": "stdout",
     "output_type": "stream",
     "text": [
      "Epoch 510/5000\n\r30/30 [==============================] - 0s 0s/sample - loss: 414.2459\n"
     ]
    },
    {
     "name": "stdout",
     "output_type": "stream",
     "text": [
      "Epoch 511/5000\n\r30/30 [==============================] - 0s 333us/sample - loss: 413.7426\n"
     ]
    },
    {
     "name": "stdout",
     "output_type": "stream",
     "text": [
      "Epoch 512/5000\n\r30/30 [==============================] - 0s 0s/sample - loss: 413.2398\n"
     ]
    },
    {
     "name": "stdout",
     "output_type": "stream",
     "text": [
      "Epoch 513/5000\n\r30/30 [==============================] - 0s 0s/sample - loss: 412.7377\n"
     ]
    },
    {
     "name": "stdout",
     "output_type": "stream",
     "text": [
      "Epoch 514/5000\n"
     ]
    },
    {
     "name": "stdout",
     "output_type": "stream",
     "text": [
      "\r30/30 [==============================] - 0s 333us/sample - loss: 412.2362\n"
     ]
    },
    {
     "name": "stdout",
     "output_type": "stream",
     "text": [
      "Epoch 515/5000\n\r30/30 [==============================] - 0s 0s/sample - loss: 411.7353\n"
     ]
    },
    {
     "name": "stdout",
     "output_type": "stream",
     "text": [
      "Epoch 516/5000\n\r30/30 [==============================] - 0s 0s/sample - loss: 411.2350\n"
     ]
    },
    {
     "name": "stdout",
     "output_type": "stream",
     "text": [
      "Epoch 517/5000\n\r30/30 [==============================] - 0s 0s/sample - loss: 410.7354\n"
     ]
    },
    {
     "name": "stdout",
     "output_type": "stream",
     "text": [
      "Epoch 518/5000\n\r30/30 [==============================] - 0s 0s/sample - loss: 410.2363\n"
     ]
    },
    {
     "name": "stdout",
     "output_type": "stream",
     "text": [
      "Epoch 519/5000\n\r30/30 [==============================] - 0s 0s/sample - loss: 409.7379\n"
     ]
    },
    {
     "name": "stdout",
     "output_type": "stream",
     "text": [
      "Epoch 520/5000\n\r30/30 [==============================] - 0s 0s/sample - loss: 409.2403\n"
     ]
    },
    {
     "name": "stdout",
     "output_type": "stream",
     "text": [
      "Epoch 521/5000"
     ]
    },
    {
     "name": "stdout",
     "output_type": "stream",
     "text": [
      "\n\r30/30 [==============================] - 0s 333us/sample - loss: 408.7430\n"
     ]
    },
    {
     "name": "stdout",
     "output_type": "stream",
     "text": [
      "Epoch 522/5000\n\r30/30 [==============================] - 0s 0s/sample - loss: 408.2466\n"
     ]
    },
    {
     "name": "stdout",
     "output_type": "stream",
     "text": [
      "Epoch 523/5000\n\r30/30 [==============================] - 0s 0s/sample - loss: 407.7506\n"
     ]
    },
    {
     "name": "stdout",
     "output_type": "stream",
     "text": [
      "Epoch 524/5000\n"
     ]
    },
    {
     "name": "stdout",
     "output_type": "stream",
     "text": [
      "\r30/30 [==============================] - 0s 333us/sample - loss: 407.2555\n"
     ]
    },
    {
     "name": "stdout",
     "output_type": "stream",
     "text": [
      "Epoch 525/5000\n\r30/30 [==============================] - 0s 0s/sample - loss: 406.7609\n"
     ]
    },
    {
     "name": "stdout",
     "output_type": "stream",
     "text": [
      "Epoch 526/5000\n\r30/30 [==============================] - 0s 0s/sample - loss: 406.2669\n"
     ]
    },
    {
     "name": "stdout",
     "output_type": "stream",
     "text": [
      "Epoch 527/5000\n\r30/30 [==============================] - 0s 0s/sample - loss: 405.7734\n"
     ]
    },
    {
     "name": "stdout",
     "output_type": "stream",
     "text": [
      "Epoch 528/5000\n\r30/30 [==============================] - 0s 0s/sample - loss: 405.2807\n"
     ]
    },
    {
     "name": "stdout",
     "output_type": "stream",
     "text": [
      "Epoch 529/5000\n\r30/30 [==============================] - 0s 0s/sample - loss: 404.7885\n"
     ]
    },
    {
     "name": "stdout",
     "output_type": "stream",
     "text": [
      "Epoch 530/5000\n"
     ]
    },
    {
     "name": "stdout",
     "output_type": "stream",
     "text": [
      "\r30/30 [==============================] - 0s 333us/sample - loss: 404.2969\n"
     ]
    },
    {
     "name": "stdout",
     "output_type": "stream",
     "text": [
      "Epoch 531/5000\n\r30/30 [==============================] - 0s 0s/sample - loss: 403.8060\n"
     ]
    },
    {
     "name": "stdout",
     "output_type": "stream",
     "text": [
      "Epoch 532/5000\n\r30/30 [==============================] - 0s 0s/sample - loss: 403.3157\n"
     ]
    },
    {
     "name": "stdout",
     "output_type": "stream",
     "text": [
      "Epoch 533/5000\n\r30/30 [==============================] - 0s 0s/sample - loss: 402.8260\n"
     ]
    },
    {
     "name": "stdout",
     "output_type": "stream",
     "text": [
      "Epoch 534/5000"
     ]
    },
    {
     "name": "stdout",
     "output_type": "stream",
     "text": [
      "\n\r30/30 [==============================] - 0s 333us/sample - loss: 402.3369\n"
     ]
    },
    {
     "name": "stdout",
     "output_type": "stream",
     "text": [
      "Epoch 535/5000\n\r30/30 [==============================] - 0s 0s/sample - loss: 401.8485\n"
     ]
    },
    {
     "name": "stdout",
     "output_type": "stream",
     "text": [
      "Epoch 536/5000\n\r30/30 [==============================] - 0s 0s/sample - loss: 401.3607\n"
     ]
    },
    {
     "name": "stdout",
     "output_type": "stream",
     "text": [
      "Epoch 537/5000\n\r30/30 [==============================] - 0s 0s/sample - loss: 400.8735\n"
     ]
    },
    {
     "name": "stdout",
     "output_type": "stream",
     "text": [
      "Epoch 538/5000\n\r30/30 [==============================] - 0s 0s/sample - loss: 400.3869\n"
     ]
    },
    {
     "name": "stdout",
     "output_type": "stream",
     "text": [
      "Epoch 539/5000\n\r30/30 [==============================] - 0s 0s/sample - loss: 399.9010\n"
     ]
    },
    {
     "name": "stdout",
     "output_type": "stream",
     "text": [
      "Epoch 540/5000\n\r30/30 [==============================] - 0s 333us/sample - loss: 399.4156\n"
     ]
    },
    {
     "name": "stdout",
     "output_type": "stream",
     "text": [
      "Epoch 541/5000\n\r30/30 [==============================] - 0s 0s/sample - loss: 398.9309\n"
     ]
    },
    {
     "name": "stdout",
     "output_type": "stream",
     "text": [
      "Epoch 542/5000\n\r30/30 [==============================] - 0s 0s/sample - loss: 398.4468\n"
     ]
    },
    {
     "name": "stdout",
     "output_type": "stream",
     "text": [
      "Epoch 543/5000\n"
     ]
    },
    {
     "name": "stdout",
     "output_type": "stream",
     "text": [
      "\r30/30 [==============================] - 0s 333us/sample - loss: 397.9632\n"
     ]
    },
    {
     "name": "stdout",
     "output_type": "stream",
     "text": [
      "Epoch 544/5000\n\r30/30 [==============================] - 0s 0s/sample - loss: 397.4803\n"
     ]
    },
    {
     "name": "stdout",
     "output_type": "stream",
     "text": [
      "Epoch 545/5000\n\r30/30 [==============================] - 0s 0s/sample - loss: 396.9980\n"
     ]
    },
    {
     "name": "stdout",
     "output_type": "stream",
     "text": [
      "Epoch 546/5000\n\r30/30 [==============================] - 0s 333us/sample - loss: 396.5163\n"
     ]
    },
    {
     "name": "stdout",
     "output_type": "stream",
     "text": [
      "Epoch 547/5000\n\r30/30 [==============================] - 0s 0s/sample - loss: 396.0351\n"
     ]
    },
    {
     "name": "stdout",
     "output_type": "stream",
     "text": [
      "Epoch 548/5000\n\r30/30 [==============================] - 0s 0s/sample - loss: 395.5547\n"
     ]
    },
    {
     "name": "stdout",
     "output_type": "stream",
     "text": [
      "Epoch 549/5000\n\r30/30 [==============================] - 0s 333us/sample - loss: 395.0749\n"
     ]
    },
    {
     "name": "stdout",
     "output_type": "stream",
     "text": [
      "Epoch 550/5000\n\r30/30 [==============================] - 0s 0s/sample - loss: 394.5956\n"
     ]
    },
    {
     "name": "stdout",
     "output_type": "stream",
     "text": [
      "Epoch 551/5000\n\r30/30 [==============================] - 0s 0s/sample - loss: 394.1169\n"
     ]
    },
    {
     "name": "stdout",
     "output_type": "stream",
     "text": [
      "Epoch 552/5000\n\r30/30 [==============================] - 0s 333us/sample - loss: 393.6389\n"
     ]
    },
    {
     "name": "stdout",
     "output_type": "stream",
     "text": [
      "Epoch 553/5000\n\r30/30 [==============================] - 0s 0s/sample - loss: 393.1616\n"
     ]
    },
    {
     "name": "stdout",
     "output_type": "stream",
     "text": [
      "Epoch 554/5000\n\r30/30 [==============================] - 0s 0s/sample - loss: 392.6848\n"
     ]
    },
    {
     "name": "stdout",
     "output_type": "stream",
     "text": [
      "Epoch 555/5000\n"
     ]
    },
    {
     "name": "stdout",
     "output_type": "stream",
     "text": [
      "\r30/30 [==============================] - 0s 0s/sample - loss: 392.2086\n"
     ]
    },
    {
     "name": "stdout",
     "output_type": "stream",
     "text": [
      "Epoch 556/5000\n\r30/30 [==============================] - 0s 0s/sample - loss: 391.7331\n"
     ]
    },
    {
     "name": "stdout",
     "output_type": "stream",
     "text": [
      "Epoch 557/5000\n\r30/30 [==============================] - 0s 0s/sample - loss: 391.2580\n"
     ]
    },
    {
     "name": "stdout",
     "output_type": "stream",
     "text": [
      "Epoch 558/5000\n\r30/30 [==============================] - 0s 0s/sample - loss: 390.7836\n"
     ]
    },
    {
     "name": "stdout",
     "output_type": "stream",
     "text": [
      "Epoch 559/5000\n"
     ]
    },
    {
     "name": "stdout",
     "output_type": "stream",
     "text": [
      "\r30/30 [==============================] - 0s 334us/sample - loss: 390.3097\n"
     ]
    },
    {
     "name": "stdout",
     "output_type": "stream",
     "text": [
      "Epoch 560/5000\n\r30/30 [==============================] - 0s 0s/sample - loss: 389.8365\n"
     ]
    },
    {
     "name": "stdout",
     "output_type": "stream",
     "text": [
      "Epoch 561/5000\n\r30/30 [==============================] - 0s 0s/sample - loss: 389.3639\n"
     ]
    },
    {
     "name": "stdout",
     "output_type": "stream",
     "text": [
      "Epoch 562/5000\n\r30/30 [==============================] - 0s 0s/sample - loss: 388.8920\n"
     ]
    },
    {
     "name": "stdout",
     "output_type": "stream",
     "text": [
      "Epoch 563/5000\n"
     ]
    },
    {
     "name": "stdout",
     "output_type": "stream",
     "text": [
      "\r30/30 [==============================] - 0s 0s/sample - loss: 388.4206\n"
     ]
    },
    {
     "name": "stdout",
     "output_type": "stream",
     "text": [
      "Epoch 564/5000\n\r30/30 [==============================] - 0s 0s/sample - loss: 387.9499\n"
     ]
    },
    {
     "name": "stdout",
     "output_type": "stream",
     "text": [
      "Epoch 565/5000\n\r30/30 [==============================] - 0s 0s/sample - loss: 387.4797\n"
     ]
    },
    {
     "name": "stdout",
     "output_type": "stream",
     "text": [
      "Epoch 566/5000\n\r30/30 [==============================] - 0s 0s/sample - loss: 387.0102\n"
     ]
    },
    {
     "name": "stdout",
     "output_type": "stream",
     "text": [
      "Epoch 567/5000\n\r30/30 [==============================] - 0s 333us/sample - loss: 386.5412\n"
     ]
    },
    {
     "name": "stdout",
     "output_type": "stream",
     "text": [
      "Epoch 568/5000\n\r30/30 [==============================] - 0s 0s/sample - loss: 386.0728\n"
     ]
    },
    {
     "name": "stdout",
     "output_type": "stream",
     "text": [
      "Epoch 569/5000\n\r30/30 [==============================] - 0s 0s/sample - loss: 385.6051\n"
     ]
    },
    {
     "name": "stdout",
     "output_type": "stream",
     "text": [
      "Epoch 570/5000\n\r30/30 [==============================] - 0s 0s/sample - loss: 385.1380\n"
     ]
    },
    {
     "name": "stdout",
     "output_type": "stream",
     "text": [
      "Epoch 571/5000"
     ]
    },
    {
     "name": "stdout",
     "output_type": "stream",
     "text": [
      "\n\r30/30 [==============================] - 0s 333us/sample - loss: 384.6714\n"
     ]
    },
    {
     "name": "stdout",
     "output_type": "stream",
     "text": [
      "Epoch 572/5000\n\r30/30 [==============================] - 0s 0s/sample - loss: 384.2055\n"
     ]
    },
    {
     "name": "stdout",
     "output_type": "stream",
     "text": [
      "Epoch 573/5000\n\r30/30 [==============================] - 0s 0s/sample - loss: 383.7401\n"
     ]
    },
    {
     "name": "stdout",
     "output_type": "stream",
     "text": [
      "Epoch 574/5000\n\r30/30 [==============================] - 0s 0s/sample - loss: 383.2753\n"
     ]
    },
    {
     "name": "stdout",
     "output_type": "stream",
     "text": [
      "Epoch 575/5000\n\r30/30 [==============================] - 0s 0s/sample - loss: 382.8111\n"
     ]
    },
    {
     "name": "stdout",
     "output_type": "stream",
     "text": [
      "Epoch 576/5000\n\r30/30 [==============================] - 0s 0s/sample - loss: 382.3475\n"
     ]
    },
    {
     "name": "stdout",
     "output_type": "stream",
     "text": [
      "Epoch 577/5000\n\r30/30 [==============================] - 0s 0s/sample - loss: 381.8845\n"
     ]
    },
    {
     "name": "stdout",
     "output_type": "stream",
     "text": [
      "Epoch 578/5000\n\r30/30 [==============================] - 0s 0s/sample - loss: 381.4220\n"
     ]
    },
    {
     "name": "stdout",
     "output_type": "stream",
     "text": [
      "Epoch 579/5000\n\r30/30 [==============================] - 0s 333us/sample - loss: 380.9602\n"
     ]
    },
    {
     "name": "stdout",
     "output_type": "stream",
     "text": [
      "Epoch 580/5000\n\r30/30 [==============================] - 0s 0s/sample - loss: 380.4991\n"
     ]
    },
    {
     "name": "stdout",
     "output_type": "stream",
     "text": [
      "Epoch 581/5000\n\r30/30 [==============================] - 0s 0s/sample - loss: 380.0384\n"
     ]
    },
    {
     "name": "stdout",
     "output_type": "stream",
     "text": [
      "Epoch 582/5000\n"
     ]
    },
    {
     "name": "stdout",
     "output_type": "stream",
     "text": [
      "\r30/30 [==============================] - 0s 333us/sample - loss: 379.5784\n"
     ]
    },
    {
     "name": "stdout",
     "output_type": "stream",
     "text": [
      "Epoch 583/5000\n\r30/30 [==============================] - 0s 0s/sample - loss: 379.1191\n"
     ]
    },
    {
     "name": "stdout",
     "output_type": "stream",
     "text": [
      "Epoch 584/5000\n\r30/30 [==============================] - 0s 0s/sample - loss: 378.6603\n"
     ]
    },
    {
     "name": "stdout",
     "output_type": "stream",
     "text": [
      "Epoch 585/5000\n\r30/30 [==============================] - 0s 0s/sample - loss: 378.2020\n"
     ]
    },
    {
     "name": "stdout",
     "output_type": "stream",
     "text": [
      "Epoch 586/5000"
     ]
    },
    {
     "name": "stdout",
     "output_type": "stream",
     "text": [
      "\n\r30/30 [==============================] - 0s 333us/sample - loss: 377.7444\n"
     ]
    },
    {
     "name": "stdout",
     "output_type": "stream",
     "text": [
      "Epoch 587/5000\n\r30/30 [==============================] - 0s 0s/sample - loss: 377.2874\n"
     ]
    },
    {
     "name": "stdout",
     "output_type": "stream",
     "text": [
      "Epoch 588/5000\n\r30/30 [==============================] - 0s 0s/sample - loss: 376.8307\n"
     ]
    },
    {
     "name": "stdout",
     "output_type": "stream",
     "text": [
      "Epoch 589/5000\n\r30/30 [==============================] - 0s 333us/sample - loss: 376.3749\n"
     ]
    },
    {
     "name": "stdout",
     "output_type": "stream",
     "text": [
      "Epoch 590/5000\n\r30/30 [==============================] - 0s 0s/sample - loss: 375.9195\n"
     ]
    },
    {
     "name": "stdout",
     "output_type": "stream",
     "text": [
      "Epoch 591/5000\n\r30/30 [==============================] - 0s 0s/sample - loss: 375.4649\n"
     ]
    },
    {
     "name": "stdout",
     "output_type": "stream",
     "text": [
      "Epoch 592/5000\n\r30/30 [==============================] - 0s 333us/sample - loss: 375.0108\n"
     ]
    },
    {
     "name": "stdout",
     "output_type": "stream",
     "text": [
      "Epoch 593/5000\n\r30/30 [==============================] - 0s 0s/sample - loss: 374.5573\n"
     ]
    },
    {
     "name": "stdout",
     "output_type": "stream",
     "text": [
      "Epoch 594/5000\n\r30/30 [==============================] - 0s 0s/sample - loss: 374.1043\n"
     ]
    },
    {
     "name": "stdout",
     "output_type": "stream",
     "text": [
      "Epoch 595/5000\n"
     ]
    },
    {
     "name": "stdout",
     "output_type": "stream",
     "text": [
      "\r30/30 [==============================] - 0s 333us/sample - loss: 373.6520\n"
     ]
    },
    {
     "name": "stdout",
     "output_type": "stream",
     "text": [
      "Epoch 596/5000\n\r30/30 [==============================] - 0s 0s/sample - loss: 373.2001\n"
     ]
    },
    {
     "name": "stdout",
     "output_type": "stream",
     "text": [
      "Epoch 597/5000\n\r30/30 [==============================] - 0s 0s/sample - loss: 372.7490\n"
     ]
    },
    {
     "name": "stdout",
     "output_type": "stream",
     "text": [
      "Epoch 598/5000\n\r30/30 [==============================] - 0s 0s/sample - loss: 372.2984\n"
     ]
    },
    {
     "name": "stdout",
     "output_type": "stream",
     "text": [
      "Epoch 599/5000\n"
     ]
    },
    {
     "name": "stdout",
     "output_type": "stream",
     "text": [
      "\r30/30 [==============================] - 0s 333us/sample - loss: 371.8484\n"
     ]
    },
    {
     "name": "stdout",
     "output_type": "stream",
     "text": [
      "Epoch 600/5000\n\r30/30 [==============================] - 0s 0s/sample - loss: 371.3990\n"
     ]
    },
    {
     "name": "stdout",
     "output_type": "stream",
     "text": [
      "Epoch 601/5000\n\r30/30 [==============================] - 0s 0s/sample - loss: 370.9502\n"
     ]
    },
    {
     "name": "stdout",
     "output_type": "stream",
     "text": [
      "Epoch 602/5000\n\r30/30 [==============================] - 0s 0s/sample - loss: 370.5019\n"
     ]
    },
    {
     "name": "stdout",
     "output_type": "stream",
     "text": [
      "Epoch 603/5000\n\r30/30 [==============================] - 0s 333us/sample - loss: 370.0544\n"
     ]
    },
    {
     "name": "stdout",
     "output_type": "stream",
     "text": [
      "Epoch 604/5000\n\r30/30 [==============================] - 0s 0s/sample - loss: 369.6073\n"
     ]
    },
    {
     "name": "stdout",
     "output_type": "stream",
     "text": [
      "Epoch 605/5000\n\r30/30 [==============================] - 0s 0s/sample - loss: 369.1607\n"
     ]
    },
    {
     "name": "stdout",
     "output_type": "stream",
     "text": [
      "Epoch 606/5000"
     ]
    },
    {
     "name": "stdout",
     "output_type": "stream",
     "text": [
      "\n\r30/30 [==============================] - 0s 333us/sample - loss: 368.7148\n"
     ]
    },
    {
     "name": "stdout",
     "output_type": "stream",
     "text": [
      "Epoch 607/5000\n\r30/30 [==============================] - 0s 0s/sample - loss: 368.2694\n"
     ]
    },
    {
     "name": "stdout",
     "output_type": "stream",
     "text": [
      "Epoch 608/5000\n\r30/30 [==============================] - 0s 0s/sample - loss: 367.8246\n"
     ]
    },
    {
     "name": "stdout",
     "output_type": "stream",
     "text": [
      "Epoch 609/5000\n\r30/30 [==============================] - 0s 333us/sample - loss: 367.3804\n"
     ]
    },
    {
     "name": "stdout",
     "output_type": "stream",
     "text": [
      "Epoch 610/5000\n\r30/30 [==============================] - 0s 0s/sample - loss: 366.9368\n"
     ]
    },
    {
     "name": "stdout",
     "output_type": "stream",
     "text": [
      "Epoch 611/5000\n\r30/30 [==============================] - 0s 0s/sample - loss: 366.4937\n"
     ]
    },
    {
     "name": "stdout",
     "output_type": "stream",
     "text": [
      "Epoch 612/5000\n"
     ]
    },
    {
     "name": "stdout",
     "output_type": "stream",
     "text": [
      "\r30/30 [==============================] - 0s 333us/sample - loss: 366.0514\n"
     ]
    },
    {
     "name": "stdout",
     "output_type": "stream",
     "text": [
      "Epoch 613/5000\n\r30/30 [==============================] - 0s 0s/sample - loss: 365.6094\n"
     ]
    },
    {
     "name": "stdout",
     "output_type": "stream",
     "text": [
      "Epoch 614/5000\n"
     ]
    },
    {
     "name": "stdout",
     "output_type": "stream",
     "text": [
      "\r30/30 [==============================] - 0s 245us/sample - loss: 365.1682\n"
     ]
    },
    {
     "name": "stdout",
     "output_type": "stream",
     "text": [
      "Epoch 615/5000\n\r30/30 [==============================] - 0s 0s/sample - loss: 364.7274\n"
     ]
    },
    {
     "name": "stdout",
     "output_type": "stream",
     "text": [
      "Epoch 616/5000\n\r30/30 [==============================] - 0s 0s/sample - loss: 364.2873\n"
     ]
    },
    {
     "name": "stdout",
     "output_type": "stream",
     "text": [
      "Epoch 617/5000\n\r30/30 [==============================] - 0s 0s/sample - loss: 363.8478\n"
     ]
    },
    {
     "name": "stdout",
     "output_type": "stream",
     "text": [
      "Epoch 618/5000\n"
     ]
    },
    {
     "name": "stdout",
     "output_type": "stream",
     "text": [
      "\r30/30 [==============================] - 0s 333us/sample - loss: 363.4088\n"
     ]
    },
    {
     "name": "stdout",
     "output_type": "stream",
     "text": [
      "Epoch 619/5000\n\r30/30 [==============================] - 0s 0s/sample - loss: 362.9704\n"
     ]
    },
    {
     "name": "stdout",
     "output_type": "stream",
     "text": [
      "Epoch 620/5000\n\r30/30 [==============================] - 0s 0s/sample - loss: 362.5326\n"
     ]
    },
    {
     "name": "stdout",
     "output_type": "stream",
     "text": [
      "Epoch 621/5000\n\r30/30 [==============================] - 0s 0s/sample - loss: 362.0953\n"
     ]
    },
    {
     "name": "stdout",
     "output_type": "stream",
     "text": [
      "Epoch 622/5000\n\r30/30 [==============================] - 0s 0s/sample - loss: 361.6587\n"
     ]
    },
    {
     "name": "stdout",
     "output_type": "stream",
     "text": [
      "Epoch 623/5000\n\r30/30 [==============================] - 0s 0s/sample - loss: 361.2226\n"
     ]
    },
    {
     "name": "stdout",
     "output_type": "stream",
     "text": [
      "Epoch 624/5000\n\r30/30 [==============================] - 0s 0s/sample - loss: 360.7870\n"
     ]
    },
    {
     "name": "stdout",
     "output_type": "stream",
     "text": [
      "Epoch 625/5000\n\r30/30 [==============================] - 0s 0s/sample - loss: 360.3520\n"
     ]
    },
    {
     "name": "stdout",
     "output_type": "stream",
     "text": [
      "Epoch 626/5000\n\r30/30 [==============================] - 0s 333us/sample - loss: 359.9175\n"
     ]
    },
    {
     "name": "stdout",
     "output_type": "stream",
     "text": [
      "Epoch 627/5000\n\r30/30 [==============================] - 0s 0s/sample - loss: 359.4838\n"
     ]
    },
    {
     "name": "stdout",
     "output_type": "stream",
     "text": [
      "Epoch 628/5000\n\r30/30 [==============================] - 0s 0s/sample - loss: 359.0504\n"
     ]
    },
    {
     "name": "stdout",
     "output_type": "stream",
     "text": [
      "Epoch 629/5000\n"
     ]
    },
    {
     "name": "stdout",
     "output_type": "stream",
     "text": [
      "\r30/30 [==============================] - 0s 333us/sample - loss: 358.6177\n"
     ]
    },
    {
     "name": "stdout",
     "output_type": "stream",
     "text": [
      "Epoch 630/5000\n\r30/30 [==============================] - 0s 0s/sample - loss: 358.1856\n"
     ]
    },
    {
     "name": "stdout",
     "output_type": "stream",
     "text": [
      "Epoch 631/5000\n\r30/30 [==============================] - 0s 0s/sample - loss: 357.7540\n"
     ]
    },
    {
     "name": "stdout",
     "output_type": "stream",
     "text": [
      "Epoch 632/5000\n\r30/30 [==============================] - 0s 0s/sample - loss: 357.3231\n"
     ]
    },
    {
     "name": "stdout",
     "output_type": "stream",
     "text": [
      "Epoch 633/5000"
     ]
    },
    {
     "name": "stdout",
     "output_type": "stream",
     "text": [
      "\n\r30/30 [==============================] - 0s 333us/sample - loss: 356.8926\n"
     ]
    },
    {
     "name": "stdout",
     "output_type": "stream",
     "text": [
      "Epoch 634/5000\n\r30/30 [==============================] - 0s 0s/sample - loss: 356.4628\n"
     ]
    },
    {
     "name": "stdout",
     "output_type": "stream",
     "text": [
      "Epoch 635/5000\n\r30/30 [==============================] - 0s 0s/sample - loss: 356.0336\n"
     ]
    },
    {
     "name": "stdout",
     "output_type": "stream",
     "text": [
      "Epoch 636/5000\n\r30/30 [==============================] - 0s 0s/sample - loss: 355.6049\n"
     ]
    },
    {
     "name": "stdout",
     "output_type": "stream",
     "text": [
      "Epoch 637/5000"
     ]
    },
    {
     "name": "stdout",
     "output_type": "stream",
     "text": [
      "\n\r30/30 [==============================] - 0s 333us/sample - loss: 355.1768\n"
     ]
    },
    {
     "name": "stdout",
     "output_type": "stream",
     "text": [
      "Epoch 638/5000\n\r30/30 [==============================] - 0s 0s/sample - loss: 354.7492\n"
     ]
    },
    {
     "name": "stdout",
     "output_type": "stream",
     "text": [
      "Epoch 639/5000\n\r30/30 [==============================] - 0s 0s/sample - loss: 354.3222\n"
     ]
    },
    {
     "name": "stdout",
     "output_type": "stream",
     "text": [
      "Epoch 640/5000\n\r30/30 [==============================] - 0s 0s/sample - loss: 353.8957\n"
     ]
    },
    {
     "name": "stdout",
     "output_type": "stream",
     "text": [
      "Epoch 641/5000\n"
     ]
    },
    {
     "name": "stdout",
     "output_type": "stream",
     "text": [
      "\r30/30 [==============================] - 0s 333us/sample - loss: 353.4698\n"
     ]
    },
    {
     "name": "stdout",
     "output_type": "stream",
     "text": [
      "Epoch 642/5000\n\r30/30 [==============================] - 0s 0s/sample - loss: 353.0445\n"
     ]
    },
    {
     "name": "stdout",
     "output_type": "stream",
     "text": [
      "Epoch 643/5000\n\r30/30 [==============================] - 0s 0s/sample - loss: 352.6198\n"
     ]
    },
    {
     "name": "stdout",
     "output_type": "stream",
     "text": [
      "Epoch 644/5000\n\r"
     ]
    },
    {
     "name": "stdout",
     "output_type": "stream",
     "text": [
      "30/30 [==============================] - 0s 0s/sample - loss: 352.1956\n"
     ]
    },
    {
     "name": "stdout",
     "output_type": "stream",
     "text": [
      "Epoch 645/5000\n\r30/30 [==============================] - 0s 0s/sample - loss: 351.7719\n"
     ]
    },
    {
     "name": "stdout",
     "output_type": "stream",
     "text": [
      "Epoch 646/5000\n\r30/30 [==============================] - 0s 0s/sample - loss: 351.3489\n"
     ]
    },
    {
     "name": "stdout",
     "output_type": "stream",
     "text": [
      "Epoch 647/5000\n\r30/30 [==============================] - 0s 0s/sample - loss: 350.9264\n"
     ]
    },
    {
     "name": "stdout",
     "output_type": "stream",
     "text": [
      "Epoch 648/5000\n"
     ]
    },
    {
     "name": "stdout",
     "output_type": "stream",
     "text": [
      "\r30/30 [==============================] - 0s 333us/sample - loss: 350.5044\n"
     ]
    },
    {
     "name": "stdout",
     "output_type": "stream",
     "text": [
      "Epoch 649/5000\n\r30/30 [==============================] - 0s 0s/sample - loss: 350.0829\n"
     ]
    },
    {
     "name": "stdout",
     "output_type": "stream",
     "text": [
      "Epoch 650/5000\n\r30/30 [==============================] - 0s 0s/sample - loss: 349.6621\n"
     ]
    },
    {
     "name": "stdout",
     "output_type": "stream",
     "text": [
      "Epoch 651/5000"
     ]
    },
    {
     "name": "stdout",
     "output_type": "stream",
     "text": [
      "\n\r30/30 [==============================] - 0s 333us/sample - loss: 349.2419\n"
     ]
    },
    {
     "name": "stdout",
     "output_type": "stream",
     "text": [
      "Epoch 652/5000\n\r30/30 [==============================] - 0s 0s/sample - loss: 348.8221\n"
     ]
    },
    {
     "name": "stdout",
     "output_type": "stream",
     "text": [
      "Epoch 653/5000\n\r30/30 [==============================] - 0s 0s/sample - loss: 348.4029\n"
     ]
    },
    {
     "name": "stdout",
     "output_type": "stream",
     "text": [
      "Epoch 654/5000\n"
     ]
    },
    {
     "name": "stdout",
     "output_type": "stream",
     "text": [
      "\r30/30 [==============================] - 0s 0s/sample - loss: 347.9844\n"
     ]
    },
    {
     "name": "stdout",
     "output_type": "stream",
     "text": [
      "Epoch 655/5000\n\r30/30 [==============================] - 0s 0s/sample - loss: 347.5664\n"
     ]
    },
    {
     "name": "stdout",
     "output_type": "stream",
     "text": [
      "Epoch 656/5000\n\r30/30 [==============================] - 0s 0s/sample - loss: 347.1490\n"
     ]
    },
    {
     "name": "stdout",
     "output_type": "stream",
     "text": [
      "Epoch 657/5000\n\r30/30 [==============================] - 0s 0s/sample - loss: 346.7320\n"
     ]
    },
    {
     "name": "stdout",
     "output_type": "stream",
     "text": [
      "Epoch 658/5000\n\r30/30 [==============================] - 0s 0s/sample - loss: 346.3156\n"
     ]
    },
    {
     "name": "stdout",
     "output_type": "stream",
     "text": [
      "Epoch 659/5000\n\r30/30 [==============================] - 0s 0s/sample - loss: 345.8998\n"
     ]
    },
    {
     "name": "stdout",
     "output_type": "stream",
     "text": [
      "Epoch 660/5000\n\r30/30 [==============================] - 0s 0s/sample - loss: 345.4847\n"
     ]
    },
    {
     "name": "stdout",
     "output_type": "stream",
     "text": [
      "Epoch 661/5000\n"
     ]
    },
    {
     "name": "stdout",
     "output_type": "stream",
     "text": [
      "\r30/30 [==============================] - 0s 333us/sample - loss: 345.0699\n"
     ]
    },
    {
     "name": "stdout",
     "output_type": "stream",
     "text": [
      "Epoch 662/5000\n\r30/30 [==============================] - 0s 0s/sample - loss: 344.6558\n"
     ]
    },
    {
     "name": "stdout",
     "output_type": "stream",
     "text": [
      "Epoch 663/5000\n\r30/30 [==============================] - 0s 0s/sample - loss: 344.2421\n"
     ]
    },
    {
     "name": "stdout",
     "output_type": "stream",
     "text": [
      "Epoch 664/5000\n\r30/30 [==============================] - 0s 0s/sample - loss: 343.8292\n"
     ]
    },
    {
     "name": "stdout",
     "output_type": "stream",
     "text": [
      "Epoch 665/5000\n\r30/30 [==============================] - 0s 0s/sample - loss: 343.4166\n"
     ]
    },
    {
     "name": "stdout",
     "output_type": "stream",
     "text": [
      "Epoch 666/5000\n\r30/30 [==============================] - 0s 0s/sample - loss: 343.0048\n"
     ]
    },
    {
     "name": "stdout",
     "output_type": "stream",
     "text": [
      "Epoch 667/5000\n\r30/30 [==============================] - 0s 0s/sample - loss: 342.5934\n"
     ]
    },
    {
     "name": "stdout",
     "output_type": "stream",
     "text": [
      "Epoch 668/5000\n"
     ]
    },
    {
     "name": "stdout",
     "output_type": "stream",
     "text": [
      "\r30/30 [==============================] - 0s 333us/sample - loss: 342.1825\n"
     ]
    },
    {
     "name": "stdout",
     "output_type": "stream",
     "text": [
      "Epoch 669/5000\n\r30/30 [==============================] - 0s 0s/sample - loss: 341.7723\n"
     ]
    },
    {
     "name": "stdout",
     "output_type": "stream",
     "text": [
      "Epoch 670/5000\n\r30/30 [==============================] - 0s 0s/sample - loss: 341.3624\n"
     ]
    },
    {
     "name": "stdout",
     "output_type": "stream",
     "text": [
      "Epoch 671/5000\n\r30/30 [==============================] - 0s 0s/sample - loss: 340.9533\n"
     ]
    },
    {
     "name": "stdout",
     "output_type": "stream",
     "text": [
      "Epoch 672/5000\n\r30/30 [==============================] - 0s 333us/sample - loss: 340.5447\n"
     ]
    },
    {
     "name": "stdout",
     "output_type": "stream",
     "text": [
      "Epoch 673/5000\n\r30/30 [==============================] - 0s 0s/sample - loss: 340.1365\n"
     ]
    },
    {
     "name": "stdout",
     "output_type": "stream",
     "text": [
      "Epoch 674/5000\n\r30/30 [==============================] - 0s 0s/sample - loss: 339.7289\n"
     ]
    },
    {
     "name": "stdout",
     "output_type": "stream",
     "text": [
      "Epoch 675/5000\n\r"
     ]
    },
    {
     "name": "stdout",
     "output_type": "stream",
     "text": [
      "30/30 [==============================] - 0s 0s/sample - loss: 339.3220\n"
     ]
    },
    {
     "name": "stdout",
     "output_type": "stream",
     "text": [
      "Epoch 676/5000\n\r30/30 [==============================] - 0s 0s/sample - loss: 338.9155\n"
     ]
    },
    {
     "name": "stdout",
     "output_type": "stream",
     "text": [
      "Epoch 677/5000\n\r30/30 [==============================] - 0s 0s/sample - loss: 338.5096\n"
     ]
    },
    {
     "name": "stdout",
     "output_type": "stream",
     "text": [
      "Epoch 678/5000\n\r30/30 [==============================] - 0s 0s/sample - loss: 338.1043\n"
     ]
    },
    {
     "name": "stdout",
     "output_type": "stream",
     "text": [
      "Epoch 679/5000\n\r30/30 [==============================] - 0s 333us/sample - loss: 337.6995\n"
     ]
    },
    {
     "name": "stdout",
     "output_type": "stream",
     "text": [
      "Epoch 680/5000\n\r30/30 [==============================] - 0s 0s/sample - loss: 337.2953\n"
     ]
    },
    {
     "name": "stdout",
     "output_type": "stream",
     "text": [
      "Epoch 681/5000\n\r30/30 [==============================] - 0s 0s/sample - loss: 336.8915\n"
     ]
    },
    {
     "name": "stdout",
     "output_type": "stream",
     "text": [
      "Epoch 682/5000"
     ]
    },
    {
     "name": "stdout",
     "output_type": "stream",
     "text": [
      "\n\r30/30 [==============================] - 0s 0s/sample - loss: 336.4884\n"
     ]
    },
    {
     "name": "stdout",
     "output_type": "stream",
     "text": [
      "Epoch 683/5000\n\r30/30 [==============================] - 0s 0s/sample - loss: 336.0858\n"
     ]
    },
    {
     "name": "stdout",
     "output_type": "stream",
     "text": [
      "Epoch 684/5000\n\r30/30 [==============================] - 0s 0s/sample - loss: 335.6837\n"
     ]
    },
    {
     "name": "stdout",
     "output_type": "stream",
     "text": [
      "Epoch 685/5000"
     ]
    },
    {
     "name": "stdout",
     "output_type": "stream",
     "text": [
      "\n\r30/30 [==============================] - 0s 333us/sample - loss: 335.2822\n"
     ]
    },
    {
     "name": "stdout",
     "output_type": "stream",
     "text": [
      "Epoch 686/5000\n\r30/30 [==============================] - 0s 0s/sample - loss: 334.8812\n"
     ]
    },
    {
     "name": "stdout",
     "output_type": "stream",
     "text": [
      "Epoch 687/5000\n\r30/30 [==============================] - 0s 0s/sample - loss: 334.4807\n"
     ]
    },
    {
     "name": "stdout",
     "output_type": "stream",
     "text": [
      "Epoch 688/5000\n\r30/30 [==============================] - 0s 0s/sample - loss: 334.0809\n"
     ]
    },
    {
     "name": "stdout",
     "output_type": "stream",
     "text": [
      "Epoch 689/5000\n\r30/30 [==============================] - 0s 333us/sample - loss: 333.6815\n"
     ]
    },
    {
     "name": "stdout",
     "output_type": "stream",
     "text": [
      "Epoch 690/5000\n\r30/30 [==============================] - 0s 0s/sample - loss: 333.2827\n"
     ]
    },
    {
     "name": "stdout",
     "output_type": "stream",
     "text": [
      "Epoch 691/5000\n\r30/30 [==============================] - 0s 0s/sample - loss: 332.8844\n"
     ]
    },
    {
     "name": "stdout",
     "output_type": "stream",
     "text": [
      "Epoch 692/5000\n\r30/30 [==============================] - 0s 0s/sample - loss: 332.4866\n"
     ]
    },
    {
     "name": "stdout",
     "output_type": "stream",
     "text": [
      "Epoch 693/5000\n\r30/30 [==============================] - 0s 333us/sample - loss: 332.0895\n"
     ]
    },
    {
     "name": "stdout",
     "output_type": "stream",
     "text": [
      "Epoch 694/5000\n\r30/30 [==============================] - 0s 0s/sample - loss: 331.6929\n"
     ]
    },
    {
     "name": "stdout",
     "output_type": "stream",
     "text": [
      "Epoch 695/5000\n\r30/30 [==============================] - 0s 0s/sample - loss: 331.2967\n"
     ]
    },
    {
     "name": "stdout",
     "output_type": "stream",
     "text": [
      "Epoch 696/5000\n\r30/30 [==============================] - 0s 0s/sample - loss: 330.9012\n"
     ]
    },
    {
     "name": "stdout",
     "output_type": "stream",
     "text": [
      "Epoch 697/5000\n"
     ]
    },
    {
     "name": "stdout",
     "output_type": "stream",
     "text": [
      "\r30/30 [==============================] - 0s 333us/sample - loss: 330.5060\n"
     ]
    },
    {
     "name": "stdout",
     "output_type": "stream",
     "text": [
      "Epoch 698/5000\n\r30/30 [==============================] - 0s 0s/sample - loss: 330.1115\n"
     ]
    },
    {
     "name": "stdout",
     "output_type": "stream",
     "text": [
      "Epoch 699/5000\n\r30/30 [==============================] - 0s 0s/sample - loss: 329.7175\n"
     ]
    },
    {
     "name": "stdout",
     "output_type": "stream",
     "text": [
      "Epoch 700/5000\n\r30/30 [==============================] - 0s 0s/sample - loss: 329.3240\n"
     ]
    },
    {
     "name": "stdout",
     "output_type": "stream",
     "text": [
      "Epoch 701/5000\n"
     ]
    },
    {
     "name": "stdout",
     "output_type": "stream",
     "text": [
      "\r30/30 [==============================] - 0s 333us/sample - loss: 328.9310\n"
     ]
    },
    {
     "name": "stdout",
     "output_type": "stream",
     "text": [
      "Epoch 702/5000\n\r30/30 [==============================] - 0s 0s/sample - loss: 328.5387\n"
     ]
    },
    {
     "name": "stdout",
     "output_type": "stream",
     "text": [
      "Epoch 703/5000\n\r30/30 [==============================] - 0s 0s/sample - loss: 328.1468\n"
     ]
    },
    {
     "name": "stdout",
     "output_type": "stream",
     "text": [
      "Epoch 704/5000\n\r30/30 [==============================] - 0s 0s/sample - loss: 327.7555\n"
     ]
    },
    {
     "name": "stdout",
     "output_type": "stream",
     "text": [
      "Epoch 705/5000\n\r30/30 [==============================] - 0s 333us/sample - loss: 327.3648\n"
     ]
    },
    {
     "name": "stdout",
     "output_type": "stream",
     "text": [
      "Epoch 706/5000\n\r30/30 [==============================] - 0s 0s/sample - loss: 326.9745\n"
     ]
    },
    {
     "name": "stdout",
     "output_type": "stream",
     "text": [
      "Epoch 707/5000\n\r30/30 [==============================] - 0s 0s/sample - loss: 326.5847\n"
     ]
    },
    {
     "name": "stdout",
     "output_type": "stream",
     "text": [
      "Epoch 708/5000\n\r30/30 [==============================] - 0s 0s/sample - loss: 326.1956\n"
     ]
    },
    {
     "name": "stdout",
     "output_type": "stream",
     "text": [
      "Epoch 709/5000\n"
     ]
    },
    {
     "name": "stdout",
     "output_type": "stream",
     "text": [
      "\r30/30 [==============================] - 0s 333us/sample - loss: 325.8069\n"
     ]
    },
    {
     "name": "stdout",
     "output_type": "stream",
     "text": [
      "Epoch 710/5000\n\r30/30 [==============================] - 0s 0s/sample - loss: 325.4188\n"
     ]
    },
    {
     "name": "stdout",
     "output_type": "stream",
     "text": [
      "Epoch 711/5000\n\r30/30 [==============================] - 0s 0s/sample - loss: 325.0312\n"
     ]
    },
    {
     "name": "stdout",
     "output_type": "stream",
     "text": [
      "Epoch 712/5000"
     ]
    },
    {
     "name": "stdout",
     "output_type": "stream",
     "text": [
      "\n\r30/30 [==============================] - 0s 333us/sample - loss: 324.6442\n"
     ]
    },
    {
     "name": "stdout",
     "output_type": "stream",
     "text": [
      "Epoch 713/5000\n\r30/30 [==============================] - 0s 0s/sample - loss: 324.2576\n"
     ]
    },
    {
     "name": "stdout",
     "output_type": "stream",
     "text": [
      "Epoch 714/5000\n\r30/30 [==============================] - 0s 0s/sample - loss: 323.8717\n"
     ]
    },
    {
     "name": "stdout",
     "output_type": "stream",
     "text": [
      "Epoch 715/5000\n\r30/30 [==============================] - 0s 333us/sample - loss: 323.4862\n"
     ]
    },
    {
     "name": "stdout",
     "output_type": "stream",
     "text": [
      "Epoch 716/5000\n\r30/30 [==============================] - 0s 0s/sample - loss: 323.1013\n"
     ]
    },
    {
     "name": "stdout",
     "output_type": "stream",
     "text": [
      "Epoch 717/5000\n\r30/30 [==============================] - 0s 0s/sample - loss: 322.7168\n"
     ]
    },
    {
     "name": "stdout",
     "output_type": "stream",
     "text": [
      "Epoch 718/5000\n\r30/30 [==============================] - 0s 0s/sample - loss: 322.3330\n"
     ]
    },
    {
     "name": "stdout",
     "output_type": "stream",
     "text": [
      "Epoch 719/5000\n\r30/30 [==============================] - 0s 333us/sample - loss: 321.9497\n"
     ]
    },
    {
     "name": "stdout",
     "output_type": "stream",
     "text": [
      "Epoch 720/5000\n\r30/30 [==============================] - 0s 0s/sample - loss: 321.5669\n"
     ]
    },
    {
     "name": "stdout",
     "output_type": "stream",
     "text": [
      "Epoch 721/5000\n\r30/30 [==============================] - 0s 0s/sample - loss: 321.1845\n"
     ]
    },
    {
     "name": "stdout",
     "output_type": "stream",
     "text": [
      "Epoch 722/5000\n\r30/30 [==============================] - 0s 0s/sample - loss: 320.8028\n"
     ]
    },
    {
     "name": "stdout",
     "output_type": "stream",
     "text": [
      "Epoch 723/5000\n\r30/30 [==============================] - 0s 0s/sample - loss: 320.4216\n"
     ]
    },
    {
     "name": "stdout",
     "output_type": "stream",
     "text": [
      "Epoch 724/5000\n\r30/30 [==============================] - 0s 0s/sample - loss: 320.0409\n"
     ]
    },
    {
     "name": "stdout",
     "output_type": "stream",
     "text": [
      "Epoch 725/5000\n\r30/30 [==============================] - 0s 0s/sample - loss: 319.6606\n"
     ]
    },
    {
     "name": "stdout",
     "output_type": "stream",
     "text": [
      "Epoch 726/5000\n\r30/30 [==============================] - 0s 0s/sample - loss: 319.2811\n"
     ]
    },
    {
     "name": "stdout",
     "output_type": "stream",
     "text": [
      "Epoch 727/5000\n\r30/30 [==============================] - 0s 0s/sample - loss: 318.9019\n"
     ]
    },
    {
     "name": "stdout",
     "output_type": "stream",
     "text": [
      "Epoch 728/5000\n\r30/30 [==============================] - 0s 0s/sample - loss: 318.5232\n"
     ]
    },
    {
     "name": "stdout",
     "output_type": "stream",
     "text": [
      "Epoch 729/5000\n\r30/30 [==============================] - 0s 0s/sample - loss: 318.1451\n"
     ]
    },
    {
     "name": "stdout",
     "output_type": "stream",
     "text": [
      "Epoch 730/5000\n"
     ]
    },
    {
     "name": "stdout",
     "output_type": "stream",
     "text": [
      "\r30/30 [==============================] - 0s 333us/sample - loss: 317.7675\n"
     ]
    },
    {
     "name": "stdout",
     "output_type": "stream",
     "text": [
      "Epoch 731/5000\n\r30/30 [==============================] - 0s 0s/sample - loss: 317.3904\n"
     ]
    },
    {
     "name": "stdout",
     "output_type": "stream",
     "text": [
      "Epoch 732/5000\n\r30/30 [==============================] - 0s 0s/sample - loss: 317.0138\n"
     ]
    },
    {
     "name": "stdout",
     "output_type": "stream",
     "text": [
      "Epoch 733/5000\n\r30/30 [==============================] - 0s 0s/sample - loss: 316.6377\n"
     ]
    },
    {
     "name": "stdout",
     "output_type": "stream",
     "text": [
      "Epoch 734/5000\n"
     ]
    },
    {
     "name": "stdout",
     "output_type": "stream",
     "text": [
      "\r30/30 [==============================] - 0s 333us/sample - loss: 316.2622\n"
     ]
    },
    {
     "name": "stdout",
     "output_type": "stream",
     "text": [
      "Epoch 735/5000\n\r30/30 [==============================] - 0s 0s/sample - loss: 315.8872\n"
     ]
    },
    {
     "name": "stdout",
     "output_type": "stream",
     "text": [
      "Epoch 736/5000\n\r30/30 [==============================] - 0s 0s/sample - loss: 315.5127\n"
     ]
    },
    {
     "name": "stdout",
     "output_type": "stream",
     "text": [
      "Epoch 737/5000\n\r30/30 [==============================] - 0s 0s/sample - loss: 315.1387\n"
     ]
    },
    {
     "name": "stdout",
     "output_type": "stream",
     "text": [
      "Epoch 738/5000\n\r30/30 [==============================] - 0s 0s/sample - loss: 314.7653\n"
     ]
    },
    {
     "name": "stdout",
     "output_type": "stream",
     "text": [
      "Epoch 739/5000\n\r30/30 [==============================] - 0s 0s/sample - loss: 314.3924\n"
     ]
    },
    {
     "name": "stdout",
     "output_type": "stream",
     "text": [
      "Epoch 740/5000\n\r30/30 [==============================] - 0s 0s/sample - loss: 314.0200\n"
     ]
    },
    {
     "name": "stdout",
     "output_type": "stream",
     "text": [
      "Epoch 741/5000\n\r30/30 [==============================] - 0s 333us/sample - loss: 313.6481\n"
     ]
    },
    {
     "name": "stdout",
     "output_type": "stream",
     "text": [
      "Epoch 742/5000\n\r30/30 [==============================] - 0s 0s/sample - loss: 313.2766\n"
     ]
    },
    {
     "name": "stdout",
     "output_type": "stream",
     "text": [
      "Epoch 743/5000\n\r30/30 [==============================] - 0s 0s/sample - loss: 312.9058\n"
     ]
    },
    {
     "name": "stdout",
     "output_type": "stream",
     "text": [
      "Epoch 744/5000\n\r30/30 [==============================] - 0s 0s/sample - loss: 312.5355\n"
     ]
    },
    {
     "name": "stdout",
     "output_type": "stream",
     "text": [
      "Epoch 745/5000\n"
     ]
    },
    {
     "name": "stdout",
     "output_type": "stream",
     "text": [
      "\r30/30 [==============================] - 0s 333us/sample - loss: 312.1656\n"
     ]
    },
    {
     "name": "stdout",
     "output_type": "stream",
     "text": [
      "Epoch 746/5000\n\r30/30 [==============================] - 0s 0s/sample - loss: 311.7963\n"
     ]
    },
    {
     "name": "stdout",
     "output_type": "stream",
     "text": [
      "Epoch 747/5000\n\r30/30 [==============================] - 0s 0s/sample - loss: 311.4275\n"
     ]
    },
    {
     "name": "stdout",
     "output_type": "stream",
     "text": [
      "Epoch 748/5000\n\r30/30 [==============================] - 0s 0s/sample - loss: 311.0592\n"
     ]
    },
    {
     "name": "stdout",
     "output_type": "stream",
     "text": [
      "Epoch 749/5000\n\r30/30 [==============================] - 0s 333us/sample - loss: 310.6914\n"
     ]
    },
    {
     "name": "stdout",
     "output_type": "stream",
     "text": [
      "Epoch 750/5000\n\r30/30 [==============================] - 0s 0s/sample - loss: 310.3242\n"
     ]
    },
    {
     "name": "stdout",
     "output_type": "stream",
     "text": [
      "Epoch 751/5000\n\r30/30 [==============================] - 0s 0s/sample - loss: 309.9574\n"
     ]
    },
    {
     "name": "stdout",
     "output_type": "stream",
     "text": [
      "Epoch 752/5000\n\r30/30 [==============================] - 0s 0s/sample - loss: 309.5912\n"
     ]
    },
    {
     "name": "stdout",
     "output_type": "stream",
     "text": [
      "Epoch 753/5000\n\r30/30 [==============================] - 0s 333us/sample - loss: 309.2255\n"
     ]
    },
    {
     "name": "stdout",
     "output_type": "stream",
     "text": [
      "Epoch 754/5000\n\r30/30 [==============================] - 0s 0s/sample - loss: 308.8603\n"
     ]
    },
    {
     "name": "stdout",
     "output_type": "stream",
     "text": [
      "Epoch 755/5000\n\r30/30 [==============================] - 0s 0s/sample - loss: 308.4956\n"
     ]
    },
    {
     "name": "stdout",
     "output_type": "stream",
     "text": [
      "Epoch 756/5000\n\r30/30 [==============================] - 0s 0s/sample - loss: 308.1314\n"
     ]
    },
    {
     "name": "stdout",
     "output_type": "stream",
     "text": [
      "Epoch 757/5000\n\r30/30 [==============================] - 0s 333us/sample - loss: 307.7677\n"
     ]
    },
    {
     "name": "stdout",
     "output_type": "stream",
     "text": [
      "Epoch 758/5000\n\r30/30 [==============================] - 0s 0s/sample - loss: 307.4046\n"
     ]
    },
    {
     "name": "stdout",
     "output_type": "stream",
     "text": [
      "Epoch 759/5000\n\r30/30 [==============================] - 0s 0s/sample - loss: 307.0419\n"
     ]
    },
    {
     "name": "stdout",
     "output_type": "stream",
     "text": [
      "Epoch 760/5000\n\r30/30 [==============================] - 0s 0s/sample - loss: 306.6797\n"
     ]
    },
    {
     "name": "stdout",
     "output_type": "stream",
     "text": [
      "Epoch 761/5000\n\r30/30 [==============================] - 0s 0s/sample - loss: 306.3181\n"
     ]
    },
    {
     "name": "stdout",
     "output_type": "stream",
     "text": [
      "Epoch 762/5000\n\r30/30 [==============================] - 0s 0s/sample - loss: 305.9570\n"
     ]
    },
    {
     "name": "stdout",
     "output_type": "stream",
     "text": [
      "Epoch 763/5000\n\r30/30 [==============================] - 0s 0s/sample - loss: 305.5963\n"
     ]
    },
    {
     "name": "stdout",
     "output_type": "stream",
     "text": [
      "Epoch 764/5000\n"
     ]
    },
    {
     "name": "stdout",
     "output_type": "stream",
     "text": [
      "\r30/30 [==============================] - 0s 333us/sample - loss: 305.2362\n"
     ]
    },
    {
     "name": "stdout",
     "output_type": "stream",
     "text": [
      "Epoch 765/5000\n\r30/30 [==============================] - 0s 0s/sample - loss: 304.8766\n"
     ]
    },
    {
     "name": "stdout",
     "output_type": "stream",
     "text": [
      "Epoch 766/5000\n\r30/30 [==============================] - 0s 0s/sample - loss: 304.5175\n"
     ]
    },
    {
     "name": "stdout",
     "output_type": "stream",
     "text": [
      "Epoch 767/5000\n\r30/30 [==============================] - 0s 0s/sample - loss: 304.1589\n"
     ]
    },
    {
     "name": "stdout",
     "output_type": "stream",
     "text": [
      "Epoch 768/5000\n"
     ]
    },
    {
     "name": "stdout",
     "output_type": "stream",
     "text": [
      "\r30/30 [==============================] - 0s 333us/sample - loss: 303.8008\n"
     ]
    },
    {
     "name": "stdout",
     "output_type": "stream",
     "text": [
      "Epoch 769/5000\n\r30/30 [==============================] - 0s 0s/sample - loss: 303.4431\n"
     ]
    },
    {
     "name": "stdout",
     "output_type": "stream",
     "text": [
      "Epoch 770/5000\n\r30/30 [==============================] - 0s 0s/sample - loss: 303.0860\n"
     ]
    },
    {
     "name": "stdout",
     "output_type": "stream",
     "text": [
      "Epoch 771/5000\n\r30/30 [==============================] - 0s 0s/sample - loss: 302.7295\n"
     ]
    },
    {
     "name": "stdout",
     "output_type": "stream",
     "text": [
      "Epoch 772/5000\n\r30/30 [==============================] - 0s 333us/sample - loss: 302.3734\n"
     ]
    },
    {
     "name": "stdout",
     "output_type": "stream",
     "text": [
      "Epoch 773/5000\n\r30/30 [==============================] - 0s 0s/sample - loss: 302.0179\n"
     ]
    },
    {
     "name": "stdout",
     "output_type": "stream",
     "text": [
      "Epoch 774/5000\n\r30/30 [==============================] - 0s 0s/sample - loss: 301.6626\n"
     ]
    },
    {
     "name": "stdout",
     "output_type": "stream",
     "text": [
      "Epoch 775/5000\n\r30/30 [==============================] - 0s 0s/sample - loss: 301.3081\n"
     ]
    },
    {
     "name": "stdout",
     "output_type": "stream",
     "text": [
      "Epoch 776/5000"
     ]
    },
    {
     "name": "stdout",
     "output_type": "stream",
     "text": [
      "\n\r30/30 [==============================] - 0s 333us/sample - loss: 300.9540\n"
     ]
    },
    {
     "name": "stdout",
     "output_type": "stream",
     "text": [
      "Epoch 777/5000\n\r30/30 [==============================] - 0s 0s/sample - loss: 300.6005\n"
     ]
    },
    {
     "name": "stdout",
     "output_type": "stream",
     "text": [
      "Epoch 778/5000\n\r30/30 [==============================] - 0s 0s/sample - loss: 300.2473\n"
     ]
    },
    {
     "name": "stdout",
     "output_type": "stream",
     "text": [
      "Epoch 779/5000\n\r30/30 [==============================] - 0s 0s/sample - loss: 299.8947\n"
     ]
    },
    {
     "name": "stdout",
     "output_type": "stream",
     "text": [
      "Epoch 780/5000\n"
     ]
    },
    {
     "name": "stdout",
     "output_type": "stream",
     "text": [
      "\r30/30 [==============================] - 0s 333us/sample - loss: 299.5427\n"
     ]
    },
    {
     "name": "stdout",
     "output_type": "stream",
     "text": [
      "Epoch 781/5000\n\r30/30 [==============================] - 0s 0s/sample - loss: 299.1911\n"
     ]
    },
    {
     "name": "stdout",
     "output_type": "stream",
     "text": [
      "Epoch 782/5000\n\r30/30 [==============================] - 0s 0s/sample - loss: 298.8401\n"
     ]
    },
    {
     "name": "stdout",
     "output_type": "stream",
     "text": [
      "Epoch 783/5000\n\r30/30 [==============================] - 0s 0s/sample - loss: 298.4894\n"
     ]
    },
    {
     "name": "stdout",
     "output_type": "stream",
     "text": [
      "Epoch 784/5000\n\r30/30 [==============================] - 0s 333us/sample - loss: 298.1393\n"
     ]
    },
    {
     "name": "stdout",
     "output_type": "stream",
     "text": [
      "Epoch 785/5000\n\r30/30 [==============================] - 0s 0s/sample - loss: 297.7898\n"
     ]
    },
    {
     "name": "stdout",
     "output_type": "stream",
     "text": [
      "Epoch 786/5000\n\r30/30 [==============================] - 0s 0s/sample - loss: 297.4406\n"
     ]
    },
    {
     "name": "stdout",
     "output_type": "stream",
     "text": [
      "Epoch 787/5000\n\r30/30 [==============================] - 0s 0s/sample - loss: 297.0921\n"
     ]
    },
    {
     "name": "stdout",
     "output_type": "stream",
     "text": [
      "Epoch 788/5000\n"
     ]
    },
    {
     "name": "stdout",
     "output_type": "stream",
     "text": [
      "\r30/30 [==============================] - 0s 333us/sample - loss: 296.7439\n"
     ]
    },
    {
     "name": "stdout",
     "output_type": "stream",
     "text": [
      "Epoch 789/5000\n\r30/30 [==============================] - 0s 0s/sample - loss: 296.3963\n"
     ]
    },
    {
     "name": "stdout",
     "output_type": "stream",
     "text": [
      "Epoch 790/5000\n\r30/30 [==============================] - 0s 0s/sample - loss: 296.0491\n"
     ]
    },
    {
     "name": "stdout",
     "output_type": "stream",
     "text": [
      "Epoch 791/5000\n\r30/30 [==============================] - 0s 0s/sample - loss: 295.7024\n"
     ]
    },
    {
     "name": "stdout",
     "output_type": "stream",
     "text": [
      "Epoch 792/5000\n"
     ]
    },
    {
     "name": "stdout",
     "output_type": "stream",
     "text": [
      "\r30/30 [==============================] - 0s 0s/sample - loss: 295.3562\n"
     ]
    },
    {
     "name": "stdout",
     "output_type": "stream",
     "text": [
      "Epoch 793/5000\n\r30/30 [==============================] - 0s 0s/sample - loss: 295.0105\n"
     ]
    },
    {
     "name": "stdout",
     "output_type": "stream",
     "text": [
      "Epoch 794/5000\n\r30/30 [==============================] - 0s 0s/sample - loss: 294.6653\n"
     ]
    },
    {
     "name": "stdout",
     "output_type": "stream",
     "text": [
      "Epoch 795/5000\n\r30/30 [==============================] - 0s 0s/sample - loss: 294.3206\n"
     ]
    },
    {
     "name": "stdout",
     "output_type": "stream",
     "text": [
      "Epoch 796/5000\n"
     ]
    },
    {
     "name": "stdout",
     "output_type": "stream",
     "text": [
      "\r30/30 [==============================] - 0s 333us/sample - loss: 293.9764\n"
     ]
    },
    {
     "name": "stdout",
     "output_type": "stream",
     "text": [
      "Epoch 797/5000\n\r30/30 [==============================] - 0s 0s/sample - loss: 293.6326\n"
     ]
    },
    {
     "name": "stdout",
     "output_type": "stream",
     "text": [
      "Epoch 798/5000\n\r30/30 [==============================] - 0s 0s/sample - loss: 293.2894\n"
     ]
    },
    {
     "name": "stdout",
     "output_type": "stream",
     "text": [
      "Epoch 799/5000\n\r30/30 [==============================] - 0s 0s/sample - loss: 292.9467\n"
     ]
    },
    {
     "name": "stdout",
     "output_type": "stream",
     "text": [
      "Epoch 800/5000\n"
     ]
    },
    {
     "name": "stdout",
     "output_type": "stream",
     "text": [
      "\r30/30 [==============================] - 0s 333us/sample - loss: 292.6044\n"
     ]
    },
    {
     "name": "stdout",
     "output_type": "stream",
     "text": [
      "Epoch 801/5000\n\r30/30 [==============================] - 0s 0s/sample - loss: 292.2626\n"
     ]
    },
    {
     "name": "stdout",
     "output_type": "stream",
     "text": [
      "Epoch 802/5000\n\r30/30 [==============================] - 0s 0s/sample - loss: 291.9214\n"
     ]
    },
    {
     "name": "stdout",
     "output_type": "stream",
     "text": [
      "Epoch 803/5000\n\r30/30 [==============================] - 0s 0s/sample - loss: 291.5806\n"
     ]
    },
    {
     "name": "stdout",
     "output_type": "stream",
     "text": [
      "Epoch 804/5000\n\r30/30 [==============================]"
     ]
    },
    {
     "name": "stdout",
     "output_type": "stream",
     "text": [
      " - 0s 0s/sample - loss: 291.2403\n"
     ]
    },
    {
     "name": "stdout",
     "output_type": "stream",
     "text": [
      "Epoch 805/5000\n\r30/30 [==============================] - 0s 0s/sample - loss: 290.9005\n"
     ]
    },
    {
     "name": "stdout",
     "output_type": "stream",
     "text": [
      "Epoch 806/5000\n\r30/30 [==============================] - 0s 0s/sample - loss: 290.5611\n"
     ]
    },
    {
     "name": "stdout",
     "output_type": "stream",
     "text": [
      "Epoch 807/5000\n\r30/30 [==============================] - 0s 0s/sample - loss: 290.2222\n"
     ]
    },
    {
     "name": "stdout",
     "output_type": "stream",
     "text": [
      "Epoch 808/5000\n\r30/30 [==============================] - 0s 0s/sample - loss: 289.8839\n"
     ]
    },
    {
     "name": "stdout",
     "output_type": "stream",
     "text": [
      "Epoch 809/5000\n\r30/30 [==============================] - 0s 0s/sample - loss: 289.5460\n"
     ]
    },
    {
     "name": "stdout",
     "output_type": "stream",
     "text": [
      "Epoch 810/5000\n\r30/30 [==============================] - 0s 0s/sample - loss: 289.2086\n"
     ]
    },
    {
     "name": "stdout",
     "output_type": "stream",
     "text": [
      "Epoch 811/5000\n\r30/30 [==============================] - 0s 0s/sample - loss: 288.8717\n"
     ]
    },
    {
     "name": "stdout",
     "output_type": "stream",
     "text": [
      "Epoch 812/5000\n\r30/30 [==============================] - 0s 0s/sample - loss: 288.5353\n"
     ]
    },
    {
     "name": "stdout",
     "output_type": "stream",
     "text": [
      "Epoch 813/5000\n\r30/30 [==============================] - 0s 333us/sample - loss: 288.1993\n"
     ]
    },
    {
     "name": "stdout",
     "output_type": "stream",
     "text": [
      "Epoch 814/5000\n\r30/30 [==============================] - 0s 0s/sample - loss: 287.8639\n"
     ]
    },
    {
     "name": "stdout",
     "output_type": "stream",
     "text": [
      "Epoch 815/5000\n\r30/30 [==============================] - 0s 0s/sample - loss: 287.5289\n"
     ]
    },
    {
     "name": "stdout",
     "output_type": "stream",
     "text": [
      "Epoch 816/5000\n\r30/30 [==============================] - 0s 0s/sample - loss: 287.1945\n"
     ]
    },
    {
     "name": "stdout",
     "output_type": "stream",
     "text": [
      "Epoch 817/5000\n\r"
     ]
    },
    {
     "name": "stdout",
     "output_type": "stream",
     "text": [
      "30/30 [==============================] - 0s 0s/sample - loss: 286.8604\n"
     ]
    },
    {
     "name": "stdout",
     "output_type": "stream",
     "text": [
      "Epoch 818/5000\n\r30/30 [==============================] - 0s 0s/sample - loss: 286.5269\n"
     ]
    },
    {
     "name": "stdout",
     "output_type": "stream",
     "text": [
      "Epoch 819/5000\n\r30/30 [==============================] - 0s 0s/sample - loss: 286.1938\n"
     ]
    },
    {
     "name": "stdout",
     "output_type": "stream",
     "text": [
      "Epoch 820/5000\n\r30/30 [==============================] - 0s 0s/sample - loss: 285.8613\n"
     ]
    },
    {
     "name": "stdout",
     "output_type": "stream",
     "text": [
      "Epoch 821/5000\n"
     ]
    },
    {
     "name": "stdout",
     "output_type": "stream",
     "text": [
      "\r30/30 [==============================] - 0s 0s/sample - loss: 285.5292\n"
     ]
    },
    {
     "name": "stdout",
     "output_type": "stream",
     "text": [
      "Epoch 822/5000\n\r30/30 [==============================] - 0s 0s/sample - loss: 285.1976\n"
     ]
    },
    {
     "name": "stdout",
     "output_type": "stream",
     "text": [
      "Epoch 823/5000\n\r30/30 [==============================] - 0s 0s/sample - loss: 284.8664\n"
     ]
    },
    {
     "name": "stdout",
     "output_type": "stream",
     "text": [
      "Epoch 824/5000\n\r30/30 [==============================] - 0s 0s/sample - loss: 284.5358\n"
     ]
    },
    {
     "name": "stdout",
     "output_type": "stream",
     "text": [
      "Epoch 825/5000\n\r30/30 [==============================] - 0s 333us/sample - loss: 284.2056\n"
     ]
    },
    {
     "name": "stdout",
     "output_type": "stream",
     "text": [
      "Epoch 826/5000\n\r30/30 [==============================] - 0s 0s/sample - loss: 283.8760\n"
     ]
    },
    {
     "name": "stdout",
     "output_type": "stream",
     "text": [
      "Epoch 827/5000\n\r30/30 [==============================] - 0s 0s/sample - loss: 283.5467\n"
     ]
    },
    {
     "name": "stdout",
     "output_type": "stream",
     "text": [
      "Epoch 828/5000\n\r30/30 [==============================] - 0s 0s/sample - loss: 283.2180\n"
     ]
    },
    {
     "name": "stdout",
     "output_type": "stream",
     "text": [
      "Epoch 829/5000\n\r30/30 [==============================] - 0s 0s/sample - loss: 282.8896\n"
     ]
    },
    {
     "name": "stdout",
     "output_type": "stream",
     "text": [
      "Epoch 830/5000\n\r30/30 [==============================] - 0s 0s/sample - loss: 282.5619\n"
     ]
    },
    {
     "name": "stdout",
     "output_type": "stream",
     "text": [
      "Epoch 831/5000\n\r30/30 [==============================] - 0s 0s/sample - loss: 282.2345\n"
     ]
    },
    {
     "name": "stdout",
     "output_type": "stream",
     "text": [
      "Epoch 832/5000\n\r30/30 [==============================] - 0s 0s/sample - loss: 281.9077\n"
     ]
    },
    {
     "name": "stdout",
     "output_type": "stream",
     "text": [
      "Epoch 833/5000\n\r30/30 [==============================] - 0s 0s/sample - loss: 281.5813\n"
     ]
    },
    {
     "name": "stdout",
     "output_type": "stream",
     "text": [
      "Epoch 834/5000\n"
     ]
    },
    {
     "name": "stdout",
     "output_type": "stream",
     "text": [
      "\r30/30 [==============================] - 0s 333us/sample - loss: 281.2555\n"
     ]
    },
    {
     "name": "stdout",
     "output_type": "stream",
     "text": [
      "Epoch 835/5000\n\r30/30 [==============================] - 0s 0s/sample - loss: 280.9300\n"
     ]
    },
    {
     "name": "stdout",
     "output_type": "stream",
     "text": [
      "Epoch 836/5000\n\r30/30 [==============================] - 0s 0s/sample - loss: 280.6050\n"
     ]
    },
    {
     "name": "stdout",
     "output_type": "stream",
     "text": [
      "Epoch 837/5000\n\r30/30 [==============================] - 0s 0s/sample - loss: 280.2806\n"
     ]
    },
    {
     "name": "stdout",
     "output_type": "stream",
     "text": [
      "Epoch 838/5000\n"
     ]
    },
    {
     "name": "stdout",
     "output_type": "stream",
     "text": [
      "\r30/30 [==============================] - 0s 333us/sample - loss: 279.9566\n"
     ]
    },
    {
     "name": "stdout",
     "output_type": "stream",
     "text": [
      "Epoch 839/5000\n\r30/30 [==============================] - 0s 0s/sample - loss: 279.6331\n"
     ]
    },
    {
     "name": "stdout",
     "output_type": "stream",
     "text": [
      "Epoch 840/5000\n\r30/30 [==============================] - 0s 0s/sample - loss: 279.3100\n"
     ]
    },
    {
     "name": "stdout",
     "output_type": "stream",
     "text": [
      "Epoch 841/5000\n\r30/30 [==============================] - 0s 0s/sample - loss: 278.9874\n"
     ]
    },
    {
     "name": "stdout",
     "output_type": "stream",
     "text": [
      "Epoch 842/5000\n"
     ]
    },
    {
     "name": "stdout",
     "output_type": "stream",
     "text": [
      "\r30/30 [==============================] - 0s 333us/sample - loss: 278.6653\n"
     ]
    },
    {
     "name": "stdout",
     "output_type": "stream",
     "text": [
      "Epoch 843/5000\n\r30/30 [==============================] - 0s 0s/sample - loss: 278.3436\n"
     ]
    },
    {
     "name": "stdout",
     "output_type": "stream",
     "text": [
      "Epoch 844/5000\n\r30/30 [==============================] - 0s 0s/sample - loss: 278.0224\n"
     ]
    },
    {
     "name": "stdout",
     "output_type": "stream",
     "text": [
      "Epoch 845/5000\n\r30/30 [==============================] - 0s 0s/sample - loss: 277.7017\n"
     ]
    },
    {
     "name": "stdout",
     "output_type": "stream",
     "text": [
      "Epoch 846/5000\n"
     ]
    },
    {
     "name": "stdout",
     "output_type": "stream",
     "text": [
      "\r30/30 [==============================] - 0s 333us/sample - loss: 277.3814\n"
     ]
    },
    {
     "name": "stdout",
     "output_type": "stream",
     "text": [
      "Epoch 847/5000\n\r30/30 [==============================] - 0s 0s/sample - loss: 277.0616\n"
     ]
    },
    {
     "name": "stdout",
     "output_type": "stream",
     "text": [
      "Epoch 848/5000\n\r30/30 [==============================] - 0s 0s/sample - loss: 276.7423\n"
     ]
    },
    {
     "name": "stdout",
     "output_type": "stream",
     "text": [
      "Epoch 849/5000\n\r30/30 [==============================] - 0s 0s/sample - loss: 276.4235\n"
     ]
    },
    {
     "name": "stdout",
     "output_type": "stream",
     "text": [
      "Epoch 850/5000\n\r30/30 [==============================] - 0s 0s/sample - loss: 276.1051\n"
     ]
    },
    {
     "name": "stdout",
     "output_type": "stream",
     "text": [
      "Epoch 851/5000\n\r30/30 [==============================] - 0s 0s/sample - loss: 275.7872\n"
     ]
    },
    {
     "name": "stdout",
     "output_type": "stream",
     "text": [
      "Epoch 852/5000\n\r30/30 [==============================] - 0s 0s/sample - loss: 275.4697\n"
     ]
    },
    {
     "name": "stdout",
     "output_type": "stream",
     "text": [
      "Epoch 853/5000\n\r30/30 [==============================] - 0s 0s/sample - loss: 275.1528\n"
     ]
    },
    {
     "name": "stdout",
     "output_type": "stream",
     "text": [
      "Epoch 854/5000\n\r30/30 [==============================] - 0s 0s/sample - loss: 274.8363\n"
     ]
    },
    {
     "name": "stdout",
     "output_type": "stream",
     "text": [
      "Epoch 855/5000"
     ]
    },
    {
     "name": "stdout",
     "output_type": "stream",
     "text": [
      "\n\r30/30 [==============================] - 0s 333us/sample - loss: 274.5204\n"
     ]
    },
    {
     "name": "stdout",
     "output_type": "stream",
     "text": [
      "Epoch 856/5000\n\r30/30 [==============================] - 0s 0s/sample - loss: 274.2048\n"
     ]
    },
    {
     "name": "stdout",
     "output_type": "stream",
     "text": [
      "Epoch 857/5000\n\r30/30 [==============================] - 0s 0s/sample - loss: 273.8897\n"
     ]
    },
    {
     "name": "stdout",
     "output_type": "stream",
     "text": [
      "Epoch 858/5000\n\r30/30 [==============================] - 0s 0s/sample - loss: 273.5750\n"
     ]
    },
    {
     "name": "stdout",
     "output_type": "stream",
     "text": [
      "Epoch 859/5000\n\r30/30 [==============================] - 0s 333us/sample - loss: 273.2609\n"
     ]
    },
    {
     "name": "stdout",
     "output_type": "stream",
     "text": [
      "Epoch 860/5000\n\r30/30 [==============================] - 0s 0s/sample - loss: 272.9473\n"
     ]
    },
    {
     "name": "stdout",
     "output_type": "stream",
     "text": [
      "Epoch 861/5000\n\r30/30 [==============================] - 0s 0s/sample - loss: 272.6340\n"
     ]
    },
    {
     "name": "stdout",
     "output_type": "stream",
     "text": [
      "Epoch 862/5000\n\r"
     ]
    },
    {
     "name": "stdout",
     "output_type": "stream",
     "text": [
      "30/30 [==============================] - 0s 0s/sample - loss: 272.3212\n"
     ]
    },
    {
     "name": "stdout",
     "output_type": "stream",
     "text": [
      "Epoch 863/5000\n\r30/30 [==============================] - 0s 0s/sample - loss: 272.0089\n"
     ]
    },
    {
     "name": "stdout",
     "output_type": "stream",
     "text": [
      "Epoch 864/5000\n\r30/30 [==============================] - 0s 0s/sample - loss: 271.6970\n"
     ]
    },
    {
     "name": "stdout",
     "output_type": "stream",
     "text": [
      "Epoch 865/5000\n\r30/30 [==============================] - 0s 0s/sample - loss: 271.3857\n"
     ]
    },
    {
     "name": "stdout",
     "output_type": "stream",
     "text": [
      "Epoch 866/5000\n\r30/30 [==============================] - 0s 0s/sample - loss: 271.0747\n"
     ]
    },
    {
     "name": "stdout",
     "output_type": "stream",
     "text": [
      "Epoch 867/5000\n\r30/30 [==============================] - 0s 333us/sample - loss: 270.7642\n"
     ]
    },
    {
     "name": "stdout",
     "output_type": "stream",
     "text": [
      "Epoch 868/5000\n\r30/30 [==============================] - 0s 0s/sample - loss: 270.4542\n"
     ]
    },
    {
     "name": "stdout",
     "output_type": "stream",
     "text": [
      "Epoch 869/5000\n\r30/30 [==============================] - 0s 0s/sample - loss: 270.1446\n"
     ]
    },
    {
     "name": "stdout",
     "output_type": "stream",
     "text": [
      "Epoch 870/5000\n\r30/30 [==============================] - 0s 0s/sample - loss: 269.8355\n"
     ]
    },
    {
     "name": "stdout",
     "output_type": "stream",
     "text": [
      "Epoch 871/5000\n\r30/30 [==============================] - 0s 333us/sample - loss: 269.5269\n"
     ]
    },
    {
     "name": "stdout",
     "output_type": "stream",
     "text": [
      "Epoch 872/5000\n\r30/30 [==============================] - 0s 0s/sample - loss: 269.2186\n"
     ]
    },
    {
     "name": "stdout",
     "output_type": "stream",
     "text": [
      "Epoch 873/5000\n\r30/30 [==============================] - 0s 0s/sample - loss: 268.9109\n"
     ]
    },
    {
     "name": "stdout",
     "output_type": "stream",
     "text": [
      "Epoch 874/5000\n\r30/30 [==============================] - 0s 0s/sample - loss: 268.6036\n"
     ]
    },
    {
     "name": "stdout",
     "output_type": "stream",
     "text": [
      "Epoch 875/5000\n"
     ]
    },
    {
     "name": "stdout",
     "output_type": "stream",
     "text": [
      "\r30/30 [==============================] - 0s 333us/sample - loss: 268.2968\n"
     ]
    },
    {
     "name": "stdout",
     "output_type": "stream",
     "text": [
      "Epoch 876/5000\n\r30/30 [==============================] - 0s 0s/sample - loss: 267.9904\n"
     ]
    },
    {
     "name": "stdout",
     "output_type": "stream",
     "text": [
      "Epoch 877/5000\n\r30/30 [==============================] - 0s 0s/sample - loss: 267.6844\n"
     ]
    },
    {
     "name": "stdout",
     "output_type": "stream",
     "text": [
      "Epoch 878/5000\n\r30/30 [==============================] - 0s 0s/sample - loss: 267.3789\n"
     ]
    },
    {
     "name": "stdout",
     "output_type": "stream",
     "text": [
      "Epoch 879/5000\n"
     ]
    },
    {
     "name": "stdout",
     "output_type": "stream",
     "text": [
      "\r30/30 [==============================] - 0s 333us/sample - loss: 267.0740\n"
     ]
    },
    {
     "name": "stdout",
     "output_type": "stream",
     "text": [
      "Epoch 880/5000\n\r30/30 [==============================] - 0s 0s/sample - loss: 266.7694\n"
     ]
    },
    {
     "name": "stdout",
     "output_type": "stream",
     "text": [
      "Epoch 881/5000\n\r30/30 [==============================] - 0s 0s/sample - loss: 266.4653\n"
     ]
    },
    {
     "name": "stdout",
     "output_type": "stream",
     "text": [
      "Epoch 882/5000\n\r30/30 [==============================] - 0s 0s/sample - loss: 266.1616\n"
     ]
    },
    {
     "name": "stdout",
     "output_type": "stream",
     "text": [
      "Epoch 883/5000\n"
     ]
    },
    {
     "name": "stdout",
     "output_type": "stream",
     "text": [
      "\r30/30 [==============================] - 0s 333us/sample - loss: 265.8584\n"
     ]
    },
    {
     "name": "stdout",
     "output_type": "stream",
     "text": [
      "Epoch 884/5000\n\r30/30 [==============================] - 0s 0s/sample - loss: 265.5556\n"
     ]
    },
    {
     "name": "stdout",
     "output_type": "stream",
     "text": [
      "Epoch 885/5000\n\r30/30 [==============================] - 0s 0s/sample - loss: 265.2534\n"
     ]
    },
    {
     "name": "stdout",
     "output_type": "stream",
     "text": [
      "Epoch 886/5000\n\r30/30 [==============================] - 0s 0s/sample - loss: 264.9514\n"
     ]
    },
    {
     "name": "stdout",
     "output_type": "stream",
     "text": [
      "Epoch 887/5000\n\r30/30 [==============================] - 0s 333us/sample - loss: 264.6501\n"
     ]
    },
    {
     "name": "stdout",
     "output_type": "stream",
     "text": [
      "Epoch 888/5000\n\r30/30 [==============================] - 0s 0s/sample - loss: 264.3490\n"
     ]
    },
    {
     "name": "stdout",
     "output_type": "stream",
     "text": [
      "Epoch 889/5000\n\r30/30 [==============================] - 0s 0s/sample - loss: 264.0486\n"
     ]
    },
    {
     "name": "stdout",
     "output_type": "stream",
     "text": [
      "Epoch 890/5000\n\r30/30 [==============================] - 0s 0s/sample - loss: 263.7484\n"
     ]
    },
    {
     "name": "stdout",
     "output_type": "stream",
     "text": [
      "Epoch 891/5000\n\r30/30 [==============================] - 0s 0s/sample - loss: 263.4489\n"
     ]
    },
    {
     "name": "stdout",
     "output_type": "stream",
     "text": [
      "Epoch 892/5000\n\r30/30 [==============================] - 0s 0s/sample - loss: 263.1497\n"
     ]
    },
    {
     "name": "stdout",
     "output_type": "stream",
     "text": [
      "Epoch 893/5000\n\r30/30 [==============================] - 0s 0s/sample - loss: 262.8509\n"
     ]
    },
    {
     "name": "stdout",
     "output_type": "stream",
     "text": [
      "Epoch 894/5000\n\r30/30 [==============================] - 0s 0s/sample - loss: 262.5526\n"
     ]
    },
    {
     "name": "stdout",
     "output_type": "stream",
     "text": [
      "Epoch 895/5000\n\r30/30 [==============================] - 0s 0s/sample - loss: 262.2548\n"
     ]
    },
    {
     "name": "stdout",
     "output_type": "stream",
     "text": [
      "Epoch 896/5000\n\r30/30 [==============================] - 0s 333us/sample - loss: 261.9575\n"
     ]
    },
    {
     "name": "stdout",
     "output_type": "stream",
     "text": [
      "Epoch 897/5000\n\r30/30 [==============================] - 0s 0s/sample - loss: 261.6605\n"
     ]
    },
    {
     "name": "stdout",
     "output_type": "stream",
     "text": [
      "Epoch 898/5000\n\r30/30 [==============================] - 0s 0s/sample - loss: 261.3639\n"
     ]
    },
    {
     "name": "stdout",
     "output_type": "stream",
     "text": [
      "Epoch 899/5000\n\r30/30 [==============================] - 0s 0s/sample - loss: 261.0679\n"
     ]
    },
    {
     "name": "stdout",
     "output_type": "stream",
     "text": [
      "Epoch 900/5000\n"
     ]
    },
    {
     "name": "stdout",
     "output_type": "stream",
     "text": [
      "\r30/30 [==============================] - 0s 333us/sample - loss: 260.7723\n"
     ]
    },
    {
     "name": "stdout",
     "output_type": "stream",
     "text": [
      "Epoch 901/5000\n\r30/30 [==============================] - 0s 0s/sample - loss: 260.4771\n"
     ]
    },
    {
     "name": "stdout",
     "output_type": "stream",
     "text": [
      "Epoch 902/5000\n\r30/30 [==============================] - 0s 0s/sample - loss: 260.1824\n"
     ]
    },
    {
     "name": "stdout",
     "output_type": "stream",
     "text": [
      "Epoch 903/5000\n\r30/30 [==============================] - 0s 0s/sample - loss: 259.8881\n"
     ]
    },
    {
     "name": "stdout",
     "output_type": "stream",
     "text": [
      "Epoch 904/5000\n"
     ]
    },
    {
     "name": "stdout",
     "output_type": "stream",
     "text": [
      "\r30/30 [==============================] - 0s 333us/sample - loss: 259.5942\n"
     ]
    },
    {
     "name": "stdout",
     "output_type": "stream",
     "text": [
      "Epoch 905/5000\n\r30/30 [==============================] - 0s 0s/sample - loss: 259.3008\n"
     ]
    },
    {
     "name": "stdout",
     "output_type": "stream",
     "text": [
      "Epoch 906/5000\n\r30/30 [==============================] - 0s 0s/sample - loss: 259.0079\n"
     ]
    },
    {
     "name": "stdout",
     "output_type": "stream",
     "text": [
      "Epoch 907/5000\n\r30/30 [==============================] - 0s 0s/sample - loss: 258.7153\n"
     ]
    },
    {
     "name": "stdout",
     "output_type": "stream",
     "text": [
      "Epoch 908/5000\n"
     ]
    },
    {
     "name": "stdout",
     "output_type": "stream",
     "text": [
      "\r30/30 [==============================] - 0s 333us/sample - loss: 258.4232\n"
     ]
    },
    {
     "name": "stdout",
     "output_type": "stream",
     "text": [
      "Epoch 909/5000\n\r30/30 [==============================] - 0s 0s/sample - loss: 258.1316\n"
     ]
    },
    {
     "name": "stdout",
     "output_type": "stream",
     "text": [
      "Epoch 910/5000\n\r30/30 [==============================] - 0s 0s/sample - loss: 257.8404\n"
     ]
    },
    {
     "name": "stdout",
     "output_type": "stream",
     "text": [
      "Epoch 911/5000\n\r30/30 [==============================] - 0s 0s/sample - loss: 257.5496\n"
     ]
    },
    {
     "name": "stdout",
     "output_type": "stream",
     "text": [
      "Epoch 912/5000\n"
     ]
    },
    {
     "name": "stdout",
     "output_type": "stream",
     "text": [
      "\r30/30 [==============================] - 0s 333us/sample - loss: 257.2592\n"
     ]
    },
    {
     "name": "stdout",
     "output_type": "stream",
     "text": [
      "Epoch 913/5000\n\r30/30 [==============================] - 0s 0s/sample - loss: 256.9694\n"
     ]
    },
    {
     "name": "stdout",
     "output_type": "stream",
     "text": [
      "Epoch 914/5000\n\r30/30 [==============================] - 0s 0s/sample - loss: 256.6800\n"
     ]
    },
    {
     "name": "stdout",
     "output_type": "stream",
     "text": [
      "Epoch 915/5000\n\r30/30 [==============================] - 0s 0s/sample - loss: 256.3909\n"
     ]
    },
    {
     "name": "stdout",
     "output_type": "stream",
     "text": [
      "Epoch 916/5000\n"
     ]
    },
    {
     "name": "stdout",
     "output_type": "stream",
     "text": [
      "\r30/30 [==============================] - 0s 0s/sample - loss: 256.1024\n"
     ]
    },
    {
     "name": "stdout",
     "output_type": "stream",
     "text": [
      "Epoch 917/5000\n\r30/30 [==============================] - 0s 0s/sample - loss: 255.8143\n"
     ]
    },
    {
     "name": "stdout",
     "output_type": "stream",
     "text": [
      "Epoch 918/5000\n\r30/30 [==============================] - 0s 0s/sample - loss: 255.5266\n"
     ]
    },
    {
     "name": "stdout",
     "output_type": "stream",
     "text": [
      "Epoch 919/5000\n\r30/30 [==============================] - 0s 0s/sample - loss: 255.2394\n"
     ]
    },
    {
     "name": "stdout",
     "output_type": "stream",
     "text": [
      "Epoch 920/5000\n\r30/30 [==============================] - 0s 0s/sample - loss: 254.9526\n"
     ]
    },
    {
     "name": "stdout",
     "output_type": "stream",
     "text": [
      "Epoch 921/5000\n\r30/30 [==============================] - 0s 0s/sample - loss: 254.6662\n"
     ]
    },
    {
     "name": "stdout",
     "output_type": "stream",
     "text": [
      "Epoch 922/5000\n\r30/30 [==============================] - 0s 0s/sample - loss: 254.3803\n"
     ]
    },
    {
     "name": "stdout",
     "output_type": "stream",
     "text": [
      "Epoch 923/5000\n\r30/30 [==============================] - 0s 0s/sample - loss: 254.0948\n"
     ]
    },
    {
     "name": "stdout",
     "output_type": "stream",
     "text": [
      "Epoch 924/5000\n\r30/30 [==============================] - 0s 0s/sample - loss: 253.8097\n"
     ]
    },
    {
     "name": "stdout",
     "output_type": "stream",
     "text": [
      "Epoch 925/5000\n\r30/30 [==============================] - 0s 0s/sample - loss: 253.5251\n"
     ]
    },
    {
     "name": "stdout",
     "output_type": "stream",
     "text": [
      "Epoch 926/5000\n\r30/30 [==============================] - 0s 0s/sample - loss: 253.2409\n"
     ]
    },
    {
     "name": "stdout",
     "output_type": "stream",
     "text": [
      "Epoch 927/5000\n\r30/30 [==============================] - 0s 0s/sample - loss: 252.9571\n"
     ]
    },
    {
     "name": "stdout",
     "output_type": "stream",
     "text": [
      "Epoch 928/5000\n\r30/30 [==============================] - 0s 0s/sample - loss: 252.6738\n"
     ]
    },
    {
     "name": "stdout",
     "output_type": "stream",
     "text": [
      "Epoch 929/5000\n\r30/30 [==============================] - 0s 0s/sample - loss: 252.3908\n"
     ]
    },
    {
     "name": "stdout",
     "output_type": "stream",
     "text": [
      "Epoch 930/5000\n\r30/30 [==============================] - 0s 0s/sample - loss: 252.1084\n"
     ]
    },
    {
     "name": "stdout",
     "output_type": "stream",
     "text": [
      "Epoch 931/5000\n\r30/30 [==============================] - 0s 0s/sample - loss: 251.8262\n"
     ]
    },
    {
     "name": "stdout",
     "output_type": "stream",
     "text": [
      "Epoch 932/5000\n\r30/30 [==============================] - 0s 0s/sample - loss: 251.5446\n"
     ]
    },
    {
     "name": "stdout",
     "output_type": "stream",
     "text": [
      "Epoch 933/5000\n\r30/30 [==============================] - 0s 0s/sample - loss: 251.2634\n"
     ]
    },
    {
     "name": "stdout",
     "output_type": "stream",
     "text": [
      "Epoch 934/5000\n\r30/30 [==============================] - 0s 0s/sample - loss: 250.9827\n"
     ]
    },
    {
     "name": "stdout",
     "output_type": "stream",
     "text": [
      "Epoch 935/5000\n\r30/30 [==============================] - 0s 0s/sample - loss: 250.7023\n"
     ]
    },
    {
     "name": "stdout",
     "output_type": "stream",
     "text": [
      "Epoch 936/5000\n\r30/30 [==============================] - 0s 0s/sample - loss: 250.4224\n"
     ]
    },
    {
     "name": "stdout",
     "output_type": "stream",
     "text": [
      "Epoch 937/5000"
     ]
    },
    {
     "name": "stdout",
     "output_type": "stream",
     "text": [
      "\n\r30/30 [==============================] - 0s 333us/sample - loss: 250.1429\n"
     ]
    },
    {
     "name": "stdout",
     "output_type": "stream",
     "text": [
      "Epoch 938/5000\n\r30/30 [==============================] - 0s 0s/sample - loss: 249.8638\n"
     ]
    },
    {
     "name": "stdout",
     "output_type": "stream",
     "text": [
      "Epoch 939/5000\n\r30/30 [==============================] - 0s 0s/sample - loss: 249.5852\n"
     ]
    },
    {
     "name": "stdout",
     "output_type": "stream",
     "text": [
      "Epoch 940/5000\n\r30/30 [==============================] - 0s 0s/sample - loss: 249.3070\n"
     ]
    },
    {
     "name": "stdout",
     "output_type": "stream",
     "text": [
      "Epoch 941/5000\n"
     ]
    },
    {
     "name": "stdout",
     "output_type": "stream",
     "text": [
      "\r30/30 [==============================] - 0s 333us/sample - loss: 249.0291\n"
     ]
    },
    {
     "name": "stdout",
     "output_type": "stream",
     "text": [
      "Epoch 942/5000\n\r30/30 [==============================] - 0s 0s/sample - loss: 248.7518\n"
     ]
    },
    {
     "name": "stdout",
     "output_type": "stream",
     "text": [
      "Epoch 943/5000\n\r30/30 [==============================] - 0s 0s/sample - loss: 248.4748\n"
     ]
    },
    {
     "name": "stdout",
     "output_type": "stream",
     "text": [
      "Epoch 944/5000\n\r30/30 [==============================] - 0s 0s/sample - loss: 248.1984\n"
     ]
    },
    {
     "name": "stdout",
     "output_type": "stream",
     "text": [
      "Epoch 945/5000\n"
     ]
    },
    {
     "name": "stdout",
     "output_type": "stream",
     "text": [
      "\r30/30 [==============================] - 0s 333us/sample - loss: 247.9223\n"
     ]
    },
    {
     "name": "stdout",
     "output_type": "stream",
     "text": [
      "Epoch 946/5000\n\r30/30 [==============================] - 0s 0s/sample - loss: 247.6465\n"
     ]
    },
    {
     "name": "stdout",
     "output_type": "stream",
     "text": [
      "Epoch 947/5000\n\r30/30 [==============================] - 0s 0s/sample - loss: 247.3713\n"
     ]
    },
    {
     "name": "stdout",
     "output_type": "stream",
     "text": [
      "Epoch 948/5000\n\r30/30 [==============================] - 0s 0s/sample - loss: 247.0965\n"
     ]
    },
    {
     "name": "stdout",
     "output_type": "stream",
     "text": [
      "Epoch 949/5000\n\r30/30 [==============================] - 0s 0s/sample - loss: 246.8221\n"
     ]
    },
    {
     "name": "stdout",
     "output_type": "stream",
     "text": [
      "Epoch 950/5000\n\r30/30 [==============================] - 0s 0s/sample - loss: 246.5481\n"
     ]
    },
    {
     "name": "stdout",
     "output_type": "stream",
     "text": [
      "Epoch 951/5000\n\r30/30 [==============================] - 0s 0s/sample - loss: 246.2746\n"
     ]
    },
    {
     "name": "stdout",
     "output_type": "stream",
     "text": [
      "Epoch 952/5000\n\r30/30 [==============================] - 0s 0s/sample - loss: 246.0015\n"
     ]
    },
    {
     "name": "stdout",
     "output_type": "stream",
     "text": [
      "Epoch 953/5000\n\r30/30 [==============================] - 0s 0s/sample - loss: 245.7288\n"
     ]
    },
    {
     "name": "stdout",
     "output_type": "stream",
     "text": [
      "Epoch 954/5000\n\r30/30 [==============================] - 0s 0s/sample - loss: 245.4565\n"
     ]
    },
    {
     "name": "stdout",
     "output_type": "stream",
     "text": [
      "Epoch 955/5000\n\r30/30 [==============================] - 0s 0s/sample - loss: 245.1847\n"
     ]
    },
    {
     "name": "stdout",
     "output_type": "stream",
     "text": [
      "Epoch 956/5000\n\r30/30 [==============================] - 0s 0s/sample - loss: 244.9132\n"
     ]
    },
    {
     "name": "stdout",
     "output_type": "stream",
     "text": [
      "Epoch 957/5000\n"
     ]
    },
    {
     "name": "stdout",
     "output_type": "stream",
     "text": [
      "\r30/30 [==============================] - 0s 0s/sample - loss: 244.6423\n"
     ]
    },
    {
     "name": "stdout",
     "output_type": "stream",
     "text": [
      "Epoch 958/5000\n\r30/30 [==============================] - 0s 0s/sample - loss: 244.3716\n"
     ]
    },
    {
     "name": "stdout",
     "output_type": "stream",
     "text": [
      "Epoch 959/5000\n\r30/30 [==============================] - 0s 0s/sample - loss: 244.1014\n"
     ]
    },
    {
     "name": "stdout",
     "output_type": "stream",
     "text": [
      "Epoch 960/5000\n\r30/30 [==============================] - 0s 0s/sample - loss: 243.8317\n"
     ]
    },
    {
     "name": "stdout",
     "output_type": "stream",
     "text": [
      "Epoch 961/5000\n"
     ]
    },
    {
     "name": "stdout",
     "output_type": "stream",
     "text": [
      "\r30/30 [==============================] - 0s 333us/sample - loss: 243.5623\n"
     ]
    },
    {
     "name": "stdout",
     "output_type": "stream",
     "text": [
      "Epoch 962/5000\n\r30/30 [==============================] - 0s 0s/sample - loss: 243.2934\n"
     ]
    },
    {
     "name": "stdout",
     "output_type": "stream",
     "text": [
      "Epoch 963/5000\n\r30/30 [==============================] - 0s 0s/sample - loss: 243.0249\n"
     ]
    },
    {
     "name": "stdout",
     "output_type": "stream",
     "text": [
      "Epoch 964/5000\n\r30/30 [==============================] - 0s 0s/sample - loss: 242.7568\n"
     ]
    },
    {
     "name": "stdout",
     "output_type": "stream",
     "text": [
      "Epoch 965/5000\n\r30/30 [==============================] - 0s 333us/sample - loss: 242.4892\n"
     ]
    },
    {
     "name": "stdout",
     "output_type": "stream",
     "text": [
      "Epoch 966/5000\n\r30/30 [==============================] - 0s 0s/sample - loss: 242.2219\n"
     ]
    },
    {
     "name": "stdout",
     "output_type": "stream",
     "text": [
      "Epoch 967/5000\n\r30/30 [==============================] - 0s 0s/sample - loss: 241.9550\n"
     ]
    },
    {
     "name": "stdout",
     "output_type": "stream",
     "text": [
      "Epoch 968/5000\n\r30/30 [==============================] - 0s 0s/sample - loss: 241.6885\n"
     ]
    },
    {
     "name": "stdout",
     "output_type": "stream",
     "text": [
      "Epoch 969/5000\n"
     ]
    },
    {
     "name": "stdout",
     "output_type": "stream",
     "text": [
      "\r30/30 [==============================] - 0s 333us/sample - loss: 241.4225\n"
     ]
    },
    {
     "name": "stdout",
     "output_type": "stream",
     "text": [
      "Epoch 970/5000\n\r30/30 [==============================] - 0s 0s/sample - loss: 241.1568\n"
     ]
    },
    {
     "name": "stdout",
     "output_type": "stream",
     "text": [
      "Epoch 971/5000\n\r30/30 [==============================] - 0s 0s/sample - loss: 240.8917\n"
     ]
    },
    {
     "name": "stdout",
     "output_type": "stream",
     "text": [
      "Epoch 972/5000\n\r30/30 [==============================] - 0s 0s/sample - loss: 240.6269\n"
     ]
    },
    {
     "name": "stdout",
     "output_type": "stream",
     "text": [
      "Epoch 973/5000\n"
     ]
    },
    {
     "name": "stdout",
     "output_type": "stream",
     "text": [
      "\r30/30 [==============================] - 0s 0s/sample - loss: 240.3625\n"
     ]
    },
    {
     "name": "stdout",
     "output_type": "stream",
     "text": [
      "Epoch 974/5000\n\r30/30 [==============================] - 0s 0s/sample - loss: 240.0985\n"
     ]
    },
    {
     "name": "stdout",
     "output_type": "stream",
     "text": [
      "Epoch 975/5000\n\r30/30 [==============================] - 0s 0s/sample - loss: 239.8350\n"
     ]
    },
    {
     "name": "stdout",
     "output_type": "stream",
     "text": [
      "Epoch 976/5000\n\r30/30 [==============================] - 0s 0s/sample - loss: 239.5718\n"
     ]
    },
    {
     "name": "stdout",
     "output_type": "stream",
     "text": [
      "Epoch 977/5000\n\r30/30 [==============================] - 0s 0s/sample - loss: 239.3091\n"
     ]
    },
    {
     "name": "stdout",
     "output_type": "stream",
     "text": [
      "Epoch 978/5000\n\r30/30 [==============================] - 0s 0s/sample - loss: 239.0468\n"
     ]
    },
    {
     "name": "stdout",
     "output_type": "stream",
     "text": [
      "Epoch 979/5000\n\r30/30 [==============================] - 0s 0s/sample - loss: 238.7849\n"
     ]
    },
    {
     "name": "stdout",
     "output_type": "stream",
     "text": [
      "Epoch 980/5000\n\r30/30 [==============================] - 0s 0s/sample - loss: 238.5234\n"
     ]
    },
    {
     "name": "stdout",
     "output_type": "stream",
     "text": [
      "Epoch 981/5000\n\r30/30 [==============================] - 0s 333us/sample - loss: 238.2623\n"
     ]
    },
    {
     "name": "stdout",
     "output_type": "stream",
     "text": [
      "Epoch 982/5000\n\r30/30 [==============================] - 0s 0s/sample - loss: 238.0017\n"
     ]
    },
    {
     "name": "stdout",
     "output_type": "stream",
     "text": [
      "Epoch 983/5000\n\r30/30 [==============================] - 0s 0s/sample - loss: 237.7414\n"
     ]
    },
    {
     "name": "stdout",
     "output_type": "stream",
     "text": [
      "Epoch 984/5000\n\r30/30 [==============================] - 0s 0s/sample - loss: 237.4815\n"
     ]
    },
    {
     "name": "stdout",
     "output_type": "stream",
     "text": [
      "Epoch 985/5000\n\r30/30 [==============================] - 0s 0s/sample - loss: 237.2221\n"
     ]
    },
    {
     "name": "stdout",
     "output_type": "stream",
     "text": [
      "Epoch 986/5000\n\r30/30 [==============================] - 0s 0s/sample - loss: 236.9631\n"
     ]
    },
    {
     "name": "stdout",
     "output_type": "stream",
     "text": [
      "Epoch 987/5000\n\r30/30 [==============================] - 0s 0s/sample - loss: 236.7044\n"
     ]
    },
    {
     "name": "stdout",
     "output_type": "stream",
     "text": [
      "Epoch 988/5000\n\r30/30 [==============================] - 0s 0s/sample - loss: 236.4462\n"
     ]
    },
    {
     "name": "stdout",
     "output_type": "stream",
     "text": [
      "Epoch 989/5000\n\r30/30 [==============================] - 0s 0s/sample - loss: 236.1883\n"
     ]
    },
    {
     "name": "stdout",
     "output_type": "stream",
     "text": [
      "Epoch 990/5000"
     ]
    },
    {
     "name": "stdout",
     "output_type": "stream",
     "text": [
      "\n\r30/30 [==============================] - 0s 333us/sample - loss: 235.9310\n"
     ]
    },
    {
     "name": "stdout",
     "output_type": "stream",
     "text": [
      "Epoch 991/5000\n\r30/30 [==============================] - 0s 0s/sample - loss: 235.6739\n"
     ]
    },
    {
     "name": "stdout",
     "output_type": "stream",
     "text": [
      "Epoch 992/5000\n\r30/30 [==============================] - 0s 0s/sample - loss: 235.4173\n"
     ]
    },
    {
     "name": "stdout",
     "output_type": "stream",
     "text": [
      "Epoch 993/5000\n\r30/30 [==============================] - 0s 0s/sample - loss: 235.1610\n"
     ]
    },
    {
     "name": "stdout",
     "output_type": "stream",
     "text": [
      "Epoch 994/5000\n\r30/30 [==============================] - 0s 0s/sample - loss: 234.9052\n"
     ]
    },
    {
     "name": "stdout",
     "output_type": "stream",
     "text": [
      "Epoch 995/5000\n\r30/30 [==============================] - 0s 0s/sample - loss: 234.6498\n"
     ]
    },
    {
     "name": "stdout",
     "output_type": "stream",
     "text": [
      "Epoch 996/5000\n\r30/30 [==============================] - 0s 0s/sample - loss: 234.3948\n"
     ]
    },
    {
     "name": "stdout",
     "output_type": "stream",
     "text": [
      "Epoch 997/5000\n\r30/30 [==============================] - 0s 0s/sample - loss: 234.1402\n"
     ]
    },
    {
     "name": "stdout",
     "output_type": "stream",
     "text": [
      "Epoch 998/5000\n\r30/30 [==============================] - 0s 333us/sample - loss: 233.8860\n"
     ]
    },
    {
     "name": "stdout",
     "output_type": "stream",
     "text": [
      "Epoch 999/5000\n\r30/30 [==============================] - 0s 0s/sample - loss: 233.6321\n"
     ]
    },
    {
     "name": "stdout",
     "output_type": "stream",
     "text": [
      "Epoch 1000/5000\n\r30/30 [==============================] - 0s 0s/sample - loss: 233.3787\n"
     ]
    },
    {
     "name": "stdout",
     "output_type": "stream",
     "text": [
      "Epoch 1001/5000\n\r30/30 [==============================] - 0s 0s/sample - loss: 233.1258\n"
     ]
    },
    {
     "name": "stdout",
     "output_type": "stream",
     "text": [
      "Epoch 1002/5000\n"
     ]
    },
    {
     "name": "stdout",
     "output_type": "stream",
     "text": [
      "\r30/30 [==============================] - 0s 333us/sample - loss: 232.8732\n"
     ]
    },
    {
     "name": "stdout",
     "output_type": "stream",
     "text": [
      "Epoch 1003/5000\n\r30/30 [==============================] - 0s 0s/sample - loss: 232.6210\n"
     ]
    },
    {
     "name": "stdout",
     "output_type": "stream",
     "text": [
      "Epoch 1004/5000\n\r30/30 [==============================] - 0s 0s/sample - loss: 232.3692\n"
     ]
    },
    {
     "name": "stdout",
     "output_type": "stream",
     "text": [
      "Epoch 1005/5000\n\r30/30 [==============================] - 0s 0s/sample - loss: 232.1178\n"
     ]
    },
    {
     "name": "stdout",
     "output_type": "stream",
     "text": [
      "Epoch 1006/5000\n"
     ]
    },
    {
     "name": "stdout",
     "output_type": "stream",
     "text": [
      "\r30/30 [==============================] - 0s 333us/sample - loss: 231.8668\n"
     ]
    },
    {
     "name": "stdout",
     "output_type": "stream",
     "text": [
      "Epoch 1007/5000\n\r30/30 [==============================] - 0s 0s/sample - loss: 231.6162\n"
     ]
    },
    {
     "name": "stdout",
     "output_type": "stream",
     "text": [
      "Epoch 1008/5000\n\r30/30 [==============================] - 0s 0s/sample - loss: 231.3660\n"
     ]
    },
    {
     "name": "stdout",
     "output_type": "stream",
     "text": [
      "Epoch 1009/5000\n\r30/30 [==============================] - 0s 0s/sample - loss: 231.1162\n"
     ]
    },
    {
     "name": "stdout",
     "output_type": "stream",
     "text": [
      "Epoch 1010/5000\n"
     ]
    },
    {
     "name": "stdout",
     "output_type": "stream",
     "text": [
      "\r30/30 [==============================] - 0s 333us/sample - loss: 230.8668\n"
     ]
    },
    {
     "name": "stdout",
     "output_type": "stream",
     "text": [
      "Epoch 1011/5000\n\r30/30 [==============================] - 0s 0s/sample - loss: 230.6178\n"
     ]
    },
    {
     "name": "stdout",
     "output_type": "stream",
     "text": [
      "Epoch 1012/5000\n\r30/30 [==============================] - 0s 0s/sample - loss: 230.3691\n"
     ]
    },
    {
     "name": "stdout",
     "output_type": "stream",
     "text": [
      "Epoch 1013/5000\n\r30/30 [==============================] - 0s 0s/sample - loss: 230.1209\n"
     ]
    },
    {
     "name": "stdout",
     "output_type": "stream",
     "text": [
      "Epoch 1014/5000\n"
     ]
    },
    {
     "name": "stdout",
     "output_type": "stream",
     "text": [
      "\r30/30 [==============================] - 0s 0s/sample - loss: 229.8731\n"
     ]
    },
    {
     "name": "stdout",
     "output_type": "stream",
     "text": [
      "Epoch 1015/5000\n\r30/30 [==============================] - 0s 0s/sample - loss: 229.6256\n"
     ]
    },
    {
     "name": "stdout",
     "output_type": "stream",
     "text": [
      "Epoch 1016/5000\n\r30/30 [==============================] - 0s 0s/sample - loss: 229.3785\n"
     ]
    },
    {
     "name": "stdout",
     "output_type": "stream",
     "text": [
      "Epoch 1017/5000\n\r30/30 [==============================] - 0s 0s/sample - loss: 229.1319\n"
     ]
    },
    {
     "name": "stdout",
     "output_type": "stream",
     "text": [
      "Epoch 1018/5000\n\r30/30 [==============================] - 0s 0s/sample - loss: 228.8856\n"
     ]
    },
    {
     "name": "stdout",
     "output_type": "stream",
     "text": [
      "Epoch 1019/5000\n\r30/30 [==============================] - 0s 0s/sample - loss: 228.6397\n"
     ]
    },
    {
     "name": "stdout",
     "output_type": "stream",
     "text": [
      "Epoch 1020/5000\n\r30/30 [==============================] - 0s 0s/sample - loss: 228.3943\n"
     ]
    },
    {
     "name": "stdout",
     "output_type": "stream",
     "text": [
      "Epoch 1021/5000\n\r30/30 [==============================] - 0s 0s/sample - loss: 228.1491\n"
     ]
    },
    {
     "name": "stdout",
     "output_type": "stream",
     "text": [
      "Epoch 1022/5000\n\r30/30 [==============================] - 0s 0s/sample - loss: 227.9045\n"
     ]
    },
    {
     "name": "stdout",
     "output_type": "stream",
     "text": [
      "Epoch 1023/5000"
     ]
    },
    {
     "name": "stdout",
     "output_type": "stream",
     "text": [
      "\n\r30/30 [==============================] - 0s 333us/sample - loss: 227.6602\n"
     ]
    },
    {
     "name": "stdout",
     "output_type": "stream",
     "text": [
      "Epoch 1024/5000\n\r30/30 [==============================] - 0s 0s/sample - loss: 227.4163\n"
     ]
    },
    {
     "name": "stdout",
     "output_type": "stream",
     "text": [
      "Epoch 1025/5000\n\r30/30 [==============================] - 0s 0s/sample - loss: 227.1728\n"
     ]
    },
    {
     "name": "stdout",
     "output_type": "stream",
     "text": [
      "Epoch 1026/5000\n\r30/30 [==============================] - 0s 0s/sample - loss: 226.9297\n"
     ]
    },
    {
     "name": "stdout",
     "output_type": "stream",
     "text": [
      "Epoch 1027/5000\n"
     ]
    },
    {
     "name": "stdout",
     "output_type": "stream",
     "text": [
      "\r30/30 [==============================] - 0s 333us/sample - loss: 226.6870\n"
     ]
    },
    {
     "name": "stdout",
     "output_type": "stream",
     "text": [
      "Epoch 1028/5000\n\r30/30 [==============================] - 0s 0s/sample - loss: 226.4446\n"
     ]
    },
    {
     "name": "stdout",
     "output_type": "stream",
     "text": [
      "Epoch 1029/5000\n\r30/30 [==============================] - 0s 0s/sample - loss: 226.2027\n"
     ]
    },
    {
     "name": "stdout",
     "output_type": "stream",
     "text": [
      "Epoch 1030/5000\n\r30/30 [==============================] - 0s 0s/sample - loss: 225.9611\n"
     ]
    },
    {
     "name": "stdout",
     "output_type": "stream",
     "text": [
      "Epoch 1031/5000\n\r30/30 [==============================] - 0s 333us/sample - loss: 225.7200\n"
     ]
    },
    {
     "name": "stdout",
     "output_type": "stream",
     "text": [
      "Epoch 1032/5000\n\r30/30 [==============================] - 0s 0s/sample - loss: 225.4791\n"
     ]
    },
    {
     "name": "stdout",
     "output_type": "stream",
     "text": [
      "Epoch 1033/5000\n\r30/30 [==============================] - 0s 0s/sample - loss: 225.2387\n"
     ]
    },
    {
     "name": "stdout",
     "output_type": "stream",
     "text": [
      "Epoch 1034/5000\n\r30/30 [==============================] - 0s 0s/sample - loss: 224.9987\n"
     ]
    },
    {
     "name": "stdout",
     "output_type": "stream",
     "text": [
      "Epoch 1035/5000\n"
     ]
    },
    {
     "name": "stdout",
     "output_type": "stream",
     "text": [
      "\r30/30 [==============================] - 0s 333us/sample - loss: 224.7590\n"
     ]
    },
    {
     "name": "stdout",
     "output_type": "stream",
     "text": [
      "Epoch 1036/5000\n\r30/30 [==============================] - 0s 0s/sample - loss: 224.5198\n"
     ]
    },
    {
     "name": "stdout",
     "output_type": "stream",
     "text": [
      "Epoch 1037/5000\n\r30/30 [==============================] - 0s 0s/sample - loss: 224.2809\n"
     ]
    },
    {
     "name": "stdout",
     "output_type": "stream",
     "text": [
      "Epoch 1038/5000\n\r30/30 [==============================] - 0s 0s/sample - loss: 224.0424\n"
     ]
    },
    {
     "name": "stdout",
     "output_type": "stream",
     "text": [
      "Epoch 1039/5000\n\r30/30 [==============================] - 0s 333us/sample - loss: 223.8043\n"
     ]
    },
    {
     "name": "stdout",
     "output_type": "stream",
     "text": [
      "Epoch 1040/5000\n\r30/30 [==============================] - 0s 0s/sample - loss: 223.5666\n"
     ]
    },
    {
     "name": "stdout",
     "output_type": "stream",
     "text": [
      "Epoch 1041/5000\n\r30/30 [==============================] - 0s 0s/sample - loss: 223.3293\n"
     ]
    },
    {
     "name": "stdout",
     "output_type": "stream",
     "text": [
      "Epoch 1042/5000\n\r30/30 [==============================] - 0s 0s/sample - loss: 223.0923\n"
     ]
    },
    {
     "name": "stdout",
     "output_type": "stream",
     "text": [
      "Epoch 1043/5000\n"
     ]
    },
    {
     "name": "stdout",
     "output_type": "stream",
     "text": [
      "\r30/30 [==============================] - 0s 333us/sample - loss: 222.8559\n"
     ]
    },
    {
     "name": "stdout",
     "output_type": "stream",
     "text": [
      "Epoch 1044/5000\n\r30/30 [==============================] - 0s 0s/sample - loss: 222.6197\n"
     ]
    },
    {
     "name": "stdout",
     "output_type": "stream",
     "text": [
      "Epoch 1045/5000\n\r30/30 [==============================] - 0s 0s/sample - loss: 222.3839\n"
     ]
    },
    {
     "name": "stdout",
     "output_type": "stream",
     "text": [
      "Epoch 1046/5000\n\r30/30 [==============================] - 0s 0s/sample - loss: 222.1484\n"
     ]
    },
    {
     "name": "stdout",
     "output_type": "stream",
     "text": [
      "Epoch 1047/5000\n"
     ]
    },
    {
     "name": "stdout",
     "output_type": "stream",
     "text": [
      "\r30/30 [==============================] - 0s 333us/sample - loss: 221.9135\n"
     ]
    },
    {
     "name": "stdout",
     "output_type": "stream",
     "text": [
      "Epoch 1048/5000\n\r30/30 [==============================] - 0s 0s/sample - loss: 221.6787\n"
     ]
    },
    {
     "name": "stdout",
     "output_type": "stream",
     "text": [
      "Epoch 1049/5000\n\r30/30 [==============================] - 0s 0s/sample - loss: 221.4445\n"
     ]
    },
    {
     "name": "stdout",
     "output_type": "stream",
     "text": [
      "Epoch 1050/5000\n\r30/30 [==============================] - 0s 0s/sample - loss: 221.2106\n"
     ]
    },
    {
     "name": "stdout",
     "output_type": "stream",
     "text": [
      "Epoch 1051/5000\n"
     ]
    },
    {
     "name": "stdout",
     "output_type": "stream",
     "text": [
      "\r30/30 [==============================] - 0s 333us/sample - loss: 220.9771\n"
     ]
    },
    {
     "name": "stdout",
     "output_type": "stream",
     "text": [
      "Epoch 1052/5000\n\r30/30 [==============================] - 0s 0s/sample - loss: 220.7440\n"
     ]
    },
    {
     "name": "stdout",
     "output_type": "stream",
     "text": [
      "Epoch 1053/5000\n\r30/30 [==============================] - 0s 0s/sample - loss: 220.5112\n"
     ]
    },
    {
     "name": "stdout",
     "output_type": "stream",
     "text": [
      "Epoch 1054/5000\n\r30/30 [==============================] - 0s 0s/sample - loss: 220.2788\n"
     ]
    },
    {
     "name": "stdout",
     "output_type": "stream",
     "text": [
      "Epoch 1055/5000\n\r30/30 [==============================] - 0s 333us/sample - loss: 220.0468\n"
     ]
    },
    {
     "name": "stdout",
     "output_type": "stream",
     "text": [
      "Epoch 1056/5000\n\r30/30 [==============================] - 0s 0s/sample - loss: 219.8151\n"
     ]
    },
    {
     "name": "stdout",
     "output_type": "stream",
     "text": [
      "Epoch 1057/5000\n\r30/30 [==============================] - 0s 0s/sample - loss: 219.5839\n"
     ]
    },
    {
     "name": "stdout",
     "output_type": "stream",
     "text": [
      "Epoch 1058/5000\n\r30/30 [==============================] - 0s 0s/sample - loss: 219.3530\n"
     ]
    },
    {
     "name": "stdout",
     "output_type": "stream",
     "text": [
      "Epoch 1059/5000\n\r30/30 [==============================] - 0s 0s/sample - loss: 219.1225\n"
     ]
    },
    {
     "name": "stdout",
     "output_type": "stream",
     "text": [
      "Epoch 1060/5000\n\r30/30 [==============================] - 0s 0s/sample - loss: 218.8924\n"
     ]
    },
    {
     "name": "stdout",
     "output_type": "stream",
     "text": [
      "Epoch 1061/5000\n\r30/30 [==============================] - 0s 0s/sample - loss: 218.6626\n"
     ]
    },
    {
     "name": "stdout",
     "output_type": "stream",
     "text": [
      "Epoch 1062/5000\n\r30/30 [==============================] - 0s 0s/sample - loss: 218.4333\n"
     ]
    },
    {
     "name": "stdout",
     "output_type": "stream",
     "text": [
      "Epoch 1063/5000\n\r30/30 [==============================] - 0s 0s/sample - loss: 218.2043\n"
     ]
    },
    {
     "name": "stdout",
     "output_type": "stream",
     "text": [
      "Epoch 1064/5000\n\r30/30 [==============================] - 0s 333us/sample - loss: 217.9757\n"
     ]
    },
    {
     "name": "stdout",
     "output_type": "stream",
     "text": [
      "Epoch 1065/5000\n\r30/30 [==============================] - 0s 0s/sample - loss: 217.7475\n"
     ]
    },
    {
     "name": "stdout",
     "output_type": "stream",
     "text": [
      "Epoch 1066/5000\n\r30/30 [==============================] - 0s 0s/sample - loss: 217.5196\n"
     ]
    },
    {
     "name": "stdout",
     "output_type": "stream",
     "text": [
      "Epoch 1067/5000\n\r30/30 [==============================] - 0s 0s/sample - loss: 217.2921\n"
     ]
    },
    {
     "name": "stdout",
     "output_type": "stream",
     "text": [
      "Epoch 1068/5000\n"
     ]
    },
    {
     "name": "stdout",
     "output_type": "stream",
     "text": [
      "\r30/30 [==============================] - 0s 333us/sample - loss: 217.0650\n"
     ]
    },
    {
     "name": "stdout",
     "output_type": "stream",
     "text": [
      "Epoch 1069/5000\n\r30/30 [==============================] - 0s 0s/sample - loss: 216.8382\n"
     ]
    },
    {
     "name": "stdout",
     "output_type": "stream",
     "text": [
      "Epoch 1070/5000\n\r30/30 [==============================] - 0s 0s/sample - loss: 216.6118\n"
     ]
    },
    {
     "name": "stdout",
     "output_type": "stream",
     "text": [
      "Epoch 1071/5000\n\r30/30 [==============================] - 0s 0s/sample - loss: 216.3858\n"
     ]
    },
    {
     "name": "stdout",
     "output_type": "stream",
     "text": [
      "Epoch 1072/5000\n"
     ]
    },
    {
     "name": "stdout",
     "output_type": "stream",
     "text": [
      "\r30/30 [==============================] - 0s 333us/sample - loss: 216.1602\n"
     ]
    },
    {
     "name": "stdout",
     "output_type": "stream",
     "text": [
      "Epoch 1073/5000\n\r30/30 [==============================] - 0s 0s/sample - loss: 215.9349\n"
     ]
    },
    {
     "name": "stdout",
     "output_type": "stream",
     "text": [
      "Epoch 1074/5000\n\r30/30 [==============================] - 0s 0s/sample - loss: 215.7100\n"
     ]
    },
    {
     "name": "stdout",
     "output_type": "stream",
     "text": [
      "Epoch 1075/5000\n\r30/30 [==============================] - 0s 0s/sample - loss: 215.4854\n"
     ]
    },
    {
     "name": "stdout",
     "output_type": "stream",
     "text": [
      "Epoch 1076/5000\n\r30/30 [==============================] - 0s 333us/sample - loss: 215.2612\n"
     ]
    },
    {
     "name": "stdout",
     "output_type": "stream",
     "text": [
      "Epoch 1077/5000\n\r30/30 [==============================] - 0s 0s/sample - loss: 215.0375\n"
     ]
    },
    {
     "name": "stdout",
     "output_type": "stream",
     "text": [
      "Epoch 1078/5000\n\r30/30 [==============================] - 0s 0s/sample - loss: 214.8140\n"
     ]
    },
    {
     "name": "stdout",
     "output_type": "stream",
     "text": [
      "Epoch 1079/5000\n\r30/30 [==============================] - 0s 0s/sample - loss: 214.5910\n"
     ]
    },
    {
     "name": "stdout",
     "output_type": "stream",
     "text": [
      "Epoch 1080/5000\n"
     ]
    },
    {
     "name": "stdout",
     "output_type": "stream",
     "text": [
      "\r30/30 [==============================] - 0s 333us/sample - loss: 214.3683\n"
     ]
    },
    {
     "name": "stdout",
     "output_type": "stream",
     "text": [
      "Epoch 1081/5000\n\r30/30 [==============================] - 0s 0s/sample - loss: 214.1460\n"
     ]
    },
    {
     "name": "stdout",
     "output_type": "stream",
     "text": [
      "Epoch 1082/5000\n\r30/30 [==============================] - 0s 0s/sample - loss: 213.9241\n"
     ]
    },
    {
     "name": "stdout",
     "output_type": "stream",
     "text": [
      "Epoch 1083/5000\n\r30/30 [==============================] - 0s 0s/sample - loss: 213.7025\n"
     ]
    },
    {
     "name": "stdout",
     "output_type": "stream",
     "text": [
      "Epoch 1084/5000\n\r30/30 [==============================] - 0s 333us/sample - loss: 213.4812\n"
     ]
    },
    {
     "name": "stdout",
     "output_type": "stream",
     "text": [
      "Epoch 1085/5000\n\r30/30 [==============================] - 0s 0s/sample - loss: 213.2604\n"
     ]
    },
    {
     "name": "stdout",
     "output_type": "stream",
     "text": [
      "Epoch 1086/5000\n\r30/30 [==============================] - 0s 0s/sample - loss: 213.0399\n"
     ]
    },
    {
     "name": "stdout",
     "output_type": "stream",
     "text": [
      "Epoch 1087/5000\n\r30/30 [==============================] - 0s 0s/sample - loss: 212.8197\n"
     ]
    },
    {
     "name": "stdout",
     "output_type": "stream",
     "text": [
      "Epoch 1088/5000\n"
     ]
    },
    {
     "name": "stdout",
     "output_type": "stream",
     "text": [
      "\r30/30 [==============================] - 0s 333us/sample - loss: 212.5999\n"
     ]
    },
    {
     "name": "stdout",
     "output_type": "stream",
     "text": [
      "Epoch 1089/5000\n\r30/30 [==============================] - 0s 0s/sample - loss: 212.3806\n"
     ]
    },
    {
     "name": "stdout",
     "output_type": "stream",
     "text": [
      "Epoch 1090/5000\n\r30/30 [==============================] - 0s 0s/sample - loss: 212.1615\n"
     ]
    },
    {
     "name": "stdout",
     "output_type": "stream",
     "text": [
      "Epoch 1091/5000\n\r30/30 [==============================] - 0s 0s/sample - loss: 211.9428\n"
     ]
    },
    {
     "name": "stdout",
     "output_type": "stream",
     "text": [
      "Epoch 1092/5000\n"
     ]
    },
    {
     "name": "stdout",
     "output_type": "stream",
     "text": [
      "\r30/30 [==============================] - 0s 333us/sample - loss: 211.7245\n"
     ]
    },
    {
     "name": "stdout",
     "output_type": "stream",
     "text": [
      "Epoch 1093/5000\n\r30/30 [==============================] - 0s 0s/sample - loss: 211.5066\n"
     ]
    },
    {
     "name": "stdout",
     "output_type": "stream",
     "text": [
      "Epoch 1094/5000\n\r30/30 [==============================] - 0s 0s/sample - loss: 211.2890\n"
     ]
    },
    {
     "name": "stdout",
     "output_type": "stream",
     "text": [
      "Epoch 1095/5000\n\r30/30 [==============================] - 0s 0s/sample - loss: 211.0718\n"
     ]
    },
    {
     "name": "stdout",
     "output_type": "stream",
     "text": [
      "Epoch 1096/5000\n"
     ]
    },
    {
     "name": "stdout",
     "output_type": "stream",
     "text": [
      "\r30/30 [==============================] - 0s 333us/sample - loss: 210.8549\n"
     ]
    },
    {
     "name": "stdout",
     "output_type": "stream",
     "text": [
      "Epoch 1097/5000\n\r30/30 [==============================] - 0s 0s/sample - loss: 210.6385\n"
     ]
    },
    {
     "name": "stdout",
     "output_type": "stream",
     "text": [
      "Epoch 1098/5000\n\r30/30 [==============================] - 0s 0s/sample - loss: 210.4223\n"
     ]
    },
    {
     "name": "stdout",
     "output_type": "stream",
     "text": [
      "Epoch 1099/5000\n\r30/30 [==============================] - 0s 0s/sample - loss: 210.2065\n"
     ]
    },
    {
     "name": "stdout",
     "output_type": "stream",
     "text": [
      "Epoch 1100/5000\n"
     ]
    },
    {
     "name": "stdout",
     "output_type": "stream",
     "text": [
      "\r30/30 [==============================] - 0s 0s/sample - loss: 209.9911\n"
     ]
    },
    {
     "name": "stdout",
     "output_type": "stream",
     "text": [
      "Epoch 1101/5000\n\r30/30 [==============================] - 0s 0s/sample - loss: 209.7760\n"
     ]
    },
    {
     "name": "stdout",
     "output_type": "stream",
     "text": [
      "Epoch 1102/5000\n\r30/30 [==============================] - 0s 0s/sample - loss: 209.5613\n"
     ]
    },
    {
     "name": "stdout",
     "output_type": "stream",
     "text": [
      "Epoch 1103/5000\n\r30/30 [==============================] - 0s 0s/sample - loss: 209.3469\n"
     ]
    },
    {
     "name": "stdout",
     "output_type": "stream",
     "text": [
      "Epoch 1104/5000\n\r30/30 [==============================] - 0s 0s/sample - loss: 209.1330\n"
     ]
    },
    {
     "name": "stdout",
     "output_type": "stream",
     "text": [
      "Epoch 1105/5000\n\r30/30 [==============================] - 0s 0s/sample - loss: 208.9193\n"
     ]
    },
    {
     "name": "stdout",
     "output_type": "stream",
     "text": [
      "Epoch 1106/5000\n\r30/30 [==============================] - 0s 0s/sample - loss: 208.7060\n"
     ]
    },
    {
     "name": "stdout",
     "output_type": "stream",
     "text": [
      "Epoch 1107/5000\n\r30/30 [==============================] - 0s 0s/sample - loss: 208.4931\n"
     ]
    },
    {
     "name": "stdout",
     "output_type": "stream",
     "text": [
      "Epoch 1108/5000\n\r30/30 [==============================] - 0s 0s/sample - loss: 208.2805\n"
     ]
    },
    {
     "name": "stdout",
     "output_type": "stream",
     "text": [
      "Epoch 1109/5000\n\r30/30 [==============================] - 0s 333us/sample - loss: 208.0684\n"
     ]
    },
    {
     "name": "stdout",
     "output_type": "stream",
     "text": [
      "Epoch 1110/5000\n\r30/30 [==============================] - 0s 0s/sample - loss: 207.8565\n"
     ]
    },
    {
     "name": "stdout",
     "output_type": "stream",
     "text": [
      "Epoch 1111/5000\n\r30/30 [==============================] - 0s 0s/sample - loss: 207.6451\n"
     ]
    },
    {
     "name": "stdout",
     "output_type": "stream",
     "text": [
      "Epoch 1112/5000\n\r30/30 [==============================] - 0s 0s/sample - loss: 207.4339\n"
     ]
    },
    {
     "name": "stdout",
     "output_type": "stream",
     "text": [
      "Epoch 1113/5000\n"
     ]
    },
    {
     "name": "stdout",
     "output_type": "stream",
     "text": [
      "\r30/30 [==============================] - 0s 333us/sample - loss: 207.2231\n"
     ]
    },
    {
     "name": "stdout",
     "output_type": "stream",
     "text": [
      "Epoch 1114/5000\n\r30/30 [==============================] - 0s 0s/sample - loss: 207.0126\n"
     ]
    },
    {
     "name": "stdout",
     "output_type": "stream",
     "text": [
      "Epoch 1115/5000\n\r30/30 [==============================] - 0s 0s/sample - loss: 206.8026\n"
     ]
    },
    {
     "name": "stdout",
     "output_type": "stream",
     "text": [
      "Epoch 1116/5000\n\r30/30 [==============================] - 0s 0s/sample - loss: 206.5928\n"
     ]
    },
    {
     "name": "stdout",
     "output_type": "stream",
     "text": [
      "Epoch 1117/5000\n"
     ]
    },
    {
     "name": "stdout",
     "output_type": "stream",
     "text": [
      "\r30/30 [==============================] - 0s 333us/sample - loss: 206.3835\n"
     ]
    },
    {
     "name": "stdout",
     "output_type": "stream",
     "text": [
      "Epoch 1118/5000\n\r30/30 [==============================] - 0s 0s/sample - loss: 206.1744\n"
     ]
    },
    {
     "name": "stdout",
     "output_type": "stream",
     "text": [
      "Epoch 1119/5000\n\r30/30 [==============================] - 0s 0s/sample - loss: 205.9658\n"
     ]
    },
    {
     "name": "stdout",
     "output_type": "stream",
     "text": [
      "Epoch 1120/5000\n\r30/30 [==============================] - 0s 0s/sample - loss: 205.7574\n"
     ]
    },
    {
     "name": "stdout",
     "output_type": "stream",
     "text": [
      "Epoch 1121/5000\n"
     ]
    },
    {
     "name": "stdout",
     "output_type": "stream",
     "text": [
      "\r30/30 [==============================] - 0s 0s/sample - loss: 205.5495\n"
     ]
    },
    {
     "name": "stdout",
     "output_type": "stream",
     "text": [
      "Epoch 1122/5000\n\r30/30 [==============================] - 0s 0s/sample - loss: 205.3418\n"
     ]
    },
    {
     "name": "stdout",
     "output_type": "stream",
     "text": [
      "Epoch 1123/5000\n\r30/30 [==============================] - 0s 0s/sample - loss: 205.1345\n"
     ]
    },
    {
     "name": "stdout",
     "output_type": "stream",
     "text": [
      "Epoch 1124/5000\n\r30/30 [==============================] - 0s 0s/sample - loss: 204.9277\n"
     ]
    },
    {
     "name": "stdout",
     "output_type": "stream",
     "text": [
      "Epoch 1125/5000\n\r30/30 [==============================] - 0s 333us/sample - loss: 204.7211\n"
     ]
    },
    {
     "name": "stdout",
     "output_type": "stream",
     "text": [
      "Epoch 1126/5000\n\r30/30 [==============================] - 0s 0s/sample - loss: 204.5149\n"
     ]
    },
    {
     "name": "stdout",
     "output_type": "stream",
     "text": [
      "Epoch 1127/5000\n\r30/30 [==============================] - 0s 0s/sample - loss: 204.3090\n"
     ]
    },
    {
     "name": "stdout",
     "output_type": "stream",
     "text": [
      "Epoch 1128/5000\n\r30/30 [==============================] - 0s 0s/sample - loss: 204.1035\n"
     ]
    },
    {
     "name": "stdout",
     "output_type": "stream",
     "text": [
      "Epoch 1129/5000\n\r30/30 [==============================] - 0s 0s/sample - loss: 203.8983\n"
     ]
    },
    {
     "name": "stdout",
     "output_type": "stream",
     "text": [
      "Epoch 1130/5000\n\r30/30 [==============================] - 0s 0s/sample - loss: 203.6935\n"
     ]
    },
    {
     "name": "stdout",
     "output_type": "stream",
     "text": [
      "Epoch 1131/5000\n\r30/30 [==============================] - 0s 0s/sample - loss: 203.4890\n"
     ]
    },
    {
     "name": "stdout",
     "output_type": "stream",
     "text": [
      "Epoch 1132/5000\n\r30/30 [==============================] - 0s 0s/sample - loss: 203.2849\n"
     ]
    },
    {
     "name": "stdout",
     "output_type": "stream",
     "text": [
      "Epoch 1133/5000\n\r30/30 [==============================] - 0s 0s/sample - loss: 203.0811\n"
     ]
    },
    {
     "name": "stdout",
     "output_type": "stream",
     "text": [
      "Epoch 1134/5000\n\r30/30 [==============================] - 0s 333us/sample - loss: 202.8775\n"
     ]
    },
    {
     "name": "stdout",
     "output_type": "stream",
     "text": [
      "Epoch 1135/5000\n\r30/30 [==============================] - 0s 0s/sample - loss: 202.6745\n"
     ]
    },
    {
     "name": "stdout",
     "output_type": "stream",
     "text": [
      "Epoch 1136/5000\n\r30/30 [==============================] - 0s 0s/sample - loss: 202.4717\n"
     ]
    },
    {
     "name": "stdout",
     "output_type": "stream",
     "text": [
      "Epoch 1137/5000\n\r30/30 [==============================] - 0s 0s/sample - loss: 202.2693\n"
     ]
    },
    {
     "name": "stdout",
     "output_type": "stream",
     "text": [
      "Epoch 1138/5000"
     ]
    },
    {
     "name": "stdout",
     "output_type": "stream",
     "text": [
      "\n\r30/30 [==============================] - 0s 333us/sample - loss: 202.0672\n"
     ]
    },
    {
     "name": "stdout",
     "output_type": "stream",
     "text": [
      "Epoch 1139/5000\n\r30/30 [==============================] - 0s 0s/sample - loss: 201.8655\n"
     ]
    },
    {
     "name": "stdout",
     "output_type": "stream",
     "text": [
      "Epoch 1140/5000\n\r30/30 [==============================] - 0s 0s/sample - loss: 201.6642\n"
     ]
    },
    {
     "name": "stdout",
     "output_type": "stream",
     "text": [
      "Epoch 1141/5000\n\r30/30 [==============================] - 0s 0s/sample - loss: 201.4631\n"
     ]
    },
    {
     "name": "stdout",
     "output_type": "stream",
     "text": [
      "Epoch 1142/5000\n\r30/30 [==============================] - 0s 333us/sample - loss: 201.2624\n"
     ]
    },
    {
     "name": "stdout",
     "output_type": "stream",
     "text": [
      "Epoch 1143/5000\n\r30/30 [==============================] - 0s 0s/sample - loss: 201.0621\n"
     ]
    },
    {
     "name": "stdout",
     "output_type": "stream",
     "text": [
      "Epoch 1144/5000\n\r30/30 [==============================] - 0s 0s/sample - loss: 200.8620\n"
     ]
    },
    {
     "name": "stdout",
     "output_type": "stream",
     "text": [
      "Epoch 1145/5000\n\r30/30 [==============================] - 0s 0s/sample - loss: 200.6624\n"
     ]
    },
    {
     "name": "stdout",
     "output_type": "stream",
     "text": [
      "Epoch 1146/5000"
     ]
    },
    {
     "name": "stdout",
     "output_type": "stream",
     "text": [
      "\n\r30/30 [==============================] - 0s 333us/sample - loss: 200.4630\n"
     ]
    },
    {
     "name": "stdout",
     "output_type": "stream",
     "text": [
      "Epoch 1147/5000\n\r30/30 [==============================] - 0s 0s/sample - loss: 200.2641\n"
     ]
    },
    {
     "name": "stdout",
     "output_type": "stream",
     "text": [
      "Epoch 1148/5000\n\r30/30 [==============================] - 0s 0s/sample - loss: 200.0654\n"
     ]
    },
    {
     "name": "stdout",
     "output_type": "stream",
     "text": [
      "Epoch 1149/5000\n\r30/30 [==============================] - 0s 0s/sample - loss: 199.8670\n"
     ]
    },
    {
     "name": "stdout",
     "output_type": "stream",
     "text": [
      "Epoch 1150/5000"
     ]
    },
    {
     "name": "stdout",
     "output_type": "stream",
     "text": [
      "\n\r30/30 [==============================] - 0s 333us/sample - loss: 199.6691\n"
     ]
    },
    {
     "name": "stdout",
     "output_type": "stream",
     "text": [
      "Epoch 1151/5000\n\r30/30 [==============================] - 0s 0s/sample - loss: 199.4715\n"
     ]
    },
    {
     "name": "stdout",
     "output_type": "stream",
     "text": [
      "Epoch 1152/5000\n\r30/30 [==============================] - 0s 0s/sample - loss: 199.2742\n"
     ]
    },
    {
     "name": "stdout",
     "output_type": "stream",
     "text": [
      "Epoch 1153/5000\n\r30/30 [==============================] - 0s 0s/sample - loss: 199.0772\n"
     ]
    },
    {
     "name": "stdout",
     "output_type": "stream",
     "text": [
      "Epoch 1154/5000\n\r30/30 [==============================] - 0s 333us/sample - loss: 198.8806\n"
     ]
    },
    {
     "name": "stdout",
     "output_type": "stream",
     "text": [
      "Epoch 1155/5000\n\r30/30 [==============================] - 0s 0s/sample - loss: 198.6844\n"
     ]
    },
    {
     "name": "stdout",
     "output_type": "stream",
     "text": [
      "Epoch 1156/5000\n\r30/30 [==============================] - 0s 0s/sample - loss: 198.4885\n"
     ]
    },
    {
     "name": "stdout",
     "output_type": "stream",
     "text": [
      "Epoch 1157/5000\n\r30/30 [==============================] - 0s 0s/sample - loss: 198.2928\n"
     ]
    },
    {
     "name": "stdout",
     "output_type": "stream",
     "text": [
      "Epoch 1158/5000\n\r30/30 [==============================] - 0s 0s/sample - loss: 198.0976\n"
     ]
    },
    {
     "name": "stdout",
     "output_type": "stream",
     "text": [
      "Epoch 1159/5000\n\r30/30 [==============================] - 0s 0s/sample - loss: 197.9026\n"
     ]
    },
    {
     "name": "stdout",
     "output_type": "stream",
     "text": [
      "Epoch 1160/5000\n\r30/30 [==============================] - 0s 0s/sample - loss: 197.7080\n"
     ]
    },
    {
     "name": "stdout",
     "output_type": "stream",
     "text": [
      "Epoch 1161/5000\n\r30/30 [==============================] - 0s 0s/sample - loss: 197.5137\n"
     ]
    },
    {
     "name": "stdout",
     "output_type": "stream",
     "text": [
      "Epoch 1162/5000\n\r30/30 [==============================] - 0s 0s/sample - loss: 197.3198\n"
     ]
    },
    {
     "name": "stdout",
     "output_type": "stream",
     "text": [
      "Epoch 1163/5000\n\r30/30 [==============================] - 0s 333us/sample - loss: 197.1262\n"
     ]
    },
    {
     "name": "stdout",
     "output_type": "stream",
     "text": [
      "Epoch 1164/5000\n\r30/30 [==============================] - 0s 0s/sample - loss: 196.9329\n"
     ]
    },
    {
     "name": "stdout",
     "output_type": "stream",
     "text": [
      "Epoch 1165/5000\n\r30/30 [==============================] - 0s 0s/sample - loss: 196.7401\n"
     ]
    },
    {
     "name": "stdout",
     "output_type": "stream",
     "text": [
      "Epoch 1166/5000\n\r30/30 [==============================] - 0s 0s/sample - loss: 196.5475\n"
     ]
    },
    {
     "name": "stdout",
     "output_type": "stream",
     "text": [
      "Epoch 1167/5000\n"
     ]
    },
    {
     "name": "stdout",
     "output_type": "stream",
     "text": [
      "\r30/30 [==============================] - 0s 333us/sample - loss: 196.3553\n"
     ]
    },
    {
     "name": "stdout",
     "output_type": "stream",
     "text": [
      "Epoch 1168/5000\n\r30/30 [==============================] - 0s 0s/sample - loss: 196.1633\n"
     ]
    },
    {
     "name": "stdout",
     "output_type": "stream",
     "text": [
      "Epoch 1169/5000\n\r30/30 [==============================] - 0s 0s/sample - loss: 195.9717\n"
     ]
    },
    {
     "name": "stdout",
     "output_type": "stream",
     "text": [
      "Epoch 1170/5000\n\r30/30 [==============================] - 0s 0s/sample - loss: 195.7804\n"
     ]
    },
    {
     "name": "stdout",
     "output_type": "stream",
     "text": [
      "Epoch 1171/5000\n"
     ]
    },
    {
     "name": "stdout",
     "output_type": "stream",
     "text": [
      "\r30/30 [==============================] - 0s 333us/sample - loss: 195.5896\n"
     ]
    },
    {
     "name": "stdout",
     "output_type": "stream",
     "text": [
      "Epoch 1172/5000\n\r30/30 [==============================] - 0s 0s/sample - loss: 195.3989\n"
     ]
    },
    {
     "name": "stdout",
     "output_type": "stream",
     "text": [
      "Epoch 1173/5000\n\r30/30 [==============================] - 0s 0s/sample - loss: 195.2086\n"
     ]
    },
    {
     "name": "stdout",
     "output_type": "stream",
     "text": [
      "Epoch 1174/5000\n\r30/30 [==============================] - 0s 0s/sample - loss: 195.0186\n"
     ]
    },
    {
     "name": "stdout",
     "output_type": "stream",
     "text": [
      "Epoch 1175/5000\n\r30/30 [==============================] - 0s 333us/sample - loss: 194.8290\n"
     ]
    },
    {
     "name": "stdout",
     "output_type": "stream",
     "text": [
      "Epoch 1176/5000\n\r30/30 [==============================] - 0s 0s/sample - loss: 194.6398\n"
     ]
    },
    {
     "name": "stdout",
     "output_type": "stream",
     "text": [
      "Epoch 1177/5000\n\r30/30 [==============================] - 0s 0s/sample - loss: 194.4508\n"
     ]
    },
    {
     "name": "stdout",
     "output_type": "stream",
     "text": [
      "Epoch 1178/5000\n\r30/30 [==============================] - 0s 0s/sample - loss: 194.2622\n"
     ]
    },
    {
     "name": "stdout",
     "output_type": "stream",
     "text": [
      "Epoch 1179/5000\n"
     ]
    },
    {
     "name": "stdout",
     "output_type": "stream",
     "text": [
      "\r30/30 [==============================] - 0s 333us/sample - loss: 194.0739\n"
     ]
    },
    {
     "name": "stdout",
     "output_type": "stream",
     "text": [
      "Epoch 1180/5000\n\r30/30 [==============================] - 0s 0s/sample - loss: 193.8860\n"
     ]
    },
    {
     "name": "stdout",
     "output_type": "stream",
     "text": [
      "Epoch 1181/5000\n\r30/30 [==============================] - 0s 0s/sample - loss: 193.6983\n"
     ]
    },
    {
     "name": "stdout",
     "output_type": "stream",
     "text": [
      "Epoch 1182/5000\n\r30/30 [==============================] - 0s 0s/sample - loss: 193.5110\n"
     ]
    },
    {
     "name": "stdout",
     "output_type": "stream",
     "text": [
      "Epoch 1183/5000\n\r"
     ]
    },
    {
     "name": "stdout",
     "output_type": "stream",
     "text": [
      "30/30 [==============================] - 0s 0s/sample - loss: 193.3240\n"
     ]
    },
    {
     "name": "stdout",
     "output_type": "stream",
     "text": [
      "Epoch 1184/5000\n\r30/30 [==============================] - 0s 0s/sample - loss: 193.1373\n"
     ]
    },
    {
     "name": "stdout",
     "output_type": "stream",
     "text": [
      "Epoch 1185/5000\n\r30/30 [==============================] - 0s 0s/sample - loss: 192.9510\n"
     ]
    },
    {
     "name": "stdout",
     "output_type": "stream",
     "text": [
      "Epoch 1186/5000\n\r30/30 [==============================] - 0s 0s/sample - loss: 192.7649\n"
     ]
    },
    {
     "name": "stdout",
     "output_type": "stream",
     "text": [
      "Epoch 1187/5000\n\r30/30 [==============================] - 0s 0s/sample - loss: 192.5792\n"
     ]
    },
    {
     "name": "stdout",
     "output_type": "stream",
     "text": [
      "Epoch 1188/5000\n\r30/30 [==============================] - 0s 0s/sample - loss: 192.3939\n"
     ]
    },
    {
     "name": "stdout",
     "output_type": "stream",
     "text": [
      "Epoch 1189/5000\n\r30/30 [==============================] - 0s 0s/sample - loss: 192.2088\n"
     ]
    },
    {
     "name": "stdout",
     "output_type": "stream",
     "text": [
      "Epoch 1190/5000\n\r30/30 [==============================] - 0s 0s/sample - loss: 192.0242\n"
     ]
    },
    {
     "name": "stdout",
     "output_type": "stream",
     "text": [
      "Epoch 1191/5000\n"
     ]
    },
    {
     "name": "stdout",
     "output_type": "stream",
     "text": [
      "\r30/30 [==============================] - 0s 333us/sample - loss: 191.8398\n"
     ]
    },
    {
     "name": "stdout",
     "output_type": "stream",
     "text": [
      "Epoch 1192/5000\n\r30/30 [==============================] - 0s 0s/sample - loss: 191.6557\n"
     ]
    },
    {
     "name": "stdout",
     "output_type": "stream",
     "text": [
      "Epoch 1193/5000\n\r30/30 [==============================] - 0s 0s/sample - loss: 191.4720\n"
     ]
    },
    {
     "name": "stdout",
     "output_type": "stream",
     "text": [
      "Epoch 1194/5000\n\r30/30 [==============================] - 0s 0s/sample - loss: 191.2885\n"
     ]
    },
    {
     "name": "stdout",
     "output_type": "stream",
     "text": [
      "Epoch 1195/5000\n\r30/30 [==============================] - 0s 333us/sample - loss: 191.1054\n"
     ]
    },
    {
     "name": "stdout",
     "output_type": "stream",
     "text": [
      "Epoch 1196/5000\n\r30/30 [==============================] - 0s 0s/sample - loss: 190.9226\n"
     ]
    },
    {
     "name": "stdout",
     "output_type": "stream",
     "text": [
      "Epoch 1197/5000\n\r30/30 [==============================] - 0s 0s/sample - loss: 190.7402\n"
     ]
    },
    {
     "name": "stdout",
     "output_type": "stream",
     "text": [
      "Epoch 1198/5000\n\r30/30 [==============================] - 0s 0s/sample - loss: 190.5580\n"
     ]
    },
    {
     "name": "stdout",
     "output_type": "stream",
     "text": [
      "Epoch 1199/5000\n"
     ]
    },
    {
     "name": "stdout",
     "output_type": "stream",
     "text": [
      "\r30/30 [==============================] - 0s 333us/sample - loss: 190.3762\n"
     ]
    },
    {
     "name": "stdout",
     "output_type": "stream",
     "text": [
      "Epoch 1200/5000\n\r30/30 [==============================] - 0s 0s/sample - loss: 190.1946\n"
     ]
    },
    {
     "name": "stdout",
     "output_type": "stream",
     "text": [
      "Epoch 1201/5000\n\r30/30 [==============================] - 0s 0s/sample - loss: 190.0135\n"
     ]
    },
    {
     "name": "stdout",
     "output_type": "stream",
     "text": [
      "Epoch 1202/5000\n\r30/30 [==============================] - 0s 0s/sample - loss: 189.8326\n"
     ]
    },
    {
     "name": "stdout",
     "output_type": "stream",
     "text": [
      "Epoch 1203/5000\n"
     ]
    },
    {
     "name": "stdout",
     "output_type": "stream",
     "text": [
      "\r30/30 [==============================] - 0s 333us/sample - loss: 189.6521\n"
     ]
    },
    {
     "name": "stdout",
     "output_type": "stream",
     "text": [
      "Epoch 1204/5000\n\r30/30 [==============================] - 0s 0s/sample - loss: 189.4719\n"
     ]
    },
    {
     "name": "stdout",
     "output_type": "stream",
     "text": [
      "Epoch 1205/5000\n\r30/30 [==============================] - 0s 0s/sample - loss: 189.2920\n"
     ]
    },
    {
     "name": "stdout",
     "output_type": "stream",
     "text": [
      "Epoch 1206/5000\n\r30/30 [==============================] - 0s 0s/sample - loss: 189.1124\n"
     ]
    },
    {
     "name": "stdout",
     "output_type": "stream",
     "text": [
      "Epoch 1207/5000\n"
     ]
    },
    {
     "name": "stdout",
     "output_type": "stream",
     "text": [
      "\r30/30 [==============================] - 0s 333us/sample - loss: 188.9331\n"
     ]
    },
    {
     "name": "stdout",
     "output_type": "stream",
     "text": [
      "Epoch 1208/5000\n\r30/30 [==============================] - 0s 0s/sample - loss: 188.7542\n"
     ]
    },
    {
     "name": "stdout",
     "output_type": "stream",
     "text": [
      "Epoch 1209/5000\n\r30/30 [==============================] - 0s 0s/sample - loss: 188.5755\n"
     ]
    },
    {
     "name": "stdout",
     "output_type": "stream",
     "text": [
      "Epoch 1210/5000\n\r30/30 [==============================] - 0s 0s/sample - loss: 188.3971\n"
     ]
    },
    {
     "name": "stdout",
     "output_type": "stream",
     "text": [
      "Epoch 1211/5000\n\r30/30 [==============================] - 0s 333us/sample - loss: 188.2191\n"
     ]
    },
    {
     "name": "stdout",
     "output_type": "stream",
     "text": [
      "Epoch 1212/5000\n\r30/30 [==============================] - 0s 0s/sample - loss: 188.0414\n"
     ]
    },
    {
     "name": "stdout",
     "output_type": "stream",
     "text": [
      "Epoch 1213/5000\n\r30/30 [==============================] - 0s 0s/sample - loss: 187.8641\n"
     ]
    },
    {
     "name": "stdout",
     "output_type": "stream",
     "text": [
      "Epoch 1214/5000\n\r30/30 [==============================] - 0s 0s/sample - loss: 187.6870\n"
     ]
    },
    {
     "name": "stdout",
     "output_type": "stream",
     "text": [
      "Epoch 1215/5000\n"
     ]
    },
    {
     "name": "stdout",
     "output_type": "stream",
     "text": [
      "\r30/30 [==============================] - 0s 0s/sample - loss: 187.5103\n"
     ]
    },
    {
     "name": "stdout",
     "output_type": "stream",
     "text": [
      "Epoch 1216/5000\n\r30/30 [==============================] - 0s 0s/sample - loss: 187.3338\n"
     ]
    },
    {
     "name": "stdout",
     "output_type": "stream",
     "text": [
      "Epoch 1217/5000\n\r30/30 [==============================] - 0s 0s/sample - loss: 187.1577\n"
     ]
    },
    {
     "name": "stdout",
     "output_type": "stream",
     "text": [
      "Epoch 1218/5000\n\r30/30 [==============================] - 0s 0s/sample - loss: 186.9819\n"
     ]
    },
    {
     "name": "stdout",
     "output_type": "stream",
     "text": [
      "Epoch 1219/5000\n\r30/30 [==============================] - 0s 0s/sample - loss: 186.8064\n"
     ]
    },
    {
     "name": "stdout",
     "output_type": "stream",
     "text": [
      "Epoch 1220/5000\n\r30/30 [==============================] - 0s 0s/sample - loss: 186.6312\n"
     ]
    },
    {
     "name": "stdout",
     "output_type": "stream",
     "text": [
      "Epoch 1221/5000\n\r30/30 [==============================] - 0s 0s/sample - loss: 186.4564\n"
     ]
    },
    {
     "name": "stdout",
     "output_type": "stream",
     "text": [
      "Epoch 1222/5000\n\r30/30 [==============================] - 0s 0s/sample - loss: 186.2818\n"
     ]
    },
    {
     "name": "stdout",
     "output_type": "stream",
     "text": [
      "Epoch 1223/5000\n\r30/30 [==============================] - 0s 0s/sample - loss: 186.1075\n"
     ]
    },
    {
     "name": "stdout",
     "output_type": "stream",
     "text": [
      "Epoch 1224/5000\n\r30/30 [==============================] - 0s 333us/sample - loss: 185.9336\n"
     ]
    },
    {
     "name": "stdout",
     "output_type": "stream",
     "text": [
      "Epoch 1225/5000\n\r30/30 [==============================] - 0s 0s/sample - loss: 185.7599\n"
     ]
    },
    {
     "name": "stdout",
     "output_type": "stream",
     "text": [
      "Epoch 1226/5000\n\r30/30 [==============================] - 0s 0s/sample - loss: 185.5866\n"
     ]
    },
    {
     "name": "stdout",
     "output_type": "stream",
     "text": [
      "Epoch 1227/5000\n\r30/30 [==============================] - 0s 0s/sample - loss: 185.4136\n"
     ]
    },
    {
     "name": "stdout",
     "output_type": "stream",
     "text": [
      "Epoch 1228/5000\n"
     ]
    },
    {
     "name": "stdout",
     "output_type": "stream",
     "text": [
      "\r30/30 [==============================] - 0s 333us/sample - loss: 185.2409\n"
     ]
    },
    {
     "name": "stdout",
     "output_type": "stream",
     "text": [
      "Epoch 1229/5000\n\r30/30 [==============================] - 0s 0s/sample - loss: 185.0685\n"
     ]
    },
    {
     "name": "stdout",
     "output_type": "stream",
     "text": [
      "Epoch 1230/5000\n\r30/30 [==============================] - 0s 0s/sample - loss: 184.8964\n"
     ]
    },
    {
     "name": "stdout",
     "output_type": "stream",
     "text": [
      "Epoch 1231/5000\n\r30/30 [==============================] - 0s 0s/sample - loss: 184.7246\n"
     ]
    },
    {
     "name": "stdout",
     "output_type": "stream",
     "text": [
      "Epoch 1232/5000\n"
     ]
    },
    {
     "name": "stdout",
     "output_type": "stream",
     "text": [
      "\r30/30 [==============================] - 0s 333us/sample - loss: 184.5532\n"
     ]
    },
    {
     "name": "stdout",
     "output_type": "stream",
     "text": [
      "Epoch 1233/5000\n\r30/30 [==============================] - 0s 0s/sample - loss: 184.3820\n"
     ]
    },
    {
     "name": "stdout",
     "output_type": "stream",
     "text": [
      "Epoch 1234/5000\n\r30/30 [==============================] - 0s 0s/sample - loss: 184.2111\n"
     ]
    },
    {
     "name": "stdout",
     "output_type": "stream",
     "text": [
      "Epoch 1235/5000\n\r30/30 [==============================] - 0s 0s/sample - loss: 184.0406\n"
     ]
    },
    {
     "name": "stdout",
     "output_type": "stream",
     "text": [
      "Epoch 1236/5000\n"
     ]
    },
    {
     "name": "stdout",
     "output_type": "stream",
     "text": [
      "\r30/30 [==============================] - 0s 333us/sample - loss: 183.8703\n"
     ]
    },
    {
     "name": "stdout",
     "output_type": "stream",
     "text": [
      "Epoch 1237/5000\n\r30/30 [==============================] - 0s 0s/sample - loss: 183.7004\n"
     ]
    },
    {
     "name": "stdout",
     "output_type": "stream",
     "text": [
      "Epoch 1238/5000\n\r30/30 [==============================] - 0s 0s/sample - loss: 183.5308\n"
     ]
    },
    {
     "name": "stdout",
     "output_type": "stream",
     "text": [
      "Epoch 1239/5000\n\r30/30 [==============================] - 0s 0s/sample - loss: 183.3614\n"
     ]
    },
    {
     "name": "stdout",
     "output_type": "stream",
     "text": [
      "Epoch 1240/5000\n"
     ]
    },
    {
     "name": "stdout",
     "output_type": "stream",
     "text": [
      "\r30/30 [==============================] - 0s 333us/sample - loss: 183.1924\n"
     ]
    },
    {
     "name": "stdout",
     "output_type": "stream",
     "text": [
      "Epoch 1241/5000\n\r30/30 [==============================] - 0s 0s/sample - loss: 183.0237\n"
     ]
    },
    {
     "name": "stdout",
     "output_type": "stream",
     "text": [
      "Epoch 1242/5000\n\r30/30 [==============================] - 0s 0s/sample - loss: 182.8553\n"
     ]
    },
    {
     "name": "stdout",
     "output_type": "stream",
     "text": [
      "Epoch 1243/5000\n\r30/30 [==============================] - 0s 0s/sample - loss: 182.6872\n"
     ]
    },
    {
     "name": "stdout",
     "output_type": "stream",
     "text": [
      "Epoch 1244/5000\n\r30/30 [==============================] - 0s 0s/sample - loss: 182.5193\n"
     ]
    },
    {
     "name": "stdout",
     "output_type": "stream",
     "text": [
      "Epoch 1245/5000\n\r30/30 [==============================] - 0s 333us/sample - loss: 182.3518\n"
     ]
    },
    {
     "name": "stdout",
     "output_type": "stream",
     "text": [
      "Epoch 1246/5000\n\r30/30 [==============================] - 0s 0s/sample - loss: 182.1846\n"
     ]
    },
    {
     "name": "stdout",
     "output_type": "stream",
     "text": [
      "Epoch 1247/5000\n\r30/30 [==============================] - 0s 0s/sample - loss: 182.0177\n"
     ]
    },
    {
     "name": "stdout",
     "output_type": "stream",
     "text": [
      "Epoch 1248/5000\n\r30/30 [==============================] - 0s 0s/sample - loss: 181.8511\n"
     ]
    },
    {
     "name": "stdout",
     "output_type": "stream",
     "text": [
      "Epoch 1249/5000\n\r30/30 [==============================] - 0s 333us/sample - loss: 181.6848\n"
     ]
    },
    {
     "name": "stdout",
     "output_type": "stream",
     "text": [
      "Epoch 1250/5000\n\r30/30 [==============================] - 0s 0s/sample - loss: 181.5188\n"
     ]
    },
    {
     "name": "stdout",
     "output_type": "stream",
     "text": [
      "Epoch 1251/5000\n\r30/30 [==============================] - 0s 0s/sample - loss: 181.3531\n"
     ]
    },
    {
     "name": "stdout",
     "output_type": "stream",
     "text": [
      "Epoch 1252/5000\n\r30/30 [==============================] - 0s 0s/sample - loss: 181.1877\n"
     ]
    },
    {
     "name": "stdout",
     "output_type": "stream",
     "text": [
      "Epoch 1253/5000\n"
     ]
    },
    {
     "name": "stdout",
     "output_type": "stream",
     "text": [
      "\r30/30 [==============================] - 0s 333us/sample - loss: 181.0226\n"
     ]
    },
    {
     "name": "stdout",
     "output_type": "stream",
     "text": [
      "Epoch 1254/5000\n\r30/30 [==============================] - 0s 0s/sample - loss: 180.8578\n"
     ]
    },
    {
     "name": "stdout",
     "output_type": "stream",
     "text": [
      "Epoch 1255/5000\n\r30/30 [==============================] - 0s 0s/sample - loss: 180.6933\n"
     ]
    },
    {
     "name": "stdout",
     "output_type": "stream",
     "text": [
      "Epoch 1256/5000\n\r30/30 [==============================] - 0s 0s/sample - loss: 180.5291\n"
     ]
    },
    {
     "name": "stdout",
     "output_type": "stream",
     "text": [
      "Epoch 1257/5000\n"
     ]
    },
    {
     "name": "stdout",
     "output_type": "stream",
     "text": [
      "\r30/30 [==============================] - 0s 333us/sample - loss: 180.3652\n"
     ]
    },
    {
     "name": "stdout",
     "output_type": "stream",
     "text": [
      "Epoch 1258/5000\n\r30/30 [==============================] - 0s 0s/sample - loss: 180.2016\n"
     ]
    },
    {
     "name": "stdout",
     "output_type": "stream",
     "text": [
      "Epoch 1259/5000\n\r30/30 [==============================] - 0s 0s/sample - loss: 180.0382\n"
     ]
    },
    {
     "name": "stdout",
     "output_type": "stream",
     "text": [
      "Epoch 1260/5000\n\r30/30 [==============================] - 0s 0s/sample - loss: 179.8752\n"
     ]
    },
    {
     "name": "stdout",
     "output_type": "stream",
     "text": [
      "Epoch 1261/5000\n"
     ]
    },
    {
     "name": "stdout",
     "output_type": "stream",
     "text": [
      "\r30/30 [==============================] - 0s 333us/sample - loss: 179.7125\n"
     ]
    },
    {
     "name": "stdout",
     "output_type": "stream",
     "text": [
      "Epoch 1262/5000\n\r30/30 [==============================] - 0s 0s/sample - loss: 179.5501\n"
     ]
    },
    {
     "name": "stdout",
     "output_type": "stream",
     "text": [
      "Epoch 1263/5000\n\r30/30 [==============================] - 0s 0s/sample - loss: 179.3880\n"
     ]
    },
    {
     "name": "stdout",
     "output_type": "stream",
     "text": [
      "Epoch 1264/5000\n\r30/30 [==============================] - 0s 0s/sample - loss: 179.2262\n"
     ]
    },
    {
     "name": "stdout",
     "output_type": "stream",
     "text": [
      "Epoch 1265/5000\n\r30/30 [==============================] - 0s 0s/sample - loss: 179.0646\n"
     ]
    },
    {
     "name": "stdout",
     "output_type": "stream",
     "text": [
      "Epoch 1266/5000\n\r30/30 [==============================] - 0s 333us/sample - loss: 178.9034\n"
     ]
    },
    {
     "name": "stdout",
     "output_type": "stream",
     "text": [
      "Epoch 1267/5000\n\r30/30 [==============================] - 0s 0s/sample - loss: 178.7425\n"
     ]
    },
    {
     "name": "stdout",
     "output_type": "stream",
     "text": [
      "Epoch 1268/5000\n\r30/30 [==============================] - 0s 0s/sample - loss: 178.5817\n"
     ]
    },
    {
     "name": "stdout",
     "output_type": "stream",
     "text": [
      "Epoch 1269/5000\n\r30/30 [==============================] - 0s 0s/sample - loss: 178.4214\n"
     ]
    },
    {
     "name": "stdout",
     "output_type": "stream",
     "text": [
      "Epoch 1270/5000\n"
     ]
    },
    {
     "name": "stdout",
     "output_type": "stream",
     "text": [
      "\r30/30 [==============================] - 0s 333us/sample - loss: 178.2613\n"
     ]
    },
    {
     "name": "stdout",
     "output_type": "stream",
     "text": [
      "Epoch 1271/5000\n\r30/30 [==============================] - 0s 0s/sample - loss: 178.1016\n"
     ]
    },
    {
     "name": "stdout",
     "output_type": "stream",
     "text": [
      "Epoch 1272/5000\n\r30/30 [==============================] - 0s 0s/sample - loss: 177.9421\n"
     ]
    },
    {
     "name": "stdout",
     "output_type": "stream",
     "text": [
      "Epoch 1273/5000\n\r30/30 [==============================] - 0s 0s/sample - loss: 177.7829\n"
     ]
    },
    {
     "name": "stdout",
     "output_type": "stream",
     "text": [
      "Epoch 1274/5000\n"
     ]
    },
    {
     "name": "stdout",
     "output_type": "stream",
     "text": [
      "\r30/30 [==============================] - 0s 0s/sample - loss: 177.6240\n"
     ]
    },
    {
     "name": "stdout",
     "output_type": "stream",
     "text": [
      "Epoch 1275/5000\n\r30/30 [==============================] - 0s 0s/sample - loss: 177.4654\n"
     ]
    },
    {
     "name": "stdout",
     "output_type": "stream",
     "text": [
      "Epoch 1276/5000\n\r30/30 [==============================] - 0s 0s/sample - loss: 177.3071\n"
     ]
    },
    {
     "name": "stdout",
     "output_type": "stream",
     "text": [
      "Epoch 1277/5000\n\r30/30 [==============================] - 0s 0s/sample - loss: 177.1491\n"
     ]
    },
    {
     "name": "stdout",
     "output_type": "stream",
     "text": [
      "Epoch 1278/5000\n"
     ]
    },
    {
     "name": "stdout",
     "output_type": "stream",
     "text": [
      "\r30/30 [==============================] - 0s 333us/sample - loss: 176.9913\n"
     ]
    },
    {
     "name": "stdout",
     "output_type": "stream",
     "text": [
      "Epoch 1279/5000\n\r30/30 [==============================] - 0s 0s/sample - loss: 176.8338\n"
     ]
    },
    {
     "name": "stdout",
     "output_type": "stream",
     "text": [
      "Epoch 1280/5000\n\r30/30 [==============================] - 0s 0s/sample - loss: 176.6768\n"
     ]
    },
    {
     "name": "stdout",
     "output_type": "stream",
     "text": [
      "Epoch 1281/5000\n\r30/30 [==============================] - 0s 0s/sample - loss: 176.5198\n"
     ]
    },
    {
     "name": "stdout",
     "output_type": "stream",
     "text": [
      "Epoch 1282/5000\n\r30/30 [==============================] - 0s 333us/sample - loss: 176.3633\n"
     ]
    },
    {
     "name": "stdout",
     "output_type": "stream",
     "text": [
      "Epoch 1283/5000\n\r30/30 [==============================] - 0s 0s/sample - loss: 176.2069\n"
     ]
    },
    {
     "name": "stdout",
     "output_type": "stream",
     "text": [
      "Epoch 1284/5000\n\r30/30 [==============================] - 0s 0s/sample - loss: 176.0509\n"
     ]
    },
    {
     "name": "stdout",
     "output_type": "stream",
     "text": [
      "Epoch 1285/5000\n\r30/30 [==============================] - 0s 0s/sample - loss: 175.8953\n"
     ]
    },
    {
     "name": "stdout",
     "output_type": "stream",
     "text": [
      "Epoch 1286/5000\n\r30/30 [==============================] - 0s 0s/sample - loss: 175.7398\n"
     ]
    },
    {
     "name": "stdout",
     "output_type": "stream",
     "text": [
      "Epoch 1287/5000\n\r30/30 [==============================] - 0s 0s/sample - loss: 175.5847\n"
     ]
    },
    {
     "name": "stdout",
     "output_type": "stream",
     "text": [
      "Epoch 1288/5000\n\r30/30 [==============================] - 0s 0s/sample - loss: 175.4298\n"
     ]
    },
    {
     "name": "stdout",
     "output_type": "stream",
     "text": [
      "Epoch 1289/5000\n\r30/30 [==============================] - 0s 0s/sample - loss: 175.2753\n"
     ]
    },
    {
     "name": "stdout",
     "output_type": "stream",
     "text": [
      "Epoch 1290/5000\n\r30/30 [==============================] - 0s 0s/sample - loss: 175.1209\n"
     ]
    },
    {
     "name": "stdout",
     "output_type": "stream",
     "text": [
      "Epoch 1291/5000"
     ]
    },
    {
     "name": "stdout",
     "output_type": "stream",
     "text": [
      "\n\r30/30 [==============================] - 0s 333us/sample - loss: 174.9670\n"
     ]
    },
    {
     "name": "stdout",
     "output_type": "stream",
     "text": [
      "Epoch 1292/5000\n\r30/30 [==============================] - 0s 0s/sample - loss: 174.8133\n"
     ]
    },
    {
     "name": "stdout",
     "output_type": "stream",
     "text": [
      "Epoch 1293/5000\n\r30/30 [==============================] - 0s 0s/sample - loss: 174.6599\n"
     ]
    },
    {
     "name": "stdout",
     "output_type": "stream",
     "text": [
      "Epoch 1294/5000\n\r30/30 [==============================] - 0s 0s/sample - loss: 174.5067\n"
     ]
    },
    {
     "name": "stdout",
     "output_type": "stream",
     "text": [
      "Epoch 1295/5000\n"
     ]
    },
    {
     "name": "stdout",
     "output_type": "stream",
     "text": [
      "\r30/30 [==============================] - 0s 334us/sample - loss: 174.3538\n"
     ]
    },
    {
     "name": "stdout",
     "output_type": "stream",
     "text": [
      "Epoch 1296/5000\n\r30/30 [==============================] - 0s 0s/sample - loss: 174.2013\n"
     ]
    },
    {
     "name": "stdout",
     "output_type": "stream",
     "text": [
      "Epoch 1297/5000\n\r30/30 [==============================] - 0s 0s/sample - loss: 174.0490\n"
     ]
    },
    {
     "name": "stdout",
     "output_type": "stream",
     "text": [
      "Epoch 1298/5000\n\r30/30 [==============================] - 0s 0s/sample - loss: 173.8970\n"
     ]
    },
    {
     "name": "stdout",
     "output_type": "stream",
     "text": [
      "Epoch 1299/5000\n\r30/30 [==============================] - 0s 333us/sample - loss: 173.7453\n"
     ]
    },
    {
     "name": "stdout",
     "output_type": "stream",
     "text": [
      "Epoch 1300/5000\n\r30/30 [==============================] - 0s 0s/sample - loss: 173.5938\n"
     ]
    },
    {
     "name": "stdout",
     "output_type": "stream",
     "text": [
      "Epoch 1301/5000\n\r30/30 [==============================] - 0s 0s/sample - loss: 173.4426\n"
     ]
    },
    {
     "name": "stdout",
     "output_type": "stream",
     "text": [
      "Epoch 1302/5000\n\r30/30 [==============================] - 0s 0s/sample - loss: 173.2918\n"
     ]
    },
    {
     "name": "stdout",
     "output_type": "stream",
     "text": [
      "Epoch 1303/5000\n"
     ]
    },
    {
     "name": "stdout",
     "output_type": "stream",
     "text": [
      "\r30/30 [==============================] - 0s 333us/sample - loss: 173.1411\n"
     ]
    },
    {
     "name": "stdout",
     "output_type": "stream",
     "text": [
      "Epoch 1304/5000\n\r30/30 [==============================] - 0s 0s/sample - loss: 172.9909\n"
     ]
    },
    {
     "name": "stdout",
     "output_type": "stream",
     "text": [
      "Epoch 1305/5000\n\r30/30 [==============================] - 0s 0s/sample - loss: 172.8408\n"
     ]
    },
    {
     "name": "stdout",
     "output_type": "stream",
     "text": [
      "Epoch 1306/5000\n\r30/30 [==============================] - 0s 0s/sample - loss: 172.6910\n"
     ]
    },
    {
     "name": "stdout",
     "output_type": "stream",
     "text": [
      "Epoch 1307/5000\n\r30/30 [==============================] - 0s 0s/sample - loss: 172.5416\n"
     ]
    },
    {
     "name": "stdout",
     "output_type": "stream",
     "text": [
      "Epoch 1308/5000\n\r30/30 [==============================] - 0s 0s/sample - loss: 172.3924\n"
     ]
    },
    {
     "name": "stdout",
     "output_type": "stream",
     "text": [
      "Epoch 1309/5000\n\r30/30 [==============================] - 0s 0s/sample - loss: 172.2435\n"
     ]
    },
    {
     "name": "stdout",
     "output_type": "stream",
     "text": [
      "Epoch 1310/5000\n\r30/30 [==============================] - 0s 0s/sample - loss: 172.0949\n"
     ]
    },
    {
     "name": "stdout",
     "output_type": "stream",
     "text": [
      "Epoch 1311/5000\n\r30/30 [==============================] - 0s 0s/sample - loss: 171.9465\n"
     ]
    },
    {
     "name": "stdout",
     "output_type": "stream",
     "text": [
      "Epoch 1312/5000\n\r30/30 [==============================] - 0s 0s/sample - loss: 171.7984\n"
     ]
    },
    {
     "name": "stdout",
     "output_type": "stream",
     "text": [
      "Epoch 1313/5000\n\r30/30 [==============================] - 0s 0s/sample - loss: 171.6506\n"
     ]
    },
    {
     "name": "stdout",
     "output_type": "stream",
     "text": [
      "Epoch 1314/5000\n\r30/30 [==============================] - 0s 0s/sample - loss: 171.5030\n"
     ]
    },
    {
     "name": "stdout",
     "output_type": "stream",
     "text": [
      "Epoch 1315/5000\n\r30/30 [==============================] - 0s 0s/sample - loss: 171.3558\n"
     ]
    },
    {
     "name": "stdout",
     "output_type": "stream",
     "text": [
      "Epoch 1316/5000\n"
     ]
    },
    {
     "name": "stdout",
     "output_type": "stream",
     "text": [
      "\r30/30 [==============================] - 0s 333us/sample - loss: 171.2088\n"
     ]
    },
    {
     "name": "stdout",
     "output_type": "stream",
     "text": [
      "Epoch 1317/5000\n\r30/30 [==============================] - 0s 0s/sample - loss: 171.0621\n"
     ]
    },
    {
     "name": "stdout",
     "output_type": "stream",
     "text": [
      "Epoch 1318/5000\n\r30/30 [==============================] - 0s 0s/sample - loss: 170.9157\n"
     ]
    },
    {
     "name": "stdout",
     "output_type": "stream",
     "text": [
      "Epoch 1319/5000\n\r30/30 [==============================] - 0s 0s/sample - loss: 170.7695\n"
     ]
    },
    {
     "name": "stdout",
     "output_type": "stream",
     "text": [
      "Epoch 1320/5000\n\r30/30 [==============================] - 0s 0s/sample - loss: 170.6236\n"
     ]
    },
    {
     "name": "stdout",
     "output_type": "stream",
     "text": [
      "Epoch 1321/5000\n\r30/30 [==============================] - 0s 0s/sample - loss: 170.4781\n"
     ]
    },
    {
     "name": "stdout",
     "output_type": "stream",
     "text": [
      "Epoch 1322/5000\n\r30/30 [==============================] - 0s 0s/sample - loss: 170.3327\n"
     ]
    },
    {
     "name": "stdout",
     "output_type": "stream",
     "text": [
      "Epoch 1323/5000\n\r30/30 [==============================] - 0s 0s/sample - loss: 170.1877\n"
     ]
    },
    {
     "name": "stdout",
     "output_type": "stream",
     "text": [
      "Epoch 1324/5000\n\r30/30 [==============================] - 0s 333us/sample - loss: 170.0429\n"
     ]
    },
    {
     "name": "stdout",
     "output_type": "stream",
     "text": [
      "Epoch 1325/5000\n\r30/30 [==============================] - 0s 0s/sample - loss: 169.8984\n"
     ]
    },
    {
     "name": "stdout",
     "output_type": "stream",
     "text": [
      "Epoch 1326/5000\n\r30/30 [==============================] - 0s 0s/sample - loss: 169.7541\n"
     ]
    },
    {
     "name": "stdout",
     "output_type": "stream",
     "text": [
      "Epoch 1327/5000\n\r30/30 [==============================] - 0s 0s/sample - loss: 169.6102\n"
     ]
    },
    {
     "name": "stdout",
     "output_type": "stream",
     "text": [
      "Epoch 1328/5000\n\r30/30 [==============================] - 0s 0s/sample - loss: 169.4665\n"
     ]
    },
    {
     "name": "stdout",
     "output_type": "stream",
     "text": [
      "Epoch 1329/5000\n\r30/30 [==============================] - 0s 0s/sample - loss: 169.3231\n"
     ]
    },
    {
     "name": "stdout",
     "output_type": "stream",
     "text": [
      "Epoch 1330/5000\n\r30/30 [==============================] - 0s 0s/sample - loss: 169.1799\n"
     ]
    },
    {
     "name": "stdout",
     "output_type": "stream",
     "text": [
      "Epoch 1331/5000\n\r30/30 [==============================] - 0s 0s/sample - loss: 169.0371\n"
     ]
    },
    {
     "name": "stdout",
     "output_type": "stream",
     "text": [
      "Epoch 1332/5000\n\r30/30 [==============================] - 0s 0s/sample - loss: 168.8945\n"
     ]
    },
    {
     "name": "stdout",
     "output_type": "stream",
     "text": [
      "Epoch 1333/5000\n\r30/30 [==============================] - 0s 333us/sample - loss: 168.7521\n"
     ]
    },
    {
     "name": "stdout",
     "output_type": "stream",
     "text": [
      "Epoch 1334/5000\n\r30/30 [==============================] - 0s 0s/sample - loss: 168.6101\n"
     ]
    },
    {
     "name": "stdout",
     "output_type": "stream",
     "text": [
      "Epoch 1335/5000\n\r30/30 [==============================] - 0s 0s/sample - loss: 168.4683\n"
     ]
    },
    {
     "name": "stdout",
     "output_type": "stream",
     "text": [
      "Epoch 1336/5000\n\r30/30 [==============================] - 0s 0s/sample - loss: 168.3268\n"
     ]
    },
    {
     "name": "stdout",
     "output_type": "stream",
     "text": [
      "Epoch 1337/5000\n\r30/30 [==============================] - 0s 333us/sample - loss: 168.1855\n"
     ]
    },
    {
     "name": "stdout",
     "output_type": "stream",
     "text": [
      "Epoch 1338/5000\n\r30/30 [==============================] - 0s 0s/sample - loss: 168.0445\n"
     ]
    },
    {
     "name": "stdout",
     "output_type": "stream",
     "text": [
      "Epoch 1339/5000\n\r30/30 [==============================] - 0s 0s/sample - loss: 167.9037\n"
     ]
    },
    {
     "name": "stdout",
     "output_type": "stream",
     "text": [
      "Epoch 1340/5000\n\r30/30 [==============================] - 0s 0s/sample - loss: 167.7634\n"
     ]
    },
    {
     "name": "stdout",
     "output_type": "stream",
     "text": [
      "Epoch 1341/5000\n"
     ]
    },
    {
     "name": "stdout",
     "output_type": "stream",
     "text": [
      "\r30/30 [==============================] - 0s 333us/sample - loss: 167.6231\n"
     ]
    },
    {
     "name": "stdout",
     "output_type": "stream",
     "text": [
      "Epoch 1342/5000\n\r30/30 [==============================] - 0s 0s/sample - loss: 167.4832\n"
     ]
    },
    {
     "name": "stdout",
     "output_type": "stream",
     "text": [
      "Epoch 1343/5000\n\r30/30 [==============================] - 0s 0s/sample - loss: 167.3436\n"
     ]
    },
    {
     "name": "stdout",
     "output_type": "stream",
     "text": [
      "Epoch 1344/5000\n\r30/30 [==============================] - 0s 0s/sample - loss: 167.2042\n"
     ]
    },
    {
     "name": "stdout",
     "output_type": "stream",
     "text": [
      "Epoch 1345/5000\n"
     ]
    },
    {
     "name": "stdout",
     "output_type": "stream",
     "text": [
      "\r30/30 [==============================] - 0s 333us/sample - loss: 167.0651\n"
     ]
    },
    {
     "name": "stdout",
     "output_type": "stream",
     "text": [
      "Epoch 1346/5000\n\r30/30 [==============================] - 0s 0s/sample - loss: 166.9262\n"
     ]
    },
    {
     "name": "stdout",
     "output_type": "stream",
     "text": [
      "Epoch 1347/5000\n\r30/30 [==============================] - 0s 0s/sample - loss: 166.7876\n"
     ]
    },
    {
     "name": "stdout",
     "output_type": "stream",
     "text": [
      "Epoch 1348/5000\n\r30/30 [==============================] - 0s 0s/sample - loss: 166.6493\n"
     ]
    },
    {
     "name": "stdout",
     "output_type": "stream",
     "text": [
      "Epoch 1349/5000\n\r30/30 [==============================] - 0s 0s/sample - loss: 166.5112\n"
     ]
    },
    {
     "name": "stdout",
     "output_type": "stream",
     "text": [
      "Epoch 1350/5000\n\r30/30 [==============================] - 0s 0s/sample - loss: 166.3734\n"
     ]
    },
    {
     "name": "stdout",
     "output_type": "stream",
     "text": [
      "Epoch 1351/5000\n\r30/30 [==============================] - 0s 0s/sample - loss: 166.2359\n"
     ]
    },
    {
     "name": "stdout",
     "output_type": "stream",
     "text": [
      "Epoch 1352/5000\n\r30/30 [==============================] - 0s 0s/sample - loss: 166.0987\n"
     ]
    },
    {
     "name": "stdout",
     "output_type": "stream",
     "text": [
      "Epoch 1353/5000\n\r30/30 [==============================] - 0s 0s/sample - loss: 165.9617\n"
     ]
    },
    {
     "name": "stdout",
     "output_type": "stream",
     "text": [
      "Epoch 1354/5000\n\r30/30 [==============================] - 0s 333us/sample - loss: 165.8249\n"
     ]
    },
    {
     "name": "stdout",
     "output_type": "stream",
     "text": [
      "Epoch 1355/5000\n\r30/30 [==============================] - 0s 0s/sample - loss: 165.6884\n"
     ]
    },
    {
     "name": "stdout",
     "output_type": "stream",
     "text": [
      "Epoch 1356/5000\n\r30/30 [==============================] - 0s 0s/sample - loss: 165.5522\n"
     ]
    },
    {
     "name": "stdout",
     "output_type": "stream",
     "text": [
      "Epoch 1357/5000\n\r30/30 [==============================] - 0s 0s/sample - loss: 165.4163\n"
     ]
    },
    {
     "name": "stdout",
     "output_type": "stream",
     "text": [
      "Epoch 1358/5000\n\r30/30 [==============================] - 0s 333us/sample - loss: 165.2806\n"
     ]
    },
    {
     "name": "stdout",
     "output_type": "stream",
     "text": [
      "Epoch 1359/5000\n\r30/30 [==============================] - 0s 0s/sample - loss: 165.1452\n"
     ]
    },
    {
     "name": "stdout",
     "output_type": "stream",
     "text": [
      "Epoch 1360/5000\n\r30/30 [==============================] - 0s 0s/sample - loss: 165.0099\n"
     ]
    },
    {
     "name": "stdout",
     "output_type": "stream",
     "text": [
      "Epoch 1361/5000\n\r30/30 [==============================] - 0s 0s/sample - loss: 164.8750\n"
     ]
    },
    {
     "name": "stdout",
     "output_type": "stream",
     "text": [
      "Epoch 1362/5000\n"
     ]
    },
    {
     "name": "stdout",
     "output_type": "stream",
     "text": [
      "\r30/30 [==============================] - 0s 333us/sample - loss: 164.7404\n"
     ]
    },
    {
     "name": "stdout",
     "output_type": "stream",
     "text": [
      "Epoch 1363/5000\n\r30/30 [==============================] - 0s 0s/sample - loss: 164.6060\n"
     ]
    },
    {
     "name": "stdout",
     "output_type": "stream",
     "text": [
      "Epoch 1364/5000\n\r30/30 [==============================] - 0s 0s/sample - loss: 164.4719\n"
     ]
    },
    {
     "name": "stdout",
     "output_type": "stream",
     "text": [
      "Epoch 1365/5000\n\r30/30 [==============================] - 0s 0s/sample - loss: 164.3380\n"
     ]
    },
    {
     "name": "stdout",
     "output_type": "stream",
     "text": [
      "Epoch 1366/5000\n"
     ]
    },
    {
     "name": "stdout",
     "output_type": "stream",
     "text": [
      "\r30/30 [==============================] - 0s 333us/sample - loss: 164.2044\n"
     ]
    },
    {
     "name": "stdout",
     "output_type": "stream",
     "text": [
      "Epoch 1367/5000\n\r30/30 [==============================] - 0s 0s/sample - loss: 164.0710\n"
     ]
    },
    {
     "name": "stdout",
     "output_type": "stream",
     "text": [
      "Epoch 1368/5000\n\r30/30 [==============================] - 0s 0s/sample - loss: 163.9380\n"
     ]
    },
    {
     "name": "stdout",
     "output_type": "stream",
     "text": [
      "Epoch 1369/5000\n\r30/30 [==============================] - 0s 0s/sample - loss: 163.8051\n"
     ]
    },
    {
     "name": "stdout",
     "output_type": "stream",
     "text": [
      "Epoch 1370/5000\n\r30/30 [==============================] - 0s 333us/sample - loss: 163.6725\n"
     ]
    },
    {
     "name": "stdout",
     "output_type": "stream",
     "text": [
      "Epoch 1371/5000\n\r30/30 [==============================] - 0s 0s/sample - loss: 163.5401\n"
     ]
    },
    {
     "name": "stdout",
     "output_type": "stream",
     "text": [
      "Epoch 1372/5000\n\r30/30 [==============================] - 0s 0s/sample - loss: 163.4081\n"
     ]
    },
    {
     "name": "stdout",
     "output_type": "stream",
     "text": [
      "Epoch 1373/5000\n\r30/30 [==============================] - 0s 0s/sample - loss: 163.2762\n"
     ]
    },
    {
     "name": "stdout",
     "output_type": "stream",
     "text": [
      "Epoch 1374/5000\n"
     ]
    },
    {
     "name": "stdout",
     "output_type": "stream",
     "text": [
      "\r30/30 [==============================] - 0s 333us/sample - loss: 163.1446\n"
     ]
    },
    {
     "name": "stdout",
     "output_type": "stream",
     "text": [
      "Epoch 1375/5000\n\r30/30 [==============================] - 0s 0s/sample - loss: 163.0134\n"
     ]
    },
    {
     "name": "stdout",
     "output_type": "stream",
     "text": [
      "Epoch 1376/5000\n\r30/30 [==============================] - 0s 0s/sample - loss: 162.8823\n"
     ]
    },
    {
     "name": "stdout",
     "output_type": "stream",
     "text": [
      "Epoch 1377/5000\n\r30/30 [==============================] - 0s 0s/sample - loss: 162.7515\n"
     ]
    },
    {
     "name": "stdout",
     "output_type": "stream",
     "text": [
      "Epoch 1378/5000\n"
     ]
    },
    {
     "name": "stdout",
     "output_type": "stream",
     "text": [
      "\r30/30 [==============================] - 0s 333us/sample - loss: 162.6209\n"
     ]
    },
    {
     "name": "stdout",
     "output_type": "stream",
     "text": [
      "Epoch 1379/5000\n\r30/30 [==============================] - 0s 0s/sample - loss: 162.4907\n"
     ]
    },
    {
     "name": "stdout",
     "output_type": "stream",
     "text": [
      "Epoch 1380/5000\n\r30/30 [==============================] - 0s 0s/sample - loss: 162.3606\n"
     ]
    },
    {
     "name": "stdout",
     "output_type": "stream",
     "text": [
      "Epoch 1381/5000\n\r30/30 [==============================] - 0s 0s/sample - loss: 162.2309\n"
     ]
    },
    {
     "name": "stdout",
     "output_type": "stream",
     "text": [
      "Epoch 1382/5000\n"
     ]
    },
    {
     "name": "stdout",
     "output_type": "stream",
     "text": [
      "\r30/30 [==============================] - 0s 333us/sample - loss: 162.1013\n"
     ]
    },
    {
     "name": "stdout",
     "output_type": "stream",
     "text": [
      "Epoch 1383/5000\n\r30/30 [==============================] - 0s 0s/sample - loss: 161.9720\n"
     ]
    },
    {
     "name": "stdout",
     "output_type": "stream",
     "text": [
      "Epoch 1384/5000\n\r30/30 [==============================] - 0s 0s/sample - loss: 161.8430\n"
     ]
    },
    {
     "name": "stdout",
     "output_type": "stream",
     "text": [
      "Epoch 1385/5000\n\r30/30 [==============================] - 0s 0s/sample - loss: 161.7142\n"
     ]
    },
    {
     "name": "stdout",
     "output_type": "stream",
     "text": [
      "Epoch 1386/5000\n"
     ]
    },
    {
     "name": "stdout",
     "output_type": "stream",
     "text": [
      "\r30/30 [==============================] - 0s 333us/sample - loss: 161.5857\n"
     ]
    },
    {
     "name": "stdout",
     "output_type": "stream",
     "text": [
      "Epoch 1387/5000\n\r30/30 [==============================] - 0s 0s/sample - loss: 161.4574\n"
     ]
    },
    {
     "name": "stdout",
     "output_type": "stream",
     "text": [
      "Epoch 1388/5000\n\r30/30 [==============================] - 0s 0s/sample - loss: 161.3294\n"
     ]
    },
    {
     "name": "stdout",
     "output_type": "stream",
     "text": [
      "Epoch 1389/5000\n\r30/30 [==============================] - 0s 0s/sample - loss: 161.2016\n"
     ]
    },
    {
     "name": "stdout",
     "output_type": "stream",
     "text": [
      "Epoch 1390/5000\n\r30/30 [==============================] - 0s 333us/sample - loss: 161.0741\n"
     ]
    },
    {
     "name": "stdout",
     "output_type": "stream",
     "text": [
      "Epoch 1391/5000\n\r30/30 [==============================] - 0s 0s/sample - loss: 160.9469\n"
     ]
    },
    {
     "name": "stdout",
     "output_type": "stream",
     "text": [
      "Epoch 1392/5000\n\r30/30 [==============================] - 0s 0s/sample - loss: 160.8198\n"
     ]
    },
    {
     "name": "stdout",
     "output_type": "stream",
     "text": [
      "Epoch 1393/5000\n\r30/30 [==============================] - 0s 0s/sample - loss: 160.6931\n"
     ]
    },
    {
     "name": "stdout",
     "output_type": "stream",
     "text": [
      "Epoch 1394/5000\n\r30/30 [==============================] - 0s 333us/sample - loss: 160.5665\n"
     ]
    },
    {
     "name": "stdout",
     "output_type": "stream",
     "text": [
      "Epoch 1395/5000\n\r30/30 [==============================] - 0s 0s/sample - loss: 160.4402\n"
     ]
    },
    {
     "name": "stdout",
     "output_type": "stream",
     "text": [
      "Epoch 1396/5000\n\r30/30 [==============================] - 0s 0s/sample - loss: 160.3142\n"
     ]
    },
    {
     "name": "stdout",
     "output_type": "stream",
     "text": [
      "Epoch 1397/5000\n\r30/30 [==============================] - 0s 0s/sample - loss: 160.1885\n"
     ]
    },
    {
     "name": "stdout",
     "output_type": "stream",
     "text": [
      "Epoch 1398/5000\n"
     ]
    },
    {
     "name": "stdout",
     "output_type": "stream",
     "text": [
      "\r30/30 [==============================] - 0s 333us/sample - loss: 160.0629\n"
     ]
    },
    {
     "name": "stdout",
     "output_type": "stream",
     "text": [
      "Epoch 1399/5000\n\r30/30 [==============================] - 0s 0s/sample - loss: 159.9377\n"
     ]
    },
    {
     "name": "stdout",
     "output_type": "stream",
     "text": [
      "Epoch 1400/5000\n\r30/30 [==============================] - 0s 0s/sample - loss: 159.8126\n"
     ]
    },
    {
     "name": "stdout",
     "output_type": "stream",
     "text": [
      "Epoch 1401/5000\n\r30/30 [==============================] - 0s 0s/sample - loss: 159.6878\n"
     ]
    },
    {
     "name": "stdout",
     "output_type": "stream",
     "text": [
      "Epoch 1402/5000\n\r30/30 [==============================] - 0s 333us/sample - loss: 159.5632\n"
     ]
    },
    {
     "name": "stdout",
     "output_type": "stream",
     "text": [
      "Epoch 1403/5000\n\r30/30 [==============================] - 0s 0s/sample - loss: 159.4389\n"
     ]
    },
    {
     "name": "stdout",
     "output_type": "stream",
     "text": [
      "Epoch 1404/5000\n\r30/30 [==============================] - 0s 0s/sample - loss: 159.3149\n"
     ]
    },
    {
     "name": "stdout",
     "output_type": "stream",
     "text": [
      "Epoch 1405/5000\n\r30/30 [==============================] - 0s 0s/sample - loss: 159.1911\n"
     ]
    },
    {
     "name": "stdout",
     "output_type": "stream",
     "text": [
      "Epoch 1406/5000\n\r30/30 [==============================] - 0s 0s/sample - loss: 159.0675\n"
     ]
    },
    {
     "name": "stdout",
     "output_type": "stream",
     "text": [
      "Epoch 1407/5000\n\r30/30 [==============================] - 0s 0s/sample - loss: 158.9442\n"
     ]
    },
    {
     "name": "stdout",
     "output_type": "stream",
     "text": [
      "Epoch 1408/5000\n\r30/30 [==============================] - 0s 0s/sample - loss: 158.8211\n"
     ]
    },
    {
     "name": "stdout",
     "output_type": "stream",
     "text": [
      "Epoch 1409/5000\n\r30/30 [==============================] - 0s 0s/sample - loss: 158.6983\n"
     ]
    },
    {
     "name": "stdout",
     "output_type": "stream",
     "text": [
      "Epoch 1410/5000\n\r30/30 [==============================] - 0s 0s/sample - loss: 158.5757\n"
     ]
    },
    {
     "name": "stdout",
     "output_type": "stream",
     "text": [
      "Epoch 1411/5000\n\r30/30 [==============================] - 0s 0s/sample - loss: 158.4533\n"
     ]
    },
    {
     "name": "stdout",
     "output_type": "stream",
     "text": [
      "Epoch 1412/5000\n\r30/30 [==============================] - 0s 0s/sample - loss: 158.3313\n"
     ]
    },
    {
     "name": "stdout",
     "output_type": "stream",
     "text": [
      "Epoch 1413/5000\n\r30/30 [==============================] - 0s 0s/sample - loss: 158.2094\n"
     ]
    },
    {
     "name": "stdout",
     "output_type": "stream",
     "text": [
      "Epoch 1414/5000\n\r30/30 [==============================] - 0s 0s/sample - loss: 158.0878\n"
     ]
    },
    {
     "name": "stdout",
     "output_type": "stream",
     "text": [
      "Epoch 1415/5000\n\r30/30 [==============================] - 0s 0s/sample - loss: 157.9664\n"
     ]
    },
    {
     "name": "stdout",
     "output_type": "stream",
     "text": [
      "Epoch 1416/5000\n\r30/30 [==============================] - 0s 0s/sample - loss: 157.8452\n"
     ]
    },
    {
     "name": "stdout",
     "output_type": "stream",
     "text": [
      "Epoch 1417/5000\n\r30/30 [==============================] - 0s 0s/sample - loss: 157.7243\n"
     ]
    },
    {
     "name": "stdout",
     "output_type": "stream",
     "text": [
      "Epoch 1418/5000\n\r30/30 [==============================] - 0s 333us/sample - loss: 157.6037\n"
     ]
    },
    {
     "name": "stdout",
     "output_type": "stream",
     "text": [
      "Epoch 1419/5000\n\r30/30 [==============================] - 0s 0s/sample - loss: 157.4833\n"
     ]
    },
    {
     "name": "stdout",
     "output_type": "stream",
     "text": [
      "Epoch 1420/5000\n\r30/30 [==============================] - 0s 0s/sample - loss: 157.3630\n"
     ]
    },
    {
     "name": "stdout",
     "output_type": "stream",
     "text": [
      "Epoch 1421/5000\n\r30/30 [==============================] - 0s 0s/sample - loss: 157.2431\n"
     ]
    },
    {
     "name": "stdout",
     "output_type": "stream",
     "text": [
      "Epoch 1422/5000\n\r30/30 [==============================] - 0s 333us/sample - loss: 157.1234\n"
     ]
    },
    {
     "name": "stdout",
     "output_type": "stream",
     "text": [
      "Epoch 1423/5000\n\r30/30 [==============================] - 0s 0s/sample - loss: 157.0040\n"
     ]
    },
    {
     "name": "stdout",
     "output_type": "stream",
     "text": [
      "Epoch 1424/5000\n\r30/30 [==============================] - 0s 0s/sample - loss: 156.8847\n"
     ]
    },
    {
     "name": "stdout",
     "output_type": "stream",
     "text": [
      "Epoch 1425/5000\n\r30/30 [==============================] - 0s 0s/sample - loss: 156.7658\n"
     ]
    },
    {
     "name": "stdout",
     "output_type": "stream",
     "text": [
      "Epoch 1426/5000\n\r30/30 [==============================] - 0s 0s/sample - loss: 156.6470\n"
     ]
    },
    {
     "name": "stdout",
     "output_type": "stream",
     "text": [
      "Epoch 1427/5000\n\r30/30 [==============================] - 0s 0s/sample - loss: 156.5285\n"
     ]
    },
    {
     "name": "stdout",
     "output_type": "stream",
     "text": [
      "Epoch 1428/5000\n\r30/30 [==============================] - 0s 0s/sample - loss: 156.4102\n"
     ]
    },
    {
     "name": "stdout",
     "output_type": "stream",
     "text": [
      "Epoch 1429/5000\n\r30/30 [==============================] - 0s 0s/sample - loss: 156.2922\n"
     ]
    },
    {
     "name": "stdout",
     "output_type": "stream",
     "text": [
      "Epoch 1430/5000\n\r30/30 [==============================] - 0s 0s/sample - loss: 156.1744\n"
     ]
    },
    {
     "name": "stdout",
     "output_type": "stream",
     "text": [
      "Epoch 1431/5000\n\r30/30 [==============================] - 0s 333us/sample - loss: 156.0568\n"
     ]
    },
    {
     "name": "stdout",
     "output_type": "stream",
     "text": [
      "Epoch 1432/5000\n\r30/30 [==============================] - 0s 0s/sample - loss: 155.9395\n"
     ]
    },
    {
     "name": "stdout",
     "output_type": "stream",
     "text": [
      "Epoch 1433/5000\n\r30/30 [==============================] - 0s 0s/sample - loss: 155.8224\n"
     ]
    },
    {
     "name": "stdout",
     "output_type": "stream",
     "text": [
      "Epoch 1434/5000\n\r30/30 [==============================] - 0s 0s/sample - loss: 155.7056\n"
     ]
    },
    {
     "name": "stdout",
     "output_type": "stream",
     "text": [
      "Epoch 1435/5000\n"
     ]
    },
    {
     "name": "stdout",
     "output_type": "stream",
     "text": [
      "\r30/30 [==============================] - 0s 0s/sample - loss: 155.5889\n"
     ]
    },
    {
     "name": "stdout",
     "output_type": "stream",
     "text": [
      "Epoch 1436/5000\n\r30/30 [==============================] - 0s 0s/sample - loss: 155.4726\n"
     ]
    },
    {
     "name": "stdout",
     "output_type": "stream",
     "text": [
      "Epoch 1437/5000\n\r30/30 [==============================] - 0s 0s/sample - loss: 155.3564\n"
     ]
    },
    {
     "name": "stdout",
     "output_type": "stream",
     "text": [
      "Epoch 1438/5000\n\r30/30 [==============================] - 0s 0s/sample - loss: 155.2405\n"
     ]
    },
    {
     "name": "stdout",
     "output_type": "stream",
     "text": [
      "Epoch 1439/5000\n\r30/30 [==============================] - 0s 0s/sample - loss: 155.1248\n"
     ]
    },
    {
     "name": "stdout",
     "output_type": "stream",
     "text": [
      "Epoch 1440/5000\n\r30/30 [==============================] - 0s 0s/sample - loss: 155.0093\n"
     ]
    },
    {
     "name": "stdout",
     "output_type": "stream",
     "text": [
      "Epoch 1441/5000\n\r30/30 [==============================] - 0s 0s/sample - loss: 154.8941\n"
     ]
    },
    {
     "name": "stdout",
     "output_type": "stream",
     "text": [
      "Epoch 1442/5000\n\r30/30 [==============================] - 0s 0s/sample - loss: 154.7791\n"
     ]
    },
    {
     "name": "stdout",
     "output_type": "stream",
     "text": [
      "Epoch 1443/5000\n\r30/30 [==============================] - 0s 0s/sample - loss: 154.6644\n"
     ]
    },
    {
     "name": "stdout",
     "output_type": "stream",
     "text": [
      "Epoch 1444/5000\n"
     ]
    },
    {
     "name": "stdout",
     "output_type": "stream",
     "text": [
      "\r30/30 [==============================] - 0s 333us/sample - loss: 154.5498\n"
     ]
    },
    {
     "name": "stdout",
     "output_type": "stream",
     "text": [
      "Epoch 1445/5000\n\r30/30 [==============================] - 0s 0s/sample - loss: 154.4355\n"
     ]
    },
    {
     "name": "stdout",
     "output_type": "stream",
     "text": [
      "Epoch 1446/5000\n\r30/30 [==============================] - 0s 0s/sample - loss: 154.3215\n"
     ]
    },
    {
     "name": "stdout",
     "output_type": "stream",
     "text": [
      "Epoch 1447/5000\n\r30/30 [==============================] - 0s 0s/sample - loss: 154.2077\n"
     ]
    },
    {
     "name": "stdout",
     "output_type": "stream",
     "text": [
      "Epoch 1448/5000\n"
     ]
    },
    {
     "name": "stdout",
     "output_type": "stream",
     "text": [
      "\r30/30 [==============================] - 0s 333us/sample - loss: 154.0941\n"
     ]
    },
    {
     "name": "stdout",
     "output_type": "stream",
     "text": [
      "Epoch 1449/5000\n\r30/30 [==============================] - 0s 0s/sample - loss: 153.9807\n"
     ]
    },
    {
     "name": "stdout",
     "output_type": "stream",
     "text": [
      "Epoch 1450/5000\n\r30/30 [==============================] - 0s 0s/sample - loss: 153.8676\n"
     ]
    },
    {
     "name": "stdout",
     "output_type": "stream",
     "text": [
      "Epoch 1451/5000\n\r30/30 [==============================] - 0s 0s/sample - loss: 153.7546\n"
     ]
    },
    {
     "name": "stdout",
     "output_type": "stream",
     "text": [
      "Epoch 1452/5000\n\r30/30 [==============================]"
     ]
    },
    {
     "name": "stdout",
     "output_type": "stream",
     "text": [
      " - 0s 0s/sample - loss: 153.6419\n"
     ]
    },
    {
     "name": "stdout",
     "output_type": "stream",
     "text": [
      "Epoch 1453/5000\n\r30/30 [==============================] - 0s 0s/sample - loss: 153.5295\n"
     ]
    },
    {
     "name": "stdout",
     "output_type": "stream",
     "text": [
      "Epoch 1454/5000\n\r30/30 [==============================] - 0s 0s/sample - loss: 153.4172\n"
     ]
    },
    {
     "name": "stdout",
     "output_type": "stream",
     "text": [
      "Epoch 1455/5000\n\r30/30 [==============================] - 0s 0s/sample - loss: 153.3052\n"
     ]
    },
    {
     "name": "stdout",
     "output_type": "stream",
     "text": [
      "Epoch 1456/5000\n"
     ]
    },
    {
     "name": "stdout",
     "output_type": "stream",
     "text": [
      "\r30/30 [==============================] - 0s 0s/sample - loss: 153.1935\n"
     ]
    },
    {
     "name": "stdout",
     "output_type": "stream",
     "text": [
      "Epoch 1457/5000\n\r30/30 [==============================] - 0s 0s/sample - loss: 153.0820\n"
     ]
    },
    {
     "name": "stdout",
     "output_type": "stream",
     "text": [
      "Epoch 1458/5000\n\r30/30 [==============================] - 0s 0s/sample - loss: 152.9706\n"
     ]
    },
    {
     "name": "stdout",
     "output_type": "stream",
     "text": [
      "Epoch 1459/5000\n\r30/30 [==============================] - 0s 0s/sample - loss: 152.8596\n"
     ]
    },
    {
     "name": "stdout",
     "output_type": "stream",
     "text": [
      "Epoch 1460/5000\n\r30/30 [==============================] - 0s 333us/sample - loss: 152.7487\n"
     ]
    },
    {
     "name": "stdout",
     "output_type": "stream",
     "text": [
      "Epoch 1461/5000\n\r30/30 [==============================] - 0s 0s/sample - loss: 152.6381\n"
     ]
    },
    {
     "name": "stdout",
     "output_type": "stream",
     "text": [
      "Epoch 1462/5000\n\r30/30 [==============================] - 0s 0s/sample - loss: 152.5277\n"
     ]
    },
    {
     "name": "stdout",
     "output_type": "stream",
     "text": [
      "Epoch 1463/5000\n\r30/30 [==============================] - 0s 0s/sample - loss: 152.4175\n"
     ]
    },
    {
     "name": "stdout",
     "output_type": "stream",
     "text": [
      "Epoch 1464/5000\n\r30/30 [==============================] - 0s 0s/sample - loss: 152.3075\n"
     ]
    },
    {
     "name": "stdout",
     "output_type": "stream",
     "text": [
      "Epoch 1465/5000\n\r30/30 [==============================] - 0s 0s/sample - loss: 152.1977\n"
     ]
    },
    {
     "name": "stdout",
     "output_type": "stream",
     "text": [
      "Epoch 1466/5000\n\r30/30 [==============================] - 0s 0s/sample - loss: 152.0882\n"
     ]
    },
    {
     "name": "stdout",
     "output_type": "stream",
     "text": [
      "Epoch 1467/5000\n\r30/30 [==============================] - 0s 0s/sample - loss: 151.9789\n"
     ]
    },
    {
     "name": "stdout",
     "output_type": "stream",
     "text": [
      "Epoch 1468/5000\n\r30/30 [==============================] - 0s 0s/sample - loss: 151.8699\n"
     ]
    },
    {
     "name": "stdout",
     "output_type": "stream",
     "text": [
      "Epoch 1469/5000\n\r30/30 [==============================] - 0s 333us/sample - loss: 151.7610\n"
     ]
    },
    {
     "name": "stdout",
     "output_type": "stream",
     "text": [
      "Epoch 1470/5000\n\r30/30 [==============================] - 0s 0s/sample - loss: 151.6525\n"
     ]
    },
    {
     "name": "stdout",
     "output_type": "stream",
     "text": [
      "Epoch 1471/5000\n\r30/30 [==============================] - 0s 0s/sample - loss: 151.5441\n"
     ]
    },
    {
     "name": "stdout",
     "output_type": "stream",
     "text": [
      "Epoch 1472/5000\n\r30/30 [==============================] - 0s 0s/sample - loss: 151.4359\n"
     ]
    },
    {
     "name": "stdout",
     "output_type": "stream",
     "text": [
      "Epoch 1473/5000\n"
     ]
    },
    {
     "name": "stdout",
     "output_type": "stream",
     "text": [
      "\r30/30 [==============================] - 0s 333us/sample - loss: 151.3280\n"
     ]
    },
    {
     "name": "stdout",
     "output_type": "stream",
     "text": [
      "Epoch 1474/5000\n\r30/30 [==============================] - 0s 0s/sample - loss: 151.2202\n"
     ]
    },
    {
     "name": "stdout",
     "output_type": "stream",
     "text": [
      "Epoch 1475/5000\n\r30/30 [==============================] - 0s 0s/sample - loss: 151.1127\n"
     ]
    },
    {
     "name": "stdout",
     "output_type": "stream",
     "text": [
      "Epoch 1476/5000\n\r30/30 [==============================] - 0s 0s/sample - loss: 151.0054\n"
     ]
    },
    {
     "name": "stdout",
     "output_type": "stream",
     "text": [
      "Epoch 1477/5000\n\r30/30 [==============================] - 0s 0s/sample - loss: 150.8984\n"
     ]
    },
    {
     "name": "stdout",
     "output_type": "stream",
     "text": [
      "Epoch 1478/5000\n\r30/30 [==============================] - 0s 0s/sample - loss: 150.7915\n"
     ]
    },
    {
     "name": "stdout",
     "output_type": "stream",
     "text": [
      "Epoch 1479/5000\n\r30/30 [==============================] - 0s 0s/sample - loss: 150.6849\n"
     ]
    },
    {
     "name": "stdout",
     "output_type": "stream",
     "text": [
      "Epoch 1480/5000\n\r30/30 [==============================] - 0s 0s/sample - loss: 150.5784\n"
     ]
    },
    {
     "name": "stdout",
     "output_type": "stream",
     "text": [
      "Epoch 1481/5000\n\r30/30 [==============================]"
     ]
    },
    {
     "name": "stdout",
     "output_type": "stream",
     "text": [
      " - 0s 0s/sample - loss: 150.4723\n"
     ]
    },
    {
     "name": "stdout",
     "output_type": "stream",
     "text": [
      "Epoch 1482/5000\n\r30/30 [==============================] - 0s 0s/sample - loss: 150.3663\n"
     ]
    },
    {
     "name": "stdout",
     "output_type": "stream",
     "text": [
      "Epoch 1483/5000\n\r30/30 [==============================] - 0s 0s/sample - loss: 150.2606\n"
     ]
    },
    {
     "name": "stdout",
     "output_type": "stream",
     "text": [
      "Epoch 1484/5000\n\r30/30 [==============================] - 0s 0s/sample - loss: 150.1551\n"
     ]
    },
    {
     "name": "stdout",
     "output_type": "stream",
     "text": [
      "Epoch 1485/5000\n\r30/30 [==============================] - 0s 333us/sample - loss: 150.0497\n"
     ]
    },
    {
     "name": "stdout",
     "output_type": "stream",
     "text": [
      "Epoch 1486/5000\n\r30/30 [==============================] - 0s 0s/sample - loss: 149.9447\n"
     ]
    },
    {
     "name": "stdout",
     "output_type": "stream",
     "text": [
      "Epoch 1487/5000\n\r30/30 [==============================] - 0s 0s/sample - loss: 149.8398\n"
     ]
    },
    {
     "name": "stdout",
     "output_type": "stream",
     "text": [
      "Epoch 1488/5000\n\r30/30 [==============================] - 0s 0s/sample - loss: 149.7351\n"
     ]
    },
    {
     "name": "stdout",
     "output_type": "stream",
     "text": [
      "Epoch 1489/5000\n\r30/30 [==============================] - 0s 0s/sample - loss: 149.6307\n"
     ]
    },
    {
     "name": "stdout",
     "output_type": "stream",
     "text": [
      "Epoch 1490/5000\n\r30/30 [==============================] - 0s 333us/sample - loss: 149.5264\n"
     ]
    },
    {
     "name": "stdout",
     "output_type": "stream",
     "text": [
      "Epoch 1491/5000\n\r30/30 [==============================] - 0s 0s/sample - loss: 149.4224\n"
     ]
    },
    {
     "name": "stdout",
     "output_type": "stream",
     "text": [
      "Epoch 1492/5000\n\r30/30 [==============================] - 0s 0s/sample - loss: 149.3186\n"
     ]
    },
    {
     "name": "stdout",
     "output_type": "stream",
     "text": [
      "Epoch 1493/5000\n\r30/30 [==============================] - 0s 0s/sample - loss: 149.2150\n"
     ]
    },
    {
     "name": "stdout",
     "output_type": "stream",
     "text": [
      "Epoch 1494/5000\n"
     ]
    },
    {
     "name": "stdout",
     "output_type": "stream",
     "text": [
      "\r30/30 [==============================] - 0s 333us/sample - loss: 149.1116\n"
     ]
    },
    {
     "name": "stdout",
     "output_type": "stream",
     "text": [
      "Epoch 1495/5000\n\r30/30 [==============================] - 0s 0s/sample - loss: 149.0085\n"
     ]
    },
    {
     "name": "stdout",
     "output_type": "stream",
     "text": [
      "Epoch 1496/5000\n\r30/30 [==============================] - 0s 0s/sample - loss: 148.9056\n"
     ]
    },
    {
     "name": "stdout",
     "output_type": "stream",
     "text": [
      "Epoch 1497/5000\n\r30/30 [==============================] - 0s 0s/sample - loss: 148.8029\n"
     ]
    },
    {
     "name": "stdout",
     "output_type": "stream",
     "text": [
      "Epoch 1498/5000\n"
     ]
    },
    {
     "name": "stdout",
     "output_type": "stream",
     "text": [
      "\r30/30 [==============================] - 0s 333us/sample - loss: 148.7004\n"
     ]
    },
    {
     "name": "stdout",
     "output_type": "stream",
     "text": [
      "Epoch 1499/5000\n\r30/30 [==============================] - 0s 0s/sample - loss: 148.5981\n"
     ]
    },
    {
     "name": "stdout",
     "output_type": "stream",
     "text": [
      "Epoch 1500/5000\n\r30/30 [==============================] - 0s 0s/sample - loss: 148.4961\n"
     ]
    },
    {
     "name": "stdout",
     "output_type": "stream",
     "text": [
      "Epoch 1501/5000\n\r30/30 [==============================] - 0s 0s/sample - loss: 148.3942\n"
     ]
    },
    {
     "name": "stdout",
     "output_type": "stream",
     "text": [
      "Epoch 1502/5000\n\r30/30 [==============================] - 0s 333us/sample - loss: 148.2925\n"
     ]
    },
    {
     "name": "stdout",
     "output_type": "stream",
     "text": [
      "Epoch 1503/5000\n\r30/30 [==============================] - 0s 0s/sample - loss: 148.1911\n"
     ]
    },
    {
     "name": "stdout",
     "output_type": "stream",
     "text": [
      "Epoch 1504/5000\n\r30/30 [==============================] - 0s 0s/sample - loss: 148.0898\n"
     ]
    },
    {
     "name": "stdout",
     "output_type": "stream",
     "text": [
      "Epoch 1505/5000\n\r30/30 [==============================] - 0s 0s/sample - loss: 147.9888\n"
     ]
    },
    {
     "name": "stdout",
     "output_type": "stream",
     "text": [
      "Epoch 1506/5000\n"
     ]
    },
    {
     "name": "stdout",
     "output_type": "stream",
     "text": [
      "\r30/30 [==============================] - 0s 333us/sample - loss: 147.8880\n"
     ]
    },
    {
     "name": "stdout",
     "output_type": "stream",
     "text": [
      "Epoch 1507/5000\n\r30/30 [==============================] - 0s 0s/sample - loss: 147.7874\n"
     ]
    },
    {
     "name": "stdout",
     "output_type": "stream",
     "text": [
      "Epoch 1508/5000\n\r30/30 [==============================] - 0s 0s/sample - loss: 147.6870\n"
     ]
    },
    {
     "name": "stdout",
     "output_type": "stream",
     "text": [
      "Epoch 1509/5000\n\r30/30 [==============================] - 0s 0s/sample - loss: 147.5869\n"
     ]
    },
    {
     "name": "stdout",
     "output_type": "stream",
     "text": [
      "Epoch 1510/5000\n"
     ]
    },
    {
     "name": "stdout",
     "output_type": "stream",
     "text": [
      "\r30/30 [==============================] - 0s 333us/sample - loss: 147.4869\n"
     ]
    },
    {
     "name": "stdout",
     "output_type": "stream",
     "text": [
      "Epoch 1511/5000\n\r30/30 [==============================] - 0s 0s/sample - loss: 147.3872\n"
     ]
    },
    {
     "name": "stdout",
     "output_type": "stream",
     "text": [
      "Epoch 1512/5000\n\r30/30 [==============================] - 0s 0s/sample - loss: 147.2876\n"
     ]
    },
    {
     "name": "stdout",
     "output_type": "stream",
     "text": [
      "Epoch 1513/5000\n\r30/30 [==============================] - 0s 0s/sample - loss: 147.1883\n"
     ]
    },
    {
     "name": "stdout",
     "output_type": "stream",
     "text": [
      "Epoch 1514/5000\n\r30/30 [==============================] - 0s 0s/sample - loss: 147.0892\n"
     ]
    },
    {
     "name": "stdout",
     "output_type": "stream",
     "text": [
      "Epoch 1515/5000\n\r30/30 [==============================] - 0s 0s/sample - loss: 146.9903\n"
     ]
    },
    {
     "name": "stdout",
     "output_type": "stream",
     "text": [
      "Epoch 1516/5000\n\r30/30 [==============================] - 0s 0s/sample - loss: 146.8916\n"
     ]
    },
    {
     "name": "stdout",
     "output_type": "stream",
     "text": [
      "Epoch 1517/5000\n\r30/30 [==============================] - 0s 0s/sample - loss: 146.7930\n"
     ]
    },
    {
     "name": "stdout",
     "output_type": "stream",
     "text": [
      "Epoch 1518/5000\n\r30/30 [==============================] - 0s 0s/sample - loss: 146.6948\n"
     ]
    },
    {
     "name": "stdout",
     "output_type": "stream",
     "text": [
      "Epoch 1519/5000\n\r30/30 [==============================] - 0s 333us/sample - loss: 146.5967\n"
     ]
    },
    {
     "name": "stdout",
     "output_type": "stream",
     "text": [
      "Epoch 1520/5000\n\r30/30 [==============================] - 0s 0s/sample - loss: 146.4988\n"
     ]
    },
    {
     "name": "stdout",
     "output_type": "stream",
     "text": [
      "Epoch 1521/5000\n\r30/30 [==============================] - 0s 0s/sample - loss: 146.4011\n"
     ]
    },
    {
     "name": "stdout",
     "output_type": "stream",
     "text": [
      "Epoch 1522/5000\n\r30/30 [==============================] - 0s 0s/sample - loss: 146.3036\n"
     ]
    },
    {
     "name": "stdout",
     "output_type": "stream",
     "text": [
      "Epoch 1523/5000\n"
     ]
    },
    {
     "name": "stdout",
     "output_type": "stream",
     "text": [
      "\r30/30 [==============================] - 0s 333us/sample - loss: 146.2064\n"
     ]
    },
    {
     "name": "stdout",
     "output_type": "stream",
     "text": [
      "Epoch 1524/5000\n\r30/30 [==============================] - 0s 0s/sample - loss: 146.1093\n"
     ]
    },
    {
     "name": "stdout",
     "output_type": "stream",
     "text": [
      "Epoch 1525/5000\n\r30/30 [==============================] - 0s 0s/sample - loss: 146.0125\n"
     ]
    },
    {
     "name": "stdout",
     "output_type": "stream",
     "text": [
      "Epoch 1526/5000\n\r30/30 [==============================] - 0s 0s/sample - loss: 145.9159\n"
     ]
    },
    {
     "name": "stdout",
     "output_type": "stream",
     "text": [
      "Epoch 1527/5000\n\r30/30 [==============================] - 0s 333us/sample - loss: 145.8194\n"
     ]
    },
    {
     "name": "stdout",
     "output_type": "stream",
     "text": [
      "Epoch 1528/5000\n\r30/30 [==============================] - 0s 0s/sample - loss: 145.7232\n"
     ]
    },
    {
     "name": "stdout",
     "output_type": "stream",
     "text": [
      "Epoch 1529/5000\n\r30/30 [==============================] - 0s 0s/sample - loss: 145.6272\n"
     ]
    },
    {
     "name": "stdout",
     "output_type": "stream",
     "text": [
      "Epoch 1530/5000\n\r30/30 [==============================] - 0s 0s/sample - loss: 145.5314\n"
     ]
    },
    {
     "name": "stdout",
     "output_type": "stream",
     "text": [
      "Epoch 1531/5000\n"
     ]
    },
    {
     "name": "stdout",
     "output_type": "stream",
     "text": [
      "\r30/30 [==============================] - 0s 333us/sample - loss: 145.4358\n"
     ]
    },
    {
     "name": "stdout",
     "output_type": "stream",
     "text": [
      "Epoch 1532/5000\n\r30/30 [==============================] - 0s 0s/sample - loss: 145.3403\n"
     ]
    },
    {
     "name": "stdout",
     "output_type": "stream",
     "text": [
      "Epoch 1533/5000\n\r30/30 [==============================] - 0s 0s/sample - loss: 145.2451\n"
     ]
    },
    {
     "name": "stdout",
     "output_type": "stream",
     "text": [
      "Epoch 1534/5000\n\r30/30 [==============================] - 0s 0s/sample - loss: 145.1501\n"
     ]
    },
    {
     "name": "stdout",
     "output_type": "stream",
     "text": [
      "Epoch 1535/5000\n\r30/30 [==============================] - 0s 0s/sample - loss: 145.0553\n"
     ]
    },
    {
     "name": "stdout",
     "output_type": "stream",
     "text": [
      "Epoch 1536/5000\n\r30/30 [==============================] - 0s 0s/sample - loss: 144.9606\n"
     ]
    },
    {
     "name": "stdout",
     "output_type": "stream",
     "text": [
      "Epoch 1537/5000\n\r30/30 [==============================] - 0s 0s/sample - loss: 144.8662\n"
     ]
    },
    {
     "name": "stdout",
     "output_type": "stream",
     "text": [
      "Epoch 1538/5000\n\r30/30 [==============================] - 0s 0s/sample - loss: 144.7720\n"
     ]
    },
    {
     "name": "stdout",
     "output_type": "stream",
     "text": [
      "Epoch 1539/5000\n\r30/30 [==============================] - 0s 0s/sample - loss: 144.6780\n"
     ]
    },
    {
     "name": "stdout",
     "output_type": "stream",
     "text": [
      "Epoch 1540/5000\n\r30/30 [==============================] - 0s 0s/sample - loss: 144.5842\n"
     ]
    },
    {
     "name": "stdout",
     "output_type": "stream",
     "text": [
      "Epoch 1541/5000\n\r30/30 [==============================] - 0s 0s/sample - loss: 144.4906\n"
     ]
    },
    {
     "name": "stdout",
     "output_type": "stream",
     "text": [
      "Epoch 1542/5000\n\r30/30 [==============================] - 0s 0s/sample - loss: 144.3972\n"
     ]
    },
    {
     "name": "stdout",
     "output_type": "stream",
     "text": [
      "Epoch 1543/5000\n\r30/30 [==============================] - 0s 0s/sample - loss: 144.3040\n"
     ]
    },
    {
     "name": "stdout",
     "output_type": "stream",
     "text": [
      "Epoch 1544/5000\n\r30/30 [==============================] - 0s 0s/sample - loss: 144.2110\n"
     ]
    },
    {
     "name": "stdout",
     "output_type": "stream",
     "text": [
      "Epoch 1545/5000\n\r30/30 [==============================] - 0s 0s/sample - loss: 144.1182\n"
     ]
    },
    {
     "name": "stdout",
     "output_type": "stream",
     "text": [
      "Epoch 1546/5000\n\r30/30 [==============================] - 0s 0s/sample - loss: 144.0256\n"
     ]
    },
    {
     "name": "stdout",
     "output_type": "stream",
     "text": [
      "Epoch 1547/5000\n\r30/30 [==============================] - 0s 0s/sample - loss: 143.9332\n"
     ]
    },
    {
     "name": "stdout",
     "output_type": "stream",
     "text": [
      "Epoch 1548/5000\n\r30/30 [==============================] - 0s 0s/sample - loss: 143.8410\n"
     ]
    },
    {
     "name": "stdout",
     "output_type": "stream",
     "text": [
      "Epoch 1549/5000\n\r30/30 [==============================] - 0s 0s/sample - loss: 143.7490\n"
     ]
    },
    {
     "name": "stdout",
     "output_type": "stream",
     "text": [
      "Epoch 1550/5000\n\r30/30 [==============================] - 0s 0s/sample - loss: 143.6572\n"
     ]
    },
    {
     "name": "stdout",
     "output_type": "stream",
     "text": [
      "Epoch 1551/5000\n\r30/30 [==============================] - 0s 0s/sample - loss: 143.5655\n"
     ]
    },
    {
     "name": "stdout",
     "output_type": "stream",
     "text": [
      "Epoch 1552/5000\n\r30/30 [==============================] - 0s 333us/sample - loss: 143.4741\n"
     ]
    },
    {
     "name": "stdout",
     "output_type": "stream",
     "text": [
      "Epoch 1553/5000\n\r30/30 [==============================] - 0s 0s/sample - loss: 143.3828\n"
     ]
    },
    {
     "name": "stdout",
     "output_type": "stream",
     "text": [
      "Epoch 1554/5000\n\r30/30 [==============================] - 0s 0s/sample - loss: 143.2918\n"
     ]
    },
    {
     "name": "stdout",
     "output_type": "stream",
     "text": [
      "Epoch 1555/5000\n\r30/30 [==============================] - 0s 0s/sample - loss: 143.2010\n"
     ]
    },
    {
     "name": "stdout",
     "output_type": "stream",
     "text": [
      "Epoch 1556/5000\n"
     ]
    },
    {
     "name": "stdout",
     "output_type": "stream",
     "text": [
      "\r30/30 [==============================] - 0s 333us/sample - loss: 143.1104\n"
     ]
    },
    {
     "name": "stdout",
     "output_type": "stream",
     "text": [
      "Epoch 1557/5000\n\r30/30 [==============================] - 0s 0s/sample - loss: 143.0200\n"
     ]
    },
    {
     "name": "stdout",
     "output_type": "stream",
     "text": [
      "Epoch 1558/5000\n\r30/30 [==============================] - 0s 0s/sample - loss: 142.9297\n"
     ]
    },
    {
     "name": "stdout",
     "output_type": "stream",
     "text": [
      "Epoch 1559/5000\n\r30/30 [==============================] - 0s 0s/sample - loss: 142.8397\n"
     ]
    },
    {
     "name": "stdout",
     "output_type": "stream",
     "text": [
      "Epoch 1560/5000\n"
     ]
    },
    {
     "name": "stdout",
     "output_type": "stream",
     "text": [
      "\r30/30 [==============================] - 0s 333us/sample - loss: 142.7498\n"
     ]
    },
    {
     "name": "stdout",
     "output_type": "stream",
     "text": [
      "Epoch 1561/5000\n\r30/30 [==============================] - 0s 0s/sample - loss: 142.6601\n"
     ]
    },
    {
     "name": "stdout",
     "output_type": "stream",
     "text": [
      "Epoch 1562/5000\n\r30/30 [==============================] - 0s 0s/sample - loss: 142.5707\n"
     ]
    },
    {
     "name": "stdout",
     "output_type": "stream",
     "text": [
      "Epoch 1563/5000\n\r30/30 [==============================] - 0s 0s/sample - loss: 142.4814\n"
     ]
    },
    {
     "name": "stdout",
     "output_type": "stream",
     "text": [
      "Epoch 1564/5000\n\r30/30 [==============================] - 0s 0s/sample - loss: 142.3923\n"
     ]
    },
    {
     "name": "stdout",
     "output_type": "stream",
     "text": [
      "Epoch 1565/5000\n\r30/30 [==============================] - 0s 0s/sample - loss: 142.3035\n"
     ]
    },
    {
     "name": "stdout",
     "output_type": "stream",
     "text": [
      "Epoch 1566/5000\n\r30/30 [==============================] - 0s 0s/sample - loss: 142.2147\n"
     ]
    },
    {
     "name": "stdout",
     "output_type": "stream",
     "text": [
      "Epoch 1567/5000\n\r30/30 [==============================] - 0s 0s/sample - loss: 142.1262\n"
     ]
    },
    {
     "name": "stdout",
     "output_type": "stream",
     "text": [
      "Epoch 1568/5000\n\r30/30 [==============================] - 0s 0s/sample - loss: 142.0379\n"
     ]
    },
    {
     "name": "stdout",
     "output_type": "stream",
     "text": [
      "Epoch 1569/5000\n"
     ]
    },
    {
     "name": "stdout",
     "output_type": "stream",
     "text": [
      "\r30/30 [==============================] - 0s 333us/sample - loss: 141.9498\n"
     ]
    },
    {
     "name": "stdout",
     "output_type": "stream",
     "text": [
      "Epoch 1570/5000\n\r30/30 [==============================] - 0s 0s/sample - loss: 141.8618\n"
     ]
    },
    {
     "name": "stdout",
     "output_type": "stream",
     "text": [
      "Epoch 1571/5000\n\r30/30 [==============================] - 0s 0s/sample - loss: 141.7741\n"
     ]
    },
    {
     "name": "stdout",
     "output_type": "stream",
     "text": [
      "Epoch 1572/5000\n\r30/30 [==============================] - 0s 0s/sample - loss: 141.6865\n"
     ]
    },
    {
     "name": "stdout",
     "output_type": "stream",
     "text": [
      "Epoch 1573/5000\n\r30/30 [==============================] - 0s 333us/sample - loss: 141.5992\n"
     ]
    },
    {
     "name": "stdout",
     "output_type": "stream",
     "text": [
      "Epoch 1574/5000\n\r30/30 [==============================] - 0s 0s/sample - loss: 141.5120\n"
     ]
    },
    {
     "name": "stdout",
     "output_type": "stream",
     "text": [
      "Epoch 1575/5000\n\r30/30 [==============================] - 0s 0s/sample - loss: 141.4250\n"
     ]
    },
    {
     "name": "stdout",
     "output_type": "stream",
     "text": [
      "Epoch 1576/5000\n\r30/30 [==============================] - 0s 0s/sample - loss: 141.3383\n"
     ]
    },
    {
     "name": "stdout",
     "output_type": "stream",
     "text": [
      "Epoch 1577/5000\n\r30/30 [==============================] - 0s 0s/sample - loss: 141.2517\n"
     ]
    },
    {
     "name": "stdout",
     "output_type": "stream",
     "text": [
      "Epoch 1578/5000\n\r30/30 [==============================] - 0s 0s/sample - loss: 141.1653\n"
     ]
    },
    {
     "name": "stdout",
     "output_type": "stream",
     "text": [
      "Epoch 1579/5000\n\r30/30 [==============================] - 0s 0s/sample - loss: 141.0791\n"
     ]
    },
    {
     "name": "stdout",
     "output_type": "stream",
     "text": [
      "Epoch 1580/5000\n\r30/30 [==============================] - 0s 0s/sample - loss: 140.9930\n"
     ]
    },
    {
     "name": "stdout",
     "output_type": "stream",
     "text": [
      "Epoch 1581/5000\n\r30/30 [==============================] - 0s 0s/sample - loss: 140.9072\n"
     ]
    },
    {
     "name": "stdout",
     "output_type": "stream",
     "text": [
      "Epoch 1582/5000\n\r30/30 [==============================] - 0s 333us/sample - loss: 140.8215\n"
     ]
    },
    {
     "name": "stdout",
     "output_type": "stream",
     "text": [
      "Epoch 1583/5000\n\r30/30 [==============================] - 0s 0s/sample - loss: 140.7360\n"
     ]
    },
    {
     "name": "stdout",
     "output_type": "stream",
     "text": [
      "Epoch 1584/5000\n\r30/30 [==============================] - 0s 0s/sample - loss: 140.6508\n"
     ]
    },
    {
     "name": "stdout",
     "output_type": "stream",
     "text": [
      "Epoch 1585/5000\n\r30/30 [==============================] - 0s 0s/sample - loss: 140.5657\n"
     ]
    },
    {
     "name": "stdout",
     "output_type": "stream",
     "text": [
      "Epoch 1586/5000\n"
     ]
    },
    {
     "name": "stdout",
     "output_type": "stream",
     "text": [
      "\r30/30 [==============================] - 0s 333us/sample - loss: 140.4808\n"
     ]
    },
    {
     "name": "stdout",
     "output_type": "stream",
     "text": [
      "Epoch 1587/5000\n\r30/30 [==============================] - 0s 0s/sample - loss: 140.3960\n"
     ]
    },
    {
     "name": "stdout",
     "output_type": "stream",
     "text": [
      "Epoch 1588/5000\n\r30/30 [==============================] - 0s 0s/sample - loss: 140.3115\n"
     ]
    },
    {
     "name": "stdout",
     "output_type": "stream",
     "text": [
      "Epoch 1589/5000\n\r30/30 [==============================] - 0s 0s/sample - loss: 140.2271\n"
     ]
    },
    {
     "name": "stdout",
     "output_type": "stream",
     "text": [
      "Epoch 1590/5000\n\r30/30 [==============================] - 0s 333us/sample - loss: 140.1430\n"
     ]
    },
    {
     "name": "stdout",
     "output_type": "stream",
     "text": [
      "Epoch 1591/5000\n\r30/30 [==============================] - 0s 0s/sample - loss: 140.0590\n"
     ]
    },
    {
     "name": "stdout",
     "output_type": "stream",
     "text": [
      "Epoch 1592/5000\n\r30/30 [==============================] - 0s 0s/sample - loss: 139.9752\n"
     ]
    },
    {
     "name": "stdout",
     "output_type": "stream",
     "text": [
      "Epoch 1593/5000\n\r30/30 [==============================] - 0s 0s/sample - loss: 139.8915\n"
     ]
    },
    {
     "name": "stdout",
     "output_type": "stream",
     "text": [
      "Epoch 1594/5000\n\r30/30 [==============================] - 0s 0s/sample - loss: 139.8081\n"
     ]
    },
    {
     "name": "stdout",
     "output_type": "stream",
     "text": [
      "Epoch 1595/5000\n\r30/30 [==============================] - 0s 0s/sample - loss: 139.7249\n"
     ]
    },
    {
     "name": "stdout",
     "output_type": "stream",
     "text": [
      "Epoch 1596/5000\n\r30/30 [==============================] - 0s 0s/sample - loss: 139.6418\n"
     ]
    },
    {
     "name": "stdout",
     "output_type": "stream",
     "text": [
      "Epoch 1597/5000\n\r30/30 [==============================] - 0s 0s/sample - loss: 139.5590\n"
     ]
    },
    {
     "name": "stdout",
     "output_type": "stream",
     "text": [
      "Epoch 1598/5000\n\r30/30 [==============================] - 0s 0s/sample - loss: 139.4763\n"
     ]
    },
    {
     "name": "stdout",
     "output_type": "stream",
     "text": [
      "Epoch 1599/5000\n\r30/30 [==============================] - 0s 333us/sample - loss: 139.3938\n"
     ]
    },
    {
     "name": "stdout",
     "output_type": "stream",
     "text": [
      "Epoch 1600/5000\n\r30/30 [==============================] - 0s 0s/sample - loss: 139.3115\n"
     ]
    },
    {
     "name": "stdout",
     "output_type": "stream",
     "text": [
      "Epoch 1601/5000\n\r30/30 [==============================] - 0s 0s/sample - loss: 139.2293\n"
     ]
    },
    {
     "name": "stdout",
     "output_type": "stream",
     "text": [
      "Epoch 1602/5000\n\r30/30 [==============================] - 0s 0s/sample - loss: 139.1474\n"
     ]
    },
    {
     "name": "stdout",
     "output_type": "stream",
     "text": [
      "Epoch 1603/5000"
     ]
    },
    {
     "name": "stdout",
     "output_type": "stream",
     "text": [
      "\n\r30/30 [==============================] - 0s 333us/sample - loss: 139.0656\n"
     ]
    },
    {
     "name": "stdout",
     "output_type": "stream",
     "text": [
      "Epoch 1604/5000\n\r30/30 [==============================] - 0s 0s/sample - loss: 138.9840\n"
     ]
    },
    {
     "name": "stdout",
     "output_type": "stream",
     "text": [
      "Epoch 1605/5000\n\r30/30 [==============================] - 0s 0s/sample - loss: 138.9026\n"
     ]
    },
    {
     "name": "stdout",
     "output_type": "stream",
     "text": [
      "Epoch 1606/5000\n\r30/30 [==============================] - 0s 0s/sample - loss: 138.8213\n"
     ]
    },
    {
     "name": "stdout",
     "output_type": "stream",
     "text": [
      "Epoch 1607/5000\n\r30/30 [==============================] - 0s 333us/sample - loss: 138.7403\n"
     ]
    },
    {
     "name": "stdout",
     "output_type": "stream",
     "text": [
      "Epoch 1608/5000\n\r30/30 [==============================] - 0s 0s/sample - loss: 138.6594\n"
     ]
    },
    {
     "name": "stdout",
     "output_type": "stream",
     "text": [
      "Epoch 1609/5000\n\r30/30 [==============================] - 0s 0s/sample - loss: 138.5787\n"
     ]
    },
    {
     "name": "stdout",
     "output_type": "stream",
     "text": [
      "Epoch 1610/5000\n\r30/30 [==============================] - 0s 0s/sample - loss: 138.4981\n"
     ]
    },
    {
     "name": "stdout",
     "output_type": "stream",
     "text": [
      "Epoch 1611/5000\n"
     ]
    },
    {
     "name": "stdout",
     "output_type": "stream",
     "text": [
      "\r30/30 [==============================] - 0s 333us/sample - loss: 138.4178\n"
     ]
    },
    {
     "name": "stdout",
     "output_type": "stream",
     "text": [
      "Epoch 1612/5000\n\r30/30 [==============================] - 0s 0s/sample - loss: 138.3376\n"
     ]
    },
    {
     "name": "stdout",
     "output_type": "stream",
     "text": [
      "Epoch 1613/5000\n\r30/30 [==============================] - 0s 0s/sample - loss: 138.2576\n"
     ]
    },
    {
     "name": "stdout",
     "output_type": "stream",
     "text": [
      "Epoch 1614/5000\n\r30/30 [==============================] - 0s 0s/sample - loss: 138.1778\n"
     ]
    },
    {
     "name": "stdout",
     "output_type": "stream",
     "text": [
      "Epoch 1615/5000\n"
     ]
    },
    {
     "name": "stdout",
     "output_type": "stream",
     "text": [
      "\r30/30 [==============================] - 0s 333us/sample - loss: 138.0982\n"
     ]
    },
    {
     "name": "stdout",
     "output_type": "stream",
     "text": [
      "Epoch 1616/5000\n\r30/30 [==============================] - 0s 0s/sample - loss: 138.0187\n"
     ]
    },
    {
     "name": "stdout",
     "output_type": "stream",
     "text": [
      "Epoch 1617/5000\n\r30/30 [==============================] - 0s 0s/sample - loss: 137.9395\n"
     ]
    },
    {
     "name": "stdout",
     "output_type": "stream",
     "text": [
      "Epoch 1618/5000\n\r30/30 [==============================] - 0s 0s/sample - loss: 137.8604\n"
     ]
    },
    {
     "name": "stdout",
     "output_type": "stream",
     "text": [
      "Epoch 1619/5000\n\r30/30 [==============================] - 0s 333us/sample - loss: 137.7814\n"
     ]
    },
    {
     "name": "stdout",
     "output_type": "stream",
     "text": [
      "Epoch 1620/5000\n\r30/30 [==============================] - 0s 0s/sample - loss: 137.7027\n"
     ]
    },
    {
     "name": "stdout",
     "output_type": "stream",
     "text": [
      "Epoch 1621/5000\n\r30/30 [==============================] - 0s 0s/sample - loss: 137.6242\n"
     ]
    },
    {
     "name": "stdout",
     "output_type": "stream",
     "text": [
      "Epoch 1622/5000\n\r30/30 [==============================] - 0s 0s/sample - loss: 137.5458\n"
     ]
    },
    {
     "name": "stdout",
     "output_type": "stream",
     "text": [
      "Epoch 1623/5000\n"
     ]
    },
    {
     "name": "stdout",
     "output_type": "stream",
     "text": [
      "\r30/30 [==============================] - 0s 0s/sample - loss: 137.4676\n"
     ]
    },
    {
     "name": "stdout",
     "output_type": "stream",
     "text": [
      "Epoch 1624/5000\n\r30/30 [==============================] - 0s 0s/sample - loss: 137.3896\n"
     ]
    },
    {
     "name": "stdout",
     "output_type": "stream",
     "text": [
      "Epoch 1625/5000\n\r30/30 [==============================] - 0s 0s/sample - loss: 137.3117\n"
     ]
    },
    {
     "name": "stdout",
     "output_type": "stream",
     "text": [
      "Epoch 1626/5000\n\r30/30 [==============================] - 0s 0s/sample - loss: 137.2340\n"
     ]
    },
    {
     "name": "stdout",
     "output_type": "stream",
     "text": [
      "Epoch 1627/5000\n\r30/30 [==============================] - 0s 0s/sample - loss: 137.1565\n"
     ]
    },
    {
     "name": "stdout",
     "output_type": "stream",
     "text": [
      "Epoch 1628/5000\n\r30/30 [==============================] - 0s 333us/sample - loss: 137.0791\n"
     ]
    },
    {
     "name": "stdout",
     "output_type": "stream",
     "text": [
      "Epoch 1629/5000\n\r30/30 [==============================] - 0s 0s/sample - loss: 137.0020\n"
     ]
    },
    {
     "name": "stdout",
     "output_type": "stream",
     "text": [
      "Epoch 1630/5000\n\r30/30 [==============================] - 0s 0s/sample - loss: 136.9250\n"
     ]
    },
    {
     "name": "stdout",
     "output_type": "stream",
     "text": [
      "Epoch 1631/5000\n\r30/30 [==============================] - 0s 0s/sample - loss: 136.8482\n"
     ]
    },
    {
     "name": "stdout",
     "output_type": "stream",
     "text": [
      "Epoch 1632/5000\n\r30/30 [==============================] - 0s 0s/sample - loss: 136.7715\n"
     ]
    },
    {
     "name": "stdout",
     "output_type": "stream",
     "text": [
      "Epoch 1633/5000\n\r30/30 [==============================] - 0s 0s/sample - loss: 136.6951\n"
     ]
    },
    {
     "name": "stdout",
     "output_type": "stream",
     "text": [
      "Epoch 1634/5000\n\r30/30 [==============================] - 0s 0s/sample - loss: 136.6188\n"
     ]
    },
    {
     "name": "stdout",
     "output_type": "stream",
     "text": [
      "Epoch 1635/5000\n\r30/30 [==============================] - 0s 0s/sample - loss: 136.5426\n"
     ]
    },
    {
     "name": "stdout",
     "output_type": "stream",
     "text": [
      "Epoch 1636/5000\n"
     ]
    },
    {
     "name": "stdout",
     "output_type": "stream",
     "text": [
      "\r30/30 [==============================] - 0s 333us/sample - loss: 136.4667\n"
     ]
    },
    {
     "name": "stdout",
     "output_type": "stream",
     "text": [
      "Epoch 1637/5000\n\r30/30 [==============================] - 0s 0s/sample - loss: 136.3909\n"
     ]
    },
    {
     "name": "stdout",
     "output_type": "stream",
     "text": [
      "Epoch 1638/5000\n\r30/30 [==============================] - 0s 0s/sample - loss: 136.3153\n"
     ]
    },
    {
     "name": "stdout",
     "output_type": "stream",
     "text": [
      "Epoch 1639/5000\n\r30/30 [==============================] - 0s 0s/sample - loss: 136.2398\n"
     ]
    },
    {
     "name": "stdout",
     "output_type": "stream",
     "text": [
      "Epoch 1640/5000\n\r30/30 [==============================] - 0s 333us/sample - loss: 136.1645\n"
     ]
    },
    {
     "name": "stdout",
     "output_type": "stream",
     "text": [
      "Epoch 1641/5000\n\r30/30 [==============================] - 0s 0s/sample - loss: 136.0894\n"
     ]
    },
    {
     "name": "stdout",
     "output_type": "stream",
     "text": [
      "Epoch 1642/5000\n\r30/30 [==============================] - 0s 0s/sample - loss: 136.0145\n"
     ]
    },
    {
     "name": "stdout",
     "output_type": "stream",
     "text": [
      "Epoch 1643/5000\n\r30/30 [==============================] - 0s 0s/sample - loss: 135.9397\n"
     ]
    },
    {
     "name": "stdout",
     "output_type": "stream",
     "text": [
      "Epoch 1644/5000\n\r30/30 [==============================] - 0s 0s/sample - loss: 135.8651\n"
     ]
    },
    {
     "name": "stdout",
     "output_type": "stream",
     "text": [
      "Epoch 1645/5000\n\r30/30 [==============================] - 0s 0s/sample - loss: 135.7907\n"
     ]
    },
    {
     "name": "stdout",
     "output_type": "stream",
     "text": [
      "Epoch 1646/5000\n\r30/30 [==============================] - 0s 0s/sample - loss: 135.7164\n"
     ]
    },
    {
     "name": "stdout",
     "output_type": "stream",
     "text": [
      "Epoch 1647/5000\n\r30/30 [==============================] - 0s 0s/sample - loss: 135.6423\n"
     ]
    },
    {
     "name": "stdout",
     "output_type": "stream",
     "text": [
      "Epoch 1648/5000\n\r30/30 [==============================] - 0s 0s/sample - loss: 135.5684\n"
     ]
    },
    {
     "name": "stdout",
     "output_type": "stream",
     "text": [
      "Epoch 1649/5000\n\r30/30 [==============================] - 0s 333us/sample - loss: 135.4946\n"
     ]
    },
    {
     "name": "stdout",
     "output_type": "stream",
     "text": [
      "Epoch 1650/5000\n\r30/30 [==============================] - 0s 0s/sample - loss: 135.4211\n"
     ]
    },
    {
     "name": "stdout",
     "output_type": "stream",
     "text": [
      "Epoch 1651/5000\n\r30/30 [==============================] - 0s 0s/sample - loss: 135.3476\n"
     ]
    },
    {
     "name": "stdout",
     "output_type": "stream",
     "text": [
      "Epoch 1652/5000\n\r30/30 [==============================] - 0s 0s/sample - loss: 135.2744\n"
     ]
    },
    {
     "name": "stdout",
     "output_type": "stream",
     "text": [
      "Epoch 1653/5000\n\r30/30 [==============================] - 0s 0s/sample - loss: 135.2012\n"
     ]
    },
    {
     "name": "stdout",
     "output_type": "stream",
     "text": [
      "Epoch 1654/5000\n\r30/30 [==============================] - 0s 0s/sample - loss: 135.1284\n"
     ]
    },
    {
     "name": "stdout",
     "output_type": "stream",
     "text": [
      "Epoch 1655/5000\n\r30/30 [==============================] - 0s 0s/sample - loss: 135.0556\n"
     ]
    },
    {
     "name": "stdout",
     "output_type": "stream",
     "text": [
      "Epoch 1656/5000\n\r30/30 [==============================] - 0s 0s/sample - loss: 134.9830\n"
     ]
    },
    {
     "name": "stdout",
     "output_type": "stream",
     "text": [
      "Epoch 1657/5000"
     ]
    },
    {
     "name": "stdout",
     "output_type": "stream",
     "text": [
      "\n\r30/30 [==============================] - 0s 333us/sample - loss: 134.9106\n"
     ]
    },
    {
     "name": "stdout",
     "output_type": "stream",
     "text": [
      "Epoch 1658/5000\n\r30/30 [==============================] - 0s 0s/sample - loss: 134.8384\n"
     ]
    },
    {
     "name": "stdout",
     "output_type": "stream",
     "text": [
      "Epoch 1659/5000\n\r30/30 [==============================] - 0s 0s/sample - loss: 134.7663\n"
     ]
    },
    {
     "name": "stdout",
     "output_type": "stream",
     "text": [
      "Epoch 1660/5000\n\r30/30 [==============================] - 0s 0s/sample - loss: 134.6944\n"
     ]
    },
    {
     "name": "stdout",
     "output_type": "stream",
     "text": [
      "Epoch 1661/5000\n\r30/30 [==============================] - 0s 0s/sample - loss: 134.6227\n"
     ]
    },
    {
     "name": "stdout",
     "output_type": "stream",
     "text": [
      "Epoch 1662/5000\n\r30/30 [==============================] - 0s 0s/sample - loss: 134.5511\n"
     ]
    },
    {
     "name": "stdout",
     "output_type": "stream",
     "text": [
      "Epoch 1663/5000\n\r30/30 [==============================] - 0s 0s/sample - loss: 134.4797\n"
     ]
    },
    {
     "name": "stdout",
     "output_type": "stream",
     "text": [
      "Epoch 1664/5000\n\r30/30 [==============================] - 0s 0s/sample - loss: 134.4084\n"
     ]
    },
    {
     "name": "stdout",
     "output_type": "stream",
     "text": [
      "Epoch 1665/5000\n\r30/30 [==============================] - 0s 0s/sample - loss: 134.3373\n"
     ]
    },
    {
     "name": "stdout",
     "output_type": "stream",
     "text": [
      "Epoch 1666/5000\n"
     ]
    },
    {
     "name": "stdout",
     "output_type": "stream",
     "text": [
      "\r30/30 [==============================] - 0s 333us/sample - loss: 134.2664\n"
     ]
    },
    {
     "name": "stdout",
     "output_type": "stream",
     "text": [
      "Epoch 1667/5000\n\r30/30 [==============================] - 0s 0s/sample - loss: 134.1956\n"
     ]
    },
    {
     "name": "stdout",
     "output_type": "stream",
     "text": [
      "Epoch 1668/5000\n\r30/30 [==============================] - 0s 0s/sample - loss: 134.1250\n"
     ]
    },
    {
     "name": "stdout",
     "output_type": "stream",
     "text": [
      "Epoch 1669/5000\n\r30/30 [==============================] - 0s 0s/sample - loss: 134.0546\n"
     ]
    },
    {
     "name": "stdout",
     "output_type": "stream",
     "text": [
      "Epoch 1670/5000\n"
     ]
    },
    {
     "name": "stdout",
     "output_type": "stream",
     "text": [
      "\r30/30 [==============================] - 0s 333us/sample - loss: 133.9843\n"
     ]
    },
    {
     "name": "stdout",
     "output_type": "stream",
     "text": [
      "Epoch 1671/5000\n\r30/30 [==============================] - 0s 0s/sample - loss: 133.9142\n"
     ]
    },
    {
     "name": "stdout",
     "output_type": "stream",
     "text": [
      "Epoch 1672/5000\n\r30/30 [==============================] - 0s 0s/sample - loss: 133.8442\n"
     ]
    },
    {
     "name": "stdout",
     "output_type": "stream",
     "text": [
      "Epoch 1673/5000\n\r30/30 [==============================] - 0s 0s/sample - loss: 133.7744\n"
     ]
    },
    {
     "name": "stdout",
     "output_type": "stream",
     "text": [
      "Epoch 1674/5000\n"
     ]
    },
    {
     "name": "stdout",
     "output_type": "stream",
     "text": [
      "\r30/30 [==============================] - 0s 333us/sample - loss: 133.7048\n"
     ]
    },
    {
     "name": "stdout",
     "output_type": "stream",
     "text": [
      "Epoch 1675/5000\n\r30/30 [==============================] - 0s 0s/sample - loss: 133.6353\n"
     ]
    },
    {
     "name": "stdout",
     "output_type": "stream",
     "text": [
      "Epoch 1676/5000\n\r30/30 [==============================] - 0s 0s/sample - loss: 133.5660\n"
     ]
    },
    {
     "name": "stdout",
     "output_type": "stream",
     "text": [
      "Epoch 1677/5000\n\r30/30 [==============================] - 0s 0s/sample - loss: 133.4968\n"
     ]
    },
    {
     "name": "stdout",
     "output_type": "stream",
     "text": [
      "Epoch 1678/5000\n\r30/30 [==============================] - 0s 333us/sample - loss: 133.4278\n"
     ]
    },
    {
     "name": "stdout",
     "output_type": "stream",
     "text": [
      "Epoch 1679/5000\n\r30/30 [==============================] - 0s 0s/sample - loss: 133.3590\n"
     ]
    },
    {
     "name": "stdout",
     "output_type": "stream",
     "text": [
      "Epoch 1680/5000\n\r30/30 [==============================] - 0s 0s/sample - loss: 133.2903\n"
     ]
    },
    {
     "name": "stdout",
     "output_type": "stream",
     "text": [
      "Epoch 1681/5000\n\r30/30 [==============================] - 0s 0s/sample - loss: 133.2218\n"
     ]
    },
    {
     "name": "stdout",
     "output_type": "stream",
     "text": [
      "Epoch 1682/5000\n\r30/30 [==============================] - 0s 0s/sample - loss: 133.1534\n"
     ]
    },
    {
     "name": "stdout",
     "output_type": "stream",
     "text": [
      "Epoch 1683/5000\n\r30/30 [==============================] - 0s 0s/sample - loss: 133.0852\n"
     ]
    },
    {
     "name": "stdout",
     "output_type": "stream",
     "text": [
      "Epoch 1684/5000\n\r30/30 [==============================] - 0s 0s/sample - loss: 133.0172\n"
     ]
    },
    {
     "name": "stdout",
     "output_type": "stream",
     "text": [
      "Epoch 1685/5000\n\r30/30 [==============================] - 0s 0s/sample - loss: 132.9493\n"
     ]
    },
    {
     "name": "stdout",
     "output_type": "stream",
     "text": [
      "Epoch 1686/5000\n\r30/30 [==============================] - 0s 0s/sample - loss: 132.8816\n"
     ]
    },
    {
     "name": "stdout",
     "output_type": "stream",
     "text": [
      "Epoch 1687/5000\n\r30/30 [==============================] - 0s 0s/sample - loss: 132.8140\n"
     ]
    },
    {
     "name": "stdout",
     "output_type": "stream",
     "text": [
      "Epoch 1688/5000\n\r30/30 [==============================] - 0s 0s/sample - loss: 132.7466\n"
     ]
    },
    {
     "name": "stdout",
     "output_type": "stream",
     "text": [
      "Epoch 1689/5000\n\r30/30 [==============================] - 0s 0s/sample - loss: 132.6794\n"
     ]
    },
    {
     "name": "stdout",
     "output_type": "stream",
     "text": [
      "Epoch 1690/5000\n\r30/30 [==============================] - 0s 0s/sample - loss: 132.6122\n"
     ]
    },
    {
     "name": "stdout",
     "output_type": "stream",
     "text": [
      "Epoch 1691/5000\n\r30/30 [==============================] - 0s 333us/sample - loss: 132.5453\n"
     ]
    },
    {
     "name": "stdout",
     "output_type": "stream",
     "text": [
      "Epoch 1692/5000\n\r30/30 [==============================] - 0s 0s/sample - loss: 132.4785\n"
     ]
    },
    {
     "name": "stdout",
     "output_type": "stream",
     "text": [
      "Epoch 1693/5000\n\r30/30 [==============================] - 0s 0s/sample - loss: 132.4119\n"
     ]
    },
    {
     "name": "stdout",
     "output_type": "stream",
     "text": [
      "Epoch 1694/5000\n\r30/30 [==============================] - 0s 0s/sample - loss: 132.3454\n"
     ]
    },
    {
     "name": "stdout",
     "output_type": "stream",
     "text": [
      "Epoch 1695/5000\n\r30/30 [==============================] - 0s 333us/sample - loss: 132.2791\n"
     ]
    },
    {
     "name": "stdout",
     "output_type": "stream",
     "text": [
      "Epoch 1696/5000\n\r30/30 [==============================] - 0s 0s/sample - loss: 132.2129\n"
     ]
    },
    {
     "name": "stdout",
     "output_type": "stream",
     "text": [
      "Epoch 1697/5000\n\r30/30 [==============================] - 0s 0s/sample - loss: 132.1469\n"
     ]
    },
    {
     "name": "stdout",
     "output_type": "stream",
     "text": [
      "Epoch 1698/5000\n\r30/30 [==============================] - 0s 0s/sample - loss: 132.0811\n"
     ]
    },
    {
     "name": "stdout",
     "output_type": "stream",
     "text": [
      "Epoch 1699/5000\n\r30/30 [==============================] - 0s 333us/sample - loss: 132.0154\n"
     ]
    },
    {
     "name": "stdout",
     "output_type": "stream",
     "text": [
      "Epoch 1700/5000\n\r30/30 [==============================] - 0s 0s/sample - loss: 131.9498\n"
     ]
    },
    {
     "name": "stdout",
     "output_type": "stream",
     "text": [
      "Epoch 1701/5000\n\r30/30 [==============================] - 0s 0s/sample - loss: 131.8844\n"
     ]
    },
    {
     "name": "stdout",
     "output_type": "stream",
     "text": [
      "Epoch 1702/5000\n\r30/30 [==============================] - 0s 0s/sample - loss: 131.8192\n"
     ]
    },
    {
     "name": "stdout",
     "output_type": "stream",
     "text": [
      "Epoch 1703/5000\n"
     ]
    },
    {
     "name": "stdout",
     "output_type": "stream",
     "text": [
      "\r30/30 [==============================] - 0s 333us/sample - loss: 131.7541\n"
     ]
    },
    {
     "name": "stdout",
     "output_type": "stream",
     "text": [
      "Epoch 1704/5000\n\r30/30 [==============================] - 0s 0s/sample - loss: 131.6892\n"
     ]
    },
    {
     "name": "stdout",
     "output_type": "stream",
     "text": [
      "Epoch 1705/5000\n\r30/30 [==============================] - 0s 0s/sample - loss: 131.6244\n"
     ]
    },
    {
     "name": "stdout",
     "output_type": "stream",
     "text": [
      "Epoch 1706/5000\n\r30/30 [==============================] - 0s 0s/sample - loss: 131.5597\n"
     ]
    },
    {
     "name": "stdout",
     "output_type": "stream",
     "text": [
      "Epoch 1707/5000\n\r30/30 [==============================] - 0s 333us/sample - loss: 131.4953\n"
     ]
    },
    {
     "name": "stdout",
     "output_type": "stream",
     "text": [
      "Epoch 1708/5000\n\r30/30 [==============================] - 0s 0s/sample - loss: 131.4309\n"
     ]
    },
    {
     "name": "stdout",
     "output_type": "stream",
     "text": [
      "Epoch 1709/5000\n\r30/30 [==============================] - 0s 0s/sample - loss: 131.3668\n"
     ]
    },
    {
     "name": "stdout",
     "output_type": "stream",
     "text": [
      "Epoch 1710/5000\n\r30/30 [==============================] - 0s 0s/sample - loss: 131.3027\n"
     ]
    },
    {
     "name": "stdout",
     "output_type": "stream",
     "text": [
      "Epoch 1711/5000\n\r30/30 [==============================] - 0s 0s/sample - loss: 131.2389\n"
     ]
    },
    {
     "name": "stdout",
     "output_type": "stream",
     "text": [
      "Epoch 1712/5000\n\r30/30 [==============================] - 0s 333us/sample - loss: 131.1752\n"
     ]
    },
    {
     "name": "stdout",
     "output_type": "stream",
     "text": [
      "Epoch 1713/5000\n\r30/30 [==============================] - 0s 0s/sample - loss: 131.1116\n"
     ]
    },
    {
     "name": "stdout",
     "output_type": "stream",
     "text": [
      "Epoch 1714/5000\n\r30/30 [==============================] - 0s 0s/sample - loss: 131.0482\n"
     ]
    },
    {
     "name": "stdout",
     "output_type": "stream",
     "text": [
      "Epoch 1715/5000\n\r30/30 [==============================] - 0s 0s/sample - loss: 130.9849\n"
     ]
    },
    {
     "name": "stdout",
     "output_type": "stream",
     "text": [
      "Epoch 1716/5000\n\r30/30 [==============================] - 0s 333us/sample - loss: 130.9218\n"
     ]
    },
    {
     "name": "stdout",
     "output_type": "stream",
     "text": [
      "Epoch 1717/5000\n\r30/30 [==============================] - 0s 0s/sample - loss: 130.8588\n"
     ]
    },
    {
     "name": "stdout",
     "output_type": "stream",
     "text": [
      "Epoch 1718/5000\n\r30/30 [==============================] - 0s 0s/sample - loss: 130.7960\n"
     ]
    },
    {
     "name": "stdout",
     "output_type": "stream",
     "text": [
      "Epoch 1719/5000\n\r30/30 [==============================] - 0s 0s/sample - loss: 130.7333\n"
     ]
    },
    {
     "name": "stdout",
     "output_type": "stream",
     "text": [
      "Epoch 1720/5000"
     ]
    },
    {
     "name": "stdout",
     "output_type": "stream",
     "text": [
      "\n\r30/30 [==============================] - 0s 333us/sample - loss: 130.6708\n"
     ]
    },
    {
     "name": "stdout",
     "output_type": "stream",
     "text": [
      "Epoch 1721/5000\n\r30/30 [==============================] - 0s 0s/sample - loss: 130.6084\n"
     ]
    },
    {
     "name": "stdout",
     "output_type": "stream",
     "text": [
      "Epoch 1722/5000\n\r30/30 [==============================] - 0s 0s/sample - loss: 130.5462\n"
     ]
    },
    {
     "name": "stdout",
     "output_type": "stream",
     "text": [
      "Epoch 1723/5000\n\r30/30 [==============================] - 0s 0s/sample - loss: 130.4841\n"
     ]
    },
    {
     "name": "stdout",
     "output_type": "stream",
     "text": [
      "Epoch 1724/5000\n\r30/30 [==============================] - 0s 0s/sample - loss: 130.4222\n"
     ]
    },
    {
     "name": "stdout",
     "output_type": "stream",
     "text": [
      "Epoch 1725/5000\n\r30/30 [==============================] - 0s 333us/sample - loss: 130.3604\n"
     ]
    },
    {
     "name": "stdout",
     "output_type": "stream",
     "text": [
      "Epoch 1726/5000\n\r30/30 [==============================] - 0s 0s/sample - loss: 130.2988\n"
     ]
    },
    {
     "name": "stdout",
     "output_type": "stream",
     "text": [
      "Epoch 1727/5000\n\r30/30 [==============================] - 0s 0s/sample - loss: 130.2373\n"
     ]
    },
    {
     "name": "stdout",
     "output_type": "stream",
     "text": [
      "Epoch 1728/5000\n\r30/30 [==============================] - 0s 0s/sample - loss: 130.1759\n"
     ]
    },
    {
     "name": "stdout",
     "output_type": "stream",
     "text": [
      "Epoch 1729/5000\n\r30/30 [==============================] - 0s 333us/sample - loss: 130.1148\n"
     ]
    },
    {
     "name": "stdout",
     "output_type": "stream",
     "text": [
      "Epoch 1730/5000\n\r30/30 [==============================] - 0s 0s/sample - loss: 130.0537\n"
     ]
    },
    {
     "name": "stdout",
     "output_type": "stream",
     "text": [
      "Epoch 1731/5000\n\r30/30 [==============================] - 0s 0s/sample - loss: 129.9928\n"
     ]
    },
    {
     "name": "stdout",
     "output_type": "stream",
     "text": [
      "Epoch 1732/5000\n\r30/30 [==============================] - 0s 0s/sample - loss: 129.9321\n"
     ]
    },
    {
     "name": "stdout",
     "output_type": "stream",
     "text": [
      "Epoch 1733/5000\n"
     ]
    },
    {
     "name": "stdout",
     "output_type": "stream",
     "text": [
      "\r30/30 [==============================] - 0s 333us/sample - loss: 129.8715\n"
     ]
    },
    {
     "name": "stdout",
     "output_type": "stream",
     "text": [
      "Epoch 1734/5000\n\r30/30 [==============================] - 0s 0s/sample - loss: 129.8110\n"
     ]
    },
    {
     "name": "stdout",
     "output_type": "stream",
     "text": [
      "Epoch 1735/5000\n\r30/30 [==============================] - 0s 0s/sample - loss: 129.7506\n"
     ]
    },
    {
     "name": "stdout",
     "output_type": "stream",
     "text": [
      "Epoch 1736/5000\n\r30/30 [==============================] - 0s 0s/sample - loss: 129.6904\n"
     ]
    },
    {
     "name": "stdout",
     "output_type": "stream",
     "text": [
      "Epoch 1737/5000\n"
     ]
    },
    {
     "name": "stdout",
     "output_type": "stream",
     "text": [
      "\r30/30 [==============================] - 0s 333us/sample - loss: 129.6304\n"
     ]
    },
    {
     "name": "stdout",
     "output_type": "stream",
     "text": [
      "Epoch 1738/5000\n\r30/30 [==============================] - 0s 0s/sample - loss: 129.5705\n"
     ]
    },
    {
     "name": "stdout",
     "output_type": "stream",
     "text": [
      "Epoch 1739/5000\n\r30/30 [==============================] - 0s 0s/sample - loss: 129.5107\n"
     ]
    },
    {
     "name": "stdout",
     "output_type": "stream",
     "text": [
      "Epoch 1740/5000\n\r30/30 [==============================] - 0s 0s/sample - loss: 129.4511\n"
     ]
    },
    {
     "name": "stdout",
     "output_type": "stream",
     "text": [
      "Epoch 1741/5000\n\r30/30 [==============================] - 0s 0s/sample - loss: 129.3916\n"
     ]
    },
    {
     "name": "stdout",
     "output_type": "stream",
     "text": [
      "Epoch 1742/5000\n\r30/30 [==============================] - 0s 0s/sample - loss: 129.3323\n"
     ]
    },
    {
     "name": "stdout",
     "output_type": "stream",
     "text": [
      "Epoch 1743/5000\n\r30/30 [==============================] - 0s 0s/sample - loss: 129.2731\n"
     ]
    },
    {
     "name": "stdout",
     "output_type": "stream",
     "text": [
      "Epoch 1744/5000\n\r30/30 [==============================] - 0s 0s/sample - loss: 129.2141\n"
     ]
    },
    {
     "name": "stdout",
     "output_type": "stream",
     "text": [
      "Epoch 1745/5000\n\r30/30 [==============================] - 0s 0s/sample - loss: 129.1552\n"
     ]
    },
    {
     "name": "stdout",
     "output_type": "stream",
     "text": [
      "Epoch 1746/5000\n\r30/30 [==============================] - 0s 333us/sample - loss: 129.0964\n"
     ]
    },
    {
     "name": "stdout",
     "output_type": "stream",
     "text": [
      "Epoch 1747/5000\n\r30/30 [==============================] - 0s 0s/sample - loss: 129.0378\n"
     ]
    },
    {
     "name": "stdout",
     "output_type": "stream",
     "text": [
      "Epoch 1748/5000\n\r30/30 [==============================] - 0s 0s/sample - loss: 128.9793\n"
     ]
    },
    {
     "name": "stdout",
     "output_type": "stream",
     "text": [
      "Epoch 1749/5000\n\r30/30 [==============================] - 0s 0s/sample - loss: 128.9210\n"
     ]
    },
    {
     "name": "stdout",
     "output_type": "stream",
     "text": [
      "Epoch 1750/5000\n"
     ]
    },
    {
     "name": "stdout",
     "output_type": "stream",
     "text": [
      "\r30/30 [==============================] - 0s 333us/sample - loss: 128.8628\n"
     ]
    },
    {
     "name": "stdout",
     "output_type": "stream",
     "text": [
      "Epoch 1751/5000\n\r30/30 [==============================] - 0s 0s/sample - loss: 128.8047\n"
     ]
    },
    {
     "name": "stdout",
     "output_type": "stream",
     "text": [
      "Epoch 1752/5000\n\r30/30 [==============================] - 0s 0s/sample - loss: 128.7468\n"
     ]
    },
    {
     "name": "stdout",
     "output_type": "stream",
     "text": [
      "Epoch 1753/5000\n\r30/30 [==============================] - 0s 0s/sample - loss: 128.6891\n"
     ]
    },
    {
     "name": "stdout",
     "output_type": "stream",
     "text": [
      "Epoch 1754/5000\n\r30/30 [==============================] - 0s 0s/sample - loss: 128.6314\n"
     ]
    },
    {
     "name": "stdout",
     "output_type": "stream",
     "text": [
      "Epoch 1755/5000\n\r30/30 [==============================] - 0s 0s/sample - loss: 128.5739\n"
     ]
    },
    {
     "name": "stdout",
     "output_type": "stream",
     "text": [
      "Epoch 1756/5000\n\r30/30 [==============================] - 0s 0s/sample - loss: 128.5166\n"
     ]
    },
    {
     "name": "stdout",
     "output_type": "stream",
     "text": [
      "Epoch 1757/5000\n\r30/30 [==============================] - 0s 0s/sample - loss: 128.4594\n"
     ]
    },
    {
     "name": "stdout",
     "output_type": "stream",
     "text": [
      "Epoch 1758/5000\n\r30/30 [==============================] - 0s 0s/sample - loss: 128.4023\n"
     ]
    },
    {
     "name": "stdout",
     "output_type": "stream",
     "text": [
      "Epoch 1759/5000\n\r30/30 [==============================] - 0s 0s/sample - loss: 128.3454\n"
     ]
    },
    {
     "name": "stdout",
     "output_type": "stream",
     "text": [
      "Epoch 1760/5000\n\r30/30 [==============================] - 0s 0s/sample - loss: 128.2886\n"
     ]
    },
    {
     "name": "stdout",
     "output_type": "stream",
     "text": [
      "Epoch 1761/5000\n\r30/30 [==============================] - 0s 0s/sample - loss: 128.2319\n"
     ]
    },
    {
     "name": "stdout",
     "output_type": "stream",
     "text": [
      "Epoch 1762/5000\n\r30/30 [==============================] - 0s 0s/sample - loss: 128.1754\n"
     ]
    },
    {
     "name": "stdout",
     "output_type": "stream",
     "text": [
      "Epoch 1763/5000\n\r30/30 [==============================] - 0s 333us/sample - loss: 128.1190\n"
     ]
    },
    {
     "name": "stdout",
     "output_type": "stream",
     "text": [
      "Epoch 1764/5000\n\r30/30 [==============================] - 0s 0s/sample - loss: 128.0628\n"
     ]
    },
    {
     "name": "stdout",
     "output_type": "stream",
     "text": [
      "Epoch 1765/5000\n\r30/30 [==============================] - 0s 0s/sample - loss: 128.0067\n"
     ]
    },
    {
     "name": "stdout",
     "output_type": "stream",
     "text": [
      "Epoch 1766/5000\n\r30/30 [==============================] - 0s 0s/sample - loss: 127.9507\n"
     ]
    },
    {
     "name": "stdout",
     "output_type": "stream",
     "text": [
      "Epoch 1767/5000\n\r30/30 [==============================] - 0s 333us/sample - loss: 127.8948\n"
     ]
    },
    {
     "name": "stdout",
     "output_type": "stream",
     "text": [
      "Epoch 1768/5000\n\r30/30 [==============================] - 0s 0s/sample - loss: 127.8391\n"
     ]
    },
    {
     "name": "stdout",
     "output_type": "stream",
     "text": [
      "Epoch 1769/5000\n\r30/30 [==============================] - 0s 0s/sample - loss: 127.7835\n"
     ]
    },
    {
     "name": "stdout",
     "output_type": "stream",
     "text": [
      "Epoch 1770/5000\n\r30/30 [==============================] - 0s 0s/sample - loss: 127.7281\n"
     ]
    },
    {
     "name": "stdout",
     "output_type": "stream",
     "text": [
      "Epoch 1771/5000\n"
     ]
    },
    {
     "name": "stdout",
     "output_type": "stream",
     "text": [
      "\r30/30 [==============================] - 0s 0s/sample - loss: 127.6728\n"
     ]
    },
    {
     "name": "stdout",
     "output_type": "stream",
     "text": [
      "Epoch 1772/5000\n\r30/30 [==============================] - 0s 0s/sample - loss: 127.6176\n"
     ]
    },
    {
     "name": "stdout",
     "output_type": "stream",
     "text": [
      "Epoch 1773/5000\n\r30/30 [==============================] - 0s 0s/sample - loss: 127.5626\n"
     ]
    },
    {
     "name": "stdout",
     "output_type": "stream",
     "text": [
      "Epoch 1774/5000\n\r30/30 [==============================] - 0s 0s/sample - loss: 127.5077\n"
     ]
    },
    {
     "name": "stdout",
     "output_type": "stream",
     "text": [
      "Epoch 1775/5000\n\r30/30 [==============================] - 0s 0s/sample - loss: 127.4529\n"
     ]
    },
    {
     "name": "stdout",
     "output_type": "stream",
     "text": [
      "Epoch 1776/5000\n\r30/30 [==============================] - 0s 0s/sample - loss: 127.3983\n"
     ]
    },
    {
     "name": "stdout",
     "output_type": "stream",
     "text": [
      "Epoch 1777/5000\n\r30/30 [==============================] - 0s 0s/sample - loss: 127.3438\n"
     ]
    },
    {
     "name": "stdout",
     "output_type": "stream",
     "text": [
      "Epoch 1778/5000\n\r30/30 [==============================] - 0s 0s/sample - loss: 127.2895\n"
     ]
    },
    {
     "name": "stdout",
     "output_type": "stream",
     "text": [
      "Epoch 1779/5000\n\r30/30 [==============================] - 0s 0s/sample - loss: 127.2353\n"
     ]
    },
    {
     "name": "stdout",
     "output_type": "stream",
     "text": [
      "Epoch 1780/5000\n\r30/30 [==============================] - 0s 333us/sample - loss: 127.1812\n"
     ]
    },
    {
     "name": "stdout",
     "output_type": "stream",
     "text": [
      "Epoch 1781/5000\n\r30/30 [==============================] - 0s 0s/sample - loss: 127.1272\n"
     ]
    },
    {
     "name": "stdout",
     "output_type": "stream",
     "text": [
      "Epoch 1782/5000\n\r30/30 [==============================] - 0s 0s/sample - loss: 127.0734\n"
     ]
    },
    {
     "name": "stdout",
     "output_type": "stream",
     "text": [
      "Epoch 1783/5000\n\r30/30 [==============================] - 0s 0s/sample - loss: 127.0197\n"
     ]
    },
    {
     "name": "stdout",
     "output_type": "stream",
     "text": [
      "Epoch 1784/5000\n\r30/30 [==============================] - 0s 333us/sample - loss: 126.9662\n"
     ]
    },
    {
     "name": "stdout",
     "output_type": "stream",
     "text": [
      "Epoch 1785/5000\n\r30/30 [==============================] - 0s 0s/sample - loss: 126.9127\n"
     ]
    },
    {
     "name": "stdout",
     "output_type": "stream",
     "text": [
      "Epoch 1786/5000\n\r30/30 [==============================] - 0s 0s/sample - loss: 126.8594\n"
     ]
    },
    {
     "name": "stdout",
     "output_type": "stream",
     "text": [
      "Epoch 1787/5000\n\r30/30 [==============================] - 0s 0s/sample - loss: 126.8062\n"
     ]
    },
    {
     "name": "stdout",
     "output_type": "stream",
     "text": [
      "Epoch 1788/5000\n"
     ]
    },
    {
     "name": "stdout",
     "output_type": "stream",
     "text": [
      "\r30/30 [==============================] - 0s 333us/sample - loss: 126.7532\n"
     ]
    },
    {
     "name": "stdout",
     "output_type": "stream",
     "text": [
      "Epoch 1789/5000\n\r30/30 [==============================] - 0s 0s/sample - loss: 126.7003\n"
     ]
    },
    {
     "name": "stdout",
     "output_type": "stream",
     "text": [
      "Epoch 1790/5000\n\r30/30 [==============================] - 0s 0s/sample - loss: 126.6475\n"
     ]
    },
    {
     "name": "stdout",
     "output_type": "stream",
     "text": [
      "Epoch 1791/5000\n\r30/30 [==============================] - 0s 0s/sample - loss: 126.5949\n"
     ]
    },
    {
     "name": "stdout",
     "output_type": "stream",
     "text": [
      "Epoch 1792/5000\n"
     ]
    },
    {
     "name": "stdout",
     "output_type": "stream",
     "text": [
      "\r30/30 [==============================] - 0s 0s/sample - loss: 126.5424\n"
     ]
    },
    {
     "name": "stdout",
     "output_type": "stream",
     "text": [
      "Epoch 1793/5000\n\r30/30 [==============================] - 0s 0s/sample - loss: 126.4900\n"
     ]
    },
    {
     "name": "stdout",
     "output_type": "stream",
     "text": [
      "Epoch 1794/5000\n\r30/30 [==============================] - 0s 0s/sample - loss: 126.4377\n"
     ]
    },
    {
     "name": "stdout",
     "output_type": "stream",
     "text": [
      "Epoch 1795/5000\n\r30/30 [==============================] - 0s 0s/sample - loss: 126.3856\n"
     ]
    },
    {
     "name": "stdout",
     "output_type": "stream",
     "text": [
      "Epoch 1796/5000\n\r30/30 [==============================] - 0s 0s/sample - loss: 126.3336\n"
     ]
    },
    {
     "name": "stdout",
     "output_type": "stream",
     "text": [
      "Epoch 1797/5000\n\r30/30 [==============================] - 0s 333us/sample - loss: 126.2817\n"
     ]
    },
    {
     "name": "stdout",
     "output_type": "stream",
     "text": [
      "Epoch 1798/5000\n\r30/30 [==============================] - 0s 0s/sample - loss: 126.2300\n"
     ]
    },
    {
     "name": "stdout",
     "output_type": "stream",
     "text": [
      "Epoch 1799/5000\n\r30/30 [==============================] - 0s 0s/sample - loss: 126.1784\n"
     ]
    },
    {
     "name": "stdout",
     "output_type": "stream",
     "text": [
      "Epoch 1800/5000\n\r30/30 [==============================] - 0s 0s/sample - loss: 126.1269\n"
     ]
    },
    {
     "name": "stdout",
     "output_type": "stream",
     "text": [
      "Epoch 1801/5000\n"
     ]
    },
    {
     "name": "stdout",
     "output_type": "stream",
     "text": [
      "\r30/30 [==============================] - 0s 333us/sample - loss: 126.0756\n"
     ]
    },
    {
     "name": "stdout",
     "output_type": "stream",
     "text": [
      "Epoch 1802/5000\n\r30/30 [==============================] - 0s 0s/sample - loss: 126.0243\n"
     ]
    },
    {
     "name": "stdout",
     "output_type": "stream",
     "text": [
      "Epoch 1803/5000\n\r30/30 [==============================] - 0s 0s/sample - loss: 125.9732\n"
     ]
    },
    {
     "name": "stdout",
     "output_type": "stream",
     "text": [
      "Epoch 1804/5000\n\r30/30 [==============================] - 0s 0s/sample - loss: 125.9223\n"
     ]
    },
    {
     "name": "stdout",
     "output_type": "stream",
     "text": [
      "Epoch 1805/5000"
     ]
    },
    {
     "name": "stdout",
     "output_type": "stream",
     "text": [
      "\n\r30/30 [==============================] - 0s 333us/sample - loss: 125.8714\n"
     ]
    },
    {
     "name": "stdout",
     "output_type": "stream",
     "text": [
      "Epoch 1806/5000\n\r30/30 [==============================] - 0s 0s/sample - loss: 125.8207\n"
     ]
    },
    {
     "name": "stdout",
     "output_type": "stream",
     "text": [
      "Epoch 1807/5000\n\r30/30 [==============================] - 0s 0s/sample - loss: 125.7701\n"
     ]
    },
    {
     "name": "stdout",
     "output_type": "stream",
     "text": [
      "Epoch 1808/5000\n\r30/30 [==============================] - 0s 0s/sample - loss: 125.7196\n"
     ]
    },
    {
     "name": "stdout",
     "output_type": "stream",
     "text": [
      "Epoch 1809/5000\n\r30/30 [==============================] - 0s 0s/sample - loss: 125.6693\n"
     ]
    },
    {
     "name": "stdout",
     "output_type": "stream",
     "text": [
      "Epoch 1810/5000\n\r30/30 [==============================] - 0s 0s/sample - loss: 125.6191\n"
     ]
    },
    {
     "name": "stdout",
     "output_type": "stream",
     "text": [
      "Epoch 1811/5000\n\r30/30 [==============================] - 0s 0s/sample - loss: 125.5690\n"
     ]
    },
    {
     "name": "stdout",
     "output_type": "stream",
     "text": [
      "Epoch 1812/5000\n\r30/30 [==============================] - 0s 0s/sample - loss: 125.5190\n"
     ]
    },
    {
     "name": "stdout",
     "output_type": "stream",
     "text": [
      "Epoch 1813/5000\n\r30/30 [==============================] - 0s 0s/sample - loss: 125.4692\n"
     ]
    },
    {
     "name": "stdout",
     "output_type": "stream",
     "text": [
      "Epoch 1814/5000\n\r30/30 [==============================] - 0s 0s/sample - loss: 125.4195\n"
     ]
    },
    {
     "name": "stdout",
     "output_type": "stream",
     "text": [
      "Epoch 1815/5000\n\r30/30 [==============================] - 0s 0s/sample - loss: 125.3699\n"
     ]
    },
    {
     "name": "stdout",
     "output_type": "stream",
     "text": [
      "Epoch 1816/5000\n\r30/30 [==============================] - 0s 0s/sample - loss: 125.3204\n"
     ]
    },
    {
     "name": "stdout",
     "output_type": "stream",
     "text": [
      "Epoch 1817/5000\n\r30/30 [==============================] - 0s 0s/sample - loss: 125.2711\n"
     ]
    },
    {
     "name": "stdout",
     "output_type": "stream",
     "text": [
      "Epoch 1818/5000\n"
     ]
    },
    {
     "name": "stdout",
     "output_type": "stream",
     "text": [
      "\r30/30 [==============================] - 0s 333us/sample - loss: 125.2219\n"
     ]
    },
    {
     "name": "stdout",
     "output_type": "stream",
     "text": [
      "Epoch 1819/5000\n\r30/30 [==============================] - 0s 0s/sample - loss: 125.1728\n"
     ]
    },
    {
     "name": "stdout",
     "output_type": "stream",
     "text": [
      "Epoch 1820/5000\n\r30/30 [==============================] - 0s 0s/sample - loss: 125.1238\n"
     ]
    },
    {
     "name": "stdout",
     "output_type": "stream",
     "text": [
      "Epoch 1821/5000\n\r30/30 [==============================] - 0s 0s/sample - loss: 125.0749\n"
     ]
    },
    {
     "name": "stdout",
     "output_type": "stream",
     "text": [
      "Epoch 1822/5000\n"
     ]
    },
    {
     "name": "stdout",
     "output_type": "stream",
     "text": [
      "\r30/30 [==============================] - 0s 333us/sample - loss: 125.0262\n"
     ]
    },
    {
     "name": "stdout",
     "output_type": "stream",
     "text": [
      "Epoch 1823/5000\n\r30/30 [==============================] - 0s 0s/sample - loss: 124.9776\n"
     ]
    },
    {
     "name": "stdout",
     "output_type": "stream",
     "text": [
      "Epoch 1824/5000\n\r30/30 [==============================] - 0s 0s/sample - loss: 124.9292\n"
     ]
    },
    {
     "name": "stdout",
     "output_type": "stream",
     "text": [
      "Epoch 1825/5000\n\r30/30 [==============================] - 0s 0s/sample - loss: 124.8808\n"
     ]
    },
    {
     "name": "stdout",
     "output_type": "stream",
     "text": [
      "Epoch 1826/5000\n"
     ]
    },
    {
     "name": "stdout",
     "output_type": "stream",
     "text": [
      "\r30/30 [==============================] - 0s 333us/sample - loss: 124.8325\n"
     ]
    },
    {
     "name": "stdout",
     "output_type": "stream",
     "text": [
      "Epoch 1827/5000\n\r30/30 [==============================] - 0s 0s/sample - loss: 124.7844\n"
     ]
    },
    {
     "name": "stdout",
     "output_type": "stream",
     "text": [
      "Epoch 1828/5000\n\r30/30 [==============================] - 0s 0s/sample - loss: 124.7364\n"
     ]
    },
    {
     "name": "stdout",
     "output_type": "stream",
     "text": [
      "Epoch 1829/5000\n\r30/30 [==============================] - 0s 0s/sample - loss: 124.6885\n"
     ]
    },
    {
     "name": "stdout",
     "output_type": "stream",
     "text": [
      "Epoch 1830/5000\n\r30/30 [==============================] - 0s 0s/sample - loss: 124.6408\n"
     ]
    },
    {
     "name": "stdout",
     "output_type": "stream",
     "text": [
      "Epoch 1831/5000\n\r30/30 [==============================] - 0s 0s/sample - loss: 124.5932\n"
     ]
    },
    {
     "name": "stdout",
     "output_type": "stream",
     "text": [
      "Epoch 1832/5000\n\r30/30 [==============================] - 0s 0s/sample - loss: 124.5456\n"
     ]
    },
    {
     "name": "stdout",
     "output_type": "stream",
     "text": [
      "Epoch 1833/5000\n\r30/30 [==============================] - 0s 0s/sample - loss: 124.4983\n"
     ]
    },
    {
     "name": "stdout",
     "output_type": "stream",
     "text": [
      "Epoch 1834/5000\n\r30/30 [==============================] - 0s 0s/sample - loss: 124.4510\n"
     ]
    },
    {
     "name": "stdout",
     "output_type": "stream",
     "text": [
      "Epoch 1835/5000\n\r30/30 [==============================] - 0s 0s/sample - loss: 124.4038\n"
     ]
    },
    {
     "name": "stdout",
     "output_type": "stream",
     "text": [
      "Epoch 1836/5000\n\r30/30 [==============================] - 0s 0s/sample - loss: 124.3568\n"
     ]
    },
    {
     "name": "stdout",
     "output_type": "stream",
     "text": [
      "Epoch 1837/5000\n\r30/30 [==============================] - 0s 0s/sample - loss: 124.3099\n"
     ]
    },
    {
     "name": "stdout",
     "output_type": "stream",
     "text": [
      "Epoch 1838/5000\n\r30/30 [==============================] - 0s 0s/sample - loss: 124.2631\n"
     ]
    },
    {
     "name": "stdout",
     "output_type": "stream",
     "text": [
      "Epoch 1839/5000\n\r30/30 [==============================] - 0s 333us/sample - loss: 124.2164\n"
     ]
    },
    {
     "name": "stdout",
     "output_type": "stream",
     "text": [
      "Epoch 1840/5000\n\r30/30 [==============================] - 0s 0s/sample - loss: 124.1698\n"
     ]
    },
    {
     "name": "stdout",
     "output_type": "stream",
     "text": [
      "Epoch 1841/5000\n\r30/30 [==============================] - 0s 0s/sample - loss: 124.1234\n"
     ]
    },
    {
     "name": "stdout",
     "output_type": "stream",
     "text": [
      "Epoch 1842/5000\n\r30/30 [==============================] - 0s 0s/sample - loss: 124.0771\n"
     ]
    },
    {
     "name": "stdout",
     "output_type": "stream",
     "text": [
      "Epoch 1843/5000\n"
     ]
    },
    {
     "name": "stdout",
     "output_type": "stream",
     "text": [
      "\r30/30 [==============================] - 0s 333us/sample - loss: 124.0309\n"
     ]
    },
    {
     "name": "stdout",
     "output_type": "stream",
     "text": [
      "Epoch 1844/5000\n\r30/30 [==============================] - 0s 0s/sample - loss: 123.9848\n"
     ]
    },
    {
     "name": "stdout",
     "output_type": "stream",
     "text": [
      "Epoch 1845/5000\n\r30/30 [==============================] - 0s 0s/sample - loss: 123.9388\n"
     ]
    },
    {
     "name": "stdout",
     "output_type": "stream",
     "text": [
      "Epoch 1846/5000\n\r30/30 [==============================] - 0s 0s/sample - loss: 123.8930\n"
     ]
    },
    {
     "name": "stdout",
     "output_type": "stream",
     "text": [
      "Epoch 1847/5000\n\r30/30 [==============================] - 0s 0s/sample - loss: 123.8473\n"
     ]
    },
    {
     "name": "stdout",
     "output_type": "stream",
     "text": [
      "Epoch 1848/5000\n\r30/30 [==============================] - 0s 0s/sample - loss: 123.8017\n"
     ]
    },
    {
     "name": "stdout",
     "output_type": "stream",
     "text": [
      "Epoch 1849/5000\n\r30/30 [==============================] - 0s 0s/sample - loss: 123.7561\n"
     ]
    },
    {
     "name": "stdout",
     "output_type": "stream",
     "text": [
      "Epoch 1850/5000\n\r30/30 [==============================] - 0s 0s/sample - loss: 123.7108\n"
     ]
    },
    {
     "name": "stdout",
     "output_type": "stream",
     "text": [
      "Epoch 1851/5000\n\r30/30 [==============================] - 0s 0s/sample - loss: 123.6655\n"
     ]
    },
    {
     "name": "stdout",
     "output_type": "stream",
     "text": [
      "Epoch 1852/5000\n\r30/30 [==============================] - 0s 0s/sample - loss: 123.6203\n"
     ]
    },
    {
     "name": "stdout",
     "output_type": "stream",
     "text": [
      "Epoch 1853/5000\n\r30/30 [==============================] - 0s 0s/sample - loss: 123.5753\n"
     ]
    },
    {
     "name": "stdout",
     "output_type": "stream",
     "text": [
      "Epoch 1854/5000\n\r30/30 [==============================] - 0s 0s/sample - loss: 123.5304\n"
     ]
    },
    {
     "name": "stdout",
     "output_type": "stream",
     "text": [
      "Epoch 1855/5000\n\r30/30 [==============================] - 0s 0s/sample - loss: 123.4856\n"
     ]
    },
    {
     "name": "stdout",
     "output_type": "stream",
     "text": [
      "Epoch 1856/5000\n"
     ]
    },
    {
     "name": "stdout",
     "output_type": "stream",
     "text": [
      "\r30/30 [==============================] - 0s 333us/sample - loss: 123.4409\n"
     ]
    },
    {
     "name": "stdout",
     "output_type": "stream",
     "text": [
      "Epoch 1857/5000\n\r30/30 [==============================] - 0s 0s/sample - loss: 123.3963\n"
     ]
    },
    {
     "name": "stdout",
     "output_type": "stream",
     "text": [
      "Epoch 1858/5000\n\r30/30 [==============================] - 0s 0s/sample - loss: 123.3519\n"
     ]
    },
    {
     "name": "stdout",
     "output_type": "stream",
     "text": [
      "Epoch 1859/5000\n\r30/30 [==============================] - 0s 0s/sample - loss: 123.3075\n"
     ]
    },
    {
     "name": "stdout",
     "output_type": "stream",
     "text": [
      "Epoch 1860/5000\n\r30/30 [==============================] - 0s 333us/sample - loss: 123.2633\n"
     ]
    },
    {
     "name": "stdout",
     "output_type": "stream",
     "text": [
      "Epoch 1861/5000\n\r30/30 [==============================] - 0s 0s/sample - loss: 123.2191\n"
     ]
    },
    {
     "name": "stdout",
     "output_type": "stream",
     "text": [
      "Epoch 1862/5000\n\r30/30 [==============================] - 0s 0s/sample - loss: 123.1751\n"
     ]
    },
    {
     "name": "stdout",
     "output_type": "stream",
     "text": [
      "Epoch 1863/5000\n\r30/30 [==============================] - 0s 0s/sample - loss: 123.1312\n"
     ]
    },
    {
     "name": "stdout",
     "output_type": "stream",
     "text": [
      "Epoch 1864/5000\n"
     ]
    },
    {
     "name": "stdout",
     "output_type": "stream",
     "text": [
      "\r30/30 [==============================] - 0s 333us/sample - loss: 123.0875\n"
     ]
    },
    {
     "name": "stdout",
     "output_type": "stream",
     "text": [
      "Epoch 1865/5000\n\r30/30 [==============================] - 0s 0s/sample - loss: 123.0438\n"
     ]
    },
    {
     "name": "stdout",
     "output_type": "stream",
     "text": [
      "Epoch 1866/5000\n\r30/30 [==============================] - 0s 0s/sample - loss: 123.0002\n"
     ]
    },
    {
     "name": "stdout",
     "output_type": "stream",
     "text": [
      "Epoch 1867/5000\n\r30/30 [==============================] - 0s 0s/sample - loss: 122.9568\n"
     ]
    },
    {
     "name": "stdout",
     "output_type": "stream",
     "text": [
      "Epoch 1868/5000\n"
     ]
    },
    {
     "name": "stdout",
     "output_type": "stream",
     "text": [
      "\r30/30 [==============================] - 0s 0s/sample - loss: 122.9135\n"
     ]
    },
    {
     "name": "stdout",
     "output_type": "stream",
     "text": [
      "Epoch 1869/5000\n\r30/30 [==============================] - 0s 0s/sample - loss: 122.8702\n"
     ]
    },
    {
     "name": "stdout",
     "output_type": "stream",
     "text": [
      "Epoch 1870/5000\n\r30/30 [==============================] - 0s 0s/sample - loss: 122.8271\n"
     ]
    },
    {
     "name": "stdout",
     "output_type": "stream",
     "text": [
      "Epoch 1871/5000\n\r30/30 [==============================] - 0s 0s/sample - loss: 122.7841\n"
     ]
    },
    {
     "name": "stdout",
     "output_type": "stream",
     "text": [
      "Epoch 1872/5000\n"
     ]
    },
    {
     "name": "stdout",
     "output_type": "stream",
     "text": [
      "\r30/30 [==============================] - 0s 0s/sample - loss: 122.7413\n"
     ]
    },
    {
     "name": "stdout",
     "output_type": "stream",
     "text": [
      "Epoch 1873/5000\n\r30/30 [==============================] - 0s 0s/sample - loss: 122.6985\n"
     ]
    },
    {
     "name": "stdout",
     "output_type": "stream",
     "text": [
      "Epoch 1874/5000\n\r30/30 [==============================] - 0s 0s/sample - loss: 122.6558\n"
     ]
    },
    {
     "name": "stdout",
     "output_type": "stream",
     "text": [
      "Epoch 1875/5000\n\r30/30 [==============================] - 0s 0s/sample - loss: 122.6132\n"
     ]
    },
    {
     "name": "stdout",
     "output_type": "stream",
     "text": [
      "Epoch 1876/5000\n\r30/30 [==============================] - 0s 0s/sample - loss: 122.5708\n"
     ]
    },
    {
     "name": "stdout",
     "output_type": "stream",
     "text": [
      "Epoch 1877/5000"
     ]
    },
    {
     "name": "stdout",
     "output_type": "stream",
     "text": [
      "\n\r30/30 [==============================] - 0s 333us/sample - loss: 122.5285\n"
     ]
    },
    {
     "name": "stdout",
     "output_type": "stream",
     "text": [
      "Epoch 1878/5000\n\r30/30 [==============================] - 0s 0s/sample - loss: 122.4862\n"
     ]
    },
    {
     "name": "stdout",
     "output_type": "stream",
     "text": [
      "Epoch 1879/5000\n\r30/30 [==============================] - 0s 0s/sample - loss: 122.4441\n"
     ]
    },
    {
     "name": "stdout",
     "output_type": "stream",
     "text": [
      "Epoch 1880/5000\n\r30/30 [==============================] - 0s 0s/sample - loss: 122.4021\n"
     ]
    },
    {
     "name": "stdout",
     "output_type": "stream",
     "text": [
      "Epoch 1881/5000\n\r30/30 [==============================] - 0s 333us/sample - loss: 122.3602\n"
     ]
    },
    {
     "name": "stdout",
     "output_type": "stream",
     "text": [
      "Epoch 1882/5000\n\r30/30 [==============================] - 0s 0s/sample - loss: 122.3185\n"
     ]
    },
    {
     "name": "stdout",
     "output_type": "stream",
     "text": [
      "Epoch 1883/5000\n\r30/30 [==============================] - 0s 0s/sample - loss: 122.2768\n"
     ]
    },
    {
     "name": "stdout",
     "output_type": "stream",
     "text": [
      "Epoch 1884/5000\n\r30/30 [==============================] - 0s 0s/sample - loss: 122.2352\n"
     ]
    },
    {
     "name": "stdout",
     "output_type": "stream",
     "text": [
      "Epoch 1885/5000\n"
     ]
    },
    {
     "name": "stdout",
     "output_type": "stream",
     "text": [
      "\r30/30 [==============================] - 0s 333us/sample - loss: 122.1938\n"
     ]
    },
    {
     "name": "stdout",
     "output_type": "stream",
     "text": [
      "Epoch 1886/5000\n\r30/30 [==============================] - 0s 0s/sample - loss: 122.1524\n"
     ]
    },
    {
     "name": "stdout",
     "output_type": "stream",
     "text": [
      "Epoch 1887/5000\n\r30/30 [==============================] - 0s 0s/sample - loss: 122.1112\n"
     ]
    },
    {
     "name": "stdout",
     "output_type": "stream",
     "text": [
      "Epoch 1888/5000\n\r30/30 [==============================] - 0s 0s/sample - loss: 122.0700\n"
     ]
    },
    {
     "name": "stdout",
     "output_type": "stream",
     "text": [
      "Epoch 1889/5000"
     ]
    },
    {
     "name": "stdout",
     "output_type": "stream",
     "text": [
      "\n\r30/30 [==============================] - 0s 333us/sample - loss: 122.0290\n"
     ]
    },
    {
     "name": "stdout",
     "output_type": "stream",
     "text": [
      "Epoch 1890/5000\n\r30/30 [==============================] - 0s 0s/sample - loss: 121.9881\n"
     ]
    },
    {
     "name": "stdout",
     "output_type": "stream",
     "text": [
      "Epoch 1891/5000\n\r30/30 [==============================] - 0s 0s/sample - loss: 121.9472\n"
     ]
    },
    {
     "name": "stdout",
     "output_type": "stream",
     "text": [
      "Epoch 1892/5000\n\r30/30 [==============================] - 0s 0s/sample - loss: 121.9066\n"
     ]
    },
    {
     "name": "stdout",
     "output_type": "stream",
     "text": [
      "Epoch 1893/5000\n\r30/30 [==============================] - 0s 333us/sample - loss: 121.8659\n"
     ]
    },
    {
     "name": "stdout",
     "output_type": "stream",
     "text": [
      "Epoch 1894/5000\n\r30/30 [==============================] - 0s 0s/sample - loss: 121.8255\n"
     ]
    },
    {
     "name": "stdout",
     "output_type": "stream",
     "text": [
      "Epoch 1895/5000\n\r30/30 [==============================] - 0s 0s/sample - loss: 121.7851\n"
     ]
    },
    {
     "name": "stdout",
     "output_type": "stream",
     "text": [
      "Epoch 1896/5000\n\r30/30 [==============================] - 0s 0s/sample - loss: 121.7448\n"
     ]
    },
    {
     "name": "stdout",
     "output_type": "stream",
     "text": [
      "Epoch 1897/5000\n"
     ]
    },
    {
     "name": "stdout",
     "output_type": "stream",
     "text": [
      "\r30/30 [==============================] - 0s 333us/sample - loss: 121.7046\n"
     ]
    },
    {
     "name": "stdout",
     "output_type": "stream",
     "text": [
      "Epoch 1898/5000\n\r30/30 [==============================] - 0s 0s/sample - loss: 121.6645\n"
     ]
    },
    {
     "name": "stdout",
     "output_type": "stream",
     "text": [
      "Epoch 1899/5000\n\r30/30 [==============================] - 0s 0s/sample - loss: 121.6246\n"
     ]
    },
    {
     "name": "stdout",
     "output_type": "stream",
     "text": [
      "Epoch 1900/5000\n\r30/30 [==============================] - 0s 0s/sample - loss: 121.5847\n"
     ]
    },
    {
     "name": "stdout",
     "output_type": "stream",
     "text": [
      "Epoch 1901/5000\n"
     ]
    },
    {
     "name": "stdout",
     "output_type": "stream",
     "text": [
      "\r30/30 [==============================] - 0s 333us/sample - loss: 121.5449\n"
     ]
    },
    {
     "name": "stdout",
     "output_type": "stream",
     "text": [
      "Epoch 1902/5000\n\r30/30 [==============================] - 0s 0s/sample - loss: 121.5053\n"
     ]
    },
    {
     "name": "stdout",
     "output_type": "stream",
     "text": [
      "Epoch 1903/5000\n\r30/30 [==============================] - 0s 0s/sample - loss: 121.4657\n"
     ]
    },
    {
     "name": "stdout",
     "output_type": "stream",
     "text": [
      "Epoch 1904/5000\n\r30/30 [==============================] - 0s 0s/sample - loss: 121.4263\n"
     ]
    },
    {
     "name": "stdout",
     "output_type": "stream",
     "text": [
      "Epoch 1905/5000\n\r30/30 [==============================] - 0s 333us/sample - loss: 121.3869\n"
     ]
    },
    {
     "name": "stdout",
     "output_type": "stream",
     "text": [
      "Epoch 1906/5000\n\r30/30 [==============================] - 0s 0s/sample - loss: 121.3477\n"
     ]
    },
    {
     "name": "stdout",
     "output_type": "stream",
     "text": [
      "Epoch 1907/5000\n\r30/30 [==============================] - 0s 0s/sample - loss: 121.3086\n"
     ]
    },
    {
     "name": "stdout",
     "output_type": "stream",
     "text": [
      "Epoch 1908/5000\n\r30/30 [==============================] - 0s 0s/sample - loss: 121.2695\n"
     ]
    },
    {
     "name": "stdout",
     "output_type": "stream",
     "text": [
      "Epoch 1909/5000\n"
     ]
    },
    {
     "name": "stdout",
     "output_type": "stream",
     "text": [
      "\r30/30 [==============================] - 0s 0s/sample - loss: 121.2306\n"
     ]
    },
    {
     "name": "stdout",
     "output_type": "stream",
     "text": [
      "Epoch 1910/5000\n\r30/30 [==============================] - 0s 0s/sample - loss: 121.1918\n"
     ]
    },
    {
     "name": "stdout",
     "output_type": "stream",
     "text": [
      "Epoch 1911/5000\n\r30/30 [==============================] - 0s 0s/sample - loss: 121.1530\n"
     ]
    },
    {
     "name": "stdout",
     "output_type": "stream",
     "text": [
      "Epoch 1912/5000\n\r30/30 [==============================] - 0s 0s/sample - loss: 121.1144\n"
     ]
    },
    {
     "name": "stdout",
     "output_type": "stream",
     "text": [
      "Epoch 1913/5000\n\r30/30 [==============================] - 0s 0s/sample - loss: 121.0759\n"
     ]
    },
    {
     "name": "stdout",
     "output_type": "stream",
     "text": [
      "Epoch 1914/5000\n\r30/30 [==============================] - 0s 333us/sample - loss: 121.0375\n"
     ]
    },
    {
     "name": "stdout",
     "output_type": "stream",
     "text": [
      "Epoch 1915/5000\n\r30/30 [==============================] - 0s 0s/sample - loss: 120.9992\n"
     ]
    },
    {
     "name": "stdout",
     "output_type": "stream",
     "text": [
      "Epoch 1916/5000\n\r30/30 [==============================] - 0s 0s/sample - loss: 120.9610\n"
     ]
    },
    {
     "name": "stdout",
     "output_type": "stream",
     "text": [
      "Epoch 1917/5000\n\r30/30 [==============================] - 0s 0s/sample - loss: 120.9228\n"
     ]
    },
    {
     "name": "stdout",
     "output_type": "stream",
     "text": [
      "Epoch 1918/5000\n"
     ]
    },
    {
     "name": "stdout",
     "output_type": "stream",
     "text": [
      "\r30/30 [==============================] - 0s 333us/sample - loss: 120.8848\n"
     ]
    },
    {
     "name": "stdout",
     "output_type": "stream",
     "text": [
      "Epoch 1919/5000\n\r30/30 [==============================] - 0s 0s/sample - loss: 120.8469\n"
     ]
    },
    {
     "name": "stdout",
     "output_type": "stream",
     "text": [
      "Epoch 1920/5000\n\r30/30 [==============================] - 0s 0s/sample - loss: 120.8091\n"
     ]
    },
    {
     "name": "stdout",
     "output_type": "stream",
     "text": [
      "Epoch 1921/5000\n\r30/30 [==============================] - 0s 0s/sample - loss: 120.7714\n"
     ]
    },
    {
     "name": "stdout",
     "output_type": "stream",
     "text": [
      "Epoch 1922/5000\n\r30/30 [==============================] - 0s 0s/sample - loss: 120.7338\n"
     ]
    },
    {
     "name": "stdout",
     "output_type": "stream",
     "text": [
      "Epoch 1923/5000\n\r30/30 [==============================] - 0s 333us/sample - loss: 120.6963\n"
     ]
    },
    {
     "name": "stdout",
     "output_type": "stream",
     "text": [
      "Epoch 1924/5000\n\r30/30 [==============================] - 0s 0s/sample - loss: 120.6589\n"
     ]
    },
    {
     "name": "stdout",
     "output_type": "stream",
     "text": [
      "Epoch 1925/5000\n\r30/30 [==============================] - 0s 0s/sample - loss: 120.6216\n"
     ]
    },
    {
     "name": "stdout",
     "output_type": "stream",
     "text": [
      "Epoch 1926/5000\n\r30/30 [==============================] - 0s 0s/sample - loss: 120.5844\n"
     ]
    },
    {
     "name": "stdout",
     "output_type": "stream",
     "text": [
      "Epoch 1927/5000\n\r30/30 [==============================] - 0s 333us/sample - loss: 120.5472\n"
     ]
    },
    {
     "name": "stdout",
     "output_type": "stream",
     "text": [
      "Epoch 1928/5000\n\r30/30 [==============================] - 0s 0s/sample - loss: 120.5103\n"
     ]
    },
    {
     "name": "stdout",
     "output_type": "stream",
     "text": [
      "Epoch 1929/5000\n\r30/30 [==============================] - 0s 0s/sample - loss: 120.4733\n"
     ]
    },
    {
     "name": "stdout",
     "output_type": "stream",
     "text": [
      "Epoch 1930/5000\n\r30/30 [==============================] - 0s 0s/sample - loss: 120.4365\n"
     ]
    },
    {
     "name": "stdout",
     "output_type": "stream",
     "text": [
      "Epoch 1931/5000\n"
     ]
    },
    {
     "name": "stdout",
     "output_type": "stream",
     "text": [
      "\r30/30 [==============================] - 0s 333us/sample - loss: 120.3998\n"
     ]
    },
    {
     "name": "stdout",
     "output_type": "stream",
     "text": [
      "Epoch 1932/5000\n\r30/30 [==============================] - 0s 0s/sample - loss: 120.3632\n"
     ]
    },
    {
     "name": "stdout",
     "output_type": "stream",
     "text": [
      "Epoch 1933/5000\n\r30/30 [==============================] - 0s 0s/sample - loss: 120.3267\n"
     ]
    },
    {
     "name": "stdout",
     "output_type": "stream",
     "text": [
      "Epoch 1934/5000\n\r30/30 [==============================] - 0s 0s/sample - loss: 120.2902\n"
     ]
    },
    {
     "name": "stdout",
     "output_type": "stream",
     "text": [
      "Epoch 1935/5000\n\r30/30 [==============================] - 0s 0s/sample - loss: 120.2539\n"
     ]
    },
    {
     "name": "stdout",
     "output_type": "stream",
     "text": [
      "Epoch 1936/5000\n\r30/30 [==============================] - 0s 0s/sample - loss: 120.2177\n"
     ]
    },
    {
     "name": "stdout",
     "output_type": "stream",
     "text": [
      "Epoch 1937/5000\n\r30/30 [==============================] - 0s 0s/sample - loss: 120.1815\n"
     ]
    },
    {
     "name": "stdout",
     "output_type": "stream",
     "text": [
      "Epoch 1938/5000\n\r30/30 [==============================] - 0s 0s/sample - loss: 120.1455\n"
     ]
    },
    {
     "name": "stdout",
     "output_type": "stream",
     "text": [
      "Epoch 1939/5000\n\r30/30 [==============================] - 0s 0s/sample - loss: 120.1096\n"
     ]
    },
    {
     "name": "stdout",
     "output_type": "stream",
     "text": [
      "Epoch 1940/5000"
     ]
    },
    {
     "name": "stdout",
     "output_type": "stream",
     "text": [
      "\n\r30/30 [==============================] - 0s 333us/sample - loss: 120.0738\n"
     ]
    },
    {
     "name": "stdout",
     "output_type": "stream",
     "text": [
      "Epoch 1941/5000\n\r30/30 [==============================] - 0s 0s/sample - loss: 120.0380\n"
     ]
    },
    {
     "name": "stdout",
     "output_type": "stream",
     "text": [
      "Epoch 1942/5000\n\r30/30 [==============================] - 0s 0s/sample - loss: 120.0023\n"
     ]
    },
    {
     "name": "stdout",
     "output_type": "stream",
     "text": [
      "Epoch 1943/5000\n\r30/30 [==============================] - 0s 0s/sample - loss: 119.9668\n"
     ]
    },
    {
     "name": "stdout",
     "output_type": "stream",
     "text": [
      "Epoch 1944/5000\n"
     ]
    },
    {
     "name": "stdout",
     "output_type": "stream",
     "text": [
      "\r30/30 [==============================] - 0s 333us/sample - loss: 119.9313\n"
     ]
    },
    {
     "name": "stdout",
     "output_type": "stream",
     "text": [
      "Epoch 1945/5000\n\r30/30 [==============================] - 0s 0s/sample - loss: 119.8960\n"
     ]
    },
    {
     "name": "stdout",
     "output_type": "stream",
     "text": [
      "Epoch 1946/5000\n\r30/30 [==============================] - 0s 0s/sample - loss: 119.8607\n"
     ]
    },
    {
     "name": "stdout",
     "output_type": "stream",
     "text": [
      "Epoch 1947/5000\n\r30/30 [==============================] - 0s 0s/sample - loss: 119.8255\n"
     ]
    },
    {
     "name": "stdout",
     "output_type": "stream",
     "text": [
      "Epoch 1948/5000\n"
     ]
    },
    {
     "name": "stdout",
     "output_type": "stream",
     "text": [
      "\r30/30 [==============================] - 0s 333us/sample - loss: 119.7905\n"
     ]
    },
    {
     "name": "stdout",
     "output_type": "stream",
     "text": [
      "Epoch 1949/5000\n\r30/30 [==============================] - 0s 0s/sample - loss: 119.7555\n"
     ]
    },
    {
     "name": "stdout",
     "output_type": "stream",
     "text": [
      "Epoch 1950/5000\n\r30/30 [==============================] - 0s 0s/sample - loss: 119.7206\n"
     ]
    },
    {
     "name": "stdout",
     "output_type": "stream",
     "text": [
      "Epoch 1951/5000\n\r30/30 [==============================] - 0s 0s/sample - loss: 119.6858\n"
     ]
    },
    {
     "name": "stdout",
     "output_type": "stream",
     "text": [
      "Epoch 1952/5000\n\r30/30 [==============================] - 0s 0s/sample - loss: 119.6511\n"
     ]
    },
    {
     "name": "stdout",
     "output_type": "stream",
     "text": [
      "Epoch 1953/5000\n\r30/30 [==============================] - 0s 0s/sample - loss: 119.6165\n"
     ]
    },
    {
     "name": "stdout",
     "output_type": "stream",
     "text": [
      "Epoch 1954/5000\n\r30/30 [==============================] - 0s 0s/sample - loss: 119.5820\n"
     ]
    },
    {
     "name": "stdout",
     "output_type": "stream",
     "text": [
      "Epoch 1955/5000\n\r30/30 [==============================] - 0s 0s/sample - loss: 119.5476\n"
     ]
    },
    {
     "name": "stdout",
     "output_type": "stream",
     "text": [
      "Epoch 1956/5000\n\r30/30 [==============================] - 0s 0s/sample - loss: 119.5132\n"
     ]
    },
    {
     "name": "stdout",
     "output_type": "stream",
     "text": [
      "Epoch 1957/5000\n\r30/30 [==============================] - 0s 333us/sample - loss: 119.4790\n"
     ]
    },
    {
     "name": "stdout",
     "output_type": "stream",
     "text": [
      "Epoch 1958/5000\n\r30/30 [==============================] - 0s 0s/sample - loss: 119.4449\n"
     ]
    },
    {
     "name": "stdout",
     "output_type": "stream",
     "text": [
      "Epoch 1959/5000\n\r30/30 [==============================] - 0s 0s/sample - loss: 119.4108\n"
     ]
    },
    {
     "name": "stdout",
     "output_type": "stream",
     "text": [
      "Epoch 1960/5000\n\r30/30 [==============================] - 0s 0s/sample - loss: 119.3769\n"
     ]
    },
    {
     "name": "stdout",
     "output_type": "stream",
     "text": [
      "Epoch 1961/5000\n"
     ]
    },
    {
     "name": "stdout",
     "output_type": "stream",
     "text": [
      "\r30/30 [==============================] - 0s 333us/sample - loss: 119.3430\n"
     ]
    },
    {
     "name": "stdout",
     "output_type": "stream",
     "text": [
      "Epoch 1962/5000\n\r30/30 [==============================] - 0s 0s/sample - loss: 119.3092\n"
     ]
    },
    {
     "name": "stdout",
     "output_type": "stream",
     "text": [
      "Epoch 1963/5000\n\r30/30 [==============================] - 0s 0s/sample - loss: 119.2756\n"
     ]
    },
    {
     "name": "stdout",
     "output_type": "stream",
     "text": [
      "Epoch 1964/5000\n\r30/30 [==============================]"
     ]
    },
    {
     "name": "stdout",
     "output_type": "stream",
     "text": [
      " - 0s 0s/sample - loss: 119.2420\n"
     ]
    },
    {
     "name": "stdout",
     "output_type": "stream",
     "text": [
      "Epoch 1965/5000\n"
     ]
    },
    {
     "name": "stdout",
     "output_type": "stream",
     "text": [
      "\r30/30 [==============================] - 0s 132us/sample - loss: 119.2085\n"
     ]
    },
    {
     "name": "stdout",
     "output_type": "stream",
     "text": [
      "Epoch 1966/5000\n\r30/30 [==============================] - 0s 67us/sample - loss: 119.1751\n"
     ]
    },
    {
     "name": "stdout",
     "output_type": "stream",
     "text": [
      "Epoch 1967/5000\n\r30/30 [==============================] - 0s 33us/sample - loss: 119.1418\n"
     ]
    },
    {
     "name": "stdout",
     "output_type": "stream",
     "text": [
      "Epoch 1968/5000\n"
     ]
    },
    {
     "name": "stdout",
     "output_type": "stream",
     "text": [
      "\r30/30 [==============================] - 0s 33us/sample - loss: 119.1086\n"
     ]
    },
    {
     "name": "stdout",
     "output_type": "stream",
     "text": [
      "Epoch 1969/5000\n\r30/30 [==============================] - 0s 33us/sample - loss: 119.0754\n"
     ]
    },
    {
     "name": "stdout",
     "output_type": "stream",
     "text": [
      "Epoch 1970/5000\n\r30/30 [==============================] - 0s 66us/sample - loss: 119.0424\n"
     ]
    },
    {
     "name": "stdout",
     "output_type": "stream",
     "text": [
      "Epoch 1971/5000\n\r30/30 [==============================] - 0s 33us/sample - loss: 119.0094\n"
     ]
    },
    {
     "name": "stdout",
     "output_type": "stream",
     "text": [
      "Epoch 1972/5000\n"
     ]
    },
    {
     "name": "stdout",
     "output_type": "stream",
     "text": [
      "\r30/30 [==============================] - 0s 66us/sample - loss: 118.9765\n"
     ]
    },
    {
     "name": "stdout",
     "output_type": "stream",
     "text": [
      "Epoch 1973/5000\n\r30/30 [==============================] - 0s 33us/sample - loss: 118.9438\n"
     ]
    },
    {
     "name": "stdout",
     "output_type": "stream",
     "text": [
      "Epoch 1974/5000\n\r30/30 [==============================] - 0s 33us/sample - loss: 118.9111\n"
     ]
    },
    {
     "name": "stdout",
     "output_type": "stream",
     "text": [
      "Epoch 1975/5000\n\r30/30 [==============================] - 0s 33us/sample - loss: 118.8785\n"
     ]
    },
    {
     "name": "stdout",
     "output_type": "stream",
     "text": [
      "Epoch 1976/5000\n\r30/30 [==============================] - 0s 66us/sample - loss: 118.8460\n"
     ]
    },
    {
     "name": "stdout",
     "output_type": "stream",
     "text": [
      "Epoch 1977/5000\n\r30/30 [==============================] - 0s 33us/sample - loss: 118.8136\n"
     ]
    },
    {
     "name": "stdout",
     "output_type": "stream",
     "text": [
      "Epoch 1978/5000\n\r30/30 [==============================] - 0s 66us/sample - loss: 118.7813\n"
     ]
    },
    {
     "name": "stdout",
     "output_type": "stream",
     "text": [
      "Epoch 1979/5000\n\r30/30 [==============================] - 0s 67us/sample - loss: 118.7490\n"
     ]
    },
    {
     "name": "stdout",
     "output_type": "stream",
     "text": [
      "Epoch 1980/5000\n\r30/30 [==============================] - 0s 33us/sample - loss: 118.7169\n"
     ]
    },
    {
     "name": "stdout",
     "output_type": "stream",
     "text": [
      "Epoch 1981/5000\n"
     ]
    },
    {
     "name": "stdout",
     "output_type": "stream",
     "text": [
      "\r30/30 [==============================] - 0s 33us/sample - loss: 118.6848\n"
     ]
    },
    {
     "name": "stdout",
     "output_type": "stream",
     "text": [
      "Epoch 1982/5000\n\r30/30 [==============================] - 0s 33us/sample - loss: 118.6528\n"
     ]
    },
    {
     "name": "stdout",
     "output_type": "stream",
     "text": [
      "Epoch 1983/5000\n\r30/30 [==============================] - 0s 66us/sample - loss: 118.6209\n"
     ]
    },
    {
     "name": "stdout",
     "output_type": "stream",
     "text": [
      "Epoch 1984/5000\n\r30/30 [==============================] - 0s 66us/sample - loss: 118.5891\n"
     ]
    },
    {
     "name": "stdout",
     "output_type": "stream",
     "text": [
      "Epoch 1985/5000\n"
     ]
    },
    {
     "name": "stdout",
     "output_type": "stream",
     "text": [
      "\r30/30 [==============================] - 0s 66us/sample - loss: 118.5574\n"
     ]
    },
    {
     "name": "stdout",
     "output_type": "stream",
     "text": [
      "Epoch 1986/5000\n\r30/30 [==============================] - 0s 66us/sample - loss: 118.5258\n"
     ]
    },
    {
     "name": "stdout",
     "output_type": "stream",
     "text": [
      "Epoch 1987/5000\n\r30/30 [==============================] - 0s 67us/sample - loss: 118.4943\n"
     ]
    },
    {
     "name": "stdout",
     "output_type": "stream",
     "text": [
      "Epoch 1988/5000\n\r30/30 [==============================] - 0s 66us/sample - loss: 118.4628\n"
     ]
    },
    {
     "name": "stdout",
     "output_type": "stream",
     "text": [
      "Epoch 1989/5000\n\r30/30 [==============================] - 0s 33us/sample - loss: 118.4315\n"
     ]
    },
    {
     "name": "stdout",
     "output_type": "stream",
     "text": [
      "Epoch 1990/5000\n\r30/30 [==============================] - 0s 33us/sample - loss: 118.4002\n"
     ]
    },
    {
     "name": "stdout",
     "output_type": "stream",
     "text": [
      "Epoch 1991/5000\n\r30/30 [==============================] - 0s 33us/sample - loss: 118.3690\n"
     ]
    },
    {
     "name": "stdout",
     "output_type": "stream",
     "text": [
      "Epoch 1992/5000\n\r30/30 [==============================] - 0s 67us/sample - loss: 118.3379\n"
     ]
    },
    {
     "name": "stdout",
     "output_type": "stream",
     "text": [
      "Epoch 1993/5000\n\r30/30 [==============================] - 0s 66us/sample - loss: 118.3069\n"
     ]
    },
    {
     "name": "stdout",
     "output_type": "stream",
     "text": [
      "Epoch 1994/5000\n"
     ]
    },
    {
     "name": "stdout",
     "output_type": "stream",
     "text": [
      "\r30/30 [==============================] - 0s 66us/sample - loss: 118.2759\n"
     ]
    },
    {
     "name": "stdout",
     "output_type": "stream",
     "text": [
      "Epoch 1995/5000\n\r30/30 [==============================] - 0s 66us/sample - loss: 118.2451\n"
     ]
    },
    {
     "name": "stdout",
     "output_type": "stream",
     "text": [
      "Epoch 1996/5000\n\r30/30 [==============================] - 0s 33us/sample - loss: 118.2143\n"
     ]
    },
    {
     "name": "stdout",
     "output_type": "stream",
     "text": [
      "Epoch 1997/5000\n\r30/30 [==============================] - 0s 33us/sample - loss: 118.1837\n"
     ]
    },
    {
     "name": "stdout",
     "output_type": "stream",
     "text": [
      "Epoch 1998/5000\n"
     ]
    },
    {
     "name": "stdout",
     "output_type": "stream",
     "text": [
      "\r30/30 [==============================] - 0s 67us/sample - loss: 118.1531\n"
     ]
    },
    {
     "name": "stdout",
     "output_type": "stream",
     "text": [
      "Epoch 1999/5000\n\r30/30 [==============================] - 0s 33us/sample - loss: 118.1225\n"
     ]
    },
    {
     "name": "stdout",
     "output_type": "stream",
     "text": [
      "Epoch 2000/5000\n\r30/30 [==============================] - 0s 33us/sample - loss: 118.0921\n"
     ]
    },
    {
     "name": "stdout",
     "output_type": "stream",
     "text": [
      "Epoch 2001/5000\n\r30/30 [==============================] - 0s 66us/sample - loss: 118.0618\n"
     ]
    },
    {
     "name": "stdout",
     "output_type": "stream",
     "text": [
      "Epoch 2002/5000\n\r"
     ]
    },
    {
     "name": "stdout",
     "output_type": "stream",
     "text": [
      "30/30 [==============================] - 0s 33us/sample - loss: 118.0316\n"
     ]
    },
    {
     "name": "stdout",
     "output_type": "stream",
     "text": [
      "Epoch 2003/5000\n\r30/30 [==============================] - 0s 66us/sample - loss: 118.0014\n"
     ]
    },
    {
     "name": "stdout",
     "output_type": "stream",
     "text": [
      "Epoch 2004/5000\n\r30/30 [==============================] - 0s 33us/sample - loss: 117.9713\n"
     ]
    },
    {
     "name": "stdout",
     "output_type": "stream",
     "text": [
      "Epoch 2005/5000\n\r30/30 [==============================] - 0s 100us/sample - loss: 117.9413\n"
     ]
    },
    {
     "name": "stdout",
     "output_type": "stream",
     "text": [
      "Epoch 2006/5000\n"
     ]
    },
    {
     "name": "stdout",
     "output_type": "stream",
     "text": [
      "\r30/30 [==============================] - 0s 33us/sample - loss: 117.9114\n"
     ]
    },
    {
     "name": "stdout",
     "output_type": "stream",
     "text": [
      "Epoch 2007/5000\n\r30/30 [==============================] - 0s 66us/sample - loss: 117.8816\n"
     ]
    },
    {
     "name": "stdout",
     "output_type": "stream",
     "text": [
      "Epoch 2008/5000\n\r30/30 [==============================] - 0s 67us/sample - loss: 117.8518\n"
     ]
    },
    {
     "name": "stdout",
     "output_type": "stream",
     "text": [
      "Epoch 2009/5000\n\r30/30 [==============================] - 0s 33us/sample - loss: 117.8221\n"
     ]
    },
    {
     "name": "stdout",
     "output_type": "stream",
     "text": [
      "Epoch 2010/5000\n"
     ]
    },
    {
     "name": "stdout",
     "output_type": "stream",
     "text": [
      "\r30/30 [==============================] - 0s 66us/sample - loss: 117.7925\n"
     ]
    },
    {
     "name": "stdout",
     "output_type": "stream",
     "text": [
      "Epoch 2011/5000\n\r30/30 [==============================] - 0s 33us/sample - loss: 117.7630\n"
     ]
    },
    {
     "name": "stdout",
     "output_type": "stream",
     "text": [
      "Epoch 2012/5000\n\r30/30 [==============================] - 0s 66us/sample - loss: 117.7336\n"
     ]
    },
    {
     "name": "stdout",
     "output_type": "stream",
     "text": [
      "Epoch 2013/5000\n\r30/30 [==============================] - 0s 66us/sample - loss: 117.7043\n"
     ]
    },
    {
     "name": "stdout",
     "output_type": "stream",
     "text": [
      "Epoch 2014/5000\n\r30/30 [==============================] - 0s 66us/sample - loss: 117.6750\n"
     ]
    },
    {
     "name": "stdout",
     "output_type": "stream",
     "text": [
      "Epoch 2015/5000\n\r30/30 [==============================] - 0s 33us/sample - loss: 117.6459\n"
     ]
    },
    {
     "name": "stdout",
     "output_type": "stream",
     "text": [
      "Epoch 2016/5000\n\r30/30 [==============================] - 0s 66us/sample - loss: 117.6168\n"
     ]
    },
    {
     "name": "stdout",
     "output_type": "stream",
     "text": [
      "Epoch 2017/5000\n\r30/30 [==============================] - 0s 67us/sample - loss: 117.5878\n"
     ]
    },
    {
     "name": "stdout",
     "output_type": "stream",
     "text": [
      "Epoch 2018/5000\n\r30/30 [==============================] - 0s 66us/sample - loss: 117.5588\n"
     ]
    },
    {
     "name": "stdout",
     "output_type": "stream",
     "text": [
      "Epoch 2019/5000\n\r30/30 [==============================] - 0s 33us/sample - loss: 117.5300\n"
     ]
    },
    {
     "name": "stdout",
     "output_type": "stream",
     "text": [
      "Epoch 2020/5000\n\r30/30 [==============================] - 0s 33us/sample - loss: 117.5012\n"
     ]
    },
    {
     "name": "stdout",
     "output_type": "stream",
     "text": [
      "Epoch 2021/5000\n\r30/30 [==============================] - 0s 33us/sample - loss: 117.4725\n"
     ]
    },
    {
     "name": "stdout",
     "output_type": "stream",
     "text": [
      "Epoch 2022/5000\n\r30/30 [==============================] - 0s 66us/sample - loss: 117.4439\n"
     ]
    },
    {
     "name": "stdout",
     "output_type": "stream",
     "text": [
      "Epoch 2023/5000\n"
     ]
    },
    {
     "name": "stdout",
     "output_type": "stream",
     "text": [
      "\r30/30 [==============================] - 0s 67us/sample - loss: 117.4154\n"
     ]
    },
    {
     "name": "stdout",
     "output_type": "stream",
     "text": [
      "Epoch 2024/5000\n\r30/30 [==============================] - 0s 33us/sample - loss: 117.3869\n"
     ]
    },
    {
     "name": "stdout",
     "output_type": "stream",
     "text": [
      "Epoch 2025/5000\n\r30/30 [==============================] - 0s 66us/sample - loss: 117.3585\n"
     ]
    },
    {
     "name": "stdout",
     "output_type": "stream",
     "text": [
      "Epoch 2026/5000\n\r30/30 [==============================] - 0s 66us/sample - loss: 117.3303\n"
     ]
    },
    {
     "name": "stdout",
     "output_type": "stream",
     "text": [
      "Epoch 2027/5000\n"
     ]
    },
    {
     "name": "stdout",
     "output_type": "stream",
     "text": [
      "\r30/30 [==============================] - 0s 33us/sample - loss: 117.3021\n"
     ]
    },
    {
     "name": "stdout",
     "output_type": "stream",
     "text": [
      "Epoch 2028/5000\n\r30/30 [==============================] - 0s 33us/sample - loss: 117.2739\n"
     ]
    },
    {
     "name": "stdout",
     "output_type": "stream",
     "text": [
      "Epoch 2029/5000\n\r30/30 [==============================] - 0s 66us/sample - loss: 117.2459\n"
     ]
    },
    {
     "name": "stdout",
     "output_type": "stream",
     "text": [
      "Epoch 2030/5000\n\r30/30 [==============================] - 0s 66us/sample - loss: 117.2179\n"
     ]
    },
    {
     "name": "stdout",
     "output_type": "stream",
     "text": [
      "Epoch 2031/5000\n\r30/30 [==============================] - 0s 67us/sample - loss: 117.1900\n"
     ]
    },
    {
     "name": "stdout",
     "output_type": "stream",
     "text": [
      "Epoch 2032/5000\n\r30/30 [==============================] - 0s 33us/sample - loss: 117.1622\n"
     ]
    },
    {
     "name": "stdout",
     "output_type": "stream",
     "text": [
      "Epoch 2033/5000\n\r30/30 [==============================] - 0s 67us/sample - loss: 117.1345\n"
     ]
    },
    {
     "name": "stdout",
     "output_type": "stream",
     "text": [
      "Epoch 2034/5000\n\r30/30 [==============================] - 0s 66us/sample - loss: 117.1068\n"
     ]
    },
    {
     "name": "stdout",
     "output_type": "stream",
     "text": [
      "Epoch 2035/5000\n\r30/30 [==============================] - 0s 66us/sample - loss: 117.0792\n"
     ]
    },
    {
     "name": "stdout",
     "output_type": "stream",
     "text": [
      "Epoch 2036/5000\n\r30/30 [==============================] - 0s 67us/sample - loss: 117.0517\n"
     ]
    },
    {
     "name": "stdout",
     "output_type": "stream",
     "text": [
      "Epoch 2037/5000\n\r30/30 [==============================] - 0s 66us/sample - loss: 117.0243\n"
     ]
    },
    {
     "name": "stdout",
     "output_type": "stream",
     "text": [
      "Epoch 2038/5000\n\r30/30 [==============================] - 0s 67us/sample - loss: 116.9969\n"
     ]
    },
    {
     "name": "stdout",
     "output_type": "stream",
     "text": [
      "Epoch 2039/5000\n\r30/30 [==============================] - 0s 33us/sample - loss: 116.9697\n"
     ]
    },
    {
     "name": "stdout",
     "output_type": "stream",
     "text": [
      "Epoch 2040/5000"
     ]
    },
    {
     "name": "stdout",
     "output_type": "stream",
     "text": [
      "\n\r30/30 [==============================] - 0s 66us/sample - loss: 116.9425\n"
     ]
    },
    {
     "name": "stdout",
     "output_type": "stream",
     "text": [
      "Epoch 2041/5000\n\r30/30 [==============================] - 0s 33us/sample - loss: 116.9154\n"
     ]
    },
    {
     "name": "stdout",
     "output_type": "stream",
     "text": [
      "Epoch 2042/5000\n\r30/30 [==============================] - 0s 66us/sample - loss: 116.8883\n"
     ]
    },
    {
     "name": "stdout",
     "output_type": "stream",
     "text": [
      "Epoch 2043/5000\n\r30/30 [==============================] - 0s 66us/sample - loss: 116.8614\n"
     ]
    },
    {
     "name": "stdout",
     "output_type": "stream",
     "text": [
      "Epoch 2044/5000\n"
     ]
    },
    {
     "name": "stdout",
     "output_type": "stream",
     "text": [
      "\r30/30 [==============================] - 0s 67us/sample - loss: 116.8345\n"
     ]
    },
    {
     "name": "stdout",
     "output_type": "stream",
     "text": [
      "Epoch 2045/5000\n\r30/30 [==============================] - 0s 66us/sample - loss: 116.8077\n"
     ]
    },
    {
     "name": "stdout",
     "output_type": "stream",
     "text": [
      "Epoch 2046/5000\n\r30/30 [==============================] - 0s 32us/sample - loss: 116.7810\n"
     ]
    },
    {
     "name": "stdout",
     "output_type": "stream",
     "text": [
      "Epoch 2047/5000\n\r30/30 [==============================] - 0s 66us/sample - loss: 116.7543\n"
     ]
    },
    {
     "name": "stdout",
     "output_type": "stream",
     "text": [
      "Epoch 2048/5000\n"
     ]
    },
    {
     "name": "stdout",
     "output_type": "stream",
     "text": [
      "\r30/30 [==============================] - 0s 33us/sample - loss: 116.7277\n"
     ]
    },
    {
     "name": "stdout",
     "output_type": "stream",
     "text": [
      "Epoch 2049/5000\n\r30/30 [==============================] - 0s 66us/sample - loss: 116.7012\n"
     ]
    },
    {
     "name": "stdout",
     "output_type": "stream",
     "text": [
      "Epoch 2050/5000\n"
     ]
    },
    {
     "name": "stdout",
     "output_type": "stream",
     "text": [
      "\r30/30 [==============================] - 0s 33us/sample - loss: 116.6748\n"
     ]
    },
    {
     "name": "stdout",
     "output_type": "stream",
     "text": [
      "Epoch 2051/5000"
     ]
    },
    {
     "name": "stdout",
     "output_type": "stream",
     "text": [
      "\n\r30/30 [==============================] - 0s 33us/sample - loss: 116.6484\n"
     ]
    },
    {
     "name": "stdout",
     "output_type": "stream",
     "text": [
      "Epoch 2052/5000\n\r30/30 [==============================] - 0s 67us/sample - loss: 116.6222\n"
     ]
    },
    {
     "name": "stdout",
     "output_type": "stream",
     "text": [
      "Epoch 2053/5000\n"
     ]
    },
    {
     "name": "stdout",
     "output_type": "stream",
     "text": [
      "\r30/30 [==============================] - 0s 66us/sample - loss: 116.5959\n"
     ]
    },
    {
     "name": "stdout",
     "output_type": "stream",
     "text": [
      "Epoch 2054/5000\n"
     ]
    },
    {
     "name": "stdout",
     "output_type": "stream",
     "text": [
      "\r30/30 [==============================] - 0s 66us/sample - loss: 116.5698\n"
     ]
    },
    {
     "name": "stdout",
     "output_type": "stream",
     "text": [
      "Epoch 2055/5000\n"
     ]
    },
    {
     "name": "stdout",
     "output_type": "stream",
     "text": [
      "\r30/30 [==============================] - 0s 33us/sample - loss: 116.5438\n"
     ]
    },
    {
     "name": "stdout",
     "output_type": "stream",
     "text": [
      "Epoch 2056/5000\n\r30/30 [==============================] - 0s 67us/sample - loss: 116.5178\n"
     ]
    },
    {
     "name": "stdout",
     "output_type": "stream",
     "text": [
      "Epoch 2057/5000\n"
     ]
    },
    {
     "name": "stdout",
     "output_type": "stream",
     "text": [
      "\r30/30 [==============================] - 0s 66us/sample - loss: 116.4919\n"
     ]
    },
    {
     "name": "stdout",
     "output_type": "stream",
     "text": [
      "Epoch 2058/5000\n\r30/30 [==============================] - 0s 66us/sample - loss: 116.4660\n"
     ]
    },
    {
     "name": "stdout",
     "output_type": "stream",
     "text": [
      "Epoch 2059/5000\n\r30/30 [==============================] - 0s 67us/sample - loss: 116.4403\n"
     ]
    },
    {
     "name": "stdout",
     "output_type": "stream",
     "text": [
      "Epoch 2060/5000\n"
     ]
    },
    {
     "name": "stdout",
     "output_type": "stream",
     "text": [
      "\r30/30 [==============================] - 0s 33us/sample - loss: 116.4146\n"
     ]
    },
    {
     "name": "stdout",
     "output_type": "stream",
     "text": [
      "Epoch 2061/5000"
     ]
    },
    {
     "name": "stdout",
     "output_type": "stream",
     "text": [
      "\n\r30/30 [==============================] - 0s 67us/sample - loss: 116.3890\n"
     ]
    },
    {
     "name": "stdout",
     "output_type": "stream",
     "text": [
      "Epoch 2062/5000\n"
     ]
    },
    {
     "name": "stdout",
     "output_type": "stream",
     "text": [
      "\r30/30 [==============================] - 0s 33us/sample - loss: 116.3634\n"
     ]
    },
    {
     "name": "stdout",
     "output_type": "stream",
     "text": [
      "Epoch 2063/5000\n\r30/30 [==============================] - 0s 66us/sample - loss: 116.3380\n"
     ]
    },
    {
     "name": "stdout",
     "output_type": "stream",
     "text": [
      "Epoch 2064/5000\n"
     ]
    },
    {
     "name": "stdout",
     "output_type": "stream",
     "text": [
      "\r30/30 [==============================] - 0s 66us/sample - loss: 116.3126\n"
     ]
    },
    {
     "name": "stdout",
     "output_type": "stream",
     "text": [
      "Epoch 2065/5000\n"
     ]
    },
    {
     "name": "stdout",
     "output_type": "stream",
     "text": [
      "\r30/30 [==============================] - 0s 66us/sample - loss: 116.2873\n"
     ]
    },
    {
     "name": "stdout",
     "output_type": "stream",
     "text": [
      "Epoch 2066/5000\n\r30/30 [==============================] - 0s 66us/sample - loss: 116.2620\n"
     ]
    },
    {
     "name": "stdout",
     "output_type": "stream",
     "text": [
      "Epoch 2067/5000\n"
     ]
    },
    {
     "name": "stdout",
     "output_type": "stream",
     "text": [
      "\r30/30 [==============================] - 0s 67us/sample - loss: 116.2368\n"
     ]
    },
    {
     "name": "stdout",
     "output_type": "stream",
     "text": [
      "Epoch 2068/5000\n"
     ]
    },
    {
     "name": "stdout",
     "output_type": "stream",
     "text": [
      "\r30/30 [==============================] - 0s 33us/sample - loss: 116.2118\n"
     ]
    },
    {
     "name": "stdout",
     "output_type": "stream",
     "text": [
      "Epoch 2069/5000"
     ]
    },
    {
     "name": "stdout",
     "output_type": "stream",
     "text": [
      "\n"
     ]
    },
    {
     "name": "stdout",
     "output_type": "stream",
     "text": [
      "\r30/30 [==============================] - 0s 67us/sample - loss: 116.1867\n"
     ]
    },
    {
     "name": "stdout",
     "output_type": "stream",
     "text": [
      "Epoch 2070/5000\n"
     ]
    },
    {
     "name": "stdout",
     "output_type": "stream",
     "text": [
      "\r30/30 [==============================] - 0s 66us/sample - loss: 116.1618\n"
     ]
    },
    {
     "name": "stdout",
     "output_type": "stream",
     "text": [
      "Epoch 2071/5000\n"
     ]
    },
    {
     "name": "stdout",
     "output_type": "stream",
     "text": [
      "\r30/30 [==============================] - 0s 32us/sample - loss: 116.1369\n"
     ]
    },
    {
     "name": "stdout",
     "output_type": "stream",
     "text": [
      "Epoch 2072/5000\n"
     ]
    },
    {
     "name": "stdout",
     "output_type": "stream",
     "text": [
      "\r30/30 [==============================] - 0s 67us/sample - loss: 116.1121\n"
     ]
    },
    {
     "name": "stdout",
     "output_type": "stream",
     "text": [
      "Epoch 2073/5000"
     ]
    },
    {
     "name": "stdout",
     "output_type": "stream",
     "text": [
      "\n\r30/30 [==============================] - 0s 66us/sample - loss: 116.0873\n"
     ]
    },
    {
     "name": "stdout",
     "output_type": "stream",
     "text": [
      "Epoch 2074/5000\n"
     ]
    },
    {
     "name": "stdout",
     "output_type": "stream",
     "text": [
      "\r30/30 [==============================] - 0s 66us/sample - loss: 116.0627\n"
     ]
    },
    {
     "name": "stdout",
     "output_type": "stream",
     "text": [
      "Epoch 2075/5000"
     ]
    },
    {
     "name": "stdout",
     "output_type": "stream",
     "text": [
      "\n\r30/30 [==============================] - 0s 66us/sample - loss: 116.0381\n"
     ]
    },
    {
     "name": "stdout",
     "output_type": "stream",
     "text": [
      "Epoch 2076/5000\n\r30/30 [==============================] - 0s 67us/sample - loss: 116.0135\n"
     ]
    },
    {
     "name": "stdout",
     "output_type": "stream",
     "text": [
      "Epoch 2077/5000\n"
     ]
    },
    {
     "name": "stdout",
     "output_type": "stream",
     "text": [
      "\r30/30 [==============================] - 0s 33us/sample - loss: 115.9891\n"
     ]
    },
    {
     "name": "stdout",
     "output_type": "stream",
     "text": [
      "Epoch 2078/5000"
     ]
    },
    {
     "name": "stdout",
     "output_type": "stream",
     "text": [
      "\n\r30/30 [==============================] - 0s 66us/sample - loss: 115.9647\n"
     ]
    },
    {
     "name": "stdout",
     "output_type": "stream",
     "text": [
      "Epoch 2079/5000\n\r30/30 [==============================] - 0s 66us/sample - loss: 115.9404\n"
     ]
    },
    {
     "name": "stdout",
     "output_type": "stream",
     "text": [
      "Epoch 2080/5000\n"
     ]
    },
    {
     "name": "stdout",
     "output_type": "stream",
     "text": [
      "\r30/30 [==============================] - 0s 66us/sample - loss: 115.9161\n"
     ]
    },
    {
     "name": "stdout",
     "output_type": "stream",
     "text": [
      "Epoch 2081/5000\n"
     ]
    },
    {
     "name": "stdout",
     "output_type": "stream",
     "text": [
      "\r30/30 [==============================] - 0s 33us/sample - loss: 115.8920\n"
     ]
    },
    {
     "name": "stdout",
     "output_type": "stream",
     "text": [
      "Epoch 2082/5000\n\r30/30 [==============================] - 0s 66us/sample - loss: 115.8678\n"
     ]
    },
    {
     "name": "stdout",
     "output_type": "stream",
     "text": [
      "Epoch 2083/5000\n"
     ]
    },
    {
     "name": "stdout",
     "output_type": "stream",
     "text": [
      "\r30/30 [==============================] - 0s 66us/sample - loss: 115.8438\n"
     ]
    },
    {
     "name": "stdout",
     "output_type": "stream",
     "text": [
      "Epoch 2084/5000\n"
     ]
    },
    {
     "name": "stdout",
     "output_type": "stream",
     "text": [
      "\r30/30 [==============================] - 0s 33us/sample - loss: 115.8198\n"
     ]
    },
    {
     "name": "stdout",
     "output_type": "stream",
     "text": [
      "Epoch 2085/5000\n"
     ]
    },
    {
     "name": "stdout",
     "output_type": "stream",
     "text": [
      "\r30/30 [==============================] - 0s 66us/sample - loss: 115.7959\n"
     ]
    },
    {
     "name": "stdout",
     "output_type": "stream",
     "text": [
      "Epoch 2086/5000"
     ]
    },
    {
     "name": "stdout",
     "output_type": "stream",
     "text": [
      "\n\r30/30 [==============================] - 0s 66us/sample - loss: 115.7721\n"
     ]
    },
    {
     "name": "stdout",
     "output_type": "stream",
     "text": [
      "Epoch 2087/5000\n\r30/30 [==============================]"
     ]
    },
    {
     "name": "stdout",
     "output_type": "stream",
     "text": [
      " - 0s 66us/sample - loss: 115.7483\n"
     ]
    },
    {
     "name": "stdout",
     "output_type": "stream",
     "text": [
      "Epoch 2088/5000\n"
     ]
    },
    {
     "name": "stdout",
     "output_type": "stream",
     "text": [
      "\r30/30 [==============================] - 0s 66us/sample - loss: 115.7246\n"
     ]
    },
    {
     "name": "stdout",
     "output_type": "stream",
     "text": [
      "Epoch 2089/5000\n"
     ]
    },
    {
     "name": "stdout",
     "output_type": "stream",
     "text": [
      "\r30/30 [==============================] - 0s 67us/sample - loss: 115.7010\n"
     ]
    },
    {
     "name": "stdout",
     "output_type": "stream",
     "text": [
      "Epoch 2090/5000\n"
     ]
    },
    {
     "name": "stdout",
     "output_type": "stream",
     "text": [
      "\r30/30 [==============================] - 0s 33us/sample - loss: 115.6774\n"
     ]
    },
    {
     "name": "stdout",
     "output_type": "stream",
     "text": [
      "Epoch 2091/5000\n"
     ]
    },
    {
     "name": "stdout",
     "output_type": "stream",
     "text": [
      "\r30/30 [==============================] - 0s 33us/sample - loss: 115.6539\n"
     ]
    },
    {
     "name": "stdout",
     "output_type": "stream",
     "text": [
      "Epoch 2092/5000\n"
     ]
    },
    {
     "name": "stdout",
     "output_type": "stream",
     "text": [
      "\r30/30 [==============================] - 0s 66us/sample - loss: 115.6305\n"
     ]
    },
    {
     "name": "stdout",
     "output_type": "stream",
     "text": [
      "Epoch 2093/5000\n"
     ]
    },
    {
     "name": "stdout",
     "output_type": "stream",
     "text": [
      "\r30/30 [==============================] - 0s 66us/sample - loss: 115.6072\n"
     ]
    },
    {
     "name": "stdout",
     "output_type": "stream",
     "text": [
      "Epoch 2094/5000\n\r30/30 [==============================]"
     ]
    },
    {
     "name": "stdout",
     "output_type": "stream",
     "text": [
      " - 0s 67us/sample - loss: 115.5839\n"
     ]
    },
    {
     "name": "stdout",
     "output_type": "stream",
     "text": [
      "Epoch 2095/5000\n"
     ]
    },
    {
     "name": "stdout",
     "output_type": "stream",
     "text": [
      "\r30/30 [==============================] - 0s 66us/sample - loss: 115.5607\n"
     ]
    },
    {
     "name": "stdout",
     "output_type": "stream",
     "text": [
      "Epoch 2096/5000\n"
     ]
    },
    {
     "name": "stdout",
     "output_type": "stream",
     "text": [
      "\r30/30 [==============================] - 0s 67us/sample - loss: 115.5375\n"
     ]
    },
    {
     "name": "stdout",
     "output_type": "stream",
     "text": [
      "Epoch 2097/5000\n\r30/30 [==============================] - 0s 66us/sample - loss: 115.5145\n"
     ]
    },
    {
     "name": "stdout",
     "output_type": "stream",
     "text": [
      "Epoch 2098/5000\n"
     ]
    },
    {
     "name": "stdout",
     "output_type": "stream",
     "text": [
      "\r30/30 [==============================] - 0s 33us/sample - loss: 115.4914\n"
     ]
    },
    {
     "name": "stdout",
     "output_type": "stream",
     "text": [
      "Epoch 2099/5000"
     ]
    },
    {
     "name": "stdout",
     "output_type": "stream",
     "text": [
      "\n"
     ]
    },
    {
     "name": "stdout",
     "output_type": "stream",
     "text": [
      "\r30/30 [==============================] - 0s 66us/sample - loss: 115.4685\n"
     ]
    },
    {
     "name": "stdout",
     "output_type": "stream",
     "text": [
      "Epoch 2100/5000\n"
     ]
    },
    {
     "name": "stdout",
     "output_type": "stream",
     "text": [
      "\r30/30 [==============================] - 0s 66us/sample - loss: 115.4456\n"
     ]
    },
    {
     "name": "stdout",
     "output_type": "stream",
     "text": [
      "Epoch 2101/5000\n"
     ]
    },
    {
     "name": "stdout",
     "output_type": "stream",
     "text": [
      "\r30/30 [==============================] - 0s 33us/sample - loss: 115.4228\n"
     ]
    },
    {
     "name": "stdout",
     "output_type": "stream",
     "text": [
      "Epoch 2102/5000\n"
     ]
    },
    {
     "name": "stdout",
     "output_type": "stream",
     "text": [
      "\r30/30 [==============================] - 0s 100us/sample - loss: 115.4000\n"
     ]
    },
    {
     "name": "stdout",
     "output_type": "stream",
     "text": [
      "Epoch 2103/5000\n\r30/30 [==============================] - 0s 33us/sample - loss: 115.3773\n"
     ]
    },
    {
     "name": "stdout",
     "output_type": "stream",
     "text": [
      "Epoch 2104/5000\n"
     ]
    },
    {
     "name": "stdout",
     "output_type": "stream",
     "text": [
      "\r30/30 [==============================] - 0s 66us/sample - loss: 115.3547\n"
     ]
    },
    {
     "name": "stdout",
     "output_type": "stream",
     "text": [
      "Epoch 2105/5000\n\r30/30 [==============================] - 0s 67us/sample - loss: 115.3322\n"
     ]
    },
    {
     "name": "stdout",
     "output_type": "stream",
     "text": [
      "Epoch 2106/5000\n"
     ]
    },
    {
     "name": "stdout",
     "output_type": "stream",
     "text": [
      "\r30/30 [==============================] - 0s 33us/sample - loss: 115.3097\n"
     ]
    },
    {
     "name": "stdout",
     "output_type": "stream",
     "text": [
      "Epoch 2107/5000"
     ]
    },
    {
     "name": "stdout",
     "output_type": "stream",
     "text": [
      "\n"
     ]
    },
    {
     "name": "stdout",
     "output_type": "stream",
     "text": [
      "\r30/30 [==============================] - 0s 66us/sample - loss: 115.2873\n"
     ]
    },
    {
     "name": "stdout",
     "output_type": "stream",
     "text": [
      "Epoch 2108/5000"
     ]
    },
    {
     "name": "stdout",
     "output_type": "stream",
     "text": [
      "\n\r30/30 [==============================] - 0s 67us/sample - loss: 115.2649\n"
     ]
    },
    {
     "name": "stdout",
     "output_type": "stream",
     "text": [
      "Epoch 2109/5000\n\r30/30 [==============================]"
     ]
    },
    {
     "name": "stdout",
     "output_type": "stream",
     "text": [
      " - 0s 32us/sample - loss: 115.2427\n"
     ]
    },
    {
     "name": "stdout",
     "output_type": "stream",
     "text": [
      "Epoch 2110/5000\n"
     ]
    },
    {
     "name": "stdout",
     "output_type": "stream",
     "text": [
      "\r30/30 [==============================] - 0s 67us/sample - loss: 115.2204\n"
     ]
    },
    {
     "name": "stdout",
     "output_type": "stream",
     "text": [
      "Epoch 2111/5000\n\r30/30 [==============================] - 0s 33us/sample - loss: 115.1983\n"
     ]
    },
    {
     "name": "stdout",
     "output_type": "stream",
     "text": [
      "Epoch 2112/5000\n\r30/30 [==============================] - 0s 33us/sample - loss: 115.1762\n"
     ]
    },
    {
     "name": "stdout",
     "output_type": "stream",
     "text": [
      "Epoch 2113/5000\n"
     ]
    },
    {
     "name": "stdout",
     "output_type": "stream",
     "text": [
      "\r30/30 [==============================] - 0s 32us/sample - loss: 115.1542\n"
     ]
    },
    {
     "name": "stdout",
     "output_type": "stream",
     "text": [
      "Epoch 2114/5000\n"
     ]
    },
    {
     "name": "stdout",
     "output_type": "stream",
     "text": [
      "\r30/30 [==============================] - 0s 66us/sample - loss: 115.1322\n"
     ]
    },
    {
     "name": "stdout",
     "output_type": "stream",
     "text": [
      "Epoch 2115/5000\n\r30/30 [==============================] - 0s 66us/sample - loss: 115.1103\n"
     ]
    },
    {
     "name": "stdout",
     "output_type": "stream",
     "text": [
      "Epoch 2116/5000\n"
     ]
    },
    {
     "name": "stdout",
     "output_type": "stream",
     "text": [
      "\r30/30 [==============================] - 0s 52us/sample - loss: 115.0885\n"
     ]
    },
    {
     "name": "stdout",
     "output_type": "stream",
     "text": [
      "Epoch 2117/5000\n\r30/30 [==============================] - 0s 35us/sample - loss: 115.0667\n"
     ]
    },
    {
     "name": "stdout",
     "output_type": "stream",
     "text": [
      "Epoch 2118/5000\n\r30/30 [==============================] - 0s 0s/sample - loss: 115.0450\n"
     ]
    },
    {
     "name": "stdout",
     "output_type": "stream",
     "text": [
      "Epoch 2119/5000\n\r30/30 [==============================] - 0s 0s/sample - loss: 115.0234\n"
     ]
    },
    {
     "name": "stdout",
     "output_type": "stream",
     "text": [
      "Epoch 2120/5000\n\r30/30 [==============================] - 0s 0s/sample - loss: 115.0018\n"
     ]
    },
    {
     "name": "stdout",
     "output_type": "stream",
     "text": [
      "Epoch 2121/5000\n"
     ]
    },
    {
     "name": "stdout",
     "output_type": "stream",
     "text": [
      "\r30/30 [==============================] - 0s 333us/sample - loss: 114.9803\n"
     ]
    },
    {
     "name": "stdout",
     "output_type": "stream",
     "text": [
      "Epoch 2122/5000\n\r30/30 [==============================] - 0s 0s/sample - loss: 114.9588\n"
     ]
    },
    {
     "name": "stdout",
     "output_type": "stream",
     "text": [
      "Epoch 2123/5000\n\r30/30 [==============================] - 0s 0s/sample - loss: 114.9374\n"
     ]
    },
    {
     "name": "stdout",
     "output_type": "stream",
     "text": [
      "Epoch 2124/5000\n"
     ]
    },
    {
     "name": "stdout",
     "output_type": "stream",
     "text": [
      "\r30/30 [==============================] - 0s 333us/sample - loss: 114.9161\n"
     ]
    },
    {
     "name": "stdout",
     "output_type": "stream",
     "text": [
      "Epoch 2125/5000\n\r30/30 [==============================] - 0s 0s/sample - loss: 114.8949\n"
     ]
    },
    {
     "name": "stdout",
     "output_type": "stream",
     "text": [
      "Epoch 2126/5000\n\r30/30 [==============================] - 0s 0s/sample - loss: 114.8736\n"
     ]
    },
    {
     "name": "stdout",
     "output_type": "stream",
     "text": [
      "Epoch 2127/5000\n\r30/30 [==============================] - 0s 0s/sample - loss: 114.8525\n"
     ]
    },
    {
     "name": "stdout",
     "output_type": "stream",
     "text": [
      "Epoch 2128/5000\n"
     ]
    },
    {
     "name": "stdout",
     "output_type": "stream",
     "text": [
      "\r30/30 [==============================] - 0s 333us/sample - loss: 114.8315\n"
     ]
    },
    {
     "name": "stdout",
     "output_type": "stream",
     "text": [
      "Epoch 2129/5000\n\r30/30 [==============================] - 0s 0s/sample - loss: 114.8104\n"
     ]
    },
    {
     "name": "stdout",
     "output_type": "stream",
     "text": [
      "Epoch 2130/5000\n\r30/30 [==============================] - 0s 0s/sample - loss: 114.7895\n"
     ]
    },
    {
     "name": "stdout",
     "output_type": "stream",
     "text": [
      "Epoch 2131/5000\n\r30/30 [==============================] - 0s 0s/sample - loss: 114.7686\n"
     ]
    },
    {
     "name": "stdout",
     "output_type": "stream",
     "text": [
      "Epoch 2132/5000\n"
     ]
    },
    {
     "name": "stdout",
     "output_type": "stream",
     "text": [
      "\r30/30 [==============================] - 0s 333us/sample - loss: 114.7478\n"
     ]
    },
    {
     "name": "stdout",
     "output_type": "stream",
     "text": [
      "Epoch 2133/5000\n\r30/30 [==============================] - 0s 0s/sample - loss: 114.7270\n"
     ]
    },
    {
     "name": "stdout",
     "output_type": "stream",
     "text": [
      "Epoch 2134/5000\n\r30/30 [==============================] - 0s 0s/sample - loss: 114.7063\n"
     ]
    },
    {
     "name": "stdout",
     "output_type": "stream",
     "text": [
      "Epoch 2135/5000\n\r30/30 [==============================] - 0s 0s/sample - loss: 114.6857\n"
     ]
    },
    {
     "name": "stdout",
     "output_type": "stream",
     "text": [
      "Epoch 2136/5000\n"
     ]
    },
    {
     "name": "stdout",
     "output_type": "stream",
     "text": [
      "\r30/30 [==============================] - 0s 333us/sample - loss: 114.6651\n"
     ]
    },
    {
     "name": "stdout",
     "output_type": "stream",
     "text": [
      "Epoch 2137/5000\n\r30/30 [==============================] - 0s 0s/sample - loss: 114.6446\n"
     ]
    },
    {
     "name": "stdout",
     "output_type": "stream",
     "text": [
      "Epoch 2138/5000\n\r30/30 [==============================] - 0s 0s/sample - loss: 114.6241\n"
     ]
    },
    {
     "name": "stdout",
     "output_type": "stream",
     "text": [
      "Epoch 2139/5000\n\r30/30 [==============================] - 0s 0s/sample - loss: 114.6037\n"
     ]
    },
    {
     "name": "stdout",
     "output_type": "stream",
     "text": [
      "Epoch 2140/5000\n"
     ]
    },
    {
     "name": "stdout",
     "output_type": "stream",
     "text": [
      "\r30/30 [==============================] - 0s 333us/sample - loss: 114.5834\n"
     ]
    },
    {
     "name": "stdout",
     "output_type": "stream",
     "text": [
      "Epoch 2141/5000\n\r30/30 [==============================] - 0s 0s/sample - loss: 114.5631\n"
     ]
    },
    {
     "name": "stdout",
     "output_type": "stream",
     "text": [
      "Epoch 2142/5000\n\r30/30 [==============================] - 0s 0s/sample - loss: 114.5429\n"
     ]
    },
    {
     "name": "stdout",
     "output_type": "stream",
     "text": [
      "Epoch 2143/5000\n\r30/30 [==============================] - 0s 0s/sample - loss: 114.5227\n"
     ]
    },
    {
     "name": "stdout",
     "output_type": "stream",
     "text": [
      "Epoch 2144/5000\n"
     ]
    },
    {
     "name": "stdout",
     "output_type": "stream",
     "text": [
      "\r30/30 [==============================] - 0s 333us/sample - loss: 114.5026\n"
     ]
    },
    {
     "name": "stdout",
     "output_type": "stream",
     "text": [
      "Epoch 2145/5000\n\r30/30 [==============================] - 0s 0s/sample - loss: 114.4826\n"
     ]
    },
    {
     "name": "stdout",
     "output_type": "stream",
     "text": [
      "Epoch 2146/5000\n\r30/30 [==============================] - 0s 0s/sample - loss: 114.4626\n"
     ]
    },
    {
     "name": "stdout",
     "output_type": "stream",
     "text": [
      "Epoch 2147/5000\n\r30/30 [==============================] - 0s 0s/sample - loss: 114.4427\n"
     ]
    },
    {
     "name": "stdout",
     "output_type": "stream",
     "text": [
      "Epoch 2148/5000\n"
     ]
    },
    {
     "name": "stdout",
     "output_type": "stream",
     "text": [
      "\r30/30 [==============================] - 0s 333us/sample - loss: 114.4229\n"
     ]
    },
    {
     "name": "stdout",
     "output_type": "stream",
     "text": [
      "Epoch 2149/5000\n\r30/30 [==============================] - 0s 0s/sample - loss: 114.4030\n"
     ]
    },
    {
     "name": "stdout",
     "output_type": "stream",
     "text": [
      "Epoch 2150/5000\n\r30/30 [==============================] - 0s 0s/sample - loss: 114.3833\n"
     ]
    },
    {
     "name": "stdout",
     "output_type": "stream",
     "text": [
      "Epoch 2151/5000\n\r30/30 [==============================] - 0s 0s/sample - loss: 114.3636\n"
     ]
    },
    {
     "name": "stdout",
     "output_type": "stream",
     "text": [
      "Epoch 2152/5000\n"
     ]
    },
    {
     "name": "stdout",
     "output_type": "stream",
     "text": [
      "\r30/30 [==============================] - 0s 333us/sample - loss: 114.3440\n"
     ]
    },
    {
     "name": "stdout",
     "output_type": "stream",
     "text": [
      "Epoch 2153/5000\n\r30/30 [==============================] - 0s 0s/sample - loss: 114.3244\n"
     ]
    },
    {
     "name": "stdout",
     "output_type": "stream",
     "text": [
      "Epoch 2154/5000\n\r30/30 [==============================] - 0s 0s/sample - loss: 114.3049\n"
     ]
    },
    {
     "name": "stdout",
     "output_type": "stream",
     "text": [
      "Epoch 2155/5000\n\r30/30 [==============================] - 0s 0s/sample - loss: 114.2855\n"
     ]
    },
    {
     "name": "stdout",
     "output_type": "stream",
     "text": [
      "Epoch 2156/5000\n\r30/30 [==============================] - 0s 0s/sample - loss: 114.2661\n"
     ]
    },
    {
     "name": "stdout",
     "output_type": "stream",
     "text": [
      "Epoch 2157/5000\n\r30/30 [==============================] - 0s 0s/sample - loss: 114.2468\n"
     ]
    },
    {
     "name": "stdout",
     "output_type": "stream",
     "text": [
      "Epoch 2158/5000\n\r30/30 [==============================] - 0s 0s/sample - loss: 114.2275\n"
     ]
    },
    {
     "name": "stdout",
     "output_type": "stream",
     "text": [
      "Epoch 2159/5000\n\r30/30 [==============================] - 0s 0s/sample - loss: 114.2083\n"
     ]
    },
    {
     "name": "stdout",
     "output_type": "stream",
     "text": [
      "Epoch 2160/5000\n\r30/30 [==============================] - 0s 0s/sample - loss: 114.1891\n"
     ]
    },
    {
     "name": "stdout",
     "output_type": "stream",
     "text": [
      "Epoch 2161/5000\n\r30/30 [==============================] - 0s 333us/sample - loss: 114.1700\n"
     ]
    },
    {
     "name": "stdout",
     "output_type": "stream",
     "text": [
      "Epoch 2162/5000\n\r30/30 [==============================] - 0s 0s/sample - loss: 114.1510\n"
     ]
    },
    {
     "name": "stdout",
     "output_type": "stream",
     "text": [
      "Epoch 2163/5000\n\r30/30 [==============================] - 0s 0s/sample - loss: 114.1320\n"
     ]
    },
    {
     "name": "stdout",
     "output_type": "stream",
     "text": [
      "Epoch 2164/5000\n\r30/30 [==============================] - 0s 0s/sample - loss: 114.1131\n"
     ]
    },
    {
     "name": "stdout",
     "output_type": "stream",
     "text": [
      "Epoch 2165/5000"
     ]
    },
    {
     "name": "stdout",
     "output_type": "stream",
     "text": [
      "\n\r30/30 [==============================] - 0s 0s/sample - loss: 114.0942\n"
     ]
    },
    {
     "name": "stdout",
     "output_type": "stream",
     "text": [
      "Epoch 2166/5000\n\r30/30 [==============================] - 0s 0s/sample - loss: 114.0754\n"
     ]
    },
    {
     "name": "stdout",
     "output_type": "stream",
     "text": [
      "Epoch 2167/5000\n\r30/30 [==============================] - 0s 0s/sample - loss: 114.0566\n"
     ]
    },
    {
     "name": "stdout",
     "output_type": "stream",
     "text": [
      "Epoch 2168/5000\n\r30/30 [==============================] - 0s 0s/sample - loss: 114.0379\n"
     ]
    },
    {
     "name": "stdout",
     "output_type": "stream",
     "text": [
      "Epoch 2169/5000\n\r30/30 [==============================] - 0s 333us/sample - loss: 114.0193\n"
     ]
    },
    {
     "name": "stdout",
     "output_type": "stream",
     "text": [
      "Epoch 2170/5000\n\r30/30 [==============================] - 0s 0s/sample - loss: 114.0007\n"
     ]
    },
    {
     "name": "stdout",
     "output_type": "stream",
     "text": [
      "Epoch 2171/5000\n\r30/30 [==============================] - 0s 0s/sample - loss: 113.9821\n"
     ]
    },
    {
     "name": "stdout",
     "output_type": "stream",
     "text": [
      "Epoch 2172/5000\n\r30/30 [==============================] - 0s 0s/sample - loss: 113.9636\n"
     ]
    },
    {
     "name": "stdout",
     "output_type": "stream",
     "text": [
      "Epoch 2173/5000"
     ]
    },
    {
     "name": "stdout",
     "output_type": "stream",
     "text": [
      "\n\r30/30 [==============================] - 0s 0s/sample - loss: 113.9452\n"
     ]
    },
    {
     "name": "stdout",
     "output_type": "stream",
     "text": [
      "Epoch 2174/5000\n\r30/30 [==============================] - 0s 0s/sample - loss: 113.9269\n"
     ]
    },
    {
     "name": "stdout",
     "output_type": "stream",
     "text": [
      "Epoch 2175/5000\n\r30/30 [==============================] - 0s 0s/sample - loss: 113.9086\n"
     ]
    },
    {
     "name": "stdout",
     "output_type": "stream",
     "text": [
      "Epoch 2176/5000\n\r30/30 [==============================] - 0s 0s/sample - loss: 113.8903\n"
     ]
    },
    {
     "name": "stdout",
     "output_type": "stream",
     "text": [
      "Epoch 2177/5000\n"
     ]
    },
    {
     "name": "stdout",
     "output_type": "stream",
     "text": [
      "\r30/30 [==============================] - 0s 333us/sample - loss: 113.8721\n"
     ]
    },
    {
     "name": "stdout",
     "output_type": "stream",
     "text": [
      "Epoch 2178/5000\n\r30/30 [==============================] - 0s 0s/sample - loss: 113.8540\n"
     ]
    },
    {
     "name": "stdout",
     "output_type": "stream",
     "text": [
      "Epoch 2179/5000\n\r30/30 [==============================] - 0s 0s/sample - loss: 113.8359\n"
     ]
    },
    {
     "name": "stdout",
     "output_type": "stream",
     "text": [
      "Epoch 2180/5000\n\r30/30 [==============================] - 0s 0s/sample - loss: 113.8178\n"
     ]
    },
    {
     "name": "stdout",
     "output_type": "stream",
     "text": [
      "Epoch 2181/5000"
     ]
    },
    {
     "name": "stdout",
     "output_type": "stream",
     "text": [
      "\n\r30/30 [==============================] - 0s 333us/sample - loss: 113.7998\n"
     ]
    },
    {
     "name": "stdout",
     "output_type": "stream",
     "text": [
      "Epoch 2182/5000\n\r30/30 [==============================] - 0s 0s/sample - loss: 113.7819\n"
     ]
    },
    {
     "name": "stdout",
     "output_type": "stream",
     "text": [
      "Epoch 2183/5000\n\r30/30 [==============================] - 0s 0s/sample - loss: 113.7641\n"
     ]
    },
    {
     "name": "stdout",
     "output_type": "stream",
     "text": [
      "Epoch 2184/5000\n\r30/30 [==============================] - 0s 0s/sample - loss: 113.7462\n"
     ]
    },
    {
     "name": "stdout",
     "output_type": "stream",
     "text": [
      "Epoch 2185/5000\n"
     ]
    },
    {
     "name": "stdout",
     "output_type": "stream",
     "text": [
      "\r30/30 [==============================] - 0s 333us/sample - loss: 113.7285\n"
     ]
    },
    {
     "name": "stdout",
     "output_type": "stream",
     "text": [
      "Epoch 2186/5000\n\r30/30 [==============================] - 0s 0s/sample - loss: 113.7107\n"
     ]
    },
    {
     "name": "stdout",
     "output_type": "stream",
     "text": [
      "Epoch 2187/5000\n\r30/30 [==============================] - 0s 0s/sample - loss: 113.6931\n"
     ]
    },
    {
     "name": "stdout",
     "output_type": "stream",
     "text": [
      "Epoch 2188/5000\n\r30/30 [==============================] - 0s 0s/sample - loss: 113.6755\n"
     ]
    },
    {
     "name": "stdout",
     "output_type": "stream",
     "text": [
      "Epoch 2189/5000\n\r30/30 [==============================] - 0s 333us/sample - loss: 113.6579\n"
     ]
    },
    {
     "name": "stdout",
     "output_type": "stream",
     "text": [
      "Epoch 2190/5000\n\r30/30 [==============================] - 0s 0s/sample - loss: 113.6404\n"
     ]
    },
    {
     "name": "stdout",
     "output_type": "stream",
     "text": [
      "Epoch 2191/5000\n\r30/30 [==============================] - 0s 0s/sample - loss: 113.6230\n"
     ]
    },
    {
     "name": "stdout",
     "output_type": "stream",
     "text": [
      "Epoch 2192/5000\n\r30/30 [==============================] - 0s 0s/sample - loss: 113.6056\n"
     ]
    },
    {
     "name": "stdout",
     "output_type": "stream",
     "text": [
      "Epoch 2193/5000\n"
     ]
    },
    {
     "name": "stdout",
     "output_type": "stream",
     "text": [
      "\r30/30 [==============================] - 0s 333us/sample - loss: 113.5882\n"
     ]
    },
    {
     "name": "stdout",
     "output_type": "stream",
     "text": [
      "Epoch 2194/5000\n\r30/30 [==============================] - 0s 0s/sample - loss: 113.5710\n"
     ]
    },
    {
     "name": "stdout",
     "output_type": "stream",
     "text": [
      "Epoch 2195/5000\n\r30/30 [==============================] - 0s 0s/sample - loss: 113.5537\n"
     ]
    },
    {
     "name": "stdout",
     "output_type": "stream",
     "text": [
      "Epoch 2196/5000\n\r30/30 [==============================] - 0s 0s/sample - loss: 113.5365\n"
     ]
    },
    {
     "name": "stdout",
     "output_type": "stream",
     "text": [
      "Epoch 2197/5000\n\r30/30 [==============================] - 0s 0s/sample - loss: 113.5194\n"
     ]
    },
    {
     "name": "stdout",
     "output_type": "stream",
     "text": [
      "Epoch 2198/5000\n\r30/30 [==============================] - 0s 0s/sample - loss: 113.5023\n"
     ]
    },
    {
     "name": "stdout",
     "output_type": "stream",
     "text": [
      "Epoch 2199/5000\n\r30/30 [==============================] - 0s 0s/sample - loss: 113.4853\n"
     ]
    },
    {
     "name": "stdout",
     "output_type": "stream",
     "text": [
      "Epoch 2200/5000\n\r30/30 [==============================] - 0s 0s/sample - loss: 113.4683\n"
     ]
    },
    {
     "name": "stdout",
     "output_type": "stream",
     "text": [
      "Epoch 2201/5000\n"
     ]
    },
    {
     "name": "stdout",
     "output_type": "stream",
     "text": [
      "\r30/30 [==============================] - 0s 333us/sample - loss: 113.4514\n"
     ]
    },
    {
     "name": "stdout",
     "output_type": "stream",
     "text": [
      "Epoch 2202/5000\n\r30/30 [==============================] - 0s 0s/sample - loss: 113.4345\n"
     ]
    },
    {
     "name": "stdout",
     "output_type": "stream",
     "text": [
      "Epoch 2203/5000\n\r30/30 [==============================] - 0s 0s/sample - loss: 113.4177\n"
     ]
    },
    {
     "name": "stdout",
     "output_type": "stream",
     "text": [
      "Epoch 2204/5000\n\r30/30 [==============================] - 0s 0s/sample - loss: 113.4010\n"
     ]
    },
    {
     "name": "stdout",
     "output_type": "stream",
     "text": [
      "Epoch 2205/5000\n\r30/30 [==============================] - 0s 333us/sample - loss: 113.3842\n"
     ]
    },
    {
     "name": "stdout",
     "output_type": "stream",
     "text": [
      "Epoch 2206/5000\n\r30/30 [==============================] - 0s 0s/sample - loss: 113.3676\n"
     ]
    },
    {
     "name": "stdout",
     "output_type": "stream",
     "text": [
      "Epoch 2207/5000\n\r30/30 [==============================] - 0s 0s/sample - loss: 113.3509\n"
     ]
    },
    {
     "name": "stdout",
     "output_type": "stream",
     "text": [
      "Epoch 2208/5000\n\r30/30 [==============================] - 0s 0s/sample - loss: 113.3344\n"
     ]
    },
    {
     "name": "stdout",
     "output_type": "stream",
     "text": [
      "Epoch 2209/5000\n\r30/30 [==============================] - 0s 0s/sample - loss: 113.3179\n"
     ]
    },
    {
     "name": "stdout",
     "output_type": "stream",
     "text": [
      "Epoch 2210/5000\n\r30/30 [==============================] - 0s 0s/sample - loss: 113.3014\n"
     ]
    },
    {
     "name": "stdout",
     "output_type": "stream",
     "text": [
      "Epoch 2211/5000\n\r30/30 [==============================] - 0s 0s/sample - loss: 113.2850\n"
     ]
    },
    {
     "name": "stdout",
     "output_type": "stream",
     "text": [
      "Epoch 2212/5000\n\r30/30 [==============================] - 0s 0s/sample - loss: 113.2686\n"
     ]
    },
    {
     "name": "stdout",
     "output_type": "stream",
     "text": [
      "Epoch 2213/5000\n\r30/30 [==============================] - 0s 0s/sample - loss: 113.2523\n"
     ]
    },
    {
     "name": "stdout",
     "output_type": "stream",
     "text": [
      "Epoch 2214/5000\n\r30/30 [==============================] - 0s 333us/sample - loss: 113.2361\n"
     ]
    },
    {
     "name": "stdout",
     "output_type": "stream",
     "text": [
      "Epoch 2215/5000\n\r30/30 [==============================] - 0s 0s/sample - loss: 113.2199\n"
     ]
    },
    {
     "name": "stdout",
     "output_type": "stream",
     "text": [
      "Epoch 2216/5000\n\r30/30 [==============================] - 0s 0s/sample - loss: 113.2037\n"
     ]
    },
    {
     "name": "stdout",
     "output_type": "stream",
     "text": [
      "Epoch 2217/5000\n\r30/30 [==============================] - 0s 0s/sample - loss: 113.1876\n"
     ]
    },
    {
     "name": "stdout",
     "output_type": "stream",
     "text": [
      "Epoch 2218/5000\n\r30/30 [==============================] - 0s 333us/sample - loss: 113.1715\n"
     ]
    },
    {
     "name": "stdout",
     "output_type": "stream",
     "text": [
      "Epoch 2219/5000\n\r30/30 [==============================] - 0s 0s/sample - loss: 113.1555\n"
     ]
    },
    {
     "name": "stdout",
     "output_type": "stream",
     "text": [
      "Epoch 2220/5000\n\r30/30 [==============================] - 0s 0s/sample - loss: 113.1395\n"
     ]
    },
    {
     "name": "stdout",
     "output_type": "stream",
     "text": [
      "Epoch 2221/5000\n\r30/30 [==============================] - 0s 0s/sample - loss: 113.1236\n"
     ]
    },
    {
     "name": "stdout",
     "output_type": "stream",
     "text": [
      "Epoch 2222/5000\n\r30/30 [==============================] - 0s 333us/sample - loss: 113.1077\n"
     ]
    },
    {
     "name": "stdout",
     "output_type": "stream",
     "text": [
      "Epoch 2223/5000\n\r30/30 [==============================] - 0s 0s/sample - loss: 113.0919\n"
     ]
    },
    {
     "name": "stdout",
     "output_type": "stream",
     "text": [
      "Epoch 2224/5000\n\r30/30 [==============================] - 0s 0s/sample - loss: 113.0762\n"
     ]
    },
    {
     "name": "stdout",
     "output_type": "stream",
     "text": [
      "Epoch 2225/5000\n\r30/30 [==============================] - 0s 0s/sample - loss: 113.0604\n"
     ]
    },
    {
     "name": "stdout",
     "output_type": "stream",
     "text": [
      "Epoch 2226/5000\n"
     ]
    },
    {
     "name": "stdout",
     "output_type": "stream",
     "text": [
      "\r30/30 [==============================] - 0s 0s/sample - loss: 113.0448\n"
     ]
    },
    {
     "name": "stdout",
     "output_type": "stream",
     "text": [
      "Epoch 2227/5000\n\r30/30 [==============================] - 0s 0s/sample - loss: 113.0291\n"
     ]
    },
    {
     "name": "stdout",
     "output_type": "stream",
     "text": [
      "Epoch 2228/5000\n\r30/30 [==============================] - 0s 0s/sample - loss: 113.0135\n"
     ]
    },
    {
     "name": "stdout",
     "output_type": "stream",
     "text": [
      "Epoch 2229/5000\n\r30/30 [==============================] - 0s 0s/sample - loss: 112.9980\n"
     ]
    },
    {
     "name": "stdout",
     "output_type": "stream",
     "text": [
      "Epoch 2230/5000\n\r30/30 [==============================] - 0s 0s/sample - loss: 112.9825\n"
     ]
    },
    {
     "name": "stdout",
     "output_type": "stream",
     "text": [
      "Epoch 2231/5000\n\r30/30 [==============================] - 0s 0s/sample - loss: 112.9671\n"
     ]
    },
    {
     "name": "stdout",
     "output_type": "stream",
     "text": [
      "Epoch 2232/5000\n\r30/30 [==============================] - 0s 0s/sample - loss: 112.9517\n"
     ]
    },
    {
     "name": "stdout",
     "output_type": "stream",
     "text": [
      "Epoch 2233/5000\n\r30/30 [==============================] - 0s 0s/sample - loss: 112.9364\n"
     ]
    },
    {
     "name": "stdout",
     "output_type": "stream",
     "text": [
      "Epoch 2234/5000\n\r30/30 [==============================] - 0s 0s/sample - loss: 112.9211\n"
     ]
    },
    {
     "name": "stdout",
     "output_type": "stream",
     "text": [
      "Epoch 2235/5000"
     ]
    },
    {
     "name": "stdout",
     "output_type": "stream",
     "text": [
      "\n\r30/30 [==============================] - 0s 333us/sample - loss: 112.9058\n"
     ]
    },
    {
     "name": "stdout",
     "output_type": "stream",
     "text": [
      "Epoch 2236/5000\n\r30/30 [==============================] - 0s 0s/sample - loss: 112.8906\n"
     ]
    },
    {
     "name": "stdout",
     "output_type": "stream",
     "text": [
      "Epoch 2237/5000\n\r30/30 [==============================] - 0s 0s/sample - loss: 112.8755\n"
     ]
    },
    {
     "name": "stdout",
     "output_type": "stream",
     "text": [
      "Epoch 2238/5000\n\r30/30 [==============================] - 0s 0s/sample - loss: 112.8604\n"
     ]
    },
    {
     "name": "stdout",
     "output_type": "stream",
     "text": [
      "Epoch 2239/5000\n"
     ]
    },
    {
     "name": "stdout",
     "output_type": "stream",
     "text": [
      "\r30/30 [==============================] - 0s 333us/sample - loss: 112.8453\n"
     ]
    },
    {
     "name": "stdout",
     "output_type": "stream",
     "text": [
      "Epoch 2240/5000\n\r30/30 [==============================] - 0s 0s/sample - loss: 112.8303\n"
     ]
    },
    {
     "name": "stdout",
     "output_type": "stream",
     "text": [
      "Epoch 2241/5000\n\r30/30 [==============================] - 0s 0s/sample - loss: 112.8153\n"
     ]
    },
    {
     "name": "stdout",
     "output_type": "stream",
     "text": [
      "Epoch 2242/5000\n\r30/30 [==============================] - 0s 0s/sample - loss: 112.8004\n"
     ]
    },
    {
     "name": "stdout",
     "output_type": "stream",
     "text": [
      "Epoch 2243/5000\n"
     ]
    },
    {
     "name": "stdout",
     "output_type": "stream",
     "text": [
      "\r30/30 [==============================] - 0s 333us/sample - loss: 112.7856\n"
     ]
    },
    {
     "name": "stdout",
     "output_type": "stream",
     "text": [
      "Epoch 2244/5000\n\r30/30 [==============================] - 0s 0s/sample - loss: 112.7707\n"
     ]
    },
    {
     "name": "stdout",
     "output_type": "stream",
     "text": [
      "Epoch 2245/5000\n\r30/30 [==============================] - 0s 0s/sample - loss: 112.7560\n"
     ]
    },
    {
     "name": "stdout",
     "output_type": "stream",
     "text": [
      "Epoch 2246/5000\n\r30/30 [==============================] - 0s 0s/sample - loss: 112.7412\n"
     ]
    },
    {
     "name": "stdout",
     "output_type": "stream",
     "text": [
      "Epoch 2247/5000\n\r30/30 [==============================] - 0s 0s/sample - loss: 112.7266\n"
     ]
    },
    {
     "name": "stdout",
     "output_type": "stream",
     "text": [
      "Epoch 2248/5000\n\r30/30 [==============================] - 0s 333us/sample - loss: 112.7119\n"
     ]
    },
    {
     "name": "stdout",
     "output_type": "stream",
     "text": [
      "Epoch 2249/5000\n\r30/30 [==============================] - 0s 0s/sample - loss: 112.6973\n"
     ]
    },
    {
     "name": "stdout",
     "output_type": "stream",
     "text": [
      "Epoch 2250/5000\n\r30/30 [==============================] - 0s 0s/sample - loss: 112.6827\n"
     ]
    },
    {
     "name": "stdout",
     "output_type": "stream",
     "text": [
      "Epoch 2251/5000\n\r30/30 [==============================] - 0s 0s/sample - loss: 112.6682\n"
     ]
    },
    {
     "name": "stdout",
     "output_type": "stream",
     "text": [
      "Epoch 2252/5000\n\r30/30 [==============================] - 0s 333us/sample - loss: 112.6538\n"
     ]
    },
    {
     "name": "stdout",
     "output_type": "stream",
     "text": [
      "Epoch 2253/5000\n\r30/30 [==============================] - 0s 0s/sample - loss: 112.6394\n"
     ]
    },
    {
     "name": "stdout",
     "output_type": "stream",
     "text": [
      "Epoch 2254/5000\n\r30/30 [==============================] - 0s 0s/sample - loss: 112.6250\n"
     ]
    },
    {
     "name": "stdout",
     "output_type": "stream",
     "text": [
      "Epoch 2255/5000\n\r30/30 [==============================] - 0s 0s/sample - loss: 112.6107\n"
     ]
    },
    {
     "name": "stdout",
     "output_type": "stream",
     "text": [
      "Epoch 2256/5000\n"
     ]
    },
    {
     "name": "stdout",
     "output_type": "stream",
     "text": [
      "\r30/30 [==============================] - 0s 333us/sample - loss: 112.5964\n"
     ]
    },
    {
     "name": "stdout",
     "output_type": "stream",
     "text": [
      "Epoch 2257/5000\n\r30/30 [==============================] - 0s 0s/sample - loss: 112.5821\n"
     ]
    },
    {
     "name": "stdout",
     "output_type": "stream",
     "text": [
      "Epoch 2258/5000\n\r30/30 [==============================] - 0s 0s/sample - loss: 112.5680\n"
     ]
    },
    {
     "name": "stdout",
     "output_type": "stream",
     "text": [
      "Epoch 2259/5000\n\r30/30 [==============================] - 0s 0s/sample - loss: 112.5538\n"
     ]
    },
    {
     "name": "stdout",
     "output_type": "stream",
     "text": [
      "Epoch 2260/5000\n"
     ]
    },
    {
     "name": "stdout",
     "output_type": "stream",
     "text": [
      "\r30/30 [==============================] - 0s 333us/sample - loss: 112.5397\n"
     ]
    },
    {
     "name": "stdout",
     "output_type": "stream",
     "text": [
      "Epoch 2261/5000\n\r30/30 [==============================] - 0s 0s/sample - loss: 112.5256\n"
     ]
    },
    {
     "name": "stdout",
     "output_type": "stream",
     "text": [
      "Epoch 2262/5000\n\r30/30 [==============================] - 0s 0s/sample - loss: 112.5116\n"
     ]
    },
    {
     "name": "stdout",
     "output_type": "stream",
     "text": [
      "Epoch 2263/5000\n\r30/30 [==============================] - 0s 0s/sample - loss: 112.4976\n"
     ]
    },
    {
     "name": "stdout",
     "output_type": "stream",
     "text": [
      "Epoch 2264/5000\n\r30/30 [==============================] - 0s 0s/sample - loss: 112.4837\n"
     ]
    },
    {
     "name": "stdout",
     "output_type": "stream",
     "text": [
      "Epoch 2265/5000\n\r30/30 [==============================] - 0s 0s/sample - loss: 112.4698\n"
     ]
    },
    {
     "name": "stdout",
     "output_type": "stream",
     "text": [
      "Epoch 2266/5000\n\r30/30 [==============================] - 0s 0s/sample - loss: 112.4560\n"
     ]
    },
    {
     "name": "stdout",
     "output_type": "stream",
     "text": [
      "Epoch 2267/5000\n\r30/30 [==============================] - 0s 0s/sample - loss: 112.4422\n"
     ]
    },
    {
     "name": "stdout",
     "output_type": "stream",
     "text": [
      "Epoch 2268/5000\n\r30/30 [==============================] - 0s 0s/sample - loss: 112.4284\n"
     ]
    },
    {
     "name": "stdout",
     "output_type": "stream",
     "text": [
      "Epoch 2269/5000\n\r30/30 [==============================] - 0s 333us/sample - loss: 112.4147\n"
     ]
    },
    {
     "name": "stdout",
     "output_type": "stream",
     "text": [
      "Epoch 2270/5000\n\r30/30 [==============================] - 0s 0s/sample - loss: 112.4010\n"
     ]
    },
    {
     "name": "stdout",
     "output_type": "stream",
     "text": [
      "Epoch 2271/5000\n\r30/30 [==============================] - 0s 0s/sample - loss: 112.3874\n"
     ]
    },
    {
     "name": "stdout",
     "output_type": "stream",
     "text": [
      "Epoch 2272/5000\n\r30/30 [==============================] - 0s 0s/sample - loss: 112.3738\n"
     ]
    },
    {
     "name": "stdout",
     "output_type": "stream",
     "text": [
      "Epoch 2273/5000\n\r30/30 [==============================] - 0s 333us/sample - loss: 112.3603\n"
     ]
    },
    {
     "name": "stdout",
     "output_type": "stream",
     "text": [
      "Epoch 2274/5000\n\r30/30 [==============================] - 0s 0s/sample - loss: 112.3468\n"
     ]
    },
    {
     "name": "stdout",
     "output_type": "stream",
     "text": [
      "Epoch 2275/5000\n\r30/30 [==============================] - 0s 0s/sample - loss: 112.3333\n"
     ]
    },
    {
     "name": "stdout",
     "output_type": "stream",
     "text": [
      "Epoch 2276/5000\n\r30/30 [==============================] - 0s 0s/sample - loss: 112.3199\n"
     ]
    },
    {
     "name": "stdout",
     "output_type": "stream",
     "text": [
      "Epoch 2277/5000\n"
     ]
    },
    {
     "name": "stdout",
     "output_type": "stream",
     "text": [
      "\r30/30 [==============================] - 0s 333us/sample - loss: 112.3065\n"
     ]
    },
    {
     "name": "stdout",
     "output_type": "stream",
     "text": [
      "Epoch 2278/5000\n\r30/30 [==============================] - 0s 0s/sample - loss: 112.2932\n"
     ]
    },
    {
     "name": "stdout",
     "output_type": "stream",
     "text": [
      "Epoch 2279/5000\n\r30/30 [==============================] - 0s 0s/sample - loss: 112.2799\n"
     ]
    },
    {
     "name": "stdout",
     "output_type": "stream",
     "text": [
      "Epoch 2280/5000\n\r30/30 [==============================] - 0s 0s/sample - loss: 112.2667\n"
     ]
    },
    {
     "name": "stdout",
     "output_type": "stream",
     "text": [
      "Epoch 2281/5000\n"
     ]
    },
    {
     "name": "stdout",
     "output_type": "stream",
     "text": [
      "\r30/30 [==============================] - 0s 333us/sample - loss: 112.2534\n"
     ]
    },
    {
     "name": "stdout",
     "output_type": "stream",
     "text": [
      "Epoch 2282/5000\n\r30/30 [==============================] - 0s 0s/sample - loss: 112.2402\n"
     ]
    },
    {
     "name": "stdout",
     "output_type": "stream",
     "text": [
      "Epoch 2283/5000\n\r30/30 [==============================] - 0s 0s/sample - loss: 112.2271\n"
     ]
    },
    {
     "name": "stdout",
     "output_type": "stream",
     "text": [
      "Epoch 2284/5000\n\r30/30 [==============================] - 0s 0s/sample - loss: 112.2140\n"
     ]
    },
    {
     "name": "stdout",
     "output_type": "stream",
     "text": [
      "Epoch 2285/5000\n"
     ]
    },
    {
     "name": "stdout",
     "output_type": "stream",
     "text": [
      "\r30/30 [==============================] - 0s 333us/sample - loss: 112.2010\n"
     ]
    },
    {
     "name": "stdout",
     "output_type": "stream",
     "text": [
      "Epoch 2286/5000\n\r30/30 [==============================] - 0s 0s/sample - loss: 112.1880\n"
     ]
    },
    {
     "name": "stdout",
     "output_type": "stream",
     "text": [
      "Epoch 2287/5000\n\r30/30 [==============================] - 0s 0s/sample - loss: 112.1750\n"
     ]
    },
    {
     "name": "stdout",
     "output_type": "stream",
     "text": [
      "Epoch 2288/5000\n\r30/30 [==============================] - 0s 0s/sample - loss: 112.1621\n"
     ]
    },
    {
     "name": "stdout",
     "output_type": "stream",
     "text": [
      "Epoch 2289/5000\n\r30/30 [==============================] - 0s 0s/sample - loss: 112.1492\n"
     ]
    },
    {
     "name": "stdout",
     "output_type": "stream",
     "text": [
      "Epoch 2290/5000\n\r30/30 [==============================] - 0s 0s/sample - loss: 112.1364\n"
     ]
    },
    {
     "name": "stdout",
     "output_type": "stream",
     "text": [
      "Epoch 2291/5000\n\r30/30 [==============================] - 0s 0s/sample - loss: 112.1236\n"
     ]
    },
    {
     "name": "stdout",
     "output_type": "stream",
     "text": [
      "Epoch 2292/5000\n\r30/30 [==============================] - 0s 0s/sample - loss: 112.1108\n"
     ]
    },
    {
     "name": "stdout",
     "output_type": "stream",
     "text": [
      "Epoch 2293/5000\n\r30/30 [==============================] - 0s 0s/sample - loss: 112.0981\n"
     ]
    },
    {
     "name": "stdout",
     "output_type": "stream",
     "text": [
      "Epoch 2294/5000\n\r30/30 [==============================] - 0s 0s/sample - loss: 112.0854\n"
     ]
    },
    {
     "name": "stdout",
     "output_type": "stream",
     "text": [
      "Epoch 2295/5000\n\r30/30 [==============================] - 0s 0s/sample - loss: 112.0728\n"
     ]
    },
    {
     "name": "stdout",
     "output_type": "stream",
     "text": [
      "Epoch 2296/5000\n\r30/30 [==============================] - 0s 0s/sample - loss: 112.0602\n"
     ]
    },
    {
     "name": "stdout",
     "output_type": "stream",
     "text": [
      "Epoch 2297/5000\n\r"
     ]
    },
    {
     "name": "stdout",
     "output_type": "stream",
     "text": [
      "30/30 [==============================] - 0s 0s/sample - loss: 112.0476\n"
     ]
    },
    {
     "name": "stdout",
     "output_type": "stream",
     "text": [
      "Epoch 2298/5000\n\r30/30 [==============================] - 0s 0s/sample - loss: 112.0351\n"
     ]
    },
    {
     "name": "stdout",
     "output_type": "stream",
     "text": [
      "Epoch 2299/5000\n\r30/30 [==============================] - 0s 0s/sample - loss: 112.0226\n"
     ]
    },
    {
     "name": "stdout",
     "output_type": "stream",
     "text": [
      "Epoch 2300/5000\n\r30/30 [==============================] - 0s 0s/sample - loss: 112.0102\n"
     ]
    },
    {
     "name": "stdout",
     "output_type": "stream",
     "text": [
      "Epoch 2301/5000\n\r30/30 [==============================] - 0s 0s/sample - loss: 111.9978\n"
     ]
    },
    {
     "name": "stdout",
     "output_type": "stream",
     "text": [
      "Epoch 2302/5000\n\r30/30 [==============================] - 0s 0s/sample - loss: 111.9854\n"
     ]
    },
    {
     "name": "stdout",
     "output_type": "stream",
     "text": [
      "Epoch 2303/5000\n\r30/30 [==============================] - 0s 0s/sample - loss: 111.9731\n"
     ]
    },
    {
     "name": "stdout",
     "output_type": "stream",
     "text": [
      "Epoch 2304/5000\n\r30/30 [==============================] - 0s 0s/sample - loss: 111.9608\n"
     ]
    },
    {
     "name": "stdout",
     "output_type": "stream",
     "text": [
      "Epoch 2305/5000\n\r30/30 [==============================] - 0s 0s/sample - loss: 111.9486\n"
     ]
    },
    {
     "name": "stdout",
     "output_type": "stream",
     "text": [
      "Epoch 2306/5000\n"
     ]
    },
    {
     "name": "stdout",
     "output_type": "stream",
     "text": [
      "\r30/30 [==============================] - 0s 333us/sample - loss: 111.9364\n"
     ]
    },
    {
     "name": "stdout",
     "output_type": "stream",
     "text": [
      "Epoch 2307/5000\n\r30/30 [==============================] - 0s 0s/sample - loss: 111.9242\n"
     ]
    },
    {
     "name": "stdout",
     "output_type": "stream",
     "text": [
      "Epoch 2308/5000\n\r30/30 [==============================] - 0s 0s/sample - loss: 111.9120\n"
     ]
    },
    {
     "name": "stdout",
     "output_type": "stream",
     "text": [
      "Epoch 2309/5000\n\r30/30 [==============================] - 0s 0s/sample - loss: 111.8999\n"
     ]
    },
    {
     "name": "stdout",
     "output_type": "stream",
     "text": [
      "Epoch 2310/5000\n\r30/30 [==============================] - 0s 0s/sample - loss: 111.8879\n"
     ]
    },
    {
     "name": "stdout",
     "output_type": "stream",
     "text": [
      "Epoch 2311/5000\n\r30/30 [==============================] - 0s 0s/sample - loss: 111.8759\n"
     ]
    },
    {
     "name": "stdout",
     "output_type": "stream",
     "text": [
      "Epoch 2312/5000\n\r30/30 [==============================] - 0s 0s/sample - loss: 111.8639\n"
     ]
    },
    {
     "name": "stdout",
     "output_type": "stream",
     "text": [
      "Epoch 2313/5000\n\r30/30 [==============================] - 0s 0s/sample - loss: 111.8520\n"
     ]
    },
    {
     "name": "stdout",
     "output_type": "stream",
     "text": [
      "Epoch 2314/5000\n"
     ]
    },
    {
     "name": "stdout",
     "output_type": "stream",
     "text": [
      "\r30/30 [==============================] - 0s 333us/sample - loss: 111.8401\n"
     ]
    },
    {
     "name": "stdout",
     "output_type": "stream",
     "text": [
      "Epoch 2315/5000\n\r30/30 [==============================] - 0s 0s/sample - loss: 111.8282\n"
     ]
    },
    {
     "name": "stdout",
     "output_type": "stream",
     "text": [
      "Epoch 2316/5000\n\r30/30 [==============================] - 0s 0s/sample - loss: 111.8164\n"
     ]
    },
    {
     "name": "stdout",
     "output_type": "stream",
     "text": [
      "Epoch 2317/5000\n\r30/30 [==============================] - 0s 0s/sample - loss: 111.8046\n"
     ]
    },
    {
     "name": "stdout",
     "output_type": "stream",
     "text": [
      "Epoch 2318/5000\n"
     ]
    },
    {
     "name": "stdout",
     "output_type": "stream",
     "text": [
      "\r30/30 [==============================] - 0s 333us/sample - loss: 111.7928\n"
     ]
    },
    {
     "name": "stdout",
     "output_type": "stream",
     "text": [
      "Epoch 2319/5000\n\r30/30 [==============================] - 0s 0s/sample - loss: 111.7811\n"
     ]
    },
    {
     "name": "stdout",
     "output_type": "stream",
     "text": [
      "Epoch 2320/5000\n\r30/30 [==============================] - 0s 0s/sample - loss: 111.7694\n"
     ]
    },
    {
     "name": "stdout",
     "output_type": "stream",
     "text": [
      "Epoch 2321/5000\n\r30/30 [==============================] - 0s 0s/sample - loss: 111.7578\n"
     ]
    },
    {
     "name": "stdout",
     "output_type": "stream",
     "text": [
      "Epoch 2322/5000\n\r30/30 [==============================] - 0s 0s/sample - loss: 111.7462\n"
     ]
    },
    {
     "name": "stdout",
     "output_type": "stream",
     "text": [
      "Epoch 2323/5000\n\r30/30 [==============================] - 0s 0s/sample - loss: 111.7346\n"
     ]
    },
    {
     "name": "stdout",
     "output_type": "stream",
     "text": [
      "Epoch 2324/5000\n\r30/30 [==============================] - 0s 0s/sample - loss: 111.7230\n"
     ]
    },
    {
     "name": "stdout",
     "output_type": "stream",
     "text": [
      "Epoch 2325/5000\n\r30/30 [==============================] - 0s 0s/sample - loss: 111.7116\n"
     ]
    },
    {
     "name": "stdout",
     "output_type": "stream",
     "text": [
      "Epoch 2326/5000\n\r30/30 [==============================] - 0s 0s/sample - loss: 111.7001\n"
     ]
    },
    {
     "name": "stdout",
     "output_type": "stream",
     "text": [
      "Epoch 2327/5000\n\r30/30 [==============================] - 0s 0s/sample - loss: 111.6887\n"
     ]
    },
    {
     "name": "stdout",
     "output_type": "stream",
     "text": [
      "Epoch 2328/5000\n\r30/30 [==============================] - 0s 0s/sample - loss: 111.6773\n"
     ]
    },
    {
     "name": "stdout",
     "output_type": "stream",
     "text": [
      "Epoch 2329/5000\n\r30/30 [==============================] - 0s 0s/sample - loss: 111.6659\n"
     ]
    },
    {
     "name": "stdout",
     "output_type": "stream",
     "text": [
      "Epoch 2330/5000\n\r30/30 [==============================] - 0s 0s/sample - loss: 111.6546\n"
     ]
    },
    {
     "name": "stdout",
     "output_type": "stream",
     "text": [
      "Epoch 2331/5000\n\r30/30 [==============================] - 0s 333us/sample - loss: 111.6433\n"
     ]
    },
    {
     "name": "stdout",
     "output_type": "stream",
     "text": [
      "Epoch 2332/5000\n\r30/30 [==============================] - 0s 0s/sample - loss: 111.6321\n"
     ]
    },
    {
     "name": "stdout",
     "output_type": "stream",
     "text": [
      "Epoch 2333/5000\n\r30/30 [==============================] - 0s 0s/sample - loss: 111.6209\n"
     ]
    },
    {
     "name": "stdout",
     "output_type": "stream",
     "text": [
      "Epoch 2334/5000\n\r30/30 [==============================] - 0s 0s/sample - loss: 111.6097\n"
     ]
    },
    {
     "name": "stdout",
     "output_type": "stream",
     "text": [
      "Epoch 2335/5000\n\r30/30 [==============================] - 0s 333us/sample - loss: 111.5986\n"
     ]
    },
    {
     "name": "stdout",
     "output_type": "stream",
     "text": [
      "Epoch 2336/5000\n\r30/30 [==============================] - 0s 0s/sample - loss: 111.5875\n"
     ]
    },
    {
     "name": "stdout",
     "output_type": "stream",
     "text": [
      "Epoch 2337/5000\n\r30/30 [==============================] - 0s 0s/sample - loss: 111.5764\n"
     ]
    },
    {
     "name": "stdout",
     "output_type": "stream",
     "text": [
      "Epoch 2338/5000\n\r30/30 [==============================] - 0s 0s/sample - loss: 111.5654\n"
     ]
    },
    {
     "name": "stdout",
     "output_type": "stream",
     "text": [
      "Epoch 2339/5000\n"
     ]
    },
    {
     "name": "stdout",
     "output_type": "stream",
     "text": [
      "\r30/30 [==============================] - 0s 333us/sample - loss: 111.5544\n"
     ]
    },
    {
     "name": "stdout",
     "output_type": "stream",
     "text": [
      "Epoch 2340/5000\n\r30/30 [==============================] - 0s 0s/sample - loss: 111.5434\n"
     ]
    },
    {
     "name": "stdout",
     "output_type": "stream",
     "text": [
      "Epoch 2341/5000\n\r30/30 [==============================] - 0s 0s/sample - loss: 111.5325\n"
     ]
    },
    {
     "name": "stdout",
     "output_type": "stream",
     "text": [
      "Epoch 2342/5000\n\r30/30 [==============================] - 0s 0s/sample - loss: 111.5216\n"
     ]
    },
    {
     "name": "stdout",
     "output_type": "stream",
     "text": [
      "Epoch 2343/5000\n"
     ]
    },
    {
     "name": "stdout",
     "output_type": "stream",
     "text": [
      "\r30/30 [==============================] - 0s 333us/sample - loss: 111.5108\n"
     ]
    },
    {
     "name": "stdout",
     "output_type": "stream",
     "text": [
      "Epoch 2344/5000\n\r30/30 [==============================] - 0s 0s/sample - loss: 111.5000\n"
     ]
    },
    {
     "name": "stdout",
     "output_type": "stream",
     "text": [
      "Epoch 2345/5000\n\r30/30 [==============================] - 0s 0s/sample - loss: 111.4892\n"
     ]
    },
    {
     "name": "stdout",
     "output_type": "stream",
     "text": [
      "Epoch 2346/5000\n\r30/30 [==============================] - 0s 0s/sample - loss: 111.4784\n"
     ]
    },
    {
     "name": "stdout",
     "output_type": "stream",
     "text": [
      "Epoch 2347/5000\n"
     ]
    },
    {
     "name": "stdout",
     "output_type": "stream",
     "text": [
      "\r30/30 [==============================] - 0s 333us/sample - loss: 111.4677\n"
     ]
    },
    {
     "name": "stdout",
     "output_type": "stream",
     "text": [
      "Epoch 2348/5000\n\r30/30 [==============================] - 0s 0s/sample - loss: 111.4570\n"
     ]
    },
    {
     "name": "stdout",
     "output_type": "stream",
     "text": [
      "Epoch 2349/5000\n\r30/30 [==============================] - 0s 0s/sample - loss: 111.4464\n"
     ]
    },
    {
     "name": "stdout",
     "output_type": "stream",
     "text": [
      "Epoch 2350/5000\n\r30/30 [==============================] - 0s 0s/sample - loss: 111.4357\n"
     ]
    },
    {
     "name": "stdout",
     "output_type": "stream",
     "text": [
      "Epoch 2351/5000\n"
     ]
    },
    {
     "name": "stdout",
     "output_type": "stream",
     "text": [
      "\r30/30 [==============================] - 0s 333us/sample - loss: 111.4251\n"
     ]
    },
    {
     "name": "stdout",
     "output_type": "stream",
     "text": [
      "Epoch 2352/5000\n\r30/30 [==============================] - 0s 0s/sample - loss: 111.4146\n"
     ]
    },
    {
     "name": "stdout",
     "output_type": "stream",
     "text": [
      "Epoch 2353/5000\n\r30/30 [==============================] - 0s 0s/sample - loss: 111.4041\n"
     ]
    },
    {
     "name": "stdout",
     "output_type": "stream",
     "text": [
      "Epoch 2354/5000\n\r30/30 [==============================] - 0s 0s/sample - loss: 111.3936\n"
     ]
    },
    {
     "name": "stdout",
     "output_type": "stream",
     "text": [
      "Epoch 2355/5000\n\r30/30 [==============================] - 0s 0s/sample - loss: 111.3831\n"
     ]
    },
    {
     "name": "stdout",
     "output_type": "stream",
     "text": [
      "Epoch 2356/5000\n\r30/30 [==============================] - 0s 0s/sample - loss: 111.3728\n"
     ]
    },
    {
     "name": "stdout",
     "output_type": "stream",
     "text": [
      "Epoch 2357/5000\n\r30/30 [==============================] - 0s 0s/sample - loss: 111.3624\n"
     ]
    },
    {
     "name": "stdout",
     "output_type": "stream",
     "text": [
      "Epoch 2358/5000\n\r30/30 [==============================] - 0s 0s/sample - loss: 111.3520\n"
     ]
    },
    {
     "name": "stdout",
     "output_type": "stream",
     "text": [
      "Epoch 2359/5000\n\r30/30 [==============================] - 0s 0s/sample - loss: 111.3417\n"
     ]
    },
    {
     "name": "stdout",
     "output_type": "stream",
     "text": [
      "Epoch 2360/5000\n\r30/30 [==============================] - 0s 334us/sample - loss: 111.3314\n"
     ]
    },
    {
     "name": "stdout",
     "output_type": "stream",
     "text": [
      "Epoch 2361/5000\n\r30/30 [==============================] - 0s 0s/sample - loss: 111.3212\n"
     ]
    },
    {
     "name": "stdout",
     "output_type": "stream",
     "text": [
      "Epoch 2362/5000\n\r30/30 [==============================] - 0s 0s/sample - loss: 111.3110\n"
     ]
    },
    {
     "name": "stdout",
     "output_type": "stream",
     "text": [
      "Epoch 2363/5000\n\r30/30 [==============================] - 0s 0s/sample - loss: 111.3008\n"
     ]
    },
    {
     "name": "stdout",
     "output_type": "stream",
     "text": [
      "Epoch 2364/5000\n\r30/30 [==============================] - 0s 332us/sample - loss: 111.2906\n"
     ]
    },
    {
     "name": "stdout",
     "output_type": "stream",
     "text": [
      "Epoch 2365/5000\n\r30/30 [==============================] - 0s 0s/sample - loss: 111.2805\n"
     ]
    },
    {
     "name": "stdout",
     "output_type": "stream",
     "text": [
      "Epoch 2366/5000\n\r30/30 [==============================] - 0s 0s/sample - loss: 111.2704\n"
     ]
    },
    {
     "name": "stdout",
     "output_type": "stream",
     "text": [
      "Epoch 2367/5000\n\r30/30 [==============================] - 0s 0s/sample - loss: 111.2603\n"
     ]
    },
    {
     "name": "stdout",
     "output_type": "stream",
     "text": [
      "Epoch 2368/5000\n\r30/30 [==============================] - 0s 0s/sample - loss: 111.2503\n"
     ]
    },
    {
     "name": "stdout",
     "output_type": "stream",
     "text": [
      "Epoch 2369/5000\n\r30/30 [==============================] - 0s 0s/sample - loss: 111.2404\n"
     ]
    },
    {
     "name": "stdout",
     "output_type": "stream",
     "text": [
      "Epoch 2370/5000\n\r30/30 [==============================] - 0s 0s/sample - loss: 111.2304\n"
     ]
    },
    {
     "name": "stdout",
     "output_type": "stream",
     "text": [
      "Epoch 2371/5000\n\r30/30 [==============================] - 0s 0s/sample - loss: 111.2204\n"
     ]
    },
    {
     "name": "stdout",
     "output_type": "stream",
     "text": [
      "Epoch 2372/5000\n\r30/30 [==============================] - 0s 0s/sample - loss: 111.2105\n"
     ]
    },
    {
     "name": "stdout",
     "output_type": "stream",
     "text": [
      "Epoch 2373/5000\n"
     ]
    },
    {
     "name": "stdout",
     "output_type": "stream",
     "text": [
      "\r30/30 [==============================] - 0s 390us/sample - loss: 111.2007\n"
     ]
    },
    {
     "name": "stdout",
     "output_type": "stream",
     "text": [
      "Epoch 2374/5000\n\r30/30 [==============================] - 0s 36us/sample - loss: 111.1908\n"
     ]
    },
    {
     "name": "stdout",
     "output_type": "stream",
     "text": [
      "Epoch 2375/5000\n\r30/30 [==============================] - 0s 0s/sample - loss: 111.1811\n"
     ]
    },
    {
     "name": "stdout",
     "output_type": "stream",
     "text": [
      "Epoch 2376/5000\n\r30/30 [==============================] - 0s 0s/sample - loss: 111.1713\n"
     ]
    },
    {
     "name": "stdout",
     "output_type": "stream",
     "text": [
      "Epoch 2377/5000\n\r30/30 [==============================] - 0s 0s/sample - loss: 111.1616\n"
     ]
    },
    {
     "name": "stdout",
     "output_type": "stream",
     "text": [
      "Epoch 2378/5000\n"
     ]
    },
    {
     "name": "stdout",
     "output_type": "stream",
     "text": [
      "\r30/30 [==============================] - 0s 333us/sample - loss: 111.1519\n"
     ]
    },
    {
     "name": "stdout",
     "output_type": "stream",
     "text": [
      "Epoch 2379/5000\n\r30/30 [==============================] - 0s 0s/sample - loss: 111.1422\n"
     ]
    },
    {
     "name": "stdout",
     "output_type": "stream",
     "text": [
      "Epoch 2380/5000\n\r30/30 [==============================] - 0s 0s/sample - loss: 111.1325\n"
     ]
    },
    {
     "name": "stdout",
     "output_type": "stream",
     "text": [
      "Epoch 2381/5000\n\r30/30 [==============================] - 0s 0s/sample - loss: 111.1229\n"
     ]
    },
    {
     "name": "stdout",
     "output_type": "stream",
     "text": [
      "Epoch 2382/5000\n"
     ]
    },
    {
     "name": "stdout",
     "output_type": "stream",
     "text": [
      "\r30/30 [==============================] - 0s 333us/sample - loss: 111.1133\n"
     ]
    },
    {
     "name": "stdout",
     "output_type": "stream",
     "text": [
      "Epoch 2383/5000\n\r30/30 [==============================] - 0s 0s/sample - loss: 111.1038\n"
     ]
    },
    {
     "name": "stdout",
     "output_type": "stream",
     "text": [
      "Epoch 2384/5000\n\r30/30 [==============================] - 0s 0s/sample - loss: 111.0942\n"
     ]
    },
    {
     "name": "stdout",
     "output_type": "stream",
     "text": [
      "Epoch 2385/5000\n\r30/30 [==============================] - 0s 0s/sample - loss: 111.0847\n"
     ]
    },
    {
     "name": "stdout",
     "output_type": "stream",
     "text": [
      "Epoch 2386/5000\n\r30/30 [==============================] - 0s 0s/sample - loss: 111.0753\n"
     ]
    },
    {
     "name": "stdout",
     "output_type": "stream",
     "text": [
      "Epoch 2387/5000\n\r30/30 [==============================] - 0s 0s/sample - loss: 111.0659\n"
     ]
    },
    {
     "name": "stdout",
     "output_type": "stream",
     "text": [
      "Epoch 2388/5000\n\r30/30 [==============================] - 0s 0s/sample - loss: 111.0565\n"
     ]
    },
    {
     "name": "stdout",
     "output_type": "stream",
     "text": [
      "Epoch 2389/5000\n\r30/30 [==============================] - 0s 0s/sample - loss: 111.0471\n"
     ]
    },
    {
     "name": "stdout",
     "output_type": "stream",
     "text": [
      "Epoch 2390/5000\n"
     ]
    },
    {
     "name": "stdout",
     "output_type": "stream",
     "text": [
      "\r30/30 [==============================] - 0s 333us/sample - loss: 111.0378\n"
     ]
    },
    {
     "name": "stdout",
     "output_type": "stream",
     "text": [
      "Epoch 2391/5000\n\r30/30 [==============================] - 0s 0s/sample - loss: 111.0285\n"
     ]
    },
    {
     "name": "stdout",
     "output_type": "stream",
     "text": [
      "Epoch 2392/5000\n\r30/30 [==============================] - 0s 0s/sample - loss: 111.0192\n"
     ]
    },
    {
     "name": "stdout",
     "output_type": "stream",
     "text": [
      "Epoch 2393/5000\n\r30/30 [==============================] - 0s 0s/sample - loss: 111.0099\n"
     ]
    },
    {
     "name": "stdout",
     "output_type": "stream",
     "text": [
      "Epoch 2394/5000\n"
     ]
    },
    {
     "name": "stdout",
     "output_type": "stream",
     "text": [
      "\r30/30 [==============================] - 0s 0s/sample - loss: 111.0007\n"
     ]
    },
    {
     "name": "stdout",
     "output_type": "stream",
     "text": [
      "Epoch 2395/5000\n\r30/30 [==============================] - 0s 0s/sample - loss: 110.9915\n"
     ]
    },
    {
     "name": "stdout",
     "output_type": "stream",
     "text": [
      "Epoch 2396/5000\n\r30/30 [==============================] - 0s 0s/sample - loss: 110.9823\n"
     ]
    },
    {
     "name": "stdout",
     "output_type": "stream",
     "text": [
      "Epoch 2397/5000\n\r30/30 [==============================] - 0s 0s/sample - loss: 110.9732\n"
     ]
    },
    {
     "name": "stdout",
     "output_type": "stream",
     "text": [
      "Epoch 2398/5000\n\r30/30 [==============================] - 0s 0s/sample - loss: 110.9641\n"
     ]
    },
    {
     "name": "stdout",
     "output_type": "stream",
     "text": [
      "Epoch 2399/5000\n\r30/30 [==============================] - 0s 0s/sample - loss: 110.9550\n"
     ]
    },
    {
     "name": "stdout",
     "output_type": "stream",
     "text": [
      "Epoch 2400/5000\n\r30/30 [==============================] - 0s 0s/sample - loss: 110.9460\n"
     ]
    },
    {
     "name": "stdout",
     "output_type": "stream",
     "text": [
      "Epoch 2401/5000\n\r30/30 [==============================] - 0s 0s/sample - loss: 110.9370\n"
     ]
    },
    {
     "name": "stdout",
     "output_type": "stream",
     "text": [
      "Epoch 2402/5000\n\r30/30 [==============================] - 0s 0s/sample - loss: 110.9280\n"
     ]
    },
    {
     "name": "stdout",
     "output_type": "stream",
     "text": [
      "Epoch 2403/5000"
     ]
    },
    {
     "name": "stdout",
     "output_type": "stream",
     "text": [
      "\n\r30/30 [==============================] - 0s 333us/sample - loss: 110.9190\n"
     ]
    },
    {
     "name": "stdout",
     "output_type": "stream",
     "text": [
      "Epoch 2404/5000\n\r30/30 [==============================] - 0s 0s/sample - loss: 110.9101\n"
     ]
    },
    {
     "name": "stdout",
     "output_type": "stream",
     "text": [
      "Epoch 2405/5000\n\r30/30 [==============================] - 0s 0s/sample - loss: 110.9012\n"
     ]
    },
    {
     "name": "stdout",
     "output_type": "stream",
     "text": [
      "Epoch 2406/5000\n\r30/30 [==============================] - 0s 0s/sample - loss: 110.8923\n"
     ]
    },
    {
     "name": "stdout",
     "output_type": "stream",
     "text": [
      "Epoch 2407/5000\n"
     ]
    },
    {
     "name": "stdout",
     "output_type": "stream",
     "text": [
      "\r30/30 [==============================] - 0s 333us/sample - loss: 110.8835\n"
     ]
    },
    {
     "name": "stdout",
     "output_type": "stream",
     "text": [
      "Epoch 2408/5000\n\r30/30 [==============================] - 0s 0s/sample - loss: 110.8747\n"
     ]
    },
    {
     "name": "stdout",
     "output_type": "stream",
     "text": [
      "Epoch 2409/5000\n\r30/30 [==============================] - 0s 0s/sample - loss: 110.8659\n"
     ]
    },
    {
     "name": "stdout",
     "output_type": "stream",
     "text": [
      "Epoch 2410/5000\n\r30/30 [==============================] - 0s 0s/sample - loss: 110.8571\n"
     ]
    },
    {
     "name": "stdout",
     "output_type": "stream",
     "text": [
      "Epoch 2411/5000\n"
     ]
    },
    {
     "name": "stdout",
     "output_type": "stream",
     "text": [
      "\r30/30 [==============================] - 0s 333us/sample - loss: 110.8484\n"
     ]
    },
    {
     "name": "stdout",
     "output_type": "stream",
     "text": [
      "Epoch 2412/5000\n\r30/30 [==============================] - 0s 0s/sample - loss: 110.8397\n"
     ]
    },
    {
     "name": "stdout",
     "output_type": "stream",
     "text": [
      "Epoch 2413/5000\n\r30/30 [==============================] - 0s 0s/sample - loss: 110.8310\n"
     ]
    },
    {
     "name": "stdout",
     "output_type": "stream",
     "text": [
      "Epoch 2414/5000\n\r30/30 [==============================] - 0s 0s/sample - loss: 110.8224\n"
     ]
    },
    {
     "name": "stdout",
     "output_type": "stream",
     "text": [
      "Epoch 2415/5000\n\r30/30 [==============================] - 0s 0s/sample - loss: 110.8138\n"
     ]
    },
    {
     "name": "stdout",
     "output_type": "stream",
     "text": [
      "Epoch 2416/5000\n\r30/30 [==============================] - 0s 0s/sample - loss: 110.8052\n"
     ]
    },
    {
     "name": "stdout",
     "output_type": "stream",
     "text": [
      "Epoch 2417/5000\n\r30/30 [==============================] - 0s 0s/sample - loss: 110.7966\n"
     ]
    },
    {
     "name": "stdout",
     "output_type": "stream",
     "text": [
      "Epoch 2418/5000\n\r30/30 [==============================] - 0s 0s/sample - loss: 110.7881\n"
     ]
    },
    {
     "name": "stdout",
     "output_type": "stream",
     "text": [
      "Epoch 2419/5000\n\r30/30 [==============================] - 0s 0s/sample - loss: 110.7795\n"
     ]
    },
    {
     "name": "stdout",
     "output_type": "stream",
     "text": [
      "Epoch 2420/5000"
     ]
    },
    {
     "name": "stdout",
     "output_type": "stream",
     "text": [
      "\n\r30/30 [==============================] - 0s 333us/sample - loss: 110.7711\n"
     ]
    },
    {
     "name": "stdout",
     "output_type": "stream",
     "text": [
      "Epoch 2421/5000\n\r30/30 [==============================] - 0s 0s/sample - loss: 110.7626\n"
     ]
    },
    {
     "name": "stdout",
     "output_type": "stream",
     "text": [
      "Epoch 2422/5000\n\r30/30 [==============================] - 0s 0s/sample - loss: 110.7542\n"
     ]
    },
    {
     "name": "stdout",
     "output_type": "stream",
     "text": [
      "Epoch 2423/5000\n\r30/30 [==============================] - 0s 0s/sample - loss: 110.7458\n"
     ]
    },
    {
     "name": "stdout",
     "output_type": "stream",
     "text": [
      "Epoch 2424/5000\n"
     ]
    },
    {
     "name": "stdout",
     "output_type": "stream",
     "text": [
      "\r30/30 [==============================] - 0s 333us/sample - loss: 110.7374\n"
     ]
    },
    {
     "name": "stdout",
     "output_type": "stream",
     "text": [
      "Epoch 2425/5000\n\r30/30 [==============================] - 0s 0s/sample - loss: 110.7291\n"
     ]
    },
    {
     "name": "stdout",
     "output_type": "stream",
     "text": [
      "Epoch 2426/5000\n\r30/30 [==============================] - 0s 0s/sample - loss: 110.7208\n"
     ]
    },
    {
     "name": "stdout",
     "output_type": "stream",
     "text": [
      "Epoch 2427/5000\n\r30/30 [==============================] - 0s 0s/sample - loss: 110.7125\n"
     ]
    },
    {
     "name": "stdout",
     "output_type": "stream",
     "text": [
      "Epoch 2428/5000\n"
     ]
    },
    {
     "name": "stdout",
     "output_type": "stream",
     "text": [
      "\r30/30 [==============================] - 0s 333us/sample - loss: 110.7042\n"
     ]
    },
    {
     "name": "stdout",
     "output_type": "stream",
     "text": [
      "Epoch 2429/5000\n\r30/30 [==============================] - 0s 0s/sample - loss: 110.6960\n"
     ]
    },
    {
     "name": "stdout",
     "output_type": "stream",
     "text": [
      "Epoch 2430/5000\n\r30/30 [==============================] - 0s 0s/sample - loss: 110.6878\n"
     ]
    },
    {
     "name": "stdout",
     "output_type": "stream",
     "text": [
      "Epoch 2431/5000\n\r30/30 [==============================] - 0s 0s/sample - loss: 110.6796\n"
     ]
    },
    {
     "name": "stdout",
     "output_type": "stream",
     "text": [
      "Epoch 2432/5000\n"
     ]
    },
    {
     "name": "stdout",
     "output_type": "stream",
     "text": [
      "\r30/30 [==============================] - 0s 333us/sample - loss: 110.6714\n"
     ]
    },
    {
     "name": "stdout",
     "output_type": "stream",
     "text": [
      "Epoch 2433/5000\n\r30/30 [==============================] - 0s 0s/sample - loss: 110.6633\n"
     ]
    },
    {
     "name": "stdout",
     "output_type": "stream",
     "text": [
      "Epoch 2434/5000\n\r30/30 [==============================] - 0s 0s/sample - loss: 110.6552\n"
     ]
    },
    {
     "name": "stdout",
     "output_type": "stream",
     "text": [
      "Epoch 2435/5000\n\r30/30 [==============================] - 0s 0s/sample - loss: 110.6471\n"
     ]
    },
    {
     "name": "stdout",
     "output_type": "stream",
     "text": [
      "Epoch 2436/5000\n\r30/30 [==============================] - 0s 0s/sample - loss: 110.6390\n"
     ]
    },
    {
     "name": "stdout",
     "output_type": "stream",
     "text": [
      "Epoch 2437/5000\n\r30/30 [==============================] - 0s 0s/sample - loss: 110.6310\n"
     ]
    },
    {
     "name": "stdout",
     "output_type": "stream",
     "text": [
      "Epoch 2438/5000\n\r30/30 [==============================] - 0s 0s/sample - loss: 110.6230\n"
     ]
    },
    {
     "name": "stdout",
     "output_type": "stream",
     "text": [
      "Epoch 2439/5000\n\r30/30 [==============================] - 0s 0s/sample - loss: 110.6150\n"
     ]
    },
    {
     "name": "stdout",
     "output_type": "stream",
     "text": [
      "Epoch 2440/5000\n\r30/30 [==============================] - 0s 0s/sample - loss: 110.6071\n"
     ]
    },
    {
     "name": "stdout",
     "output_type": "stream",
     "text": [
      "Epoch 2441/5000"
     ]
    },
    {
     "name": "stdout",
     "output_type": "stream",
     "text": [
      "\n\r30/30 [==============================] - 0s 333us/sample - loss: 110.5991\n"
     ]
    },
    {
     "name": "stdout",
     "output_type": "stream",
     "text": [
      "Epoch 2442/5000\n\r30/30 [==============================] - 0s 0s/sample - loss: 110.5912\n"
     ]
    },
    {
     "name": "stdout",
     "output_type": "stream",
     "text": [
      "Epoch 2443/5000\n\r30/30 [==============================] - 0s 0s/sample - loss: 110.5833\n"
     ]
    },
    {
     "name": "stdout",
     "output_type": "stream",
     "text": [
      "Epoch 2444/5000\n\r30/30 [==============================] - 0s 0s/sample - loss: 110.5755\n"
     ]
    },
    {
     "name": "stdout",
     "output_type": "stream",
     "text": [
      "Epoch 2445/5000\n"
     ]
    },
    {
     "name": "stdout",
     "output_type": "stream",
     "text": [
      "\r30/30 [==============================] - 0s 333us/sample - loss: 110.5677\n"
     ]
    },
    {
     "name": "stdout",
     "output_type": "stream",
     "text": [
      "Epoch 2446/5000\n\r30/30 [==============================] - 0s 0s/sample - loss: 110.5599\n"
     ]
    },
    {
     "name": "stdout",
     "output_type": "stream",
     "text": [
      "Epoch 2447/5000\n\r30/30 [==============================] - 0s 0s/sample - loss: 110.5521\n"
     ]
    },
    {
     "name": "stdout",
     "output_type": "stream",
     "text": [
      "Epoch 2448/5000\n\r30/30 [==============================] - 0s 0s/sample - loss: 110.5443\n"
     ]
    },
    {
     "name": "stdout",
     "output_type": "stream",
     "text": [
      "Epoch 2449/5000\n"
     ]
    },
    {
     "name": "stdout",
     "output_type": "stream",
     "text": [
      "\r30/30 [==============================] - 0s 333us/sample - loss: 110.5366\n"
     ]
    },
    {
     "name": "stdout",
     "output_type": "stream",
     "text": [
      "Epoch 2450/5000\n\r30/30 [==============================] - 0s 0s/sample - loss: 110.5289\n"
     ]
    },
    {
     "name": "stdout",
     "output_type": "stream",
     "text": [
      "Epoch 2451/5000\n\r30/30 [==============================] - 0s 0s/sample - loss: 110.5212\n"
     ]
    },
    {
     "name": "stdout",
     "output_type": "stream",
     "text": [
      "Epoch 2452/5000\n\r30/30 [==============================] - 0s 0s/sample - loss: 110.5136\n"
     ]
    },
    {
     "name": "stdout",
     "output_type": "stream",
     "text": [
      "Epoch 2453/5000\n"
     ]
    },
    {
     "name": "stdout",
     "output_type": "stream",
     "text": [
      "\r30/30 [==============================] - 0s 333us/sample - loss: 110.5059\n"
     ]
    },
    {
     "name": "stdout",
     "output_type": "stream",
     "text": [
      "Epoch 2454/5000\n\r30/30 [==============================] - 0s 0s/sample - loss: 110.4983\n"
     ]
    },
    {
     "name": "stdout",
     "output_type": "stream",
     "text": [
      "Epoch 2455/5000\n\r30/30 [==============================] - 0s 0s/sample - loss: 110.4908\n"
     ]
    },
    {
     "name": "stdout",
     "output_type": "stream",
     "text": [
      "Epoch 2456/5000\n\r30/30 [==============================] - 0s 0s/sample - loss: 110.4832\n"
     ]
    },
    {
     "name": "stdout",
     "output_type": "stream",
     "text": [
      "Epoch 2457/5000\n"
     ]
    },
    {
     "name": "stdout",
     "output_type": "stream",
     "text": [
      "\r30/30 [==============================] - 0s 333us/sample - loss: 110.4756\n"
     ]
    },
    {
     "name": "stdout",
     "output_type": "stream",
     "text": [
      "Epoch 2458/5000\n\r30/30 [==============================] - 0s 0s/sample - loss: 110.4681\n"
     ]
    },
    {
     "name": "stdout",
     "output_type": "stream",
     "text": [
      "Epoch 2459/5000\n\r30/30 [==============================] - 0s 0s/sample - loss: 110.4607\n"
     ]
    },
    {
     "name": "stdout",
     "output_type": "stream",
     "text": [
      "Epoch 2460/5000\n\r30/30 [==============================] - 0s 0s/sample - loss: 110.4532\n"
     ]
    },
    {
     "name": "stdout",
     "output_type": "stream",
     "text": [
      "Epoch 2461/5000\n\r30/30 [==============================] - 0s 333us/sample - loss: 110.4458\n"
     ]
    },
    {
     "name": "stdout",
     "output_type": "stream",
     "text": [
      "Epoch 2462/5000\n\r30/30 [==============================] - 0s 0s/sample - loss: 110.4383\n"
     ]
    },
    {
     "name": "stdout",
     "output_type": "stream",
     "text": [
      "Epoch 2463/5000\n\r30/30 [==============================] - 0s 0s/sample - loss: 110.4309\n"
     ]
    },
    {
     "name": "stdout",
     "output_type": "stream",
     "text": [
      "Epoch 2464/5000\n\r30/30 [==============================] - 0s 0s/sample - loss: 110.4236\n"
     ]
    },
    {
     "name": "stdout",
     "output_type": "stream",
     "text": [
      "Epoch 2465/5000\n"
     ]
    },
    {
     "name": "stdout",
     "output_type": "stream",
     "text": [
      "\r30/30 [==============================] - 0s 333us/sample - loss: 110.4163\n"
     ]
    },
    {
     "name": "stdout",
     "output_type": "stream",
     "text": [
      "Epoch 2466/5000\n\r30/30 [==============================] - 0s 0s/sample - loss: 110.4089\n"
     ]
    },
    {
     "name": "stdout",
     "output_type": "stream",
     "text": [
      "Epoch 2467/5000\n\r30/30 [==============================] - 0s 0s/sample - loss: 110.4016\n"
     ]
    },
    {
     "name": "stdout",
     "output_type": "stream",
     "text": [
      "Epoch 2468/5000\n\r30/30 [==============================] - 0s 0s/sample - loss: 110.3944\n"
     ]
    },
    {
     "name": "stdout",
     "output_type": "stream",
     "text": [
      "Epoch 2469/5000\n\r30/30 [==============================] - 0s 333us/sample - loss: 110.3871\n"
     ]
    },
    {
     "name": "stdout",
     "output_type": "stream",
     "text": [
      "Epoch 2470/5000\n\r30/30 [==============================] - 0s 0s/sample - loss: 110.3799\n"
     ]
    },
    {
     "name": "stdout",
     "output_type": "stream",
     "text": [
      "Epoch 2471/5000\n\r30/30 [==============================] - 0s 0s/sample - loss: 110.3727\n"
     ]
    },
    {
     "name": "stdout",
     "output_type": "stream",
     "text": [
      "Epoch 2472/5000\n\r30/30 [==============================] - 0s 0s/sample - loss: 110.3655\n"
     ]
    },
    {
     "name": "stdout",
     "output_type": "stream",
     "text": [
      "Epoch 2473/5000\n\r30/30 [==============================] - 0s 0s/sample - loss: 110.3584\n"
     ]
    },
    {
     "name": "stdout",
     "output_type": "stream",
     "text": [
      "Epoch 2474/5000\n\r30/30 [==============================] - 0s 333us/sample - loss: 110.3512\n"
     ]
    },
    {
     "name": "stdout",
     "output_type": "stream",
     "text": [
      "Epoch 2475/5000\n\r30/30 [==============================] - 0s 0s/sample - loss: 110.3441\n"
     ]
    },
    {
     "name": "stdout",
     "output_type": "stream",
     "text": [
      "Epoch 2476/5000\n\r30/30 [==============================] - 0s 0s/sample - loss: 110.3370\n"
     ]
    },
    {
     "name": "stdout",
     "output_type": "stream",
     "text": [
      "Epoch 2477/5000\n\r30/30 [==============================] - 0s 0s/sample - loss: 110.3299\n"
     ]
    },
    {
     "name": "stdout",
     "output_type": "stream",
     "text": [
      "Epoch 2478/5000\n\r30/30 [==============================] - 0s 333us/sample - loss: 110.3229\n"
     ]
    },
    {
     "name": "stdout",
     "output_type": "stream",
     "text": [
      "Epoch 2479/5000\n\r30/30 [==============================] - 0s 0s/sample - loss: 110.3159\n"
     ]
    },
    {
     "name": "stdout",
     "output_type": "stream",
     "text": [
      "Epoch 2480/5000\n\r30/30 [==============================] - 0s 0s/sample - loss: 110.3089\n"
     ]
    },
    {
     "name": "stdout",
     "output_type": "stream",
     "text": [
      "Epoch 2481/5000\n\r30/30 [==============================] - 0s 0s/sample - loss: 110.3019\n"
     ]
    },
    {
     "name": "stdout",
     "output_type": "stream",
     "text": [
      "Epoch 2482/5000\n\r30/30 [==============================] - 0s 0s/sample - loss: 110.2950\n"
     ]
    },
    {
     "name": "stdout",
     "output_type": "stream",
     "text": [
      "Epoch 2483/5000\n\r30/30 [==============================] - 0s 333us/sample - loss: 110.2880\n"
     ]
    },
    {
     "name": "stdout",
     "output_type": "stream",
     "text": [
      "Epoch 2484/5000\n\r30/30 [==============================] - 0s 0s/sample - loss: 110.2812\n"
     ]
    },
    {
     "name": "stdout",
     "output_type": "stream",
     "text": [
      "Epoch 2485/5000\n\r30/30 [==============================] - 0s 0s/sample - loss: 110.2743\n"
     ]
    },
    {
     "name": "stdout",
     "output_type": "stream",
     "text": [
      "Epoch 2486/5000\n\r30/30 [==============================] - 0s 0s/sample - loss: 110.2674\n"
     ]
    },
    {
     "name": "stdout",
     "output_type": "stream",
     "text": [
      "Epoch 2487/5000\n"
     ]
    },
    {
     "name": "stdout",
     "output_type": "stream",
     "text": [
      "\r30/30 [==============================] - 0s 333us/sample - loss: 110.2606\n"
     ]
    },
    {
     "name": "stdout",
     "output_type": "stream",
     "text": [
      "Epoch 2488/5000\n\r30/30 [==============================] - 0s 0s/sample - loss: 110.2538\n"
     ]
    },
    {
     "name": "stdout",
     "output_type": "stream",
     "text": [
      "Epoch 2489/5000\n\r30/30 [==============================] - 0s 0s/sample - loss: 110.2470\n"
     ]
    },
    {
     "name": "stdout",
     "output_type": "stream",
     "text": [
      "Epoch 2490/5000\n\r30/30 [==============================] - 0s 0s/sample - loss: 110.2402\n"
     ]
    },
    {
     "name": "stdout",
     "output_type": "stream",
     "text": [
      "Epoch 2491/5000\n"
     ]
    },
    {
     "name": "stdout",
     "output_type": "stream",
     "text": [
      "\r30/30 [==============================] - 0s 333us/sample - loss: 110.2334\n"
     ]
    },
    {
     "name": "stdout",
     "output_type": "stream",
     "text": [
      "Epoch 2492/5000\n\r30/30 [==============================] - 0s 0s/sample - loss: 110.2267\n"
     ]
    },
    {
     "name": "stdout",
     "output_type": "stream",
     "text": [
      "Epoch 2493/5000\n\r30/30 [==============================] - 0s 0s/sample - loss: 110.2200\n"
     ]
    },
    {
     "name": "stdout",
     "output_type": "stream",
     "text": [
      "Epoch 2494/5000\n\r30/30 [==============================] - 0s 0s/sample - loss: 110.2133\n"
     ]
    },
    {
     "name": "stdout",
     "output_type": "stream",
     "text": [
      "Epoch 2495/5000\n\r30/30 [==============================] - 0s 333us/sample - loss: 110.2067\n"
     ]
    },
    {
     "name": "stdout",
     "output_type": "stream",
     "text": [
      "Epoch 2496/5000\n\r30/30 [==============================] - 0s 0s/sample - loss: 110.2000\n"
     ]
    },
    {
     "name": "stdout",
     "output_type": "stream",
     "text": [
      "Epoch 2497/5000\n\r30/30 [==============================] - 0s 0s/sample - loss: 110.1934\n"
     ]
    },
    {
     "name": "stdout",
     "output_type": "stream",
     "text": [
      "Epoch 2498/5000\n\r30/30 [==============================] - 0s 0s/sample - loss: 110.1868\n"
     ]
    },
    {
     "name": "stdout",
     "output_type": "stream",
     "text": [
      "Epoch 2499/5000\n\r30/30 [==============================] - 0s 0s/sample - loss: 110.1802\n"
     ]
    },
    {
     "name": "stdout",
     "output_type": "stream",
     "text": [
      "Epoch 2500/5000\n\r30/30 [==============================] - 0s 333us/sample - loss: 110.1737\n"
     ]
    },
    {
     "name": "stdout",
     "output_type": "stream",
     "text": [
      "Epoch 2501/5000\n\r30/30 [==============================] - 0s 0s/sample - loss: 110.1671\n"
     ]
    },
    {
     "name": "stdout",
     "output_type": "stream",
     "text": [
      "Epoch 2502/5000\n\r30/30 [==============================] - 0s 0s/sample - loss: 110.1606\n"
     ]
    },
    {
     "name": "stdout",
     "output_type": "stream",
     "text": [
      "Epoch 2503/5000\n\r30/30 [==============================] - 0s 0s/sample - loss: 110.1541\n"
     ]
    },
    {
     "name": "stdout",
     "output_type": "stream",
     "text": [
      "Epoch 2504/5000\n\r30/30 [==============================] - 0s 333us/sample - loss: 110.1476\n"
     ]
    },
    {
     "name": "stdout",
     "output_type": "stream",
     "text": [
      "Epoch 2505/5000\n\r30/30 [==============================] - 0s 0s/sample - loss: 110.1412\n"
     ]
    },
    {
     "name": "stdout",
     "output_type": "stream",
     "text": [
      "Epoch 2506/5000\n\r30/30 [==============================] - 0s 0s/sample - loss: 110.1348\n"
     ]
    },
    {
     "name": "stdout",
     "output_type": "stream",
     "text": [
      "Epoch 2507/5000\n\r30/30 [==============================] - 0s 0s/sample - loss: 110.1283\n"
     ]
    },
    {
     "name": "stdout",
     "output_type": "stream",
     "text": [
      "Epoch 2508/5000\n\r30/30 [==============================] - 0s 0s/sample - loss: 110.1219\n"
     ]
    },
    {
     "name": "stdout",
     "output_type": "stream",
     "text": [
      "Epoch 2509/5000\n\r30/30 [==============================] - 0s 0s/sample - loss: 110.1155\n"
     ]
    },
    {
     "name": "stdout",
     "output_type": "stream",
     "text": [
      "Epoch 2510/5000\n\r30/30 [==============================] - 0s 0s/sample - loss: 110.1092\n"
     ]
    },
    {
     "name": "stdout",
     "output_type": "stream",
     "text": [
      "Epoch 2511/5000\n\r30/30 [==============================] - 0s 0s/sample - loss: 110.1029\n"
     ]
    },
    {
     "name": "stdout",
     "output_type": "stream",
     "text": [
      "Epoch 2512/5000\n\r30/30 [==============================] - 0s 0s/sample - loss: 110.0965\n"
     ]
    },
    {
     "name": "stdout",
     "output_type": "stream",
     "text": [
      "Epoch 2513/5000\n\r30/30 [==============================] - 0s 0s/sample - loss: 110.0902\n"
     ]
    },
    {
     "name": "stdout",
     "output_type": "stream",
     "text": [
      "Epoch 2514/5000\n\r30/30 [==============================] - 0s 0s/sample - loss: 110.0840\n"
     ]
    },
    {
     "name": "stdout",
     "output_type": "stream",
     "text": [
      "Epoch 2515/5000\n\r30/30 [==============================] - 0s 0s/sample - loss: 110.0777\n"
     ]
    },
    {
     "name": "stdout",
     "output_type": "stream",
     "text": [
      "Epoch 2516/5000\n\r30/30 [==============================] - 0s 0s/sample - loss: 110.0715\n"
     ]
    },
    {
     "name": "stdout",
     "output_type": "stream",
     "text": [
      "Epoch 2517/5000"
     ]
    },
    {
     "name": "stdout",
     "output_type": "stream",
     "text": [
      "\n\r30/30 [==============================] - 0s 333us/sample - loss: 110.0653\n"
     ]
    },
    {
     "name": "stdout",
     "output_type": "stream",
     "text": [
      "Epoch 2518/5000\n\r30/30 [==============================] - 0s 0s/sample - loss: 110.0591\n"
     ]
    },
    {
     "name": "stdout",
     "output_type": "stream",
     "text": [
      "Epoch 2519/5000\n\r30/30 [==============================] - 0s 0s/sample - loss: 110.0529\n"
     ]
    },
    {
     "name": "stdout",
     "output_type": "stream",
     "text": [
      "Epoch 2520/5000\n\r30/30 [==============================] - 0s 0s/sample - loss: 110.0468\n"
     ]
    },
    {
     "name": "stdout",
     "output_type": "stream",
     "text": [
      "Epoch 2521/5000\n\r30/30 [==============================] - 0s 333us/sample - loss: 110.0406\n"
     ]
    },
    {
     "name": "stdout",
     "output_type": "stream",
     "text": [
      "Epoch 2522/5000\n\r30/30 [==============================] - 0s 0s/sample - loss: 110.0345\n"
     ]
    },
    {
     "name": "stdout",
     "output_type": "stream",
     "text": [
      "Epoch 2523/5000\n\r30/30 [==============================] - 0s 0s/sample - loss: 110.0284\n"
     ]
    },
    {
     "name": "stdout",
     "output_type": "stream",
     "text": [
      "Epoch 2524/5000\n\r30/30 [==============================] - 0s 0s/sample - loss: 110.0223\n"
     ]
    },
    {
     "name": "stdout",
     "output_type": "stream",
     "text": [
      "Epoch 2525/5000\n"
     ]
    },
    {
     "name": "stdout",
     "output_type": "stream",
     "text": [
      "\r30/30 [==============================] - 0s 333us/sample - loss: 110.0163\n"
     ]
    },
    {
     "name": "stdout",
     "output_type": "stream",
     "text": [
      "Epoch 2526/5000\n\r30/30 [==============================] - 0s 0s/sample - loss: 110.0103\n"
     ]
    },
    {
     "name": "stdout",
     "output_type": "stream",
     "text": [
      "Epoch 2527/5000\n\r30/30 [==============================] - 0s 0s/sample - loss: 110.0042\n"
     ]
    },
    {
     "name": "stdout",
     "output_type": "stream",
     "text": [
      "Epoch 2528/5000\n\r30/30 [==============================] - 0s 0s/sample - loss: 109.9983\n"
     ]
    },
    {
     "name": "stdout",
     "output_type": "stream",
     "text": [
      "Epoch 2529/5000\n\r30/30 [==============================] - 0s 333us/sample - loss: 109.9923\n"
     ]
    },
    {
     "name": "stdout",
     "output_type": "stream",
     "text": [
      "Epoch 2530/5000\n\r30/30 [==============================] - 0s 0s/sample - loss: 109.9863\n"
     ]
    },
    {
     "name": "stdout",
     "output_type": "stream",
     "text": [
      "Epoch 2531/5000\n\r30/30 [==============================] - 0s 0s/sample - loss: 109.9804\n"
     ]
    },
    {
     "name": "stdout",
     "output_type": "stream",
     "text": [
      "Epoch 2532/5000\n\r30/30 [==============================] - 0s 0s/sample - loss: 109.9744\n"
     ]
    },
    {
     "name": "stdout",
     "output_type": "stream",
     "text": [
      "Epoch 2533/5000\n"
     ]
    },
    {
     "name": "stdout",
     "output_type": "stream",
     "text": [
      "\r30/30 [==============================] - 0s 333us/sample - loss: 109.9685\n"
     ]
    },
    {
     "name": "stdout",
     "output_type": "stream",
     "text": [
      "Epoch 2534/5000\n\r30/30 [==============================] - 0s 0s/sample - loss: 109.9627\n"
     ]
    },
    {
     "name": "stdout",
     "output_type": "stream",
     "text": [
      "Epoch 2535/5000\n\r30/30 [==============================] - 0s 0s/sample - loss: 109.9568\n"
     ]
    },
    {
     "name": "stdout",
     "output_type": "stream",
     "text": [
      "Epoch 2536/5000\n\r30/30 [==============================] - 0s 0s/sample - loss: 109.9509\n"
     ]
    },
    {
     "name": "stdout",
     "output_type": "stream",
     "text": [
      "Epoch 2537/5000\n\r30/30 [==============================] - 0s 0s/sample - loss: 109.9451\n"
     ]
    },
    {
     "name": "stdout",
     "output_type": "stream",
     "text": [
      "Epoch 2538/5000\n\r30/30 [==============================] - 0s 0s/sample - loss: 109.9393\n"
     ]
    },
    {
     "name": "stdout",
     "output_type": "stream",
     "text": [
      "Epoch 2539/5000\n\r30/30 [==============================] - 0s 0s/sample - loss: 109.9335\n"
     ]
    },
    {
     "name": "stdout",
     "output_type": "stream",
     "text": [
      "Epoch 2540/5000\n\r30/30 [==============================] - 0s 0s/sample - loss: 109.9277\n"
     ]
    },
    {
     "name": "stdout",
     "output_type": "stream",
     "text": [
      "Epoch 2541/5000\n\r30/30 [==============================] - 0s 0s/sample - loss: 109.9220\n"
     ]
    },
    {
     "name": "stdout",
     "output_type": "stream",
     "text": [
      "Epoch 2542/5000\n\r30/30 [==============================] - 0s 333us/sample - loss: 109.9162\n"
     ]
    },
    {
     "name": "stdout",
     "output_type": "stream",
     "text": [
      "Epoch 2543/5000\n\r30/30 [==============================] - 0s 0s/sample - loss: 109.9105\n"
     ]
    },
    {
     "name": "stdout",
     "output_type": "stream",
     "text": [
      "Epoch 2544/5000\n\r30/30 [==============================] - 0s 0s/sample - loss: 109.9048\n"
     ]
    },
    {
     "name": "stdout",
     "output_type": "stream",
     "text": [
      "Epoch 2545/5000\n\r30/30 [==============================] - 0s 333us/sample - loss: 109.8991\n"
     ]
    },
    {
     "name": "stdout",
     "output_type": "stream",
     "text": [
      "Epoch 2546/5000\n\r30/30 [==============================] - 0s 0s/sample - loss: 109.8935\n"
     ]
    },
    {
     "name": "stdout",
     "output_type": "stream",
     "text": [
      "Epoch 2547/5000\n\r30/30 [==============================] - 0s 0s/sample - loss: 109.8878\n"
     ]
    },
    {
     "name": "stdout",
     "output_type": "stream",
     "text": [
      "Epoch 2548/5000\n\r30/30 [==============================] - 0s 0s/sample - loss: 109.8822\n"
     ]
    },
    {
     "name": "stdout",
     "output_type": "stream",
     "text": [
      "Epoch 2549/5000\n"
     ]
    },
    {
     "name": "stdout",
     "output_type": "stream",
     "text": [
      "\r30/30 [==============================] - 0s 333us/sample - loss: 109.8766\n"
     ]
    },
    {
     "name": "stdout",
     "output_type": "stream",
     "text": [
      "Epoch 2550/5000\n\r30/30 [==============================] - 0s 0s/sample - loss: 109.8710\n"
     ]
    },
    {
     "name": "stdout",
     "output_type": "stream",
     "text": [
      "Epoch 2551/5000\n\r30/30 [==============================] - 0s 0s/sample - loss: 109.8654\n"
     ]
    },
    {
     "name": "stdout",
     "output_type": "stream",
     "text": [
      "Epoch 2552/5000\n\r30/30 [==============================] - 0s 0s/sample - loss: 109.8598\n"
     ]
    },
    {
     "name": "stdout",
     "output_type": "stream",
     "text": [
      "Epoch 2553/5000\n\r30/30 [==============================] - 0s 0s/sample - loss: 109.8543\n"
     ]
    },
    {
     "name": "stdout",
     "output_type": "stream",
     "text": [
      "Epoch 2554/5000\n\r30/30 [==============================] - 0s 333us/sample - loss: 109.8488\n"
     ]
    },
    {
     "name": "stdout",
     "output_type": "stream",
     "text": [
      "Epoch 2555/5000\n\r30/30 [==============================] - 0s 0s/sample - loss: 109.8432\n"
     ]
    },
    {
     "name": "stdout",
     "output_type": "stream",
     "text": [
      "Epoch 2556/5000\n\r30/30 [==============================] - 0s 0s/sample - loss: 109.8378\n"
     ]
    },
    {
     "name": "stdout",
     "output_type": "stream",
     "text": [
      "Epoch 2557/5000\n\r30/30 [==============================] - 0s 0s/sample - loss: 109.8323\n"
     ]
    },
    {
     "name": "stdout",
     "output_type": "stream",
     "text": [
      "Epoch 2558/5000\n\r30/30 [==============================] - 0s 333us/sample - loss: 109.8268\n"
     ]
    },
    {
     "name": "stdout",
     "output_type": "stream",
     "text": [
      "Epoch 2559/5000\n\r30/30 [==============================] - 0s 0s/sample - loss: 109.8214\n"
     ]
    },
    {
     "name": "stdout",
     "output_type": "stream",
     "text": [
      "Epoch 2560/5000\n\r30/30 [==============================] - 0s 0s/sample - loss: 109.8160\n"
     ]
    },
    {
     "name": "stdout",
     "output_type": "stream",
     "text": [
      "Epoch 2561/5000\n\r30/30 [==============================] - 0s 0s/sample - loss: 109.8106\n"
     ]
    },
    {
     "name": "stdout",
     "output_type": "stream",
     "text": [
      "Epoch 2562/5000\n\r30/30 [==============================] - 0s 0s/sample - loss: 109.8052\n"
     ]
    },
    {
     "name": "stdout",
     "output_type": "stream",
     "text": [
      "Epoch 2563/5000\n\r30/30 [==============================] - 0s 0s/sample - loss: 109.7998\n"
     ]
    },
    {
     "name": "stdout",
     "output_type": "stream",
     "text": [
      "Epoch 2564/5000\n\r30/30 [==============================] - 0s 0s/sample - loss: 109.7944\n"
     ]
    },
    {
     "name": "stdout",
     "output_type": "stream",
     "text": [
      "Epoch 2565/5000\n\r30/30 [==============================] - 0s 0s/sample - loss: 109.7891\n"
     ]
    },
    {
     "name": "stdout",
     "output_type": "stream",
     "text": [
      "Epoch 2566/5000\n\r30/30 [==============================] - 0s 0s/sample - loss: 109.7838\n"
     ]
    },
    {
     "name": "stdout",
     "output_type": "stream",
     "text": [
      "Epoch 2567/5000\n\r30/30 [==============================] - 0s 333us/sample - loss: 109.7785\n"
     ]
    },
    {
     "name": "stdout",
     "output_type": "stream",
     "text": [
      "Epoch 2568/5000\n\r30/30 [==============================] - 0s 0s/sample - loss: 109.7732\n"
     ]
    },
    {
     "name": "stdout",
     "output_type": "stream",
     "text": [
      "Epoch 2569/5000\n\r30/30 [==============================] - 0s 0s/sample - loss: 109.7679\n"
     ]
    },
    {
     "name": "stdout",
     "output_type": "stream",
     "text": [
      "Epoch 2570/5000\n\r30/30 [==============================] - 0s 0s/sample - loss: 109.7627\n"
     ]
    },
    {
     "name": "stdout",
     "output_type": "stream",
     "text": [
      "Epoch 2571/5000\n"
     ]
    },
    {
     "name": "stdout",
     "output_type": "stream",
     "text": [
      "\r30/30 [==============================] - 0s 333us/sample - loss: 109.7574\n"
     ]
    },
    {
     "name": "stdout",
     "output_type": "stream",
     "text": [
      "Epoch 2572/5000\n\r30/30 [==============================] - 0s 0s/sample - loss: 109.7522\n"
     ]
    },
    {
     "name": "stdout",
     "output_type": "stream",
     "text": [
      "Epoch 2573/5000\n\r30/30 [==============================] - 0s 0s/sample - loss: 109.7470\n"
     ]
    },
    {
     "name": "stdout",
     "output_type": "stream",
     "text": [
      "Epoch 2574/5000\n\r30/30 [==============================] - 0s 0s/sample - loss: 109.7418\n"
     ]
    },
    {
     "name": "stdout",
     "output_type": "stream",
     "text": [
      "Epoch 2575/5000\n\r30/30 [==============================] - 0s 333us/sample - loss: 109.7366\n"
     ]
    },
    {
     "name": "stdout",
     "output_type": "stream",
     "text": [
      "Epoch 2576/5000\n\r30/30 [==============================] - 0s 0s/sample - loss: 109.7315\n"
     ]
    },
    {
     "name": "stdout",
     "output_type": "stream",
     "text": [
      "Epoch 2577/5000\n\r30/30 [==============================] - 0s 0s/sample - loss: 109.7263\n"
     ]
    },
    {
     "name": "stdout",
     "output_type": "stream",
     "text": [
      "Epoch 2578/5000\n\r30/30 [==============================] - 0s 0s/sample - loss: 109.7212\n"
     ]
    },
    {
     "name": "stdout",
     "output_type": "stream",
     "text": [
      "Epoch 2579/5000\n\r30/30 [==============================] - 0s 0s/sample - loss: 109.7161\n"
     ]
    },
    {
     "name": "stdout",
     "output_type": "stream",
     "text": [
      "Epoch 2580/5000\n\r30/30 [==============================] - 0s 0s/sample - loss: 109.7110\n"
     ]
    },
    {
     "name": "stdout",
     "output_type": "stream",
     "text": [
      "Epoch 2581/5000\n\r30/30 [==============================] - 0s 0s/sample - loss: 109.7059\n"
     ]
    },
    {
     "name": "stdout",
     "output_type": "stream",
     "text": [
      "Epoch 2582/5000\n\r30/30 [==============================] - 0s 0s/sample - loss: 109.7009\n"
     ]
    },
    {
     "name": "stdout",
     "output_type": "stream",
     "text": [
      "Epoch 2583/5000\n\r30/30 [==============================] - 0s 0s/sample - loss: 109.6958\n"
     ]
    },
    {
     "name": "stdout",
     "output_type": "stream",
     "text": [
      "Epoch 2584/5000\n\r30/30 [==============================] - 0s 333us/sample - loss: 109.6908\n"
     ]
    },
    {
     "name": "stdout",
     "output_type": "stream",
     "text": [
      "Epoch 2585/5000\n\r30/30 [==============================] - 0s 0s/sample - loss: 109.6858\n"
     ]
    },
    {
     "name": "stdout",
     "output_type": "stream",
     "text": [
      "Epoch 2586/5000\n\r30/30 [==============================] - 0s 0s/sample - loss: 109.6808\n"
     ]
    },
    {
     "name": "stdout",
     "output_type": "stream",
     "text": [
      "Epoch 2587/5000\n\r30/30 [==============================] - 0s 0s/sample - loss: 109.6758\n"
     ]
    },
    {
     "name": "stdout",
     "output_type": "stream",
     "text": [
      "Epoch 2588/5000\n"
     ]
    },
    {
     "name": "stdout",
     "output_type": "stream",
     "text": [
      "\r30/30 [==============================] - 0s 333us/sample - loss: 109.6708\n"
     ]
    },
    {
     "name": "stdout",
     "output_type": "stream",
     "text": [
      "Epoch 2589/5000\n\r30/30 [==============================] - 0s 0s/sample - loss: 109.6659\n"
     ]
    },
    {
     "name": "stdout",
     "output_type": "stream",
     "text": [
      "Epoch 2590/5000\n\r30/30 [==============================] - 0s 0s/sample - loss: 109.6609\n"
     ]
    },
    {
     "name": "stdout",
     "output_type": "stream",
     "text": [
      "Epoch 2591/5000\n\r30/30 [==============================] - 0s 0s/sample - loss: 109.6560\n"
     ]
    },
    {
     "name": "stdout",
     "output_type": "stream",
     "text": [
      "Epoch 2592/5000\n\r30/30 [==============================] - 0s 333us/sample - loss: 109.6511\n"
     ]
    },
    {
     "name": "stdout",
     "output_type": "stream",
     "text": [
      "Epoch 2593/5000\n\r30/30 [==============================] - 0s 0s/sample - loss: 109.6462\n"
     ]
    },
    {
     "name": "stdout",
     "output_type": "stream",
     "text": [
      "Epoch 2594/5000\n\r30/30 [==============================] - 0s 0s/sample - loss: 109.6413\n"
     ]
    },
    {
     "name": "stdout",
     "output_type": "stream",
     "text": [
      "Epoch 2595/5000\n\r30/30 [==============================] - 0s 0s/sample - loss: 109.6364\n"
     ]
    },
    {
     "name": "stdout",
     "output_type": "stream",
     "text": [
      "Epoch 2596/5000\n"
     ]
    },
    {
     "name": "stdout",
     "output_type": "stream",
     "text": [
      "\r30/30 [==============================] - 0s 0s/sample - loss: 109.6316\n"
     ]
    },
    {
     "name": "stdout",
     "output_type": "stream",
     "text": [
      "Epoch 2597/5000\n\r30/30 [==============================] - 0s 0s/sample - loss: 109.6267\n"
     ]
    },
    {
     "name": "stdout",
     "output_type": "stream",
     "text": [
      "Epoch 2598/5000\n\r30/30 [==============================] - 0s 0s/sample - loss: 109.6219\n"
     ]
    },
    {
     "name": "stdout",
     "output_type": "stream",
     "text": [
      "Epoch 2599/5000\n\r30/30 [==============================] - 0s 0s/sample - loss: 109.6171\n"
     ]
    },
    {
     "name": "stdout",
     "output_type": "stream",
     "text": [
      "Epoch 2600/5000\n"
     ]
    },
    {
     "name": "stdout",
     "output_type": "stream",
     "text": [
      "\r30/30 [==============================] - 0s 333us/sample - loss: 109.6123\n"
     ]
    },
    {
     "name": "stdout",
     "output_type": "stream",
     "text": [
      "Epoch 2601/5000\n\r30/30 [==============================] - 0s 0s/sample - loss: 109.6076\n"
     ]
    },
    {
     "name": "stdout",
     "output_type": "stream",
     "text": [
      "Epoch 2602/5000\n\r30/30 [==============================] - 0s 0s/sample - loss: 109.6028\n"
     ]
    },
    {
     "name": "stdout",
     "output_type": "stream",
     "text": [
      "Epoch 2603/5000\n\r30/30 [==============================] - 0s 0s/sample - loss: 109.5980\n"
     ]
    },
    {
     "name": "stdout",
     "output_type": "stream",
     "text": [
      "Epoch 2604/5000\n"
     ]
    },
    {
     "name": "stdout",
     "output_type": "stream",
     "text": [
      "\r30/30 [==============================] - 0s 333us/sample - loss: 109.5933\n"
     ]
    },
    {
     "name": "stdout",
     "output_type": "stream",
     "text": [
      "Epoch 2605/5000\n\r30/30 [==============================] - 0s 0s/sample - loss: 109.5886\n"
     ]
    },
    {
     "name": "stdout",
     "output_type": "stream",
     "text": [
      "Epoch 2606/5000\n\r30/30 [==============================] - 0s 0s/sample - loss: 109.5839\n"
     ]
    },
    {
     "name": "stdout",
     "output_type": "stream",
     "text": [
      "Epoch 2607/5000\n\r30/30 [==============================] - 0s 0s/sample - loss: 109.5792\n"
     ]
    },
    {
     "name": "stdout",
     "output_type": "stream",
     "text": [
      "Epoch 2608/5000\n\r"
     ]
    },
    {
     "name": "stdout",
     "output_type": "stream",
     "text": [
      "30/30 [==============================] - 0s 0s/sample - loss: 109.5745\n"
     ]
    },
    {
     "name": "stdout",
     "output_type": "stream",
     "text": [
      "Epoch 2609/5000\n\r30/30 [==============================] - 0s 0s/sample - loss: 109.5699\n"
     ]
    },
    {
     "name": "stdout",
     "output_type": "stream",
     "text": [
      "Epoch 2610/5000\n\r30/30 [==============================] - 0s 0s/sample - loss: 109.5652\n"
     ]
    },
    {
     "name": "stdout",
     "output_type": "stream",
     "text": [
      "Epoch 2611/5000\n\r30/30 [==============================] - 0s 0s/sample - loss: 109.5606\n"
     ]
    },
    {
     "name": "stdout",
     "output_type": "stream",
     "text": [
      "Epoch 2612/5000\n\r30/30 [==============================] - 0s 0s/sample - loss: 109.5560\n"
     ]
    },
    {
     "name": "stdout",
     "output_type": "stream",
     "text": [
      "Epoch 2613/5000\n\r30/30 [==============================] - 0s 333us/sample - loss: 109.5514\n"
     ]
    },
    {
     "name": "stdout",
     "output_type": "stream",
     "text": [
      "Epoch 2614/5000\n\r30/30 [==============================] - 0s 0s/sample - loss: 109.5468\n"
     ]
    },
    {
     "name": "stdout",
     "output_type": "stream",
     "text": [
      "Epoch 2615/5000\n\r30/30 [==============================] - 0s 0s/sample - loss: 109.5422\n"
     ]
    },
    {
     "name": "stdout",
     "output_type": "stream",
     "text": [
      "Epoch 2616/5000\n\r30/30 [==============================] - 0s 0s/sample - loss: 109.5376\n"
     ]
    },
    {
     "name": "stdout",
     "output_type": "stream",
     "text": [
      "Epoch 2617/5000\n\r30/30 [==============================] - 0s 0s/sample - loss: 109.5331\n"
     ]
    },
    {
     "name": "stdout",
     "output_type": "stream",
     "text": [
      "Epoch 2618/5000\n\r30/30 [==============================] - 0s 0s/sample - loss: 109.5286\n"
     ]
    },
    {
     "name": "stdout",
     "output_type": "stream",
     "text": [
      "Epoch 2619/5000\n\r30/30 [==============================] - 0s 0s/sample - loss: 109.5241\n"
     ]
    },
    {
     "name": "stdout",
     "output_type": "stream",
     "text": [
      "Epoch 2620/5000\n\r30/30 [==============================] - 0s 0s/sample - loss: 109.5195\n"
     ]
    },
    {
     "name": "stdout",
     "output_type": "stream",
     "text": [
      "Epoch 2621/5000\n\r30/30 [==============================] - 0s 0s/sample - loss: 109.5151\n"
     ]
    },
    {
     "name": "stdout",
     "output_type": "stream",
     "text": [
      "Epoch 2622/5000\n\r30/30 [==============================] - 0s 0s/sample - loss: 109.5106\n"
     ]
    },
    {
     "name": "stdout",
     "output_type": "stream",
     "text": [
      "Epoch 2623/5000\n\r30/30 [==============================] - 0s 0s/sample - loss: 109.5061\n"
     ]
    },
    {
     "name": "stdout",
     "output_type": "stream",
     "text": [
      "Epoch 2624/5000\n\r30/30 [==============================] - 0s 0s/sample - loss: 109.5017\n"
     ]
    },
    {
     "name": "stdout",
     "output_type": "stream",
     "text": [
      "Epoch 2625/5000\n\r30/30 [==============================] - 0s 0s/sample - loss: 109.4972\n"
     ]
    },
    {
     "name": "stdout",
     "output_type": "stream",
     "text": [
      "Epoch 2626/5000\n\r30/30 [==============================] - 0s 333us/sample - loss: 109.4928\n"
     ]
    },
    {
     "name": "stdout",
     "output_type": "stream",
     "text": [
      "Epoch 2627/5000\n\r30/30 [==============================] - 0s 0s/sample - loss: 109.4883\n"
     ]
    },
    {
     "name": "stdout",
     "output_type": "stream",
     "text": [
      "Epoch 2628/5000\n\r30/30 [==============================] - 0s 0s/sample - loss: 109.4840\n"
     ]
    },
    {
     "name": "stdout",
     "output_type": "stream",
     "text": [
      "Epoch 2629/5000\n\r30/30 [==============================] - 0s 0s/sample - loss: 109.4796\n"
     ]
    },
    {
     "name": "stdout",
     "output_type": "stream",
     "text": [
      "Epoch 2630/5000"
     ]
    },
    {
     "name": "stdout",
     "output_type": "stream",
     "text": [
      "\n\r30/30 [==============================] - 0s 333us/sample - loss: 109.4752\n"
     ]
    },
    {
     "name": "stdout",
     "output_type": "stream",
     "text": [
      "Epoch 2631/5000\n\r30/30 [==============================] - 0s 0s/sample - loss: 109.4708\n"
     ]
    },
    {
     "name": "stdout",
     "output_type": "stream",
     "text": [
      "Epoch 2632/5000\n\r30/30 [==============================] - 0s 0s/sample - loss: 109.4665\n"
     ]
    },
    {
     "name": "stdout",
     "output_type": "stream",
     "text": [
      "Epoch 2633/5000\n\r30/30 [==============================] - 0s 0s/sample - loss: 109.4622\n"
     ]
    },
    {
     "name": "stdout",
     "output_type": "stream",
     "text": [
      "Epoch 2634/5000\n"
     ]
    },
    {
     "name": "stdout",
     "output_type": "stream",
     "text": [
      "\r30/30 [==============================] - 0s 333us/sample - loss: 109.4578\n"
     ]
    },
    {
     "name": "stdout",
     "output_type": "stream",
     "text": [
      "Epoch 2635/5000\n\r30/30 [==============================] - 0s 0s/sample - loss: 109.4535\n"
     ]
    },
    {
     "name": "stdout",
     "output_type": "stream",
     "text": [
      "Epoch 2636/5000\n\r30/30 [==============================] - 0s 0s/sample - loss: 109.4492\n"
     ]
    },
    {
     "name": "stdout",
     "output_type": "stream",
     "text": [
      "Epoch 2637/5000\n\r30/30 [==============================] - 0s 0s/sample - loss: 109.4450\n"
     ]
    },
    {
     "name": "stdout",
     "output_type": "stream",
     "text": [
      "Epoch 2638/5000\n\r30/30 [==============================] - 0s 333us/sample - loss: 109.4407\n"
     ]
    },
    {
     "name": "stdout",
     "output_type": "stream",
     "text": [
      "Epoch 2639/5000\n\r30/30 [==============================] - 0s 0s/sample - loss: 109.4364\n"
     ]
    },
    {
     "name": "stdout",
     "output_type": "stream",
     "text": [
      "Epoch 2640/5000\n\r30/30 [==============================] - 0s 0s/sample - loss: 109.4322\n"
     ]
    },
    {
     "name": "stdout",
     "output_type": "stream",
     "text": [
      "Epoch 2641/5000\n\r30/30 [==============================] - 0s 0s/sample - loss: 109.4280\n"
     ]
    },
    {
     "name": "stdout",
     "output_type": "stream",
     "text": [
      "Epoch 2642/5000\n"
     ]
    },
    {
     "name": "stdout",
     "output_type": "stream",
     "text": [
      "\r30/30 [==============================] - 0s 333us/sample - loss: 109.4237\n"
     ]
    },
    {
     "name": "stdout",
     "output_type": "stream",
     "text": [
      "Epoch 2643/5000\n\r30/30 [==============================] - 0s 0s/sample - loss: 109.4195\n"
     ]
    },
    {
     "name": "stdout",
     "output_type": "stream",
     "text": [
      "Epoch 2644/5000\n\r30/30 [==============================] - 0s 0s/sample - loss: 109.4153\n"
     ]
    },
    {
     "name": "stdout",
     "output_type": "stream",
     "text": [
      "Epoch 2645/5000\n\r30/30 [==============================] - 0s 0s/sample - loss: 109.4112\n"
     ]
    },
    {
     "name": "stdout",
     "output_type": "stream",
     "text": [
      "Epoch 2646/5000\n\r30/30 [==============================] - 0s 333us/sample - loss: 109.4070\n"
     ]
    },
    {
     "name": "stdout",
     "output_type": "stream",
     "text": [
      "Epoch 2647/5000\n\r30/30 [==============================] - 0s 0s/sample - loss: 109.4028\n"
     ]
    },
    {
     "name": "stdout",
     "output_type": "stream",
     "text": [
      "Epoch 2648/5000\n\r30/30 [==============================] - 0s 0s/sample - loss: 109.3987\n"
     ]
    },
    {
     "name": "stdout",
     "output_type": "stream",
     "text": [
      "Epoch 2649/5000\n\r30/30 [==============================] - 0s 0s/sample - loss: 109.3946\n"
     ]
    },
    {
     "name": "stdout",
     "output_type": "stream",
     "text": [
      "Epoch 2650/5000\n\r30/30 [==============================] - 0s 0s/sample - loss: 109.3904\n"
     ]
    },
    {
     "name": "stdout",
     "output_type": "stream",
     "text": [
      "Epoch 2651/5000\n\r30/30 [==============================] - 0s 0s/sample - loss: 109.3863\n"
     ]
    },
    {
     "name": "stdout",
     "output_type": "stream",
     "text": [
      "Epoch 2652/5000\n\r30/30 [==============================] - 0s 0s/sample - loss: 109.3822\n"
     ]
    },
    {
     "name": "stdout",
     "output_type": "stream",
     "text": [
      "Epoch 2653/5000\n\r30/30 [==============================] - 0s 0s/sample - loss: 109.3782\n"
     ]
    },
    {
     "name": "stdout",
     "output_type": "stream",
     "text": [
      "Epoch 2654/5000\n\r30/30 [==============================] - 0s 0s/sample - loss: 109.3741\n"
     ]
    },
    {
     "name": "stdout",
     "output_type": "stream",
     "text": [
      "Epoch 2655/5000\n\r30/30 [==============================] - 0s 0s/sample - loss: 109.3700\n"
     ]
    },
    {
     "name": "stdout",
     "output_type": "stream",
     "text": [
      "Epoch 2656/5000\n\r30/30 [==============================] - 0s 0s/sample - loss: 109.3659\n"
     ]
    },
    {
     "name": "stdout",
     "output_type": "stream",
     "text": [
      "Epoch 2657/5000\n\r30/30 [==============================] - 0s 0s/sample - loss: 109.3619\n"
     ]
    },
    {
     "name": "stdout",
     "output_type": "stream",
     "text": [
      "Epoch 2658/5000\n\r30/30 [==============================] - 0s 0s/sample - loss: 109.3579\n"
     ]
    },
    {
     "name": "stdout",
     "output_type": "stream",
     "text": [
      "Epoch 2659/5000"
     ]
    },
    {
     "name": "stdout",
     "output_type": "stream",
     "text": [
      "\n\r30/30 [==============================] - 0s 332us/sample - loss: 109.3539\n"
     ]
    },
    {
     "name": "stdout",
     "output_type": "stream",
     "text": [
      "Epoch 2660/5000\n\r30/30 [==============================] - 0s 0s/sample - loss: 109.3499\n"
     ]
    },
    {
     "name": "stdout",
     "output_type": "stream",
     "text": [
      "Epoch 2661/5000\n\r30/30 [==============================] - 0s 0s/sample - loss: 109.3459\n"
     ]
    },
    {
     "name": "stdout",
     "output_type": "stream",
     "text": [
      "Epoch 2662/5000\n\r30/30 [==============================] - 0s 0s/sample - loss: 109.3419\n"
     ]
    },
    {
     "name": "stdout",
     "output_type": "stream",
     "text": [
      "Epoch 2663/5000\n\r30/30 [==============================] - 0s 333us/sample - loss: 109.3380\n"
     ]
    },
    {
     "name": "stdout",
     "output_type": "stream",
     "text": [
      "Epoch 2664/5000\n\r30/30 [==============================] - 0s 0s/sample - loss: 109.3340\n"
     ]
    },
    {
     "name": "stdout",
     "output_type": "stream",
     "text": [
      "Epoch 2665/5000\n\r30/30 [==============================] - 0s 0s/sample - loss: 109.3300\n"
     ]
    },
    {
     "name": "stdout",
     "output_type": "stream",
     "text": [
      "Epoch 2666/5000\n\r30/30 [==============================] - 0s 0s/sample - loss: 109.3261\n"
     ]
    },
    {
     "name": "stdout",
     "output_type": "stream",
     "text": [
      "Epoch 2667/5000\n"
     ]
    },
    {
     "name": "stdout",
     "output_type": "stream",
     "text": [
      "\r30/30 [==============================] - 0s 333us/sample - loss: 109.3222\n"
     ]
    },
    {
     "name": "stdout",
     "output_type": "stream",
     "text": [
      "Epoch 2668/5000\n\r30/30 [==============================] - 0s 0s/sample - loss: 109.3183\n"
     ]
    },
    {
     "name": "stdout",
     "output_type": "stream",
     "text": [
      "Epoch 2669/5000\n\r30/30 [==============================] - 0s 0s/sample - loss: 109.3144\n"
     ]
    },
    {
     "name": "stdout",
     "output_type": "stream",
     "text": [
      "Epoch 2670/5000\n\r30/30 [==============================] - 0s 0s/sample - loss: 109.3105\n"
     ]
    },
    {
     "name": "stdout",
     "output_type": "stream",
     "text": [
      "Epoch 2671/5000\n\r30/30 [==============================] - 0s 333us/sample - loss: 109.3066\n"
     ]
    },
    {
     "name": "stdout",
     "output_type": "stream",
     "text": [
      "Epoch 2672/5000\n\r30/30 [==============================] - 0s 0s/sample - loss: 109.3028\n"
     ]
    },
    {
     "name": "stdout",
     "output_type": "stream",
     "text": [
      "Epoch 2673/5000\n\r30/30 [==============================] - 0s 0s/sample - loss: 109.2989\n"
     ]
    },
    {
     "name": "stdout",
     "output_type": "stream",
     "text": [
      "Epoch 2674/5000\n\r30/30 [==============================] - 0s 0s/sample - loss: 109.2951\n"
     ]
    },
    {
     "name": "stdout",
     "output_type": "stream",
     "text": [
      "Epoch 2675/5000\n\r30/30 [==============================] - 0s 0s/sample - loss: 109.2912\n"
     ]
    },
    {
     "name": "stdout",
     "output_type": "stream",
     "text": [
      "Epoch 2676/5000\n\r30/30 [==============================] - 0s 0s/sample - loss: 109.2874\n"
     ]
    },
    {
     "name": "stdout",
     "output_type": "stream",
     "text": [
      "Epoch 2677/5000\n\r30/30 [==============================] - 0s 0s/sample - loss: 109.2836\n"
     ]
    },
    {
     "name": "stdout",
     "output_type": "stream",
     "text": [
      "Epoch 2678/5000\n\r30/30 [==============================] - 0s 0s/sample - loss: 109.2798\n"
     ]
    },
    {
     "name": "stdout",
     "output_type": "stream",
     "text": [
      "Epoch 2679/5000\n"
     ]
    },
    {
     "name": "stdout",
     "output_type": "stream",
     "text": [
      "\r30/30 [==============================] - 0s 333us/sample - loss: 109.2760\n"
     ]
    },
    {
     "name": "stdout",
     "output_type": "stream",
     "text": [
      "Epoch 2680/5000\n\r30/30 [==============================] - 0s 0s/sample - loss: 109.2722\n"
     ]
    },
    {
     "name": "stdout",
     "output_type": "stream",
     "text": [
      "Epoch 2681/5000\n\r30/30 [==============================] - 0s 0s/sample - loss: 109.2685\n"
     ]
    },
    {
     "name": "stdout",
     "output_type": "stream",
     "text": [
      "Epoch 2682/5000\n\r30/30 [==============================] - 0s 0s/sample - loss: 109.2647\n"
     ]
    },
    {
     "name": "stdout",
     "output_type": "stream",
     "text": [
      "Epoch 2683/5000\n"
     ]
    },
    {
     "name": "stdout",
     "output_type": "stream",
     "text": [
      "\r30/30 [==============================] - 0s 0s/sample - loss: 109.2610\n"
     ]
    },
    {
     "name": "stdout",
     "output_type": "stream",
     "text": [
      "Epoch 2684/5000\n\r30/30 [==============================] - 0s 0s/sample - loss: 109.2572\n"
     ]
    },
    {
     "name": "stdout",
     "output_type": "stream",
     "text": [
      "Epoch 2685/5000\n\r30/30 [==============================] - 0s 0s/sample - loss: 109.2535\n"
     ]
    },
    {
     "name": "stdout",
     "output_type": "stream",
     "text": [
      "Epoch 2686/5000\n\r30/30 [==============================] - 0s 0s/sample - loss: 109.2498\n"
     ]
    },
    {
     "name": "stdout",
     "output_type": "stream",
     "text": [
      "Epoch 2687/5000\n\r30/30 [==============================] - 0s 0s/sample - loss: 109.2461\n"
     ]
    },
    {
     "name": "stdout",
     "output_type": "stream",
     "text": [
      "Epoch 2688/5000\n\r30/30 [==============================] - 0s 0s/sample - loss: 109.2424\n"
     ]
    },
    {
     "name": "stdout",
     "output_type": "stream",
     "text": [
      "Epoch 2689/5000\n\r30/30 [==============================] - 0s 0s/sample - loss: 109.2387\n"
     ]
    },
    {
     "name": "stdout",
     "output_type": "stream",
     "text": [
      "Epoch 2690/5000\n\r30/30 [==============================] - 0s 0s/sample - loss: 109.2351\n"
     ]
    },
    {
     "name": "stdout",
     "output_type": "stream",
     "text": [
      "Epoch 2691/5000\n\r30/30 [==============================] - 0s 0s/sample - loss: 109.2314\n"
     ]
    },
    {
     "name": "stdout",
     "output_type": "stream",
     "text": [
      "Epoch 2692/5000\n\r30/30 [==============================] - 0s 333us/sample - loss: 109.2278\n"
     ]
    },
    {
     "name": "stdout",
     "output_type": "stream",
     "text": [
      "Epoch 2693/5000\n\r30/30 [==============================] - 0s 0s/sample - loss: 109.2241\n"
     ]
    },
    {
     "name": "stdout",
     "output_type": "stream",
     "text": [
      "Epoch 2694/5000\n\r30/30 [==============================] - 0s 0s/sample - loss: 109.2205\n"
     ]
    },
    {
     "name": "stdout",
     "output_type": "stream",
     "text": [
      "Epoch 2695/5000\n\r30/30 [==============================] - 0s 0s/sample - loss: 109.2169\n"
     ]
    },
    {
     "name": "stdout",
     "output_type": "stream",
     "text": [
      "Epoch 2696/5000\n"
     ]
    },
    {
     "name": "stdout",
     "output_type": "stream",
     "text": [
      "\r30/30 [==============================] - 0s 333us/sample - loss: 109.2132\n"
     ]
    },
    {
     "name": "stdout",
     "output_type": "stream",
     "text": [
      "Epoch 2697/5000\n\r30/30 [==============================] - 0s 0s/sample - loss: 109.2096\n"
     ]
    },
    {
     "name": "stdout",
     "output_type": "stream",
     "text": [
      "Epoch 2698/5000\n\r30/30 [==============================] - 0s 0s/sample - loss: 109.2060\n"
     ]
    },
    {
     "name": "stdout",
     "output_type": "stream",
     "text": [
      "Epoch 2699/5000\n\r30/30 [==============================] - 0s 0s/sample - loss: 109.2025\n"
     ]
    },
    {
     "name": "stdout",
     "output_type": "stream",
     "text": [
      "Epoch 2700/5000\n\r30/30 [==============================] - 0s 333us/sample - loss: 109.1989\n"
     ]
    },
    {
     "name": "stdout",
     "output_type": "stream",
     "text": [
      "Epoch 2701/5000\n\r30/30 [==============================] - 0s 0s/sample - loss: 109.1953\n"
     ]
    },
    {
     "name": "stdout",
     "output_type": "stream",
     "text": [
      "Epoch 2702/5000\n\r30/30 [==============================] - 0s 0s/sample - loss: 109.1918\n"
     ]
    },
    {
     "name": "stdout",
     "output_type": "stream",
     "text": [
      "Epoch 2703/5000\n\r30/30 [==============================] - 0s 0s/sample - loss: 109.1882\n"
     ]
    },
    {
     "name": "stdout",
     "output_type": "stream",
     "text": [
      "Epoch 2704/5000\n\r30/30 [==============================] - 0s 0s/sample - loss: 109.1847\n"
     ]
    },
    {
     "name": "stdout",
     "output_type": "stream",
     "text": [
      "Epoch 2705/5000\n\r30/30 [==============================] - 0s 333us/sample - loss: 109.1812\n"
     ]
    },
    {
     "name": "stdout",
     "output_type": "stream",
     "text": [
      "Epoch 2706/5000\n\r30/30 [==============================] - 0s 0s/sample - loss: 109.1777\n"
     ]
    },
    {
     "name": "stdout",
     "output_type": "stream",
     "text": [
      "Epoch 2707/5000\n\r30/30 [==============================] - 0s 0s/sample - loss: 109.1742\n"
     ]
    },
    {
     "name": "stdout",
     "output_type": "stream",
     "text": [
      "Epoch 2708/5000\n\r30/30 [==============================] - 0s 0s/sample - loss: 109.1707\n"
     ]
    },
    {
     "name": "stdout",
     "output_type": "stream",
     "text": [
      "Epoch 2709/5000\n\r30/30 [==============================] - 0s 333us/sample - loss: 109.1672\n"
     ]
    },
    {
     "name": "stdout",
     "output_type": "stream",
     "text": [
      "Epoch 2710/5000\n\r30/30 [==============================] - 0s 0s/sample - loss: 109.1638\n"
     ]
    },
    {
     "name": "stdout",
     "output_type": "stream",
     "text": [
      "Epoch 2711/5000\n\r30/30 [==============================] - 0s 0s/sample - loss: 109.1603\n"
     ]
    },
    {
     "name": "stdout",
     "output_type": "stream",
     "text": [
      "Epoch 2712/5000\n\r30/30 [==============================] - 0s 0s/sample - loss: 109.1569\n"
     ]
    },
    {
     "name": "stdout",
     "output_type": "stream",
     "text": [
      "Epoch 2713/5000\n"
     ]
    },
    {
     "name": "stdout",
     "output_type": "stream",
     "text": [
      "\r30/30 [==============================] - 0s 333us/sample - loss: 109.1534\n"
     ]
    },
    {
     "name": "stdout",
     "output_type": "stream",
     "text": [
      "Epoch 2714/5000\n\r30/30 [==============================] - 0s 0s/sample - loss: 109.1500\n"
     ]
    },
    {
     "name": "stdout",
     "output_type": "stream",
     "text": [
      "Epoch 2715/5000\n\r30/30 [==============================] - 0s 0s/sample - loss: 109.1465\n"
     ]
    },
    {
     "name": "stdout",
     "output_type": "stream",
     "text": [
      "Epoch 2716/5000\n\r30/30 [==============================] - 0s 0s/sample - loss: 109.1431\n"
     ]
    },
    {
     "name": "stdout",
     "output_type": "stream",
     "text": [
      "Epoch 2717/5000\n\r30/30 [==============================] - 0s 333us/sample - loss: 109.1397\n"
     ]
    },
    {
     "name": "stdout",
     "output_type": "stream",
     "text": [
      "Epoch 2718/5000\n\r30/30 [==============================] - 0s 0s/sample - loss: 109.1363\n"
     ]
    },
    {
     "name": "stdout",
     "output_type": "stream",
     "text": [
      "Epoch 2719/5000\n\r30/30 [==============================] - 0s 0s/sample - loss: 109.1329\n"
     ]
    },
    {
     "name": "stdout",
     "output_type": "stream",
     "text": [
      "Epoch 2720/5000\n\r30/30 [==============================] - 0s 0s/sample - loss: 109.1295\n"
     ]
    },
    {
     "name": "stdout",
     "output_type": "stream",
     "text": [
      "Epoch 2721/5000\n"
     ]
    },
    {
     "name": "stdout",
     "output_type": "stream",
     "text": [
      "\r30/30 [==============================] - 0s 333us/sample - loss: 109.1262\n"
     ]
    },
    {
     "name": "stdout",
     "output_type": "stream",
     "text": [
      "Epoch 2722/5000\n\r30/30 [==============================] - 0s 0s/sample - loss: 109.1228\n"
     ]
    },
    {
     "name": "stdout",
     "output_type": "stream",
     "text": [
      "Epoch 2723/5000\n\r30/30 [==============================] - 0s 0s/sample - loss: 109.1195\n"
     ]
    },
    {
     "name": "stdout",
     "output_type": "stream",
     "text": [
      "Epoch 2724/5000\n\r30/30 [==============================] - 0s 0s/sample - loss: 109.1161\n"
     ]
    },
    {
     "name": "stdout",
     "output_type": "stream",
     "text": [
      "Epoch 2725/5000"
     ]
    },
    {
     "name": "stdout",
     "output_type": "stream",
     "text": [
      "\n\r30/30 [==============================] - 0s 333us/sample - loss: 109.1128\n"
     ]
    },
    {
     "name": "stdout",
     "output_type": "stream",
     "text": [
      "Epoch 2726/5000\n\r30/30 [==============================] - 0s 0s/sample - loss: 109.1095\n"
     ]
    },
    {
     "name": "stdout",
     "output_type": "stream",
     "text": [
      "Epoch 2727/5000\n\r30/30 [==============================] - 0s 0s/sample - loss: 109.1061\n"
     ]
    },
    {
     "name": "stdout",
     "output_type": "stream",
     "text": [
      "Epoch 2728/5000\n\r30/30 [==============================] - 0s 0s/sample - loss: 109.1029\n"
     ]
    },
    {
     "name": "stdout",
     "output_type": "stream",
     "text": [
      "Epoch 2729/5000\n\r30/30 [==============================] - 0s 333us/sample - loss: 109.0996\n"
     ]
    },
    {
     "name": "stdout",
     "output_type": "stream",
     "text": [
      "Epoch 2730/5000\n\r30/30 [==============================] - 0s 0s/sample - loss: 109.0962\n"
     ]
    },
    {
     "name": "stdout",
     "output_type": "stream",
     "text": [
      "Epoch 2731/5000\n\r30/30 [==============================] - 0s 0s/sample - loss: 109.0930\n"
     ]
    },
    {
     "name": "stdout",
     "output_type": "stream",
     "text": [
      "Epoch 2732/5000\n\r30/30 [==============================] - 0s 0s/sample - loss: 109.0897\n"
     ]
    },
    {
     "name": "stdout",
     "output_type": "stream",
     "text": [
      "Epoch 2733/5000\n"
     ]
    },
    {
     "name": "stdout",
     "output_type": "stream",
     "text": [
      "\r30/30 [==============================] - 0s 333us/sample - loss: 109.0864\n"
     ]
    },
    {
     "name": "stdout",
     "output_type": "stream",
     "text": [
      "Epoch 2734/5000\n\r30/30 [==============================] - 0s 0s/sample - loss: 109.0832\n"
     ]
    },
    {
     "name": "stdout",
     "output_type": "stream",
     "text": [
      "Epoch 2735/5000\n\r30/30 [==============================] - 0s 0s/sample - loss: 109.0799\n"
     ]
    },
    {
     "name": "stdout",
     "output_type": "stream",
     "text": [
      "Epoch 2736/5000\n\r30/30 [==============================] - 0s 0s/sample - loss: 109.0767\n"
     ]
    },
    {
     "name": "stdout",
     "output_type": "stream",
     "text": [
      "Epoch 2737/5000\n"
     ]
    },
    {
     "name": "stdout",
     "output_type": "stream",
     "text": [
      "\r30/30 [==============================] - 0s 333us/sample - loss: 109.0735\n"
     ]
    },
    {
     "name": "stdout",
     "output_type": "stream",
     "text": [
      "Epoch 2738/5000\n\r30/30 [==============================] - 0s 0s/sample - loss: 109.0703\n"
     ]
    },
    {
     "name": "stdout",
     "output_type": "stream",
     "text": [
      "Epoch 2739/5000\n\r30/30 [==============================] - 0s 0s/sample - loss: 109.0670\n"
     ]
    },
    {
     "name": "stdout",
     "output_type": "stream",
     "text": [
      "Epoch 2740/5000\n\r30/30 [==============================] - 0s 0s/sample - loss: 109.0639\n"
     ]
    },
    {
     "name": "stdout",
     "output_type": "stream",
     "text": [
      "Epoch 2741/5000\n"
     ]
    },
    {
     "name": "stdout",
     "output_type": "stream",
     "text": [
      "\r30/30 [==============================] - 0s 0s/sample - loss: 109.0607\n"
     ]
    },
    {
     "name": "stdout",
     "output_type": "stream",
     "text": [
      "Epoch 2742/5000\n\r30/30 [==============================] - 0s 0s/sample - loss: 109.0575\n"
     ]
    },
    {
     "name": "stdout",
     "output_type": "stream",
     "text": [
      "Epoch 2743/5000\n\r30/30 [==============================] - 0s 0s/sample - loss: 109.0543\n"
     ]
    },
    {
     "name": "stdout",
     "output_type": "stream",
     "text": [
      "Epoch 2744/5000\n\r30/30 [==============================] - 0s 0s/sample - loss: 109.0511\n"
     ]
    },
    {
     "name": "stdout",
     "output_type": "stream",
     "text": [
      "Epoch 2745/5000\n\r30/30 [==============================] - 0s 0s/sample - loss: 109.0480\n"
     ]
    },
    {
     "name": "stdout",
     "output_type": "stream",
     "text": [
      "Epoch 2746/5000\n\r30/30 [==============================] - 0s 0s/sample - loss: 109.0448\n"
     ]
    },
    {
     "name": "stdout",
     "output_type": "stream",
     "text": [
      "Epoch 2747/5000\n\r30/30 [==============================] - 0s 0s/sample - loss: 109.0417\n"
     ]
    },
    {
     "name": "stdout",
     "output_type": "stream",
     "text": [
      "Epoch 2748/5000\n\r30/30 [==============================] - 0s 0s/sample - loss: 109.0385\n"
     ]
    },
    {
     "name": "stdout",
     "output_type": "stream",
     "text": [
      "Epoch 2749/5000\n\r30/30 [==============================] - 0s 0s/sample - loss: 109.0354\n"
     ]
    },
    {
     "name": "stdout",
     "output_type": "stream",
     "text": [
      "Epoch 2750/5000\n\r30/30 [==============================] - 0s 333us/sample - loss: 109.0323\n"
     ]
    },
    {
     "name": "stdout",
     "output_type": "stream",
     "text": [
      "Epoch 2751/5000\n\r30/30 [==============================] - 0s 0s/sample - loss: 109.0292\n"
     ]
    },
    {
     "name": "stdout",
     "output_type": "stream",
     "text": [
      "Epoch 2752/5000\n\r30/30 [==============================] - 0s 0s/sample - loss: 109.0261\n"
     ]
    },
    {
     "name": "stdout",
     "output_type": "stream",
     "text": [
      "Epoch 2753/5000\n\r30/30 [==============================] - 0s 0s/sample - loss: 109.0229\n"
     ]
    },
    {
     "name": "stdout",
     "output_type": "stream",
     "text": [
      "Epoch 2754/5000\n\r30/30 [==============================] - 0s 0s/sample - loss: 109.0199\n"
     ]
    },
    {
     "name": "stdout",
     "output_type": "stream",
     "text": [
      "Epoch 2755/5000\n\r30/30 [==============================] - 0s 0s/sample - loss: 109.0168\n"
     ]
    },
    {
     "name": "stdout",
     "output_type": "stream",
     "text": [
      "Epoch 2756/5000\n\r30/30 [==============================] - 0s 0s/sample - loss: 109.0137\n"
     ]
    },
    {
     "name": "stdout",
     "output_type": "stream",
     "text": [
      "Epoch 2757/5000\n\r30/30 [==============================] - 0s 0s/sample - loss: 109.0107\n"
     ]
    },
    {
     "name": "stdout",
     "output_type": "stream",
     "text": [
      "Epoch 2758/5000\n"
     ]
    },
    {
     "name": "stdout",
     "output_type": "stream",
     "text": [
      "\r30/30 [==============================] - 0s 333us/sample - loss: 109.0076\n"
     ]
    },
    {
     "name": "stdout",
     "output_type": "stream",
     "text": [
      "Epoch 2759/5000\n\r30/30 [==============================] - 0s 0s/sample - loss: 109.0045\n"
     ]
    },
    {
     "name": "stdout",
     "output_type": "stream",
     "text": [
      "Epoch 2760/5000\n\r30/30 [==============================] - 0s 0s/sample - loss: 109.0015\n"
     ]
    },
    {
     "name": "stdout",
     "output_type": "stream",
     "text": [
      "Epoch 2761/5000\n\r30/30 [==============================] - 0s 0s/sample - loss: 108.9985\n"
     ]
    },
    {
     "name": "stdout",
     "output_type": "stream",
     "text": [
      "Epoch 2762/5000\n\r30/30 [==============================] - 0s 333us/sample - loss: 108.9954\n"
     ]
    },
    {
     "name": "stdout",
     "output_type": "stream",
     "text": [
      "Epoch 2763/5000\n\r30/30 [==============================] - 0s 0s/sample - loss: 108.9924\n"
     ]
    },
    {
     "name": "stdout",
     "output_type": "stream",
     "text": [
      "Epoch 2764/5000\n\r30/30 [==============================] - 0s 0s/sample - loss: 108.9894\n"
     ]
    },
    {
     "name": "stdout",
     "output_type": "stream",
     "text": [
      "Epoch 2765/5000\n\r30/30 [==============================] - 0s 0s/sample - loss: 108.9864\n"
     ]
    },
    {
     "name": "stdout",
     "output_type": "stream",
     "text": [
      "Epoch 2766/5000\n\r30/30 [==============================] - 0s 0s/sample - loss: 108.9834\n"
     ]
    },
    {
     "name": "stdout",
     "output_type": "stream",
     "text": [
      "Epoch 2767/5000\n\r30/30 [==============================] - 0s 333us/sample - loss: 108.9804\n"
     ]
    },
    {
     "name": "stdout",
     "output_type": "stream",
     "text": [
      "Epoch 2768/5000\n\r30/30 [==============================] - 0s 0s/sample - loss: 108.9775\n"
     ]
    },
    {
     "name": "stdout",
     "output_type": "stream",
     "text": [
      "Epoch 2769/5000\n\r30/30 [==============================] - 0s 0s/sample - loss: 108.9745\n"
     ]
    },
    {
     "name": "stdout",
     "output_type": "stream",
     "text": [
      "Epoch 2770/5000\n\r30/30 [==============================] - 0s 0s/sample - loss: 108.9715\n"
     ]
    },
    {
     "name": "stdout",
     "output_type": "stream",
     "text": [
      "Epoch 2771/5000\n\r30/30 [==============================] - 0s 333us/sample - loss: 108.9686\n"
     ]
    },
    {
     "name": "stdout",
     "output_type": "stream",
     "text": [
      "Epoch 2772/5000\n\r30/30 [==============================] - 0s 0s/sample - loss: 108.9656\n"
     ]
    },
    {
     "name": "stdout",
     "output_type": "stream",
     "text": [
      "Epoch 2773/5000\n\r30/30 [==============================] - 0s 0s/sample - loss: 108.9627\n"
     ]
    },
    {
     "name": "stdout",
     "output_type": "stream",
     "text": [
      "Epoch 2774/5000\n\r30/30 [==============================] - 0s 0s/sample - loss: 108.9597\n"
     ]
    },
    {
     "name": "stdout",
     "output_type": "stream",
     "text": [
      "Epoch 2775/5000\n"
     ]
    },
    {
     "name": "stdout",
     "output_type": "stream",
     "text": [
      "\r30/30 [==============================] - 0s 333us/sample - loss: 108.9568\n"
     ]
    },
    {
     "name": "stdout",
     "output_type": "stream",
     "text": [
      "Epoch 2776/5000\n\r30/30 [==============================] - 0s 0s/sample - loss: 108.9539\n"
     ]
    },
    {
     "name": "stdout",
     "output_type": "stream",
     "text": [
      "Epoch 2777/5000\n\r30/30 [==============================] - 0s 0s/sample - loss: 108.9510\n"
     ]
    },
    {
     "name": "stdout",
     "output_type": "stream",
     "text": [
      "Epoch 2778/5000\n\r30/30 [==============================] - 0s 0s/sample - loss: 108.9480\n"
     ]
    },
    {
     "name": "stdout",
     "output_type": "stream",
     "text": [
      "Epoch 2779/5000\n\r30/30 [==============================] - 0s 333us/sample - loss: 108.9452\n"
     ]
    },
    {
     "name": "stdout",
     "output_type": "stream",
     "text": [
      "Epoch 2780/5000\n\r30/30 [==============================] - 0s 0s/sample - loss: 108.9423\n"
     ]
    },
    {
     "name": "stdout",
     "output_type": "stream",
     "text": [
      "Epoch 2781/5000\n\r30/30 [==============================] - 0s 0s/sample - loss: 108.9394\n"
     ]
    },
    {
     "name": "stdout",
     "output_type": "stream",
     "text": [
      "Epoch 2782/5000\n\r30/30 [==============================] - 0s 0s/sample - loss: 108.9365\n"
     ]
    },
    {
     "name": "stdout",
     "output_type": "stream",
     "text": [
      "Epoch 2783/5000\n"
     ]
    },
    {
     "name": "stdout",
     "output_type": "stream",
     "text": [
      "\r30/30 [==============================] - 0s 333us/sample - loss: 108.9336\n"
     ]
    },
    {
     "name": "stdout",
     "output_type": "stream",
     "text": [
      "Epoch 2784/5000\n\r30/30 [==============================] - 0s 0s/sample - loss: 108.9308\n"
     ]
    },
    {
     "name": "stdout",
     "output_type": "stream",
     "text": [
      "Epoch 2785/5000\n\r30/30 [==============================] - 0s 0s/sample - loss: 108.9279\n"
     ]
    },
    {
     "name": "stdout",
     "output_type": "stream",
     "text": [
      "Epoch 2786/5000\n\r30/30 [==============================] - 0s 0s/sample - loss: 108.9250\n"
     ]
    },
    {
     "name": "stdout",
     "output_type": "stream",
     "text": [
      "Epoch 2787/5000\n"
     ]
    },
    {
     "name": "stdout",
     "output_type": "stream",
     "text": [
      "\r30/30 [==============================] - 0s 333us/sample - loss: 108.9222\n"
     ]
    },
    {
     "name": "stdout",
     "output_type": "stream",
     "text": [
      "Epoch 2788/5000\n\r30/30 [==============================] - 0s 0s/sample - loss: 108.9194\n"
     ]
    },
    {
     "name": "stdout",
     "output_type": "stream",
     "text": [
      "Epoch 2789/5000\n\r30/30 [==============================] - 0s 0s/sample - loss: 108.9165\n"
     ]
    },
    {
     "name": "stdout",
     "output_type": "stream",
     "text": [
      "Epoch 2790/5000\n\r30/30 [==============================] - 0s 0s/sample - loss: 108.9137\n"
     ]
    },
    {
     "name": "stdout",
     "output_type": "stream",
     "text": [
      "Epoch 2791/5000\n\r30/30 [==============================] - 0s 333us/sample - loss: 108.9109\n"
     ]
    },
    {
     "name": "stdout",
     "output_type": "stream",
     "text": [
      "Epoch 2792/5000\n\r30/30 [==============================] - 0s 0s/sample - loss: 108.9081\n"
     ]
    },
    {
     "name": "stdout",
     "output_type": "stream",
     "text": [
      "Epoch 2793/5000\n\r30/30 [==============================] - 0s 0s/sample - loss: 108.9053\n"
     ]
    },
    {
     "name": "stdout",
     "output_type": "stream",
     "text": [
      "Epoch 2794/5000\n\r30/30 [==============================] - 0s 0s/sample - loss: 108.9025\n"
     ]
    },
    {
     "name": "stdout",
     "output_type": "stream",
     "text": [
      "Epoch 2795/5000\n"
     ]
    },
    {
     "name": "stdout",
     "output_type": "stream",
     "text": [
      "\r30/30 [==============================] - 0s 333us/sample - loss: 108.8997\n"
     ]
    },
    {
     "name": "stdout",
     "output_type": "stream",
     "text": [
      "Epoch 2796/5000\n\r30/30 [==============================] - 0s 0s/sample - loss: 108.8969\n"
     ]
    },
    {
     "name": "stdout",
     "output_type": "stream",
     "text": [
      "Epoch 2797/5000\n\r30/30 [==============================] - 0s 0s/sample - loss: 108.8941\n"
     ]
    },
    {
     "name": "stdout",
     "output_type": "stream",
     "text": [
      "Epoch 2798/5000\n\r30/30 [==============================] - 0s 0s/sample - loss: 108.8914\n"
     ]
    },
    {
     "name": "stdout",
     "output_type": "stream",
     "text": [
      "Epoch 2799/5000\n\r30/30 [==============================] - 0s 333us/sample - loss: 108.8886\n"
     ]
    },
    {
     "name": "stdout",
     "output_type": "stream",
     "text": [
      "Epoch 2800/5000\n\r30/30 [==============================] - 0s 0s/sample - loss: 108.8859\n"
     ]
    },
    {
     "name": "stdout",
     "output_type": "stream",
     "text": [
      "Epoch 2801/5000\n\r30/30 [==============================] - 0s 0s/sample - loss: 108.8831\n"
     ]
    },
    {
     "name": "stdout",
     "output_type": "stream",
     "text": [
      "Epoch 2802/5000\n\r30/30 [==============================] - 0s 0s/sample - loss: 108.8804\n"
     ]
    },
    {
     "name": "stdout",
     "output_type": "stream",
     "text": [
      "Epoch 2803/5000\n\r30/30 [==============================] - 0s 0s/sample - loss: 108.8776\n"
     ]
    },
    {
     "name": "stdout",
     "output_type": "stream",
     "text": [
      "Epoch 2804/5000\n\r30/30 [==============================] - 0s 0s/sample - loss: 108.8749\n"
     ]
    },
    {
     "name": "stdout",
     "output_type": "stream",
     "text": [
      "Epoch 2805/5000\n\r30/30 [==============================] - 0s 0s/sample - loss: 108.8722\n"
     ]
    },
    {
     "name": "stdout",
     "output_type": "stream",
     "text": [
      "Epoch 2806/5000\n\r30/30 [==============================] - 0s 0s/sample - loss: 108.8694\n"
     ]
    },
    {
     "name": "stdout",
     "output_type": "stream",
     "text": [
      "Epoch 2807/5000\n\r30/30 [==============================] - 0s 0s/sample - loss: 108.8667\n"
     ]
    },
    {
     "name": "stdout",
     "output_type": "stream",
     "text": [
      "Epoch 2808/5000\n\r30/30 [==============================] - 0s 0s/sample - loss: 108.8640\n"
     ]
    },
    {
     "name": "stdout",
     "output_type": "stream",
     "text": [
      "Epoch 2809/5000\n\r30/30 [==============================] - 0s 0s/sample - loss: 108.8613\n"
     ]
    },
    {
     "name": "stdout",
     "output_type": "stream",
     "text": [
      "Epoch 2810/5000\n\r30/30 [==============================] - 0s 0s/sample - loss: 108.8586\n"
     ]
    },
    {
     "name": "stdout",
     "output_type": "stream",
     "text": [
      "Epoch 2811/5000\n"
     ]
    },
    {
     "name": "stdout",
     "output_type": "stream",
     "text": [
      "\r30/30 [==============================] - 0s 333us/sample - loss: 108.8559\n"
     ]
    },
    {
     "name": "stdout",
     "output_type": "stream",
     "text": [
      "Epoch 2812/5000\n\r30/30 [==============================] - 0s 0s/sample - loss: 108.8532\n"
     ]
    },
    {
     "name": "stdout",
     "output_type": "stream",
     "text": [
      "Epoch 2813/5000\n\r30/30 [==============================] - 0s 0s/sample - loss: 108.8506\n"
     ]
    },
    {
     "name": "stdout",
     "output_type": "stream",
     "text": [
      "Epoch 2814/5000\n\r30/30 [==============================] - 0s 0s/sample - loss: 108.8479\n"
     ]
    },
    {
     "name": "stdout",
     "output_type": "stream",
     "text": [
      "Epoch 2815/5000\n\r30/30 [==============================] - 0s 0s/sample - loss: 108.8452\n"
     ]
    },
    {
     "name": "stdout",
     "output_type": "stream",
     "text": [
      "Epoch 2816/5000\n\r30/30 [==============================] - 0s 0s/sample - loss: 108.8426\n"
     ]
    },
    {
     "name": "stdout",
     "output_type": "stream",
     "text": [
      "Epoch 2817/5000\n\r30/30 [==============================] - 0s 0s/sample - loss: 108.8399\n"
     ]
    },
    {
     "name": "stdout",
     "output_type": "stream",
     "text": [
      "Epoch 2818/5000\n\r30/30 [==============================] - 0s 0s/sample - loss: 108.8373\n"
     ]
    },
    {
     "name": "stdout",
     "output_type": "stream",
     "text": [
      "Epoch 2819/5000\n\r30/30 [==============================] - 0s 0s/sample - loss: 108.8346\n"
     ]
    },
    {
     "name": "stdout",
     "output_type": "stream",
     "text": [
      "Epoch 2820/5000\n\r30/30 [==============================] - 0s 0s/sample - loss: 108.8320\n"
     ]
    },
    {
     "name": "stdout",
     "output_type": "stream",
     "text": [
      "Epoch 2821/5000\n\r30/30 [==============================] - 0s 0s/sample - loss: 108.8294\n"
     ]
    },
    {
     "name": "stdout",
     "output_type": "stream",
     "text": [
      "Epoch 2822/5000\n\r30/30 [==============================] - 0s 0s/sample - loss: 108.8268\n"
     ]
    },
    {
     "name": "stdout",
     "output_type": "stream",
     "text": [
      "Epoch 2823/5000\n\r30/30 [==============================] - 0s 0s/sample - loss: 108.8241\n"
     ]
    },
    {
     "name": "stdout",
     "output_type": "stream",
     "text": [
      "Epoch 2824/5000\n\r30/30 [==============================] - 0s 0s/sample - loss: 108.8216\n"
     ]
    },
    {
     "name": "stdout",
     "output_type": "stream",
     "text": [
      "Epoch 2825/5000\n\r30/30 [==============================] - 0s 0s/sample - loss: 108.8189\n"
     ]
    },
    {
     "name": "stdout",
     "output_type": "stream",
     "text": [
      "Epoch 2826/5000\n\r30/30 [==============================] - 0s 0s/sample - loss: 108.8164\n"
     ]
    },
    {
     "name": "stdout",
     "output_type": "stream",
     "text": [
      "Epoch 2827/5000\n\r30/30 [==============================] - 0s 0s/sample - loss: 108.8138\n"
     ]
    },
    {
     "name": "stdout",
     "output_type": "stream",
     "text": [
      "Epoch 2828/5000\n\r30/30 [==============================] - 0s 0s/sample - loss: 108.8112\n"
     ]
    },
    {
     "name": "stdout",
     "output_type": "stream",
     "text": [
      "Epoch 2829/5000\n\r30/30 [==============================] - 0s 0s/sample - loss: 108.8086\n"
     ]
    },
    {
     "name": "stdout",
     "output_type": "stream",
     "text": [
      "Epoch 2830/5000\n\r30/30 [==============================] - 0s 0s/sample - loss: 108.8060\n"
     ]
    },
    {
     "name": "stdout",
     "output_type": "stream",
     "text": [
      "Epoch 2831/5000\n\r30/30 [==============================] - 0s 0s/sample - loss: 108.8034\n"
     ]
    },
    {
     "name": "stdout",
     "output_type": "stream",
     "text": [
      "Epoch 2832/5000\n\r30/30 [==============================] - 0s 333us/sample - loss: 108.8008\n"
     ]
    },
    {
     "name": "stdout",
     "output_type": "stream",
     "text": [
      "Epoch 2833/5000\n\r30/30 [==============================] - 0s 0s/sample - loss: 108.7983\n"
     ]
    },
    {
     "name": "stdout",
     "output_type": "stream",
     "text": [
      "Epoch 2834/5000\n\r30/30 [==============================] - 0s 0s/sample - loss: 108.7957\n"
     ]
    },
    {
     "name": "stdout",
     "output_type": "stream",
     "text": [
      "Epoch 2835/5000\n\r30/30 [==============================] - 0s 0s/sample - loss: 108.7932\n"
     ]
    },
    {
     "name": "stdout",
     "output_type": "stream",
     "text": [
      "Epoch 2836/5000\n"
     ]
    },
    {
     "name": "stdout",
     "output_type": "stream",
     "text": [
      "\r30/30 [==============================] - 0s 333us/sample - loss: 108.7906\n"
     ]
    },
    {
     "name": "stdout",
     "output_type": "stream",
     "text": [
      "Epoch 2837/5000\n\r30/30 [==============================] - 0s 0s/sample - loss: 108.7881\n"
     ]
    },
    {
     "name": "stdout",
     "output_type": "stream",
     "text": [
      "Epoch 2838/5000\n\r30/30 [==============================] - 0s 0s/sample - loss: 108.7856\n"
     ]
    },
    {
     "name": "stdout",
     "output_type": "stream",
     "text": [
      "Epoch 2839/5000\n\r30/30 [==============================] - 0s 0s/sample - loss: 108.7831\n"
     ]
    },
    {
     "name": "stdout",
     "output_type": "stream",
     "text": [
      "Epoch 2840/5000\n"
     ]
    },
    {
     "name": "stdout",
     "output_type": "stream",
     "text": [
      "\r30/30 [==============================] - 0s 333us/sample - loss: 108.7805\n"
     ]
    },
    {
     "name": "stdout",
     "output_type": "stream",
     "text": [
      "Epoch 2841/5000\n\r30/30 [==============================] - 0s 0s/sample - loss: 108.7780\n"
     ]
    },
    {
     "name": "stdout",
     "output_type": "stream",
     "text": [
      "Epoch 2842/5000\n\r30/30 [==============================] - 0s 0s/sample - loss: 108.7755\n"
     ]
    },
    {
     "name": "stdout",
     "output_type": "stream",
     "text": [
      "Epoch 2843/5000\n\r30/30 [==============================] - 0s 0s/sample - loss: 108.7730\n"
     ]
    },
    {
     "name": "stdout",
     "output_type": "stream",
     "text": [
      "Epoch 2844/5000\n"
     ]
    },
    {
     "name": "stdout",
     "output_type": "stream",
     "text": [
      "\r30/30 [==============================] - 0s 333us/sample - loss: 108.7705\n"
     ]
    },
    {
     "name": "stdout",
     "output_type": "stream",
     "text": [
      "Epoch 2845/5000\n\r30/30 [==============================] - 0s 0s/sample - loss: 108.7680\n"
     ]
    },
    {
     "name": "stdout",
     "output_type": "stream",
     "text": [
      "Epoch 2846/5000\n\r30/30 [==============================] - 0s 0s/sample - loss: 108.7655\n"
     ]
    },
    {
     "name": "stdout",
     "output_type": "stream",
     "text": [
      "Epoch 2847/5000\n\r30/30 [==============================] - 0s 0s/sample - loss: 108.7630\n"
     ]
    },
    {
     "name": "stdout",
     "output_type": "stream",
     "text": [
      "Epoch 2848/5000\n\r30/30 [==============================] - 0s 333us/sample - loss: 108.7605\n"
     ]
    },
    {
     "name": "stdout",
     "output_type": "stream",
     "text": [
      "Epoch 2849/5000\n\r30/30 [==============================] - 0s 0s/sample - loss: 108.7581\n"
     ]
    },
    {
     "name": "stdout",
     "output_type": "stream",
     "text": [
      "Epoch 2850/5000\n\r30/30 [==============================] - 0s 0s/sample - loss: 108.7556\n"
     ]
    },
    {
     "name": "stdout",
     "output_type": "stream",
     "text": [
      "Epoch 2851/5000\n\r30/30 [==============================] - 0s 0s/sample - loss: 108.7531\n"
     ]
    },
    {
     "name": "stdout",
     "output_type": "stream",
     "text": [
      "Epoch 2852/5000\n\r30/30 [==============================] - 0s 333us/sample - loss: 108.7507\n"
     ]
    },
    {
     "name": "stdout",
     "output_type": "stream",
     "text": [
      "Epoch 2853/5000\n\r30/30 [==============================] - 0s 0s/sample - loss: 108.7482\n"
     ]
    },
    {
     "name": "stdout",
     "output_type": "stream",
     "text": [
      "Epoch 2854/5000\n\r30/30 [==============================] - 0s 0s/sample - loss: 108.7458\n"
     ]
    },
    {
     "name": "stdout",
     "output_type": "stream",
     "text": [
      "Epoch 2855/5000\n\r30/30 [==============================] - 0s 0s/sample - loss: 108.7433\n"
     ]
    },
    {
     "name": "stdout",
     "output_type": "stream",
     "text": [
      "Epoch 2856/5000\n\r30/30 [==============================] - 0s 333us/sample - loss: 108.7409\n"
     ]
    },
    {
     "name": "stdout",
     "output_type": "stream",
     "text": [
      "Epoch 2857/5000\n\r30/30 [==============================] - 0s 0s/sample - loss: 108.7385\n"
     ]
    },
    {
     "name": "stdout",
     "output_type": "stream",
     "text": [
      "Epoch 2858/5000\n\r30/30 [==============================] - 0s 0s/sample - loss: 108.7361\n"
     ]
    },
    {
     "name": "stdout",
     "output_type": "stream",
     "text": [
      "Epoch 2859/5000\n\r30/30 [==============================] - 0s 0s/sample - loss: 108.7336\n"
     ]
    },
    {
     "name": "stdout",
     "output_type": "stream",
     "text": [
      "Epoch 2860/5000\n"
     ]
    },
    {
     "name": "stdout",
     "output_type": "stream",
     "text": [
      "\r30/30 [==============================] - 0s 0s/sample - loss: 108.7312\n"
     ]
    },
    {
     "name": "stdout",
     "output_type": "stream",
     "text": [
      "Epoch 2861/5000\n\r30/30 [==============================] - 0s 0s/sample - loss: 108.7288\n"
     ]
    },
    {
     "name": "stdout",
     "output_type": "stream",
     "text": [
      "Epoch 2862/5000\n\r30/30 [==============================] - 0s 0s/sample - loss: 108.7264\n"
     ]
    },
    {
     "name": "stdout",
     "output_type": "stream",
     "text": [
      "Epoch 2863/5000\n\r30/30 [==============================] - 0s 0s/sample - loss: 108.7240\n"
     ]
    },
    {
     "name": "stdout",
     "output_type": "stream",
     "text": [
      "Epoch 2864/5000\n\r30/30 [==============================] - 0s 0s/sample - loss: 108.7216\n"
     ]
    },
    {
     "name": "stdout",
     "output_type": "stream",
     "text": [
      "Epoch 2865/5000\n\r30/30 [==============================] - 0s 333us/sample - loss: 108.7192\n"
     ]
    },
    {
     "name": "stdout",
     "output_type": "stream",
     "text": [
      "Epoch 2866/5000\n\r30/30 [==============================] - 0s 0s/sample - loss: 108.7168\n"
     ]
    },
    {
     "name": "stdout",
     "output_type": "stream",
     "text": [
      "Epoch 2867/5000\n\r30/30 [==============================] - 0s 0s/sample - loss: 108.7144\n"
     ]
    },
    {
     "name": "stdout",
     "output_type": "stream",
     "text": [
      "Epoch 2868/5000\n\r30/30 [==============================] - 0s 0s/sample - loss: 108.7120\n"
     ]
    },
    {
     "name": "stdout",
     "output_type": "stream",
     "text": [
      "Epoch 2869/5000\n"
     ]
    },
    {
     "name": "stdout",
     "output_type": "stream",
     "text": [
      "\r30/30 [==============================] - 0s 333us/sample - loss: 108.7096\n"
     ]
    },
    {
     "name": "stdout",
     "output_type": "stream",
     "text": [
      "Epoch 2870/5000\n\r30/30 [==============================] - 0s 0s/sample - loss: 108.7073\n"
     ]
    },
    {
     "name": "stdout",
     "output_type": "stream",
     "text": [
      "Epoch 2871/5000\n\r30/30 [==============================] - 0s 0s/sample - loss: 108.7049\n"
     ]
    },
    {
     "name": "stdout",
     "output_type": "stream",
     "text": [
      "Epoch 2872/5000\n\r30/30 [==============================] - 0s 0s/sample - loss: 108.7026\n"
     ]
    },
    {
     "name": "stdout",
     "output_type": "stream",
     "text": [
      "Epoch 2873/5000\n\r30/30 [==============================] - 0s 333us/sample - loss: 108.7002\n"
     ]
    },
    {
     "name": "stdout",
     "output_type": "stream",
     "text": [
      "Epoch 2874/5000\n\r30/30 [==============================] - 0s 0s/sample - loss: 108.6978\n"
     ]
    },
    {
     "name": "stdout",
     "output_type": "stream",
     "text": [
      "Epoch 2875/5000\n\r30/30 [==============================] - 0s 0s/sample - loss: 108.6955\n"
     ]
    },
    {
     "name": "stdout",
     "output_type": "stream",
     "text": [
      "Epoch 2876/5000\n\r30/30 [==============================] - 0s 0s/sample - loss: 108.6932\n"
     ]
    },
    {
     "name": "stdout",
     "output_type": "stream",
     "text": [
      "Epoch 2877/5000\n"
     ]
    },
    {
     "name": "stdout",
     "output_type": "stream",
     "text": [
      "\r30/30 [==============================] - 0s 333us/sample - loss: 108.6908\n"
     ]
    },
    {
     "name": "stdout",
     "output_type": "stream",
     "text": [
      "Epoch 2878/5000\n\r30/30 [==============================] - 0s 0s/sample - loss: 108.6885\n"
     ]
    },
    {
     "name": "stdout",
     "output_type": "stream",
     "text": [
      "Epoch 2879/5000\n\r30/30 [==============================] - 0s 0s/sample - loss: 108.6861\n"
     ]
    },
    {
     "name": "stdout",
     "output_type": "stream",
     "text": [
      "Epoch 2880/5000\n\r30/30 [==============================] - 0s 0s/sample - loss: 108.6838\n"
     ]
    },
    {
     "name": "stdout",
     "output_type": "stream",
     "text": [
      "Epoch 2881/5000\n"
     ]
    },
    {
     "name": "stdout",
     "output_type": "stream",
     "text": [
      "\r30/30 [==============================] - 0s 333us/sample - loss: 108.6815\n"
     ]
    },
    {
     "name": "stdout",
     "output_type": "stream",
     "text": [
      "Epoch 2882/5000\n\r30/30 [==============================] - 0s 0s/sample - loss: 108.6792\n"
     ]
    },
    {
     "name": "stdout",
     "output_type": "stream",
     "text": [
      "Epoch 2883/5000\n\r30/30 [==============================] - 0s 0s/sample - loss: 108.6769\n"
     ]
    },
    {
     "name": "stdout",
     "output_type": "stream",
     "text": [
      "Epoch 2884/5000\n\r30/30 [==============================] - 0s 0s/sample - loss: 108.6746\n"
     ]
    },
    {
     "name": "stdout",
     "output_type": "stream",
     "text": [
      "Epoch 2885/5000\n\r30/30 [==============================] - 0s 0s/sample - loss: 108.6723\n"
     ]
    },
    {
     "name": "stdout",
     "output_type": "stream",
     "text": [
      "Epoch 2886/5000\n\r30/30 [==============================] - 0s 333us/sample - loss: 108.6700\n"
     ]
    },
    {
     "name": "stdout",
     "output_type": "stream",
     "text": [
      "Epoch 2887/5000\n\r30/30 [==============================] - 0s 0s/sample - loss: 108.6677\n"
     ]
    },
    {
     "name": "stdout",
     "output_type": "stream",
     "text": [
      "Epoch 2888/5000\n\r30/30 [==============================] - 0s 0s/sample - loss: 108.6654\n"
     ]
    },
    {
     "name": "stdout",
     "output_type": "stream",
     "text": [
      "Epoch 2889/5000\n\r30/30 [==============================] - 0s 0s/sample - loss: 108.6631\n"
     ]
    },
    {
     "name": "stdout",
     "output_type": "stream",
     "text": [
      "Epoch 2890/5000\n\r30/30 [==============================] - 0s 333us/sample - loss: 108.6608\n"
     ]
    },
    {
     "name": "stdout",
     "output_type": "stream",
     "text": [
      "Epoch 2891/5000\n\r30/30 [==============================] - 0s 0s/sample - loss: 108.6585\n"
     ]
    },
    {
     "name": "stdout",
     "output_type": "stream",
     "text": [
      "Epoch 2892/5000\n\r30/30 [==============================] - 0s 0s/sample - loss: 108.6563\n"
     ]
    },
    {
     "name": "stdout",
     "output_type": "stream",
     "text": [
      "Epoch 2893/5000\n\r30/30 [==============================] - 0s 0s/sample - loss: 108.6540\n"
     ]
    },
    {
     "name": "stdout",
     "output_type": "stream",
     "text": [
      "Epoch 2894/5000\n\r30/30 [==============================] - 0s 0s/sample - loss: 108.6517\n"
     ]
    },
    {
     "name": "stdout",
     "output_type": "stream",
     "text": [
      "Epoch 2895/5000\n\r30/30 [==============================] - 0s 0s/sample - loss: 108.6495\n"
     ]
    },
    {
     "name": "stdout",
     "output_type": "stream",
     "text": [
      "Epoch 2896/5000\n\r30/30 [==============================] - 0s 0s/sample - loss: 108.6472\n"
     ]
    },
    {
     "name": "stdout",
     "output_type": "stream",
     "text": [
      "Epoch 2897/5000\n\r30/30 [==============================] - 0s 0s/sample - loss: 108.6449\n"
     ]
    },
    {
     "name": "stdout",
     "output_type": "stream",
     "text": [
      "Epoch 2898/5000\n\r30/30 [==============================] - 0s 333us/sample - loss: 108.6427\n"
     ]
    },
    {
     "name": "stdout",
     "output_type": "stream",
     "text": [
      "Epoch 2899/5000\n\r30/30 [==============================] - 0s 0s/sample - loss: 108.6405\n"
     ]
    },
    {
     "name": "stdout",
     "output_type": "stream",
     "text": [
      "Epoch 2900/5000\n\r30/30 [==============================] - 0s 0s/sample - loss: 108.6382\n"
     ]
    },
    {
     "name": "stdout",
     "output_type": "stream",
     "text": [
      "Epoch 2901/5000\n\r30/30 [==============================] - 0s 0s/sample - loss: 108.6360\n"
     ]
    },
    {
     "name": "stdout",
     "output_type": "stream",
     "text": [
      "Epoch 2902/5000\n"
     ]
    },
    {
     "name": "stdout",
     "output_type": "stream",
     "text": [
      "\r30/30 [==============================] - 0s 333us/sample - loss: 108.6338\n"
     ]
    },
    {
     "name": "stdout",
     "output_type": "stream",
     "text": [
      "Epoch 2903/5000\n\r30/30 [==============================] - 0s 0s/sample - loss: 108.6315\n"
     ]
    },
    {
     "name": "stdout",
     "output_type": "stream",
     "text": [
      "Epoch 2904/5000\n\r30/30 [==============================] - 0s 0s/sample - loss: 108.6293\n"
     ]
    },
    {
     "name": "stdout",
     "output_type": "stream",
     "text": [
      "Epoch 2905/5000\n\r30/30 [==============================] - 0s 0s/sample - loss: 108.6271\n"
     ]
    },
    {
     "name": "stdout",
     "output_type": "stream",
     "text": [
      "Epoch 2906/5000\n\r30/30 [==============================] - 0s 0s/sample - loss: 108.6248\n"
     ]
    },
    {
     "name": "stdout",
     "output_type": "stream",
     "text": [
      "Epoch 2907/5000\n\r30/30 [==============================] - 0s 0s/sample - loss: 108.6226\n"
     ]
    },
    {
     "name": "stdout",
     "output_type": "stream",
     "text": [
      "Epoch 2908/5000\n\r30/30 [==============================] - 0s 0s/sample - loss: 108.6204\n"
     ]
    },
    {
     "name": "stdout",
     "output_type": "stream",
     "text": [
      "Epoch 2909/5000\n\r30/30 [==============================] - 0s 0s/sample - loss: 108.6182\n"
     ]
    },
    {
     "name": "stdout",
     "output_type": "stream",
     "text": [
      "Epoch 2910/5000\n\r30/30 [==============================] - 0s 0s/sample - loss: 108.6160\n"
     ]
    },
    {
     "name": "stdout",
     "output_type": "stream",
     "text": [
      "Epoch 2911/5000\n\r30/30 [==============================] - 0s 0s/sample - loss: 108.6138\n"
     ]
    },
    {
     "name": "stdout",
     "output_type": "stream",
     "text": [
      "Epoch 2912/5000\n\r30/30 [==============================] - 0s 0s/sample - loss: 108.6116\n"
     ]
    },
    {
     "name": "stdout",
     "output_type": "stream",
     "text": [
      "Epoch 2913/5000\n\r30/30 [==============================] - 0s 0s/sample - loss: 108.6094\n"
     ]
    },
    {
     "name": "stdout",
     "output_type": "stream",
     "text": [
      "Epoch 2914/5000\n"
     ]
    },
    {
     "name": "stdout",
     "output_type": "stream",
     "text": [
      "\r30/30 [==============================] - 0s 333us/sample - loss: 108.6072\n"
     ]
    },
    {
     "name": "stdout",
     "output_type": "stream",
     "text": [
      "Epoch 2915/5000\n\r30/30 [==============================] - 0s 0s/sample - loss: 108.6050\n"
     ]
    },
    {
     "name": "stdout",
     "output_type": "stream",
     "text": [
      "Epoch 2916/5000\n\r30/30 [==============================] - 0s 0s/sample - loss: 108.6029\n"
     ]
    },
    {
     "name": "stdout",
     "output_type": "stream",
     "text": [
      "Epoch 2917/5000\n\r30/30 [==============================] - 0s 0s/sample - loss: 108.6007\n"
     ]
    },
    {
     "name": "stdout",
     "output_type": "stream",
     "text": [
      "Epoch 2918/5000\n\r"
     ]
    },
    {
     "name": "stdout",
     "output_type": "stream",
     "text": [
      "30/30 [==============================] - 0s 0s/sample - loss: 108.5985\n"
     ]
    },
    {
     "name": "stdout",
     "output_type": "stream",
     "text": [
      "Epoch 2919/5000\n\r30/30 [==============================] - 0s 0s/sample - loss: 108.5964\n"
     ]
    },
    {
     "name": "stdout",
     "output_type": "stream",
     "text": [
      "Epoch 2920/5000\n\r30/30 [==============================] - 0s 0s/sample - loss: 108.5942\n"
     ]
    },
    {
     "name": "stdout",
     "output_type": "stream",
     "text": [
      "Epoch 2921/5000\n\r30/30 [==============================] - 0s 0s/sample - loss: 108.5920\n"
     ]
    },
    {
     "name": "stdout",
     "output_type": "stream",
     "text": [
      "Epoch 2922/5000\n\r30/30 [==============================] - 0s 0s/sample - loss: 108.5899\n"
     ]
    },
    {
     "name": "stdout",
     "output_type": "stream",
     "text": [
      "Epoch 2923/5000"
     ]
    },
    {
     "name": "stdout",
     "output_type": "stream",
     "text": [
      "\n\r30/30 [==============================] - 0s 333us/sample - loss: 108.5877\n"
     ]
    },
    {
     "name": "stdout",
     "output_type": "stream",
     "text": [
      "Epoch 2924/5000\n\r30/30 [==============================] - 0s 0s/sample - loss: 108.5856\n"
     ]
    },
    {
     "name": "stdout",
     "output_type": "stream",
     "text": [
      "Epoch 2925/5000\n\r30/30 [==============================] - 0s 0s/sample - loss: 108.5834\n"
     ]
    },
    {
     "name": "stdout",
     "output_type": "stream",
     "text": [
      "Epoch 2926/5000\n\r30/30 [==============================] - 0s 0s/sample - loss: 108.5813\n"
     ]
    },
    {
     "name": "stdout",
     "output_type": "stream",
     "text": [
      "Epoch 2927/5000\n\r30/30 [==============================] - 0s 333us/sample - loss: 108.5791\n"
     ]
    },
    {
     "name": "stdout",
     "output_type": "stream",
     "text": [
      "Epoch 2928/5000\n\r30/30 [==============================] - 0s 0s/sample - loss: 108.5770\n"
     ]
    },
    {
     "name": "stdout",
     "output_type": "stream",
     "text": [
      "Epoch 2929/5000\n\r30/30 [==============================] - 0s 0s/sample - loss: 108.5749\n"
     ]
    },
    {
     "name": "stdout",
     "output_type": "stream",
     "text": [
      "Epoch 2930/5000\n\r30/30 [==============================] - 0s 0s/sample - loss: 108.5727\n"
     ]
    },
    {
     "name": "stdout",
     "output_type": "stream",
     "text": [
      "Epoch 2931/5000\n"
     ]
    },
    {
     "name": "stdout",
     "output_type": "stream",
     "text": [
      "\r30/30 [==============================] - 0s 333us/sample - loss: 108.5706\n"
     ]
    },
    {
     "name": "stdout",
     "output_type": "stream",
     "text": [
      "Epoch 2932/5000\n\r30/30 [==============================] - 0s 0s/sample - loss: 108.5685\n"
     ]
    },
    {
     "name": "stdout",
     "output_type": "stream",
     "text": [
      "Epoch 2933/5000\n\r30/30 [==============================] - 0s 0s/sample - loss: 108.5664\n"
     ]
    },
    {
     "name": "stdout",
     "output_type": "stream",
     "text": [
      "Epoch 2934/5000\n\r30/30 [==============================] - 0s 0s/sample - loss: 108.5643\n"
     ]
    },
    {
     "name": "stdout",
     "output_type": "stream",
     "text": [
      "Epoch 2935/5000\n"
     ]
    },
    {
     "name": "stdout",
     "output_type": "stream",
     "text": [
      "\r30/30 [==============================] - 0s 0s/sample - loss: 108.5621\n"
     ]
    },
    {
     "name": "stdout",
     "output_type": "stream",
     "text": [
      "Epoch 2936/5000\n\r30/30 [==============================] - 0s 0s/sample - loss: 108.5600\n"
     ]
    },
    {
     "name": "stdout",
     "output_type": "stream",
     "text": [
      "Epoch 2937/5000\n\r30/30 [==============================] - 0s 0s/sample - loss: 108.5579\n"
     ]
    },
    {
     "name": "stdout",
     "output_type": "stream",
     "text": [
      "Epoch 2938/5000\n\r30/30 [==============================] - 0s 0s/sample - loss: 108.5558\n"
     ]
    },
    {
     "name": "stdout",
     "output_type": "stream",
     "text": [
      "Epoch 2939/5000\n\r30/30 [==============================] - 0s 0s/sample - loss: 108.5537\n"
     ]
    },
    {
     "name": "stdout",
     "output_type": "stream",
     "text": [
      "Epoch 2940/5000\n\r30/30 [==============================] - 0s 0s/sample - loss: 108.5516\n"
     ]
    },
    {
     "name": "stdout",
     "output_type": "stream",
     "text": [
      "Epoch 2941/5000\n\r30/30 [==============================] - 0s 0s/sample - loss: 108.5495\n"
     ]
    },
    {
     "name": "stdout",
     "output_type": "stream",
     "text": [
      "Epoch 2942/5000\n\r30/30 [==============================] - 0s 0s/sample - loss: 108.5474\n"
     ]
    },
    {
     "name": "stdout",
     "output_type": "stream",
     "text": [
      "Epoch 2943/5000\n\r30/30 [==============================] - 0s 0s/sample - loss: 108.5453\n"
     ]
    },
    {
     "name": "stdout",
     "output_type": "stream",
     "text": [
      "Epoch 2944/5000\n\r30/30 [==============================] - 0s 333us/sample - loss: 108.5433\n"
     ]
    },
    {
     "name": "stdout",
     "output_type": "stream",
     "text": [
      "Epoch 2945/5000\n\r30/30 [==============================] - 0s 0s/sample - loss: 108.5412\n"
     ]
    },
    {
     "name": "stdout",
     "output_type": "stream",
     "text": [
      "Epoch 2946/5000\n\r30/30 [==============================] - 0s 0s/sample - loss: 108.5391\n"
     ]
    },
    {
     "name": "stdout",
     "output_type": "stream",
     "text": [
      "Epoch 2947/5000\n\r30/30 [==============================] - 0s 0s/sample - loss: 108.5370\n"
     ]
    },
    {
     "name": "stdout",
     "output_type": "stream",
     "text": [
      "Epoch 2948/5000\n\r"
     ]
    },
    {
     "name": "stdout",
     "output_type": "stream",
     "text": [
      "30/30 [==============================] - 0s 0s/sample - loss: 108.5349\n"
     ]
    },
    {
     "name": "stdout",
     "output_type": "stream",
     "text": [
      "Epoch 2949/5000\n\r30/30 [==============================] - 0s 0s/sample - loss: 108.5329\n"
     ]
    },
    {
     "name": "stdout",
     "output_type": "stream",
     "text": [
      "Epoch 2950/5000\n\r30/30 [==============================] - 0s 0s/sample - loss: 108.5308\n"
     ]
    },
    {
     "name": "stdout",
     "output_type": "stream",
     "text": [
      "Epoch 2951/5000\n\r30/30 [==============================] - 0s 0s/sample - loss: 108.5288\n"
     ]
    },
    {
     "name": "stdout",
     "output_type": "stream",
     "text": [
      "Epoch 2952/5000\n\r30/30 [==============================] - 0s 0s/sample - loss: 108.5267\n"
     ]
    },
    {
     "name": "stdout",
     "output_type": "stream",
     "text": [
      "Epoch 2953/5000\n\r30/30 [==============================] - 0s 0s/sample - loss: 108.5246\n"
     ]
    },
    {
     "name": "stdout",
     "output_type": "stream",
     "text": [
      "Epoch 2954/5000\n\r30/30 [==============================] - 0s 0s/sample - loss: 108.5226\n"
     ]
    },
    {
     "name": "stdout",
     "output_type": "stream",
     "text": [
      "Epoch 2955/5000\n\r30/30 [==============================] - 0s 0s/sample - loss: 108.5205\n"
     ]
    },
    {
     "name": "stdout",
     "output_type": "stream",
     "text": [
      "Epoch 2956/5000\n\r30/30 [==============================] - 0s 0s/sample - loss: 108.5185\n"
     ]
    },
    {
     "name": "stdout",
     "output_type": "stream",
     "text": [
      "Epoch 2957/5000\n\r30/30 [==============================] - 0s 333us/sample - loss: 108.5165\n"
     ]
    },
    {
     "name": "stdout",
     "output_type": "stream",
     "text": [
      "Epoch 2958/5000\n\r30/30 [==============================] - 0s 0s/sample - loss: 108.5144\n"
     ]
    },
    {
     "name": "stdout",
     "output_type": "stream",
     "text": [
      "Epoch 2959/5000\n\r30/30 [==============================] - 0s 0s/sample - loss: 108.5124\n"
     ]
    },
    {
     "name": "stdout",
     "output_type": "stream",
     "text": [
      "Epoch 2960/5000\n\r30/30 [==============================] - 0s 0s/sample - loss: 108.5103\n"
     ]
    },
    {
     "name": "stdout",
     "output_type": "stream",
     "text": [
      "Epoch 2961/5000\n"
     ]
    },
    {
     "name": "stdout",
     "output_type": "stream",
     "text": [
      "\r30/30 [==============================] - 0s 0s/sample - loss: 108.5083\n"
     ]
    },
    {
     "name": "stdout",
     "output_type": "stream",
     "text": [
      "Epoch 2962/5000\n\r30/30 [==============================] - 0s 0s/sample - loss: 108.5063\n"
     ]
    },
    {
     "name": "stdout",
     "output_type": "stream",
     "text": [
      "Epoch 2963/5000\n\r30/30 [==============================] - 0s 0s/sample - loss: 108.5042\n"
     ]
    },
    {
     "name": "stdout",
     "output_type": "stream",
     "text": [
      "Epoch 2964/5000\n\r30/30 [==============================] - 0s 0s/sample - loss: 108.5022\n"
     ]
    },
    {
     "name": "stdout",
     "output_type": "stream",
     "text": [
      "Epoch 2965/5000\n\r30/30 [==============================] - 0s 0s/sample - loss: 108.5002\n"
     ]
    },
    {
     "name": "stdout",
     "output_type": "stream",
     "text": [
      "Epoch 2966/5000\n\r30/30 [==============================] - 0s 0s/sample - loss: 108.4982\n"
     ]
    },
    {
     "name": "stdout",
     "output_type": "stream",
     "text": [
      "Epoch 2967/5000\n\r30/30 [==============================] - 0s 0s/sample - loss: 108.4962\n"
     ]
    },
    {
     "name": "stdout",
     "output_type": "stream",
     "text": [
      "Epoch 2968/5000\n\r30/30 [==============================] - 0s 0s/sample - loss: 108.4941\n"
     ]
    },
    {
     "name": "stdout",
     "output_type": "stream",
     "text": [
      "Epoch 2969/5000\n\r30/30 [==============================] - 0s 0s/sample - loss: 108.4922\n"
     ]
    },
    {
     "name": "stdout",
     "output_type": "stream",
     "text": [
      "Epoch 2970/5000\n\r30/30 [==============================] - 0s 333us/sample - loss: 108.4901\n"
     ]
    },
    {
     "name": "stdout",
     "output_type": "stream",
     "text": [
      "Epoch 2971/5000\n\r30/30 [==============================] - 0s 0s/sample - loss: 108.4881\n"
     ]
    },
    {
     "name": "stdout",
     "output_type": "stream",
     "text": [
      "Epoch 2972/5000\n\r30/30 [==============================] - 0s 0s/sample - loss: 108.4861\n"
     ]
    },
    {
     "name": "stdout",
     "output_type": "stream",
     "text": [
      "Epoch 2973/5000\n\r30/30 [==============================] - 0s 0s/sample - loss: 108.4841\n"
     ]
    },
    {
     "name": "stdout",
     "output_type": "stream",
     "text": [
      "Epoch 2974/5000\n"
     ]
    },
    {
     "name": "stdout",
     "output_type": "stream",
     "text": [
      "\r30/30 [==============================] - 0s 333us/sample - loss: 108.4821\n"
     ]
    },
    {
     "name": "stdout",
     "output_type": "stream",
     "text": [
      "Epoch 2975/5000\n\r30/30 [==============================] - 0s 0s/sample - loss: 108.4801\n"
     ]
    },
    {
     "name": "stdout",
     "output_type": "stream",
     "text": [
      "Epoch 2976/5000\n\r30/30 [==============================] - 0s 0s/sample - loss: 108.4781\n"
     ]
    },
    {
     "name": "stdout",
     "output_type": "stream",
     "text": [
      "Epoch 2977/5000\n\r30/30 [==============================] - 0s 0s/sample - loss: 108.4762\n"
     ]
    },
    {
     "name": "stdout",
     "output_type": "stream",
     "text": [
      "Epoch 2978/5000\n\r30/30 [==============================] - 0s 333us/sample - loss: 108.4742\n"
     ]
    },
    {
     "name": "stdout",
     "output_type": "stream",
     "text": [
      "Epoch 2979/5000\n\r30/30 [==============================] - 0s 0s/sample - loss: 108.4722\n"
     ]
    },
    {
     "name": "stdout",
     "output_type": "stream",
     "text": [
      "Epoch 2980/5000\n\r30/30 [==============================] - 0s 0s/sample - loss: 108.4702\n"
     ]
    },
    {
     "name": "stdout",
     "output_type": "stream",
     "text": [
      "Epoch 2981/5000\n\r30/30 [==============================] - 0s 0s/sample - loss: 108.4682\n"
     ]
    },
    {
     "name": "stdout",
     "output_type": "stream",
     "text": [
      "Epoch 2982/5000\n\r30/30 [==============================] - 0s 0s/sample - loss: 108.4663\n"
     ]
    },
    {
     "name": "stdout",
     "output_type": "stream",
     "text": [
      "Epoch 2983/5000\n\r30/30 [==============================] - 0s 0s/sample - loss: 108.4643\n"
     ]
    },
    {
     "name": "stdout",
     "output_type": "stream",
     "text": [
      "Epoch 2984/5000\n\r30/30 [==============================] - 0s 0s/sample - loss: 108.4623\n"
     ]
    },
    {
     "name": "stdout",
     "output_type": "stream",
     "text": [
      "Epoch 2985/5000\n\r30/30 [==============================] - 0s 0s/sample - loss: 108.4603\n"
     ]
    },
    {
     "name": "stdout",
     "output_type": "stream",
     "text": [
      "Epoch 2986/5000\n\r30/30 [==============================] - 0s 0s/sample - loss: 108.4584\n"
     ]
    },
    {
     "name": "stdout",
     "output_type": "stream",
     "text": [
      "Epoch 2987/5000"
     ]
    },
    {
     "name": "stdout",
     "output_type": "stream",
     "text": [
      "\n\r30/30 [==============================] - 0s 0s/sample - loss: 108.4564\n"
     ]
    },
    {
     "name": "stdout",
     "output_type": "stream",
     "text": [
      "Epoch 2988/5000\n\r30/30 [==============================] - 0s 0s/sample - loss: 108.4544\n"
     ]
    },
    {
     "name": "stdout",
     "output_type": "stream",
     "text": [
      "Epoch 2989/5000\n\r30/30 [==============================] - 0s 0s/sample - loss: 108.4525\n"
     ]
    },
    {
     "name": "stdout",
     "output_type": "stream",
     "text": [
      "Epoch 2990/5000\n\r30/30 [==============================] - 0s 0s/sample - loss: 108.4505\n"
     ]
    },
    {
     "name": "stdout",
     "output_type": "stream",
     "text": [
      "Epoch 2991/5000\n\r30/30 [==============================] - 0s 333us/sample - loss: 108.4486\n"
     ]
    },
    {
     "name": "stdout",
     "output_type": "stream",
     "text": [
      "Epoch 2992/5000\n\r30/30 [==============================] - 0s 0s/sample - loss: 108.4466\n"
     ]
    },
    {
     "name": "stdout",
     "output_type": "stream",
     "text": [
      "Epoch 2993/5000\n\r30/30 [==============================] - 0s 0s/sample - loss: 108.4447\n"
     ]
    },
    {
     "name": "stdout",
     "output_type": "stream",
     "text": [
      "Epoch 2994/5000\n\r30/30 [==============================] - 0s 0s/sample - loss: 108.4427\n"
     ]
    },
    {
     "name": "stdout",
     "output_type": "stream",
     "text": [
      "Epoch 2995/5000\n"
     ]
    },
    {
     "name": "stdout",
     "output_type": "stream",
     "text": [
      "\r30/30 [==============================] - 0s 0s/sample - loss: 108.4408\n"
     ]
    },
    {
     "name": "stdout",
     "output_type": "stream",
     "text": [
      "Epoch 2996/5000\n\r30/30 [==============================] - 0s 0s/sample - loss: 108.4389\n"
     ]
    },
    {
     "name": "stdout",
     "output_type": "stream",
     "text": [
      "Epoch 2997/5000\n\r30/30 [==============================] - 0s 0s/sample - loss: 108.4369\n"
     ]
    },
    {
     "name": "stdout",
     "output_type": "stream",
     "text": [
      "Epoch 2998/5000\n\r30/30 [==============================] - 0s 0s/sample - loss: 108.4350\n"
     ]
    },
    {
     "name": "stdout",
     "output_type": "stream",
     "text": [
      "Epoch 2999/5000\n"
     ]
    },
    {
     "name": "stdout",
     "output_type": "stream",
     "text": [
      "\r30/30 [==============================] - 0s 333us/sample - loss: 108.4330\n"
     ]
    },
    {
     "name": "stdout",
     "output_type": "stream",
     "text": [
      "Epoch 3000/5000\n\r30/30 [==============================] - 0s 0s/sample - loss: 108.4311\n"
     ]
    },
    {
     "name": "stdout",
     "output_type": "stream",
     "text": [
      "Epoch 3001/5000\n\r30/30 [==============================] - 0s 0s/sample - loss: 108.4292\n"
     ]
    },
    {
     "name": "stdout",
     "output_type": "stream",
     "text": [
      "Epoch 3002/5000\n\r30/30 [==============================] - 0s 0s/sample - loss: 108.4272\n"
     ]
    },
    {
     "name": "stdout",
     "output_type": "stream",
     "text": [
      "Epoch 3003/5000\n"
     ]
    },
    {
     "name": "stdout",
     "output_type": "stream",
     "text": [
      "\r30/30 [==============================] - 0s 333us/sample - loss: 108.4253\n"
     ]
    },
    {
     "name": "stdout",
     "output_type": "stream",
     "text": [
      "Epoch 3004/5000\n\r30/30 [==============================] - 0s 0s/sample - loss: 108.4234\n"
     ]
    },
    {
     "name": "stdout",
     "output_type": "stream",
     "text": [
      "Epoch 3005/5000\n\r30/30 [==============================] - 0s 0s/sample - loss: 108.4215\n"
     ]
    },
    {
     "name": "stdout",
     "output_type": "stream",
     "text": [
      "Epoch 3006/5000\n\r30/30 [==============================] - 0s 0s/sample - loss: 108.4196\n"
     ]
    },
    {
     "name": "stdout",
     "output_type": "stream",
     "text": [
      "Epoch 3007/5000\n\r30/30 [==============================] - 0s 0s/sample - loss: 108.4176\n"
     ]
    },
    {
     "name": "stdout",
     "output_type": "stream",
     "text": [
      "Epoch 3008/5000\n\r30/30 [==============================] - 0s 0s/sample - loss: 108.4157\n"
     ]
    },
    {
     "name": "stdout",
     "output_type": "stream",
     "text": [
      "Epoch 3009/5000\n\r30/30 [==============================] - 0s 0s/sample - loss: 108.4138\n"
     ]
    },
    {
     "name": "stdout",
     "output_type": "stream",
     "text": [
      "Epoch 3010/5000\n\r30/30 [==============================] - 0s 0s/sample - loss: 108.4119\n"
     ]
    },
    {
     "name": "stdout",
     "output_type": "stream",
     "text": [
      "Epoch 3011/5000\n\r30/30 [==============================] - 0s 0s/sample - loss: 108.4100\n"
     ]
    },
    {
     "name": "stdout",
     "output_type": "stream",
     "text": [
      "Epoch 3012/5000\n\r30/30 [==============================] - 0s 0s/sample - loss: 108.4081\n"
     ]
    },
    {
     "name": "stdout",
     "output_type": "stream",
     "text": [
      "Epoch 3013/5000\n\r30/30 [==============================] - 0s 0s/sample - loss: 108.4062\n"
     ]
    },
    {
     "name": "stdout",
     "output_type": "stream",
     "text": [
      "Epoch 3014/5000\n\r30/30 [==============================] - 0s 0s/sample - loss: 108.4043\n"
     ]
    },
    {
     "name": "stdout",
     "output_type": "stream",
     "text": [
      "Epoch 3015/5000\n\r30/30 [==============================] - 0s 0s/sample - loss: 108.4024\n"
     ]
    },
    {
     "name": "stdout",
     "output_type": "stream",
     "text": [
      "Epoch 3016/5000\n\r30/30 [==============================] - 0s 333us/sample - loss: 108.4005\n"
     ]
    },
    {
     "name": "stdout",
     "output_type": "stream",
     "text": [
      "Epoch 3017/5000\n\r30/30 [==============================] - 0s 0s/sample - loss: 108.3986\n"
     ]
    },
    {
     "name": "stdout",
     "output_type": "stream",
     "text": [
      "Epoch 3018/5000\n\r30/30 [==============================] - 0s 0s/sample - loss: 108.3967\n"
     ]
    },
    {
     "name": "stdout",
     "output_type": "stream",
     "text": [
      "Epoch 3019/5000\n\r30/30 [==============================] - 0s 0s/sample - loss: 108.3948\n"
     ]
    },
    {
     "name": "stdout",
     "output_type": "stream",
     "text": [
      "Epoch 3020/5000\n"
     ]
    },
    {
     "name": "stdout",
     "output_type": "stream",
     "text": [
      "\r30/30 [==============================] - 0s 333us/sample - loss: 108.3929\n"
     ]
    },
    {
     "name": "stdout",
     "output_type": "stream",
     "text": [
      "Epoch 3021/5000\n\r30/30 [==============================] - 0s 0s/sample - loss: 108.3910\n"
     ]
    },
    {
     "name": "stdout",
     "output_type": "stream",
     "text": [
      "Epoch 3022/5000\n\r30/30 [==============================] - 0s 0s/sample - loss: 108.3891\n"
     ]
    },
    {
     "name": "stdout",
     "output_type": "stream",
     "text": [
      "Epoch 3023/5000\n\r30/30 [==============================] - 0s 0s/sample - loss: 108.3872\n"
     ]
    },
    {
     "name": "stdout",
     "output_type": "stream",
     "text": [
      "Epoch 3024/5000\n\r30/30 [==============================] - 0s 0s/sample - loss: 108.3854\n"
     ]
    },
    {
     "name": "stdout",
     "output_type": "stream",
     "text": [
      "Epoch 3025/5000\n\r30/30 [==============================] - 0s 333us/sample - loss: 108.3835\n"
     ]
    },
    {
     "name": "stdout",
     "output_type": "stream",
     "text": [
      "Epoch 3026/5000\n\r30/30 [==============================] - 0s 0s/sample - loss: 108.3816\n"
     ]
    },
    {
     "name": "stdout",
     "output_type": "stream",
     "text": [
      "Epoch 3027/5000\n\r30/30 [==============================] - 0s 0s/sample - loss: 108.3798\n"
     ]
    },
    {
     "name": "stdout",
     "output_type": "stream",
     "text": [
      "Epoch 3028/5000\n\r30/30 [==============================] - 0s 0s/sample - loss: 108.3779\n"
     ]
    },
    {
     "name": "stdout",
     "output_type": "stream",
     "text": [
      "Epoch 3029/5000\n"
     ]
    },
    {
     "name": "stdout",
     "output_type": "stream",
     "text": [
      "\r30/30 [==============================] - 0s 333us/sample - loss: 108.3760\n"
     ]
    },
    {
     "name": "stdout",
     "output_type": "stream",
     "text": [
      "Epoch 3030/5000\n\r30/30 [==============================] - 0s 0s/sample - loss: 108.3741\n"
     ]
    },
    {
     "name": "stdout",
     "output_type": "stream",
     "text": [
      "Epoch 3031/5000\n\r30/30 [==============================] - 0s 0s/sample - loss: 108.3723\n"
     ]
    },
    {
     "name": "stdout",
     "output_type": "stream",
     "text": [
      "Epoch 3032/5000\n\r30/30 [==============================] - 0s 0s/sample - loss: 108.3704\n"
     ]
    },
    {
     "name": "stdout",
     "output_type": "stream",
     "text": [
      "Epoch 3033/5000\n"
     ]
    },
    {
     "name": "stdout",
     "output_type": "stream",
     "text": [
      "\r30/30 [==============================] - 0s 0s/sample - loss: 108.3685\n"
     ]
    },
    {
     "name": "stdout",
     "output_type": "stream",
     "text": [
      "Epoch 3034/5000\n\r30/30 [==============================] - 0s 0s/sample - loss: 108.3667\n"
     ]
    },
    {
     "name": "stdout",
     "output_type": "stream",
     "text": [
      "Epoch 3035/5000\n\r30/30 [==============================] - 0s 0s/sample - loss: 108.3648\n"
     ]
    },
    {
     "name": "stdout",
     "output_type": "stream",
     "text": [
      "Epoch 3036/5000\n\r30/30 [==============================] - 0s 0s/sample - loss: 108.3629\n"
     ]
    },
    {
     "name": "stdout",
     "output_type": "stream",
     "text": [
      "Epoch 3037/5000\n\r30/30 [==============================] - 0s 333us/sample - loss: 108.3611\n"
     ]
    },
    {
     "name": "stdout",
     "output_type": "stream",
     "text": [
      "Epoch 3038/5000\n\r30/30 [==============================] - 0s 0s/sample - loss: 108.3593\n"
     ]
    },
    {
     "name": "stdout",
     "output_type": "stream",
     "text": [
      "Epoch 3039/5000\n\r30/30 [==============================] - 0s 0s/sample - loss: 108.3574\n"
     ]
    },
    {
     "name": "stdout",
     "output_type": "stream",
     "text": [
      "Epoch 3040/5000\n\r30/30 [==============================] - 0s 0s/sample - loss: 108.3555\n"
     ]
    },
    {
     "name": "stdout",
     "output_type": "stream",
     "text": [
      "Epoch 3041/5000\n\r30/30 [==============================] - 0s 0s/sample - loss: 108.3537\n"
     ]
    },
    {
     "name": "stdout",
     "output_type": "stream",
     "text": [
      "Epoch 3042/5000\n\r30/30 [==============================] - 0s 0s/sample - loss: 108.3518\n"
     ]
    },
    {
     "name": "stdout",
     "output_type": "stream",
     "text": [
      "Epoch 3043/5000\n\r30/30 [==============================] - 0s 0s/sample - loss: 108.3500\n"
     ]
    },
    {
     "name": "stdout",
     "output_type": "stream",
     "text": [
      "Epoch 3044/5000\n\r30/30 [==============================] - 0s 0s/sample - loss: 108.3482\n"
     ]
    },
    {
     "name": "stdout",
     "output_type": "stream",
     "text": [
      "Epoch 3045/5000\n\r30/30 [==============================] - 0s 0s/sample - loss: 108.3463\n"
     ]
    },
    {
     "name": "stdout",
     "output_type": "stream",
     "text": [
      "Epoch 3046/5000\n\r30/30 [==============================] - 0s 333us/sample - loss: 108.3445\n"
     ]
    },
    {
     "name": "stdout",
     "output_type": "stream",
     "text": [
      "Epoch 3047/5000\n\r30/30 [==============================] - 0s 0s/sample - loss: 108.3426\n"
     ]
    },
    {
     "name": "stdout",
     "output_type": "stream",
     "text": [
      "Epoch 3048/5000\n\r30/30 [==============================] - 0s 0s/sample - loss: 108.3408\n"
     ]
    },
    {
     "name": "stdout",
     "output_type": "stream",
     "text": [
      "Epoch 3049/5000\n\r30/30 [==============================] - 0s 0s/sample - loss: 108.3390\n"
     ]
    },
    {
     "name": "stdout",
     "output_type": "stream",
     "text": [
      "Epoch 3050/5000\n"
     ]
    },
    {
     "name": "stdout",
     "output_type": "stream",
     "text": [
      "\r30/30 [==============================] - 0s 333us/sample - loss: 108.3371\n"
     ]
    },
    {
     "name": "stdout",
     "output_type": "stream",
     "text": [
      "Epoch 3051/5000\n\r30/30 [==============================] - 0s 0s/sample - loss: 108.3353\n"
     ]
    },
    {
     "name": "stdout",
     "output_type": "stream",
     "text": [
      "Epoch 3052/5000\n\r30/30 [==============================] - 0s 0s/sample - loss: 108.3335\n"
     ]
    },
    {
     "name": "stdout",
     "output_type": "stream",
     "text": [
      "Epoch 3053/5000\n\r30/30 [==============================] - 0s 0s/sample - loss: 108.3316\n"
     ]
    },
    {
     "name": "stdout",
     "output_type": "stream",
     "text": [
      "Epoch 3054/5000\n"
     ]
    },
    {
     "name": "stdout",
     "output_type": "stream",
     "text": [
      "\r30/30 [==============================] - 0s 333us/sample - loss: 108.3298\n"
     ]
    },
    {
     "name": "stdout",
     "output_type": "stream",
     "text": [
      "Epoch 3055/5000\n\r30/30 [==============================] - 0s 0s/sample - loss: 108.3279\n"
     ]
    },
    {
     "name": "stdout",
     "output_type": "stream",
     "text": [
      "Epoch 3056/5000\n\r30/30 [==============================] - 0s 0s/sample - loss: 108.3261\n"
     ]
    },
    {
     "name": "stdout",
     "output_type": "stream",
     "text": [
      "Epoch 3057/5000\n\r30/30 [==============================] - 0s 0s/sample - loss: 108.3243\n"
     ]
    },
    {
     "name": "stdout",
     "output_type": "stream",
     "text": [
      "Epoch 3058/5000\n"
     ]
    },
    {
     "name": "stdout",
     "output_type": "stream",
     "text": [
      "\r30/30 [==============================] - 0s 333us/sample - loss: 108.3225\n"
     ]
    },
    {
     "name": "stdout",
     "output_type": "stream",
     "text": [
      "Epoch 3059/5000\n\r30/30 [==============================] - 0s 0s/sample - loss: 108.3207\n"
     ]
    },
    {
     "name": "stdout",
     "output_type": "stream",
     "text": [
      "Epoch 3060/5000\n\r30/30 [==============================] - 0s 0s/sample - loss: 108.3188\n"
     ]
    },
    {
     "name": "stdout",
     "output_type": "stream",
     "text": [
      "Epoch 3061/5000\n\r30/30 [==============================] - 0s 0s/sample - loss: 108.3170\n"
     ]
    },
    {
     "name": "stdout",
     "output_type": "stream",
     "text": [
      "Epoch 3062/5000\n\r30/30 [==============================] - 0s 0s/sample - loss: 108.3152\n"
     ]
    },
    {
     "name": "stdout",
     "output_type": "stream",
     "text": [
      "Epoch 3063/5000\n\r30/30 [==============================] - 0s 0s/sample - loss: 108.3134\n"
     ]
    },
    {
     "name": "stdout",
     "output_type": "stream",
     "text": [
      "Epoch 3064/5000\n\r30/30 [==============================] - 0s 0s/sample - loss: 108.3116\n"
     ]
    },
    {
     "name": "stdout",
     "output_type": "stream",
     "text": [
      "Epoch 3065/5000\n\r30/30 [==============================] - 0s 0s/sample - loss: 108.3098\n"
     ]
    },
    {
     "name": "stdout",
     "output_type": "stream",
     "text": [
      "Epoch 3066/5000\n\r30/30 [==============================] - 0s 0s/sample - loss: 108.3080\n"
     ]
    },
    {
     "name": "stdout",
     "output_type": "stream",
     "text": [
      "Epoch 3067/5000\n\r30/30 [==============================] - 0s 333us/sample - loss: 108.3062\n"
     ]
    },
    {
     "name": "stdout",
     "output_type": "stream",
     "text": [
      "Epoch 3068/5000\n\r30/30 [==============================] - 0s 0s/sample - loss: 108.3043\n"
     ]
    },
    {
     "name": "stdout",
     "output_type": "stream",
     "text": [
      "Epoch 3069/5000\n\r30/30 [==============================] - 0s 0s/sample - loss: 108.3026\n"
     ]
    },
    {
     "name": "stdout",
     "output_type": "stream",
     "text": [
      "Epoch 3070/5000\n\r30/30 [==============================] - 0s 0s/sample - loss: 108.3007\n"
     ]
    },
    {
     "name": "stdout",
     "output_type": "stream",
     "text": [
      "Epoch 3071/5000\n"
     ]
    },
    {
     "name": "stdout",
     "output_type": "stream",
     "text": [
      "\r30/30 [==============================] - 0s 0s/sample - loss: 108.2990\n"
     ]
    },
    {
     "name": "stdout",
     "output_type": "stream",
     "text": [
      "Epoch 3072/5000\n\r30/30 [==============================] - 0s 0s/sample - loss: 108.2971\n"
     ]
    },
    {
     "name": "stdout",
     "output_type": "stream",
     "text": [
      "Epoch 3073/5000\n\r30/30 [==============================] - 0s 0s/sample - loss: 108.2954\n"
     ]
    },
    {
     "name": "stdout",
     "output_type": "stream",
     "text": [
      "Epoch 3074/5000\n\r30/30 [==============================] - 0s 0s/sample - loss: 108.2936\n"
     ]
    },
    {
     "name": "stdout",
     "output_type": "stream",
     "text": [
      "Epoch 3075/5000\n"
     ]
    },
    {
     "name": "stdout",
     "output_type": "stream",
     "text": [
      "\r30/30 [==============================] - 0s 333us/sample - loss: 108.2917\n"
     ]
    },
    {
     "name": "stdout",
     "output_type": "stream",
     "text": [
      "Epoch 3076/5000\n\r30/30 [==============================] - 0s 0s/sample - loss: 108.2900\n"
     ]
    },
    {
     "name": "stdout",
     "output_type": "stream",
     "text": [
      "Epoch 3077/5000\n\r30/30 [==============================] - 0s 0s/sample - loss: 108.2882\n"
     ]
    },
    {
     "name": "stdout",
     "output_type": "stream",
     "text": [
      "Epoch 3078/5000\n\r30/30 [==============================] - 0s 0s/sample - loss: 108.2864\n"
     ]
    },
    {
     "name": "stdout",
     "output_type": "stream",
     "text": [
      "Epoch 3079/5000\n\r30/30 [==============================] - 0s 0s/sample - loss: 108.2846\n"
     ]
    },
    {
     "name": "stdout",
     "output_type": "stream",
     "text": [
      "Epoch 3080/5000\n\r30/30 [==============================] - 0s 333us/sample - loss: 108.2828\n"
     ]
    },
    {
     "name": "stdout",
     "output_type": "stream",
     "text": [
      "Epoch 3081/5000\n\r30/30 [==============================] - 0s 0s/sample - loss: 108.2810\n"
     ]
    },
    {
     "name": "stdout",
     "output_type": "stream",
     "text": [
      "Epoch 3082/5000\n\r30/30 [==============================] - 0s 0s/sample - loss: 108.2792\n"
     ]
    },
    {
     "name": "stdout",
     "output_type": "stream",
     "text": [
      "Epoch 3083/5000\n\r30/30 [==============================] - 0s 0s/sample - loss: 108.2774\n"
     ]
    },
    {
     "name": "stdout",
     "output_type": "stream",
     "text": [
      "Epoch 3084/5000\n"
     ]
    },
    {
     "name": "stdout",
     "output_type": "stream",
     "text": [
      "\r30/30 [==============================] - 0s 333us/sample - loss: 108.2756\n"
     ]
    },
    {
     "name": "stdout",
     "output_type": "stream",
     "text": [
      "Epoch 3085/5000\n\r30/30 [==============================] - 0s 0s/sample - loss: 108.2738\n"
     ]
    },
    {
     "name": "stdout",
     "output_type": "stream",
     "text": [
      "Epoch 3086/5000\n\r30/30 [==============================] - 0s 0s/sample - loss: 108.2721\n"
     ]
    },
    {
     "name": "stdout",
     "output_type": "stream",
     "text": [
      "Epoch 3087/5000\n\r30/30 [==============================] - 0s 0s/sample - loss: 108.2703\n"
     ]
    },
    {
     "name": "stdout",
     "output_type": "stream",
     "text": [
      "Epoch 3088/5000\n\r30/30 [==============================] - 0s 0s/sample - loss: 108.2685\n"
     ]
    },
    {
     "name": "stdout",
     "output_type": "stream",
     "text": [
      "Epoch 3089/5000\n\r30/30 [==============================] - 0s 0s/sample - loss: 108.2668\n"
     ]
    },
    {
     "name": "stdout",
     "output_type": "stream",
     "text": [
      "Epoch 3090/5000\n\r30/30 [==============================] - 0s 0s/sample - loss: 108.2650\n"
     ]
    },
    {
     "name": "stdout",
     "output_type": "stream",
     "text": [
      "Epoch 3091/5000\n\r30/30 [==============================] - 0s 0s/sample - loss: 108.2632\n"
     ]
    },
    {
     "name": "stdout",
     "output_type": "stream",
     "text": [
      "Epoch 3092/5000\n\r30/30 [==============================] - 0s 0s/sample - loss: 108.2614\n"
     ]
    },
    {
     "name": "stdout",
     "output_type": "stream",
     "text": [
      "Epoch 3093/5000\n\r30/30 [==============================] - 0s 333us/sample - loss: 108.2596\n"
     ]
    },
    {
     "name": "stdout",
     "output_type": "stream",
     "text": [
      "Epoch 3094/5000\n\r30/30 [==============================] - 0s 0s/sample - loss: 108.2579\n"
     ]
    },
    {
     "name": "stdout",
     "output_type": "stream",
     "text": [
      "Epoch 3095/5000\n\r30/30 [==============================] - 0s 0s/sample - loss: 108.2561\n"
     ]
    },
    {
     "name": "stdout",
     "output_type": "stream",
     "text": [
      "Epoch 3096/5000\n\r30/30 [==============================] - 0s 0s/sample - loss: 108.2544\n"
     ]
    },
    {
     "name": "stdout",
     "output_type": "stream",
     "text": [
      "Epoch 3097/5000\n\r30/30 [==============================] - 0s 333us/sample - loss: 108.2526\n"
     ]
    },
    {
     "name": "stdout",
     "output_type": "stream",
     "text": [
      "Epoch 3098/5000\n\r30/30 [==============================] - 0s 0s/sample - loss: 108.2508\n"
     ]
    },
    {
     "name": "stdout",
     "output_type": "stream",
     "text": [
      "Epoch 3099/5000\n\r30/30 [==============================] - 0s 0s/sample - loss: 108.2490\n"
     ]
    },
    {
     "name": "stdout",
     "output_type": "stream",
     "text": [
      "Epoch 3100/5000\n\r30/30 [==============================] - 0s 0s/sample - loss: 108.2473\n"
     ]
    },
    {
     "name": "stdout",
     "output_type": "stream",
     "text": [
      "Epoch 3101/5000\n\r30/30 [==============================]"
     ]
    },
    {
     "name": "stdout",
     "output_type": "stream",
     "text": [
      " - 0s 0s/sample - loss: 108.2455\n"
     ]
    },
    {
     "name": "stdout",
     "output_type": "stream",
     "text": [
      "Epoch 3102/5000\n\r30/30 [==============================] - 0s 0s/sample - loss: 108.2438\n"
     ]
    },
    {
     "name": "stdout",
     "output_type": "stream",
     "text": [
      "Epoch 3103/5000\n\r30/30 [==============================] - 0s 0s/sample - loss: 108.2420\n"
     ]
    },
    {
     "name": "stdout",
     "output_type": "stream",
     "text": [
      "Epoch 3104/5000\n\r30/30 [==============================] - 0s 0s/sample - loss: 108.2402\n"
     ]
    },
    {
     "name": "stdout",
     "output_type": "stream",
     "text": [
      "Epoch 3105/5000\n\r30/30 [==============================] - 0s 0s/sample - loss: 108.2385\n"
     ]
    },
    {
     "name": "stdout",
     "output_type": "stream",
     "text": [
      "Epoch 3106/5000\n\r30/30 [==============================] - 0s 333us/sample - loss: 108.2367\n"
     ]
    },
    {
     "name": "stdout",
     "output_type": "stream",
     "text": [
      "Epoch 3107/5000\n\r30/30 [==============================] - 0s 0s/sample - loss: 108.2350\n"
     ]
    },
    {
     "name": "stdout",
     "output_type": "stream",
     "text": [
      "Epoch 3108/5000\n\r30/30 [==============================] - 0s 0s/sample - loss: 108.2332\n"
     ]
    },
    {
     "name": "stdout",
     "output_type": "stream",
     "text": [
      "Epoch 3109/5000\n\r30/30 [==============================] - 0s 0s/sample - loss: 108.2315\n"
     ]
    },
    {
     "name": "stdout",
     "output_type": "stream",
     "text": [
      "Epoch 3110/5000\n"
     ]
    },
    {
     "name": "stdout",
     "output_type": "stream",
     "text": [
      "\r30/30 [==============================] - 0s 333us/sample - loss: 108.2297\n"
     ]
    },
    {
     "name": "stdout",
     "output_type": "stream",
     "text": [
      "Epoch 3111/5000\n\r30/30 [==============================] - 0s 0s/sample - loss: 108.2279\n"
     ]
    },
    {
     "name": "stdout",
     "output_type": "stream",
     "text": [
      "Epoch 3112/5000\n\r30/30 [==============================] - 0s 0s/sample - loss: 108.2262\n"
     ]
    },
    {
     "name": "stdout",
     "output_type": "stream",
     "text": [
      "Epoch 3113/5000\n\r30/30 [==============================] - 0s 0s/sample - loss: 108.2244\n"
     ]
    },
    {
     "name": "stdout",
     "output_type": "stream",
     "text": [
      "Epoch 3114/5000\n\r30/30 [==============================] - 0s 0s/sample - loss: 108.2227\n"
     ]
    },
    {
     "name": "stdout",
     "output_type": "stream",
     "text": [
      "Epoch 3115/5000\n\r30/30 [==============================] - 0s 0s/sample - loss: 108.2209\n"
     ]
    },
    {
     "name": "stdout",
     "output_type": "stream",
     "text": [
      "Epoch 3116/5000\n\r30/30 [==============================] - 0s 0s/sample - loss: 108.2192\n"
     ]
    },
    {
     "name": "stdout",
     "output_type": "stream",
     "text": [
      "Epoch 3117/5000\n\r30/30 [==============================] - 0s 0s/sample - loss: 108.2174\n"
     ]
    },
    {
     "name": "stdout",
     "output_type": "stream",
     "text": [
      "Epoch 3118/5000\n\r30/30 [==============================] - 0s 0s/sample - loss: 108.2157\n"
     ]
    },
    {
     "name": "stdout",
     "output_type": "stream",
     "text": [
      "Epoch 3119/5000"
     ]
    },
    {
     "name": "stdout",
     "output_type": "stream",
     "text": [
      "\n\r30/30 [==============================] - 0s 333us/sample - loss: 108.2140\n"
     ]
    },
    {
     "name": "stdout",
     "output_type": "stream",
     "text": [
      "Epoch 3120/5000\n\r30/30 [==============================] - 0s 0s/sample - loss: 108.2122\n"
     ]
    },
    {
     "name": "stdout",
     "output_type": "stream",
     "text": [
      "Epoch 3121/5000\n\r30/30 [==============================] - 0s 0s/sample - loss: 108.2105\n"
     ]
    },
    {
     "name": "stdout",
     "output_type": "stream",
     "text": [
      "Epoch 3122/5000\n\r30/30 [==============================] - 0s 0s/sample - loss: 108.2087\n"
     ]
    },
    {
     "name": "stdout",
     "output_type": "stream",
     "text": [
      "Epoch 3123/5000\n"
     ]
    },
    {
     "name": "stdout",
     "output_type": "stream",
     "text": [
      "\r30/30 [==============================] - 0s 333us/sample - loss: 108.2070\n"
     ]
    },
    {
     "name": "stdout",
     "output_type": "stream",
     "text": [
      "Epoch 3124/5000\n\r30/30 [==============================] - 0s 0s/sample - loss: 108.2052\n"
     ]
    },
    {
     "name": "stdout",
     "output_type": "stream",
     "text": [
      "Epoch 3125/5000\n\r30/30 [==============================] - 0s 0s/sample - loss: 108.2035\n"
     ]
    },
    {
     "name": "stdout",
     "output_type": "stream",
     "text": [
      "Epoch 3126/5000\n\r30/30 [==============================] - 0s 0s/sample - loss: 108.2018\n"
     ]
    },
    {
     "name": "stdout",
     "output_type": "stream",
     "text": [
      "Epoch 3127/5000\n"
     ]
    },
    {
     "name": "stdout",
     "output_type": "stream",
     "text": [
      "\r30/30 [==============================] - 0s 333us/sample - loss: 108.2000\n"
     ]
    },
    {
     "name": "stdout",
     "output_type": "stream",
     "text": [
      "Epoch 3128/5000\n\r30/30 [==============================] - 0s 0s/sample - loss: 108.1983\n"
     ]
    },
    {
     "name": "stdout",
     "output_type": "stream",
     "text": [
      "Epoch 3129/5000\n\r30/30 [==============================] - 0s 0s/sample - loss: 108.1965\n"
     ]
    },
    {
     "name": "stdout",
     "output_type": "stream",
     "text": [
      "Epoch 3130/5000\n\r30/30 [==============================] - 0s 0s/sample - loss: 108.1948\n"
     ]
    },
    {
     "name": "stdout",
     "output_type": "stream",
     "text": [
      "Epoch 3131/5000\n\r30/30 [==============================] - 0s 333us/sample - loss: 108.1931\n"
     ]
    },
    {
     "name": "stdout",
     "output_type": "stream",
     "text": [
      "Epoch 3132/5000\n\r30/30 [==============================] - 0s 0s/sample - loss: 108.1913\n"
     ]
    },
    {
     "name": "stdout",
     "output_type": "stream",
     "text": [
      "Epoch 3133/5000\n\r30/30 [==============================] - 0s 0s/sample - loss: 108.1896\n"
     ]
    },
    {
     "name": "stdout",
     "output_type": "stream",
     "text": [
      "Epoch 3134/5000\n\r30/30 [==============================] - 0s 0s/sample - loss: 108.1879\n"
     ]
    },
    {
     "name": "stdout",
     "output_type": "stream",
     "text": [
      "Epoch 3135/5000\n\r30/30 [==============================] - 0s 0s/sample - loss: 108.1862\n"
     ]
    },
    {
     "name": "stdout",
     "output_type": "stream",
     "text": [
      "Epoch 3136/5000\n\r30/30 [==============================] - 0s 0s/sample - loss: 108.1844\n"
     ]
    },
    {
     "name": "stdout",
     "output_type": "stream",
     "text": [
      "Epoch 3137/5000\n\r30/30 [==============================] - 0s 0s/sample - loss: 108.1827\n"
     ]
    },
    {
     "name": "stdout",
     "output_type": "stream",
     "text": [
      "Epoch 3138/5000\n\r30/30 [==============================] - 0s 0s/sample - loss: 108.1810\n"
     ]
    },
    {
     "name": "stdout",
     "output_type": "stream",
     "text": [
      "Epoch 3139/5000\n\r30/30 [==============================] - 0s 0s/sample - loss: 108.1792\n"
     ]
    },
    {
     "name": "stdout",
     "output_type": "stream",
     "text": [
      "Epoch 3140/5000\n\r30/30 [==============================] - 0s 333us/sample - loss: 108.1776\n"
     ]
    },
    {
     "name": "stdout",
     "output_type": "stream",
     "text": [
      "Epoch 3141/5000\n\r30/30 [==============================] - 0s 0s/sample - loss: 108.1758\n"
     ]
    },
    {
     "name": "stdout",
     "output_type": "stream",
     "text": [
      "Epoch 3142/5000\n\r30/30 [==============================] - 0s 0s/sample - loss: 108.1741\n"
     ]
    },
    {
     "name": "stdout",
     "output_type": "stream",
     "text": [
      "Epoch 3143/5000\n\r30/30 [==============================] - 0s 0s/sample - loss: 108.1723\n"
     ]
    },
    {
     "name": "stdout",
     "output_type": "stream",
     "text": [
      "Epoch 3144/5000\n"
     ]
    },
    {
     "name": "stdout",
     "output_type": "stream",
     "text": [
      "\r30/30 [==============================] - 0s 333us/sample - loss: 108.1706\n"
     ]
    },
    {
     "name": "stdout",
     "output_type": "stream",
     "text": [
      "Epoch 3145/5000\n\r30/30 [==============================] - 0s 0s/sample - loss: 108.1689\n"
     ]
    },
    {
     "name": "stdout",
     "output_type": "stream",
     "text": [
      "Epoch 3146/5000\n\r30/30 [==============================] - 0s 0s/sample - loss: 108.1672\n"
     ]
    },
    {
     "name": "stdout",
     "output_type": "stream",
     "text": [
      "Epoch 3147/5000\n\r30/30 [==============================] - 0s 0s/sample - loss: 108.1655\n"
     ]
    },
    {
     "name": "stdout",
     "output_type": "stream",
     "text": [
      "Epoch 3148/5000\n"
     ]
    },
    {
     "name": "stdout",
     "output_type": "stream",
     "text": [
      "\r30/30 [==============================] - 0s 0s/sample - loss: 108.1637\n"
     ]
    },
    {
     "name": "stdout",
     "output_type": "stream",
     "text": [
      "Epoch 3149/5000\n\r30/30 [==============================] - 0s 0s/sample - loss: 108.1620\n"
     ]
    },
    {
     "name": "stdout",
     "output_type": "stream",
     "text": [
      "Epoch 3150/5000\n\r30/30 [==============================] - 0s 0s/sample - loss: 108.1603\n"
     ]
    },
    {
     "name": "stdout",
     "output_type": "stream",
     "text": [
      "Epoch 3151/5000\n\r30/30 [==============================] - 0s 0s/sample - loss: 108.1586\n"
     ]
    },
    {
     "name": "stdout",
     "output_type": "stream",
     "text": [
      "Epoch 3152/5000\n\r30/30 [==============================] - 0s 0s/sample - loss: 108.1569\n"
     ]
    },
    {
     "name": "stdout",
     "output_type": "stream",
     "text": [
      "Epoch 3153/5000\n\r30/30 [==============================] - 0s 333us/sample - loss: 108.1551\n"
     ]
    },
    {
     "name": "stdout",
     "output_type": "stream",
     "text": [
      "Epoch 3154/5000\n\r30/30 [==============================] - 0s 0s/sample - loss: 108.1534\n"
     ]
    },
    {
     "name": "stdout",
     "output_type": "stream",
     "text": [
      "Epoch 3155/5000\n\r30/30 [==============================] - 0s 0s/sample - loss: 108.1517\n"
     ]
    },
    {
     "name": "stdout",
     "output_type": "stream",
     "text": [
      "Epoch 3156/5000\n\r30/30 [==============================] - 0s 0s/sample - loss: 108.1500\n"
     ]
    },
    {
     "name": "stdout",
     "output_type": "stream",
     "text": [
      "Epoch 3157/5000\n\r30/30 [==============================] - 0s 333us/sample - loss: 108.1483\n"
     ]
    },
    {
     "name": "stdout",
     "output_type": "stream",
     "text": [
      "Epoch 3158/5000\n\r30/30 [==============================] - 0s 0s/sample - loss: 108.1466\n"
     ]
    },
    {
     "name": "stdout",
     "output_type": "stream",
     "text": [
      "Epoch 3159/5000\n\r30/30 [==============================] - 0s 0s/sample - loss: 108.1449\n"
     ]
    },
    {
     "name": "stdout",
     "output_type": "stream",
     "text": [
      "Epoch 3160/5000\n\r30/30 [==============================] - 0s 0s/sample - loss: 108.1432\n"
     ]
    },
    {
     "name": "stdout",
     "output_type": "stream",
     "text": [
      "Epoch 3161/5000\n"
     ]
    },
    {
     "name": "stdout",
     "output_type": "stream",
     "text": [
      "\r30/30 [==============================] - 0s 333us/sample - loss: 108.1415\n"
     ]
    },
    {
     "name": "stdout",
     "output_type": "stream",
     "text": [
      "Epoch 3162/5000\n\r30/30 [==============================] - 0s 0s/sample - loss: 108.1398\n"
     ]
    },
    {
     "name": "stdout",
     "output_type": "stream",
     "text": [
      "Epoch 3163/5000\n\r30/30 [==============================] - 0s 0s/sample - loss: 108.1380\n"
     ]
    },
    {
     "name": "stdout",
     "output_type": "stream",
     "text": [
      "Epoch 3164/5000\n\r30/30 [==============================] - 0s 0s/sample - loss: 108.1364\n"
     ]
    },
    {
     "name": "stdout",
     "output_type": "stream",
     "text": [
      "Epoch 3165/5000\n"
     ]
    },
    {
     "name": "stdout",
     "output_type": "stream",
     "text": [
      "\r30/30 [==============================] - 0s 333us/sample - loss: 108.1346\n"
     ]
    },
    {
     "name": "stdout",
     "output_type": "stream",
     "text": [
      "Epoch 3166/5000\n\r30/30 [==============================] - 0s 0s/sample - loss: 108.1329\n"
     ]
    },
    {
     "name": "stdout",
     "output_type": "stream",
     "text": [
      "Epoch 3167/5000\n\r30/30 [==============================] - 0s 0s/sample - loss: 108.1312\n"
     ]
    },
    {
     "name": "stdout",
     "output_type": "stream",
     "text": [
      "Epoch 3168/5000\n\r30/30 [==============================] - 0s 0s/sample - loss: 108.1295\n"
     ]
    },
    {
     "name": "stdout",
     "output_type": "stream",
     "text": [
      "Epoch 3169/5000\n\r30/30 [==============================] - 0s 0s/sample - loss: 108.1278\n"
     ]
    },
    {
     "name": "stdout",
     "output_type": "stream",
     "text": [
      "Epoch 3170/5000\n\r30/30 [==============================] - 0s 0s/sample - loss: 108.1261\n"
     ]
    },
    {
     "name": "stdout",
     "output_type": "stream",
     "text": [
      "Epoch 3171/5000\n\r30/30 [==============================] - 0s 0s/sample - loss: 108.1244\n"
     ]
    },
    {
     "name": "stdout",
     "output_type": "stream",
     "text": [
      "Epoch 3172/5000\n\r30/30 [==============================] - 0s 0s/sample - loss: 108.1227\n"
     ]
    },
    {
     "name": "stdout",
     "output_type": "stream",
     "text": [
      "Epoch 3173/5000\n\r30/30 [==============================] - 0s 0s/sample - loss: 108.1210\n"
     ]
    },
    {
     "name": "stdout",
     "output_type": "stream",
     "text": [
      "Epoch 3174/5000\n"
     ]
    },
    {
     "name": "stdout",
     "output_type": "stream",
     "text": [
      "\r30/30 [==============================] - 0s 333us/sample - loss: 108.1193\n"
     ]
    },
    {
     "name": "stdout",
     "output_type": "stream",
     "text": [
      "Epoch 3175/5000\n\r30/30 [==============================] - 0s 0s/sample - loss: 108.1175\n"
     ]
    },
    {
     "name": "stdout",
     "output_type": "stream",
     "text": [
      "Epoch 3176/5000\n\r30/30 [==============================] - 0s 0s/sample - loss: 108.1159\n"
     ]
    },
    {
     "name": "stdout",
     "output_type": "stream",
     "text": [
      "Epoch 3177/5000\n\r30/30 [==============================] - 0s 0s/sample - loss: 108.1142\n"
     ]
    },
    {
     "name": "stdout",
     "output_type": "stream",
     "text": [
      "Epoch 3178/5000\n\r30/30 [==============================] - 0s 0s/sample - loss: 108.1125\n"
     ]
    },
    {
     "name": "stdout",
     "output_type": "stream",
     "text": [
      "Epoch 3179/5000\n\r30/30 [==============================] - 0s 0s/sample - loss: 108.1108\n"
     ]
    },
    {
     "name": "stdout",
     "output_type": "stream",
     "text": [
      "Epoch 3180/5000\n\r30/30 [==============================] - 0s 0s/sample - loss: 108.1091\n"
     ]
    },
    {
     "name": "stdout",
     "output_type": "stream",
     "text": [
      "Epoch 3181/5000\n\r30/30 [==============================] - 0s 0s/sample - loss: 108.1074\n"
     ]
    },
    {
     "name": "stdout",
     "output_type": "stream",
     "text": [
      "Epoch 3182/5000\n"
     ]
    },
    {
     "name": "stdout",
     "output_type": "stream",
     "text": [
      "\r30/30 [==============================] - 0s 333us/sample - loss: 108.1057\n"
     ]
    },
    {
     "name": "stdout",
     "output_type": "stream",
     "text": [
      "Epoch 3183/5000\n\r30/30 [==============================] - 0s 0s/sample - loss: 108.1040\n"
     ]
    },
    {
     "name": "stdout",
     "output_type": "stream",
     "text": [
      "Epoch 3184/5000\n\r30/30 [==============================] - 0s 0s/sample - loss: 108.1023\n"
     ]
    },
    {
     "name": "stdout",
     "output_type": "stream",
     "text": [
      "Epoch 3185/5000\n\r30/30 [==============================] - 0s 0s/sample - loss: 108.1006\n"
     ]
    },
    {
     "name": "stdout",
     "output_type": "stream",
     "text": [
      "Epoch 3186/5000\n\r30/30 [==============================] - 0s 0s/sample - loss: 108.0989\n"
     ]
    },
    {
     "name": "stdout",
     "output_type": "stream",
     "text": [
      "Epoch 3187/5000\n\r30/30 [==============================] - 0s 0s/sample - loss: 108.0972\n"
     ]
    },
    {
     "name": "stdout",
     "output_type": "stream",
     "text": [
      "Epoch 3188/5000\n\r30/30 [==============================] - 0s 0s/sample - loss: 108.0955\n"
     ]
    },
    {
     "name": "stdout",
     "output_type": "stream",
     "text": [
      "Epoch 3189/5000\n\r30/30 [==============================] - 0s 0s/sample - loss: 108.0938\n"
     ]
    },
    {
     "name": "stdout",
     "output_type": "stream",
     "text": [
      "Epoch 3190/5000\n\r30/30 [==============================] - 0s 0s/sample - loss: 108.0921\n"
     ]
    },
    {
     "name": "stdout",
     "output_type": "stream",
     "text": [
      "Epoch 3191/5000\n"
     ]
    },
    {
     "name": "stdout",
     "output_type": "stream",
     "text": [
      "\r30/30 [==============================] - 0s 333us/sample - loss: 108.0904\n"
     ]
    },
    {
     "name": "stdout",
     "output_type": "stream",
     "text": [
      "Epoch 3192/5000\n\r30/30 [==============================] - 0s 0s/sample - loss: 108.0887\n"
     ]
    },
    {
     "name": "stdout",
     "output_type": "stream",
     "text": [
      "Epoch 3193/5000\n\r30/30 [==============================] - 0s 0s/sample - loss: 108.0870\n"
     ]
    },
    {
     "name": "stdout",
     "output_type": "stream",
     "text": [
      "Epoch 3194/5000\n\r30/30 [==============================] - 0s 0s/sample - loss: 108.0853\n"
     ]
    },
    {
     "name": "stdout",
     "output_type": "stream",
     "text": [
      "Epoch 3195/5000\n\r30/30 [==============================] - 0s 0s/sample - loss: 108.0837\n"
     ]
    },
    {
     "name": "stdout",
     "output_type": "stream",
     "text": [
      "Epoch 3196/5000\n\r30/30 [==============================] - 0s 0s/sample - loss: 108.0820\n"
     ]
    },
    {
     "name": "stdout",
     "output_type": "stream",
     "text": [
      "Epoch 3197/5000\n\r30/30 [==============================] - 0s 0s/sample - loss: 108.0803\n"
     ]
    },
    {
     "name": "stdout",
     "output_type": "stream",
     "text": [
      "Epoch 3198/5000\n\r30/30 [==============================] - 0s 0s/sample - loss: 108.0786\n"
     ]
    },
    {
     "name": "stdout",
     "output_type": "stream",
     "text": [
      "Epoch 3199/5000\n\r30/30 [==============================] - 0s 0s/sample - loss: 108.0769\n"
     ]
    },
    {
     "name": "stdout",
     "output_type": "stream",
     "text": [
      "Epoch 3200/5000\n\r30/30 [==============================] - 0s 333us/sample - loss: 108.0752\n"
     ]
    },
    {
     "name": "stdout",
     "output_type": "stream",
     "text": [
      "Epoch 3201/5000\n\r30/30 [==============================] - 0s 0s/sample - loss: 108.0735\n"
     ]
    },
    {
     "name": "stdout",
     "output_type": "stream",
     "text": [
      "Epoch 3202/5000\n\r30/30 [==============================] - 0s 0s/sample - loss: 108.0718\n"
     ]
    },
    {
     "name": "stdout",
     "output_type": "stream",
     "text": [
      "Epoch 3203/5000\n\r30/30 [==============================] - 0s 0s/sample - loss: 108.0701\n"
     ]
    },
    {
     "name": "stdout",
     "output_type": "stream",
     "text": [
      "Epoch 3204/5000\n\r30/30 [==============================] - 0s 0s/sample - loss: 108.0684\n"
     ]
    },
    {
     "name": "stdout",
     "output_type": "stream",
     "text": [
      "Epoch 3205/5000\n\r30/30 [==============================] - 0s 0s/sample - loss: 108.0667\n"
     ]
    },
    {
     "name": "stdout",
     "output_type": "stream",
     "text": [
      "Epoch 3206/5000\n\r30/30 [==============================] - 0s 0s/sample - loss: 108.0650\n"
     ]
    },
    {
     "name": "stdout",
     "output_type": "stream",
     "text": [
      "Epoch 3207/5000\n\r30/30 [==============================] - 0s 0s/sample - loss: 108.0634\n"
     ]
    },
    {
     "name": "stdout",
     "output_type": "stream",
     "text": [
      "Epoch 3208/5000\n\r30/30 [==============================] - 0s 0s/sample - loss: 108.0617\n"
     ]
    },
    {
     "name": "stdout",
     "output_type": "stream",
     "text": [
      "Epoch 3209/5000\n"
     ]
    },
    {
     "name": "stdout",
     "output_type": "stream",
     "text": [
      "\r30/30 [==============================] - 0s 333us/sample - loss: 108.0600\n"
     ]
    },
    {
     "name": "stdout",
     "output_type": "stream",
     "text": [
      "Epoch 3210/5000\n\r30/30 [==============================] - 0s 0s/sample - loss: 108.0583\n"
     ]
    },
    {
     "name": "stdout",
     "output_type": "stream",
     "text": [
      "Epoch 3211/5000\n\r30/30 [==============================] - 0s 0s/sample - loss: 108.0566\n"
     ]
    },
    {
     "name": "stdout",
     "output_type": "stream",
     "text": [
      "Epoch 3212/5000\n\r30/30 [==============================] - 0s 0s/sample - loss: 108.0549\n"
     ]
    },
    {
     "name": "stdout",
     "output_type": "stream",
     "text": [
      "Epoch 3213/5000\n\r30/30 [==============================] - 0s 0s/sample - loss: 108.0533\n"
     ]
    },
    {
     "name": "stdout",
     "output_type": "stream",
     "text": [
      "Epoch 3214/5000\n"
     ]
    },
    {
     "name": "stdout",
     "output_type": "stream",
     "text": [
      "\r30/30 [==============================] - 0s 333us/sample - loss: 108.0516\n"
     ]
    },
    {
     "name": "stdout",
     "output_type": "stream",
     "text": [
      "Epoch 3215/5000\n\r30/30 [==============================] - 0s 0s/sample - loss: 108.0499\n"
     ]
    },
    {
     "name": "stdout",
     "output_type": "stream",
     "text": [
      "Epoch 3216/5000\n\r30/30 [==============================] - 0s 0s/sample - loss: 108.0482\n"
     ]
    },
    {
     "name": "stdout",
     "output_type": "stream",
     "text": [
      "Epoch 3217/5000\n\r30/30 [==============================] - 0s 0s/sample - loss: 108.0465\n"
     ]
    },
    {
     "name": "stdout",
     "output_type": "stream",
     "text": [
      "Epoch 3218/5000\n\r30/30 [==============================] - 0s 0s/sample - loss: 108.0448\n"
     ]
    },
    {
     "name": "stdout",
     "output_type": "stream",
     "text": [
      "Epoch 3219/5000\n"
     ]
    },
    {
     "name": "stdout",
     "output_type": "stream",
     "text": [
      "\r30/30 [==============================] - 0s 333us/sample - loss: 108.0432\n"
     ]
    },
    {
     "name": "stdout",
     "output_type": "stream",
     "text": [
      "Epoch 3220/5000\n\r30/30 [==============================] - 0s 0s/sample - loss: 108.0415\n"
     ]
    },
    {
     "name": "stdout",
     "output_type": "stream",
     "text": [
      "Epoch 3221/5000\n\r30/30 [==============================] - 0s 0s/sample - loss: 108.0398\n"
     ]
    },
    {
     "name": "stdout",
     "output_type": "stream",
     "text": [
      "Epoch 3222/5000\n\r30/30 [==============================] - 0s 0s/sample - loss: 108.0381\n"
     ]
    },
    {
     "name": "stdout",
     "output_type": "stream",
     "text": [
      "Epoch 3223/5000\n\r30/30 [==============================] - 0s 0s/sample - loss: 108.0364\n"
     ]
    },
    {
     "name": "stdout",
     "output_type": "stream",
     "text": [
      "Epoch 3224/5000\n\r30/30 [==============================] - 0s 333us/sample - loss: 108.0347\n"
     ]
    },
    {
     "name": "stdout",
     "output_type": "stream",
     "text": [
      "Epoch 3225/5000\n\r30/30 [==============================] - 0s 0s/sample - loss: 108.0331\n"
     ]
    },
    {
     "name": "stdout",
     "output_type": "stream",
     "text": [
      "Epoch 3226/5000\n\r30/30 [==============================] - 0s 0s/sample - loss: 108.0314\n"
     ]
    },
    {
     "name": "stdout",
     "output_type": "stream",
     "text": [
      "Epoch 3227/5000\n\r30/30 [==============================] - 0s 0s/sample - loss: 108.0297\n"
     ]
    },
    {
     "name": "stdout",
     "output_type": "stream",
     "text": [
      "Epoch 3228/5000\n\r30/30 [==============================] - 0s 0s/sample - loss: 108.0280\n"
     ]
    },
    {
     "name": "stdout",
     "output_type": "stream",
     "text": [
      "Epoch 3229/5000\n\r30/30 [==============================] - 0s 0s/sample - loss: 108.0263\n"
     ]
    },
    {
     "name": "stdout",
     "output_type": "stream",
     "text": [
      "Epoch 3230/5000\n\r30/30 [==============================] - 0s 0s/sample - loss: 108.0247\n"
     ]
    },
    {
     "name": "stdout",
     "output_type": "stream",
     "text": [
      "Epoch 3231/5000\n\r30/30 [==============================] - 0s 0s/sample - loss: 108.0230\n"
     ]
    },
    {
     "name": "stdout",
     "output_type": "stream",
     "text": [
      "Epoch 3232/5000\n\r30/30 [==============================] - 0s 0s/sample - loss: 108.0213\n"
     ]
    },
    {
     "name": "stdout",
     "output_type": "stream",
     "text": [
      "Epoch 3233/5000\n"
     ]
    },
    {
     "name": "stdout",
     "output_type": "stream",
     "text": [
      "\r30/30 [==============================] - 0s 333us/sample - loss: 108.0196\n"
     ]
    },
    {
     "name": "stdout",
     "output_type": "stream",
     "text": [
      "Epoch 3234/5000\n\r30/30 [==============================] - 0s 0s/sample - loss: 108.0179\n"
     ]
    },
    {
     "name": "stdout",
     "output_type": "stream",
     "text": [
      "Epoch 3235/5000\n\r30/30 [==============================] - 0s 0s/sample - loss: 108.0163\n"
     ]
    },
    {
     "name": "stdout",
     "output_type": "stream",
     "text": [
      "Epoch 3236/5000\n\r30/30 [==============================] - 0s 0s/sample - loss: 108.0146\n"
     ]
    },
    {
     "name": "stdout",
     "output_type": "stream",
     "text": [
      "Epoch 3237/5000\n\r30/30 [==============================] - 0s 0s/sample - loss: 108.0129\n"
     ]
    },
    {
     "name": "stdout",
     "output_type": "stream",
     "text": [
      "Epoch 3238/5000\n\r30/30 [==============================] - 0s 333us/sample - loss: 108.0112\n"
     ]
    },
    {
     "name": "stdout",
     "output_type": "stream",
     "text": [
      "Epoch 3239/5000\n\r30/30 [==============================] - 0s 0s/sample - loss: 108.0095\n"
     ]
    },
    {
     "name": "stdout",
     "output_type": "stream",
     "text": [
      "Epoch 3240/5000\n\r30/30 [==============================] - 0s 0s/sample - loss: 108.0079\n"
     ]
    },
    {
     "name": "stdout",
     "output_type": "stream",
     "text": [
      "Epoch 3241/5000\n\r30/30 [==============================] - 0s 0s/sample - loss: 108.0062\n"
     ]
    },
    {
     "name": "stdout",
     "output_type": "stream",
     "text": [
      "Epoch 3242/5000\n"
     ]
    },
    {
     "name": "stdout",
     "output_type": "stream",
     "text": [
      "\r30/30 [==============================] - 0s 333us/sample - loss: 108.0045\n"
     ]
    },
    {
     "name": "stdout",
     "output_type": "stream",
     "text": [
      "Epoch 3243/5000\n\r30/30 [==============================] - 0s 0s/sample - loss: 108.0028\n"
     ]
    },
    {
     "name": "stdout",
     "output_type": "stream",
     "text": [
      "Epoch 3244/5000\n\r30/30 [==============================] - 0s 0s/sample - loss: 108.0011\n"
     ]
    },
    {
     "name": "stdout",
     "output_type": "stream",
     "text": [
      "Epoch 3245/5000\n\r30/30 [==============================] - 0s 0s/sample - loss: 107.9995\n"
     ]
    },
    {
     "name": "stdout",
     "output_type": "stream",
     "text": [
      "Epoch 3246/5000\n\r30/30 [==============================] - 0s 0s/sample - loss: 107.9978\n"
     ]
    },
    {
     "name": "stdout",
     "output_type": "stream",
     "text": [
      "Epoch 3247/5000\n\r30/30 [==============================] - 0s 0s/sample - loss: 107.9961\n"
     ]
    },
    {
     "name": "stdout",
     "output_type": "stream",
     "text": [
      "Epoch 3248/5000\n\r30/30 [==============================] - 0s 0s/sample - loss: 107.9944\n"
     ]
    },
    {
     "name": "stdout",
     "output_type": "stream",
     "text": [
      "Epoch 3249/5000\n\r30/30 [==============================] - 0s 0s/sample - loss: 107.9928\n"
     ]
    },
    {
     "name": "stdout",
     "output_type": "stream",
     "text": [
      "Epoch 3250/5000\n\r30/30 [==============================] - 0s 0s/sample - loss: 107.9911\n"
     ]
    },
    {
     "name": "stdout",
     "output_type": "stream",
     "text": [
      "Epoch 3251/5000\n\r30/30 [==============================] - 0s 333us/sample - loss: 107.9894\n"
     ]
    },
    {
     "name": "stdout",
     "output_type": "stream",
     "text": [
      "Epoch 3252/5000\n\r30/30 [==============================] - 0s 0s/sample - loss: 107.9877\n"
     ]
    },
    {
     "name": "stdout",
     "output_type": "stream",
     "text": [
      "Epoch 3253/5000\n\r30/30 [==============================] - 0s 0s/sample - loss: 107.9861\n"
     ]
    },
    {
     "name": "stdout",
     "output_type": "stream",
     "text": [
      "Epoch 3254/5000\n\r30/30 [==============================] - 0s 0s/sample - loss: 107.9844\n"
     ]
    },
    {
     "name": "stdout",
     "output_type": "stream",
     "text": [
      "Epoch 3255/5000\n"
     ]
    },
    {
     "name": "stdout",
     "output_type": "stream",
     "text": [
      "\r30/30 [==============================] - 0s 333us/sample - loss: 107.9827\n"
     ]
    },
    {
     "name": "stdout",
     "output_type": "stream",
     "text": [
      "Epoch 3256/5000\n\r30/30 [==============================] - 0s 0s/sample - loss: 107.9810\n"
     ]
    },
    {
     "name": "stdout",
     "output_type": "stream",
     "text": [
      "Epoch 3257/5000\n\r30/30 [==============================] - 0s 0s/sample - loss: 107.9794\n"
     ]
    },
    {
     "name": "stdout",
     "output_type": "stream",
     "text": [
      "Epoch 3258/5000\n\r30/30 [==============================] - 0s 0s/sample - loss: 107.9777\n"
     ]
    },
    {
     "name": "stdout",
     "output_type": "stream",
     "text": [
      "Epoch 3259/5000\n"
     ]
    },
    {
     "name": "stdout",
     "output_type": "stream",
     "text": [
      "\r30/30 [==============================] - 0s 0s/sample - loss: 107.9760\n"
     ]
    },
    {
     "name": "stdout",
     "output_type": "stream",
     "text": [
      "Epoch 3260/5000\n\r30/30 [==============================] - 0s 0s/sample - loss: 107.9743\n"
     ]
    },
    {
     "name": "stdout",
     "output_type": "stream",
     "text": [
      "Epoch 3261/5000\n\r30/30 [==============================] - 0s 0s/sample - loss: 107.9726\n"
     ]
    },
    {
     "name": "stdout",
     "output_type": "stream",
     "text": [
      "Epoch 3262/5000\n\r30/30 [==============================] - 0s 0s/sample - loss: 107.9710\n"
     ]
    },
    {
     "name": "stdout",
     "output_type": "stream",
     "text": [
      "Epoch 3263/5000\n\r30/30 [==============================] - 0s 0s/sample - loss: 107.9693\n"
     ]
    },
    {
     "name": "stdout",
     "output_type": "stream",
     "text": [
      "Epoch 3264/5000\n\r30/30 [==============================] - 0s 0s/sample - loss: 107.9676\n"
     ]
    },
    {
     "name": "stdout",
     "output_type": "stream",
     "text": [
      "Epoch 3265/5000\n\r30/30 [==============================] - 0s 0s/sample - loss: 107.9659\n"
     ]
    },
    {
     "name": "stdout",
     "output_type": "stream",
     "text": [
      "Epoch 3266/5000\n\r30/30 [==============================] - 0s 0s/sample - loss: 107.9642\n"
     ]
    },
    {
     "name": "stdout",
     "output_type": "stream",
     "text": [
      "Epoch 3267/5000\n\r30/30 [==============================] - 0s 0s/sample - loss: 107.9626\n"
     ]
    },
    {
     "name": "stdout",
     "output_type": "stream",
     "text": [
      "Epoch 3268/5000\n\r30/30 [==============================] - 0s 333us/sample - loss: 107.9609\n"
     ]
    },
    {
     "name": "stdout",
     "output_type": "stream",
     "text": [
      "Epoch 3269/5000\n\r30/30 [==============================] - 0s 0s/sample - loss: 107.9593\n"
     ]
    },
    {
     "name": "stdout",
     "output_type": "stream",
     "text": [
      "Epoch 3270/5000\n\r30/30 [==============================] - 0s 0s/sample - loss: 107.9576\n"
     ]
    },
    {
     "name": "stdout",
     "output_type": "stream",
     "text": [
      "Epoch 3271/5000\n\r30/30 [==============================] - 0s 0s/sample - loss: 107.9559\n"
     ]
    },
    {
     "name": "stdout",
     "output_type": "stream",
     "text": [
      "Epoch 3272/5000\n"
     ]
    },
    {
     "name": "stdout",
     "output_type": "stream",
     "text": [
      "\r30/30 [==============================] - 0s 333us/sample - loss: 107.9542\n"
     ]
    },
    {
     "name": "stdout",
     "output_type": "stream",
     "text": [
      "Epoch 3273/5000\n\r30/30 [==============================] - 0s 0s/sample - loss: 107.9525\n"
     ]
    },
    {
     "name": "stdout",
     "output_type": "stream",
     "text": [
      "Epoch 3274/5000\n\r30/30 [==============================] - 0s 0s/sample - loss: 107.9509\n"
     ]
    },
    {
     "name": "stdout",
     "output_type": "stream",
     "text": [
      "Epoch 3275/5000\n\r30/30 [==============================] - 0s 0s/sample - loss: 107.9492\n"
     ]
    },
    {
     "name": "stdout",
     "output_type": "stream",
     "text": [
      "Epoch 3276/5000\n"
     ]
    },
    {
     "name": "stdout",
     "output_type": "stream",
     "text": [
      "\r30/30 [==============================] - 0s 333us/sample - loss: 107.9475\n"
     ]
    },
    {
     "name": "stdout",
     "output_type": "stream",
     "text": [
      "Epoch 3277/5000\n\r30/30 [==============================] - 0s 0s/sample - loss: 107.9459\n"
     ]
    },
    {
     "name": "stdout",
     "output_type": "stream",
     "text": [
      "Epoch 3278/5000\n\r30/30 [==============================] - 0s 0s/sample - loss: 107.9442\n"
     ]
    },
    {
     "name": "stdout",
     "output_type": "stream",
     "text": [
      "Epoch 3279/5000\n\r30/30 [==============================] - 0s 0s/sample - loss: 107.9425\n"
     ]
    },
    {
     "name": "stdout",
     "output_type": "stream",
     "text": [
      "Epoch 3280/5000\n\r30/30 [==============================] - 0s 0s/sample - loss: 107.9408\n"
     ]
    },
    {
     "name": "stdout",
     "output_type": "stream",
     "text": [
      "Epoch 3281/5000\n\r30/30 [==============================] - 0s 0s/sample - loss: 107.9392\n"
     ]
    },
    {
     "name": "stdout",
     "output_type": "stream",
     "text": [
      "Epoch 3282/5000\n\r30/30 [==============================] - 0s 0s/sample - loss: 107.9375\n"
     ]
    },
    {
     "name": "stdout",
     "output_type": "stream",
     "text": [
      "Epoch 3283/5000\n\r30/30 [==============================] - 0s 0s/sample - loss: 107.9358\n"
     ]
    },
    {
     "name": "stdout",
     "output_type": "stream",
     "text": [
      "Epoch 3284/5000\n\r30/30 [==============================] - 0s 0s/sample - loss: 107.9342\n"
     ]
    },
    {
     "name": "stdout",
     "output_type": "stream",
     "text": [
      "Epoch 3285/5000\n"
     ]
    },
    {
     "name": "stdout",
     "output_type": "stream",
     "text": [
      "\r30/30 [==============================] - 0s 333us/sample - loss: 107.9325\n"
     ]
    },
    {
     "name": "stdout",
     "output_type": "stream",
     "text": [
      "Epoch 3286/5000\n\r30/30 [==============================] - 0s 0s/sample - loss: 107.9308\n"
     ]
    },
    {
     "name": "stdout",
     "output_type": "stream",
     "text": [
      "Epoch 3287/5000\n\r30/30 [==============================] - 0s 0s/sample - loss: 107.9291\n"
     ]
    },
    {
     "name": "stdout",
     "output_type": "stream",
     "text": [
      "Epoch 3288/5000\n\r30/30 [==============================] - 0s 0s/sample - loss: 107.9274\n"
     ]
    },
    {
     "name": "stdout",
     "output_type": "stream",
     "text": [
      "Epoch 3289/5000\n\r30/30 [==============================] - 0s 0s/sample - loss: 107.9258\n"
     ]
    },
    {
     "name": "stdout",
     "output_type": "stream",
     "text": [
      "Epoch 3290/5000\n\r30/30 [==============================] - 0s 0s/sample - loss: 107.9241\n"
     ]
    },
    {
     "name": "stdout",
     "output_type": "stream",
     "text": [
      "Epoch 3291/5000\n\r30/30 [==============================] - 0s 0s/sample - loss: 107.9224\n"
     ]
    },
    {
     "name": "stdout",
     "output_type": "stream",
     "text": [
      "Epoch 3292/5000\n\r30/30 [==============================] - 0s 0s/sample - loss: 107.9208\n"
     ]
    },
    {
     "name": "stdout",
     "output_type": "stream",
     "text": [
      "Epoch 3293/5000\n\r30/30 [==============================] - 0s 0s/sample - loss: 107.9191\n"
     ]
    },
    {
     "name": "stdout",
     "output_type": "stream",
     "text": [
      "Epoch 3294/5000\n\r30/30 [==============================] - 0s 333us/sample - loss: 107.9174\n"
     ]
    },
    {
     "name": "stdout",
     "output_type": "stream",
     "text": [
      "Epoch 3295/5000\n\r30/30 [==============================] - 0s 0s/sample - loss: 107.9157\n"
     ]
    },
    {
     "name": "stdout",
     "output_type": "stream",
     "text": [
      "Epoch 3296/5000\n\r30/30 [==============================] - 0s 0s/sample - loss: 107.9141\n"
     ]
    },
    {
     "name": "stdout",
     "output_type": "stream",
     "text": [
      "Epoch 3297/5000\n\r30/30 [==============================] - 0s 0s/sample - loss: 107.9124\n"
     ]
    },
    {
     "name": "stdout",
     "output_type": "stream",
     "text": [
      "Epoch 3298/5000\n"
     ]
    },
    {
     "name": "stdout",
     "output_type": "stream",
     "text": [
      "\r30/30 [==============================] - 0s 333us/sample - loss: 107.9107\n"
     ]
    },
    {
     "name": "stdout",
     "output_type": "stream",
     "text": [
      "Epoch 3299/5000\n\r30/30 [==============================] - 0s 0s/sample - loss: 107.9090\n"
     ]
    },
    {
     "name": "stdout",
     "output_type": "stream",
     "text": [
      "Epoch 3300/5000\n\r30/30 [==============================] - 0s 0s/sample - loss: 107.9073\n"
     ]
    },
    {
     "name": "stdout",
     "output_type": "stream",
     "text": [
      "Epoch 3301/5000\n\r30/30 [==============================] - 0s 0s/sample - loss: 107.9057\n"
     ]
    },
    {
     "name": "stdout",
     "output_type": "stream",
     "text": [
      "Epoch 3302/5000\n\r30/30 [==============================] - 0s 0s/sample - loss: 107.9040\n"
     ]
    },
    {
     "name": "stdout",
     "output_type": "stream",
     "text": [
      "Epoch 3303/5000\n\r30/30 [==============================] - 0s 0s/sample - loss: 107.9023\n"
     ]
    },
    {
     "name": "stdout",
     "output_type": "stream",
     "text": [
      "Epoch 3304/5000\n\r30/30 [==============================] - 0s 0s/sample - loss: 107.9006\n"
     ]
    },
    {
     "name": "stdout",
     "output_type": "stream",
     "text": [
      "Epoch 3305/5000\n\r30/30 [==============================] - 0s 0s/sample - loss: 107.8990\n"
     ]
    },
    {
     "name": "stdout",
     "output_type": "stream",
     "text": [
      "Epoch 3306/5000\n\r30/30 [==============================] - 0s 0s/sample - loss: 107.8973\n"
     ]
    },
    {
     "name": "stdout",
     "output_type": "stream",
     "text": [
      "Epoch 3307/5000\n"
     ]
    },
    {
     "name": "stdout",
     "output_type": "stream",
     "text": [
      "\r30/30 [==============================] - 0s 333us/sample - loss: 107.8956\n"
     ]
    },
    {
     "name": "stdout",
     "output_type": "stream",
     "text": [
      "Epoch 3308/5000\n\r30/30 [==============================] - 0s 0s/sample - loss: 107.8940\n"
     ]
    },
    {
     "name": "stdout",
     "output_type": "stream",
     "text": [
      "Epoch 3309/5000\n\r30/30 [==============================] - 0s 0s/sample - loss: 107.8923\n"
     ]
    },
    {
     "name": "stdout",
     "output_type": "stream",
     "text": [
      "Epoch 3310/5000\n\r30/30 [==============================] - 0s 0s/sample - loss: 107.8906\n"
     ]
    },
    {
     "name": "stdout",
     "output_type": "stream",
     "text": [
      "Epoch 3311/5000\n\r30/30 [==============================] - 0s 0s/sample - loss: 107.8889\n"
     ]
    },
    {
     "name": "stdout",
     "output_type": "stream",
     "text": [
      "Epoch 3312/5000\n\r30/30 [==============================] - 0s 0s/sample - loss: 107.8872\n"
     ]
    },
    {
     "name": "stdout",
     "output_type": "stream",
     "text": [
      "Epoch 3313/5000\n\r30/30 [==============================] - 0s 0s/sample - loss: 107.8856\n"
     ]
    },
    {
     "name": "stdout",
     "output_type": "stream",
     "text": [
      "Epoch 3314/5000\n\r30/30 [==============================] - 0s 0s/sample - loss: 107.8839\n"
     ]
    },
    {
     "name": "stdout",
     "output_type": "stream",
     "text": [
      "Epoch 3315/5000\n"
     ]
    },
    {
     "name": "stdout",
     "output_type": "stream",
     "text": [
      "\r30/30 [==============================] - 0s 333us/sample - loss: 107.8822\n"
     ]
    },
    {
     "name": "stdout",
     "output_type": "stream",
     "text": [
      "Epoch 3316/5000\n\r30/30 [==============================] - 0s 0s/sample - loss: 107.8806\n"
     ]
    },
    {
     "name": "stdout",
     "output_type": "stream",
     "text": [
      "Epoch 3317/5000\n\r30/30 [==============================] - 0s 0s/sample - loss: 107.8789\n"
     ]
    },
    {
     "name": "stdout",
     "output_type": "stream",
     "text": [
      "Epoch 3318/5000\n\r30/30 [==============================] - 0s 0s/sample - loss: 107.8772\n"
     ]
    },
    {
     "name": "stdout",
     "output_type": "stream",
     "text": [
      "Epoch 3319/5000\n"
     ]
    },
    {
     "name": "stdout",
     "output_type": "stream",
     "text": [
      "\r30/30 [==============================] - 0s 0s/sample - loss: 107.8755\n"
     ]
    },
    {
     "name": "stdout",
     "output_type": "stream",
     "text": [
      "Epoch 3320/5000\n\r30/30 [==============================] - 0s 0s/sample - loss: 107.8738\n"
     ]
    },
    {
     "name": "stdout",
     "output_type": "stream",
     "text": [
      "Epoch 3321/5000\n\r30/30 [==============================] - 0s 0s/sample - loss: 107.8722\n"
     ]
    },
    {
     "name": "stdout",
     "output_type": "stream",
     "text": [
      "Epoch 3322/5000\n\r30/30 [==============================] - 0s 0s/sample - loss: 107.8705\n"
     ]
    },
    {
     "name": "stdout",
     "output_type": "stream",
     "text": [
      "Epoch 3323/5000\n\r30/30 [==============================] - 0s 0s/sample - loss: 107.8688\n"
     ]
    },
    {
     "name": "stdout",
     "output_type": "stream",
     "text": [
      "Epoch 3324/5000\n\r30/30 [==============================] - 0s 0s/sample - loss: 107.8671\n"
     ]
    },
    {
     "name": "stdout",
     "output_type": "stream",
     "text": [
      "Epoch 3325/5000\n\r30/30 [==============================] - 0s 0s/sample - loss: 107.8655\n"
     ]
    },
    {
     "name": "stdout",
     "output_type": "stream",
     "text": [
      "Epoch 3326/5000\n\r30/30 [==============================] - 0s 0s/sample - loss: 107.8638\n"
     ]
    },
    {
     "name": "stdout",
     "output_type": "stream",
     "text": [
      "Epoch 3327/5000\n\r30/30 [==============================] - 0s 0s/sample - loss: 107.8621\n"
     ]
    },
    {
     "name": "stdout",
     "output_type": "stream",
     "text": [
      "Epoch 3328/5000\n\r30/30 [==============================] - 0s 333us/sample - loss: 107.8604\n"
     ]
    },
    {
     "name": "stdout",
     "output_type": "stream",
     "text": [
      "Epoch 3329/5000\n\r30/30 [==============================] - 0s 0s/sample - loss: 107.8587\n"
     ]
    },
    {
     "name": "stdout",
     "output_type": "stream",
     "text": [
      "Epoch 3330/5000\n\r30/30 [==============================] - 0s 0s/sample - loss: 107.8571\n"
     ]
    },
    {
     "name": "stdout",
     "output_type": "stream",
     "text": [
      "Epoch 3331/5000\n\r30/30 [==============================] - 0s 0s/sample - loss: 107.8554\n"
     ]
    },
    {
     "name": "stdout",
     "output_type": "stream",
     "text": [
      "Epoch 3332/5000\n"
     ]
    },
    {
     "name": "stdout",
     "output_type": "stream",
     "text": [
      "\r30/30 [==============================] - 0s 333us/sample - loss: 107.8537\n"
     ]
    },
    {
     "name": "stdout",
     "output_type": "stream",
     "text": [
      "Epoch 3333/5000\n\r30/30 [==============================] - 0s 0s/sample - loss: 107.8520\n"
     ]
    },
    {
     "name": "stdout",
     "output_type": "stream",
     "text": [
      "Epoch 3334/5000\n\r30/30 [==============================] - 0s 0s/sample - loss: 107.8503\n"
     ]
    },
    {
     "name": "stdout",
     "output_type": "stream",
     "text": [
      "Epoch 3335/5000\n\r30/30 [==============================] - 0s 0s/sample - loss: 107.8487\n"
     ]
    },
    {
     "name": "stdout",
     "output_type": "stream",
     "text": [
      "Epoch 3336/5000\n\r30/30 [==============================] - 0s 0s/sample - loss: 107.8470\n"
     ]
    },
    {
     "name": "stdout",
     "output_type": "stream",
     "text": [
      "Epoch 3337/5000\n\r30/30 [==============================] - 0s 0s/sample - loss: 107.8453\n"
     ]
    },
    {
     "name": "stdout",
     "output_type": "stream",
     "text": [
      "Epoch 3338/5000\n\r30/30 [==============================] - 0s 0s/sample - loss: 107.8436\n"
     ]
    },
    {
     "name": "stdout",
     "output_type": "stream",
     "text": [
      "Epoch 3339/5000\n\r30/30 [==============================] - 0s 0s/sample - loss: 107.8420\n"
     ]
    },
    {
     "name": "stdout",
     "output_type": "stream",
     "text": [
      "Epoch 3340/5000\n\r30/30 [==============================] - 0s 0s/sample - loss: 107.8403\n"
     ]
    },
    {
     "name": "stdout",
     "output_type": "stream",
     "text": [
      "Epoch 3341/5000\n\r30/30 [==============================] - 0s 333us/sample - loss: 107.8386\n"
     ]
    },
    {
     "name": "stdout",
     "output_type": "stream",
     "text": [
      "Epoch 3342/5000\n\r30/30 [==============================] - 0s 0s/sample - loss: 107.8369\n"
     ]
    },
    {
     "name": "stdout",
     "output_type": "stream",
     "text": [
      "Epoch 3343/5000\n\r30/30 [==============================] - 0s 0s/sample - loss: 107.8352\n"
     ]
    },
    {
     "name": "stdout",
     "output_type": "stream",
     "text": [
      "Epoch 3344/5000\n\r30/30 [==============================] - 0s 0s/sample - loss: 107.8335\n"
     ]
    },
    {
     "name": "stdout",
     "output_type": "stream",
     "text": [
      "Epoch 3345/5000\n"
     ]
    },
    {
     "name": "stdout",
     "output_type": "stream",
     "text": [
      "\r30/30 [==============================] - 0s 333us/sample - loss: 107.8319\n"
     ]
    },
    {
     "name": "stdout",
     "output_type": "stream",
     "text": [
      "Epoch 3346/5000\n\r30/30 [==============================] - 0s 0s/sample - loss: 107.8302\n"
     ]
    },
    {
     "name": "stdout",
     "output_type": "stream",
     "text": [
      "Epoch 3347/5000\n\r30/30 [==============================] - 0s 0s/sample - loss: 107.8285\n"
     ]
    },
    {
     "name": "stdout",
     "output_type": "stream",
     "text": [
      "Epoch 3348/5000\n\r30/30 [==============================] - 0s 0s/sample - loss: 107.8268\n"
     ]
    },
    {
     "name": "stdout",
     "output_type": "stream",
     "text": [
      "Epoch 3349/5000\n"
     ]
    },
    {
     "name": "stdout",
     "output_type": "stream",
     "text": [
      "\r30/30 [==============================] - 0s 333us/sample - loss: 107.8252\n"
     ]
    },
    {
     "name": "stdout",
     "output_type": "stream",
     "text": [
      "Epoch 3350/5000\n\r30/30 [==============================] - 0s 0s/sample - loss: 107.8235\n"
     ]
    },
    {
     "name": "stdout",
     "output_type": "stream",
     "text": [
      "Epoch 3351/5000\n\r30/30 [==============================] - 0s 0s/sample - loss: 107.8218\n"
     ]
    },
    {
     "name": "stdout",
     "output_type": "stream",
     "text": [
      "Epoch 3352/5000\n\r30/30 [==============================] - 0s 0s/sample - loss: 107.8201\n"
     ]
    },
    {
     "name": "stdout",
     "output_type": "stream",
     "text": [
      "Epoch 3353/5000\n\r30/30 [==============================] - 0s 0s/sample - loss: 107.8184\n"
     ]
    },
    {
     "name": "stdout",
     "output_type": "stream",
     "text": [
      "Epoch 3354/5000\n\r30/30 [==============================] - 0s 0s/sample - loss: 107.8167\n"
     ]
    },
    {
     "name": "stdout",
     "output_type": "stream",
     "text": [
      "Epoch 3355/5000\n\r30/30 [==============================] - 0s 0s/sample - loss: 107.8150\n"
     ]
    },
    {
     "name": "stdout",
     "output_type": "stream",
     "text": [
      "Epoch 3356/5000\n\r30/30 [==============================] - 0s 0s/sample - loss: 107.8134\n"
     ]
    },
    {
     "name": "stdout",
     "output_type": "stream",
     "text": [
      "Epoch 3357/5000\n\r30/30 [==============================] - 0s 0s/sample - loss: 107.8117\n"
     ]
    },
    {
     "name": "stdout",
     "output_type": "stream",
     "text": [
      "Epoch 3358/5000\n"
     ]
    },
    {
     "name": "stdout",
     "output_type": "stream",
     "text": [
      "\r30/30 [==============================] - 0s 333us/sample - loss: 107.8100\n"
     ]
    },
    {
     "name": "stdout",
     "output_type": "stream",
     "text": [
      "Epoch 3359/5000\n\r30/30 [==============================] - 0s 0s/sample - loss: 107.8083\n"
     ]
    },
    {
     "name": "stdout",
     "output_type": "stream",
     "text": [
      "Epoch 3360/5000\n\r30/30 [==============================] - 0s 0s/sample - loss: 107.8066\n"
     ]
    },
    {
     "name": "stdout",
     "output_type": "stream",
     "text": [
      "Epoch 3361/5000\n\r30/30 [==============================] - 0s 0s/sample - loss: 107.8049\n"
     ]
    },
    {
     "name": "stdout",
     "output_type": "stream",
     "text": [
      "Epoch 3362/5000\n\r30/30 [==============================] - 0s 333us/sample - loss: 107.8032\n"
     ]
    },
    {
     "name": "stdout",
     "output_type": "stream",
     "text": [
      "Epoch 3363/5000\n\r30/30 [==============================] - 0s 0s/sample - loss: 107.8016\n"
     ]
    },
    {
     "name": "stdout",
     "output_type": "stream",
     "text": [
      "Epoch 3364/5000\n\r30/30 [==============================] - 0s 0s/sample - loss: 107.7999\n"
     ]
    },
    {
     "name": "stdout",
     "output_type": "stream",
     "text": [
      "Epoch 3365/5000\n\r30/30 [==============================] - 0s 0s/sample - loss: 107.7982\n"
     ]
    },
    {
     "name": "stdout",
     "output_type": "stream",
     "text": [
      "Epoch 3366/5000"
     ]
    },
    {
     "name": "stdout",
     "output_type": "stream",
     "text": [
      "\n\r30/30 [==============================] - 0s 333us/sample - loss: 107.7965\n"
     ]
    },
    {
     "name": "stdout",
     "output_type": "stream",
     "text": [
      "Epoch 3367/5000\n\r30/30 [==============================] - 0s 0s/sample - loss: 107.7948\n"
     ]
    },
    {
     "name": "stdout",
     "output_type": "stream",
     "text": [
      "Epoch 3368/5000\n\r30/30 [==============================] - 0s 0s/sample - loss: 107.7931\n"
     ]
    },
    {
     "name": "stdout",
     "output_type": "stream",
     "text": [
      "Epoch 3369/5000\n\r30/30 [==============================] - 0s 0s/sample - loss: 107.7915\n"
     ]
    },
    {
     "name": "stdout",
     "output_type": "stream",
     "text": [
      "Epoch 3370/5000\n"
     ]
    },
    {
     "name": "stdout",
     "output_type": "stream",
     "text": [
      "\r30/30 [==============================] - 0s 333us/sample - loss: 107.7898\n"
     ]
    },
    {
     "name": "stdout",
     "output_type": "stream",
     "text": [
      "Epoch 3371/5000\n\r30/30 [==============================] - 0s 0s/sample - loss: 107.7881\n"
     ]
    },
    {
     "name": "stdout",
     "output_type": "stream",
     "text": [
      "Epoch 3372/5000\n\r30/30 [==============================] - 0s 0s/sample - loss: 107.7864\n"
     ]
    },
    {
     "name": "stdout",
     "output_type": "stream",
     "text": [
      "Epoch 3373/5000\n\r30/30 [==============================] - 0s 0s/sample - loss: 107.7847\n"
     ]
    },
    {
     "name": "stdout",
     "output_type": "stream",
     "text": [
      "Epoch 3374/5000\n\r30/30 [==============================] - 0s 0s/sample - loss: 107.7830\n"
     ]
    },
    {
     "name": "stdout",
     "output_type": "stream",
     "text": [
      "Epoch 3375/5000\n\r30/30 [==============================] - 0s 0s/sample - loss: 107.7813\n"
     ]
    },
    {
     "name": "stdout",
     "output_type": "stream",
     "text": [
      "Epoch 3376/5000\n\r30/30 [==============================] - 0s 0s/sample - loss: 107.7797\n"
     ]
    },
    {
     "name": "stdout",
     "output_type": "stream",
     "text": [
      "Epoch 3377/5000\n\r30/30 [==============================] - 0s 0s/sample - loss: 107.7780\n"
     ]
    },
    {
     "name": "stdout",
     "output_type": "stream",
     "text": [
      "Epoch 3378/5000\n\r30/30 [==============================] - 0s 0s/sample - loss: 107.7763\n"
     ]
    },
    {
     "name": "stdout",
     "output_type": "stream",
     "text": [
      "Epoch 3379/5000\n\r30/30 [==============================] - 0s 333us/sample - loss: 107.7746\n"
     ]
    },
    {
     "name": "stdout",
     "output_type": "stream",
     "text": [
      "Epoch 3380/5000\n\r30/30 [==============================] - 0s 0s/sample - loss: 107.7729\n"
     ]
    },
    {
     "name": "stdout",
     "output_type": "stream",
     "text": [
      "Epoch 3381/5000\n\r30/30 [==============================] - 0s 0s/sample - loss: 107.7712\n"
     ]
    },
    {
     "name": "stdout",
     "output_type": "stream",
     "text": [
      "Epoch 3382/5000\n\r30/30 [==============================] - 0s 0s/sample - loss: 107.7695\n"
     ]
    },
    {
     "name": "stdout",
     "output_type": "stream",
     "text": [
      "Epoch 3383/5000\n\r30/30 [==============================] - 0s 0s/sample - loss: 107.7678\n"
     ]
    },
    {
     "name": "stdout",
     "output_type": "stream",
     "text": [
      "Epoch 3384/5000\n\r30/30 [==============================] - 0s 0s/sample - loss: 107.7661\n"
     ]
    },
    {
     "name": "stdout",
     "output_type": "stream",
     "text": [
      "Epoch 3385/5000\n\r30/30 [==============================] - 0s 0s/sample - loss: 107.7644\n"
     ]
    },
    {
     "name": "stdout",
     "output_type": "stream",
     "text": [
      "Epoch 3386/5000\n\r30/30 [==============================] - 0s 0s/sample - loss: 107.7627\n"
     ]
    },
    {
     "name": "stdout",
     "output_type": "stream",
     "text": [
      "Epoch 3387/5000\n\r30/30 [==============================] - 0s 333us/sample - loss: 107.7611\n"
     ]
    },
    {
     "name": "stdout",
     "output_type": "stream",
     "text": [
      "Epoch 3388/5000\n\r30/30 [==============================] - 0s 0s/sample - loss: 107.7594\n"
     ]
    },
    {
     "name": "stdout",
     "output_type": "stream",
     "text": [
      "Epoch 3389/5000\n\r30/30 [==============================] - 0s 0s/sample - loss: 107.7577\n"
     ]
    },
    {
     "name": "stdout",
     "output_type": "stream",
     "text": [
      "Epoch 3390/5000\n\r30/30 [==============================] - 0s 0s/sample - loss: 107.7560\n"
     ]
    },
    {
     "name": "stdout",
     "output_type": "stream",
     "text": [
      "Epoch 3391/5000\n"
     ]
    },
    {
     "name": "stdout",
     "output_type": "stream",
     "text": [
      "\r30/30 [==============================] - 0s 333us/sample - loss: 107.7543\n"
     ]
    },
    {
     "name": "stdout",
     "output_type": "stream",
     "text": [
      "Epoch 3392/5000\n\r30/30 [==============================] - 0s 0s/sample - loss: 107.7526\n"
     ]
    },
    {
     "name": "stdout",
     "output_type": "stream",
     "text": [
      "Epoch 3393/5000\n\r30/30 [==============================] - 0s 0s/sample - loss: 107.7509\n"
     ]
    },
    {
     "name": "stdout",
     "output_type": "stream",
     "text": [
      "Epoch 3394/5000\n\r30/30 [==============================] - 0s 0s/sample - loss: 107.7492\n"
     ]
    },
    {
     "name": "stdout",
     "output_type": "stream",
     "text": [
      "Epoch 3395/5000\n\r30/30 [==============================] - 0s 0s/sample - loss: 107.7475\n"
     ]
    },
    {
     "name": "stdout",
     "output_type": "stream",
     "text": [
      "Epoch 3396/5000\n\r30/30 [==============================] - 0s 0s/sample - loss: 107.7458\n"
     ]
    },
    {
     "name": "stdout",
     "output_type": "stream",
     "text": [
      "Epoch 3397/5000\n\r30/30 [==============================] - 0s 0s/sample - loss: 107.7441\n"
     ]
    },
    {
     "name": "stdout",
     "output_type": "stream",
     "text": [
      "Epoch 3398/5000\n\r30/30 [==============================] - 0s 0s/sample - loss: 107.7424\n"
     ]
    },
    {
     "name": "stdout",
     "output_type": "stream",
     "text": [
      "Epoch 3399/5000\n\r30/30 [==============================] - 0s 0s/sample - loss: 107.7407\n"
     ]
    },
    {
     "name": "stdout",
     "output_type": "stream",
     "text": [
      "Epoch 3400/5000\n"
     ]
    },
    {
     "name": "stdout",
     "output_type": "stream",
     "text": [
      "\r30/30 [==============================] - 0s 333us/sample - loss: 107.7390\n"
     ]
    },
    {
     "name": "stdout",
     "output_type": "stream",
     "text": [
      "Epoch 3401/5000\n\r30/30 [==============================] - 0s 0s/sample - loss: 107.7373\n"
     ]
    },
    {
     "name": "stdout",
     "output_type": "stream",
     "text": [
      "Epoch 3402/5000\n\r30/30 [==============================] - 0s 0s/sample - loss: 107.7356\n"
     ]
    },
    {
     "name": "stdout",
     "output_type": "stream",
     "text": [
      "Epoch 3403/5000\n\r30/30 [==============================] - 0s 0s/sample - loss: 107.7339\n"
     ]
    },
    {
     "name": "stdout",
     "output_type": "stream",
     "text": [
      "Epoch 3404/5000\n\r30/30 [==============================] - 0s 333us/sample - loss: 107.7322\n"
     ]
    },
    {
     "name": "stdout",
     "output_type": "stream",
     "text": [
      "Epoch 3405/5000\n\r30/30 [==============================] - 0s 0s/sample - loss: 107.7306\n"
     ]
    },
    {
     "name": "stdout",
     "output_type": "stream",
     "text": [
      "Epoch 3406/5000\n\r30/30 [==============================] - 0s 0s/sample - loss: 107.7289\n"
     ]
    },
    {
     "name": "stdout",
     "output_type": "stream",
     "text": [
      "Epoch 3407/5000\n\r30/30 [==============================] - 0s 0s/sample - loss: 107.7271\n"
     ]
    },
    {
     "name": "stdout",
     "output_type": "stream",
     "text": [
      "Epoch 3408/5000\n\r30/30 [==============================] - 0s 0s/sample - loss: 107.7254\n"
     ]
    },
    {
     "name": "stdout",
     "output_type": "stream",
     "text": [
      "Epoch 3409/5000\n\r30/30 [==============================] - 0s 333us/sample - loss: 107.7237\n"
     ]
    },
    {
     "name": "stdout",
     "output_type": "stream",
     "text": [
      "Epoch 3410/5000\n\r30/30 [==============================] - 0s 0s/sample - loss: 107.7220\n"
     ]
    },
    {
     "name": "stdout",
     "output_type": "stream",
     "text": [
      "Epoch 3411/5000\n\r30/30 [==============================] - 0s 0s/sample - loss: 107.7203\n"
     ]
    },
    {
     "name": "stdout",
     "output_type": "stream",
     "text": [
      "Epoch 3412/5000\n\r30/30 [==============================] - 0s 0s/sample - loss: 107.7186\n"
     ]
    },
    {
     "name": "stdout",
     "output_type": "stream",
     "text": [
      "Epoch 3413/5000\n"
     ]
    },
    {
     "name": "stdout",
     "output_type": "stream",
     "text": [
      "\r30/30 [==============================] - 0s 333us/sample - loss: 107.7169\n"
     ]
    },
    {
     "name": "stdout",
     "output_type": "stream",
     "text": [
      "Epoch 3414/5000\n\r30/30 [==============================] - 0s 0s/sample - loss: 107.7153\n"
     ]
    },
    {
     "name": "stdout",
     "output_type": "stream",
     "text": [
      "Epoch 3415/5000\n\r30/30 [==============================] - 0s 0s/sample - loss: 107.7135\n"
     ]
    },
    {
     "name": "stdout",
     "output_type": "stream",
     "text": [
      "Epoch 3416/5000\n\r30/30 [==============================] - 0s 0s/sample - loss: 107.7118\n"
     ]
    },
    {
     "name": "stdout",
     "output_type": "stream",
     "text": [
      "Epoch 3417/5000\n"
     ]
    },
    {
     "name": "stdout",
     "output_type": "stream",
     "text": [
      "\r30/30 [==============================] - 0s 0s/sample - loss: 107.7102\n"
     ]
    },
    {
     "name": "stdout",
     "output_type": "stream",
     "text": [
      "Epoch 3418/5000\n\r30/30 [==============================] - 0s 0s/sample - loss: 107.7085\n"
     ]
    },
    {
     "name": "stdout",
     "output_type": "stream",
     "text": [
      "Epoch 3419/5000\n\r30/30 [==============================] - 0s 0s/sample - loss: 107.7067\n"
     ]
    },
    {
     "name": "stdout",
     "output_type": "stream",
     "text": [
      "Epoch 3420/5000\n\r30/30 [==============================] - 0s 0s/sample - loss: 107.7050\n"
     ]
    },
    {
     "name": "stdout",
     "output_type": "stream",
     "text": [
      "Epoch 3421/5000\n\r30/30 [==============================] - 0s 333us/sample - loss: 107.7033\n"
     ]
    },
    {
     "name": "stdout",
     "output_type": "stream",
     "text": [
      "Epoch 3422/5000\n\r30/30 [==============================] - 0s 0s/sample - loss: 107.7016\n"
     ]
    },
    {
     "name": "stdout",
     "output_type": "stream",
     "text": [
      "Epoch 3423/5000\n\r30/30 [==============================] - 0s 0s/sample - loss: 107.6999\n"
     ]
    },
    {
     "name": "stdout",
     "output_type": "stream",
     "text": [
      "Epoch 3424/5000\n\r30/30 [==============================] - 0s 0s/sample - loss: 107.6982\n"
     ]
    },
    {
     "name": "stdout",
     "output_type": "stream",
     "text": [
      "Epoch 3425/5000\n\r30/30 [==============================] - 0s 0s/sample - loss: 107.6965\n"
     ]
    },
    {
     "name": "stdout",
     "output_type": "stream",
     "text": [
      "Epoch 3426/5000\n"
     ]
    },
    {
     "name": "stdout",
     "output_type": "stream",
     "text": [
      "\r30/30 [==============================] - 0s 333us/sample - loss: 107.6948\n"
     ]
    },
    {
     "name": "stdout",
     "output_type": "stream",
     "text": [
      "Epoch 3427/5000\n\r30/30 [==============================] - 0s 0s/sample - loss: 107.6931\n"
     ]
    },
    {
     "name": "stdout",
     "output_type": "stream",
     "text": [
      "Epoch 3428/5000\n\r30/30 [==============================] - 0s 0s/sample - loss: 107.6914\n"
     ]
    },
    {
     "name": "stdout",
     "output_type": "stream",
     "text": [
      "Epoch 3429/5000\n\r30/30 [==============================] - 0s 0s/sample - loss: 107.6897\n"
     ]
    },
    {
     "name": "stdout",
     "output_type": "stream",
     "text": [
      "Epoch 3430/5000\n\r30/30 [==============================] - 0s 0s/sample - loss: 107.6880\n"
     ]
    },
    {
     "name": "stdout",
     "output_type": "stream",
     "text": [
      "Epoch 3431/5000\n\r30/30 [==============================] - 0s 0s/sample - loss: 107.6863\n"
     ]
    },
    {
     "name": "stdout",
     "output_type": "stream",
     "text": [
      "Epoch 3432/5000\n\r30/30 [==============================] - 0s 0s/sample - loss: 107.6846\n"
     ]
    },
    {
     "name": "stdout",
     "output_type": "stream",
     "text": [
      "Epoch 3433/5000\n\r30/30 [==============================] - 0s 0s/sample - loss: 107.6829\n"
     ]
    },
    {
     "name": "stdout",
     "output_type": "stream",
     "text": [
      "Epoch 3434/5000\n\r30/30 [==============================] - 0s 0s/sample - loss: 107.6811\n"
     ]
    },
    {
     "name": "stdout",
     "output_type": "stream",
     "text": [
      "Epoch 3435/5000"
     ]
    },
    {
     "name": "stdout",
     "output_type": "stream",
     "text": [
      "\n\r30/30 [==============================] - 0s 333us/sample - loss: 107.6794\n"
     ]
    },
    {
     "name": "stdout",
     "output_type": "stream",
     "text": [
      "Epoch 3436/5000\n\r30/30 [==============================] - 0s 0s/sample - loss: 107.6777\n"
     ]
    },
    {
     "name": "stdout",
     "output_type": "stream",
     "text": [
      "Epoch 3437/5000\n\r30/30 [==============================] - 0s 0s/sample - loss: 107.6760\n"
     ]
    },
    {
     "name": "stdout",
     "output_type": "stream",
     "text": [
      "Epoch 3438/5000\n\r30/30 [==============================] - 0s 0s/sample - loss: 107.6743\n"
     ]
    },
    {
     "name": "stdout",
     "output_type": "stream",
     "text": [
      "Epoch 3439/5000\n\r30/30 [==============================] - 0s 333us/sample - loss: 107.6726\n"
     ]
    },
    {
     "name": "stdout",
     "output_type": "stream",
     "text": [
      "Epoch 3440/5000\n\r30/30 [==============================] - 0s 0s/sample - loss: 107.6709\n"
     ]
    },
    {
     "name": "stdout",
     "output_type": "stream",
     "text": [
      "Epoch 3441/5000\n\r30/30 [==============================] - 0s 0s/sample - loss: 107.6692\n"
     ]
    },
    {
     "name": "stdout",
     "output_type": "stream",
     "text": [
      "Epoch 3442/5000\n\r30/30 [==============================] - 0s 0s/sample - loss: 107.6675\n"
     ]
    },
    {
     "name": "stdout",
     "output_type": "stream",
     "text": [
      "Epoch 3443/5000\n"
     ]
    },
    {
     "name": "stdout",
     "output_type": "stream",
     "text": [
      "\r30/30 [==============================] - 0s 333us/sample - loss: 107.6658\n"
     ]
    },
    {
     "name": "stdout",
     "output_type": "stream",
     "text": [
      "Epoch 3444/5000\n\r30/30 [==============================] - 0s 0s/sample - loss: 107.6640\n"
     ]
    },
    {
     "name": "stdout",
     "output_type": "stream",
     "text": [
      "Epoch 3445/5000\n\r30/30 [==============================] - 0s 0s/sample - loss: 107.6623\n"
     ]
    },
    {
     "name": "stdout",
     "output_type": "stream",
     "text": [
      "Epoch 3446/5000\n\r30/30 [==============================] - 0s 0s/sample - loss: 107.6606\n"
     ]
    },
    {
     "name": "stdout",
     "output_type": "stream",
     "text": [
      "Epoch 3447/5000\n\r30/30 [==============================] - 0s 0s/sample - loss: 107.6589\n"
     ]
    },
    {
     "name": "stdout",
     "output_type": "stream",
     "text": [
      "Epoch 3448/5000\n\r30/30 [==============================] - 0s 0s/sample - loss: 107.6572\n"
     ]
    },
    {
     "name": "stdout",
     "output_type": "stream",
     "text": [
      "Epoch 3449/5000\n\r30/30 [==============================] - 0s 0s/sample - loss: 107.6554\n"
     ]
    },
    {
     "name": "stdout",
     "output_type": "stream",
     "text": [
      "Epoch 3450/5000\n\r30/30 [==============================] - 0s 0s/sample - loss: 107.6537\n"
     ]
    },
    {
     "name": "stdout",
     "output_type": "stream",
     "text": [
      "Epoch 3451/5000\n\r30/30 [==============================] - 0s 0s/sample - loss: 107.6520\n"
     ]
    },
    {
     "name": "stdout",
     "output_type": "stream",
     "text": [
      "Epoch 3452/5000\n\r30/30 [==============================] - 0s 333us/sample - loss: 107.6503\n"
     ]
    },
    {
     "name": "stdout",
     "output_type": "stream",
     "text": [
      "Epoch 3453/5000\n\r30/30 [==============================] - 0s 0s/sample - loss: 107.6486\n"
     ]
    },
    {
     "name": "stdout",
     "output_type": "stream",
     "text": [
      "Epoch 3454/5000\n\r30/30 [==============================] - 0s 0s/sample - loss: 107.6469\n"
     ]
    },
    {
     "name": "stdout",
     "output_type": "stream",
     "text": [
      "Epoch 3455/5000\n\r30/30 [==============================] - 0s 0s/sample - loss: 107.6452\n"
     ]
    },
    {
     "name": "stdout",
     "output_type": "stream",
     "text": [
      "Epoch 3456/5000\n\r30/30 [==============================] - 0s 333us/sample - loss: 107.6434\n"
     ]
    },
    {
     "name": "stdout",
     "output_type": "stream",
     "text": [
      "Epoch 3457/5000\n\r30/30 [==============================] - 0s 0s/sample - loss: 107.6417\n"
     ]
    },
    {
     "name": "stdout",
     "output_type": "stream",
     "text": [
      "Epoch 3458/5000\n\r30/30 [==============================] - 0s 0s/sample - loss: 107.6400\n"
     ]
    },
    {
     "name": "stdout",
     "output_type": "stream",
     "text": [
      "Epoch 3459/5000\n\r30/30 [==============================] - 0s 0s/sample - loss: 107.6383\n"
     ]
    },
    {
     "name": "stdout",
     "output_type": "stream",
     "text": [
      "Epoch 3460/5000\n"
     ]
    },
    {
     "name": "stdout",
     "output_type": "stream",
     "text": [
      "\r30/30 [==============================] - 0s 333us/sample - loss: 107.6366\n"
     ]
    },
    {
     "name": "stdout",
     "output_type": "stream",
     "text": [
      "Epoch 3461/5000\n\r30/30 [==============================] - 0s 0s/sample - loss: 107.6348\n"
     ]
    },
    {
     "name": "stdout",
     "output_type": "stream",
     "text": [
      "Epoch 3462/5000\n\r30/30 [==============================] - 0s 0s/sample - loss: 107.6331\n"
     ]
    },
    {
     "name": "stdout",
     "output_type": "stream",
     "text": [
      "Epoch 3463/5000\n\r30/30 [==============================] - 0s 0s/sample - loss: 107.6314\n"
     ]
    },
    {
     "name": "stdout",
     "output_type": "stream",
     "text": [
      "Epoch 3464/5000\n\r30/30 [==============================] - 0s 0s/sample - loss: 107.6297\n"
     ]
    },
    {
     "name": "stdout",
     "output_type": "stream",
     "text": [
      "Epoch 3465/5000\n\r30/30 [==============================] - 0s 333us/sample - loss: 107.6280\n"
     ]
    },
    {
     "name": "stdout",
     "output_type": "stream",
     "text": [
      "Epoch 3466/5000\n\r30/30 [==============================] - 0s 0s/sample - loss: 107.6262\n"
     ]
    },
    {
     "name": "stdout",
     "output_type": "stream",
     "text": [
      "Epoch 3467/5000\n\r30/30 [==============================] - 0s 0s/sample - loss: 107.6245\n"
     ]
    },
    {
     "name": "stdout",
     "output_type": "stream",
     "text": [
      "Epoch 3468/5000\n\r30/30 [==============================] - 0s 0s/sample - loss: 107.6228\n"
     ]
    },
    {
     "name": "stdout",
     "output_type": "stream",
     "text": [
      "Epoch 3469/5000\n"
     ]
    },
    {
     "name": "stdout",
     "output_type": "stream",
     "text": [
      "\r30/30 [==============================] - 0s 333us/sample - loss: 107.6210\n"
     ]
    },
    {
     "name": "stdout",
     "output_type": "stream",
     "text": [
      "Epoch 3470/5000\n\r30/30 [==============================] - 0s 0s/sample - loss: 107.6193\n"
     ]
    },
    {
     "name": "stdout",
     "output_type": "stream",
     "text": [
      "Epoch 3471/5000\n\r30/30 [==============================] - 0s 0s/sample - loss: 107.6176\n"
     ]
    },
    {
     "name": "stdout",
     "output_type": "stream",
     "text": [
      "Epoch 3472/5000\n\r30/30 [==============================] - 0s 0s/sample - loss: 107.6159\n"
     ]
    },
    {
     "name": "stdout",
     "output_type": "stream",
     "text": [
      "Epoch 3473/5000\n"
     ]
    },
    {
     "name": "stdout",
     "output_type": "stream",
     "text": [
      "\r30/30 [==============================] - 0s 333us/sample - loss: 107.6142\n"
     ]
    },
    {
     "name": "stdout",
     "output_type": "stream",
     "text": [
      "Epoch 3474/5000\n\r30/30 [==============================] - 0s 0s/sample - loss: 107.6124\n"
     ]
    },
    {
     "name": "stdout",
     "output_type": "stream",
     "text": [
      "Epoch 3475/5000\n\r30/30 [==============================] - 0s 0s/sample - loss: 107.6107\n"
     ]
    }
   ],
   "source": [
    "history = model.fit(x, y, epochs=5000)"
   ]
  },
  {
   "cell_type": "code",
   "execution_count": 1,
   "metadata": {},
   "outputs": [
    {
     "ename": "NameError",
     "evalue": "name 'model' is not defined",
     "traceback": [
      "\u001b[1;31m---------------------------------------------------------------------------\u001b[0m",
      "\u001b[1;31mNameError\u001b[0m                                 Traceback (most recent call last)",
      "\u001b[1;32m<ipython-input-1-a79d3ec65036>\u001b[0m in \u001b[0;36m<module>\u001b[1;34m()\u001b[0m\n\u001b[1;32m----> 1\u001b[1;33m \u001b[0mmodel\u001b[0m\u001b[1;33m.\u001b[0m\u001b[0mpredict\u001b[0m\u001b[1;33m(\u001b[0m\u001b[0mpd\u001b[0m\u001b[1;33m.\u001b[0m\u001b[0mSeries\u001b[0m\u001b[1;33m(\u001b[0m\u001b[1;33m[\u001b[0m\u001b[1;36m20\u001b[0m\u001b[1;33m]\u001b[0m\u001b[1;33m)\u001b[0m\u001b[1;33m)\u001b[0m\u001b[1;33m\u001b[0m\u001b[0m\n\u001b[0m",
      "\u001b[1;31mNameError\u001b[0m: name 'model' is not defined"
     ],
     "output_type": "error"
    }
   ],
   "source": [
    "model.predict(pd.Series([20]))"
   ]
  },
  {
   "cell_type": "code",
   "execution_count": null,
   "metadata": {},
   "outputs": [],
   "source": []
  }
 ],
 "metadata": {
  "kernelspec": {
   "display_name": "Python 3",
   "language": "python",
   "name": "python3"
  },
  "language_info": {
   "codemirror_mode": {
    "name": "ipython",
    "version": 3
   },
   "file_extension": ".py",
   "mimetype": "text/x-python",
   "name": "python",
   "nbconvert_exporter": "python",
   "pygments_lexer": "ipython3",
   "version": "3.6.3"
  }
 },
 "nbformat": 4,
 "nbformat_minor": 2
}
